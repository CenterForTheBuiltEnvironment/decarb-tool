{
 "cells": [
  {
   "cell_type": "code",
   "execution_count": 1,
   "id": "5e7104c2",
   "metadata": {},
   "outputs": [],
   "source": [
    "import pandas as pd\n",
    "import json\n",
    "\n",
    "from utils.plotly_theme import *"
   ]
  },
  {
   "cell_type": "code",
   "execution_count": 2,
   "id": "80df8957",
   "metadata": {},
   "outputs": [
    {
     "name": "stdout",
     "output_type": "stream",
     "text": [
      "['hr_heat_pump', 'resistance_heater', 'boiler', 'chiller', 'heat_pump']\n"
     ]
    }
   ],
   "source": [
    "import json\n",
    "\n",
    "with open(\"data/input/equipment_data.json\", \"r\") as f:\n",
    "    data = json.load(f)\n",
    "    eq_types = [item[\"eq_type\"] for item in data[\"equipment\"]]\n",
    "\n",
    "equipment_types = list(set(eq_types))\n",
    "print(equipment_types)"
   ]
  },
  {
   "cell_type": "code",
   "execution_count": 3,
   "id": "7f925c73",
   "metadata": {},
   "outputs": [
    {
     "name": "stdout",
     "output_type": "stream",
     "text": [
      "[3.74]\n"
     ]
    }
   ],
   "source": [
    "# test interpolation\n",
    "\n",
    "from utils.interp import interp_vector\n",
    "\n",
    "fp = [3.815, 3.955, 4.133, 3.74] # cop\n",
    "xp = [1465000, 1098750, 732500, 366250] # cap\n",
    "x = [1465200]\n",
    "print(interp_vector(xp, fp, x))"
   ]
  },
  {
   "cell_type": "code",
   "execution_count": 4,
   "id": "e50ee6a9",
   "metadata": {},
   "outputs": [
    {
     "name": "stdout",
     "output_type": "stream",
     "text": [
      "2025\n"
     ]
    }
   ],
   "source": [
    "# Example usage of the decarb-tool\n",
    "\n",
    "from src.metadata import Metadata, EmissionScenario\n",
    "from utils.inputs import get_city_and_zone\n",
    "\n",
    "# Load location data\n",
    "location_data = pd.read_csv(\"data/input/locations.csv\")\n",
    "zip_code = \"11229\" # Brooklyn, NY -> will be replaced by user input from UI (search by zip-code or city name)\n",
    "locations = get_city_and_zone(zip_code, location_data)\n",
    "\n",
    "# Based on zip-code, SET location, climate_zone, time_zone\n",
    "location = locations.city\n",
    "ashrae_climate_zone = locations.ashrae_climate_zone\n",
    "time_zone = locations.time_zone\n",
    "\n",
    "# Set building type, building vintage, load type and equipment via equipment scenario -> eventually replaced by user input from UI\n",
    "building_type = \"Hospital\"\n",
    "vintage = 2004\n",
    "load_type = \"load_simulated\"\n",
    "equipment_scenarios = [\"baseline_01\", \"decarb_01\", \"typ_01\", \"typ_02\"] # list of equipment scenarios to compare\n",
    "\n",
    "settings = Metadata.create(\n",
    "    location=location,\n",
    "    ashrae_climate_zone=ashrae_climate_zone,\n",
    "    time_zone=time_zone,\n",
    "    building_type=building_type,\n",
    "    vintage=vintage,\n",
    "    load_type=load_type,\n",
    "    equipment_scenarios=equipment_scenarios,\n",
    ")\n",
    "\n",
    "scenario = settings.get_emission_scenario(\"default_scenario_01\")\n",
    "print(scenario.year)"
   ]
  },
  {
   "cell_type": "code",
   "execution_count": 5,
   "id": "bf396754",
   "metadata": {},
   "outputs": [
    {
     "data": {
      "text/plain": [
       "{'location': 'New York',\n",
       " 'building_type': 'Hospital',\n",
       " 'vintage': 2004,\n",
       " 'load_type': 'load_simulated',\n",
       " 'ashrae_climate_zone': '4A',\n",
       " 'equipment_scenarios': ['baseline_01', 'decarb_01', 'typ_01', 'typ_02'],\n",
       " 'emission_settings': [{'em_scen_id': 'default_scenario_01',\n",
       "   'grid_scenario': 'MidCase',\n",
       "   'gea_grid_region': 'CAISO',\n",
       "   'time_zone': 'America/Los_Angeles',\n",
       "   'emission_type': 'Combustion only',\n",
       "   'shortrun_weighting': 1.0,\n",
       "   'year': 2025}],\n",
       " 'units': 'SI',\n",
       " 'last_updated': '2025-09-25T01:36:50.793040'}"
      ]
     },
     "execution_count": 5,
     "metadata": {},
     "output_type": "execute_result"
    }
   ],
   "source": [
    "settings.model_dump()"
   ]
  },
  {
   "cell_type": "code",
   "execution_count": 6,
   "id": "6470348c",
   "metadata": {},
   "outputs": [
    {
     "data": {
      "text/plain": [
       "{'equipment': [{'eq_id': 'hr01',\n",
       "   'eq_type': 'hr_heat_pump',\n",
       "   'eq_subtype': 'water_to_water',\n",
       "   'eq_manufacturer': None,\n",
       "   'model': 'GenericHR_WWHP',\n",
       "   'fuel': 'electricity',\n",
       "   'capacity_W': None,\n",
       "   'performance': {'cop_curve': None,\n",
       "    'cap_curve': None,\n",
       "    'plr_curve': {'capacity_W': [146500.0, 109875.0, 73250.0, 36625.0],\n",
       "     'cop': [3.815, 3.955, 4.133, 3.74]},\n",
       "    'efficiency': None,\n",
       "    'constraints': None},\n",
       "   'emissions': None},\n",
       "  {'eq_id': 'hr02',\n",
       "   'eq_type': 'hr_heat_pump',\n",
       "   'eq_subtype': 'water_to_water_scroll',\n",
       "   'eq_manufacturer': None,\n",
       "   'model': 'IMC-WWHP-30Ton-120HHWST',\n",
       "   'fuel': 'electricity',\n",
       "   'capacity_W': None,\n",
       "   'performance': {'cop_curve': None,\n",
       "    'cap_curve': None,\n",
       "    'plr_curve': {'capacity_W': [105500.0, 50000.0], 'cop': [3.68, 4.2]},\n",
       "    'efficiency': None,\n",
       "    'constraints': None},\n",
       "   'emissions': None},\n",
       "  {'eq_id': 'hr03',\n",
       "   'eq_type': 'hr_heat_pump',\n",
       "   'eq_subtype': 'water_to_water_scroll',\n",
       "   'eq_manufacturer': None,\n",
       "   'model': 'IMC-WWHP-30Ton-140HHWST',\n",
       "   'fuel': 'electricity',\n",
       "   'capacity_W': None,\n",
       "   'performance': {'cop_curve': None,\n",
       "    'cap_curve': None,\n",
       "    'plr_curve': {'capacity_W': [105500.0, 50000.0], 'cop': [2.68, 3.3]},\n",
       "    'efficiency': None,\n",
       "    'constraints': None},\n",
       "   'emissions': None},\n",
       "  {'eq_id': 'hr04',\n",
       "   'eq_type': 'hr_heat_pump',\n",
       "   'eq_subtype': 'water_to_water_scroll',\n",
       "   'eq_manufacturer': None,\n",
       "   'model': 'IMC-WWHP-60Ton-120HHWST',\n",
       "   'fuel': 'electricity',\n",
       "   'capacity_W': None,\n",
       "   'performance': {'cop_curve': None,\n",
       "    'cap_curve': None,\n",
       "    'plr_curve': {'capacity_W': [211000.0, 100000.0], 'cop': [3.68, 4.2]},\n",
       "    'efficiency': None,\n",
       "    'constraints': None},\n",
       "   'emissions': None},\n",
       "  {'eq_id': 'hr05',\n",
       "   'eq_type': 'hr_heat_pump',\n",
       "   'eq_subtype': 'water_to_water_scroll',\n",
       "   'eq_manufacturer': None,\n",
       "   'model': 'IMC-WWHP-60Ton-140HHWST',\n",
       "   'fuel': 'electricity',\n",
       "   'capacity_W': None,\n",
       "   'performance': {'cop_curve': None,\n",
       "    'cap_curve': None,\n",
       "    'plr_curve': {'capacity_W': [211000.0, 100000.0], 'cop': [2.68, 3.3]},\n",
       "    'efficiency': None,\n",
       "    'constraints': None},\n",
       "   'emissions': None},\n",
       "  {'eq_id': 'hr06',\n",
       "   'eq_type': 'hr_heat_pump',\n",
       "   'eq_subtype': 'water_to_water_centrifugal',\n",
       "   'eq_manufacturer': None,\n",
       "   'model': 'IMC-WWHP-250Ton-120HHWST',\n",
       "   'fuel': 'electricity',\n",
       "   'capacity_W': None,\n",
       "   'performance': {'cop_curve': None,\n",
       "    'cap_curve': None,\n",
       "    'plr_curve': {'capacity_W': [879250.0, 700000.0, 500000.0, 300000.0],\n",
       "     'cop': [3.68, 3.9, 4.3, 4.5]},\n",
       "    'efficiency': None,\n",
       "    'constraints': None},\n",
       "   'emissions': None},\n",
       "  {'eq_id': 'hr07',\n",
       "   'eq_type': 'hr_heat_pump',\n",
       "   'eq_subtype': 'water_to_water_centrifugal',\n",
       "   'eq_manufacturer': None,\n",
       "   'model': 'IMC-WWHP-250Ton-140HHWST',\n",
       "   'fuel': 'electricity',\n",
       "   'capacity_W': None,\n",
       "   'performance': {'cop_curve': None,\n",
       "    'cap_curve': None,\n",
       "    'plr_curve': {'capacity_W': [879250.0, 700000.0, 500000.0, 300000.0],\n",
       "     'cop': [2.68, 2.9, 3.3, 3.5]},\n",
       "    'efficiency': None,\n",
       "    'constraints': None},\n",
       "   'emissions': None},\n",
       "  {'eq_id': 'hr08',\n",
       "   'eq_type': 'hr_heat_pump',\n",
       "   'eq_subtype': 'water_to_water_centrifugal',\n",
       "   'eq_manufacturer': None,\n",
       "   'model': 'IMC-WWHP-500Ton-120HHWST',\n",
       "   'fuel': 'electricity',\n",
       "   'capacity_W': None,\n",
       "   'performance': {'cop_curve': None,\n",
       "    'cap_curve': None,\n",
       "    'plr_curve': {'capacity_W': [1758500.0, 1200000.0, 800000.0, 600000.0],\n",
       "     'cop': [3.96, 4.2, 4.6, 4.8]},\n",
       "    'efficiency': None,\n",
       "    'constraints': None},\n",
       "   'emissions': None},\n",
       "  {'eq_id': 'hr09',\n",
       "   'eq_type': 'hr_heat_pump',\n",
       "   'eq_subtype': 'water_to_water_centrifugal',\n",
       "   'eq_manufacturer': None,\n",
       "   'model': 'IMC-WWHP-500Ton-140HHWST',\n",
       "   'fuel': 'electricity',\n",
       "   'capacity_W': None,\n",
       "   'performance': {'cop_curve': None,\n",
       "    'cap_curve': None,\n",
       "    'plr_curve': {'capacity_W': [1758500.0, 1200000.0, 800000.0, 600000.0],\n",
       "     'cop': [2.97, 3.2, 3.6, 3.8]},\n",
       "    'efficiency': None,\n",
       "    'constraints': None},\n",
       "   'emissions': None},\n",
       "  {'eq_id': 'hp01',\n",
       "   'eq_type': 'heat_pump',\n",
       "   'eq_subtype': 'air_to_water',\n",
       "   'eq_manufacturer': None,\n",
       "   'model': 'GenericAWHP',\n",
       "   'fuel': 'electricity',\n",
       "   'capacity_W': None,\n",
       "   'performance': {'cop_curve': {'t_out_C': [-10.0, 0.0, 10.0, 20.0, 30.0],\n",
       "     'cop': [2.0, 2.5, 3.2, 3.8, 4.2]},\n",
       "    'cap_curve': {'t_out_C': [-10.0, 0.0, 10.0, 20.0, 30.0],\n",
       "     'capacity_W': [100000.0, 120000.0, 140000.0, 160000.0, 180000.0]},\n",
       "    'plr_curve': None,\n",
       "    'efficiency': None,\n",
       "    'constraints': None},\n",
       "   'emissions': None},\n",
       "  {'eq_id': 'aermec',\n",
       "   'eq_type': 'heat_pump',\n",
       "   'eq_subtype': 'air_to_water',\n",
       "   'eq_manufacturer': 'Aermec',\n",
       "   'model': 'NRB-HA-800',\n",
       "   'fuel': 'electricity',\n",
       "   'capacity_W': None,\n",
       "   'performance': {'cop_curve': {'t_out_C': [-5.0,\n",
       "      0.0,\n",
       "      5.0,\n",
       "      7.0,\n",
       "      10.0,\n",
       "      15.0,\n",
       "      20.0,\n",
       "      25.0,\n",
       "      30.0],\n",
       "     'cop': [1.8, 1.8, 2.2, 2.4, 2.7, 2.9, 3.0, 3.1, 3.2]},\n",
       "    'cap_curve': {'t_out_C': [-5.0,\n",
       "      0.0,\n",
       "      5.0,\n",
       "      7.0,\n",
       "      10.0,\n",
       "      15.0,\n",
       "      20.0,\n",
       "      25.0,\n",
       "      30.0],\n",
       "     'capacity_W': [136831.0,\n",
       "      142105.0,\n",
       "      170526.0,\n",
       "      188985.0,\n",
       "      210667.0,\n",
       "      232349.0,\n",
       "      248464.0,\n",
       "      260184.0,\n",
       "      268974.0]},\n",
       "    'plr_curve': None,\n",
       "    'efficiency': None,\n",
       "    'constraints': None},\n",
       "   'emissions': None},\n",
       "  {'eq_id': 'hp_h_02',\n",
       "   'eq_type': 'heat_pump',\n",
       "   'eq_subtype': 'air_to_water',\n",
       "   'eq_manufacturer': None,\n",
       "   'model': 'IMC-AWHP-30Ton-120HHWST',\n",
       "   'fuel': 'electricity',\n",
       "   'capacity_W': 105500.0,\n",
       "   'performance': {'cop_curve': {'t_out_C': [-8.0, 8.0], 'cop': [1.78, 2.77]},\n",
       "    'cap_curve': None,\n",
       "    'plr_curve': None,\n",
       "    'efficiency': None,\n",
       "    'constraints': None},\n",
       "   'emissions': None},\n",
       "  {'eq_id': 'hp_h_03',\n",
       "   'eq_type': 'heat_pump',\n",
       "   'eq_subtype': 'air_to_water',\n",
       "   'eq_manufacturer': None,\n",
       "   'model': 'IMC-AWHP-30Ton-140HHWST',\n",
       "   'fuel': 'electricity',\n",
       "   'capacity_W': 105500.0,\n",
       "   'performance': {'cop_curve': {'t_out_C': [-8.0, 8.0], 'cop': [1.48, 2.31]},\n",
       "    'cap_curve': None,\n",
       "    'plr_curve': None,\n",
       "    'efficiency': None,\n",
       "    'constraints': None},\n",
       "   'emissions': None},\n",
       "  {'eq_id': 'hp_h_04',\n",
       "   'eq_type': 'heat_pump',\n",
       "   'eq_subtype': 'air_to_water',\n",
       "   'eq_manufacturer': None,\n",
       "   'model': 'IMC-AWHP-60Ton-120HHWST',\n",
       "   'fuel': 'electricity',\n",
       "   'capacity_W': 211000.0,\n",
       "   'performance': {'cop_curve': {'t_out_C': [-8.0, 8.0], 'cop': [1.78, 2.77]},\n",
       "    'cap_curve': None,\n",
       "    'plr_curve': None,\n",
       "    'efficiency': None,\n",
       "    'constraints': None},\n",
       "   'emissions': None},\n",
       "  {'eq_id': 'hp_h_05',\n",
       "   'eq_type': 'heat_pump',\n",
       "   'eq_subtype': 'air_to_water',\n",
       "   'eq_manufacturer': None,\n",
       "   'model': 'IMC-AWHP-60Ton-140HHWST',\n",
       "   'fuel': 'electricity',\n",
       "   'capacity_W': 211000.0,\n",
       "   'performance': {'cop_curve': {'t_out_C': [-8.0, 8.0], 'cop': [1.48, 2.31]},\n",
       "    'cap_curve': None,\n",
       "    'plr_curve': None,\n",
       "    'efficiency': None,\n",
       "    'constraints': None},\n",
       "   'emissions': None},\n",
       "  {'eq_id': 'hp_c_01',\n",
       "   'eq_type': 'heat_pump',\n",
       "   'eq_subtype': 'air_to_water',\n",
       "   'eq_manufacturer': None,\n",
       "   'model': 'IMC-AWHP-30Ton-Cooling',\n",
       "   'fuel': 'electricity',\n",
       "   'capacity_W': 105500.0,\n",
       "   'performance': {'cop_curve': {'t_out_C': [10.0, 35.0], 'cop': [3.2, 2.81]},\n",
       "    'cap_curve': None,\n",
       "    'plr_curve': None,\n",
       "    'efficiency': None,\n",
       "    'constraints': None},\n",
       "   'emissions': None},\n",
       "  {'eq_id': 'hp_c_01',\n",
       "   'eq_type': 'heat_pump',\n",
       "   'eq_subtype': 'air_to_water',\n",
       "   'eq_manufacturer': None,\n",
       "   'model': 'IMC-AWHP-60Ton-Cooling',\n",
       "   'fuel': 'electricity',\n",
       "   'capacity_W': 211000.0,\n",
       "   'performance': {'cop_curve': {'t_out_C': [10.0, 35.0], 'cop': [3.2, 2.81]},\n",
       "    'cap_curve': None,\n",
       "    'plr_curve': None,\n",
       "    'efficiency': None,\n",
       "    'constraints': None},\n",
       "   'emissions': None},\n",
       "  {'eq_id': 'bo01',\n",
       "   'eq_type': 'boiler',\n",
       "   'eq_subtype': 'hot_water',\n",
       "   'eq_manufacturer': None,\n",
       "   'model': 'GenericBoiler-180HHWST',\n",
       "   'fuel': 'natural_gas',\n",
       "   'capacity_W': 500000.0,\n",
       "   'performance': {'cop_curve': None,\n",
       "    'cap_curve': None,\n",
       "    'plr_curve': None,\n",
       "    'efficiency': 0.86,\n",
       "    'constraints': None},\n",
       "   'emissions': {'co2_kg_per_mwh': 200.0}},\n",
       "  {'eq_id': 'bo02',\n",
       "   'eq_type': 'boiler',\n",
       "   'eq_subtype': 'hot_water',\n",
       "   'eq_manufacturer': None,\n",
       "   'model': 'GenericBoiler-160HHWST',\n",
       "   'fuel': 'natural_gas',\n",
       "   'capacity_W': 500000.0,\n",
       "   'performance': {'cop_curve': None,\n",
       "    'cap_curve': None,\n",
       "    'plr_curve': None,\n",
       "    'efficiency': 0.9,\n",
       "    'constraints': None},\n",
       "   'emissions': {'co2_kg_per_mwh': 200.0}},\n",
       "  {'eq_id': 'bo03',\n",
       "   'eq_type': 'boiler',\n",
       "   'eq_subtype': 'hot_water',\n",
       "   'eq_manufacturer': None,\n",
       "   'model': 'GenericBoiler-140HHWST',\n",
       "   'fuel': 'natural_gas',\n",
       "   'capacity_W': 500000.0,\n",
       "   'performance': {'cop_curve': None,\n",
       "    'cap_curve': None,\n",
       "    'plr_curve': None,\n",
       "    'efficiency': 0.95,\n",
       "    'constraints': None},\n",
       "   'emissions': {'co2_kg_per_mwh': 200.0}},\n",
       "  {'eq_id': 'ch01',\n",
       "   'eq_type': 'chiller',\n",
       "   'eq_subtype': None,\n",
       "   'eq_manufacturer': None,\n",
       "   'model': 'GenericChiller',\n",
       "   'fuel': 'electricity',\n",
       "   'capacity_W': 150000.0,\n",
       "   'performance': {'cop_curve': None,\n",
       "    'cap_curve': None,\n",
       "    'plr_curve': None,\n",
       "    'efficiency': 4.0,\n",
       "    'constraints': None},\n",
       "   'emissions': None},\n",
       "  {'eq_id': 'ch02',\n",
       "   'eq_type': 'chiller',\n",
       "   'eq_subtype': 'air_cooled',\n",
       "   'eq_manufacturer': None,\n",
       "   'model': 'IMC-AirCooledChiller-100Ton',\n",
       "   'fuel': 'electricity',\n",
       "   'capacity_W': 351700.0,\n",
       "   'performance': {'cop_curve': None,\n",
       "    'cap_curve': None,\n",
       "    'plr_curve': None,\n",
       "    'efficiency': 2.84,\n",
       "    'constraints': None},\n",
       "   'emissions': None},\n",
       "  {'eq_id': 'ch03',\n",
       "   'eq_type': 'chiller',\n",
       "   'eq_subtype': 'air_cooled',\n",
       "   'eq_manufacturer': None,\n",
       "   'model': 'IMC-AirCooledChiller-200Ton',\n",
       "   'fuel': 'electricity',\n",
       "   'capacity_W': 703400.0,\n",
       "   'performance': {'cop_curve': None,\n",
       "    'cap_curve': None,\n",
       "    'plr_curve': None,\n",
       "    'efficiency': 2.84,\n",
       "    'constraints': None},\n",
       "   'emissions': None},\n",
       "  {'eq_id': 'ch04',\n",
       "   'eq_type': 'chiller',\n",
       "   'eq_subtype': 'water_cooled_centrifugal',\n",
       "   'eq_manufacturer': None,\n",
       "   'model': 'IMC-WaterCooledChiller-Centrifugal-250Ton',\n",
       "   'fuel': 'electricity',\n",
       "   'capacity_W': 879250.0,\n",
       "   'performance': {'cop_curve': None,\n",
       "    'cap_curve': None,\n",
       "    'plr_curve': None,\n",
       "    'efficiency': 5.54,\n",
       "    'constraints': None},\n",
       "   'emissions': None},\n",
       "  {'eq_id': 'ch05',\n",
       "   'eq_type': 'chiller',\n",
       "   'eq_subtype': 'water_cooled_centrifugal',\n",
       "   'eq_manufacturer': None,\n",
       "   'model': 'IMC-WaterCooledChiller-Centrifugal-350Ton',\n",
       "   'fuel': 'electricity',\n",
       "   'capacity_W': 1231000.0,\n",
       "   'performance': {'cop_curve': None,\n",
       "    'cap_curve': None,\n",
       "    'plr_curve': None,\n",
       "    'efficiency': 5.91,\n",
       "    'constraints': None},\n",
       "   'emissions': None},\n",
       "  {'eq_id': 'ch06',\n",
       "   'eq_type': 'chiller',\n",
       "   'eq_subtype': 'water_cooled_centrifugal',\n",
       "   'eq_manufacturer': None,\n",
       "   'model': 'IMC-WaterCooledChiller-Centrifugal-500Ton',\n",
       "   'fuel': 'electricity',\n",
       "   'capacity_W': 1758500.0,\n",
       "   'performance': {'cop_curve': None,\n",
       "    'cap_curve': None,\n",
       "    'plr_curve': None,\n",
       "    'efficiency': 6.01,\n",
       "    'constraints': None},\n",
       "   'emissions': None},\n",
       "  {'eq_id': 'res01',\n",
       "   'eq_type': 'resistance_heater',\n",
       "   'eq_subtype': None,\n",
       "   'eq_manufacturer': None,\n",
       "   'model': 'GenericResHeater',\n",
       "   'fuel': 'electricity',\n",
       "   'capacity_W': 50000.0,\n",
       "   'performance': {'cop_curve': None,\n",
       "    'cap_curve': None,\n",
       "    'plr_curve': None,\n",
       "    'efficiency': 1.0,\n",
       "    'constraints': None},\n",
       "   'emissions': None}],\n",
       " 'equipment_scenarios': [{'eq_scen_id': 'baseline_01',\n",
       "   'eq_scen_name': 'Baseline System',\n",
       "   'hr_wwhp': None,\n",
       "   'awhp_h': 'hp01',\n",
       "   'awhp_c': 'hp01',\n",
       "   'awhp_sizing': 1.0,\n",
       "   'boiler': 'bo01',\n",
       "   'chiller': 'ch01',\n",
       "   'resistance_heater': 'res01'},\n",
       "  {'eq_scen_id': 'decarb_01',\n",
       "   'eq_scen_name': 'Decarbonized HP Only',\n",
       "   'hr_wwhp': 'hr01',\n",
       "   'awhp_h': 'hp01',\n",
       "   'awhp_c': 'hp01',\n",
       "   'awhp_sizing': 4.0,\n",
       "   'boiler': None,\n",
       "   'chiller': 'ch01',\n",
       "   'resistance_heater': 'res01'},\n",
       "  {'eq_scen_id': 'typ_01',\n",
       "   'eq_scen_name': 'Chiller + Gas Boiler',\n",
       "   'hr_wwhp': None,\n",
       "   'awhp_h': None,\n",
       "   'awhp_c': None,\n",
       "   'awhp_sizing': 1.0,\n",
       "   'boiler': 'bo02',\n",
       "   'chiller': 'ch03',\n",
       "   'resistance_heater': None},\n",
       "  {'eq_scen_id': 'typ_02',\n",
       "   'eq_scen_name': 'Chiller + Electric Boiler',\n",
       "   'hr_wwhp': None,\n",
       "   'awhp_h': None,\n",
       "   'awhp_c': None,\n",
       "   'awhp_sizing': 1.0,\n",
       "   'boiler': None,\n",
       "   'chiller': 'ch03',\n",
       "   'resistance_heater': 'res01'},\n",
       "  {'eq_scen_id': 'heatingHP_01',\n",
       "   'eq_scen_name': 'Chiller + 80% AWHP/Gas Backup',\n",
       "   'hr_wwhp': None,\n",
       "   'awhp_h': 'hp_h_03',\n",
       "   'awhp_c': None,\n",
       "   'awhp_sizing': 0.6,\n",
       "   'boiler': 'bo02',\n",
       "   'chiller': 'ch03',\n",
       "   'resistance_heater': None},\n",
       "  {'eq_scen_id': 'heatingHP_02',\n",
       "   'eq_scen_name': 'Chiller + 80% AWHP/Electric Backup',\n",
       "   'hr_wwhp': None,\n",
       "   'awhp_h': 'hp_h_03',\n",
       "   'awhp_c': None,\n",
       "   'awhp_sizing': 0.8,\n",
       "   'boiler': None,\n",
       "   'chiller': 'ch03',\n",
       "   'resistance_heater': 'res01'},\n",
       "  {'eq_scen_id': 'bothHP_01',\n",
       "   'eq_scen_name': '80% AWHP/Electric Backup',\n",
       "   'hr_wwhp': None,\n",
       "   'awhp_h': 'hp_h_03',\n",
       "   'awhp_c': 'hp_c_01',\n",
       "   'awhp_sizing': 0.8,\n",
       "   'boiler': None,\n",
       "   'chiller': 'ch03',\n",
       "   'resistance_heater': 'res01'},\n",
       "  {'eq_scen_id': 'hr_01',\n",
       "   'eq_scen_name': 'HR + AWHP + Electric Backup',\n",
       "   'hr_wwhp': 'hr01',\n",
       "   'awhp_h': 'hp_h_03',\n",
       "   'awhp_c': 'hp_c_01',\n",
       "   'awhp_sizing': 0.8,\n",
       "   'boiler': None,\n",
       "   'chiller': 'ch03',\n",
       "   'resistance_heater': 'res01'}]}"
      ]
     },
     "execution_count": 6,
     "metadata": {},
     "output_type": "execute_result"
    }
   ],
   "source": [
    "from src.equipment import load_library\n",
    "equipment_library = load_library(\"data/input/equipment_data.json\").model_dump()\n",
    "\n",
    "equipment_library"
   ]
  },
  {
   "cell_type": "code",
   "execution_count": 7,
   "id": "044cab07",
   "metadata": {},
   "outputs": [
    {
     "name": "stdout",
     "output_type": "stream",
     "text": [
      "2030\n",
      "MidCase\n",
      "NYISO\n"
     ]
    }
   ],
   "source": [
    "settings.add_emission_scenario(\n",
    "    EmissionScenario(\n",
    "        em_scen_id=\"new_007\",\n",
    "        grid_scenario=\"MidCase\",\n",
    "        gea_grid_region=\"NYISO\",\n",
    "        time_zone=\"America/New_York\",\n",
    "        emission_type=\"Combustion only\",\n",
    "        shortrun_weighting=1.0,\n",
    "        year=2030,\n",
    "    )\n",
    ")\n",
    "\n",
    "print(settings[\"new_007\"].year)\n",
    "print(settings[\"new_007\"].grid_scenario)\n",
    "\n",
    "x = settings.__getitem__(\"new_007\")\n",
    "print(x.gea_grid_region)\n"
   ]
  },
  {
   "cell_type": "code",
   "execution_count": 8,
   "id": "a3d1c054",
   "metadata": {},
   "outputs": [
    {
     "name": "stderr",
     "output_type": "stream",
     "text": [
      "/Users/toby/Desktop/Repositories/decarb-tool/src/loads.py:16: UserWarning: Could not infer format, so each element will be parsed individually, falling back to `dateutil`. To ensure parsing is consistent and as-expected, please specify a format.\n",
      "  df[\"timestamp\"] = pd.to_datetime(df[\"timestamp\"], errors=\"coerce\", utc=False)\n"
     ]
    },
    {
     "data": {
      "application/vnd.microsoft.datawrangler.viewer.v0+json": {
       "columns": [
        {
         "name": "timestamp",
         "rawType": "datetime64[ns]",
         "type": "datetime"
        },
        {
         "name": "t_out_C",
         "rawType": "float64",
         "type": "float"
        },
        {
         "name": "heating_W",
         "rawType": "float64",
         "type": "float"
        },
        {
         "name": "cooling_W",
         "rawType": "float64",
         "type": "float"
        }
       ],
       "ref": "6c0337b2-fb5d-4307-a97e-af182ad9011a",
       "rows": [
        [
         "2001-01-01 01:00:00",
         "-4.4",
         "609230.1302",
         "127902.4118"
        ],
        [
         "2001-01-01 02:00:00",
         "-4.4",
         "606900.3412",
         "174577.6491"
        ],
        [
         "2001-01-01 03:00:00",
         "-4.108333333",
         "604168.5347",
         "186763.6827"
        ],
        [
         "2001-01-01 04:00:00",
         "-3.55",
         "600461.652",
         "199730.6525"
        ],
        [
         "2001-01-01 05:00:00",
         "-3.3",
         "604702.997",
         "205553.3008"
        ],
        [
         "2001-01-01 06:00:00",
         "-3.65",
         "607617.8109",
         "200142.2974"
        ],
        [
         "2001-01-01 07:00:00",
         "-4.191666667",
         "611215.7286",
         "191604.1236"
        ],
        [
         "2001-01-01 08:00:00",
         "-3.758333333",
         "607994.1257",
         "113827.7398"
        ],
        [
         "2001-01-01 09:00:00",
         "-3.008333333",
         "546663.1432",
         "109587.7756"
        ],
        [
         "2001-01-01 10:00:00",
         "-2.45",
         "518821.3869",
         "125826.5844"
        ],
        [
         "2001-01-01 11:00:00",
         "-1.558333333",
         "494195.6171",
         "153496.4968"
        ],
        [
         "2001-01-01 12:00:00",
         "-1.45",
         "487443.5688",
         "162364.6929"
        ],
        [
         "2001-01-01 13:00:00",
         "-1.991666667",
         "483818.4519",
         "153128.0102"
        ],
        [
         "2001-01-01 14:00:00",
         "-2.841666667",
         "500469.3539",
         "135335.2511"
        ],
        [
         "2001-01-01 15:00:00",
         "-3.008333333",
         "496728.7834",
         "130178.5383"
        ],
        [
         "2001-01-01 16:00:00",
         "-2.8",
         "498164.5643",
         "135665.9065"
        ],
        [
         "2001-01-01 17:00:00",
         "-4.083333333",
         "561067.9284",
         "96564.16292"
        ],
        [
         "2001-01-01 18:00:00",
         "-5.35",
         "597933.373",
         "72222.69738"
        ],
        [
         "2001-01-01 19:00:00",
         "-5.891666667",
         "611523.2953",
         "62852.73545"
        ],
        [
         "2001-01-01 20:00:00",
         "-6.45",
         "628074.2963",
         "53927.93712"
        ],
        [
         "2001-01-01 21:00:00",
         "-7.633333333",
         "651466.8633",
         "35797.9562"
        ],
        [
         "2001-01-01 22:00:00",
         "-8.941666667",
         "662557.6705",
         "15267.3348"
        ],
        [
         "2001-01-01 23:00:00",
         "-9.75",
         "680094.5207",
         "4254.932306"
        ],
        [
         "2001-01-02 00:00:00",
         "-10.35",
         "701267.3628",
         "980.4508016"
        ],
        [
         "2001-01-02 01:00:00",
         "-10.89166667",
         "703857.5003",
         "29439.75119"
        ],
        [
         "2001-01-02 02:00:00",
         "-11.45",
         "710937.9414",
         "61415.10522"
        ],
        [
         "2001-01-02 03:00:00",
         "-11.7",
         "706407.5403",
         "77967.38255"
        ],
        [
         "2001-01-02 04:00:00",
         "-11.7",
         "704279.1959",
         "85794.53533"
        ],
        [
         "2001-01-02 05:00:00",
         "-11.99166667",
         "715288.835",
         "89293.77258"
        ],
        [
         "2001-01-02 06:00:00",
         "-11.90833333",
         "718766.277",
         "90837.26841"
        ]
       ],
       "shape": {
        "columns": 3,
        "rows": 30
       }
      },
      "text/html": [
       "<div>\n",
       "<style scoped>\n",
       "    .dataframe tbody tr th:only-of-type {\n",
       "        vertical-align: middle;\n",
       "    }\n",
       "\n",
       "    .dataframe tbody tr th {\n",
       "        vertical-align: top;\n",
       "    }\n",
       "\n",
       "    .dataframe thead th {\n",
       "        text-align: right;\n",
       "    }\n",
       "</style>\n",
       "<table border=\"1\" class=\"dataframe\">\n",
       "  <thead>\n",
       "    <tr style=\"text-align: right;\">\n",
       "      <th></th>\n",
       "      <th>t_out_C</th>\n",
       "      <th>heating_W</th>\n",
       "      <th>cooling_W</th>\n",
       "    </tr>\n",
       "    <tr>\n",
       "      <th>timestamp</th>\n",
       "      <th></th>\n",
       "      <th></th>\n",
       "      <th></th>\n",
       "    </tr>\n",
       "  </thead>\n",
       "  <tbody>\n",
       "    <tr>\n",
       "      <th>2001-01-01 01:00:00</th>\n",
       "      <td>-4.400000</td>\n",
       "      <td>609230.1302</td>\n",
       "      <td>127902.411800</td>\n",
       "    </tr>\n",
       "    <tr>\n",
       "      <th>2001-01-01 02:00:00</th>\n",
       "      <td>-4.400000</td>\n",
       "      <td>606900.3412</td>\n",
       "      <td>174577.649100</td>\n",
       "    </tr>\n",
       "    <tr>\n",
       "      <th>2001-01-01 03:00:00</th>\n",
       "      <td>-4.108333</td>\n",
       "      <td>604168.5347</td>\n",
       "      <td>186763.682700</td>\n",
       "    </tr>\n",
       "    <tr>\n",
       "      <th>2001-01-01 04:00:00</th>\n",
       "      <td>-3.550000</td>\n",
       "      <td>600461.6520</td>\n",
       "      <td>199730.652500</td>\n",
       "    </tr>\n",
       "    <tr>\n",
       "      <th>2001-01-01 05:00:00</th>\n",
       "      <td>-3.300000</td>\n",
       "      <td>604702.9970</td>\n",
       "      <td>205553.300800</td>\n",
       "    </tr>\n",
       "    <tr>\n",
       "      <th>2001-01-01 06:00:00</th>\n",
       "      <td>-3.650000</td>\n",
       "      <td>607617.8109</td>\n",
       "      <td>200142.297400</td>\n",
       "    </tr>\n",
       "    <tr>\n",
       "      <th>2001-01-01 07:00:00</th>\n",
       "      <td>-4.191667</td>\n",
       "      <td>611215.7286</td>\n",
       "      <td>191604.123600</td>\n",
       "    </tr>\n",
       "    <tr>\n",
       "      <th>2001-01-01 08:00:00</th>\n",
       "      <td>-3.758333</td>\n",
       "      <td>607994.1257</td>\n",
       "      <td>113827.739800</td>\n",
       "    </tr>\n",
       "    <tr>\n",
       "      <th>2001-01-01 09:00:00</th>\n",
       "      <td>-3.008333</td>\n",
       "      <td>546663.1432</td>\n",
       "      <td>109587.775600</td>\n",
       "    </tr>\n",
       "    <tr>\n",
       "      <th>2001-01-01 10:00:00</th>\n",
       "      <td>-2.450000</td>\n",
       "      <td>518821.3869</td>\n",
       "      <td>125826.584400</td>\n",
       "    </tr>\n",
       "    <tr>\n",
       "      <th>2001-01-01 11:00:00</th>\n",
       "      <td>-1.558333</td>\n",
       "      <td>494195.6171</td>\n",
       "      <td>153496.496800</td>\n",
       "    </tr>\n",
       "    <tr>\n",
       "      <th>2001-01-01 12:00:00</th>\n",
       "      <td>-1.450000</td>\n",
       "      <td>487443.5688</td>\n",
       "      <td>162364.692900</td>\n",
       "    </tr>\n",
       "    <tr>\n",
       "      <th>2001-01-01 13:00:00</th>\n",
       "      <td>-1.991667</td>\n",
       "      <td>483818.4519</td>\n",
       "      <td>153128.010200</td>\n",
       "    </tr>\n",
       "    <tr>\n",
       "      <th>2001-01-01 14:00:00</th>\n",
       "      <td>-2.841667</td>\n",
       "      <td>500469.3539</td>\n",
       "      <td>135335.251100</td>\n",
       "    </tr>\n",
       "    <tr>\n",
       "      <th>2001-01-01 15:00:00</th>\n",
       "      <td>-3.008333</td>\n",
       "      <td>496728.7834</td>\n",
       "      <td>130178.538300</td>\n",
       "    </tr>\n",
       "    <tr>\n",
       "      <th>2001-01-01 16:00:00</th>\n",
       "      <td>-2.800000</td>\n",
       "      <td>498164.5643</td>\n",
       "      <td>135665.906500</td>\n",
       "    </tr>\n",
       "    <tr>\n",
       "      <th>2001-01-01 17:00:00</th>\n",
       "      <td>-4.083333</td>\n",
       "      <td>561067.9284</td>\n",
       "      <td>96564.162920</td>\n",
       "    </tr>\n",
       "    <tr>\n",
       "      <th>2001-01-01 18:00:00</th>\n",
       "      <td>-5.350000</td>\n",
       "      <td>597933.3730</td>\n",
       "      <td>72222.697380</td>\n",
       "    </tr>\n",
       "    <tr>\n",
       "      <th>2001-01-01 19:00:00</th>\n",
       "      <td>-5.891667</td>\n",
       "      <td>611523.2953</td>\n",
       "      <td>62852.735450</td>\n",
       "    </tr>\n",
       "    <tr>\n",
       "      <th>2001-01-01 20:00:00</th>\n",
       "      <td>-6.450000</td>\n",
       "      <td>628074.2963</td>\n",
       "      <td>53927.937120</td>\n",
       "    </tr>\n",
       "    <tr>\n",
       "      <th>2001-01-01 21:00:00</th>\n",
       "      <td>-7.633333</td>\n",
       "      <td>651466.8633</td>\n",
       "      <td>35797.956200</td>\n",
       "    </tr>\n",
       "    <tr>\n",
       "      <th>2001-01-01 22:00:00</th>\n",
       "      <td>-8.941667</td>\n",
       "      <td>662557.6705</td>\n",
       "      <td>15267.334800</td>\n",
       "    </tr>\n",
       "    <tr>\n",
       "      <th>2001-01-01 23:00:00</th>\n",
       "      <td>-9.750000</td>\n",
       "      <td>680094.5207</td>\n",
       "      <td>4254.932306</td>\n",
       "    </tr>\n",
       "    <tr>\n",
       "      <th>2001-01-02 00:00:00</th>\n",
       "      <td>-10.350000</td>\n",
       "      <td>701267.3628</td>\n",
       "      <td>980.450802</td>\n",
       "    </tr>\n",
       "    <tr>\n",
       "      <th>2001-01-02 01:00:00</th>\n",
       "      <td>-10.891667</td>\n",
       "      <td>703857.5003</td>\n",
       "      <td>29439.751190</td>\n",
       "    </tr>\n",
       "    <tr>\n",
       "      <th>2001-01-02 02:00:00</th>\n",
       "      <td>-11.450000</td>\n",
       "      <td>710937.9414</td>\n",
       "      <td>61415.105220</td>\n",
       "    </tr>\n",
       "    <tr>\n",
       "      <th>2001-01-02 03:00:00</th>\n",
       "      <td>-11.700000</td>\n",
       "      <td>706407.5403</td>\n",
       "      <td>77967.382550</td>\n",
       "    </tr>\n",
       "    <tr>\n",
       "      <th>2001-01-02 04:00:00</th>\n",
       "      <td>-11.700000</td>\n",
       "      <td>704279.1959</td>\n",
       "      <td>85794.535330</td>\n",
       "    </tr>\n",
       "    <tr>\n",
       "      <th>2001-01-02 05:00:00</th>\n",
       "      <td>-11.991667</td>\n",
       "      <td>715288.8350</td>\n",
       "      <td>89293.772580</td>\n",
       "    </tr>\n",
       "    <tr>\n",
       "      <th>2001-01-02 06:00:00</th>\n",
       "      <td>-11.908333</td>\n",
       "      <td>718766.2770</td>\n",
       "      <td>90837.268410</td>\n",
       "    </tr>\n",
       "  </tbody>\n",
       "</table>\n",
       "</div>"
      ],
      "text/plain": [
       "                       t_out_C    heating_W      cooling_W\n",
       "timestamp                                                 \n",
       "2001-01-01 01:00:00  -4.400000  609230.1302  127902.411800\n",
       "2001-01-01 02:00:00  -4.400000  606900.3412  174577.649100\n",
       "2001-01-01 03:00:00  -4.108333  604168.5347  186763.682700\n",
       "2001-01-01 04:00:00  -3.550000  600461.6520  199730.652500\n",
       "2001-01-01 05:00:00  -3.300000  604702.9970  205553.300800\n",
       "2001-01-01 06:00:00  -3.650000  607617.8109  200142.297400\n",
       "2001-01-01 07:00:00  -4.191667  611215.7286  191604.123600\n",
       "2001-01-01 08:00:00  -3.758333  607994.1257  113827.739800\n",
       "2001-01-01 09:00:00  -3.008333  546663.1432  109587.775600\n",
       "2001-01-01 10:00:00  -2.450000  518821.3869  125826.584400\n",
       "2001-01-01 11:00:00  -1.558333  494195.6171  153496.496800\n",
       "2001-01-01 12:00:00  -1.450000  487443.5688  162364.692900\n",
       "2001-01-01 13:00:00  -1.991667  483818.4519  153128.010200\n",
       "2001-01-01 14:00:00  -2.841667  500469.3539  135335.251100\n",
       "2001-01-01 15:00:00  -3.008333  496728.7834  130178.538300\n",
       "2001-01-01 16:00:00  -2.800000  498164.5643  135665.906500\n",
       "2001-01-01 17:00:00  -4.083333  561067.9284   96564.162920\n",
       "2001-01-01 18:00:00  -5.350000  597933.3730   72222.697380\n",
       "2001-01-01 19:00:00  -5.891667  611523.2953   62852.735450\n",
       "2001-01-01 20:00:00  -6.450000  628074.2963   53927.937120\n",
       "2001-01-01 21:00:00  -7.633333  651466.8633   35797.956200\n",
       "2001-01-01 22:00:00  -8.941667  662557.6705   15267.334800\n",
       "2001-01-01 23:00:00  -9.750000  680094.5207    4254.932306\n",
       "2001-01-02 00:00:00 -10.350000  701267.3628     980.450802\n",
       "2001-01-02 01:00:00 -10.891667  703857.5003   29439.751190\n",
       "2001-01-02 02:00:00 -11.450000  710937.9414   61415.105220\n",
       "2001-01-02 03:00:00 -11.700000  706407.5403   77967.382550\n",
       "2001-01-02 04:00:00 -11.700000  704279.1959   85794.535330\n",
       "2001-01-02 05:00:00 -11.991667  715288.8350   89293.772580\n",
       "2001-01-02 06:00:00 -11.908333  718766.2770   90837.268410"
      ]
     },
     "execution_count": 8,
     "metadata": {},
     "output_type": "execute_result"
    }
   ],
   "source": [
    "# Get datasets based on input (location, load_type) saved in settings object\n",
    "from src.loads import get_load_data\n",
    "from src.emissions import get_emissions_data\n",
    "\n",
    "# get load data\n",
    "load_data = get_load_data(settings)\n",
    "\n",
    "# get emission data\n",
    "emissions_data = get_emissions_data(settings[\"default_scenario_01\"])\n",
    "\n",
    "# inspect load data\n",
    "load_data.df.head(30)"
   ]
  },
  {
   "cell_type": "code",
   "execution_count": 9,
   "id": "12ea6b20",
   "metadata": {},
   "outputs": [
    {
     "data": {
      "application/vnd.microsoft.datawrangler.viewer.v0+json": {
       "columns": [
        {
         "name": "timestamp",
         "rawType": "datetime64[ns]",
         "type": "datetime"
        },
        {
         "name": "em_scen_id",
         "rawType": "object",
         "type": "string"
        },
        {
         "name": "emission_scenario",
         "rawType": "object",
         "type": "string"
        },
        {
         "name": "gea_grid_region",
         "rawType": "object",
         "type": "string"
        },
        {
         "name": "time_zone",
         "rawType": "object",
         "type": "string"
        },
        {
         "name": "emission_type",
         "rawType": "object",
         "type": "string"
        },
        {
         "name": "year",
         "rawType": "int64",
         "type": "integer"
        },
        {
         "name": "lrmer_co2e_c",
         "rawType": "float64",
         "type": "float"
        },
        {
         "name": "lrmer_co2e_p",
         "rawType": "float64",
         "type": "float"
        },
        {
         "name": "srmer_co2e_c",
         "rawType": "float64",
         "type": "float"
        },
        {
         "name": "srmer_co2e_p",
         "rawType": "float64",
         "type": "float"
        }
       ],
       "ref": "1245a65e-5cdc-4b52-9eff-26bda7ceea90",
       "rows": [
        [
         "2025-01-01 00:00:00",
         "default_scenario_01",
         "MidCase",
         "CAISO",
         "America/Los_Angeles",
         "Combustion only",
         "2025",
         "408.0",
         "137.7",
         "561.2",
         "173.2"
        ],
        [
         "2025-01-01 01:00:00",
         "default_scenario_01",
         "MidCase",
         "CAISO",
         "America/Los_Angeles",
         "Combustion only",
         "2025",
         "431.1",
         "142.3",
         "547.6",
         "163.8"
        ],
        [
         "2025-01-01 02:00:00",
         "default_scenario_01",
         "MidCase",
         "CAISO",
         "America/Los_Angeles",
         "Combustion only",
         "2025",
         "429.1",
         "147.9",
         "461.2",
         "162.2"
        ],
        [
         "2025-01-01 03:00:00",
         "default_scenario_01",
         "MidCase",
         "CAISO",
         "America/Los_Angeles",
         "Combustion only",
         "2025",
         "413.6",
         "149.6",
         "480.7",
         "167.0"
        ],
        [
         "2025-01-01 04:00:00",
         "default_scenario_01",
         "MidCase",
         "CAISO",
         "America/Los_Angeles",
         "Combustion only",
         "2025",
         "417.8",
         "145.3",
         "480.9",
         "179.3"
        ],
        [
         "2025-01-01 05:00:00",
         "default_scenario_01",
         "MidCase",
         "CAISO",
         "America/Los_Angeles",
         "Combustion only",
         "2025",
         "396.4",
         "137.6",
         "533.5",
         "174.0"
        ],
        [
         "2025-01-01 06:00:00",
         "default_scenario_01",
         "MidCase",
         "CAISO",
         "America/Los_Angeles",
         "Combustion only",
         "2025",
         "364.3",
         "126.7",
         "546.2",
         "177.9"
        ],
        [
         "2025-01-01 07:00:00",
         "default_scenario_01",
         "MidCase",
         "CAISO",
         "America/Los_Angeles",
         "Combustion only",
         "2025",
         "269.0",
         "91.7",
         "656.7",
         "154.8"
        ],
        [
         "2025-01-01 08:00:00",
         "default_scenario_01",
         "MidCase",
         "CAISO",
         "America/Los_Angeles",
         "Combustion only",
         "2025",
         "139.6",
         "46.7",
         "554.9",
         "158.2"
        ],
        [
         "2025-01-01 09:00:00",
         "default_scenario_01",
         "MidCase",
         "CAISO",
         "America/Los_Angeles",
         "Combustion only",
         "2025",
         "126.2",
         "42.6",
         "458.4",
         "164.6"
        ],
        [
         "2025-01-01 10:00:00",
         "default_scenario_01",
         "MidCase",
         "CAISO",
         "America/Los_Angeles",
         "Combustion only",
         "2025",
         "124.9",
         "43.6",
         "457.1",
         "163.5"
        ],
        [
         "2025-01-01 11:00:00",
         "default_scenario_01",
         "MidCase",
         "CAISO",
         "America/Los_Angeles",
         "Combustion only",
         "2025",
         "113.1",
         "42.3",
         "459.3",
         "163.4"
        ],
        [
         "2025-01-01 12:00:00",
         "default_scenario_01",
         "MidCase",
         "CAISO",
         "America/Los_Angeles",
         "Combustion only",
         "2025",
         "145.9",
         "50.0",
         "487.9",
         "158.0"
        ],
        [
         "2025-01-01 13:00:00",
         "default_scenario_01",
         "MidCase",
         "CAISO",
         "America/Los_Angeles",
         "Combustion only",
         "2025",
         "142.4",
         "49.7",
         "534.3",
         "151.9"
        ],
        [
         "2025-01-01 14:00:00",
         "default_scenario_01",
         "MidCase",
         "CAISO",
         "America/Los_Angeles",
         "Combustion only",
         "2025",
         "178.8",
         "55.1",
         "489.3",
         "159.1"
        ],
        [
         "2025-01-01 15:00:00",
         "default_scenario_01",
         "MidCase",
         "CAISO",
         "America/Los_Angeles",
         "Combustion only",
         "2025",
         "177.8",
         "64.1",
         "485.3",
         "176.3"
        ],
        [
         "2025-01-01 16:00:00",
         "default_scenario_01",
         "MidCase",
         "CAISO",
         "America/Los_Angeles",
         "Combustion only",
         "2025",
         "367.1",
         "127.0",
         "544.0",
         "184.6"
        ],
        [
         "2025-01-01 17:00:00",
         "default_scenario_01",
         "MidCase",
         "CAISO",
         "America/Los_Angeles",
         "Combustion only",
         "2025",
         "369.7",
         "126.4",
         "564.7",
         "186.5"
        ],
        [
         "2025-01-01 18:00:00",
         "default_scenario_01",
         "MidCase",
         "CAISO",
         "America/Los_Angeles",
         "Combustion only",
         "2025",
         "369.7",
         "123.0",
         "579.1",
         "189.1"
        ],
        [
         "2025-01-01 19:00:00",
         "default_scenario_01",
         "MidCase",
         "CAISO",
         "America/Los_Angeles",
         "Combustion only",
         "2025",
         "364.7",
         "124.2",
         "538.5",
         "193.6"
        ],
        [
         "2025-01-01 20:00:00",
         "default_scenario_01",
         "MidCase",
         "CAISO",
         "America/Los_Angeles",
         "Combustion only",
         "2025",
         "363.0",
         "123.3",
         "548.4",
         "190.6"
        ],
        [
         "2025-01-01 21:00:00",
         "default_scenario_01",
         "MidCase",
         "CAISO",
         "America/Los_Angeles",
         "Combustion only",
         "2025",
         "383.6",
         "119.9",
         "596.2",
         "178.2"
        ],
        [
         "2025-01-01 22:00:00",
         "default_scenario_01",
         "MidCase",
         "CAISO",
         "America/Los_Angeles",
         "Combustion only",
         "2025",
         "400.6",
         "123.5",
         "630.0",
         "176.5"
        ],
        [
         "2025-01-01 23:00:00",
         "default_scenario_01",
         "MidCase",
         "CAISO",
         "America/Los_Angeles",
         "Combustion only",
         "2025",
         "389.7",
         "128.7",
         "592.2",
         "179.6"
        ],
        [
         "2025-02-01 00:00:00",
         "default_scenario_01",
         "MidCase",
         "CAISO",
         "America/Los_Angeles",
         "Combustion only",
         "2025",
         "299.0",
         "112.7",
         "429.1",
         "170.0"
        ],
        [
         "2025-02-01 01:00:00",
         "default_scenario_01",
         "MidCase",
         "CAISO",
         "America/Los_Angeles",
         "Combustion only",
         "2025",
         "329.9",
         "121.1",
         "462.0",
         "157.9"
        ],
        [
         "2025-02-01 02:00:00",
         "default_scenario_01",
         "MidCase",
         "CAISO",
         "America/Los_Angeles",
         "Combustion only",
         "2025",
         "352.8",
         "127.2",
         "459.3",
         "169.2"
        ],
        [
         "2025-02-01 03:00:00",
         "default_scenario_01",
         "MidCase",
         "CAISO",
         "America/Los_Angeles",
         "Combustion only",
         "2025",
         "323.0",
         "122.3",
         "447.9",
         "163.9"
        ],
        [
         "2025-02-01 04:00:00",
         "default_scenario_01",
         "MidCase",
         "CAISO",
         "America/Los_Angeles",
         "Combustion only",
         "2025",
         "319.1",
         "122.5",
         "488.0",
         "169.1"
        ],
        [
         "2025-02-01 05:00:00",
         "default_scenario_01",
         "MidCase",
         "CAISO",
         "America/Los_Angeles",
         "Combustion only",
         "2025",
         "283.3",
         "105.6",
         "477.0",
         "168.7"
        ]
       ],
       "shape": {
        "columns": 10,
        "rows": 30
       }
      },
      "text/html": [
       "<div>\n",
       "<style scoped>\n",
       "    .dataframe tbody tr th:only-of-type {\n",
       "        vertical-align: middle;\n",
       "    }\n",
       "\n",
       "    .dataframe tbody tr th {\n",
       "        vertical-align: top;\n",
       "    }\n",
       "\n",
       "    .dataframe thead th {\n",
       "        text-align: right;\n",
       "    }\n",
       "</style>\n",
       "<table border=\"1\" class=\"dataframe\">\n",
       "  <thead>\n",
       "    <tr style=\"text-align: right;\">\n",
       "      <th></th>\n",
       "      <th>em_scen_id</th>\n",
       "      <th>emission_scenario</th>\n",
       "      <th>gea_grid_region</th>\n",
       "      <th>time_zone</th>\n",
       "      <th>emission_type</th>\n",
       "      <th>year</th>\n",
       "      <th>lrmer_co2e_c</th>\n",
       "      <th>lrmer_co2e_p</th>\n",
       "      <th>srmer_co2e_c</th>\n",
       "      <th>srmer_co2e_p</th>\n",
       "    </tr>\n",
       "    <tr>\n",
       "      <th>timestamp</th>\n",
       "      <th></th>\n",
       "      <th></th>\n",
       "      <th></th>\n",
       "      <th></th>\n",
       "      <th></th>\n",
       "      <th></th>\n",
       "      <th></th>\n",
       "      <th></th>\n",
       "      <th></th>\n",
       "      <th></th>\n",
       "    </tr>\n",
       "  </thead>\n",
       "  <tbody>\n",
       "    <tr>\n",
       "      <th>2025-01-01 00:00:00</th>\n",
       "      <td>default_scenario_01</td>\n",
       "      <td>MidCase</td>\n",
       "      <td>CAISO</td>\n",
       "      <td>America/Los_Angeles</td>\n",
       "      <td>Combustion only</td>\n",
       "      <td>2025</td>\n",
       "      <td>408.0</td>\n",
       "      <td>137.7</td>\n",
       "      <td>561.2</td>\n",
       "      <td>173.2</td>\n",
       "    </tr>\n",
       "    <tr>\n",
       "      <th>2025-01-01 01:00:00</th>\n",
       "      <td>default_scenario_01</td>\n",
       "      <td>MidCase</td>\n",
       "      <td>CAISO</td>\n",
       "      <td>America/Los_Angeles</td>\n",
       "      <td>Combustion only</td>\n",
       "      <td>2025</td>\n",
       "      <td>431.1</td>\n",
       "      <td>142.3</td>\n",
       "      <td>547.6</td>\n",
       "      <td>163.8</td>\n",
       "    </tr>\n",
       "    <tr>\n",
       "      <th>2025-01-01 02:00:00</th>\n",
       "      <td>default_scenario_01</td>\n",
       "      <td>MidCase</td>\n",
       "      <td>CAISO</td>\n",
       "      <td>America/Los_Angeles</td>\n",
       "      <td>Combustion only</td>\n",
       "      <td>2025</td>\n",
       "      <td>429.1</td>\n",
       "      <td>147.9</td>\n",
       "      <td>461.2</td>\n",
       "      <td>162.2</td>\n",
       "    </tr>\n",
       "    <tr>\n",
       "      <th>2025-01-01 03:00:00</th>\n",
       "      <td>default_scenario_01</td>\n",
       "      <td>MidCase</td>\n",
       "      <td>CAISO</td>\n",
       "      <td>America/Los_Angeles</td>\n",
       "      <td>Combustion only</td>\n",
       "      <td>2025</td>\n",
       "      <td>413.6</td>\n",
       "      <td>149.6</td>\n",
       "      <td>480.7</td>\n",
       "      <td>167.0</td>\n",
       "    </tr>\n",
       "    <tr>\n",
       "      <th>2025-01-01 04:00:00</th>\n",
       "      <td>default_scenario_01</td>\n",
       "      <td>MidCase</td>\n",
       "      <td>CAISO</td>\n",
       "      <td>America/Los_Angeles</td>\n",
       "      <td>Combustion only</td>\n",
       "      <td>2025</td>\n",
       "      <td>417.8</td>\n",
       "      <td>145.3</td>\n",
       "      <td>480.9</td>\n",
       "      <td>179.3</td>\n",
       "    </tr>\n",
       "    <tr>\n",
       "      <th>2025-01-01 05:00:00</th>\n",
       "      <td>default_scenario_01</td>\n",
       "      <td>MidCase</td>\n",
       "      <td>CAISO</td>\n",
       "      <td>America/Los_Angeles</td>\n",
       "      <td>Combustion only</td>\n",
       "      <td>2025</td>\n",
       "      <td>396.4</td>\n",
       "      <td>137.6</td>\n",
       "      <td>533.5</td>\n",
       "      <td>174.0</td>\n",
       "    </tr>\n",
       "    <tr>\n",
       "      <th>2025-01-01 06:00:00</th>\n",
       "      <td>default_scenario_01</td>\n",
       "      <td>MidCase</td>\n",
       "      <td>CAISO</td>\n",
       "      <td>America/Los_Angeles</td>\n",
       "      <td>Combustion only</td>\n",
       "      <td>2025</td>\n",
       "      <td>364.3</td>\n",
       "      <td>126.7</td>\n",
       "      <td>546.2</td>\n",
       "      <td>177.9</td>\n",
       "    </tr>\n",
       "    <tr>\n",
       "      <th>2025-01-01 07:00:00</th>\n",
       "      <td>default_scenario_01</td>\n",
       "      <td>MidCase</td>\n",
       "      <td>CAISO</td>\n",
       "      <td>America/Los_Angeles</td>\n",
       "      <td>Combustion only</td>\n",
       "      <td>2025</td>\n",
       "      <td>269.0</td>\n",
       "      <td>91.7</td>\n",
       "      <td>656.7</td>\n",
       "      <td>154.8</td>\n",
       "    </tr>\n",
       "    <tr>\n",
       "      <th>2025-01-01 08:00:00</th>\n",
       "      <td>default_scenario_01</td>\n",
       "      <td>MidCase</td>\n",
       "      <td>CAISO</td>\n",
       "      <td>America/Los_Angeles</td>\n",
       "      <td>Combustion only</td>\n",
       "      <td>2025</td>\n",
       "      <td>139.6</td>\n",
       "      <td>46.7</td>\n",
       "      <td>554.9</td>\n",
       "      <td>158.2</td>\n",
       "    </tr>\n",
       "    <tr>\n",
       "      <th>2025-01-01 09:00:00</th>\n",
       "      <td>default_scenario_01</td>\n",
       "      <td>MidCase</td>\n",
       "      <td>CAISO</td>\n",
       "      <td>America/Los_Angeles</td>\n",
       "      <td>Combustion only</td>\n",
       "      <td>2025</td>\n",
       "      <td>126.2</td>\n",
       "      <td>42.6</td>\n",
       "      <td>458.4</td>\n",
       "      <td>164.6</td>\n",
       "    </tr>\n",
       "    <tr>\n",
       "      <th>2025-01-01 10:00:00</th>\n",
       "      <td>default_scenario_01</td>\n",
       "      <td>MidCase</td>\n",
       "      <td>CAISO</td>\n",
       "      <td>America/Los_Angeles</td>\n",
       "      <td>Combustion only</td>\n",
       "      <td>2025</td>\n",
       "      <td>124.9</td>\n",
       "      <td>43.6</td>\n",
       "      <td>457.1</td>\n",
       "      <td>163.5</td>\n",
       "    </tr>\n",
       "    <tr>\n",
       "      <th>2025-01-01 11:00:00</th>\n",
       "      <td>default_scenario_01</td>\n",
       "      <td>MidCase</td>\n",
       "      <td>CAISO</td>\n",
       "      <td>America/Los_Angeles</td>\n",
       "      <td>Combustion only</td>\n",
       "      <td>2025</td>\n",
       "      <td>113.1</td>\n",
       "      <td>42.3</td>\n",
       "      <td>459.3</td>\n",
       "      <td>163.4</td>\n",
       "    </tr>\n",
       "    <tr>\n",
       "      <th>2025-01-01 12:00:00</th>\n",
       "      <td>default_scenario_01</td>\n",
       "      <td>MidCase</td>\n",
       "      <td>CAISO</td>\n",
       "      <td>America/Los_Angeles</td>\n",
       "      <td>Combustion only</td>\n",
       "      <td>2025</td>\n",
       "      <td>145.9</td>\n",
       "      <td>50.0</td>\n",
       "      <td>487.9</td>\n",
       "      <td>158.0</td>\n",
       "    </tr>\n",
       "    <tr>\n",
       "      <th>2025-01-01 13:00:00</th>\n",
       "      <td>default_scenario_01</td>\n",
       "      <td>MidCase</td>\n",
       "      <td>CAISO</td>\n",
       "      <td>America/Los_Angeles</td>\n",
       "      <td>Combustion only</td>\n",
       "      <td>2025</td>\n",
       "      <td>142.4</td>\n",
       "      <td>49.7</td>\n",
       "      <td>534.3</td>\n",
       "      <td>151.9</td>\n",
       "    </tr>\n",
       "    <tr>\n",
       "      <th>2025-01-01 14:00:00</th>\n",
       "      <td>default_scenario_01</td>\n",
       "      <td>MidCase</td>\n",
       "      <td>CAISO</td>\n",
       "      <td>America/Los_Angeles</td>\n",
       "      <td>Combustion only</td>\n",
       "      <td>2025</td>\n",
       "      <td>178.8</td>\n",
       "      <td>55.1</td>\n",
       "      <td>489.3</td>\n",
       "      <td>159.1</td>\n",
       "    </tr>\n",
       "    <tr>\n",
       "      <th>2025-01-01 15:00:00</th>\n",
       "      <td>default_scenario_01</td>\n",
       "      <td>MidCase</td>\n",
       "      <td>CAISO</td>\n",
       "      <td>America/Los_Angeles</td>\n",
       "      <td>Combustion only</td>\n",
       "      <td>2025</td>\n",
       "      <td>177.8</td>\n",
       "      <td>64.1</td>\n",
       "      <td>485.3</td>\n",
       "      <td>176.3</td>\n",
       "    </tr>\n",
       "    <tr>\n",
       "      <th>2025-01-01 16:00:00</th>\n",
       "      <td>default_scenario_01</td>\n",
       "      <td>MidCase</td>\n",
       "      <td>CAISO</td>\n",
       "      <td>America/Los_Angeles</td>\n",
       "      <td>Combustion only</td>\n",
       "      <td>2025</td>\n",
       "      <td>367.1</td>\n",
       "      <td>127.0</td>\n",
       "      <td>544.0</td>\n",
       "      <td>184.6</td>\n",
       "    </tr>\n",
       "    <tr>\n",
       "      <th>2025-01-01 17:00:00</th>\n",
       "      <td>default_scenario_01</td>\n",
       "      <td>MidCase</td>\n",
       "      <td>CAISO</td>\n",
       "      <td>America/Los_Angeles</td>\n",
       "      <td>Combustion only</td>\n",
       "      <td>2025</td>\n",
       "      <td>369.7</td>\n",
       "      <td>126.4</td>\n",
       "      <td>564.7</td>\n",
       "      <td>186.5</td>\n",
       "    </tr>\n",
       "    <tr>\n",
       "      <th>2025-01-01 18:00:00</th>\n",
       "      <td>default_scenario_01</td>\n",
       "      <td>MidCase</td>\n",
       "      <td>CAISO</td>\n",
       "      <td>America/Los_Angeles</td>\n",
       "      <td>Combustion only</td>\n",
       "      <td>2025</td>\n",
       "      <td>369.7</td>\n",
       "      <td>123.0</td>\n",
       "      <td>579.1</td>\n",
       "      <td>189.1</td>\n",
       "    </tr>\n",
       "    <tr>\n",
       "      <th>2025-01-01 19:00:00</th>\n",
       "      <td>default_scenario_01</td>\n",
       "      <td>MidCase</td>\n",
       "      <td>CAISO</td>\n",
       "      <td>America/Los_Angeles</td>\n",
       "      <td>Combustion only</td>\n",
       "      <td>2025</td>\n",
       "      <td>364.7</td>\n",
       "      <td>124.2</td>\n",
       "      <td>538.5</td>\n",
       "      <td>193.6</td>\n",
       "    </tr>\n",
       "    <tr>\n",
       "      <th>2025-01-01 20:00:00</th>\n",
       "      <td>default_scenario_01</td>\n",
       "      <td>MidCase</td>\n",
       "      <td>CAISO</td>\n",
       "      <td>America/Los_Angeles</td>\n",
       "      <td>Combustion only</td>\n",
       "      <td>2025</td>\n",
       "      <td>363.0</td>\n",
       "      <td>123.3</td>\n",
       "      <td>548.4</td>\n",
       "      <td>190.6</td>\n",
       "    </tr>\n",
       "    <tr>\n",
       "      <th>2025-01-01 21:00:00</th>\n",
       "      <td>default_scenario_01</td>\n",
       "      <td>MidCase</td>\n",
       "      <td>CAISO</td>\n",
       "      <td>America/Los_Angeles</td>\n",
       "      <td>Combustion only</td>\n",
       "      <td>2025</td>\n",
       "      <td>383.6</td>\n",
       "      <td>119.9</td>\n",
       "      <td>596.2</td>\n",
       "      <td>178.2</td>\n",
       "    </tr>\n",
       "    <tr>\n",
       "      <th>2025-01-01 22:00:00</th>\n",
       "      <td>default_scenario_01</td>\n",
       "      <td>MidCase</td>\n",
       "      <td>CAISO</td>\n",
       "      <td>America/Los_Angeles</td>\n",
       "      <td>Combustion only</td>\n",
       "      <td>2025</td>\n",
       "      <td>400.6</td>\n",
       "      <td>123.5</td>\n",
       "      <td>630.0</td>\n",
       "      <td>176.5</td>\n",
       "    </tr>\n",
       "    <tr>\n",
       "      <th>2025-01-01 23:00:00</th>\n",
       "      <td>default_scenario_01</td>\n",
       "      <td>MidCase</td>\n",
       "      <td>CAISO</td>\n",
       "      <td>America/Los_Angeles</td>\n",
       "      <td>Combustion only</td>\n",
       "      <td>2025</td>\n",
       "      <td>389.7</td>\n",
       "      <td>128.7</td>\n",
       "      <td>592.2</td>\n",
       "      <td>179.6</td>\n",
       "    </tr>\n",
       "    <tr>\n",
       "      <th>2025-02-01 00:00:00</th>\n",
       "      <td>default_scenario_01</td>\n",
       "      <td>MidCase</td>\n",
       "      <td>CAISO</td>\n",
       "      <td>America/Los_Angeles</td>\n",
       "      <td>Combustion only</td>\n",
       "      <td>2025</td>\n",
       "      <td>299.0</td>\n",
       "      <td>112.7</td>\n",
       "      <td>429.1</td>\n",
       "      <td>170.0</td>\n",
       "    </tr>\n",
       "    <tr>\n",
       "      <th>2025-02-01 01:00:00</th>\n",
       "      <td>default_scenario_01</td>\n",
       "      <td>MidCase</td>\n",
       "      <td>CAISO</td>\n",
       "      <td>America/Los_Angeles</td>\n",
       "      <td>Combustion only</td>\n",
       "      <td>2025</td>\n",
       "      <td>329.9</td>\n",
       "      <td>121.1</td>\n",
       "      <td>462.0</td>\n",
       "      <td>157.9</td>\n",
       "    </tr>\n",
       "    <tr>\n",
       "      <th>2025-02-01 02:00:00</th>\n",
       "      <td>default_scenario_01</td>\n",
       "      <td>MidCase</td>\n",
       "      <td>CAISO</td>\n",
       "      <td>America/Los_Angeles</td>\n",
       "      <td>Combustion only</td>\n",
       "      <td>2025</td>\n",
       "      <td>352.8</td>\n",
       "      <td>127.2</td>\n",
       "      <td>459.3</td>\n",
       "      <td>169.2</td>\n",
       "    </tr>\n",
       "    <tr>\n",
       "      <th>2025-02-01 03:00:00</th>\n",
       "      <td>default_scenario_01</td>\n",
       "      <td>MidCase</td>\n",
       "      <td>CAISO</td>\n",
       "      <td>America/Los_Angeles</td>\n",
       "      <td>Combustion only</td>\n",
       "      <td>2025</td>\n",
       "      <td>323.0</td>\n",
       "      <td>122.3</td>\n",
       "      <td>447.9</td>\n",
       "      <td>163.9</td>\n",
       "    </tr>\n",
       "    <tr>\n",
       "      <th>2025-02-01 04:00:00</th>\n",
       "      <td>default_scenario_01</td>\n",
       "      <td>MidCase</td>\n",
       "      <td>CAISO</td>\n",
       "      <td>America/Los_Angeles</td>\n",
       "      <td>Combustion only</td>\n",
       "      <td>2025</td>\n",
       "      <td>319.1</td>\n",
       "      <td>122.5</td>\n",
       "      <td>488.0</td>\n",
       "      <td>169.1</td>\n",
       "    </tr>\n",
       "    <tr>\n",
       "      <th>2025-02-01 05:00:00</th>\n",
       "      <td>default_scenario_01</td>\n",
       "      <td>MidCase</td>\n",
       "      <td>CAISO</td>\n",
       "      <td>America/Los_Angeles</td>\n",
       "      <td>Combustion only</td>\n",
       "      <td>2025</td>\n",
       "      <td>283.3</td>\n",
       "      <td>105.6</td>\n",
       "      <td>477.0</td>\n",
       "      <td>168.7</td>\n",
       "    </tr>\n",
       "  </tbody>\n",
       "</table>\n",
       "</div>"
      ],
      "text/plain": [
       "                              em_scen_id emission_scenario gea_grid_region  \\\n",
       "timestamp                                                                    \n",
       "2025-01-01 00:00:00  default_scenario_01           MidCase           CAISO   \n",
       "2025-01-01 01:00:00  default_scenario_01           MidCase           CAISO   \n",
       "2025-01-01 02:00:00  default_scenario_01           MidCase           CAISO   \n",
       "2025-01-01 03:00:00  default_scenario_01           MidCase           CAISO   \n",
       "2025-01-01 04:00:00  default_scenario_01           MidCase           CAISO   \n",
       "2025-01-01 05:00:00  default_scenario_01           MidCase           CAISO   \n",
       "2025-01-01 06:00:00  default_scenario_01           MidCase           CAISO   \n",
       "2025-01-01 07:00:00  default_scenario_01           MidCase           CAISO   \n",
       "2025-01-01 08:00:00  default_scenario_01           MidCase           CAISO   \n",
       "2025-01-01 09:00:00  default_scenario_01           MidCase           CAISO   \n",
       "2025-01-01 10:00:00  default_scenario_01           MidCase           CAISO   \n",
       "2025-01-01 11:00:00  default_scenario_01           MidCase           CAISO   \n",
       "2025-01-01 12:00:00  default_scenario_01           MidCase           CAISO   \n",
       "2025-01-01 13:00:00  default_scenario_01           MidCase           CAISO   \n",
       "2025-01-01 14:00:00  default_scenario_01           MidCase           CAISO   \n",
       "2025-01-01 15:00:00  default_scenario_01           MidCase           CAISO   \n",
       "2025-01-01 16:00:00  default_scenario_01           MidCase           CAISO   \n",
       "2025-01-01 17:00:00  default_scenario_01           MidCase           CAISO   \n",
       "2025-01-01 18:00:00  default_scenario_01           MidCase           CAISO   \n",
       "2025-01-01 19:00:00  default_scenario_01           MidCase           CAISO   \n",
       "2025-01-01 20:00:00  default_scenario_01           MidCase           CAISO   \n",
       "2025-01-01 21:00:00  default_scenario_01           MidCase           CAISO   \n",
       "2025-01-01 22:00:00  default_scenario_01           MidCase           CAISO   \n",
       "2025-01-01 23:00:00  default_scenario_01           MidCase           CAISO   \n",
       "2025-02-01 00:00:00  default_scenario_01           MidCase           CAISO   \n",
       "2025-02-01 01:00:00  default_scenario_01           MidCase           CAISO   \n",
       "2025-02-01 02:00:00  default_scenario_01           MidCase           CAISO   \n",
       "2025-02-01 03:00:00  default_scenario_01           MidCase           CAISO   \n",
       "2025-02-01 04:00:00  default_scenario_01           MidCase           CAISO   \n",
       "2025-02-01 05:00:00  default_scenario_01           MidCase           CAISO   \n",
       "\n",
       "                               time_zone    emission_type  year  lrmer_co2e_c  \\\n",
       "timestamp                                                                       \n",
       "2025-01-01 00:00:00  America/Los_Angeles  Combustion only  2025         408.0   \n",
       "2025-01-01 01:00:00  America/Los_Angeles  Combustion only  2025         431.1   \n",
       "2025-01-01 02:00:00  America/Los_Angeles  Combustion only  2025         429.1   \n",
       "2025-01-01 03:00:00  America/Los_Angeles  Combustion only  2025         413.6   \n",
       "2025-01-01 04:00:00  America/Los_Angeles  Combustion only  2025         417.8   \n",
       "2025-01-01 05:00:00  America/Los_Angeles  Combustion only  2025         396.4   \n",
       "2025-01-01 06:00:00  America/Los_Angeles  Combustion only  2025         364.3   \n",
       "2025-01-01 07:00:00  America/Los_Angeles  Combustion only  2025         269.0   \n",
       "2025-01-01 08:00:00  America/Los_Angeles  Combustion only  2025         139.6   \n",
       "2025-01-01 09:00:00  America/Los_Angeles  Combustion only  2025         126.2   \n",
       "2025-01-01 10:00:00  America/Los_Angeles  Combustion only  2025         124.9   \n",
       "2025-01-01 11:00:00  America/Los_Angeles  Combustion only  2025         113.1   \n",
       "2025-01-01 12:00:00  America/Los_Angeles  Combustion only  2025         145.9   \n",
       "2025-01-01 13:00:00  America/Los_Angeles  Combustion only  2025         142.4   \n",
       "2025-01-01 14:00:00  America/Los_Angeles  Combustion only  2025         178.8   \n",
       "2025-01-01 15:00:00  America/Los_Angeles  Combustion only  2025         177.8   \n",
       "2025-01-01 16:00:00  America/Los_Angeles  Combustion only  2025         367.1   \n",
       "2025-01-01 17:00:00  America/Los_Angeles  Combustion only  2025         369.7   \n",
       "2025-01-01 18:00:00  America/Los_Angeles  Combustion only  2025         369.7   \n",
       "2025-01-01 19:00:00  America/Los_Angeles  Combustion only  2025         364.7   \n",
       "2025-01-01 20:00:00  America/Los_Angeles  Combustion only  2025         363.0   \n",
       "2025-01-01 21:00:00  America/Los_Angeles  Combustion only  2025         383.6   \n",
       "2025-01-01 22:00:00  America/Los_Angeles  Combustion only  2025         400.6   \n",
       "2025-01-01 23:00:00  America/Los_Angeles  Combustion only  2025         389.7   \n",
       "2025-02-01 00:00:00  America/Los_Angeles  Combustion only  2025         299.0   \n",
       "2025-02-01 01:00:00  America/Los_Angeles  Combustion only  2025         329.9   \n",
       "2025-02-01 02:00:00  America/Los_Angeles  Combustion only  2025         352.8   \n",
       "2025-02-01 03:00:00  America/Los_Angeles  Combustion only  2025         323.0   \n",
       "2025-02-01 04:00:00  America/Los_Angeles  Combustion only  2025         319.1   \n",
       "2025-02-01 05:00:00  America/Los_Angeles  Combustion only  2025         283.3   \n",
       "\n",
       "                     lrmer_co2e_p  srmer_co2e_c  srmer_co2e_p  \n",
       "timestamp                                                      \n",
       "2025-01-01 00:00:00         137.7         561.2         173.2  \n",
       "2025-01-01 01:00:00         142.3         547.6         163.8  \n",
       "2025-01-01 02:00:00         147.9         461.2         162.2  \n",
       "2025-01-01 03:00:00         149.6         480.7         167.0  \n",
       "2025-01-01 04:00:00         145.3         480.9         179.3  \n",
       "2025-01-01 05:00:00         137.6         533.5         174.0  \n",
       "2025-01-01 06:00:00         126.7         546.2         177.9  \n",
       "2025-01-01 07:00:00          91.7         656.7         154.8  \n",
       "2025-01-01 08:00:00          46.7         554.9         158.2  \n",
       "2025-01-01 09:00:00          42.6         458.4         164.6  \n",
       "2025-01-01 10:00:00          43.6         457.1         163.5  \n",
       "2025-01-01 11:00:00          42.3         459.3         163.4  \n",
       "2025-01-01 12:00:00          50.0         487.9         158.0  \n",
       "2025-01-01 13:00:00          49.7         534.3         151.9  \n",
       "2025-01-01 14:00:00          55.1         489.3         159.1  \n",
       "2025-01-01 15:00:00          64.1         485.3         176.3  \n",
       "2025-01-01 16:00:00         127.0         544.0         184.6  \n",
       "2025-01-01 17:00:00         126.4         564.7         186.5  \n",
       "2025-01-01 18:00:00         123.0         579.1         189.1  \n",
       "2025-01-01 19:00:00         124.2         538.5         193.6  \n",
       "2025-01-01 20:00:00         123.3         548.4         190.6  \n",
       "2025-01-01 21:00:00         119.9         596.2         178.2  \n",
       "2025-01-01 22:00:00         123.5         630.0         176.5  \n",
       "2025-01-01 23:00:00         128.7         592.2         179.6  \n",
       "2025-02-01 00:00:00         112.7         429.1         170.0  \n",
       "2025-02-01 01:00:00         121.1         462.0         157.9  \n",
       "2025-02-01 02:00:00         127.2         459.3         169.2  \n",
       "2025-02-01 03:00:00         122.3         447.9         163.9  \n",
       "2025-02-01 04:00:00         122.5         488.0         169.1  \n",
       "2025-02-01 05:00:00         105.6         477.0         168.7  "
      ]
     },
     "execution_count": 9,
     "metadata": {},
     "output_type": "execute_result"
    }
   ],
   "source": [
    "# inspect emissions data\n",
    "emissions_data.df.head(30)"
   ]
  },
  {
   "cell_type": "code",
   "execution_count": 10,
   "id": "550dd7a8",
   "metadata": {},
   "outputs": [
    {
     "name": "stdout",
     "output_type": "stream",
     "text": [
      "eq_id='hp01' eq_type='heat_pump' eq_subtype='air_to_water' eq_manufacturer=None model='GenericAWHP' fuel='electricity' capacity_W=None performance=Performance(cop_curve=COPCurve(t_out_C=[-10.0, 0.0, 10.0, 20.0, 30.0], cop=[2.0, 2.5, 3.2, 3.8, 4.2]), cap_curve=CapCurve(t_out_C=[-10.0, 0.0, 10.0, 20.0, 30.0], capacity_W=[100000.0, 120000.0, 140000.0, 160000.0, 180000.0]), plr_curve=None, efficiency=None, constraints=None) emissions=None\n",
      "eq_scen_id='decarb_01' eq_scen_name='Decarbonized HP Only' hr_wwhp='hr01' awhp_h='hp01' awhp_c='hp01' awhp_sizing=4.0 boiler=None chiller='ch01' resistance_heater='res01'\n"
     ]
    }
   ],
   "source": [
    "# Test-load equipment library (not changing the actual sim settings)\n",
    "\n",
    "from src.equipment import load_library\n",
    "\n",
    "library = load_library(\"data/input/equipment_data.json\")\n",
    "\n",
    "hp_a = library.get_equipment(\"hp01\")\n",
    "print(hp_a)\n",
    "\n",
    "scenario_a = library.get_scenario(\"decarb_01\")\n",
    "print(scenario_a)"
   ]
  },
  {
   "cell_type": "code",
   "execution_count": 11,
   "id": "70435c34",
   "metadata": {},
   "outputs": [
    {
     "data": {
      "text/plain": [
       "['baseline_01', 'decarb_01', 'typ_01', 'typ_02']"
      ]
     },
     "execution_count": 11,
     "metadata": {},
     "output_type": "execute_result"
    }
   ],
   "source": [
    "settings.equipment_scenarios"
   ]
  },
  {
   "cell_type": "code",
   "execution_count": 12,
   "id": "633558b1",
   "metadata": {},
   "outputs": [
    {
     "data": {
      "application/vnd.microsoft.datawrangler.viewer.v0+json": {
       "columns": [
        {
         "name": "timestamp",
         "rawType": "datetime64[ns]",
         "type": "datetime"
        },
        {
         "name": "t_out_C",
         "rawType": "float64",
         "type": "float"
        },
        {
         "name": "heating_W",
         "rawType": "float64",
         "type": "float"
        },
        {
         "name": "cooling_W",
         "rawType": "float64",
         "type": "float"
        },
        {
         "name": "elec_Wh",
         "rawType": "float64",
         "type": "float"
        },
        {
         "name": "gas_Wh",
         "rawType": "float64",
         "type": "float"
        },
        {
         "name": "hhw_W",
         "rawType": "float64",
         "type": "float"
        },
        {
         "name": "chw_W",
         "rawType": "float64",
         "type": "float"
        },
        {
         "name": "hr_hhw_W",
         "rawType": "float64",
         "type": "float"
        },
        {
         "name": "hr_chw_W",
         "rawType": "float64",
         "type": "float"
        },
        {
         "name": "hr_cop_h",
         "rawType": "float64",
         "type": "float"
        },
        {
         "name": "elec_hr_Wh",
         "rawType": "float64",
         "type": "float"
        },
        {
         "name": "awhp_num_h",
         "rawType": "float64",
         "type": "float"
        },
        {
         "name": "awhp_cap_h_W",
         "rawType": "float64",
         "type": "float"
        },
        {
         "name": "awhp_cop_h",
         "rawType": "float64",
         "type": "float"
        },
        {
         "name": "awhp_hhw_W",
         "rawType": "float64",
         "type": "float"
        },
        {
         "name": "elec_awhp_h_Wh",
         "rawType": "float64",
         "type": "float"
        },
        {
         "name": "boiler_eff",
         "rawType": "float64",
         "type": "float"
        },
        {
         "name": "boiler_hhw_W",
         "rawType": "float64",
         "type": "float"
        },
        {
         "name": "gas_boiler_Wh",
         "rawType": "float64",
         "type": "float"
        },
        {
         "name": "res_hhw_W",
         "rawType": "float64",
         "type": "float"
        },
        {
         "name": "elec_res_Wh",
         "rawType": "float64",
         "type": "float"
        },
        {
         "name": "awhp_num_c",
         "rawType": "float64",
         "type": "float"
        },
        {
         "name": "awhp_cap_c_W",
         "rawType": "float64",
         "type": "float"
        },
        {
         "name": "awhp_cop_c",
         "rawType": "float64",
         "type": "float"
        },
        {
         "name": "awhp_chw_W",
         "rawType": "float64",
         "type": "float"
        },
        {
         "name": "elec_awhp_c_Wh",
         "rawType": "float64",
         "type": "float"
        },
        {
         "name": "chiller_cop",
         "rawType": "float64",
         "type": "float"
        },
        {
         "name": "chiller_chw_W",
         "rawType": "float64",
         "type": "float"
        },
        {
         "name": "elec_chiller_Wh",
         "rawType": "float64",
         "type": "float"
        },
        {
         "name": "scenario_id",
         "rawType": "object",
         "type": "string"
        },
        {
         "name": "max_cap_h_hr_W",
         "rawType": "float64",
         "type": "float"
        },
        {
         "name": "min_cap_h_hr_W",
         "rawType": "float64",
         "type": "float"
        },
        {
         "name": "simult_h_hr_W",
         "rawType": "float64",
         "type": "float"
        }
       ],
       "ref": "2f4b8a7d-0603-4bc5-8abe-7189585fb2d1",
       "rows": [
        [
         "2001-01-01 01:00:00",
         "-4.4",
         "609230.13",
         "127902.41",
         "101719.46",
         "579104.8",
         "609230.13",
         "127902.41",
         null,
         null,
         null,
         null,
         "1.0",
         "111200.0",
         "2.28",
         "111200.0",
         "48771.93",
         "0.86",
         "498030.13",
         "579104.8",
         null,
         null,
         "1.0",
         "111200.0",
         "2.28",
         "111200.0",
         "48771.93",
         "4.0",
         "16702.41",
         "4175.6",
         "baseline_01",
         null,
         null,
         null
        ],
        [
         "2001-01-01 02:00:00",
         "-4.4",
         "606900.34",
         "174577.65",
         "113388.27",
         "576395.75",
         "606900.34",
         "174577.65",
         null,
         null,
         null,
         null,
         "1.0",
         "111200.0",
         "2.28",
         "111200.0",
         "48771.93",
         "0.86",
         "495700.34",
         "576395.75",
         null,
         null,
         "1.0",
         "111200.0",
         "2.28",
         "111200.0",
         "48771.93",
         "4.0",
         "63377.65",
         "15844.41",
         "baseline_01",
         null,
         null,
         null
        ],
        [
         "2001-01-01 03:00:00",
         "-4.11",
         "604168.53",
         "186763.68",
         "116177.45",
         "572540.93",
         "604168.53",
         "186763.68",
         null,
         null,
         null,
         null,
         "1.0",
         "111783.33",
         "2.29",
         "111783.33",
         "48716.18",
         "0.86",
         "492385.2",
         "572540.93",
         null,
         null,
         "1.0",
         "111783.33",
         "2.29",
         "111783.33",
         "48716.18",
         "4.0",
         "74980.35",
         "18745.09",
         "baseline_01",
         null,
         null,
         null
        ],
        [
         "2001-01-01 04:00:00",
         "-3.55",
         "600461.65",
         "199730.65",
         "118930.48",
         "566932.15",
         "600461.65",
         "199730.65",
         null,
         null,
         null,
         null,
         "1.0",
         "112900.0",
         "2.32",
         "112900.0",
         "48611.41",
         "0.86",
         "487561.65",
         "566932.15",
         null,
         null,
         "1.0",
         "112900.0",
         "2.32",
         "112900.0",
         "48611.41",
         "4.0",
         "86830.65",
         "21707.66",
         "baseline_01",
         null,
         null,
         null
        ],
        [
         "2001-01-01 05:00:00",
         "-3.3",
         "604703.0",
         "205553.3",
         "120168.95",
         "571282.55",
         "604703.0",
         "205553.3",
         null,
         null,
         null,
         null,
         "1.0",
         "113400.0",
         "2.34",
         "113400.0",
         "48565.31",
         "0.86",
         "491303.0",
         "571282.55",
         null,
         null,
         "1.0",
         "113400.0",
         "2.34",
         "113400.0",
         "48565.31",
         "4.0",
         "92153.3",
         "23038.33",
         "baseline_01",
         null,
         null,
         null
        ],
        [
         "2001-01-01 06:00:00",
         "-3.65",
         "607617.81",
         "200142.3",
         "119120.55",
         "575485.83",
         "607617.81",
         "200142.3",
         null,
         null,
         null,
         null,
         "1.0",
         "112700.0",
         "2.32",
         "112700.0",
         "48629.99",
         "0.86",
         "494917.81",
         "575485.83",
         null,
         null,
         "1.0",
         "112700.0",
         "2.32",
         "112700.0",
         "48629.99",
         "4.0",
         "87442.3",
         "21860.57",
         "baseline_01",
         null,
         null,
         null
        ],
        [
         "2001-01-01 07:00:00",
         "-4.19",
         "611215.73",
         "191604.12",
         "117460.94",
         "580929.14",
         "611215.73",
         "191604.12",
         null,
         null,
         null,
         null,
         "1.0",
         "111616.67",
         "2.29",
         "111616.67",
         "48732.04",
         "0.86",
         "499599.06",
         "580929.14",
         null,
         null,
         "1.0",
         "111616.67",
         "2.29",
         "111616.67",
         "48732.04",
         "4.0",
         "79987.46",
         "19996.86",
         "baseline_01",
         null,
         null,
         null
        ],
        [
         "2001-01-01 08:00:00",
         "-3.76",
         "607994.13",
         "113827.74",
         "97636.52",
         "576175.34",
         "607994.13",
         "113827.74",
         null,
         null,
         null,
         null,
         "1.0",
         "112483.33",
         "2.31",
         "112483.33",
         "48650.21",
         "0.86",
         "495510.79",
         "576175.34",
         null,
         null,
         "1.0",
         "112483.33",
         "2.31",
         "112483.33",
         "48650.21",
         "4.0",
         "1344.41",
         "336.1",
         "baseline_01",
         null,
         null,
         null
        ],
        [
         "2001-01-01 09:00:00",
         "-3.01",
         "546663.14",
         "109587.78",
         "95153.51",
         "503116.06",
         "546663.14",
         "109587.78",
         null,
         null,
         null,
         null,
         "1.0",
         "113983.33",
         "2.35",
         "113983.33",
         "48512.15",
         "0.86",
         "432679.81",
         "503116.06",
         null,
         null,
         "1.0",
         "113983.33",
         "2.35",
         "109587.78",
         "46641.37",
         "4.0",
         "0.0",
         "0.0",
         "baseline_01",
         null,
         null,
         null
        ],
        [
         "2001-01-01 10:00:00",
         "-2.45",
         "518821.39",
         "125826.58",
         "99506.04",
         "469443.47",
         "518821.39",
         "125826.58",
         null,
         null,
         null,
         null,
         "1.0",
         "115100.0",
         "2.38",
         "115100.0",
         "48412.2",
         "0.86",
         "403721.39",
         "469443.47",
         null,
         null,
         "1.0",
         "115100.0",
         "2.38",
         "115100.0",
         "48412.2",
         "4.0",
         "10726.58",
         "2681.65",
         "baseline_01",
         null,
         null,
         null
        ],
        [
         "2001-01-01 11:00:00",
         "-1.56",
         "494195.62",
         "153496.5",
         "105668.0",
         "438735.21",
         "494195.62",
         "153496.5",
         null,
         null,
         null,
         null,
         "1.0",
         "116883.33",
         "2.42",
         "116883.33",
         "48257.35",
         "0.86",
         "377312.28",
         "438735.21",
         null,
         null,
         "1.0",
         "116883.33",
         "2.42",
         "116883.33",
         "48257.35",
         "4.0",
         "36613.16",
         "9153.29",
         "baseline_01",
         null,
         null,
         null
        ],
        [
         "2001-01-01 12:00:00",
         "-1.45",
         "487443.57",
         "162364.69",
         "107794.03",
         "430632.06",
         "487443.57",
         "162364.69",
         null,
         null,
         null,
         null,
         "1.0",
         "117100.0",
         "2.43",
         "117100.0",
         "48238.93",
         "0.86",
         "370343.57",
         "430632.06",
         null,
         null,
         "1.0",
         "117100.0",
         "2.43",
         "117100.0",
         "48238.93",
         "4.0",
         "45264.69",
         "11316.17",
         "baseline_01",
         null,
         null,
         null
        ],
        [
         "2001-01-01 13:00:00",
         "-1.99",
         "483818.45",
         "153128.01",
         "105941.61",
         "427676.49",
         "483818.45",
         "153128.01",
         null,
         null,
         null,
         null,
         "1.0",
         "116016.67",
         "2.4",
         "116016.67",
         "48331.89",
         "0.86",
         "367801.79",
         "427676.49",
         null,
         null,
         "1.0",
         "116016.67",
         "2.4",
         "116016.67",
         "48331.89",
         "4.0",
         "37111.34",
         "9277.84",
         "baseline_01",
         null,
         null,
         null
        ],
        [
         "2001-01-01 14:00:00",
         "-2.84",
         "500469.35",
         "135335.25",
         "102218.77",
         "449014.75",
         "500469.35",
         "135335.25",
         null,
         null,
         null,
         null,
         "1.0",
         "114316.67",
         "2.36",
         "114316.67",
         "48482.06",
         "0.86",
         "386152.69",
         "449014.75",
         null,
         null,
         "1.0",
         "114316.67",
         "2.36",
         "114316.67",
         "48482.06",
         "4.0",
         "21018.58",
         "5254.65",
         "baseline_01",
         null,
         null,
         null
        ],
        [
         "2001-01-01 15:00:00",
         "-3.01",
         "496728.78",
         "130178.54",
         "101073.1",
         "445052.85",
         "496728.78",
         "130178.54",
         null,
         null,
         null,
         null,
         "1.0",
         "113983.33",
         "2.35",
         "113983.33",
         "48512.15",
         "0.86",
         "382745.45",
         "445052.85",
         null,
         null,
         "1.0",
         "113983.33",
         "2.35",
         "113983.33",
         "48512.15",
         "4.0",
         "16195.2",
         "4048.8",
         "baseline_01",
         null,
         null,
         null
        ],
        [
         "2001-01-01 16:00:00",
         "-2.8",
         "498164.56",
         "135665.91",
         "102265.63",
         "446237.87",
         "498164.56",
         "135665.91",
         null,
         null,
         null,
         null,
         "1.0",
         "114400.0",
         "2.36",
         "114400.0",
         "48474.58",
         "0.86",
         "383764.56",
         "446237.87",
         null,
         null,
         "1.0",
         "114400.0",
         "2.36",
         "114400.0",
         "48474.58",
         "4.0",
         "21265.91",
         "5316.48",
         "baseline_01",
         null,
         null,
         null
        ],
        [
         "2001-01-01 17:00:00",
         "-4.08",
         "561067.93",
         "96564.16",
         "90772.05",
         "522365.81",
         "561067.93",
         "96564.16",
         null,
         null,
         null,
         null,
         "1.0",
         "111833.33",
         "2.3",
         "111833.33",
         "48711.43",
         "0.86",
         "449234.6",
         "522365.81",
         null,
         null,
         "1.0",
         "111833.33",
         "2.3",
         "96564.16",
         "42060.62",
         "4.0",
         "0.0",
         "0.0",
         "baseline_01",
         null,
         null,
         null
        ],
        [
         "2001-01-01 18:00:00",
         "-5.35",
         "597933.37",
         "72222.7",
         "81309.16",
         "568178.34",
         "597933.37",
         "72222.7",
         null,
         null,
         null,
         null,
         "1.0",
         "109300.0",
         "2.23",
         "109300.0",
         "48958.57",
         "0.86",
         "488633.37",
         "568178.34",
         null,
         null,
         "1.0",
         "109300.0",
         "2.23",
         "72222.7",
         "32350.59",
         "4.0",
         "0.0",
         "0.0",
         "baseline_01",
         null,
         null,
         null
        ],
        [
         "2001-01-01 19:00:00",
         "-5.89",
         "611523.3",
         "62852.74",
         "77567.84",
         "585240.27",
         "611523.3",
         "62852.74",
         null,
         null,
         null,
         null,
         "1.0",
         "108216.67",
         "2.21",
         "108216.67",
         "49068.58",
         "0.86",
         "503306.63",
         "585240.27",
         null,
         null,
         "1.0",
         "108216.67",
         "2.21",
         "62852.74",
         "28499.26",
         "4.0",
         "0.0",
         "0.0",
         "baseline_01",
         null,
         null,
         null
        ],
        [
         "2001-01-01 20:00:00",
         "-6.45",
         "628074.3",
         "53927.94",
         "73950.83",
         "605784.07",
         "628074.3",
         "53927.94",
         null,
         null,
         null,
         null,
         "1.0",
         "107100.0",
         "2.18",
         "107100.0",
         "49184.85",
         "0.86",
         "520974.3",
         "605784.07",
         null,
         null,
         "1.0",
         "107100.0",
         "2.18",
         "53927.94",
         "24765.99",
         "4.0",
         "0.0",
         "0.0",
         "baseline_01",
         null,
         null,
         null
        ],
        [
         "2001-01-01 21:00:00",
         "-7.63",
         "651466.86",
         "35797.96",
         "66340.5",
         "635736.66",
         "651466.86",
         "35797.96",
         null,
         null,
         null,
         null,
         "1.0",
         "104733.33",
         "2.12",
         "104733.33",
         "49441.38",
         "0.86",
         "546733.53",
         "635736.66",
         null,
         null,
         "1.0",
         "104733.33",
         "2.12",
         "35797.96",
         "16899.11",
         "4.0",
         "0.0",
         "0.0",
         "baseline_01",
         null,
         null,
         null
        ],
        [
         "2001-01-01 22:00:00",
         "-8.94",
         "662557.67",
         "15267.33",
         "57179.14",
         "651675.59",
         "662557.67",
         "15267.33",
         null,
         null,
         null,
         null,
         "1.0",
         "102116.67",
         "2.05",
         "102116.67",
         "49742.24",
         "0.86",
         "560441.0",
         "651675.59",
         null,
         null,
         "1.0",
         "102116.67",
         "2.05",
         "15267.33",
         "7436.9",
         "4.0",
         "0.0",
         "0.0",
         "baseline_01",
         null,
         null,
         null
        ],
        [
         "2001-01-01 23:00:00",
         "-9.75",
         "680094.52",
         "4254.93",
         "52052.14",
         "673947.12",
         "680094.52",
         "4254.93",
         null,
         null,
         null,
         null,
         "1.0",
         "100500.0",
         "2.01",
         "100500.0",
         "49937.89",
         "0.86",
         "579594.52",
         "673947.12",
         null,
         null,
         "1.0",
         "100500.0",
         "2.01",
         "4254.93",
         "2114.25",
         "4.0",
         "0.0",
         "0.0",
         "baseline_01",
         null,
         null,
         null
        ],
        [
         "2001-01-02 00:00:00",
         "-10.35",
         "701267.36",
         "980.45",
         "50490.23",
         "699148.1",
         "701267.36",
         "980.45",
         null,
         null,
         null,
         null,
         "1.0",
         "100000.0",
         "2.0",
         "100000.0",
         "50000.0",
         "0.86",
         "601267.36",
         "699148.1",
         null,
         null,
         "1.0",
         "100000.0",
         "2.0",
         "980.45",
         "490.23",
         "4.0",
         "0.0",
         "0.0",
         "baseline_01",
         null,
         null,
         null
        ],
        [
         "2001-01-02 01:00:00",
         "-10.89",
         "703857.5",
         "29439.75",
         "64719.88",
         "702159.88",
         "703857.5",
         "29439.75",
         null,
         null,
         null,
         null,
         "1.0",
         "100000.0",
         "2.0",
         "100000.0",
         "50000.0",
         "0.86",
         "603857.5",
         "702159.88",
         null,
         null,
         "1.0",
         "100000.0",
         "2.0",
         "29439.75",
         "14719.88",
         "4.0",
         "0.0",
         "0.0",
         "baseline_01",
         null,
         null,
         null
        ],
        [
         "2001-01-02 02:00:00",
         "-11.45",
         "710937.94",
         "61415.11",
         "80707.55",
         "710392.96",
         "710937.94",
         "61415.11",
         null,
         null,
         null,
         null,
         "1.0",
         "100000.0",
         "2.0",
         "100000.0",
         "50000.0",
         "0.86",
         "610937.94",
         "710392.96",
         null,
         null,
         "1.0",
         "100000.0",
         "2.0",
         "61415.11",
         "30707.55",
         "4.0",
         "0.0",
         "0.0",
         "baseline_01",
         null,
         null,
         null
        ],
        [
         "2001-01-02 03:00:00",
         "-11.7",
         "706407.54",
         "77967.38",
         "88983.69",
         "705125.05",
         "706407.54",
         "77967.38",
         null,
         null,
         null,
         null,
         "1.0",
         "100000.0",
         "2.0",
         "100000.0",
         "50000.0",
         "0.86",
         "606407.54",
         "705125.05",
         null,
         null,
         "1.0",
         "100000.0",
         "2.0",
         "77967.38",
         "38983.69",
         "4.0",
         "0.0",
         "0.0",
         "baseline_01",
         null,
         null,
         null
        ],
        [
         "2001-01-02 04:00:00",
         "-11.7",
         "704279.2",
         "85794.54",
         "92897.27",
         "702650.23",
         "704279.2",
         "85794.54",
         null,
         null,
         null,
         null,
         "1.0",
         "100000.0",
         "2.0",
         "100000.0",
         "50000.0",
         "0.86",
         "604279.2",
         "702650.23",
         null,
         null,
         "1.0",
         "100000.0",
         "2.0",
         "85794.54",
         "42897.27",
         "4.0",
         "0.0",
         "0.0",
         "baseline_01",
         null,
         null,
         null
        ],
        [
         "2001-01-02 05:00:00",
         "-11.99",
         "715288.84",
         "89293.77",
         "94646.89",
         "715452.13",
         "715288.84",
         "89293.77",
         null,
         null,
         null,
         null,
         "1.0",
         "100000.0",
         "2.0",
         "100000.0",
         "50000.0",
         "0.86",
         "615288.84",
         "715452.13",
         null,
         null,
         "1.0",
         "100000.0",
         "2.0",
         "89293.77",
         "44646.89",
         "4.0",
         "0.0",
         "0.0",
         "baseline_01",
         null,
         null,
         null
        ],
        [
         "2001-01-02 06:00:00",
         "-11.91",
         "718766.28",
         "90837.27",
         "95418.63",
         "719495.67",
         "718766.28",
         "90837.27",
         null,
         null,
         null,
         null,
         "1.0",
         "100000.0",
         "2.0",
         "100000.0",
         "50000.0",
         "0.86",
         "618766.28",
         "719495.67",
         null,
         null,
         "1.0",
         "100000.0",
         "2.0",
         "90837.27",
         "45418.63",
         "4.0",
         "0.0",
         "0.0",
         "baseline_01",
         null,
         null,
         null
        ]
       ],
       "shape": {
        "columns": 33,
        "rows": 30
       }
      },
      "text/html": [
       "<div>\n",
       "<style scoped>\n",
       "    .dataframe tbody tr th:only-of-type {\n",
       "        vertical-align: middle;\n",
       "    }\n",
       "\n",
       "    .dataframe tbody tr th {\n",
       "        vertical-align: top;\n",
       "    }\n",
       "\n",
       "    .dataframe thead th {\n",
       "        text-align: right;\n",
       "    }\n",
       "</style>\n",
       "<table border=\"1\" class=\"dataframe\">\n",
       "  <thead>\n",
       "    <tr style=\"text-align: right;\">\n",
       "      <th></th>\n",
       "      <th>t_out_C</th>\n",
       "      <th>heating_W</th>\n",
       "      <th>cooling_W</th>\n",
       "      <th>elec_Wh</th>\n",
       "      <th>gas_Wh</th>\n",
       "      <th>hhw_W</th>\n",
       "      <th>chw_W</th>\n",
       "      <th>hr_hhw_W</th>\n",
       "      <th>hr_chw_W</th>\n",
       "      <th>hr_cop_h</th>\n",
       "      <th>...</th>\n",
       "      <th>awhp_cop_c</th>\n",
       "      <th>awhp_chw_W</th>\n",
       "      <th>elec_awhp_c_Wh</th>\n",
       "      <th>chiller_cop</th>\n",
       "      <th>chiller_chw_W</th>\n",
       "      <th>elec_chiller_Wh</th>\n",
       "      <th>scenario_id</th>\n",
       "      <th>max_cap_h_hr_W</th>\n",
       "      <th>min_cap_h_hr_W</th>\n",
       "      <th>simult_h_hr_W</th>\n",
       "    </tr>\n",
       "    <tr>\n",
       "      <th>timestamp</th>\n",
       "      <th></th>\n",
       "      <th></th>\n",
       "      <th></th>\n",
       "      <th></th>\n",
       "      <th></th>\n",
       "      <th></th>\n",
       "      <th></th>\n",
       "      <th></th>\n",
       "      <th></th>\n",
       "      <th></th>\n",
       "      <th></th>\n",
       "      <th></th>\n",
       "      <th></th>\n",
       "      <th></th>\n",
       "      <th></th>\n",
       "      <th></th>\n",
       "      <th></th>\n",
       "      <th></th>\n",
       "      <th></th>\n",
       "      <th></th>\n",
       "      <th></th>\n",
       "    </tr>\n",
       "  </thead>\n",
       "  <tbody>\n",
       "    <tr>\n",
       "      <th>2001-01-01 01:00:00</th>\n",
       "      <td>-4.40</td>\n",
       "      <td>609230.13</td>\n",
       "      <td>127902.41</td>\n",
       "      <td>101719.46</td>\n",
       "      <td>579104.80</td>\n",
       "      <td>609230.13</td>\n",
       "      <td>127902.41</td>\n",
       "      <td>NaN</td>\n",
       "      <td>NaN</td>\n",
       "      <td>NaN</td>\n",
       "      <td>...</td>\n",
       "      <td>2.28</td>\n",
       "      <td>111200.00</td>\n",
       "      <td>48771.93</td>\n",
       "      <td>4.0</td>\n",
       "      <td>16702.41</td>\n",
       "      <td>4175.60</td>\n",
       "      <td>baseline_01</td>\n",
       "      <td>NaN</td>\n",
       "      <td>NaN</td>\n",
       "      <td>NaN</td>\n",
       "    </tr>\n",
       "    <tr>\n",
       "      <th>2001-01-01 02:00:00</th>\n",
       "      <td>-4.40</td>\n",
       "      <td>606900.34</td>\n",
       "      <td>174577.65</td>\n",
       "      <td>113388.27</td>\n",
       "      <td>576395.75</td>\n",
       "      <td>606900.34</td>\n",
       "      <td>174577.65</td>\n",
       "      <td>NaN</td>\n",
       "      <td>NaN</td>\n",
       "      <td>NaN</td>\n",
       "      <td>...</td>\n",
       "      <td>2.28</td>\n",
       "      <td>111200.00</td>\n",
       "      <td>48771.93</td>\n",
       "      <td>4.0</td>\n",
       "      <td>63377.65</td>\n",
       "      <td>15844.41</td>\n",
       "      <td>baseline_01</td>\n",
       "      <td>NaN</td>\n",
       "      <td>NaN</td>\n",
       "      <td>NaN</td>\n",
       "    </tr>\n",
       "    <tr>\n",
       "      <th>2001-01-01 03:00:00</th>\n",
       "      <td>-4.11</td>\n",
       "      <td>604168.53</td>\n",
       "      <td>186763.68</td>\n",
       "      <td>116177.45</td>\n",
       "      <td>572540.93</td>\n",
       "      <td>604168.53</td>\n",
       "      <td>186763.68</td>\n",
       "      <td>NaN</td>\n",
       "      <td>NaN</td>\n",
       "      <td>NaN</td>\n",
       "      <td>...</td>\n",
       "      <td>2.29</td>\n",
       "      <td>111783.33</td>\n",
       "      <td>48716.18</td>\n",
       "      <td>4.0</td>\n",
       "      <td>74980.35</td>\n",
       "      <td>18745.09</td>\n",
       "      <td>baseline_01</td>\n",
       "      <td>NaN</td>\n",
       "      <td>NaN</td>\n",
       "      <td>NaN</td>\n",
       "    </tr>\n",
       "    <tr>\n",
       "      <th>2001-01-01 04:00:00</th>\n",
       "      <td>-3.55</td>\n",
       "      <td>600461.65</td>\n",
       "      <td>199730.65</td>\n",
       "      <td>118930.48</td>\n",
       "      <td>566932.15</td>\n",
       "      <td>600461.65</td>\n",
       "      <td>199730.65</td>\n",
       "      <td>NaN</td>\n",
       "      <td>NaN</td>\n",
       "      <td>NaN</td>\n",
       "      <td>...</td>\n",
       "      <td>2.32</td>\n",
       "      <td>112900.00</td>\n",
       "      <td>48611.41</td>\n",
       "      <td>4.0</td>\n",
       "      <td>86830.65</td>\n",
       "      <td>21707.66</td>\n",
       "      <td>baseline_01</td>\n",
       "      <td>NaN</td>\n",
       "      <td>NaN</td>\n",
       "      <td>NaN</td>\n",
       "    </tr>\n",
       "    <tr>\n",
       "      <th>2001-01-01 05:00:00</th>\n",
       "      <td>-3.30</td>\n",
       "      <td>604703.00</td>\n",
       "      <td>205553.30</td>\n",
       "      <td>120168.95</td>\n",
       "      <td>571282.55</td>\n",
       "      <td>604703.00</td>\n",
       "      <td>205553.30</td>\n",
       "      <td>NaN</td>\n",
       "      <td>NaN</td>\n",
       "      <td>NaN</td>\n",
       "      <td>...</td>\n",
       "      <td>2.34</td>\n",
       "      <td>113400.00</td>\n",
       "      <td>48565.31</td>\n",
       "      <td>4.0</td>\n",
       "      <td>92153.30</td>\n",
       "      <td>23038.33</td>\n",
       "      <td>baseline_01</td>\n",
       "      <td>NaN</td>\n",
       "      <td>NaN</td>\n",
       "      <td>NaN</td>\n",
       "    </tr>\n",
       "    <tr>\n",
       "      <th>2001-01-01 06:00:00</th>\n",
       "      <td>-3.65</td>\n",
       "      <td>607617.81</td>\n",
       "      <td>200142.30</td>\n",
       "      <td>119120.55</td>\n",
       "      <td>575485.83</td>\n",
       "      <td>607617.81</td>\n",
       "      <td>200142.30</td>\n",
       "      <td>NaN</td>\n",
       "      <td>NaN</td>\n",
       "      <td>NaN</td>\n",
       "      <td>...</td>\n",
       "      <td>2.32</td>\n",
       "      <td>112700.00</td>\n",
       "      <td>48629.99</td>\n",
       "      <td>4.0</td>\n",
       "      <td>87442.30</td>\n",
       "      <td>21860.57</td>\n",
       "      <td>baseline_01</td>\n",
       "      <td>NaN</td>\n",
       "      <td>NaN</td>\n",
       "      <td>NaN</td>\n",
       "    </tr>\n",
       "    <tr>\n",
       "      <th>2001-01-01 07:00:00</th>\n",
       "      <td>-4.19</td>\n",
       "      <td>611215.73</td>\n",
       "      <td>191604.12</td>\n",
       "      <td>117460.94</td>\n",
       "      <td>580929.14</td>\n",
       "      <td>611215.73</td>\n",
       "      <td>191604.12</td>\n",
       "      <td>NaN</td>\n",
       "      <td>NaN</td>\n",
       "      <td>NaN</td>\n",
       "      <td>...</td>\n",
       "      <td>2.29</td>\n",
       "      <td>111616.67</td>\n",
       "      <td>48732.04</td>\n",
       "      <td>4.0</td>\n",
       "      <td>79987.46</td>\n",
       "      <td>19996.86</td>\n",
       "      <td>baseline_01</td>\n",
       "      <td>NaN</td>\n",
       "      <td>NaN</td>\n",
       "      <td>NaN</td>\n",
       "    </tr>\n",
       "    <tr>\n",
       "      <th>2001-01-01 08:00:00</th>\n",
       "      <td>-3.76</td>\n",
       "      <td>607994.13</td>\n",
       "      <td>113827.74</td>\n",
       "      <td>97636.52</td>\n",
       "      <td>576175.34</td>\n",
       "      <td>607994.13</td>\n",
       "      <td>113827.74</td>\n",
       "      <td>NaN</td>\n",
       "      <td>NaN</td>\n",
       "      <td>NaN</td>\n",
       "      <td>...</td>\n",
       "      <td>2.31</td>\n",
       "      <td>112483.33</td>\n",
       "      <td>48650.21</td>\n",
       "      <td>4.0</td>\n",
       "      <td>1344.41</td>\n",
       "      <td>336.10</td>\n",
       "      <td>baseline_01</td>\n",
       "      <td>NaN</td>\n",
       "      <td>NaN</td>\n",
       "      <td>NaN</td>\n",
       "    </tr>\n",
       "    <tr>\n",
       "      <th>2001-01-01 09:00:00</th>\n",
       "      <td>-3.01</td>\n",
       "      <td>546663.14</td>\n",
       "      <td>109587.78</td>\n",
       "      <td>95153.51</td>\n",
       "      <td>503116.06</td>\n",
       "      <td>546663.14</td>\n",
       "      <td>109587.78</td>\n",
       "      <td>NaN</td>\n",
       "      <td>NaN</td>\n",
       "      <td>NaN</td>\n",
       "      <td>...</td>\n",
       "      <td>2.35</td>\n",
       "      <td>109587.78</td>\n",
       "      <td>46641.37</td>\n",
       "      <td>4.0</td>\n",
       "      <td>0.00</td>\n",
       "      <td>0.00</td>\n",
       "      <td>baseline_01</td>\n",
       "      <td>NaN</td>\n",
       "      <td>NaN</td>\n",
       "      <td>NaN</td>\n",
       "    </tr>\n",
       "    <tr>\n",
       "      <th>2001-01-01 10:00:00</th>\n",
       "      <td>-2.45</td>\n",
       "      <td>518821.39</td>\n",
       "      <td>125826.58</td>\n",
       "      <td>99506.04</td>\n",
       "      <td>469443.47</td>\n",
       "      <td>518821.39</td>\n",
       "      <td>125826.58</td>\n",
       "      <td>NaN</td>\n",
       "      <td>NaN</td>\n",
       "      <td>NaN</td>\n",
       "      <td>...</td>\n",
       "      <td>2.38</td>\n",
       "      <td>115100.00</td>\n",
       "      <td>48412.20</td>\n",
       "      <td>4.0</td>\n",
       "      <td>10726.58</td>\n",
       "      <td>2681.65</td>\n",
       "      <td>baseline_01</td>\n",
       "      <td>NaN</td>\n",
       "      <td>NaN</td>\n",
       "      <td>NaN</td>\n",
       "    </tr>\n",
       "    <tr>\n",
       "      <th>2001-01-01 11:00:00</th>\n",
       "      <td>-1.56</td>\n",
       "      <td>494195.62</td>\n",
       "      <td>153496.50</td>\n",
       "      <td>105668.00</td>\n",
       "      <td>438735.21</td>\n",
       "      <td>494195.62</td>\n",
       "      <td>153496.50</td>\n",
       "      <td>NaN</td>\n",
       "      <td>NaN</td>\n",
       "      <td>NaN</td>\n",
       "      <td>...</td>\n",
       "      <td>2.42</td>\n",
       "      <td>116883.33</td>\n",
       "      <td>48257.35</td>\n",
       "      <td>4.0</td>\n",
       "      <td>36613.16</td>\n",
       "      <td>9153.29</td>\n",
       "      <td>baseline_01</td>\n",
       "      <td>NaN</td>\n",
       "      <td>NaN</td>\n",
       "      <td>NaN</td>\n",
       "    </tr>\n",
       "    <tr>\n",
       "      <th>2001-01-01 12:00:00</th>\n",
       "      <td>-1.45</td>\n",
       "      <td>487443.57</td>\n",
       "      <td>162364.69</td>\n",
       "      <td>107794.03</td>\n",
       "      <td>430632.06</td>\n",
       "      <td>487443.57</td>\n",
       "      <td>162364.69</td>\n",
       "      <td>NaN</td>\n",
       "      <td>NaN</td>\n",
       "      <td>NaN</td>\n",
       "      <td>...</td>\n",
       "      <td>2.43</td>\n",
       "      <td>117100.00</td>\n",
       "      <td>48238.93</td>\n",
       "      <td>4.0</td>\n",
       "      <td>45264.69</td>\n",
       "      <td>11316.17</td>\n",
       "      <td>baseline_01</td>\n",
       "      <td>NaN</td>\n",
       "      <td>NaN</td>\n",
       "      <td>NaN</td>\n",
       "    </tr>\n",
       "    <tr>\n",
       "      <th>2001-01-01 13:00:00</th>\n",
       "      <td>-1.99</td>\n",
       "      <td>483818.45</td>\n",
       "      <td>153128.01</td>\n",
       "      <td>105941.61</td>\n",
       "      <td>427676.49</td>\n",
       "      <td>483818.45</td>\n",
       "      <td>153128.01</td>\n",
       "      <td>NaN</td>\n",
       "      <td>NaN</td>\n",
       "      <td>NaN</td>\n",
       "      <td>...</td>\n",
       "      <td>2.40</td>\n",
       "      <td>116016.67</td>\n",
       "      <td>48331.89</td>\n",
       "      <td>4.0</td>\n",
       "      <td>37111.34</td>\n",
       "      <td>9277.84</td>\n",
       "      <td>baseline_01</td>\n",
       "      <td>NaN</td>\n",
       "      <td>NaN</td>\n",
       "      <td>NaN</td>\n",
       "    </tr>\n",
       "    <tr>\n",
       "      <th>2001-01-01 14:00:00</th>\n",
       "      <td>-2.84</td>\n",
       "      <td>500469.35</td>\n",
       "      <td>135335.25</td>\n",
       "      <td>102218.77</td>\n",
       "      <td>449014.75</td>\n",
       "      <td>500469.35</td>\n",
       "      <td>135335.25</td>\n",
       "      <td>NaN</td>\n",
       "      <td>NaN</td>\n",
       "      <td>NaN</td>\n",
       "      <td>...</td>\n",
       "      <td>2.36</td>\n",
       "      <td>114316.67</td>\n",
       "      <td>48482.06</td>\n",
       "      <td>4.0</td>\n",
       "      <td>21018.58</td>\n",
       "      <td>5254.65</td>\n",
       "      <td>baseline_01</td>\n",
       "      <td>NaN</td>\n",
       "      <td>NaN</td>\n",
       "      <td>NaN</td>\n",
       "    </tr>\n",
       "    <tr>\n",
       "      <th>2001-01-01 15:00:00</th>\n",
       "      <td>-3.01</td>\n",
       "      <td>496728.78</td>\n",
       "      <td>130178.54</td>\n",
       "      <td>101073.10</td>\n",
       "      <td>445052.85</td>\n",
       "      <td>496728.78</td>\n",
       "      <td>130178.54</td>\n",
       "      <td>NaN</td>\n",
       "      <td>NaN</td>\n",
       "      <td>NaN</td>\n",
       "      <td>...</td>\n",
       "      <td>2.35</td>\n",
       "      <td>113983.33</td>\n",
       "      <td>48512.15</td>\n",
       "      <td>4.0</td>\n",
       "      <td>16195.20</td>\n",
       "      <td>4048.80</td>\n",
       "      <td>baseline_01</td>\n",
       "      <td>NaN</td>\n",
       "      <td>NaN</td>\n",
       "      <td>NaN</td>\n",
       "    </tr>\n",
       "    <tr>\n",
       "      <th>2001-01-01 16:00:00</th>\n",
       "      <td>-2.80</td>\n",
       "      <td>498164.56</td>\n",
       "      <td>135665.91</td>\n",
       "      <td>102265.63</td>\n",
       "      <td>446237.87</td>\n",
       "      <td>498164.56</td>\n",
       "      <td>135665.91</td>\n",
       "      <td>NaN</td>\n",
       "      <td>NaN</td>\n",
       "      <td>NaN</td>\n",
       "      <td>...</td>\n",
       "      <td>2.36</td>\n",
       "      <td>114400.00</td>\n",
       "      <td>48474.58</td>\n",
       "      <td>4.0</td>\n",
       "      <td>21265.91</td>\n",
       "      <td>5316.48</td>\n",
       "      <td>baseline_01</td>\n",
       "      <td>NaN</td>\n",
       "      <td>NaN</td>\n",
       "      <td>NaN</td>\n",
       "    </tr>\n",
       "    <tr>\n",
       "      <th>2001-01-01 17:00:00</th>\n",
       "      <td>-4.08</td>\n",
       "      <td>561067.93</td>\n",
       "      <td>96564.16</td>\n",
       "      <td>90772.05</td>\n",
       "      <td>522365.81</td>\n",
       "      <td>561067.93</td>\n",
       "      <td>96564.16</td>\n",
       "      <td>NaN</td>\n",
       "      <td>NaN</td>\n",
       "      <td>NaN</td>\n",
       "      <td>...</td>\n",
       "      <td>2.30</td>\n",
       "      <td>96564.16</td>\n",
       "      <td>42060.62</td>\n",
       "      <td>4.0</td>\n",
       "      <td>0.00</td>\n",
       "      <td>0.00</td>\n",
       "      <td>baseline_01</td>\n",
       "      <td>NaN</td>\n",
       "      <td>NaN</td>\n",
       "      <td>NaN</td>\n",
       "    </tr>\n",
       "    <tr>\n",
       "      <th>2001-01-01 18:00:00</th>\n",
       "      <td>-5.35</td>\n",
       "      <td>597933.37</td>\n",
       "      <td>72222.70</td>\n",
       "      <td>81309.16</td>\n",
       "      <td>568178.34</td>\n",
       "      <td>597933.37</td>\n",
       "      <td>72222.70</td>\n",
       "      <td>NaN</td>\n",
       "      <td>NaN</td>\n",
       "      <td>NaN</td>\n",
       "      <td>...</td>\n",
       "      <td>2.23</td>\n",
       "      <td>72222.70</td>\n",
       "      <td>32350.59</td>\n",
       "      <td>4.0</td>\n",
       "      <td>0.00</td>\n",
       "      <td>0.00</td>\n",
       "      <td>baseline_01</td>\n",
       "      <td>NaN</td>\n",
       "      <td>NaN</td>\n",
       "      <td>NaN</td>\n",
       "    </tr>\n",
       "    <tr>\n",
       "      <th>2001-01-01 19:00:00</th>\n",
       "      <td>-5.89</td>\n",
       "      <td>611523.30</td>\n",
       "      <td>62852.74</td>\n",
       "      <td>77567.84</td>\n",
       "      <td>585240.27</td>\n",
       "      <td>611523.30</td>\n",
       "      <td>62852.74</td>\n",
       "      <td>NaN</td>\n",
       "      <td>NaN</td>\n",
       "      <td>NaN</td>\n",
       "      <td>...</td>\n",
       "      <td>2.21</td>\n",
       "      <td>62852.74</td>\n",
       "      <td>28499.26</td>\n",
       "      <td>4.0</td>\n",
       "      <td>0.00</td>\n",
       "      <td>0.00</td>\n",
       "      <td>baseline_01</td>\n",
       "      <td>NaN</td>\n",
       "      <td>NaN</td>\n",
       "      <td>NaN</td>\n",
       "    </tr>\n",
       "    <tr>\n",
       "      <th>2001-01-01 20:00:00</th>\n",
       "      <td>-6.45</td>\n",
       "      <td>628074.30</td>\n",
       "      <td>53927.94</td>\n",
       "      <td>73950.83</td>\n",
       "      <td>605784.07</td>\n",
       "      <td>628074.30</td>\n",
       "      <td>53927.94</td>\n",
       "      <td>NaN</td>\n",
       "      <td>NaN</td>\n",
       "      <td>NaN</td>\n",
       "      <td>...</td>\n",
       "      <td>2.18</td>\n",
       "      <td>53927.94</td>\n",
       "      <td>24765.99</td>\n",
       "      <td>4.0</td>\n",
       "      <td>0.00</td>\n",
       "      <td>0.00</td>\n",
       "      <td>baseline_01</td>\n",
       "      <td>NaN</td>\n",
       "      <td>NaN</td>\n",
       "      <td>NaN</td>\n",
       "    </tr>\n",
       "    <tr>\n",
       "      <th>2001-01-01 21:00:00</th>\n",
       "      <td>-7.63</td>\n",
       "      <td>651466.86</td>\n",
       "      <td>35797.96</td>\n",
       "      <td>66340.50</td>\n",
       "      <td>635736.66</td>\n",
       "      <td>651466.86</td>\n",
       "      <td>35797.96</td>\n",
       "      <td>NaN</td>\n",
       "      <td>NaN</td>\n",
       "      <td>NaN</td>\n",
       "      <td>...</td>\n",
       "      <td>2.12</td>\n",
       "      <td>35797.96</td>\n",
       "      <td>16899.11</td>\n",
       "      <td>4.0</td>\n",
       "      <td>0.00</td>\n",
       "      <td>0.00</td>\n",
       "      <td>baseline_01</td>\n",
       "      <td>NaN</td>\n",
       "      <td>NaN</td>\n",
       "      <td>NaN</td>\n",
       "    </tr>\n",
       "    <tr>\n",
       "      <th>2001-01-01 22:00:00</th>\n",
       "      <td>-8.94</td>\n",
       "      <td>662557.67</td>\n",
       "      <td>15267.33</td>\n",
       "      <td>57179.14</td>\n",
       "      <td>651675.59</td>\n",
       "      <td>662557.67</td>\n",
       "      <td>15267.33</td>\n",
       "      <td>NaN</td>\n",
       "      <td>NaN</td>\n",
       "      <td>NaN</td>\n",
       "      <td>...</td>\n",
       "      <td>2.05</td>\n",
       "      <td>15267.33</td>\n",
       "      <td>7436.90</td>\n",
       "      <td>4.0</td>\n",
       "      <td>0.00</td>\n",
       "      <td>0.00</td>\n",
       "      <td>baseline_01</td>\n",
       "      <td>NaN</td>\n",
       "      <td>NaN</td>\n",
       "      <td>NaN</td>\n",
       "    </tr>\n",
       "    <tr>\n",
       "      <th>2001-01-01 23:00:00</th>\n",
       "      <td>-9.75</td>\n",
       "      <td>680094.52</td>\n",
       "      <td>4254.93</td>\n",
       "      <td>52052.14</td>\n",
       "      <td>673947.12</td>\n",
       "      <td>680094.52</td>\n",
       "      <td>4254.93</td>\n",
       "      <td>NaN</td>\n",
       "      <td>NaN</td>\n",
       "      <td>NaN</td>\n",
       "      <td>...</td>\n",
       "      <td>2.01</td>\n",
       "      <td>4254.93</td>\n",
       "      <td>2114.25</td>\n",
       "      <td>4.0</td>\n",
       "      <td>0.00</td>\n",
       "      <td>0.00</td>\n",
       "      <td>baseline_01</td>\n",
       "      <td>NaN</td>\n",
       "      <td>NaN</td>\n",
       "      <td>NaN</td>\n",
       "    </tr>\n",
       "    <tr>\n",
       "      <th>2001-01-02 00:00:00</th>\n",
       "      <td>-10.35</td>\n",
       "      <td>701267.36</td>\n",
       "      <td>980.45</td>\n",
       "      <td>50490.23</td>\n",
       "      <td>699148.10</td>\n",
       "      <td>701267.36</td>\n",
       "      <td>980.45</td>\n",
       "      <td>NaN</td>\n",
       "      <td>NaN</td>\n",
       "      <td>NaN</td>\n",
       "      <td>...</td>\n",
       "      <td>2.00</td>\n",
       "      <td>980.45</td>\n",
       "      <td>490.23</td>\n",
       "      <td>4.0</td>\n",
       "      <td>0.00</td>\n",
       "      <td>0.00</td>\n",
       "      <td>baseline_01</td>\n",
       "      <td>NaN</td>\n",
       "      <td>NaN</td>\n",
       "      <td>NaN</td>\n",
       "    </tr>\n",
       "    <tr>\n",
       "      <th>2001-01-02 01:00:00</th>\n",
       "      <td>-10.89</td>\n",
       "      <td>703857.50</td>\n",
       "      <td>29439.75</td>\n",
       "      <td>64719.88</td>\n",
       "      <td>702159.88</td>\n",
       "      <td>703857.50</td>\n",
       "      <td>29439.75</td>\n",
       "      <td>NaN</td>\n",
       "      <td>NaN</td>\n",
       "      <td>NaN</td>\n",
       "      <td>...</td>\n",
       "      <td>2.00</td>\n",
       "      <td>29439.75</td>\n",
       "      <td>14719.88</td>\n",
       "      <td>4.0</td>\n",
       "      <td>0.00</td>\n",
       "      <td>0.00</td>\n",
       "      <td>baseline_01</td>\n",
       "      <td>NaN</td>\n",
       "      <td>NaN</td>\n",
       "      <td>NaN</td>\n",
       "    </tr>\n",
       "    <tr>\n",
       "      <th>2001-01-02 02:00:00</th>\n",
       "      <td>-11.45</td>\n",
       "      <td>710937.94</td>\n",
       "      <td>61415.11</td>\n",
       "      <td>80707.55</td>\n",
       "      <td>710392.96</td>\n",
       "      <td>710937.94</td>\n",
       "      <td>61415.11</td>\n",
       "      <td>NaN</td>\n",
       "      <td>NaN</td>\n",
       "      <td>NaN</td>\n",
       "      <td>...</td>\n",
       "      <td>2.00</td>\n",
       "      <td>61415.11</td>\n",
       "      <td>30707.55</td>\n",
       "      <td>4.0</td>\n",
       "      <td>0.00</td>\n",
       "      <td>0.00</td>\n",
       "      <td>baseline_01</td>\n",
       "      <td>NaN</td>\n",
       "      <td>NaN</td>\n",
       "      <td>NaN</td>\n",
       "    </tr>\n",
       "    <tr>\n",
       "      <th>2001-01-02 03:00:00</th>\n",
       "      <td>-11.70</td>\n",
       "      <td>706407.54</td>\n",
       "      <td>77967.38</td>\n",
       "      <td>88983.69</td>\n",
       "      <td>705125.05</td>\n",
       "      <td>706407.54</td>\n",
       "      <td>77967.38</td>\n",
       "      <td>NaN</td>\n",
       "      <td>NaN</td>\n",
       "      <td>NaN</td>\n",
       "      <td>...</td>\n",
       "      <td>2.00</td>\n",
       "      <td>77967.38</td>\n",
       "      <td>38983.69</td>\n",
       "      <td>4.0</td>\n",
       "      <td>0.00</td>\n",
       "      <td>0.00</td>\n",
       "      <td>baseline_01</td>\n",
       "      <td>NaN</td>\n",
       "      <td>NaN</td>\n",
       "      <td>NaN</td>\n",
       "    </tr>\n",
       "    <tr>\n",
       "      <th>2001-01-02 04:00:00</th>\n",
       "      <td>-11.70</td>\n",
       "      <td>704279.20</td>\n",
       "      <td>85794.54</td>\n",
       "      <td>92897.27</td>\n",
       "      <td>702650.23</td>\n",
       "      <td>704279.20</td>\n",
       "      <td>85794.54</td>\n",
       "      <td>NaN</td>\n",
       "      <td>NaN</td>\n",
       "      <td>NaN</td>\n",
       "      <td>...</td>\n",
       "      <td>2.00</td>\n",
       "      <td>85794.54</td>\n",
       "      <td>42897.27</td>\n",
       "      <td>4.0</td>\n",
       "      <td>0.00</td>\n",
       "      <td>0.00</td>\n",
       "      <td>baseline_01</td>\n",
       "      <td>NaN</td>\n",
       "      <td>NaN</td>\n",
       "      <td>NaN</td>\n",
       "    </tr>\n",
       "    <tr>\n",
       "      <th>2001-01-02 05:00:00</th>\n",
       "      <td>-11.99</td>\n",
       "      <td>715288.84</td>\n",
       "      <td>89293.77</td>\n",
       "      <td>94646.89</td>\n",
       "      <td>715452.13</td>\n",
       "      <td>715288.84</td>\n",
       "      <td>89293.77</td>\n",
       "      <td>NaN</td>\n",
       "      <td>NaN</td>\n",
       "      <td>NaN</td>\n",
       "      <td>...</td>\n",
       "      <td>2.00</td>\n",
       "      <td>89293.77</td>\n",
       "      <td>44646.89</td>\n",
       "      <td>4.0</td>\n",
       "      <td>0.00</td>\n",
       "      <td>0.00</td>\n",
       "      <td>baseline_01</td>\n",
       "      <td>NaN</td>\n",
       "      <td>NaN</td>\n",
       "      <td>NaN</td>\n",
       "    </tr>\n",
       "    <tr>\n",
       "      <th>2001-01-02 06:00:00</th>\n",
       "      <td>-11.91</td>\n",
       "      <td>718766.28</td>\n",
       "      <td>90837.27</td>\n",
       "      <td>95418.63</td>\n",
       "      <td>719495.67</td>\n",
       "      <td>718766.28</td>\n",
       "      <td>90837.27</td>\n",
       "      <td>NaN</td>\n",
       "      <td>NaN</td>\n",
       "      <td>NaN</td>\n",
       "      <td>...</td>\n",
       "      <td>2.00</td>\n",
       "      <td>90837.27</td>\n",
       "      <td>45418.63</td>\n",
       "      <td>4.0</td>\n",
       "      <td>0.00</td>\n",
       "      <td>0.00</td>\n",
       "      <td>baseline_01</td>\n",
       "      <td>NaN</td>\n",
       "      <td>NaN</td>\n",
       "      <td>NaN</td>\n",
       "    </tr>\n",
       "  </tbody>\n",
       "</table>\n",
       "<p>30 rows × 33 columns</p>\n",
       "</div>"
      ],
      "text/plain": [
       "                     t_out_C  heating_W  cooling_W    elec_Wh     gas_Wh  \\\n",
       "timestamp                                                                  \n",
       "2001-01-01 01:00:00    -4.40  609230.13  127902.41  101719.46  579104.80   \n",
       "2001-01-01 02:00:00    -4.40  606900.34  174577.65  113388.27  576395.75   \n",
       "2001-01-01 03:00:00    -4.11  604168.53  186763.68  116177.45  572540.93   \n",
       "2001-01-01 04:00:00    -3.55  600461.65  199730.65  118930.48  566932.15   \n",
       "2001-01-01 05:00:00    -3.30  604703.00  205553.30  120168.95  571282.55   \n",
       "2001-01-01 06:00:00    -3.65  607617.81  200142.30  119120.55  575485.83   \n",
       "2001-01-01 07:00:00    -4.19  611215.73  191604.12  117460.94  580929.14   \n",
       "2001-01-01 08:00:00    -3.76  607994.13  113827.74   97636.52  576175.34   \n",
       "2001-01-01 09:00:00    -3.01  546663.14  109587.78   95153.51  503116.06   \n",
       "2001-01-01 10:00:00    -2.45  518821.39  125826.58   99506.04  469443.47   \n",
       "2001-01-01 11:00:00    -1.56  494195.62  153496.50  105668.00  438735.21   \n",
       "2001-01-01 12:00:00    -1.45  487443.57  162364.69  107794.03  430632.06   \n",
       "2001-01-01 13:00:00    -1.99  483818.45  153128.01  105941.61  427676.49   \n",
       "2001-01-01 14:00:00    -2.84  500469.35  135335.25  102218.77  449014.75   \n",
       "2001-01-01 15:00:00    -3.01  496728.78  130178.54  101073.10  445052.85   \n",
       "2001-01-01 16:00:00    -2.80  498164.56  135665.91  102265.63  446237.87   \n",
       "2001-01-01 17:00:00    -4.08  561067.93   96564.16   90772.05  522365.81   \n",
       "2001-01-01 18:00:00    -5.35  597933.37   72222.70   81309.16  568178.34   \n",
       "2001-01-01 19:00:00    -5.89  611523.30   62852.74   77567.84  585240.27   \n",
       "2001-01-01 20:00:00    -6.45  628074.30   53927.94   73950.83  605784.07   \n",
       "2001-01-01 21:00:00    -7.63  651466.86   35797.96   66340.50  635736.66   \n",
       "2001-01-01 22:00:00    -8.94  662557.67   15267.33   57179.14  651675.59   \n",
       "2001-01-01 23:00:00    -9.75  680094.52    4254.93   52052.14  673947.12   \n",
       "2001-01-02 00:00:00   -10.35  701267.36     980.45   50490.23  699148.10   \n",
       "2001-01-02 01:00:00   -10.89  703857.50   29439.75   64719.88  702159.88   \n",
       "2001-01-02 02:00:00   -11.45  710937.94   61415.11   80707.55  710392.96   \n",
       "2001-01-02 03:00:00   -11.70  706407.54   77967.38   88983.69  705125.05   \n",
       "2001-01-02 04:00:00   -11.70  704279.20   85794.54   92897.27  702650.23   \n",
       "2001-01-02 05:00:00   -11.99  715288.84   89293.77   94646.89  715452.13   \n",
       "2001-01-02 06:00:00   -11.91  718766.28   90837.27   95418.63  719495.67   \n",
       "\n",
       "                         hhw_W      chw_W  hr_hhw_W  hr_chw_W  hr_cop_h  ...  \\\n",
       "timestamp                                                                ...   \n",
       "2001-01-01 01:00:00  609230.13  127902.41       NaN       NaN       NaN  ...   \n",
       "2001-01-01 02:00:00  606900.34  174577.65       NaN       NaN       NaN  ...   \n",
       "2001-01-01 03:00:00  604168.53  186763.68       NaN       NaN       NaN  ...   \n",
       "2001-01-01 04:00:00  600461.65  199730.65       NaN       NaN       NaN  ...   \n",
       "2001-01-01 05:00:00  604703.00  205553.30       NaN       NaN       NaN  ...   \n",
       "2001-01-01 06:00:00  607617.81  200142.30       NaN       NaN       NaN  ...   \n",
       "2001-01-01 07:00:00  611215.73  191604.12       NaN       NaN       NaN  ...   \n",
       "2001-01-01 08:00:00  607994.13  113827.74       NaN       NaN       NaN  ...   \n",
       "2001-01-01 09:00:00  546663.14  109587.78       NaN       NaN       NaN  ...   \n",
       "2001-01-01 10:00:00  518821.39  125826.58       NaN       NaN       NaN  ...   \n",
       "2001-01-01 11:00:00  494195.62  153496.50       NaN       NaN       NaN  ...   \n",
       "2001-01-01 12:00:00  487443.57  162364.69       NaN       NaN       NaN  ...   \n",
       "2001-01-01 13:00:00  483818.45  153128.01       NaN       NaN       NaN  ...   \n",
       "2001-01-01 14:00:00  500469.35  135335.25       NaN       NaN       NaN  ...   \n",
       "2001-01-01 15:00:00  496728.78  130178.54       NaN       NaN       NaN  ...   \n",
       "2001-01-01 16:00:00  498164.56  135665.91       NaN       NaN       NaN  ...   \n",
       "2001-01-01 17:00:00  561067.93   96564.16       NaN       NaN       NaN  ...   \n",
       "2001-01-01 18:00:00  597933.37   72222.70       NaN       NaN       NaN  ...   \n",
       "2001-01-01 19:00:00  611523.30   62852.74       NaN       NaN       NaN  ...   \n",
       "2001-01-01 20:00:00  628074.30   53927.94       NaN       NaN       NaN  ...   \n",
       "2001-01-01 21:00:00  651466.86   35797.96       NaN       NaN       NaN  ...   \n",
       "2001-01-01 22:00:00  662557.67   15267.33       NaN       NaN       NaN  ...   \n",
       "2001-01-01 23:00:00  680094.52    4254.93       NaN       NaN       NaN  ...   \n",
       "2001-01-02 00:00:00  701267.36     980.45       NaN       NaN       NaN  ...   \n",
       "2001-01-02 01:00:00  703857.50   29439.75       NaN       NaN       NaN  ...   \n",
       "2001-01-02 02:00:00  710937.94   61415.11       NaN       NaN       NaN  ...   \n",
       "2001-01-02 03:00:00  706407.54   77967.38       NaN       NaN       NaN  ...   \n",
       "2001-01-02 04:00:00  704279.20   85794.54       NaN       NaN       NaN  ...   \n",
       "2001-01-02 05:00:00  715288.84   89293.77       NaN       NaN       NaN  ...   \n",
       "2001-01-02 06:00:00  718766.28   90837.27       NaN       NaN       NaN  ...   \n",
       "\n",
       "                     awhp_cop_c  awhp_chw_W  elec_awhp_c_Wh  chiller_cop  \\\n",
       "timestamp                                                                  \n",
       "2001-01-01 01:00:00        2.28   111200.00        48771.93          4.0   \n",
       "2001-01-01 02:00:00        2.28   111200.00        48771.93          4.0   \n",
       "2001-01-01 03:00:00        2.29   111783.33        48716.18          4.0   \n",
       "2001-01-01 04:00:00        2.32   112900.00        48611.41          4.0   \n",
       "2001-01-01 05:00:00        2.34   113400.00        48565.31          4.0   \n",
       "2001-01-01 06:00:00        2.32   112700.00        48629.99          4.0   \n",
       "2001-01-01 07:00:00        2.29   111616.67        48732.04          4.0   \n",
       "2001-01-01 08:00:00        2.31   112483.33        48650.21          4.0   \n",
       "2001-01-01 09:00:00        2.35   109587.78        46641.37          4.0   \n",
       "2001-01-01 10:00:00        2.38   115100.00        48412.20          4.0   \n",
       "2001-01-01 11:00:00        2.42   116883.33        48257.35          4.0   \n",
       "2001-01-01 12:00:00        2.43   117100.00        48238.93          4.0   \n",
       "2001-01-01 13:00:00        2.40   116016.67        48331.89          4.0   \n",
       "2001-01-01 14:00:00        2.36   114316.67        48482.06          4.0   \n",
       "2001-01-01 15:00:00        2.35   113983.33        48512.15          4.0   \n",
       "2001-01-01 16:00:00        2.36   114400.00        48474.58          4.0   \n",
       "2001-01-01 17:00:00        2.30    96564.16        42060.62          4.0   \n",
       "2001-01-01 18:00:00        2.23    72222.70        32350.59          4.0   \n",
       "2001-01-01 19:00:00        2.21    62852.74        28499.26          4.0   \n",
       "2001-01-01 20:00:00        2.18    53927.94        24765.99          4.0   \n",
       "2001-01-01 21:00:00        2.12    35797.96        16899.11          4.0   \n",
       "2001-01-01 22:00:00        2.05    15267.33         7436.90          4.0   \n",
       "2001-01-01 23:00:00        2.01     4254.93         2114.25          4.0   \n",
       "2001-01-02 00:00:00        2.00      980.45          490.23          4.0   \n",
       "2001-01-02 01:00:00        2.00    29439.75        14719.88          4.0   \n",
       "2001-01-02 02:00:00        2.00    61415.11        30707.55          4.0   \n",
       "2001-01-02 03:00:00        2.00    77967.38        38983.69          4.0   \n",
       "2001-01-02 04:00:00        2.00    85794.54        42897.27          4.0   \n",
       "2001-01-02 05:00:00        2.00    89293.77        44646.89          4.0   \n",
       "2001-01-02 06:00:00        2.00    90837.27        45418.63          4.0   \n",
       "\n",
       "                     chiller_chw_W  elec_chiller_Wh  scenario_id  \\\n",
       "timestamp                                                          \n",
       "2001-01-01 01:00:00       16702.41          4175.60  baseline_01   \n",
       "2001-01-01 02:00:00       63377.65         15844.41  baseline_01   \n",
       "2001-01-01 03:00:00       74980.35         18745.09  baseline_01   \n",
       "2001-01-01 04:00:00       86830.65         21707.66  baseline_01   \n",
       "2001-01-01 05:00:00       92153.30         23038.33  baseline_01   \n",
       "2001-01-01 06:00:00       87442.30         21860.57  baseline_01   \n",
       "2001-01-01 07:00:00       79987.46         19996.86  baseline_01   \n",
       "2001-01-01 08:00:00        1344.41           336.10  baseline_01   \n",
       "2001-01-01 09:00:00           0.00             0.00  baseline_01   \n",
       "2001-01-01 10:00:00       10726.58          2681.65  baseline_01   \n",
       "2001-01-01 11:00:00       36613.16          9153.29  baseline_01   \n",
       "2001-01-01 12:00:00       45264.69         11316.17  baseline_01   \n",
       "2001-01-01 13:00:00       37111.34          9277.84  baseline_01   \n",
       "2001-01-01 14:00:00       21018.58          5254.65  baseline_01   \n",
       "2001-01-01 15:00:00       16195.20          4048.80  baseline_01   \n",
       "2001-01-01 16:00:00       21265.91          5316.48  baseline_01   \n",
       "2001-01-01 17:00:00           0.00             0.00  baseline_01   \n",
       "2001-01-01 18:00:00           0.00             0.00  baseline_01   \n",
       "2001-01-01 19:00:00           0.00             0.00  baseline_01   \n",
       "2001-01-01 20:00:00           0.00             0.00  baseline_01   \n",
       "2001-01-01 21:00:00           0.00             0.00  baseline_01   \n",
       "2001-01-01 22:00:00           0.00             0.00  baseline_01   \n",
       "2001-01-01 23:00:00           0.00             0.00  baseline_01   \n",
       "2001-01-02 00:00:00           0.00             0.00  baseline_01   \n",
       "2001-01-02 01:00:00           0.00             0.00  baseline_01   \n",
       "2001-01-02 02:00:00           0.00             0.00  baseline_01   \n",
       "2001-01-02 03:00:00           0.00             0.00  baseline_01   \n",
       "2001-01-02 04:00:00           0.00             0.00  baseline_01   \n",
       "2001-01-02 05:00:00           0.00             0.00  baseline_01   \n",
       "2001-01-02 06:00:00           0.00             0.00  baseline_01   \n",
       "\n",
       "                     max_cap_h_hr_W  min_cap_h_hr_W  simult_h_hr_W  \n",
       "timestamp                                                           \n",
       "2001-01-01 01:00:00             NaN             NaN            NaN  \n",
       "2001-01-01 02:00:00             NaN             NaN            NaN  \n",
       "2001-01-01 03:00:00             NaN             NaN            NaN  \n",
       "2001-01-01 04:00:00             NaN             NaN            NaN  \n",
       "2001-01-01 05:00:00             NaN             NaN            NaN  \n",
       "2001-01-01 06:00:00             NaN             NaN            NaN  \n",
       "2001-01-01 07:00:00             NaN             NaN            NaN  \n",
       "2001-01-01 08:00:00             NaN             NaN            NaN  \n",
       "2001-01-01 09:00:00             NaN             NaN            NaN  \n",
       "2001-01-01 10:00:00             NaN             NaN            NaN  \n",
       "2001-01-01 11:00:00             NaN             NaN            NaN  \n",
       "2001-01-01 12:00:00             NaN             NaN            NaN  \n",
       "2001-01-01 13:00:00             NaN             NaN            NaN  \n",
       "2001-01-01 14:00:00             NaN             NaN            NaN  \n",
       "2001-01-01 15:00:00             NaN             NaN            NaN  \n",
       "2001-01-01 16:00:00             NaN             NaN            NaN  \n",
       "2001-01-01 17:00:00             NaN             NaN            NaN  \n",
       "2001-01-01 18:00:00             NaN             NaN            NaN  \n",
       "2001-01-01 19:00:00             NaN             NaN            NaN  \n",
       "2001-01-01 20:00:00             NaN             NaN            NaN  \n",
       "2001-01-01 21:00:00             NaN             NaN            NaN  \n",
       "2001-01-01 22:00:00             NaN             NaN            NaN  \n",
       "2001-01-01 23:00:00             NaN             NaN            NaN  \n",
       "2001-01-02 00:00:00             NaN             NaN            NaN  \n",
       "2001-01-02 01:00:00             NaN             NaN            NaN  \n",
       "2001-01-02 02:00:00             NaN             NaN            NaN  \n",
       "2001-01-02 03:00:00             NaN             NaN            NaN  \n",
       "2001-01-02 04:00:00             NaN             NaN            NaN  \n",
       "2001-01-02 05:00:00             NaN             NaN            NaN  \n",
       "2001-01-02 06:00:00             NaN             NaN            NaN  \n",
       "\n",
       "[30 rows x 33 columns]"
      ]
     },
     "execution_count": 12,
     "metadata": {},
     "output_type": "execute_result"
    }
   ],
   "source": [
    "from src.energy import loads_to_site_energy\n",
    "\n",
    "site_energy = loads_to_site_energy(load_data, library, settings.equipment_scenarios, detail=True)\n",
    "\n",
    "site_energy.head(30)\n"
   ]
  },
  {
   "cell_type": "code",
   "execution_count": 13,
   "id": "1b27140a",
   "metadata": {},
   "outputs": [
    {
     "data": {
      "text/plain": [
       "['default_scenario_01', 'new_007']"
      ]
     },
     "execution_count": 13,
     "metadata": {},
     "output_type": "execute_result"
    }
   ],
   "source": [
    "settings.list_emission_scenarios()"
   ]
  },
  {
   "cell_type": "code",
   "execution_count": 14,
   "id": "d781e1f9",
   "metadata": {},
   "outputs": [
    {
     "data": {
      "application/vnd.microsoft.datawrangler.viewer.v0+json": {
       "columns": [
        {
         "name": "timestamp",
         "rawType": "datetime64[ns]",
         "type": "datetime"
        },
        {
         "name": "t_out_C",
         "rawType": "float64",
         "type": "float"
        },
        {
         "name": "heating_W",
         "rawType": "float64",
         "type": "float"
        },
        {
         "name": "cooling_W",
         "rawType": "float64",
         "type": "float"
        },
        {
         "name": "elec_Wh",
         "rawType": "float64",
         "type": "float"
        },
        {
         "name": "gas_Wh",
         "rawType": "float64",
         "type": "float"
        },
        {
         "name": "hhw_W",
         "rawType": "float64",
         "type": "float"
        },
        {
         "name": "chw_W",
         "rawType": "float64",
         "type": "float"
        },
        {
         "name": "hr_hhw_W",
         "rawType": "float64",
         "type": "float"
        },
        {
         "name": "hr_chw_W",
         "rawType": "float64",
         "type": "float"
        },
        {
         "name": "hr_cop_h",
         "rawType": "float64",
         "type": "float"
        },
        {
         "name": "elec_hr_Wh",
         "rawType": "float64",
         "type": "float"
        },
        {
         "name": "awhp_num_h",
         "rawType": "float64",
         "type": "float"
        },
        {
         "name": "awhp_cap_h_W",
         "rawType": "float64",
         "type": "float"
        },
        {
         "name": "awhp_cop_h",
         "rawType": "float64",
         "type": "float"
        },
        {
         "name": "awhp_hhw_W",
         "rawType": "float64",
         "type": "float"
        },
        {
         "name": "elec_awhp_h_Wh",
         "rawType": "float64",
         "type": "float"
        },
        {
         "name": "boiler_eff",
         "rawType": "float64",
         "type": "float"
        },
        {
         "name": "boiler_hhw_W",
         "rawType": "float64",
         "type": "float"
        },
        {
         "name": "gas_boiler_Wh",
         "rawType": "float64",
         "type": "float"
        },
        {
         "name": "res_hhw_W",
         "rawType": "float64",
         "type": "float"
        },
        {
         "name": "elec_res_Wh",
         "rawType": "float64",
         "type": "float"
        },
        {
         "name": "awhp_num_c",
         "rawType": "float64",
         "type": "float"
        },
        {
         "name": "awhp_cap_c_W",
         "rawType": "float64",
         "type": "float"
        },
        {
         "name": "awhp_cop_c",
         "rawType": "float64",
         "type": "float"
        },
        {
         "name": "awhp_chw_W",
         "rawType": "float64",
         "type": "float"
        },
        {
         "name": "elec_awhp_c_Wh",
         "rawType": "float64",
         "type": "float"
        },
        {
         "name": "chiller_cop",
         "rawType": "float64",
         "type": "float"
        },
        {
         "name": "chiller_chw_W",
         "rawType": "float64",
         "type": "float"
        },
        {
         "name": "elec_chiller_Wh",
         "rawType": "float64",
         "type": "float"
        },
        {
         "name": "scenario_id",
         "rawType": "object",
         "type": "string"
        },
        {
         "name": "max_cap_h_hr_W",
         "rawType": "float64",
         "type": "float"
        },
        {
         "name": "min_cap_h_hr_W",
         "rawType": "float64",
         "type": "float"
        },
        {
         "name": "simult_h_hr_W",
         "rawType": "float64",
         "type": "float"
        },
        {
         "name": "elec_emissions_rate",
         "rawType": "float64",
         "type": "float"
        },
        {
         "name": "year",
         "rawType": "int64",
         "type": "integer"
        },
        {
         "name": "elec_emissions",
         "rawType": "float64",
         "type": "float"
        },
        {
         "name": "gas_emissions",
         "rawType": "float64",
         "type": "float"
        },
        {
         "name": "total_refrig_emissions",
         "rawType": "float64",
         "type": "float"
        },
        {
         "name": "em_scen_id",
         "rawType": "object",
         "type": "string"
        }
       ],
       "ref": "6ea26f68-9269-4303-9073-4896ed57f4ab",
       "rows": [
        [
         "2025-01-01 01:00:00",
         "-4.4",
         "609230.13",
         "127902.41",
         "101719.46",
         "579104.8",
         "609230.13",
         "127902.41",
         null,
         null,
         null,
         null,
         "1.0",
         "111200.0",
         "2.28",
         "111200.0",
         "48771.93",
         "0.86",
         "498030.13",
         "579104.8",
         null,
         null,
         "1.0",
         "111200.0",
         "2.28",
         "111200.0",
         "48771.93",
         "4.0",
         "16702.41",
         "4175.6",
         "baseline_01",
         null,
         null,
         null,
         "489.35",
         "2025",
         "49.776417751000004",
         "104.23886400000002",
         "0.0",
         "default_scenario_01"
        ],
        [
         "2025-01-01 02:00:00",
         "-4.4",
         "606900.34",
         "174577.65",
         "113388.27",
         "576395.75",
         "606900.34",
         "174577.65",
         null,
         null,
         null,
         null,
         "1.0",
         "111200.0",
         "2.28",
         "111200.0",
         "48771.93",
         "0.86",
         "495700.34",
         "576395.75",
         null,
         null,
         "1.0",
         "111200.0",
         "2.28",
         "111200.0",
         "48771.93",
         "4.0",
         "63377.65",
         "15844.41",
         "baseline_01",
         null,
         null,
         null,
         "445.15",
         "2025",
         "50.4747883905",
         "103.751235",
         "0.0",
         "default_scenario_01"
        ],
        [
         "2025-01-01 03:00:00",
         "-4.11",
         "604168.53",
         "186763.68",
         "116177.45",
         "572540.93",
         "604168.53",
         "186763.68",
         null,
         null,
         null,
         null,
         "1.0",
         "111783.33",
         "2.29",
         "111783.33",
         "48716.18",
         "0.86",
         "492385.2",
         "572540.93",
         null,
         null,
         "1.0",
         "111783.33",
         "2.29",
         "111783.33",
         "48716.18",
         "4.0",
         "74980.35",
         "18745.09",
         "baseline_01",
         null,
         null,
         null,
         "447.15",
         "2025",
         "51.9487467675",
         "103.0573674",
         "0.0",
         "default_scenario_01"
        ],
        [
         "2025-01-01 04:00:00",
         "-3.55",
         "600461.65",
         "199730.65",
         "118930.48",
         "566932.15",
         "600461.65",
         "199730.65",
         null,
         null,
         null,
         null,
         "1.0",
         "112900.0",
         "2.32",
         "112900.0",
         "48611.41",
         "0.86",
         "487561.65",
         "566932.15",
         null,
         null,
         "1.0",
         "112900.0",
         "2.32",
         "112900.0",
         "48611.41",
         "4.0",
         "86830.65",
         "21707.66",
         "baseline_01",
         null,
         null,
         null,
         "449.35",
         "2025",
         "53.441411188000004",
         "102.047787",
         "0.0",
         "default_scenario_01"
        ],
        [
         "2025-01-01 05:00:00",
         "-3.3",
         "604703.0",
         "205553.3",
         "120168.95",
         "571282.55",
         "604703.0",
         "205553.3",
         null,
         null,
         null,
         null,
         "1.0",
         "113400.0",
         "2.34",
         "113400.0",
         "48565.31",
         "0.86",
         "491303.0",
         "571282.55",
         null,
         null,
         "1.0",
         "113400.0",
         "2.34",
         "113400.0",
         "48565.31",
         "4.0",
         "92153.3",
         "23038.33",
         "baseline_01",
         null,
         null,
         null,
         "464.95",
         "2025",
         "55.872553302499995",
         "102.83085900000002",
         "0.0",
         "default_scenario_01"
        ],
        [
         "2025-01-01 06:00:00",
         "-3.65",
         "607617.81",
         "200142.3",
         "119120.55",
         "575485.83",
         "607617.81",
         "200142.3",
         null,
         null,
         null,
         null,
         "1.0",
         "112700.0",
         "2.32",
         "112700.0",
         "48629.99",
         "0.86",
         "494917.81",
         "575485.83",
         null,
         null,
         "1.0",
         "112700.0",
         "2.32",
         "112700.0",
         "48629.99",
         "4.0",
         "87442.3",
         "21860.57",
         "baseline_01",
         null,
         null,
         null,
         "455.25",
         "2025",
         "54.2296303875",
         "103.5874494",
         "0.0",
         "default_scenario_01"
        ],
        [
         "2025-01-01 07:00:00",
         "-4.19",
         "611215.73",
         "191604.12",
         "117460.94",
         "580929.14",
         "611215.73",
         "191604.12",
         null,
         null,
         null,
         null,
         "1.0",
         "111616.67",
         "2.29",
         "111616.67",
         "48732.04",
         "0.86",
         "499599.06",
         "580929.14",
         null,
         null,
         "1.0",
         "111616.67",
         "2.29",
         "111616.67",
         "48732.04",
         "4.0",
         "79987.46",
         "19996.86",
         "baseline_01",
         null,
         null,
         null,
         "462.85",
         "2025",
         "54.366796079000004",
         "104.5672452",
         "0.0",
         "default_scenario_01"
        ],
        [
         "2025-01-01 08:00:00",
         "-3.76",
         "607994.13",
         "113827.74",
         "97636.52",
         "576175.34",
         "607994.13",
         "113827.74",
         null,
         null,
         null,
         null,
         "1.0",
         "112483.33",
         "2.31",
         "112483.33",
         "48650.21",
         "0.86",
         "495510.79",
         "576175.34",
         null,
         null,
         "1.0",
         "112483.33",
         "2.31",
         "112483.33",
         "48650.21",
         "4.0",
         "1344.41",
         "336.1",
         "baseline_01",
         null,
         null,
         null,
         "347.25",
         "2025",
         "33.90428157",
         "103.71156119999999",
         "0.0",
         "default_scenario_01"
        ],
        [
         "2025-01-01 09:00:00",
         "-3.01",
         "546663.14",
         "109587.78",
         "95153.51",
         "503116.06",
         "546663.14",
         "109587.78",
         null,
         null,
         null,
         null,
         "1.0",
         "113983.33",
         "2.35",
         "113983.33",
         "48512.15",
         "0.86",
         "432679.81",
         "503116.06",
         null,
         null,
         "1.0",
         "113983.33",
         "2.35",
         "109587.78",
         "46641.37",
         "4.0",
         "0.0",
         "0.0",
         "baseline_01",
         null,
         null,
         null,
         "292.3",
         "2025",
         "27.813370973",
         "90.5608908",
         "0.0",
         "default_scenario_01"
        ],
        [
         "2025-01-01 10:00:00",
         "-2.45",
         "518821.39",
         "125826.58",
         "99506.04",
         "469443.47",
         "518821.39",
         "125826.58",
         null,
         null,
         null,
         null,
         "1.0",
         "115100.0",
         "2.38",
         "115100.0",
         "48412.2",
         "0.86",
         "403721.39",
         "469443.47",
         null,
         null,
         "1.0",
         "115100.0",
         "2.38",
         "115100.0",
         "48412.2",
         "4.0",
         "10726.58",
         "2681.65",
         "baseline_01",
         null,
         null,
         null,
         "291.0",
         "2025",
         "28.956257639999997",
         "84.4998246",
         "0.0",
         "default_scenario_01"
        ],
        [
         "2025-01-01 11:00:00",
         "-1.56",
         "494195.62",
         "153496.5",
         "105668.0",
         "438735.21",
         "494195.62",
         "153496.5",
         null,
         null,
         null,
         null,
         "1.0",
         "116883.33",
         "2.42",
         "116883.33",
         "48257.35",
         "0.86",
         "377312.28",
         "438735.21",
         null,
         null,
         "1.0",
         "116883.33",
         "2.42",
         "116883.33",
         "48257.35",
         "4.0",
         "36613.16",
         "9153.29",
         "baseline_01",
         null,
         null,
         null,
         "286.2",
         "2025",
         "30.2421816",
         "78.97233779999999",
         "0.0",
         "default_scenario_01"
        ],
        [
         "2025-01-01 12:00:00",
         "-1.45",
         "487443.57",
         "162364.69",
         "107794.03",
         "430632.06",
         "487443.57",
         "162364.69",
         null,
         null,
         null,
         null,
         "1.0",
         "117100.0",
         "2.43",
         "117100.0",
         "48238.93",
         "0.86",
         "370343.57",
         "430632.06",
         null,
         null,
         "1.0",
         "117100.0",
         "2.43",
         "117100.0",
         "48238.93",
         "4.0",
         "45264.69",
         "11316.17",
         "baseline_01",
         null,
         null,
         null,
         "316.9",
         "2025",
         "34.159928107",
         "77.5137708",
         "0.0",
         "default_scenario_01"
        ],
        [
         "2025-01-01 13:00:00",
         "-1.99",
         "483818.45",
         "153128.01",
         "105941.61",
         "427676.49",
         "483818.45",
         "153128.01",
         null,
         null,
         null,
         null,
         "1.0",
         "116016.67",
         "2.4",
         "116016.67",
         "48331.89",
         "0.86",
         "367801.79",
         "427676.49",
         null,
         null,
         "1.0",
         "116016.67",
         "2.4",
         "116016.67",
         "48331.89",
         "4.0",
         "37111.34",
         "9277.84",
         "baseline_01",
         null,
         null,
         null,
         "338.34999999999997",
         "2025",
         "35.845343743499996",
         "76.9817682",
         "0.0",
         "default_scenario_01"
        ],
        [
         "2025-01-01 14:00:00",
         "-2.84",
         "500469.35",
         "135335.25",
         "102218.77",
         "449014.75",
         "500469.35",
         "135335.25",
         null,
         null,
         null,
         null,
         "1.0",
         "114316.67",
         "2.36",
         "114316.67",
         "48482.06",
         "0.86",
         "386152.69",
         "449014.75",
         null,
         null,
         "1.0",
         "114316.67",
         "2.36",
         "114316.67",
         "48482.06",
         "4.0",
         "21018.58",
         "5254.65",
         "baseline_01",
         null,
         null,
         null,
         "334.05",
         "2025",
         "34.1461801185",
         "80.822655",
         "0.0",
         "default_scenario_01"
        ],
        [
         "2025-01-01 15:00:00",
         "-3.01",
         "496728.78",
         "130178.54",
         "101073.1",
         "445052.85",
         "496728.78",
         "130178.54",
         null,
         null,
         null,
         null,
         "1.0",
         "113983.33",
         "2.35",
         "113983.33",
         "48512.15",
         "0.86",
         "382745.45",
         "445052.85",
         null,
         null,
         "1.0",
         "113983.33",
         "2.35",
         "113983.33",
         "48512.15",
         "4.0",
         "16195.2",
         "4048.8",
         "baseline_01",
         null,
         null,
         null,
         "331.55",
         "2025",
         "33.510786305",
         "80.109513",
         "0.0",
         "default_scenario_01"
        ],
        [
         "2025-01-01 16:00:00",
         "-2.8",
         "498164.56",
         "135665.91",
         "102265.63",
         "446237.87",
         "498164.56",
         "135665.91",
         null,
         null,
         null,
         null,
         "1.0",
         "114400.0",
         "2.36",
         "114400.0",
         "48474.58",
         "0.86",
         "383764.56",
         "446237.87",
         null,
         null,
         "1.0",
         "114400.0",
         "2.36",
         "114400.0",
         "48474.58",
         "4.0",
         "21265.91",
         "5316.48",
         "baseline_01",
         null,
         null,
         null,
         "455.55",
         "2025",
         "46.5871077465",
         "80.3228166",
         "0.0",
         "default_scenario_01"
        ],
        [
         "2025-01-01 17:00:00",
         "-4.08",
         "561067.93",
         "96564.16",
         "90772.05",
         "522365.81",
         "561067.93",
         "96564.16",
         null,
         null,
         null,
         null,
         "1.0",
         "111833.33",
         "2.3",
         "111833.33",
         "48711.43",
         "0.86",
         "449234.6",
         "522365.81",
         null,
         null,
         "1.0",
         "111833.33",
         "2.3",
         "96564.16",
         "42060.62",
         "4.0",
         "0.0",
         "0.0",
         "baseline_01",
         null,
         null,
         null,
         "467.20000000000005",
         "2025",
         "42.40870176000001",
         "94.0258458",
         "0.0",
         "default_scenario_01"
        ],
        [
         "2025-01-01 18:00:00",
         "-5.35",
         "597933.37",
         "72222.7",
         "81309.16",
         "568178.34",
         "597933.37",
         "72222.7",
         null,
         null,
         null,
         null,
         "1.0",
         "109300.0",
         "2.23",
         "109300.0",
         "48958.57",
         "0.86",
         "488633.37",
         "568178.34",
         null,
         null,
         "1.0",
         "109300.0",
         "2.23",
         "72222.7",
         "32350.59",
         "4.0",
         "0.0",
         "0.0",
         "baseline_01",
         null,
         null,
         null,
         "474.4",
         "2025",
         "38.573065504",
         "102.2721012",
         "0.0",
         "default_scenario_01"
        ],
        [
         "2025-01-01 19:00:00",
         "-5.89",
         "611523.3",
         "62852.74",
         "77567.84",
         "585240.27",
         "611523.3",
         "62852.74",
         null,
         null,
         null,
         null,
         "1.0",
         "108216.67",
         "2.21",
         "108216.67",
         "49068.58",
         "0.86",
         "503306.63",
         "585240.27",
         null,
         null,
         "1.0",
         "108216.67",
         "2.21",
         "62852.74",
         "28499.26",
         "4.0",
         "0.0",
         "0.0",
         "baseline_01",
         null,
         null,
         null,
         "451.6",
         "2025",
         "35.029636544",
         "105.34324860000001",
         "0.0",
         "default_scenario_01"
        ],
        [
         "2025-01-01 20:00:00",
         "-6.45",
         "628074.3",
         "53927.94",
         "73950.83",
         "605784.07",
         "628074.3",
         "53927.94",
         null,
         null,
         null,
         null,
         "1.0",
         "107100.0",
         "2.18",
         "107100.0",
         "49184.85",
         "0.86",
         "520974.3",
         "605784.07",
         null,
         null,
         "1.0",
         "107100.0",
         "2.18",
         "53927.94",
         "24765.99",
         "4.0",
         "0.0",
         "0.0",
         "baseline_01",
         null,
         null,
         null,
         "455.7",
         "2025",
         "33.699393231",
         "109.0411326",
         "0.0",
         "default_scenario_01"
        ],
        [
         "2025-01-01 21:00:00",
         "-7.63",
         "651466.86",
         "35797.96",
         "66340.5",
         "635736.66",
         "651466.86",
         "35797.96",
         null,
         null,
         null,
         null,
         "1.0",
         "104733.33",
         "2.12",
         "104733.33",
         "49441.38",
         "0.86",
         "546733.53",
         "635736.66",
         null,
         null,
         "1.0",
         "104733.33",
         "2.12",
         "35797.96",
         "16899.11",
         "4.0",
         "0.0",
         "0.0",
         "baseline_01",
         null,
         null,
         null,
         "489.90000000000003",
         "2025",
         "32.50021095",
         "114.43259880000001",
         "0.0",
         "default_scenario_01"
        ],
        [
         "2025-01-01 22:00:00",
         "-8.94",
         "662557.67",
         "15267.33",
         "57179.14",
         "651675.59",
         "662557.67",
         "15267.33",
         null,
         null,
         null,
         null,
         "1.0",
         "102116.67",
         "2.05",
         "102116.67",
         "49742.24",
         "0.86",
         "560441.0",
         "651675.59",
         null,
         null,
         "1.0",
         "102116.67",
         "2.05",
         "15267.33",
         "7436.9",
         "4.0",
         "0.0",
         "0.0",
         "baseline_01",
         null,
         null,
         null,
         "515.3",
         "2025",
         "29.464410841999996",
         "117.3016062",
         "0.0",
         "default_scenario_01"
        ],
        [
         "2025-01-01 23:00:00",
         "-9.75",
         "680094.52",
         "4254.93",
         "52052.14",
         "673947.12",
         "680094.52",
         "4254.93",
         null,
         null,
         null,
         null,
         "1.0",
         "100500.0",
         "2.01",
         "100500.0",
         "49937.89",
         "0.86",
         "579594.52",
         "673947.12",
         null,
         null,
         "1.0",
         "100500.0",
         "2.01",
         "4254.93",
         "2114.25",
         "4.0",
         "0.0",
         "0.0",
         "baseline_01",
         null,
         null,
         null,
         "490.95000000000005",
         "2025",
         "25.554998133",
         "121.31048159999999",
         "0.0",
         "default_scenario_01"
        ],
        [
         "2025-01-02 00:00:00",
         "-10.35",
         "701267.36",
         "980.45",
         "50490.23",
         "699148.1",
         "701267.36",
         "980.45",
         null,
         null,
         null,
         null,
         "1.0",
         "100000.0",
         "2.0",
         "100000.0",
         "50000.0",
         "0.86",
         "601267.36",
         "699148.1",
         null,
         null,
         "1.0",
         "100000.0",
         "2.0",
         "980.45",
         "490.23",
         "4.0",
         "0.0",
         "0.0",
         "baseline_01",
         null,
         null,
         null,
         "484.6",
         "2025",
         "24.467565458000003",
         "125.846658",
         "0.0",
         "default_scenario_01"
        ],
        [
         "2025-01-02 01:00:00",
         "-10.89",
         "703857.5",
         "29439.75",
         "64719.88",
         "702159.88",
         "703857.5",
         "29439.75",
         null,
         null,
         null,
         null,
         "1.0",
         "100000.0",
         "2.0",
         "100000.0",
         "50000.0",
         "0.86",
         "603857.5",
         "702159.88",
         null,
         null,
         "1.0",
         "100000.0",
         "2.0",
         "29439.75",
         "14719.88",
         "4.0",
         "0.0",
         "0.0",
         "baseline_01",
         null,
         null,
         null,
         "489.35",
         "2025",
         "31.670673278000002",
         "126.3887784",
         "0.0",
         "default_scenario_01"
        ],
        [
         "2025-01-02 02:00:00",
         "-11.45",
         "710937.94",
         "61415.11",
         "80707.55",
         "710392.96",
         "710937.94",
         "61415.11",
         null,
         null,
         null,
         null,
         "1.0",
         "100000.0",
         "2.0",
         "100000.0",
         "50000.0",
         "0.86",
         "610937.94",
         "710392.96",
         null,
         null,
         "1.0",
         "100000.0",
         "2.0",
         "61415.11",
         "30707.55",
         "4.0",
         "0.0",
         "0.0",
         "baseline_01",
         null,
         null,
         null,
         "445.15",
         "2025",
         "35.9269658825",
         "127.8707328",
         "0.0",
         "default_scenario_01"
        ],
        [
         "2025-01-02 03:00:00",
         "-11.7",
         "706407.54",
         "77967.38",
         "88983.69",
         "705125.05",
         "706407.54",
         "77967.38",
         null,
         null,
         null,
         null,
         "1.0",
         "100000.0",
         "2.0",
         "100000.0",
         "50000.0",
         "0.86",
         "606407.54",
         "705125.05",
         null,
         null,
         "1.0",
         "100000.0",
         "2.0",
         "77967.38",
         "38983.69",
         "4.0",
         "0.0",
         "0.0",
         "baseline_01",
         null,
         null,
         null,
         "447.15",
         "2025",
         "39.7890569835",
         "126.92250900000002",
         "0.0",
         "default_scenario_01"
        ],
        [
         "2025-01-02 04:00:00",
         "-11.7",
         "704279.2",
         "85794.54",
         "92897.27",
         "702650.23",
         "704279.2",
         "85794.54",
         null,
         null,
         null,
         null,
         "1.0",
         "100000.0",
         "2.0",
         "100000.0",
         "50000.0",
         "0.86",
         "604279.2",
         "702650.23",
         null,
         null,
         "1.0",
         "100000.0",
         "2.0",
         "85794.54",
         "42897.27",
         "4.0",
         "0.0",
         "0.0",
         "baseline_01",
         null,
         null,
         null,
         "449.35",
         "2025",
         "41.743388274500006",
         "126.47704139999999",
         "0.0",
         "default_scenario_01"
        ],
        [
         "2025-01-02 05:00:00",
         "-11.99",
         "715288.84",
         "89293.77",
         "94646.89",
         "715452.13",
         "715288.84",
         "89293.77",
         null,
         null,
         null,
         null,
         "1.0",
         "100000.0",
         "2.0",
         "100000.0",
         "50000.0",
         "0.86",
         "615288.84",
         "715452.13",
         null,
         null,
         "1.0",
         "100000.0",
         "2.0",
         "89293.77",
         "44646.89",
         "4.0",
         "0.0",
         "0.0",
         "baseline_01",
         null,
         null,
         null,
         "464.95",
         "2025",
         "44.006071505499996",
         "128.7813834",
         "0.0",
         "default_scenario_01"
        ],
        [
         "2025-01-02 06:00:00",
         "-11.91",
         "718766.28",
         "90837.27",
         "95418.63",
         "719495.67",
         "718766.28",
         "90837.27",
         null,
         null,
         null,
         null,
         "1.0",
         "100000.0",
         "2.0",
         "100000.0",
         "50000.0",
         "0.86",
         "618766.28",
         "719495.67",
         null,
         null,
         "1.0",
         "100000.0",
         "2.0",
         "90837.27",
         "45418.63",
         "4.0",
         "0.0",
         "0.0",
         "baseline_01",
         null,
         null,
         null,
         "455.25",
         "2025",
         "43.439331307500005",
         "129.50922060000002",
         "0.0",
         "default_scenario_01"
        ]
       ],
       "shape": {
        "columns": 39,
        "rows": 30
       }
      },
      "text/html": [
       "<div>\n",
       "<style scoped>\n",
       "    .dataframe tbody tr th:only-of-type {\n",
       "        vertical-align: middle;\n",
       "    }\n",
       "\n",
       "    .dataframe tbody tr th {\n",
       "        vertical-align: top;\n",
       "    }\n",
       "\n",
       "    .dataframe thead th {\n",
       "        text-align: right;\n",
       "    }\n",
       "</style>\n",
       "<table border=\"1\" class=\"dataframe\">\n",
       "  <thead>\n",
       "    <tr style=\"text-align: right;\">\n",
       "      <th></th>\n",
       "      <th>t_out_C</th>\n",
       "      <th>heating_W</th>\n",
       "      <th>cooling_W</th>\n",
       "      <th>elec_Wh</th>\n",
       "      <th>gas_Wh</th>\n",
       "      <th>hhw_W</th>\n",
       "      <th>chw_W</th>\n",
       "      <th>hr_hhw_W</th>\n",
       "      <th>hr_chw_W</th>\n",
       "      <th>hr_cop_h</th>\n",
       "      <th>...</th>\n",
       "      <th>scenario_id</th>\n",
       "      <th>max_cap_h_hr_W</th>\n",
       "      <th>min_cap_h_hr_W</th>\n",
       "      <th>simult_h_hr_W</th>\n",
       "      <th>elec_emissions_rate</th>\n",
       "      <th>year</th>\n",
       "      <th>elec_emissions</th>\n",
       "      <th>gas_emissions</th>\n",
       "      <th>total_refrig_emissions</th>\n",
       "      <th>em_scen_id</th>\n",
       "    </tr>\n",
       "    <tr>\n",
       "      <th>timestamp</th>\n",
       "      <th></th>\n",
       "      <th></th>\n",
       "      <th></th>\n",
       "      <th></th>\n",
       "      <th></th>\n",
       "      <th></th>\n",
       "      <th></th>\n",
       "      <th></th>\n",
       "      <th></th>\n",
       "      <th></th>\n",
       "      <th></th>\n",
       "      <th></th>\n",
       "      <th></th>\n",
       "      <th></th>\n",
       "      <th></th>\n",
       "      <th></th>\n",
       "      <th></th>\n",
       "      <th></th>\n",
       "      <th></th>\n",
       "      <th></th>\n",
       "      <th></th>\n",
       "    </tr>\n",
       "  </thead>\n",
       "  <tbody>\n",
       "    <tr>\n",
       "      <th>2025-01-01 01:00:00</th>\n",
       "      <td>-4.40</td>\n",
       "      <td>609230.13</td>\n",
       "      <td>127902.41</td>\n",
       "      <td>101719.46</td>\n",
       "      <td>579104.80</td>\n",
       "      <td>609230.13</td>\n",
       "      <td>127902.41</td>\n",
       "      <td>NaN</td>\n",
       "      <td>NaN</td>\n",
       "      <td>NaN</td>\n",
       "      <td>...</td>\n",
       "      <td>baseline_01</td>\n",
       "      <td>NaN</td>\n",
       "      <td>NaN</td>\n",
       "      <td>NaN</td>\n",
       "      <td>489.35</td>\n",
       "      <td>2025</td>\n",
       "      <td>49.776418</td>\n",
       "      <td>104.238864</td>\n",
       "      <td>0.0</td>\n",
       "      <td>default_scenario_01</td>\n",
       "    </tr>\n",
       "    <tr>\n",
       "      <th>2025-01-01 02:00:00</th>\n",
       "      <td>-4.40</td>\n",
       "      <td>606900.34</td>\n",
       "      <td>174577.65</td>\n",
       "      <td>113388.27</td>\n",
       "      <td>576395.75</td>\n",
       "      <td>606900.34</td>\n",
       "      <td>174577.65</td>\n",
       "      <td>NaN</td>\n",
       "      <td>NaN</td>\n",
       "      <td>NaN</td>\n",
       "      <td>...</td>\n",
       "      <td>baseline_01</td>\n",
       "      <td>NaN</td>\n",
       "      <td>NaN</td>\n",
       "      <td>NaN</td>\n",
       "      <td>445.15</td>\n",
       "      <td>2025</td>\n",
       "      <td>50.474788</td>\n",
       "      <td>103.751235</td>\n",
       "      <td>0.0</td>\n",
       "      <td>default_scenario_01</td>\n",
       "    </tr>\n",
       "    <tr>\n",
       "      <th>2025-01-01 03:00:00</th>\n",
       "      <td>-4.11</td>\n",
       "      <td>604168.53</td>\n",
       "      <td>186763.68</td>\n",
       "      <td>116177.45</td>\n",
       "      <td>572540.93</td>\n",
       "      <td>604168.53</td>\n",
       "      <td>186763.68</td>\n",
       "      <td>NaN</td>\n",
       "      <td>NaN</td>\n",
       "      <td>NaN</td>\n",
       "      <td>...</td>\n",
       "      <td>baseline_01</td>\n",
       "      <td>NaN</td>\n",
       "      <td>NaN</td>\n",
       "      <td>NaN</td>\n",
       "      <td>447.15</td>\n",
       "      <td>2025</td>\n",
       "      <td>51.948747</td>\n",
       "      <td>103.057367</td>\n",
       "      <td>0.0</td>\n",
       "      <td>default_scenario_01</td>\n",
       "    </tr>\n",
       "    <tr>\n",
       "      <th>2025-01-01 04:00:00</th>\n",
       "      <td>-3.55</td>\n",
       "      <td>600461.65</td>\n",
       "      <td>199730.65</td>\n",
       "      <td>118930.48</td>\n",
       "      <td>566932.15</td>\n",
       "      <td>600461.65</td>\n",
       "      <td>199730.65</td>\n",
       "      <td>NaN</td>\n",
       "      <td>NaN</td>\n",
       "      <td>NaN</td>\n",
       "      <td>...</td>\n",
       "      <td>baseline_01</td>\n",
       "      <td>NaN</td>\n",
       "      <td>NaN</td>\n",
       "      <td>NaN</td>\n",
       "      <td>449.35</td>\n",
       "      <td>2025</td>\n",
       "      <td>53.441411</td>\n",
       "      <td>102.047787</td>\n",
       "      <td>0.0</td>\n",
       "      <td>default_scenario_01</td>\n",
       "    </tr>\n",
       "    <tr>\n",
       "      <th>2025-01-01 05:00:00</th>\n",
       "      <td>-3.30</td>\n",
       "      <td>604703.00</td>\n",
       "      <td>205553.30</td>\n",
       "      <td>120168.95</td>\n",
       "      <td>571282.55</td>\n",
       "      <td>604703.00</td>\n",
       "      <td>205553.30</td>\n",
       "      <td>NaN</td>\n",
       "      <td>NaN</td>\n",
       "      <td>NaN</td>\n",
       "      <td>...</td>\n",
       "      <td>baseline_01</td>\n",
       "      <td>NaN</td>\n",
       "      <td>NaN</td>\n",
       "      <td>NaN</td>\n",
       "      <td>464.95</td>\n",
       "      <td>2025</td>\n",
       "      <td>55.872553</td>\n",
       "      <td>102.830859</td>\n",
       "      <td>0.0</td>\n",
       "      <td>default_scenario_01</td>\n",
       "    </tr>\n",
       "    <tr>\n",
       "      <th>2025-01-01 06:00:00</th>\n",
       "      <td>-3.65</td>\n",
       "      <td>607617.81</td>\n",
       "      <td>200142.30</td>\n",
       "      <td>119120.55</td>\n",
       "      <td>575485.83</td>\n",
       "      <td>607617.81</td>\n",
       "      <td>200142.30</td>\n",
       "      <td>NaN</td>\n",
       "      <td>NaN</td>\n",
       "      <td>NaN</td>\n",
       "      <td>...</td>\n",
       "      <td>baseline_01</td>\n",
       "      <td>NaN</td>\n",
       "      <td>NaN</td>\n",
       "      <td>NaN</td>\n",
       "      <td>455.25</td>\n",
       "      <td>2025</td>\n",
       "      <td>54.229630</td>\n",
       "      <td>103.587449</td>\n",
       "      <td>0.0</td>\n",
       "      <td>default_scenario_01</td>\n",
       "    </tr>\n",
       "    <tr>\n",
       "      <th>2025-01-01 07:00:00</th>\n",
       "      <td>-4.19</td>\n",
       "      <td>611215.73</td>\n",
       "      <td>191604.12</td>\n",
       "      <td>117460.94</td>\n",
       "      <td>580929.14</td>\n",
       "      <td>611215.73</td>\n",
       "      <td>191604.12</td>\n",
       "      <td>NaN</td>\n",
       "      <td>NaN</td>\n",
       "      <td>NaN</td>\n",
       "      <td>...</td>\n",
       "      <td>baseline_01</td>\n",
       "      <td>NaN</td>\n",
       "      <td>NaN</td>\n",
       "      <td>NaN</td>\n",
       "      <td>462.85</td>\n",
       "      <td>2025</td>\n",
       "      <td>54.366796</td>\n",
       "      <td>104.567245</td>\n",
       "      <td>0.0</td>\n",
       "      <td>default_scenario_01</td>\n",
       "    </tr>\n",
       "    <tr>\n",
       "      <th>2025-01-01 08:00:00</th>\n",
       "      <td>-3.76</td>\n",
       "      <td>607994.13</td>\n",
       "      <td>113827.74</td>\n",
       "      <td>97636.52</td>\n",
       "      <td>576175.34</td>\n",
       "      <td>607994.13</td>\n",
       "      <td>113827.74</td>\n",
       "      <td>NaN</td>\n",
       "      <td>NaN</td>\n",
       "      <td>NaN</td>\n",
       "      <td>...</td>\n",
       "      <td>baseline_01</td>\n",
       "      <td>NaN</td>\n",
       "      <td>NaN</td>\n",
       "      <td>NaN</td>\n",
       "      <td>347.25</td>\n",
       "      <td>2025</td>\n",
       "      <td>33.904282</td>\n",
       "      <td>103.711561</td>\n",
       "      <td>0.0</td>\n",
       "      <td>default_scenario_01</td>\n",
       "    </tr>\n",
       "    <tr>\n",
       "      <th>2025-01-01 09:00:00</th>\n",
       "      <td>-3.01</td>\n",
       "      <td>546663.14</td>\n",
       "      <td>109587.78</td>\n",
       "      <td>95153.51</td>\n",
       "      <td>503116.06</td>\n",
       "      <td>546663.14</td>\n",
       "      <td>109587.78</td>\n",
       "      <td>NaN</td>\n",
       "      <td>NaN</td>\n",
       "      <td>NaN</td>\n",
       "      <td>...</td>\n",
       "      <td>baseline_01</td>\n",
       "      <td>NaN</td>\n",
       "      <td>NaN</td>\n",
       "      <td>NaN</td>\n",
       "      <td>292.30</td>\n",
       "      <td>2025</td>\n",
       "      <td>27.813371</td>\n",
       "      <td>90.560891</td>\n",
       "      <td>0.0</td>\n",
       "      <td>default_scenario_01</td>\n",
       "    </tr>\n",
       "    <tr>\n",
       "      <th>2025-01-01 10:00:00</th>\n",
       "      <td>-2.45</td>\n",
       "      <td>518821.39</td>\n",
       "      <td>125826.58</td>\n",
       "      <td>99506.04</td>\n",
       "      <td>469443.47</td>\n",
       "      <td>518821.39</td>\n",
       "      <td>125826.58</td>\n",
       "      <td>NaN</td>\n",
       "      <td>NaN</td>\n",
       "      <td>NaN</td>\n",
       "      <td>...</td>\n",
       "      <td>baseline_01</td>\n",
       "      <td>NaN</td>\n",
       "      <td>NaN</td>\n",
       "      <td>NaN</td>\n",
       "      <td>291.00</td>\n",
       "      <td>2025</td>\n",
       "      <td>28.956258</td>\n",
       "      <td>84.499825</td>\n",
       "      <td>0.0</td>\n",
       "      <td>default_scenario_01</td>\n",
       "    </tr>\n",
       "    <tr>\n",
       "      <th>2025-01-01 11:00:00</th>\n",
       "      <td>-1.56</td>\n",
       "      <td>494195.62</td>\n",
       "      <td>153496.50</td>\n",
       "      <td>105668.00</td>\n",
       "      <td>438735.21</td>\n",
       "      <td>494195.62</td>\n",
       "      <td>153496.50</td>\n",
       "      <td>NaN</td>\n",
       "      <td>NaN</td>\n",
       "      <td>NaN</td>\n",
       "      <td>...</td>\n",
       "      <td>baseline_01</td>\n",
       "      <td>NaN</td>\n",
       "      <td>NaN</td>\n",
       "      <td>NaN</td>\n",
       "      <td>286.20</td>\n",
       "      <td>2025</td>\n",
       "      <td>30.242182</td>\n",
       "      <td>78.972338</td>\n",
       "      <td>0.0</td>\n",
       "      <td>default_scenario_01</td>\n",
       "    </tr>\n",
       "    <tr>\n",
       "      <th>2025-01-01 12:00:00</th>\n",
       "      <td>-1.45</td>\n",
       "      <td>487443.57</td>\n",
       "      <td>162364.69</td>\n",
       "      <td>107794.03</td>\n",
       "      <td>430632.06</td>\n",
       "      <td>487443.57</td>\n",
       "      <td>162364.69</td>\n",
       "      <td>NaN</td>\n",
       "      <td>NaN</td>\n",
       "      <td>NaN</td>\n",
       "      <td>...</td>\n",
       "      <td>baseline_01</td>\n",
       "      <td>NaN</td>\n",
       "      <td>NaN</td>\n",
       "      <td>NaN</td>\n",
       "      <td>316.90</td>\n",
       "      <td>2025</td>\n",
       "      <td>34.159928</td>\n",
       "      <td>77.513771</td>\n",
       "      <td>0.0</td>\n",
       "      <td>default_scenario_01</td>\n",
       "    </tr>\n",
       "    <tr>\n",
       "      <th>2025-01-01 13:00:00</th>\n",
       "      <td>-1.99</td>\n",
       "      <td>483818.45</td>\n",
       "      <td>153128.01</td>\n",
       "      <td>105941.61</td>\n",
       "      <td>427676.49</td>\n",
       "      <td>483818.45</td>\n",
       "      <td>153128.01</td>\n",
       "      <td>NaN</td>\n",
       "      <td>NaN</td>\n",
       "      <td>NaN</td>\n",
       "      <td>...</td>\n",
       "      <td>baseline_01</td>\n",
       "      <td>NaN</td>\n",
       "      <td>NaN</td>\n",
       "      <td>NaN</td>\n",
       "      <td>338.35</td>\n",
       "      <td>2025</td>\n",
       "      <td>35.845344</td>\n",
       "      <td>76.981768</td>\n",
       "      <td>0.0</td>\n",
       "      <td>default_scenario_01</td>\n",
       "    </tr>\n",
       "    <tr>\n",
       "      <th>2025-01-01 14:00:00</th>\n",
       "      <td>-2.84</td>\n",
       "      <td>500469.35</td>\n",
       "      <td>135335.25</td>\n",
       "      <td>102218.77</td>\n",
       "      <td>449014.75</td>\n",
       "      <td>500469.35</td>\n",
       "      <td>135335.25</td>\n",
       "      <td>NaN</td>\n",
       "      <td>NaN</td>\n",
       "      <td>NaN</td>\n",
       "      <td>...</td>\n",
       "      <td>baseline_01</td>\n",
       "      <td>NaN</td>\n",
       "      <td>NaN</td>\n",
       "      <td>NaN</td>\n",
       "      <td>334.05</td>\n",
       "      <td>2025</td>\n",
       "      <td>34.146180</td>\n",
       "      <td>80.822655</td>\n",
       "      <td>0.0</td>\n",
       "      <td>default_scenario_01</td>\n",
       "    </tr>\n",
       "    <tr>\n",
       "      <th>2025-01-01 15:00:00</th>\n",
       "      <td>-3.01</td>\n",
       "      <td>496728.78</td>\n",
       "      <td>130178.54</td>\n",
       "      <td>101073.10</td>\n",
       "      <td>445052.85</td>\n",
       "      <td>496728.78</td>\n",
       "      <td>130178.54</td>\n",
       "      <td>NaN</td>\n",
       "      <td>NaN</td>\n",
       "      <td>NaN</td>\n",
       "      <td>...</td>\n",
       "      <td>baseline_01</td>\n",
       "      <td>NaN</td>\n",
       "      <td>NaN</td>\n",
       "      <td>NaN</td>\n",
       "      <td>331.55</td>\n",
       "      <td>2025</td>\n",
       "      <td>33.510786</td>\n",
       "      <td>80.109513</td>\n",
       "      <td>0.0</td>\n",
       "      <td>default_scenario_01</td>\n",
       "    </tr>\n",
       "    <tr>\n",
       "      <th>2025-01-01 16:00:00</th>\n",
       "      <td>-2.80</td>\n",
       "      <td>498164.56</td>\n",
       "      <td>135665.91</td>\n",
       "      <td>102265.63</td>\n",
       "      <td>446237.87</td>\n",
       "      <td>498164.56</td>\n",
       "      <td>135665.91</td>\n",
       "      <td>NaN</td>\n",
       "      <td>NaN</td>\n",
       "      <td>NaN</td>\n",
       "      <td>...</td>\n",
       "      <td>baseline_01</td>\n",
       "      <td>NaN</td>\n",
       "      <td>NaN</td>\n",
       "      <td>NaN</td>\n",
       "      <td>455.55</td>\n",
       "      <td>2025</td>\n",
       "      <td>46.587108</td>\n",
       "      <td>80.322817</td>\n",
       "      <td>0.0</td>\n",
       "      <td>default_scenario_01</td>\n",
       "    </tr>\n",
       "    <tr>\n",
       "      <th>2025-01-01 17:00:00</th>\n",
       "      <td>-4.08</td>\n",
       "      <td>561067.93</td>\n",
       "      <td>96564.16</td>\n",
       "      <td>90772.05</td>\n",
       "      <td>522365.81</td>\n",
       "      <td>561067.93</td>\n",
       "      <td>96564.16</td>\n",
       "      <td>NaN</td>\n",
       "      <td>NaN</td>\n",
       "      <td>NaN</td>\n",
       "      <td>...</td>\n",
       "      <td>baseline_01</td>\n",
       "      <td>NaN</td>\n",
       "      <td>NaN</td>\n",
       "      <td>NaN</td>\n",
       "      <td>467.20</td>\n",
       "      <td>2025</td>\n",
       "      <td>42.408702</td>\n",
       "      <td>94.025846</td>\n",
       "      <td>0.0</td>\n",
       "      <td>default_scenario_01</td>\n",
       "    </tr>\n",
       "    <tr>\n",
       "      <th>2025-01-01 18:00:00</th>\n",
       "      <td>-5.35</td>\n",
       "      <td>597933.37</td>\n",
       "      <td>72222.70</td>\n",
       "      <td>81309.16</td>\n",
       "      <td>568178.34</td>\n",
       "      <td>597933.37</td>\n",
       "      <td>72222.70</td>\n",
       "      <td>NaN</td>\n",
       "      <td>NaN</td>\n",
       "      <td>NaN</td>\n",
       "      <td>...</td>\n",
       "      <td>baseline_01</td>\n",
       "      <td>NaN</td>\n",
       "      <td>NaN</td>\n",
       "      <td>NaN</td>\n",
       "      <td>474.40</td>\n",
       "      <td>2025</td>\n",
       "      <td>38.573066</td>\n",
       "      <td>102.272101</td>\n",
       "      <td>0.0</td>\n",
       "      <td>default_scenario_01</td>\n",
       "    </tr>\n",
       "    <tr>\n",
       "      <th>2025-01-01 19:00:00</th>\n",
       "      <td>-5.89</td>\n",
       "      <td>611523.30</td>\n",
       "      <td>62852.74</td>\n",
       "      <td>77567.84</td>\n",
       "      <td>585240.27</td>\n",
       "      <td>611523.30</td>\n",
       "      <td>62852.74</td>\n",
       "      <td>NaN</td>\n",
       "      <td>NaN</td>\n",
       "      <td>NaN</td>\n",
       "      <td>...</td>\n",
       "      <td>baseline_01</td>\n",
       "      <td>NaN</td>\n",
       "      <td>NaN</td>\n",
       "      <td>NaN</td>\n",
       "      <td>451.60</td>\n",
       "      <td>2025</td>\n",
       "      <td>35.029637</td>\n",
       "      <td>105.343249</td>\n",
       "      <td>0.0</td>\n",
       "      <td>default_scenario_01</td>\n",
       "    </tr>\n",
       "    <tr>\n",
       "      <th>2025-01-01 20:00:00</th>\n",
       "      <td>-6.45</td>\n",
       "      <td>628074.30</td>\n",
       "      <td>53927.94</td>\n",
       "      <td>73950.83</td>\n",
       "      <td>605784.07</td>\n",
       "      <td>628074.30</td>\n",
       "      <td>53927.94</td>\n",
       "      <td>NaN</td>\n",
       "      <td>NaN</td>\n",
       "      <td>NaN</td>\n",
       "      <td>...</td>\n",
       "      <td>baseline_01</td>\n",
       "      <td>NaN</td>\n",
       "      <td>NaN</td>\n",
       "      <td>NaN</td>\n",
       "      <td>455.70</td>\n",
       "      <td>2025</td>\n",
       "      <td>33.699393</td>\n",
       "      <td>109.041133</td>\n",
       "      <td>0.0</td>\n",
       "      <td>default_scenario_01</td>\n",
       "    </tr>\n",
       "    <tr>\n",
       "      <th>2025-01-01 21:00:00</th>\n",
       "      <td>-7.63</td>\n",
       "      <td>651466.86</td>\n",
       "      <td>35797.96</td>\n",
       "      <td>66340.50</td>\n",
       "      <td>635736.66</td>\n",
       "      <td>651466.86</td>\n",
       "      <td>35797.96</td>\n",
       "      <td>NaN</td>\n",
       "      <td>NaN</td>\n",
       "      <td>NaN</td>\n",
       "      <td>...</td>\n",
       "      <td>baseline_01</td>\n",
       "      <td>NaN</td>\n",
       "      <td>NaN</td>\n",
       "      <td>NaN</td>\n",
       "      <td>489.90</td>\n",
       "      <td>2025</td>\n",
       "      <td>32.500211</td>\n",
       "      <td>114.432599</td>\n",
       "      <td>0.0</td>\n",
       "      <td>default_scenario_01</td>\n",
       "    </tr>\n",
       "    <tr>\n",
       "      <th>2025-01-01 22:00:00</th>\n",
       "      <td>-8.94</td>\n",
       "      <td>662557.67</td>\n",
       "      <td>15267.33</td>\n",
       "      <td>57179.14</td>\n",
       "      <td>651675.59</td>\n",
       "      <td>662557.67</td>\n",
       "      <td>15267.33</td>\n",
       "      <td>NaN</td>\n",
       "      <td>NaN</td>\n",
       "      <td>NaN</td>\n",
       "      <td>...</td>\n",
       "      <td>baseline_01</td>\n",
       "      <td>NaN</td>\n",
       "      <td>NaN</td>\n",
       "      <td>NaN</td>\n",
       "      <td>515.30</td>\n",
       "      <td>2025</td>\n",
       "      <td>29.464411</td>\n",
       "      <td>117.301606</td>\n",
       "      <td>0.0</td>\n",
       "      <td>default_scenario_01</td>\n",
       "    </tr>\n",
       "    <tr>\n",
       "      <th>2025-01-01 23:00:00</th>\n",
       "      <td>-9.75</td>\n",
       "      <td>680094.52</td>\n",
       "      <td>4254.93</td>\n",
       "      <td>52052.14</td>\n",
       "      <td>673947.12</td>\n",
       "      <td>680094.52</td>\n",
       "      <td>4254.93</td>\n",
       "      <td>NaN</td>\n",
       "      <td>NaN</td>\n",
       "      <td>NaN</td>\n",
       "      <td>...</td>\n",
       "      <td>baseline_01</td>\n",
       "      <td>NaN</td>\n",
       "      <td>NaN</td>\n",
       "      <td>NaN</td>\n",
       "      <td>490.95</td>\n",
       "      <td>2025</td>\n",
       "      <td>25.554998</td>\n",
       "      <td>121.310482</td>\n",
       "      <td>0.0</td>\n",
       "      <td>default_scenario_01</td>\n",
       "    </tr>\n",
       "    <tr>\n",
       "      <th>2025-01-02 00:00:00</th>\n",
       "      <td>-10.35</td>\n",
       "      <td>701267.36</td>\n",
       "      <td>980.45</td>\n",
       "      <td>50490.23</td>\n",
       "      <td>699148.10</td>\n",
       "      <td>701267.36</td>\n",
       "      <td>980.45</td>\n",
       "      <td>NaN</td>\n",
       "      <td>NaN</td>\n",
       "      <td>NaN</td>\n",
       "      <td>...</td>\n",
       "      <td>baseline_01</td>\n",
       "      <td>NaN</td>\n",
       "      <td>NaN</td>\n",
       "      <td>NaN</td>\n",
       "      <td>484.60</td>\n",
       "      <td>2025</td>\n",
       "      <td>24.467565</td>\n",
       "      <td>125.846658</td>\n",
       "      <td>0.0</td>\n",
       "      <td>default_scenario_01</td>\n",
       "    </tr>\n",
       "    <tr>\n",
       "      <th>2025-01-02 01:00:00</th>\n",
       "      <td>-10.89</td>\n",
       "      <td>703857.50</td>\n",
       "      <td>29439.75</td>\n",
       "      <td>64719.88</td>\n",
       "      <td>702159.88</td>\n",
       "      <td>703857.50</td>\n",
       "      <td>29439.75</td>\n",
       "      <td>NaN</td>\n",
       "      <td>NaN</td>\n",
       "      <td>NaN</td>\n",
       "      <td>...</td>\n",
       "      <td>baseline_01</td>\n",
       "      <td>NaN</td>\n",
       "      <td>NaN</td>\n",
       "      <td>NaN</td>\n",
       "      <td>489.35</td>\n",
       "      <td>2025</td>\n",
       "      <td>31.670673</td>\n",
       "      <td>126.388778</td>\n",
       "      <td>0.0</td>\n",
       "      <td>default_scenario_01</td>\n",
       "    </tr>\n",
       "    <tr>\n",
       "      <th>2025-01-02 02:00:00</th>\n",
       "      <td>-11.45</td>\n",
       "      <td>710937.94</td>\n",
       "      <td>61415.11</td>\n",
       "      <td>80707.55</td>\n",
       "      <td>710392.96</td>\n",
       "      <td>710937.94</td>\n",
       "      <td>61415.11</td>\n",
       "      <td>NaN</td>\n",
       "      <td>NaN</td>\n",
       "      <td>NaN</td>\n",
       "      <td>...</td>\n",
       "      <td>baseline_01</td>\n",
       "      <td>NaN</td>\n",
       "      <td>NaN</td>\n",
       "      <td>NaN</td>\n",
       "      <td>445.15</td>\n",
       "      <td>2025</td>\n",
       "      <td>35.926966</td>\n",
       "      <td>127.870733</td>\n",
       "      <td>0.0</td>\n",
       "      <td>default_scenario_01</td>\n",
       "    </tr>\n",
       "    <tr>\n",
       "      <th>2025-01-02 03:00:00</th>\n",
       "      <td>-11.70</td>\n",
       "      <td>706407.54</td>\n",
       "      <td>77967.38</td>\n",
       "      <td>88983.69</td>\n",
       "      <td>705125.05</td>\n",
       "      <td>706407.54</td>\n",
       "      <td>77967.38</td>\n",
       "      <td>NaN</td>\n",
       "      <td>NaN</td>\n",
       "      <td>NaN</td>\n",
       "      <td>...</td>\n",
       "      <td>baseline_01</td>\n",
       "      <td>NaN</td>\n",
       "      <td>NaN</td>\n",
       "      <td>NaN</td>\n",
       "      <td>447.15</td>\n",
       "      <td>2025</td>\n",
       "      <td>39.789057</td>\n",
       "      <td>126.922509</td>\n",
       "      <td>0.0</td>\n",
       "      <td>default_scenario_01</td>\n",
       "    </tr>\n",
       "    <tr>\n",
       "      <th>2025-01-02 04:00:00</th>\n",
       "      <td>-11.70</td>\n",
       "      <td>704279.20</td>\n",
       "      <td>85794.54</td>\n",
       "      <td>92897.27</td>\n",
       "      <td>702650.23</td>\n",
       "      <td>704279.20</td>\n",
       "      <td>85794.54</td>\n",
       "      <td>NaN</td>\n",
       "      <td>NaN</td>\n",
       "      <td>NaN</td>\n",
       "      <td>...</td>\n",
       "      <td>baseline_01</td>\n",
       "      <td>NaN</td>\n",
       "      <td>NaN</td>\n",
       "      <td>NaN</td>\n",
       "      <td>449.35</td>\n",
       "      <td>2025</td>\n",
       "      <td>41.743388</td>\n",
       "      <td>126.477041</td>\n",
       "      <td>0.0</td>\n",
       "      <td>default_scenario_01</td>\n",
       "    </tr>\n",
       "    <tr>\n",
       "      <th>2025-01-02 05:00:00</th>\n",
       "      <td>-11.99</td>\n",
       "      <td>715288.84</td>\n",
       "      <td>89293.77</td>\n",
       "      <td>94646.89</td>\n",
       "      <td>715452.13</td>\n",
       "      <td>715288.84</td>\n",
       "      <td>89293.77</td>\n",
       "      <td>NaN</td>\n",
       "      <td>NaN</td>\n",
       "      <td>NaN</td>\n",
       "      <td>...</td>\n",
       "      <td>baseline_01</td>\n",
       "      <td>NaN</td>\n",
       "      <td>NaN</td>\n",
       "      <td>NaN</td>\n",
       "      <td>464.95</td>\n",
       "      <td>2025</td>\n",
       "      <td>44.006072</td>\n",
       "      <td>128.781383</td>\n",
       "      <td>0.0</td>\n",
       "      <td>default_scenario_01</td>\n",
       "    </tr>\n",
       "    <tr>\n",
       "      <th>2025-01-02 06:00:00</th>\n",
       "      <td>-11.91</td>\n",
       "      <td>718766.28</td>\n",
       "      <td>90837.27</td>\n",
       "      <td>95418.63</td>\n",
       "      <td>719495.67</td>\n",
       "      <td>718766.28</td>\n",
       "      <td>90837.27</td>\n",
       "      <td>NaN</td>\n",
       "      <td>NaN</td>\n",
       "      <td>NaN</td>\n",
       "      <td>...</td>\n",
       "      <td>baseline_01</td>\n",
       "      <td>NaN</td>\n",
       "      <td>NaN</td>\n",
       "      <td>NaN</td>\n",
       "      <td>455.25</td>\n",
       "      <td>2025</td>\n",
       "      <td>43.439331</td>\n",
       "      <td>129.509221</td>\n",
       "      <td>0.0</td>\n",
       "      <td>default_scenario_01</td>\n",
       "    </tr>\n",
       "  </tbody>\n",
       "</table>\n",
       "<p>30 rows × 39 columns</p>\n",
       "</div>"
      ],
      "text/plain": [
       "                     t_out_C  heating_W  cooling_W    elec_Wh     gas_Wh  \\\n",
       "timestamp                                                                  \n",
       "2025-01-01 01:00:00    -4.40  609230.13  127902.41  101719.46  579104.80   \n",
       "2025-01-01 02:00:00    -4.40  606900.34  174577.65  113388.27  576395.75   \n",
       "2025-01-01 03:00:00    -4.11  604168.53  186763.68  116177.45  572540.93   \n",
       "2025-01-01 04:00:00    -3.55  600461.65  199730.65  118930.48  566932.15   \n",
       "2025-01-01 05:00:00    -3.30  604703.00  205553.30  120168.95  571282.55   \n",
       "2025-01-01 06:00:00    -3.65  607617.81  200142.30  119120.55  575485.83   \n",
       "2025-01-01 07:00:00    -4.19  611215.73  191604.12  117460.94  580929.14   \n",
       "2025-01-01 08:00:00    -3.76  607994.13  113827.74   97636.52  576175.34   \n",
       "2025-01-01 09:00:00    -3.01  546663.14  109587.78   95153.51  503116.06   \n",
       "2025-01-01 10:00:00    -2.45  518821.39  125826.58   99506.04  469443.47   \n",
       "2025-01-01 11:00:00    -1.56  494195.62  153496.50  105668.00  438735.21   \n",
       "2025-01-01 12:00:00    -1.45  487443.57  162364.69  107794.03  430632.06   \n",
       "2025-01-01 13:00:00    -1.99  483818.45  153128.01  105941.61  427676.49   \n",
       "2025-01-01 14:00:00    -2.84  500469.35  135335.25  102218.77  449014.75   \n",
       "2025-01-01 15:00:00    -3.01  496728.78  130178.54  101073.10  445052.85   \n",
       "2025-01-01 16:00:00    -2.80  498164.56  135665.91  102265.63  446237.87   \n",
       "2025-01-01 17:00:00    -4.08  561067.93   96564.16   90772.05  522365.81   \n",
       "2025-01-01 18:00:00    -5.35  597933.37   72222.70   81309.16  568178.34   \n",
       "2025-01-01 19:00:00    -5.89  611523.30   62852.74   77567.84  585240.27   \n",
       "2025-01-01 20:00:00    -6.45  628074.30   53927.94   73950.83  605784.07   \n",
       "2025-01-01 21:00:00    -7.63  651466.86   35797.96   66340.50  635736.66   \n",
       "2025-01-01 22:00:00    -8.94  662557.67   15267.33   57179.14  651675.59   \n",
       "2025-01-01 23:00:00    -9.75  680094.52    4254.93   52052.14  673947.12   \n",
       "2025-01-02 00:00:00   -10.35  701267.36     980.45   50490.23  699148.10   \n",
       "2025-01-02 01:00:00   -10.89  703857.50   29439.75   64719.88  702159.88   \n",
       "2025-01-02 02:00:00   -11.45  710937.94   61415.11   80707.55  710392.96   \n",
       "2025-01-02 03:00:00   -11.70  706407.54   77967.38   88983.69  705125.05   \n",
       "2025-01-02 04:00:00   -11.70  704279.20   85794.54   92897.27  702650.23   \n",
       "2025-01-02 05:00:00   -11.99  715288.84   89293.77   94646.89  715452.13   \n",
       "2025-01-02 06:00:00   -11.91  718766.28   90837.27   95418.63  719495.67   \n",
       "\n",
       "                         hhw_W      chw_W  hr_hhw_W  hr_chw_W  hr_cop_h  ...  \\\n",
       "timestamp                                                                ...   \n",
       "2025-01-01 01:00:00  609230.13  127902.41       NaN       NaN       NaN  ...   \n",
       "2025-01-01 02:00:00  606900.34  174577.65       NaN       NaN       NaN  ...   \n",
       "2025-01-01 03:00:00  604168.53  186763.68       NaN       NaN       NaN  ...   \n",
       "2025-01-01 04:00:00  600461.65  199730.65       NaN       NaN       NaN  ...   \n",
       "2025-01-01 05:00:00  604703.00  205553.30       NaN       NaN       NaN  ...   \n",
       "2025-01-01 06:00:00  607617.81  200142.30       NaN       NaN       NaN  ...   \n",
       "2025-01-01 07:00:00  611215.73  191604.12       NaN       NaN       NaN  ...   \n",
       "2025-01-01 08:00:00  607994.13  113827.74       NaN       NaN       NaN  ...   \n",
       "2025-01-01 09:00:00  546663.14  109587.78       NaN       NaN       NaN  ...   \n",
       "2025-01-01 10:00:00  518821.39  125826.58       NaN       NaN       NaN  ...   \n",
       "2025-01-01 11:00:00  494195.62  153496.50       NaN       NaN       NaN  ...   \n",
       "2025-01-01 12:00:00  487443.57  162364.69       NaN       NaN       NaN  ...   \n",
       "2025-01-01 13:00:00  483818.45  153128.01       NaN       NaN       NaN  ...   \n",
       "2025-01-01 14:00:00  500469.35  135335.25       NaN       NaN       NaN  ...   \n",
       "2025-01-01 15:00:00  496728.78  130178.54       NaN       NaN       NaN  ...   \n",
       "2025-01-01 16:00:00  498164.56  135665.91       NaN       NaN       NaN  ...   \n",
       "2025-01-01 17:00:00  561067.93   96564.16       NaN       NaN       NaN  ...   \n",
       "2025-01-01 18:00:00  597933.37   72222.70       NaN       NaN       NaN  ...   \n",
       "2025-01-01 19:00:00  611523.30   62852.74       NaN       NaN       NaN  ...   \n",
       "2025-01-01 20:00:00  628074.30   53927.94       NaN       NaN       NaN  ...   \n",
       "2025-01-01 21:00:00  651466.86   35797.96       NaN       NaN       NaN  ...   \n",
       "2025-01-01 22:00:00  662557.67   15267.33       NaN       NaN       NaN  ...   \n",
       "2025-01-01 23:00:00  680094.52    4254.93       NaN       NaN       NaN  ...   \n",
       "2025-01-02 00:00:00  701267.36     980.45       NaN       NaN       NaN  ...   \n",
       "2025-01-02 01:00:00  703857.50   29439.75       NaN       NaN       NaN  ...   \n",
       "2025-01-02 02:00:00  710937.94   61415.11       NaN       NaN       NaN  ...   \n",
       "2025-01-02 03:00:00  706407.54   77967.38       NaN       NaN       NaN  ...   \n",
       "2025-01-02 04:00:00  704279.20   85794.54       NaN       NaN       NaN  ...   \n",
       "2025-01-02 05:00:00  715288.84   89293.77       NaN       NaN       NaN  ...   \n",
       "2025-01-02 06:00:00  718766.28   90837.27       NaN       NaN       NaN  ...   \n",
       "\n",
       "                     scenario_id  max_cap_h_hr_W  min_cap_h_hr_W  \\\n",
       "timestamp                                                          \n",
       "2025-01-01 01:00:00  baseline_01             NaN             NaN   \n",
       "2025-01-01 02:00:00  baseline_01             NaN             NaN   \n",
       "2025-01-01 03:00:00  baseline_01             NaN             NaN   \n",
       "2025-01-01 04:00:00  baseline_01             NaN             NaN   \n",
       "2025-01-01 05:00:00  baseline_01             NaN             NaN   \n",
       "2025-01-01 06:00:00  baseline_01             NaN             NaN   \n",
       "2025-01-01 07:00:00  baseline_01             NaN             NaN   \n",
       "2025-01-01 08:00:00  baseline_01             NaN             NaN   \n",
       "2025-01-01 09:00:00  baseline_01             NaN             NaN   \n",
       "2025-01-01 10:00:00  baseline_01             NaN             NaN   \n",
       "2025-01-01 11:00:00  baseline_01             NaN             NaN   \n",
       "2025-01-01 12:00:00  baseline_01             NaN             NaN   \n",
       "2025-01-01 13:00:00  baseline_01             NaN             NaN   \n",
       "2025-01-01 14:00:00  baseline_01             NaN             NaN   \n",
       "2025-01-01 15:00:00  baseline_01             NaN             NaN   \n",
       "2025-01-01 16:00:00  baseline_01             NaN             NaN   \n",
       "2025-01-01 17:00:00  baseline_01             NaN             NaN   \n",
       "2025-01-01 18:00:00  baseline_01             NaN             NaN   \n",
       "2025-01-01 19:00:00  baseline_01             NaN             NaN   \n",
       "2025-01-01 20:00:00  baseline_01             NaN             NaN   \n",
       "2025-01-01 21:00:00  baseline_01             NaN             NaN   \n",
       "2025-01-01 22:00:00  baseline_01             NaN             NaN   \n",
       "2025-01-01 23:00:00  baseline_01             NaN             NaN   \n",
       "2025-01-02 00:00:00  baseline_01             NaN             NaN   \n",
       "2025-01-02 01:00:00  baseline_01             NaN             NaN   \n",
       "2025-01-02 02:00:00  baseline_01             NaN             NaN   \n",
       "2025-01-02 03:00:00  baseline_01             NaN             NaN   \n",
       "2025-01-02 04:00:00  baseline_01             NaN             NaN   \n",
       "2025-01-02 05:00:00  baseline_01             NaN             NaN   \n",
       "2025-01-02 06:00:00  baseline_01             NaN             NaN   \n",
       "\n",
       "                     simult_h_hr_W  elec_emissions_rate  year  elec_emissions  \\\n",
       "timestamp                                                                       \n",
       "2025-01-01 01:00:00            NaN               489.35  2025       49.776418   \n",
       "2025-01-01 02:00:00            NaN               445.15  2025       50.474788   \n",
       "2025-01-01 03:00:00            NaN               447.15  2025       51.948747   \n",
       "2025-01-01 04:00:00            NaN               449.35  2025       53.441411   \n",
       "2025-01-01 05:00:00            NaN               464.95  2025       55.872553   \n",
       "2025-01-01 06:00:00            NaN               455.25  2025       54.229630   \n",
       "2025-01-01 07:00:00            NaN               462.85  2025       54.366796   \n",
       "2025-01-01 08:00:00            NaN               347.25  2025       33.904282   \n",
       "2025-01-01 09:00:00            NaN               292.30  2025       27.813371   \n",
       "2025-01-01 10:00:00            NaN               291.00  2025       28.956258   \n",
       "2025-01-01 11:00:00            NaN               286.20  2025       30.242182   \n",
       "2025-01-01 12:00:00            NaN               316.90  2025       34.159928   \n",
       "2025-01-01 13:00:00            NaN               338.35  2025       35.845344   \n",
       "2025-01-01 14:00:00            NaN               334.05  2025       34.146180   \n",
       "2025-01-01 15:00:00            NaN               331.55  2025       33.510786   \n",
       "2025-01-01 16:00:00            NaN               455.55  2025       46.587108   \n",
       "2025-01-01 17:00:00            NaN               467.20  2025       42.408702   \n",
       "2025-01-01 18:00:00            NaN               474.40  2025       38.573066   \n",
       "2025-01-01 19:00:00            NaN               451.60  2025       35.029637   \n",
       "2025-01-01 20:00:00            NaN               455.70  2025       33.699393   \n",
       "2025-01-01 21:00:00            NaN               489.90  2025       32.500211   \n",
       "2025-01-01 22:00:00            NaN               515.30  2025       29.464411   \n",
       "2025-01-01 23:00:00            NaN               490.95  2025       25.554998   \n",
       "2025-01-02 00:00:00            NaN               484.60  2025       24.467565   \n",
       "2025-01-02 01:00:00            NaN               489.35  2025       31.670673   \n",
       "2025-01-02 02:00:00            NaN               445.15  2025       35.926966   \n",
       "2025-01-02 03:00:00            NaN               447.15  2025       39.789057   \n",
       "2025-01-02 04:00:00            NaN               449.35  2025       41.743388   \n",
       "2025-01-02 05:00:00            NaN               464.95  2025       44.006072   \n",
       "2025-01-02 06:00:00            NaN               455.25  2025       43.439331   \n",
       "\n",
       "                     gas_emissions  total_refrig_emissions  \\\n",
       "timestamp                                                    \n",
       "2025-01-01 01:00:00     104.238864                     0.0   \n",
       "2025-01-01 02:00:00     103.751235                     0.0   \n",
       "2025-01-01 03:00:00     103.057367                     0.0   \n",
       "2025-01-01 04:00:00     102.047787                     0.0   \n",
       "2025-01-01 05:00:00     102.830859                     0.0   \n",
       "2025-01-01 06:00:00     103.587449                     0.0   \n",
       "2025-01-01 07:00:00     104.567245                     0.0   \n",
       "2025-01-01 08:00:00     103.711561                     0.0   \n",
       "2025-01-01 09:00:00      90.560891                     0.0   \n",
       "2025-01-01 10:00:00      84.499825                     0.0   \n",
       "2025-01-01 11:00:00      78.972338                     0.0   \n",
       "2025-01-01 12:00:00      77.513771                     0.0   \n",
       "2025-01-01 13:00:00      76.981768                     0.0   \n",
       "2025-01-01 14:00:00      80.822655                     0.0   \n",
       "2025-01-01 15:00:00      80.109513                     0.0   \n",
       "2025-01-01 16:00:00      80.322817                     0.0   \n",
       "2025-01-01 17:00:00      94.025846                     0.0   \n",
       "2025-01-01 18:00:00     102.272101                     0.0   \n",
       "2025-01-01 19:00:00     105.343249                     0.0   \n",
       "2025-01-01 20:00:00     109.041133                     0.0   \n",
       "2025-01-01 21:00:00     114.432599                     0.0   \n",
       "2025-01-01 22:00:00     117.301606                     0.0   \n",
       "2025-01-01 23:00:00     121.310482                     0.0   \n",
       "2025-01-02 00:00:00     125.846658                     0.0   \n",
       "2025-01-02 01:00:00     126.388778                     0.0   \n",
       "2025-01-02 02:00:00     127.870733                     0.0   \n",
       "2025-01-02 03:00:00     126.922509                     0.0   \n",
       "2025-01-02 04:00:00     126.477041                     0.0   \n",
       "2025-01-02 05:00:00     128.781383                     0.0   \n",
       "2025-01-02 06:00:00     129.509221                     0.0   \n",
       "\n",
       "                              em_scen_id  \n",
       "timestamp                                 \n",
       "2025-01-01 01:00:00  default_scenario_01  \n",
       "2025-01-01 02:00:00  default_scenario_01  \n",
       "2025-01-01 03:00:00  default_scenario_01  \n",
       "2025-01-01 04:00:00  default_scenario_01  \n",
       "2025-01-01 05:00:00  default_scenario_01  \n",
       "2025-01-01 06:00:00  default_scenario_01  \n",
       "2025-01-01 07:00:00  default_scenario_01  \n",
       "2025-01-01 08:00:00  default_scenario_01  \n",
       "2025-01-01 09:00:00  default_scenario_01  \n",
       "2025-01-01 10:00:00  default_scenario_01  \n",
       "2025-01-01 11:00:00  default_scenario_01  \n",
       "2025-01-01 12:00:00  default_scenario_01  \n",
       "2025-01-01 13:00:00  default_scenario_01  \n",
       "2025-01-01 14:00:00  default_scenario_01  \n",
       "2025-01-01 15:00:00  default_scenario_01  \n",
       "2025-01-01 16:00:00  default_scenario_01  \n",
       "2025-01-01 17:00:00  default_scenario_01  \n",
       "2025-01-01 18:00:00  default_scenario_01  \n",
       "2025-01-01 19:00:00  default_scenario_01  \n",
       "2025-01-01 20:00:00  default_scenario_01  \n",
       "2025-01-01 21:00:00  default_scenario_01  \n",
       "2025-01-01 22:00:00  default_scenario_01  \n",
       "2025-01-01 23:00:00  default_scenario_01  \n",
       "2025-01-02 00:00:00  default_scenario_01  \n",
       "2025-01-02 01:00:00  default_scenario_01  \n",
       "2025-01-02 02:00:00  default_scenario_01  \n",
       "2025-01-02 03:00:00  default_scenario_01  \n",
       "2025-01-02 04:00:00  default_scenario_01  \n",
       "2025-01-02 05:00:00  default_scenario_01  \n",
       "2025-01-02 06:00:00  default_scenario_01  \n",
       "\n",
       "[30 rows x 39 columns]"
      ]
     },
     "execution_count": 14,
     "metadata": {},
     "output_type": "execute_result"
    }
   ],
   "source": [
    "from src.energy import site_to_source\n",
    "\n",
    "source_energy = site_to_source(site_energy, metadata=settings)\n",
    "\n",
    "source_energy.head(30)"
   ]
  },
  {
   "cell_type": "code",
   "execution_count": 16,
   "id": "6aa161ec",
   "metadata": {},
   "outputs": [
    {
     "data": {
      "application/vnd.plotly.v1+json": {
       "config": {
        "plotlyServerURL": "https://plot.ly"
       },
       "data": [
        {
         "hovertemplate": "Type=Total<br>Electricity Use (kWh)=%{text}<br>Component=%{y}<extra></extra>",
         "legendgroup": "Total",
         "marker": {
          "color": "crimson",
          "pattern": {
           "shape": ""
          }
         },
         "name": "Total",
         "orientation": "h",
         "showlegend": true,
         "text": {
          "bdata": "vyZrIcR6d0E=",
          "dtype": "f8"
         },
         "textposition": "outside",
         "texttemplate": "%{text:.2s}",
         "type": "bar",
         "x": {
          "bdata": "vyZrIcR6d0E=",
          "dtype": "f8"
         },
         "xaxis": "x",
         "y": [
          "elec_Wh"
         ],
         "yaxis": "y"
        },
        {
         "hovertemplate": "Type=Component<br>Electricity Use (kWh)=%{text}<br>Component=%{y}<extra></extra>",
         "legendgroup": "Component",
         "marker": {
          "color": "steelblue",
          "pattern": {
           "shape": ""
          }
         },
         "name": "Component",
         "orientation": "h",
         "showlegend": true,
         "text": {
          "bdata": "JV0zw+wuakE6BmQ9cIVhQbnaitXAYFRBIZOMHFUUSEFcOBDCdDM6QcRkqkBzqyRB",
          "dtype": "f8"
         },
         "textposition": "outside",
         "texttemplate": "%{text:.2s}",
         "type": "bar",
         "x": {
          "bdata": "JV0zw+wuakE6BmQ9cIVhQbnaitXAYFRBIZOMHFUUSEFcOBDCdDM6QcRkqkBzqyRB",
          "dtype": "f8"
         },
         "xaxis": "x",
         "y": [
          "elec_chiller_Wh",
          "gas_boiler_Wh",
          "elec_res_Wh",
          "elec_awhp_c_Wh",
          "elec_awhp_h_Wh",
          "elec_hr_Wh"
         ],
         "yaxis": "y"
        }
       ],
       "layout": {
        "barmode": "relative",
        "legend": {
         "title": {
          "text": "Type"
         },
         "tracegroupgap": 0
        },
        "template": {
         "data": {
          "bar": [
           {
            "error_x": {
             "color": "rgb(51,51,51)"
            },
            "error_y": {
             "color": "rgb(51,51,51)"
            },
            "marker": {
             "line": {
              "color": "rgb(237,237,237)",
              "width": 0.5
             },
             "pattern": {
              "fillmode": "overlay",
              "size": 10,
              "solidity": 0.2
             }
            },
            "type": "bar"
           }
          ],
          "barpolar": [
           {
            "marker": {
             "line": {
              "color": "rgb(237,237,237)",
              "width": 0.5
             },
             "pattern": {
              "fillmode": "overlay",
              "size": 10,
              "solidity": 0.2
             }
            },
            "type": "barpolar"
           }
          ],
          "carpet": [
           {
            "aaxis": {
             "endlinecolor": "rgb(51,51,51)",
             "gridcolor": "white",
             "linecolor": "white",
             "minorgridcolor": "white",
             "startlinecolor": "rgb(51,51,51)"
            },
            "baxis": {
             "endlinecolor": "rgb(51,51,51)",
             "gridcolor": "white",
             "linecolor": "white",
             "minorgridcolor": "white",
             "startlinecolor": "rgb(51,51,51)"
            },
            "type": "carpet"
           }
          ],
          "choropleth": [
           {
            "colorbar": {
             "outlinewidth": 0,
             "tickcolor": "rgb(237,237,237)",
             "ticklen": 6,
             "ticks": "inside"
            },
            "type": "choropleth"
           }
          ],
          "contour": [
           {
            "colorbar": {
             "outlinewidth": 0,
             "tickcolor": "rgb(237,237,237)",
             "ticklen": 6,
             "ticks": "inside"
            },
            "colorscale": [
             [
              0,
              "rgb(20,44,66)"
             ],
             [
              1,
              "rgb(90,179,244)"
             ]
            ],
            "type": "contour"
           }
          ],
          "contourcarpet": [
           {
            "colorbar": {
             "outlinewidth": 0,
             "tickcolor": "rgb(237,237,237)",
             "ticklen": 6,
             "ticks": "inside"
            },
            "type": "contourcarpet"
           }
          ],
          "heatmap": [
           {
            "colorbar": {
             "outlinewidth": 0,
             "tickcolor": "rgb(237,237,237)",
             "ticklen": 6,
             "ticks": "inside"
            },
            "colorscale": [
             [
              0,
              "rgb(20,44,66)"
             ],
             [
              1,
              "rgb(90,179,244)"
             ]
            ],
            "type": "heatmap"
           }
          ],
          "histogram": [
           {
            "marker": {
             "pattern": {
              "fillmode": "overlay",
              "size": 10,
              "solidity": 0.2
             }
            },
            "type": "histogram"
           }
          ],
          "histogram2d": [
           {
            "colorbar": {
             "outlinewidth": 0,
             "tickcolor": "rgb(237,237,237)",
             "ticklen": 6,
             "ticks": "inside"
            },
            "colorscale": [
             [
              0,
              "rgb(20,44,66)"
             ],
             [
              1,
              "rgb(90,179,244)"
             ]
            ],
            "type": "histogram2d"
           }
          ],
          "histogram2dcontour": [
           {
            "colorbar": {
             "outlinewidth": 0,
             "tickcolor": "rgb(237,237,237)",
             "ticklen": 6,
             "ticks": "inside"
            },
            "colorscale": [
             [
              0,
              "rgb(20,44,66)"
             ],
             [
              1,
              "rgb(90,179,244)"
             ]
            ],
            "type": "histogram2dcontour"
           }
          ],
          "mesh3d": [
           {
            "colorbar": {
             "outlinewidth": 0,
             "tickcolor": "rgb(237,237,237)",
             "ticklen": 6,
             "ticks": "inside"
            },
            "type": "mesh3d"
           }
          ],
          "parcoords": [
           {
            "line": {
             "colorbar": {
              "outlinewidth": 0,
              "tickcolor": "rgb(237,237,237)",
              "ticklen": 6,
              "ticks": "inside"
             }
            },
            "type": "parcoords"
           }
          ],
          "pie": [
           {
            "automargin": true,
            "type": "pie"
           }
          ],
          "scatter": [
           {
            "fillpattern": {
             "fillmode": "overlay",
             "size": 10,
             "solidity": 0.2
            },
            "type": "scatter"
           }
          ],
          "scatter3d": [
           {
            "line": {
             "colorbar": {
              "outlinewidth": 0,
              "tickcolor": "rgb(237,237,237)",
              "ticklen": 6,
              "ticks": "inside"
             }
            },
            "marker": {
             "colorbar": {
              "outlinewidth": 0,
              "tickcolor": "rgb(237,237,237)",
              "ticklen": 6,
              "ticks": "inside"
             }
            },
            "type": "scatter3d"
           }
          ],
          "scattercarpet": [
           {
            "marker": {
             "colorbar": {
              "outlinewidth": 0,
              "tickcolor": "rgb(237,237,237)",
              "ticklen": 6,
              "ticks": "inside"
             }
            },
            "type": "scattercarpet"
           }
          ],
          "scattergeo": [
           {
            "marker": {
             "colorbar": {
              "outlinewidth": 0,
              "tickcolor": "rgb(237,237,237)",
              "ticklen": 6,
              "ticks": "inside"
             }
            },
            "type": "scattergeo"
           }
          ],
          "scattergl": [
           {
            "marker": {
             "colorbar": {
              "outlinewidth": 0,
              "tickcolor": "rgb(237,237,237)",
              "ticklen": 6,
              "ticks": "inside"
             }
            },
            "type": "scattergl"
           }
          ],
          "scattermap": [
           {
            "marker": {
             "colorbar": {
              "outlinewidth": 0,
              "tickcolor": "rgb(237,237,237)",
              "ticklen": 6,
              "ticks": "inside"
             }
            },
            "type": "scattermap"
           }
          ],
          "scattermapbox": [
           {
            "marker": {
             "colorbar": {
              "outlinewidth": 0,
              "tickcolor": "rgb(237,237,237)",
              "ticklen": 6,
              "ticks": "inside"
             }
            },
            "type": "scattermapbox"
           }
          ],
          "scatterpolar": [
           {
            "marker": {
             "colorbar": {
              "outlinewidth": 0,
              "tickcolor": "rgb(237,237,237)",
              "ticklen": 6,
              "ticks": "inside"
             }
            },
            "type": "scatterpolar"
           }
          ],
          "scatterpolargl": [
           {
            "marker": {
             "colorbar": {
              "outlinewidth": 0,
              "tickcolor": "rgb(237,237,237)",
              "ticklen": 6,
              "ticks": "inside"
             }
            },
            "type": "scatterpolargl"
           }
          ],
          "scatterternary": [
           {
            "marker": {
             "colorbar": {
              "outlinewidth": 0,
              "tickcolor": "rgb(237,237,237)",
              "ticklen": 6,
              "ticks": "inside"
             }
            },
            "type": "scatterternary"
           }
          ],
          "surface": [
           {
            "colorbar": {
             "outlinewidth": 0,
             "tickcolor": "rgb(237,237,237)",
             "ticklen": 6,
             "ticks": "inside"
            },
            "colorscale": [
             [
              0,
              "rgb(20,44,66)"
             ],
             [
              1,
              "rgb(90,179,244)"
             ]
            ],
            "type": "surface"
           }
          ],
          "table": [
           {
            "cells": {
             "fill": {
              "color": "rgb(237,237,237)"
             },
             "line": {
              "color": "white"
             }
            },
            "header": {
             "fill": {
              "color": "rgb(217,217,217)"
             },
             "line": {
              "color": "white"
             }
            },
            "type": "table"
           }
          ]
         },
         "layout": {
          "annotationdefaults": {
           "arrowhead": 0,
           "arrowwidth": 1
          },
          "autotypenumbers": "strict",
          "coloraxis": {
           "colorbar": {
            "outlinewidth": 0,
            "tickcolor": "rgb(237,237,237)",
            "ticklen": 6,
            "ticks": "inside"
           }
          },
          "colorscale": {
           "sequential": [
            [
             0,
             "rgb(20,44,66)"
            ],
            [
             1,
             "rgb(90,179,244)"
            ]
           ],
           "sequentialminus": [
            [
             0,
             "rgb(20,44,66)"
            ],
            [
             1,
             "rgb(90,179,244)"
            ]
           ]
          },
          "colorway": [
           "#277da1",
           "#577590",
           "#4d908e",
           "#43aa8b",
           "#90be6d",
           "#f9c74f",
           "#f9844a",
           "#f8961e",
           "#f3722c",
           "#f94144",
           "#a8dce2",
           "#b3bfc9",
           "#a8cfc9",
           "#a8dfd2",
           "#d2e8c0",
           "#fde7a6",
           "#f9cfbd",
           "#fbd3a7",
           "#f9b39c",
           "#f9a3a5"
          ],
          "font": {
           "color": "black",
           "family": "Helvetica, sans-serif",
           "size": 14
          },
          "geo": {
           "bgcolor": "white",
           "lakecolor": "white",
           "landcolor": "rgb(237,237,237)",
           "showlakes": true,
           "showland": true,
           "subunitcolor": "white"
          },
          "hoverlabel": {
           "align": "left"
          },
          "hovermode": "closest",
          "paper_bgcolor": "rgba(0,0,0,0)",
          "plot_bgcolor": "rgba(0,0,0,0)",
          "polar": {
           "angularaxis": {
            "gridcolor": "white",
            "linecolor": "white",
            "showgrid": true,
            "tickcolor": "rgb(51,51,51)",
            "ticks": "outside"
           },
           "bgcolor": "rgb(237,237,237)",
           "radialaxis": {
            "gridcolor": "white",
            "linecolor": "white",
            "showgrid": true,
            "tickcolor": "rgb(51,51,51)",
            "ticks": "outside"
           }
          },
          "scene": {
           "xaxis": {
            "backgroundcolor": "rgb(237,237,237)",
            "gridcolor": "white",
            "gridwidth": 2,
            "linecolor": "white",
            "showbackground": true,
            "showgrid": true,
            "tickcolor": "rgb(51,51,51)",
            "ticks": "outside",
            "zerolinecolor": "white"
           },
           "yaxis": {
            "backgroundcolor": "rgb(237,237,237)",
            "gridcolor": "white",
            "gridwidth": 2,
            "linecolor": "white",
            "showbackground": true,
            "showgrid": true,
            "tickcolor": "rgb(51,51,51)",
            "ticks": "outside",
            "zerolinecolor": "white"
           },
           "zaxis": {
            "backgroundcolor": "rgb(237,237,237)",
            "gridcolor": "white",
            "gridwidth": 2,
            "linecolor": "white",
            "showbackground": true,
            "showgrid": true,
            "tickcolor": "rgb(51,51,51)",
            "ticks": "outside",
            "zerolinecolor": "white"
           }
          },
          "shapedefaults": {
           "fillcolor": "black",
           "line": {
            "width": 0
           },
           "opacity": 0.3
          },
          "ternary": {
           "aaxis": {
            "gridcolor": "white",
            "linecolor": "white",
            "showgrid": true,
            "tickcolor": "rgb(51,51,51)",
            "ticks": "outside"
           },
           "baxis": {
            "gridcolor": "white",
            "linecolor": "white",
            "showgrid": true,
            "tickcolor": "rgb(51,51,51)",
            "ticks": "outside"
           },
           "bgcolor": "rgb(237,237,237)",
           "caxis": {
            "gridcolor": "white",
            "linecolor": "white",
            "showgrid": true,
            "tickcolor": "rgb(51,51,51)",
            "ticks": "outside"
           }
          },
          "xaxis": {
           "automargin": true,
           "gridcolor": "white",
           "linecolor": "white",
           "showgrid": true,
           "tickcolor": "rgb(51,51,51)",
           "ticks": "outside",
           "title": {
            "standoff": 15
           },
           "zerolinecolor": "white"
          },
          "yaxis": {
           "automargin": true,
           "gridcolor": "white",
           "linecolor": "white",
           "showgrid": true,
           "tickcolor": "rgb(51,51,51)",
           "ticks": "outside",
           "title": {
            "standoff": 15
           },
           "zerolinecolor": "white"
          }
         }
        },
        "title": {
         "text": "Annual Electricity Use by Component (kWh)"
        },
        "xaxis": {
         "anchor": "y",
         "domain": [
          0,
          1
         ],
         "title": {
          "text": "Electricity Use (kWh)"
         }
        },
        "yaxis": {
         "anchor": "x",
         "categoryorder": "total ascending",
         "domain": [
          0,
          1
         ],
         "title": {
          "text": "Component"
         }
        }
       }
      }
     },
     "metadata": {},
     "output_type": "display_data"
    }
   ],
   "source": [
    "#! Update for mutliple scenarios and years\n",
    "\n",
    "from src.visuals import plot_energy_breakdown\n",
    "\n",
    "df = source_energy.copy()\n",
    "\n",
    "plot_energy_breakdown(df)\n"
   ]
  },
  {
   "cell_type": "code",
   "execution_count": 17,
   "id": "312be981",
   "metadata": {},
   "outputs": [
    {
     "data": {
      "application/vnd.plotly.v1+json": {
       "config": {
        "plotlyServerURL": "https://plot.ly"
       },
       "data": [
        {
         "hovertemplate": "Scenario: baseline_01<br>Type: Gas<br>Category: Heating<br>kWh: 1635017<extra></extra>",
         "marker": {
          "color": "red",
          "opacity": 0.7
         },
         "showlegend": false,
         "type": "bar",
         "width": 0.2,
         "x": [
          "Gas"
         ],
         "xaxis": "x",
         "y": [
          1635017.37459
         ],
         "yaxis": "y"
        },
        {
         "hovertemplate": "Scenario: baseline_01<br>Type: Electricity<br>Category: Heating<br>kWh: 384011<extra></extra>",
         "marker": {
          "color": "red",
          "opacity": 0.7
         },
         "showlegend": false,
         "type": "bar",
         "width": 0.2,
         "x": [
          "Electricity"
         ],
         "xaxis": "x",
         "y": [
          384011.37015
         ],
         "yaxis": "y"
        },
        {
         "hovertemplate": "Scenario: baseline_01<br>Type: Electricity<br>Category: Cooling<br>kWh: 1822970<extra></extra>",
         "marker": {
          "color": "blue",
          "opacity": 0.7
         },
         "showlegend": false,
         "type": "bar",
         "width": 0.2,
         "x": [
          "Electricity"
         ],
         "xaxis": "x",
         "y": [
          1822969.9519200001
         ],
         "yaxis": "y"
        },
        {
         "hovertemplate": "Scenario: baseline_01<br>Type: Gas<br>Value: 294303.1 kgCO₂<extra></extra>",
         "marker": {
          "color": "yellow",
          "opacity": 0.7
         },
         "showlegend": false,
         "type": "bar",
         "width": 0.2,
         "x": [
          "Gas"
         ],
         "xaxis": "x2",
         "y": [
          294303.12742619996
         ],
         "yaxis": "y2"
        },
        {
         "hovertemplate": "Scenario: baseline_01<br>Type: Electricity<br>Value: 801677.2 kgCO₂<extra></extra>",
         "marker": {
          "color": "black",
          "opacity": 0.7
         },
         "showlegend": false,
         "type": "bar",
         "width": 0.2,
         "x": [
          "Electricity"
         ],
         "xaxis": "x2",
         "y": [
          801677.1809975465
         ],
         "yaxis": "y2"
        },
        {
         "hovertemplate": "Scenario: baseline_01<br>Type: Refrigerant<br>Value: 0.0 kgCO₂<extra></extra>",
         "marker": {
          "color": "green",
          "opacity": 0.7
         },
         "showlegend": false,
         "type": "bar",
         "width": 0.2,
         "x": [
          "Refrigerant"
         ],
         "xaxis": "x2",
         "y": [
          0
         ],
         "yaxis": "y2"
        },
        {
         "hovertemplate": "Scenario: decarb_01<br>Type: Gas<br>Category: Heating<br>kWh: 0<extra></extra>",
         "marker": {
          "color": "red",
          "opacity": 0.5666666666666667
         },
         "showlegend": false,
         "type": "bar",
         "width": 0.2,
         "x": [
          "Gas"
         ],
         "xaxis": "x",
         "y": [
          0
         ],
         "yaxis": "y"
        },
        {
         "hovertemplate": "Scenario: decarb_01<br>Type: Electricity<br>Category: Heating<br>kWh: 821909<extra></extra>",
         "marker": {
          "color": "red",
          "opacity": 0.5666666666666667
         },
         "showlegend": false,
         "type": "bar",
         "width": 0.2,
         "x": [
          "Electricity"
         ],
         "xaxis": "x",
         "y": [
          821909.06442
         ],
         "yaxis": "y"
        },
        {
         "hovertemplate": "Scenario: decarb_01<br>Type: Electricity<br>Category: Cooling<br>kWh: 1676739<extra></extra>",
         "marker": {
          "color": "blue",
          "opacity": 0.5666666666666667
         },
         "showlegend": false,
         "type": "bar",
         "width": 0.2,
         "x": [
          "Electricity"
         ],
         "xaxis": "x",
         "y": [
          1676738.85977
         ],
         "yaxis": "y"
        },
        {
         "hovertemplate": "Scenario: decarb_01<br>Type: Gas<br>Value: 0.0 kgCO₂<extra></extra>",
         "marker": {
          "color": "yellow",
          "opacity": 0.5666666666666667
         },
         "showlegend": false,
         "type": "bar",
         "width": 0.2,
         "x": [
          "Gas"
         ],
         "xaxis": "x2",
         "y": [
          0
         ],
         "yaxis": "y2"
        },
        {
         "hovertemplate": "Scenario: decarb_01<br>Type: Electricity<br>Value: 922835.0 kgCO₂<extra></extra>",
         "marker": {
          "color": "black",
          "opacity": 0.5666666666666667
         },
         "showlegend": false,
         "type": "bar",
         "width": 0.2,
         "x": [
          "Electricity"
         ],
         "xaxis": "x2",
         "y": [
          922834.9836187465
         ],
         "yaxis": "y2"
        },
        {
         "hovertemplate": "Scenario: decarb_01<br>Type: Refrigerant<br>Value: 0.0 kgCO₂<extra></extra>",
         "marker": {
          "color": "green",
          "opacity": 0.5666666666666667
         },
         "showlegend": false,
         "type": "bar",
         "width": 0.2,
         "x": [
          "Refrigerant"
         ],
         "xaxis": "x2",
         "y": [
          0
         ],
         "yaxis": "y2"
        },
        {
         "hovertemplate": "Scenario: typ_01<br>Type: Gas<br>Category: Heating<br>kWh: 2958072<extra></extra>",
         "marker": {
          "color": "red",
          "opacity": 0.4333333333333333
         },
         "showlegend": false,
         "type": "bar",
         "width": 0.2,
         "x": [
          "Gas"
         ],
         "xaxis": "x",
         "y": [
          2958071.5846400005
         ],
         "yaxis": "y"
        },
        {
         "hovertemplate": "Scenario: typ_01<br>Type: Electricity<br>Category: Heating<br>kWh: 0<extra></extra>",
         "marker": {
          "color": "red",
          "opacity": 0.4333333333333333
         },
         "showlegend": false,
         "type": "bar",
         "width": 0.2,
         "x": [
          "Electricity"
         ],
         "xaxis": "x",
         "y": [
          0
         ],
         "yaxis": "y"
        },
        {
         "hovertemplate": "Scenario: typ_01<br>Type: Electricity<br>Category: Cooling<br>kWh: 2471078<extra></extra>",
         "marker": {
          "color": "blue",
          "opacity": 0.4333333333333333
         },
         "showlegend": false,
         "type": "bar",
         "width": 0.2,
         "x": [
          "Electricity"
         ],
         "xaxis": "x",
         "y": [
          2471077.67492
         ],
         "yaxis": "y"
        },
        {
         "hovertemplate": "Scenario: typ_01<br>Type: Gas<br>Value: 532452.9 kgCO₂<extra></extra>",
         "marker": {
          "color": "yellow",
          "opacity": 0.4333333333333333
         },
         "showlegend": false,
         "type": "bar",
         "width": 0.2,
         "x": [
          "Gas"
         ],
         "xaxis": "x2",
         "y": [
          532452.8852351999
         ],
         "yaxis": "y2"
        },
        {
         "hovertemplate": "Scenario: typ_01<br>Type: Electricity<br>Value: 885932.2 kgCO₂<extra></extra>",
         "marker": {
          "color": "black",
          "opacity": 0.4333333333333333
         },
         "showlegend": false,
         "type": "bar",
         "width": 0.2,
         "x": [
          "Electricity"
         ],
         "xaxis": "x2",
         "y": [
          885932.1935402255
         ],
         "yaxis": "y2"
        },
        {
         "hovertemplate": "Scenario: typ_01<br>Type: Refrigerant<br>Value: 0.0 kgCO₂<extra></extra>",
         "marker": {
          "color": "green",
          "opacity": 0.4333333333333333
         },
         "showlegend": false,
         "type": "bar",
         "width": 0.2,
         "x": [
          "Refrigerant"
         ],
         "xaxis": "x2",
         "y": [
          0
         ],
         "yaxis": "y2"
        },
        {
         "hovertemplate": "Scenario: typ_02<br>Type: Gas<br>Category: Heating<br>kWh: 0<extra></extra>",
         "marker": {
          "color": "red",
          "opacity": 0.3
         },
         "showlegend": false,
         "type": "bar",
         "width": 0.2,
         "x": [
          "Gas"
         ],
         "xaxis": "x",
         "y": [
          0
         ],
         "yaxis": "y"
        },
        {
         "hovertemplate": "Scenario: typ_02<br>Type: Electricity<br>Category: Heating<br>kWh: 2662264<extra></extra>",
         "marker": {
          "color": "red",
          "opacity": 0.3
         },
         "showlegend": false,
         "type": "bar",
         "width": 0.2,
         "x": [
          "Electricity"
         ],
         "xaxis": "x",
         "y": [
          2662264.4259099998
         ],
         "yaxis": "y"
        },
        {
         "hovertemplate": "Scenario: typ_02<br>Type: Electricity<br>Category: Cooling<br>kWh: 2471078<extra></extra>",
         "marker": {
          "color": "blue",
          "opacity": 0.3
         },
         "showlegend": false,
         "type": "bar",
         "width": 0.2,
         "x": [
          "Electricity"
         ],
         "xaxis": "x",
         "y": [
          2471077.67492
         ],
         "yaxis": "y"
        },
        {
         "hovertemplate": "Scenario: typ_02<br>Type: Gas<br>Value: 0.0 kgCO₂<extra></extra>",
         "marker": {
          "color": "yellow",
          "opacity": 0.3
         },
         "showlegend": false,
         "type": "bar",
         "width": 0.2,
         "x": [
          "Gas"
         ],
         "xaxis": "x2",
         "y": [
          0
         ],
         "yaxis": "y2"
        },
        {
         "hovertemplate": "Scenario: typ_02<br>Type: Electricity<br>Value: 1918154.8 kgCO₂<extra></extra>",
         "marker": {
          "color": "black",
          "opacity": 0.3
         },
         "showlegend": false,
         "type": "bar",
         "width": 0.2,
         "x": [
          "Electricity"
         ],
         "xaxis": "x2",
         "y": [
          1918154.7706621913
         ],
         "yaxis": "y2"
        },
        {
         "hovertemplate": "Scenario: typ_02<br>Type: Refrigerant<br>Value: 0.0 kgCO₂<extra></extra>",
         "marker": {
          "color": "green",
          "opacity": 0.3
         },
         "showlegend": false,
         "type": "bar",
         "width": 0.2,
         "x": [
          "Refrigerant"
         ],
         "xaxis": "x2",
         "y": [
          0
         ],
         "yaxis": "y2"
        }
       ],
       "layout": {
        "barmode": "group",
        "template": {
         "data": {
          "bar": [
           {
            "error_x": {
             "color": "rgb(51,51,51)"
            },
            "error_y": {
             "color": "rgb(51,51,51)"
            },
            "marker": {
             "line": {
              "color": "rgb(237,237,237)",
              "width": 0.5
             },
             "pattern": {
              "fillmode": "overlay",
              "size": 10,
              "solidity": 0.2
             }
            },
            "type": "bar"
           }
          ],
          "barpolar": [
           {
            "marker": {
             "line": {
              "color": "rgb(237,237,237)",
              "width": 0.5
             },
             "pattern": {
              "fillmode": "overlay",
              "size": 10,
              "solidity": 0.2
             }
            },
            "type": "barpolar"
           }
          ],
          "carpet": [
           {
            "aaxis": {
             "endlinecolor": "rgb(51,51,51)",
             "gridcolor": "white",
             "linecolor": "white",
             "minorgridcolor": "white",
             "startlinecolor": "rgb(51,51,51)"
            },
            "baxis": {
             "endlinecolor": "rgb(51,51,51)",
             "gridcolor": "white",
             "linecolor": "white",
             "minorgridcolor": "white",
             "startlinecolor": "rgb(51,51,51)"
            },
            "type": "carpet"
           }
          ],
          "choropleth": [
           {
            "colorbar": {
             "outlinewidth": 0,
             "tickcolor": "rgb(237,237,237)",
             "ticklen": 6,
             "ticks": "inside"
            },
            "type": "choropleth"
           }
          ],
          "contour": [
           {
            "colorbar": {
             "outlinewidth": 0,
             "tickcolor": "rgb(237,237,237)",
             "ticklen": 6,
             "ticks": "inside"
            },
            "colorscale": [
             [
              0,
              "rgb(20,44,66)"
             ],
             [
              1,
              "rgb(90,179,244)"
             ]
            ],
            "type": "contour"
           }
          ],
          "contourcarpet": [
           {
            "colorbar": {
             "outlinewidth": 0,
             "tickcolor": "rgb(237,237,237)",
             "ticklen": 6,
             "ticks": "inside"
            },
            "type": "contourcarpet"
           }
          ],
          "heatmap": [
           {
            "colorbar": {
             "outlinewidth": 0,
             "tickcolor": "rgb(237,237,237)",
             "ticklen": 6,
             "ticks": "inside"
            },
            "colorscale": [
             [
              0,
              "rgb(20,44,66)"
             ],
             [
              1,
              "rgb(90,179,244)"
             ]
            ],
            "type": "heatmap"
           }
          ],
          "histogram": [
           {
            "marker": {
             "pattern": {
              "fillmode": "overlay",
              "size": 10,
              "solidity": 0.2
             }
            },
            "type": "histogram"
           }
          ],
          "histogram2d": [
           {
            "colorbar": {
             "outlinewidth": 0,
             "tickcolor": "rgb(237,237,237)",
             "ticklen": 6,
             "ticks": "inside"
            },
            "colorscale": [
             [
              0,
              "rgb(20,44,66)"
             ],
             [
              1,
              "rgb(90,179,244)"
             ]
            ],
            "type": "histogram2d"
           }
          ],
          "histogram2dcontour": [
           {
            "colorbar": {
             "outlinewidth": 0,
             "tickcolor": "rgb(237,237,237)",
             "ticklen": 6,
             "ticks": "inside"
            },
            "colorscale": [
             [
              0,
              "rgb(20,44,66)"
             ],
             [
              1,
              "rgb(90,179,244)"
             ]
            ],
            "type": "histogram2dcontour"
           }
          ],
          "mesh3d": [
           {
            "colorbar": {
             "outlinewidth": 0,
             "tickcolor": "rgb(237,237,237)",
             "ticklen": 6,
             "ticks": "inside"
            },
            "type": "mesh3d"
           }
          ],
          "parcoords": [
           {
            "line": {
             "colorbar": {
              "outlinewidth": 0,
              "tickcolor": "rgb(237,237,237)",
              "ticklen": 6,
              "ticks": "inside"
             }
            },
            "type": "parcoords"
           }
          ],
          "pie": [
           {
            "automargin": true,
            "type": "pie"
           }
          ],
          "scatter": [
           {
            "fillpattern": {
             "fillmode": "overlay",
             "size": 10,
             "solidity": 0.2
            },
            "type": "scatter"
           }
          ],
          "scatter3d": [
           {
            "line": {
             "colorbar": {
              "outlinewidth": 0,
              "tickcolor": "rgb(237,237,237)",
              "ticklen": 6,
              "ticks": "inside"
             }
            },
            "marker": {
             "colorbar": {
              "outlinewidth": 0,
              "tickcolor": "rgb(237,237,237)",
              "ticklen": 6,
              "ticks": "inside"
             }
            },
            "type": "scatter3d"
           }
          ],
          "scattercarpet": [
           {
            "marker": {
             "colorbar": {
              "outlinewidth": 0,
              "tickcolor": "rgb(237,237,237)",
              "ticklen": 6,
              "ticks": "inside"
             }
            },
            "type": "scattercarpet"
           }
          ],
          "scattergeo": [
           {
            "marker": {
             "colorbar": {
              "outlinewidth": 0,
              "tickcolor": "rgb(237,237,237)",
              "ticklen": 6,
              "ticks": "inside"
             }
            },
            "type": "scattergeo"
           }
          ],
          "scattergl": [
           {
            "marker": {
             "colorbar": {
              "outlinewidth": 0,
              "tickcolor": "rgb(237,237,237)",
              "ticklen": 6,
              "ticks": "inside"
             }
            },
            "type": "scattergl"
           }
          ],
          "scattermap": [
           {
            "marker": {
             "colorbar": {
              "outlinewidth": 0,
              "tickcolor": "rgb(237,237,237)",
              "ticklen": 6,
              "ticks": "inside"
             }
            },
            "type": "scattermap"
           }
          ],
          "scattermapbox": [
           {
            "marker": {
             "colorbar": {
              "outlinewidth": 0,
              "tickcolor": "rgb(237,237,237)",
              "ticklen": 6,
              "ticks": "inside"
             }
            },
            "type": "scattermapbox"
           }
          ],
          "scatterpolar": [
           {
            "marker": {
             "colorbar": {
              "outlinewidth": 0,
              "tickcolor": "rgb(237,237,237)",
              "ticklen": 6,
              "ticks": "inside"
             }
            },
            "type": "scatterpolar"
           }
          ],
          "scatterpolargl": [
           {
            "marker": {
             "colorbar": {
              "outlinewidth": 0,
              "tickcolor": "rgb(237,237,237)",
              "ticklen": 6,
              "ticks": "inside"
             }
            },
            "type": "scatterpolargl"
           }
          ],
          "scatterternary": [
           {
            "marker": {
             "colorbar": {
              "outlinewidth": 0,
              "tickcolor": "rgb(237,237,237)",
              "ticklen": 6,
              "ticks": "inside"
             }
            },
            "type": "scatterternary"
           }
          ],
          "surface": [
           {
            "colorbar": {
             "outlinewidth": 0,
             "tickcolor": "rgb(237,237,237)",
             "ticklen": 6,
             "ticks": "inside"
            },
            "colorscale": [
             [
              0,
              "rgb(20,44,66)"
             ],
             [
              1,
              "rgb(90,179,244)"
             ]
            ],
            "type": "surface"
           }
          ],
          "table": [
           {
            "cells": {
             "fill": {
              "color": "rgb(237,237,237)"
             },
             "line": {
              "color": "white"
             }
            },
            "header": {
             "fill": {
              "color": "rgb(217,217,217)"
             },
             "line": {
              "color": "white"
             }
            },
            "type": "table"
           }
          ]
         },
         "layout": {
          "annotationdefaults": {
           "arrowhead": 0,
           "arrowwidth": 1
          },
          "autotypenumbers": "strict",
          "coloraxis": {
           "colorbar": {
            "outlinewidth": 0,
            "tickcolor": "rgb(237,237,237)",
            "ticklen": 6,
            "ticks": "inside"
           }
          },
          "colorscale": {
           "sequential": [
            [
             0,
             "rgb(20,44,66)"
            ],
            [
             1,
             "rgb(90,179,244)"
            ]
           ],
           "sequentialminus": [
            [
             0,
             "rgb(20,44,66)"
            ],
            [
             1,
             "rgb(90,179,244)"
            ]
           ]
          },
          "colorway": [
           "#277da1",
           "#577590",
           "#4d908e",
           "#43aa8b",
           "#90be6d",
           "#f9c74f",
           "#f9844a",
           "#f8961e",
           "#f3722c",
           "#f94144",
           "#a8dce2",
           "#b3bfc9",
           "#a8cfc9",
           "#a8dfd2",
           "#d2e8c0",
           "#fde7a6",
           "#f9cfbd",
           "#fbd3a7",
           "#f9b39c",
           "#f9a3a5"
          ],
          "font": {
           "color": "black",
           "family": "Helvetica, sans-serif",
           "size": 14
          },
          "geo": {
           "bgcolor": "white",
           "lakecolor": "white",
           "landcolor": "rgb(237,237,237)",
           "showlakes": true,
           "showland": true,
           "subunitcolor": "white"
          },
          "hoverlabel": {
           "align": "left"
          },
          "hovermode": "closest",
          "paper_bgcolor": "rgba(0,0,0,0)",
          "plot_bgcolor": "rgba(0,0,0,0)",
          "polar": {
           "angularaxis": {
            "gridcolor": "white",
            "linecolor": "white",
            "showgrid": true,
            "tickcolor": "rgb(51,51,51)",
            "ticks": "outside"
           },
           "bgcolor": "rgb(237,237,237)",
           "radialaxis": {
            "gridcolor": "white",
            "linecolor": "white",
            "showgrid": true,
            "tickcolor": "rgb(51,51,51)",
            "ticks": "outside"
           }
          },
          "scene": {
           "xaxis": {
            "backgroundcolor": "rgb(237,237,237)",
            "gridcolor": "white",
            "gridwidth": 2,
            "linecolor": "white",
            "showbackground": true,
            "showgrid": true,
            "tickcolor": "rgb(51,51,51)",
            "ticks": "outside",
            "zerolinecolor": "white"
           },
           "yaxis": {
            "backgroundcolor": "rgb(237,237,237)",
            "gridcolor": "white",
            "gridwidth": 2,
            "linecolor": "white",
            "showbackground": true,
            "showgrid": true,
            "tickcolor": "rgb(51,51,51)",
            "ticks": "outside",
            "zerolinecolor": "white"
           },
           "zaxis": {
            "backgroundcolor": "rgb(237,237,237)",
            "gridcolor": "white",
            "gridwidth": 2,
            "linecolor": "white",
            "showbackground": true,
            "showgrid": true,
            "tickcolor": "rgb(51,51,51)",
            "ticks": "outside",
            "zerolinecolor": "white"
           }
          },
          "shapedefaults": {
           "fillcolor": "black",
           "line": {
            "width": 0
           },
           "opacity": 0.3
          },
          "ternary": {
           "aaxis": {
            "gridcolor": "white",
            "linecolor": "white",
            "showgrid": true,
            "tickcolor": "rgb(51,51,51)",
            "ticks": "outside"
           },
           "baxis": {
            "gridcolor": "white",
            "linecolor": "white",
            "showgrid": true,
            "tickcolor": "rgb(51,51,51)",
            "ticks": "outside"
           },
           "bgcolor": "rgb(237,237,237)",
           "caxis": {
            "gridcolor": "white",
            "linecolor": "white",
            "showgrid": true,
            "tickcolor": "rgb(51,51,51)",
            "ticks": "outside"
           }
          },
          "xaxis": {
           "automargin": true,
           "gridcolor": "white",
           "linecolor": "white",
           "showgrid": true,
           "tickcolor": "rgb(51,51,51)",
           "ticks": "outside",
           "title": {
            "standoff": 15
           },
           "zerolinecolor": "white"
          },
          "yaxis": {
           "automargin": true,
           "gridcolor": "white",
           "linecolor": "white",
           "showgrid": true,
           "tickcolor": "rgb(51,51,51)",
           "ticks": "outside",
           "title": {
            "standoff": 15
           },
           "zerolinecolor": "white"
          }
         }
        },
        "title": {
         "text": "Annual Energy & Emissions by Scenario, 2025"
        },
        "xaxis": {
         "anchor": "y",
         "domain": [
          0,
          0.3
         ]
        },
        "xaxis2": {
         "anchor": "y2",
         "domain": [
          0.5,
          1
         ]
        },
        "yaxis": {
         "anchor": "x",
         "domain": [
          0,
          1
         ],
         "title": {
          "text": "kWh"
         }
        },
        "yaxis2": {
         "anchor": "x2",
         "domain": [
          0,
          1
         ],
         "title": {
          "text": "Emissions [kgCO₂]"
         }
        }
       }
      }
     },
     "metadata": {},
     "output_type": "display_data"
    }
   ],
   "source": [
    "\n",
    "from src.visuals import plot_energy_and_emissions\n",
    "\n",
    "df = source_energy.copy()\n",
    "\n",
    "year = 2025\n",
    "\n",
    "plot_energy_and_emissions(df, year)\n"
   ]
  },
  {
   "cell_type": "code",
   "execution_count": 18,
   "id": "21b5d9bd",
   "metadata": {},
   "outputs": [
    {
     "data": {
      "application/vnd.plotly.v1+json": {
       "config": {
        "plotlyServerURL": "https://plot.ly"
       },
       "data": [
        {
         "colorbar": {
          "title": {
           "text": "Electricity Emissions (kg CO₂)"
          }
         },
         "colorscale": [
          [
           0,
           "rgb(255,255,217)"
          ],
          [
           0.125,
           "rgb(237,248,177)"
          ],
          [
           0.25,
           "rgb(199,233,180)"
          ],
          [
           0.375,
           "rgb(127,205,187)"
          ],
          [
           0.5,
           "rgb(65,182,196)"
          ],
          [
           0.625,
           "rgb(29,145,192)"
          ],
          [
           0.75,
           "rgb(34,94,168)"
          ],
          [
           0.875,
           "rgb(37,52,148)"
          ],
          [
           1,
           "rgb(8,29,88)"
          ]
         ],
         "hovertemplate": "Day of Year: %{x}<br>Hour: %{y}<br>Emissions: %{z:.2f} kg CO₂<extra></extra>",
         "type": "heatmap",
         "x": [],
         "y": [],
         "z": [],
         "zsmooth": "best"
        }
       ],
       "layout": {
        "template": {
         "data": {
          "bar": [
           {
            "error_x": {
             "color": "rgb(51,51,51)"
            },
            "error_y": {
             "color": "rgb(51,51,51)"
            },
            "marker": {
             "line": {
              "color": "rgb(237,237,237)",
              "width": 0.5
             },
             "pattern": {
              "fillmode": "overlay",
              "size": 10,
              "solidity": 0.2
             }
            },
            "type": "bar"
           }
          ],
          "barpolar": [
           {
            "marker": {
             "line": {
              "color": "rgb(237,237,237)",
              "width": 0.5
             },
             "pattern": {
              "fillmode": "overlay",
              "size": 10,
              "solidity": 0.2
             }
            },
            "type": "barpolar"
           }
          ],
          "carpet": [
           {
            "aaxis": {
             "endlinecolor": "rgb(51,51,51)",
             "gridcolor": "white",
             "linecolor": "white",
             "minorgridcolor": "white",
             "startlinecolor": "rgb(51,51,51)"
            },
            "baxis": {
             "endlinecolor": "rgb(51,51,51)",
             "gridcolor": "white",
             "linecolor": "white",
             "minorgridcolor": "white",
             "startlinecolor": "rgb(51,51,51)"
            },
            "type": "carpet"
           }
          ],
          "choropleth": [
           {
            "colorbar": {
             "outlinewidth": 0,
             "tickcolor": "rgb(237,237,237)",
             "ticklen": 6,
             "ticks": "inside"
            },
            "type": "choropleth"
           }
          ],
          "contour": [
           {
            "colorbar": {
             "outlinewidth": 0,
             "tickcolor": "rgb(237,237,237)",
             "ticklen": 6,
             "ticks": "inside"
            },
            "colorscale": [
             [
              0,
              "rgb(20,44,66)"
             ],
             [
              1,
              "rgb(90,179,244)"
             ]
            ],
            "type": "contour"
           }
          ],
          "contourcarpet": [
           {
            "colorbar": {
             "outlinewidth": 0,
             "tickcolor": "rgb(237,237,237)",
             "ticklen": 6,
             "ticks": "inside"
            },
            "type": "contourcarpet"
           }
          ],
          "heatmap": [
           {
            "colorbar": {
             "outlinewidth": 0,
             "tickcolor": "rgb(237,237,237)",
             "ticklen": 6,
             "ticks": "inside"
            },
            "colorscale": [
             [
              0,
              "rgb(20,44,66)"
             ],
             [
              1,
              "rgb(90,179,244)"
             ]
            ],
            "type": "heatmap"
           }
          ],
          "histogram": [
           {
            "marker": {
             "pattern": {
              "fillmode": "overlay",
              "size": 10,
              "solidity": 0.2
             }
            },
            "type": "histogram"
           }
          ],
          "histogram2d": [
           {
            "colorbar": {
             "outlinewidth": 0,
             "tickcolor": "rgb(237,237,237)",
             "ticklen": 6,
             "ticks": "inside"
            },
            "colorscale": [
             [
              0,
              "rgb(20,44,66)"
             ],
             [
              1,
              "rgb(90,179,244)"
             ]
            ],
            "type": "histogram2d"
           }
          ],
          "histogram2dcontour": [
           {
            "colorbar": {
             "outlinewidth": 0,
             "tickcolor": "rgb(237,237,237)",
             "ticklen": 6,
             "ticks": "inside"
            },
            "colorscale": [
             [
              0,
              "rgb(20,44,66)"
             ],
             [
              1,
              "rgb(90,179,244)"
             ]
            ],
            "type": "histogram2dcontour"
           }
          ],
          "mesh3d": [
           {
            "colorbar": {
             "outlinewidth": 0,
             "tickcolor": "rgb(237,237,237)",
             "ticklen": 6,
             "ticks": "inside"
            },
            "type": "mesh3d"
           }
          ],
          "parcoords": [
           {
            "line": {
             "colorbar": {
              "outlinewidth": 0,
              "tickcolor": "rgb(237,237,237)",
              "ticklen": 6,
              "ticks": "inside"
             }
            },
            "type": "parcoords"
           }
          ],
          "pie": [
           {
            "automargin": true,
            "type": "pie"
           }
          ],
          "scatter": [
           {
            "fillpattern": {
             "fillmode": "overlay",
             "size": 10,
             "solidity": 0.2
            },
            "type": "scatter"
           }
          ],
          "scatter3d": [
           {
            "line": {
             "colorbar": {
              "outlinewidth": 0,
              "tickcolor": "rgb(237,237,237)",
              "ticklen": 6,
              "ticks": "inside"
             }
            },
            "marker": {
             "colorbar": {
              "outlinewidth": 0,
              "tickcolor": "rgb(237,237,237)",
              "ticklen": 6,
              "ticks": "inside"
             }
            },
            "type": "scatter3d"
           }
          ],
          "scattercarpet": [
           {
            "marker": {
             "colorbar": {
              "outlinewidth": 0,
              "tickcolor": "rgb(237,237,237)",
              "ticklen": 6,
              "ticks": "inside"
             }
            },
            "type": "scattercarpet"
           }
          ],
          "scattergeo": [
           {
            "marker": {
             "colorbar": {
              "outlinewidth": 0,
              "tickcolor": "rgb(237,237,237)",
              "ticklen": 6,
              "ticks": "inside"
             }
            },
            "type": "scattergeo"
           }
          ],
          "scattergl": [
           {
            "marker": {
             "colorbar": {
              "outlinewidth": 0,
              "tickcolor": "rgb(237,237,237)",
              "ticklen": 6,
              "ticks": "inside"
             }
            },
            "type": "scattergl"
           }
          ],
          "scattermap": [
           {
            "marker": {
             "colorbar": {
              "outlinewidth": 0,
              "tickcolor": "rgb(237,237,237)",
              "ticklen": 6,
              "ticks": "inside"
             }
            },
            "type": "scattermap"
           }
          ],
          "scattermapbox": [
           {
            "marker": {
             "colorbar": {
              "outlinewidth": 0,
              "tickcolor": "rgb(237,237,237)",
              "ticklen": 6,
              "ticks": "inside"
             }
            },
            "type": "scattermapbox"
           }
          ],
          "scatterpolar": [
           {
            "marker": {
             "colorbar": {
              "outlinewidth": 0,
              "tickcolor": "rgb(237,237,237)",
              "ticklen": 6,
              "ticks": "inside"
             }
            },
            "type": "scatterpolar"
           }
          ],
          "scatterpolargl": [
           {
            "marker": {
             "colorbar": {
              "outlinewidth": 0,
              "tickcolor": "rgb(237,237,237)",
              "ticklen": 6,
              "ticks": "inside"
             }
            },
            "type": "scatterpolargl"
           }
          ],
          "scatterternary": [
           {
            "marker": {
             "colorbar": {
              "outlinewidth": 0,
              "tickcolor": "rgb(237,237,237)",
              "ticklen": 6,
              "ticks": "inside"
             }
            },
            "type": "scatterternary"
           }
          ],
          "surface": [
           {
            "colorbar": {
             "outlinewidth": 0,
             "tickcolor": "rgb(237,237,237)",
             "ticklen": 6,
             "ticks": "inside"
            },
            "colorscale": [
             [
              0,
              "rgb(20,44,66)"
             ],
             [
              1,
              "rgb(90,179,244)"
             ]
            ],
            "type": "surface"
           }
          ],
          "table": [
           {
            "cells": {
             "fill": {
              "color": "rgb(237,237,237)"
             },
             "line": {
              "color": "white"
             }
            },
            "header": {
             "fill": {
              "color": "rgb(217,217,217)"
             },
             "line": {
              "color": "white"
             }
            },
            "type": "table"
           }
          ]
         },
         "layout": {
          "annotationdefaults": {
           "arrowhead": 0,
           "arrowwidth": 1
          },
          "autotypenumbers": "strict",
          "coloraxis": {
           "colorbar": {
            "outlinewidth": 0,
            "tickcolor": "rgb(237,237,237)",
            "ticklen": 6,
            "ticks": "inside"
           }
          },
          "colorscale": {
           "sequential": [
            [
             0,
             "rgb(20,44,66)"
            ],
            [
             1,
             "rgb(90,179,244)"
            ]
           ],
           "sequentialminus": [
            [
             0,
             "rgb(20,44,66)"
            ],
            [
             1,
             "rgb(90,179,244)"
            ]
           ]
          },
          "colorway": [
           "#277da1",
           "#577590",
           "#4d908e",
           "#43aa8b",
           "#90be6d",
           "#f9c74f",
           "#f9844a",
           "#f8961e",
           "#f3722c",
           "#f94144",
           "#a8dce2",
           "#b3bfc9",
           "#a8cfc9",
           "#a8dfd2",
           "#d2e8c0",
           "#fde7a6",
           "#f9cfbd",
           "#fbd3a7",
           "#f9b39c",
           "#f9a3a5"
          ],
          "font": {
           "color": "black",
           "family": "Helvetica, sans-serif",
           "size": 14
          },
          "geo": {
           "bgcolor": "white",
           "lakecolor": "white",
           "landcolor": "rgb(237,237,237)",
           "showlakes": true,
           "showland": true,
           "subunitcolor": "white"
          },
          "hoverlabel": {
           "align": "left"
          },
          "hovermode": "closest",
          "paper_bgcolor": "rgba(0,0,0,0)",
          "plot_bgcolor": "rgba(0,0,0,0)",
          "polar": {
           "angularaxis": {
            "gridcolor": "white",
            "linecolor": "white",
            "showgrid": true,
            "tickcolor": "rgb(51,51,51)",
            "ticks": "outside"
           },
           "bgcolor": "rgb(237,237,237)",
           "radialaxis": {
            "gridcolor": "white",
            "linecolor": "white",
            "showgrid": true,
            "tickcolor": "rgb(51,51,51)",
            "ticks": "outside"
           }
          },
          "scene": {
           "xaxis": {
            "backgroundcolor": "rgb(237,237,237)",
            "gridcolor": "white",
            "gridwidth": 2,
            "linecolor": "white",
            "showbackground": true,
            "showgrid": true,
            "tickcolor": "rgb(51,51,51)",
            "ticks": "outside",
            "zerolinecolor": "white"
           },
           "yaxis": {
            "backgroundcolor": "rgb(237,237,237)",
            "gridcolor": "white",
            "gridwidth": 2,
            "linecolor": "white",
            "showbackground": true,
            "showgrid": true,
            "tickcolor": "rgb(51,51,51)",
            "ticks": "outside",
            "zerolinecolor": "white"
           },
           "zaxis": {
            "backgroundcolor": "rgb(237,237,237)",
            "gridcolor": "white",
            "gridwidth": 2,
            "linecolor": "white",
            "showbackground": true,
            "showgrid": true,
            "tickcolor": "rgb(51,51,51)",
            "ticks": "outside",
            "zerolinecolor": "white"
           }
          },
          "shapedefaults": {
           "fillcolor": "black",
           "line": {
            "width": 0
           },
           "opacity": 0.3
          },
          "ternary": {
           "aaxis": {
            "gridcolor": "white",
            "linecolor": "white",
            "showgrid": true,
            "tickcolor": "rgb(51,51,51)",
            "ticks": "outside"
           },
           "baxis": {
            "gridcolor": "white",
            "linecolor": "white",
            "showgrid": true,
            "tickcolor": "rgb(51,51,51)",
            "ticks": "outside"
           },
           "bgcolor": "rgb(237,237,237)",
           "caxis": {
            "gridcolor": "white",
            "linecolor": "white",
            "showgrid": true,
            "tickcolor": "rgb(51,51,51)",
            "ticks": "outside"
           }
          },
          "xaxis": {
           "automargin": true,
           "gridcolor": "white",
           "linecolor": "white",
           "showgrid": true,
           "tickcolor": "rgb(51,51,51)",
           "ticks": "outside",
           "title": {
            "standoff": 15
           },
           "zerolinecolor": "white"
          },
          "yaxis": {
           "automargin": true,
           "gridcolor": "white",
           "linecolor": "white",
           "showgrid": true,
           "tickcolor": "rgb(51,51,51)",
           "ticks": "outside",
           "title": {
            "standoff": 15
           },
           "zerolinecolor": "white"
          }
         }
        },
        "title": {
         "text": "Electricity Emissions Heatmap (Hour of Day vs. Day of Year)"
        },
        "xaxis": {
         "title": {
          "text": "Day of Year"
         }
        },
        "yaxis": {
         "title": {
          "text": "Hour of Day"
         }
        }
       }
      }
     },
     "metadata": {},
     "output_type": "display_data"
    }
   ],
   "source": [
    "#! Update for mutliple scenarios\n",
    "\n",
    "from src.visuals import plot_emissions_heatmap\n",
    "\n",
    "df = source_energy.copy()\n",
    "\n",
    "year = 2040\n",
    "\n",
    "plot_emissions_heatmap(df, year)\n"
   ]
  },
  {
   "cell_type": "code",
   "execution_count": 19,
   "id": "d3ce94da",
   "metadata": {},
   "outputs": [
    {
     "data": {
      "application/vnd.plotly.v1+json": {
       "config": {
        "plotlyServerURL": "https://plot.ly"
       },
       "data": [
        {
         "fillpattern": {
          "shape": ""
         },
         "hovertemplate": "Meter=elec_chiller_Wh<br>timestamp=%{x}<br>Usage=%{y}<extra></extra>",
         "legendgroup": "elec_chiller_Wh",
         "line": {
          "color": "#277da1"
         },
         "marker": {
          "symbol": "circle"
         },
         "mode": "lines",
         "name": "elec_chiller_Wh",
         "orientation": "v",
         "showlegend": true,
         "stackgroup": "one",
         "type": "scatter",
         "x": [
          "2025-01-01T00:00:00.000000000",
          "2025-01-02T00:00:00.000000000",
          "2025-01-03T00:00:00.000000000",
          "2025-01-04T00:00:00.000000000",
          "2025-01-05T00:00:00.000000000",
          "2025-01-06T00:00:00.000000000",
          "2025-01-07T00:00:00.000000000",
          "2025-01-08T00:00:00.000000000",
          "2025-01-09T00:00:00.000000000",
          "2025-01-10T00:00:00.000000000",
          "2025-01-11T00:00:00.000000000",
          "2025-01-12T00:00:00.000000000",
          "2025-01-13T00:00:00.000000000",
          "2025-01-14T00:00:00.000000000",
          "2025-01-15T00:00:00.000000000",
          "2025-01-16T00:00:00.000000000",
          "2025-01-17T00:00:00.000000000",
          "2025-01-18T00:00:00.000000000",
          "2025-01-19T00:00:00.000000000",
          "2025-01-20T00:00:00.000000000",
          "2025-01-21T00:00:00.000000000",
          "2025-01-22T00:00:00.000000000",
          "2025-01-23T00:00:00.000000000",
          "2025-01-24T00:00:00.000000000",
          "2025-01-25T00:00:00.000000000",
          "2025-01-26T00:00:00.000000000",
          "2025-01-27T00:00:00.000000000",
          "2025-01-28T00:00:00.000000000",
          "2025-01-29T00:00:00.000000000",
          "2025-01-30T00:00:00.000000000",
          "2025-01-31T00:00:00.000000000",
          "2025-02-01T00:00:00.000000000",
          "2025-02-02T00:00:00.000000000",
          "2025-02-03T00:00:00.000000000",
          "2025-02-04T00:00:00.000000000",
          "2025-02-05T00:00:00.000000000",
          "2025-02-06T00:00:00.000000000",
          "2025-02-07T00:00:00.000000000",
          "2025-02-08T00:00:00.000000000",
          "2025-02-09T00:00:00.000000000",
          "2025-02-10T00:00:00.000000000",
          "2025-02-11T00:00:00.000000000",
          "2025-02-12T00:00:00.000000000",
          "2025-02-13T00:00:00.000000000",
          "2025-02-14T00:00:00.000000000",
          "2025-02-15T00:00:00.000000000",
          "2025-02-16T00:00:00.000000000",
          "2025-02-17T00:00:00.000000000",
          "2025-02-18T00:00:00.000000000",
          "2025-02-19T00:00:00.000000000",
          "2025-02-20T00:00:00.000000000",
          "2025-02-21T00:00:00.000000000",
          "2025-02-22T00:00:00.000000000",
          "2025-02-23T00:00:00.000000000",
          "2025-02-24T00:00:00.000000000",
          "2025-02-25T00:00:00.000000000",
          "2025-02-26T00:00:00.000000000",
          "2025-02-27T00:00:00.000000000",
          "2025-02-28T00:00:00.000000000",
          "2025-03-01T00:00:00.000000000",
          "2025-03-02T00:00:00.000000000",
          "2025-03-03T00:00:00.000000000",
          "2025-03-04T00:00:00.000000000",
          "2025-03-05T00:00:00.000000000",
          "2025-03-06T00:00:00.000000000",
          "2025-03-07T00:00:00.000000000",
          "2025-03-08T00:00:00.000000000",
          "2025-03-09T00:00:00.000000000",
          "2025-03-10T00:00:00.000000000",
          "2025-03-11T00:00:00.000000000",
          "2025-03-12T00:00:00.000000000",
          "2025-03-13T00:00:00.000000000",
          "2025-03-14T00:00:00.000000000",
          "2025-03-15T00:00:00.000000000",
          "2025-03-16T00:00:00.000000000",
          "2025-03-17T00:00:00.000000000",
          "2025-03-18T00:00:00.000000000",
          "2025-03-19T00:00:00.000000000",
          "2025-03-20T00:00:00.000000000",
          "2025-03-21T00:00:00.000000000",
          "2025-03-22T00:00:00.000000000",
          "2025-03-23T00:00:00.000000000",
          "2025-03-24T00:00:00.000000000",
          "2025-03-25T00:00:00.000000000",
          "2025-03-26T00:00:00.000000000",
          "2025-03-27T00:00:00.000000000",
          "2025-03-28T00:00:00.000000000",
          "2025-03-29T00:00:00.000000000",
          "2025-03-30T00:00:00.000000000",
          "2025-03-31T00:00:00.000000000",
          "2025-04-01T00:00:00.000000000",
          "2025-04-02T00:00:00.000000000",
          "2025-04-03T00:00:00.000000000",
          "2025-04-04T00:00:00.000000000",
          "2025-04-05T00:00:00.000000000",
          "2025-04-06T00:00:00.000000000",
          "2025-04-07T00:00:00.000000000",
          "2025-04-08T00:00:00.000000000",
          "2025-04-09T00:00:00.000000000",
          "2025-04-10T00:00:00.000000000",
          "2025-04-11T00:00:00.000000000",
          "2025-04-12T00:00:00.000000000",
          "2025-04-13T00:00:00.000000000",
          "2025-04-14T00:00:00.000000000",
          "2025-04-15T00:00:00.000000000",
          "2025-04-16T00:00:00.000000000",
          "2025-04-17T00:00:00.000000000",
          "2025-04-18T00:00:00.000000000",
          "2025-04-19T00:00:00.000000000",
          "2025-04-20T00:00:00.000000000",
          "2025-04-21T00:00:00.000000000",
          "2025-04-22T00:00:00.000000000",
          "2025-04-23T00:00:00.000000000",
          "2025-04-24T00:00:00.000000000",
          "2025-04-25T00:00:00.000000000",
          "2025-04-26T00:00:00.000000000",
          "2025-04-27T00:00:00.000000000",
          "2025-04-28T00:00:00.000000000",
          "2025-04-29T00:00:00.000000000",
          "2025-04-30T00:00:00.000000000",
          "2025-05-01T00:00:00.000000000",
          "2025-05-02T00:00:00.000000000",
          "2025-05-03T00:00:00.000000000",
          "2025-05-04T00:00:00.000000000",
          "2025-05-05T00:00:00.000000000",
          "2025-05-06T00:00:00.000000000",
          "2025-05-07T00:00:00.000000000",
          "2025-05-08T00:00:00.000000000",
          "2025-05-09T00:00:00.000000000",
          "2025-05-10T00:00:00.000000000",
          "2025-05-11T00:00:00.000000000",
          "2025-05-12T00:00:00.000000000",
          "2025-05-13T00:00:00.000000000",
          "2025-05-14T00:00:00.000000000",
          "2025-05-15T00:00:00.000000000",
          "2025-05-16T00:00:00.000000000",
          "2025-05-17T00:00:00.000000000",
          "2025-05-18T00:00:00.000000000",
          "2025-05-19T00:00:00.000000000",
          "2025-05-20T00:00:00.000000000",
          "2025-05-21T00:00:00.000000000",
          "2025-05-22T00:00:00.000000000",
          "2025-05-23T00:00:00.000000000",
          "2025-05-24T00:00:00.000000000",
          "2025-05-25T00:00:00.000000000",
          "2025-05-26T00:00:00.000000000",
          "2025-05-27T00:00:00.000000000",
          "2025-05-28T00:00:00.000000000",
          "2025-05-29T00:00:00.000000000",
          "2025-05-30T00:00:00.000000000",
          "2025-05-31T00:00:00.000000000",
          "2025-06-01T00:00:00.000000000",
          "2025-06-02T00:00:00.000000000",
          "2025-06-03T00:00:00.000000000",
          "2025-06-04T00:00:00.000000000",
          "2025-06-05T00:00:00.000000000",
          "2025-06-06T00:00:00.000000000",
          "2025-06-07T00:00:00.000000000",
          "2025-06-08T00:00:00.000000000",
          "2025-06-09T00:00:00.000000000",
          "2025-06-10T00:00:00.000000000",
          "2025-06-11T00:00:00.000000000",
          "2025-06-12T00:00:00.000000000",
          "2025-06-13T00:00:00.000000000",
          "2025-06-14T00:00:00.000000000",
          "2025-06-15T00:00:00.000000000",
          "2025-06-16T00:00:00.000000000",
          "2025-06-17T00:00:00.000000000",
          "2025-06-18T00:00:00.000000000",
          "2025-06-19T00:00:00.000000000",
          "2025-06-20T00:00:00.000000000",
          "2025-06-21T00:00:00.000000000",
          "2025-06-22T00:00:00.000000000",
          "2025-06-23T00:00:00.000000000",
          "2025-06-24T00:00:00.000000000",
          "2025-06-25T00:00:00.000000000",
          "2025-06-26T00:00:00.000000000",
          "2025-06-27T00:00:00.000000000",
          "2025-06-28T00:00:00.000000000",
          "2025-06-29T00:00:00.000000000",
          "2025-06-30T00:00:00.000000000",
          "2025-07-01T00:00:00.000000000",
          "2025-07-02T00:00:00.000000000",
          "2025-07-03T00:00:00.000000000",
          "2025-07-04T00:00:00.000000000",
          "2025-07-05T00:00:00.000000000",
          "2025-07-06T00:00:00.000000000",
          "2025-07-07T00:00:00.000000000",
          "2025-07-08T00:00:00.000000000",
          "2025-07-09T00:00:00.000000000",
          "2025-07-10T00:00:00.000000000",
          "2025-07-11T00:00:00.000000000",
          "2025-07-12T00:00:00.000000000",
          "2025-07-13T00:00:00.000000000",
          "2025-07-14T00:00:00.000000000",
          "2025-07-15T00:00:00.000000000",
          "2025-07-16T00:00:00.000000000",
          "2025-07-17T00:00:00.000000000",
          "2025-07-18T00:00:00.000000000",
          "2025-07-19T00:00:00.000000000",
          "2025-07-20T00:00:00.000000000",
          "2025-07-21T00:00:00.000000000",
          "2025-07-22T00:00:00.000000000",
          "2025-07-23T00:00:00.000000000",
          "2025-07-24T00:00:00.000000000",
          "2025-07-25T00:00:00.000000000",
          "2025-07-26T00:00:00.000000000",
          "2025-07-27T00:00:00.000000000",
          "2025-07-28T00:00:00.000000000",
          "2025-07-29T00:00:00.000000000",
          "2025-07-30T00:00:00.000000000",
          "2025-07-31T00:00:00.000000000",
          "2025-08-01T00:00:00.000000000",
          "2025-08-02T00:00:00.000000000",
          "2025-08-03T00:00:00.000000000",
          "2025-08-04T00:00:00.000000000",
          "2025-08-05T00:00:00.000000000",
          "2025-08-06T00:00:00.000000000",
          "2025-08-07T00:00:00.000000000",
          "2025-08-08T00:00:00.000000000",
          "2025-08-09T00:00:00.000000000",
          "2025-08-10T00:00:00.000000000",
          "2025-08-11T00:00:00.000000000",
          "2025-08-12T00:00:00.000000000",
          "2025-08-13T00:00:00.000000000",
          "2025-08-14T00:00:00.000000000",
          "2025-08-15T00:00:00.000000000",
          "2025-08-16T00:00:00.000000000",
          "2025-08-17T00:00:00.000000000",
          "2025-08-18T00:00:00.000000000",
          "2025-08-19T00:00:00.000000000",
          "2025-08-20T00:00:00.000000000",
          "2025-08-21T00:00:00.000000000",
          "2025-08-22T00:00:00.000000000",
          "2025-08-23T00:00:00.000000000",
          "2025-08-24T00:00:00.000000000",
          "2025-08-25T00:00:00.000000000",
          "2025-08-26T00:00:00.000000000",
          "2025-08-27T00:00:00.000000000",
          "2025-08-28T00:00:00.000000000",
          "2025-08-29T00:00:00.000000000",
          "2025-08-30T00:00:00.000000000",
          "2025-08-31T00:00:00.000000000",
          "2025-09-01T00:00:00.000000000",
          "2025-09-02T00:00:00.000000000",
          "2025-09-03T00:00:00.000000000",
          "2025-09-04T00:00:00.000000000",
          "2025-09-05T00:00:00.000000000",
          "2025-09-06T00:00:00.000000000",
          "2025-09-07T00:00:00.000000000",
          "2025-09-08T00:00:00.000000000",
          "2025-09-09T00:00:00.000000000",
          "2025-09-10T00:00:00.000000000",
          "2025-09-11T00:00:00.000000000",
          "2025-09-12T00:00:00.000000000",
          "2025-09-13T00:00:00.000000000",
          "2025-09-14T00:00:00.000000000",
          "2025-09-15T00:00:00.000000000",
          "2025-09-16T00:00:00.000000000",
          "2025-09-17T00:00:00.000000000",
          "2025-09-18T00:00:00.000000000",
          "2025-09-19T00:00:00.000000000",
          "2025-09-20T00:00:00.000000000",
          "2025-09-21T00:00:00.000000000",
          "2025-09-22T00:00:00.000000000",
          "2025-09-23T00:00:00.000000000",
          "2025-09-24T00:00:00.000000000",
          "2025-09-25T00:00:00.000000000",
          "2025-09-26T00:00:00.000000000",
          "2025-09-27T00:00:00.000000000",
          "2025-09-28T00:00:00.000000000",
          "2025-09-29T00:00:00.000000000",
          "2025-09-30T00:00:00.000000000",
          "2025-10-01T00:00:00.000000000",
          "2025-10-02T00:00:00.000000000",
          "2025-10-03T00:00:00.000000000",
          "2025-10-04T00:00:00.000000000",
          "2025-10-05T00:00:00.000000000",
          "2025-10-06T00:00:00.000000000",
          "2025-10-07T00:00:00.000000000",
          "2025-10-08T00:00:00.000000000",
          "2025-10-09T00:00:00.000000000",
          "2025-10-10T00:00:00.000000000",
          "2025-10-11T00:00:00.000000000",
          "2025-10-12T00:00:00.000000000",
          "2025-10-13T00:00:00.000000000",
          "2025-10-14T00:00:00.000000000",
          "2025-10-15T00:00:00.000000000",
          "2025-10-16T00:00:00.000000000",
          "2025-10-17T00:00:00.000000000",
          "2025-10-18T00:00:00.000000000",
          "2025-10-19T00:00:00.000000000",
          "2025-10-20T00:00:00.000000000",
          "2025-10-21T00:00:00.000000000",
          "2025-10-22T00:00:00.000000000",
          "2025-10-23T00:00:00.000000000",
          "2025-10-24T00:00:00.000000000",
          "2025-10-25T00:00:00.000000000",
          "2025-10-26T00:00:00.000000000",
          "2025-10-27T00:00:00.000000000",
          "2025-10-28T00:00:00.000000000",
          "2025-10-29T00:00:00.000000000",
          "2025-10-30T00:00:00.000000000",
          "2025-10-31T00:00:00.000000000",
          "2025-11-01T00:00:00.000000000",
          "2025-11-02T00:00:00.000000000",
          "2025-11-03T00:00:00.000000000",
          "2025-11-04T00:00:00.000000000",
          "2025-11-05T00:00:00.000000000",
          "2025-11-06T00:00:00.000000000",
          "2025-11-07T00:00:00.000000000",
          "2025-11-08T00:00:00.000000000",
          "2025-11-09T00:00:00.000000000",
          "2025-11-10T00:00:00.000000000",
          "2025-11-11T00:00:00.000000000",
          "2025-11-12T00:00:00.000000000",
          "2025-11-13T00:00:00.000000000",
          "2025-11-14T00:00:00.000000000",
          "2025-11-15T00:00:00.000000000",
          "2025-11-16T00:00:00.000000000",
          "2025-11-17T00:00:00.000000000",
          "2025-11-18T00:00:00.000000000",
          "2025-11-19T00:00:00.000000000",
          "2025-11-20T00:00:00.000000000",
          "2025-11-21T00:00:00.000000000",
          "2025-11-22T00:00:00.000000000",
          "2025-11-23T00:00:00.000000000",
          "2025-11-24T00:00:00.000000000",
          "2025-11-25T00:00:00.000000000",
          "2025-11-26T00:00:00.000000000",
          "2025-11-27T00:00:00.000000000",
          "2025-11-28T00:00:00.000000000",
          "2025-11-29T00:00:00.000000000",
          "2025-11-30T00:00:00.000000000",
          "2025-12-01T00:00:00.000000000",
          "2025-12-02T00:00:00.000000000",
          "2025-12-03T00:00:00.000000000",
          "2025-12-04T00:00:00.000000000",
          "2025-12-05T00:00:00.000000000",
          "2025-12-06T00:00:00.000000000",
          "2025-12-07T00:00:00.000000000",
          "2025-12-08T00:00:00.000000000",
          "2025-12-09T00:00:00.000000000",
          "2025-12-10T00:00:00.000000000",
          "2025-12-11T00:00:00.000000000",
          "2025-12-12T00:00:00.000000000",
          "2025-12-13T00:00:00.000000000",
          "2025-12-14T00:00:00.000000000",
          "2025-12-15T00:00:00.000000000",
          "2025-12-16T00:00:00.000000000",
          "2025-12-17T00:00:00.000000000",
          "2025-12-18T00:00:00.000000000",
          "2025-12-19T00:00:00.000000000",
          "2025-12-20T00:00:00.000000000",
          "2025-12-21T00:00:00.000000000",
          "2025-12-22T00:00:00.000000000",
          "2025-12-23T00:00:00.000000000",
          "2025-12-24T00:00:00.000000000",
          "2025-12-25T00:00:00.000000000",
          "2025-12-26T00:00:00.000000000",
          "2025-12-27T00:00:00.000000000",
          "2025-12-28T00:00:00.000000000",
          "2025-12-29T00:00:00.000000000",
          "2025-12-30T00:00:00.000000000",
          "2025-12-31T00:00:00.000000000"
         ],
         "xaxis": "x",
         "y": {
          "bdata": "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",
          "dtype": "f8"
         },
         "yaxis": "y"
        },
        {
         "fillpattern": {
          "shape": ""
         },
         "hovertemplate": "Meter=gas_boiler_Wh<br>timestamp=%{x}<br>Usage=%{y}<extra></extra>",
         "legendgroup": "gas_boiler_Wh",
         "line": {
          "color": "#577590"
         },
         "marker": {
          "symbol": "circle"
         },
         "mode": "lines",
         "name": "gas_boiler_Wh",
         "orientation": "v",
         "showlegend": true,
         "stackgroup": "one",
         "type": "scatter",
         "x": [
          "2025-01-01T00:00:00.000000000",
          "2025-01-02T00:00:00.000000000",
          "2025-01-03T00:00:00.000000000",
          "2025-01-04T00:00:00.000000000",
          "2025-01-05T00:00:00.000000000",
          "2025-01-06T00:00:00.000000000",
          "2025-01-07T00:00:00.000000000",
          "2025-01-08T00:00:00.000000000",
          "2025-01-09T00:00:00.000000000",
          "2025-01-10T00:00:00.000000000",
          "2025-01-11T00:00:00.000000000",
          "2025-01-12T00:00:00.000000000",
          "2025-01-13T00:00:00.000000000",
          "2025-01-14T00:00:00.000000000",
          "2025-01-15T00:00:00.000000000",
          "2025-01-16T00:00:00.000000000",
          "2025-01-17T00:00:00.000000000",
          "2025-01-18T00:00:00.000000000",
          "2025-01-19T00:00:00.000000000",
          "2025-01-20T00:00:00.000000000",
          "2025-01-21T00:00:00.000000000",
          "2025-01-22T00:00:00.000000000",
          "2025-01-23T00:00:00.000000000",
          "2025-01-24T00:00:00.000000000",
          "2025-01-25T00:00:00.000000000",
          "2025-01-26T00:00:00.000000000",
          "2025-01-27T00:00:00.000000000",
          "2025-01-28T00:00:00.000000000",
          "2025-01-29T00:00:00.000000000",
          "2025-01-30T00:00:00.000000000",
          "2025-01-31T00:00:00.000000000",
          "2025-02-01T00:00:00.000000000",
          "2025-02-02T00:00:00.000000000",
          "2025-02-03T00:00:00.000000000",
          "2025-02-04T00:00:00.000000000",
          "2025-02-05T00:00:00.000000000",
          "2025-02-06T00:00:00.000000000",
          "2025-02-07T00:00:00.000000000",
          "2025-02-08T00:00:00.000000000",
          "2025-02-09T00:00:00.000000000",
          "2025-02-10T00:00:00.000000000",
          "2025-02-11T00:00:00.000000000",
          "2025-02-12T00:00:00.000000000",
          "2025-02-13T00:00:00.000000000",
          "2025-02-14T00:00:00.000000000",
          "2025-02-15T00:00:00.000000000",
          "2025-02-16T00:00:00.000000000",
          "2025-02-17T00:00:00.000000000",
          "2025-02-18T00:00:00.000000000",
          "2025-02-19T00:00:00.000000000",
          "2025-02-20T00:00:00.000000000",
          "2025-02-21T00:00:00.000000000",
          "2025-02-22T00:00:00.000000000",
          "2025-02-23T00:00:00.000000000",
          "2025-02-24T00:00:00.000000000",
          "2025-02-25T00:00:00.000000000",
          "2025-02-26T00:00:00.000000000",
          "2025-02-27T00:00:00.000000000",
          "2025-02-28T00:00:00.000000000",
          "2025-03-01T00:00:00.000000000",
          "2025-03-02T00:00:00.000000000",
          "2025-03-03T00:00:00.000000000",
          "2025-03-04T00:00:00.000000000",
          "2025-03-05T00:00:00.000000000",
          "2025-03-06T00:00:00.000000000",
          "2025-03-07T00:00:00.000000000",
          "2025-03-08T00:00:00.000000000",
          "2025-03-09T00:00:00.000000000",
          "2025-03-10T00:00:00.000000000",
          "2025-03-11T00:00:00.000000000",
          "2025-03-12T00:00:00.000000000",
          "2025-03-13T00:00:00.000000000",
          "2025-03-14T00:00:00.000000000",
          "2025-03-15T00:00:00.000000000",
          "2025-03-16T00:00:00.000000000",
          "2025-03-17T00:00:00.000000000",
          "2025-03-18T00:00:00.000000000",
          "2025-03-19T00:00:00.000000000",
          "2025-03-20T00:00:00.000000000",
          "2025-03-21T00:00:00.000000000",
          "2025-03-22T00:00:00.000000000",
          "2025-03-23T00:00:00.000000000",
          "2025-03-24T00:00:00.000000000",
          "2025-03-25T00:00:00.000000000",
          "2025-03-26T00:00:00.000000000",
          "2025-03-27T00:00:00.000000000",
          "2025-03-28T00:00:00.000000000",
          "2025-03-29T00:00:00.000000000",
          "2025-03-30T00:00:00.000000000",
          "2025-03-31T00:00:00.000000000",
          "2025-04-01T00:00:00.000000000",
          "2025-04-02T00:00:00.000000000",
          "2025-04-03T00:00:00.000000000",
          "2025-04-04T00:00:00.000000000",
          "2025-04-05T00:00:00.000000000",
          "2025-04-06T00:00:00.000000000",
          "2025-04-07T00:00:00.000000000",
          "2025-04-08T00:00:00.000000000",
          "2025-04-09T00:00:00.000000000",
          "2025-04-10T00:00:00.000000000",
          "2025-04-11T00:00:00.000000000",
          "2025-04-12T00:00:00.000000000",
          "2025-04-13T00:00:00.000000000",
          "2025-04-14T00:00:00.000000000",
          "2025-04-15T00:00:00.000000000",
          "2025-04-16T00:00:00.000000000",
          "2025-04-17T00:00:00.000000000",
          "2025-04-18T00:00:00.000000000",
          "2025-04-19T00:00:00.000000000",
          "2025-04-20T00:00:00.000000000",
          "2025-04-21T00:00:00.000000000",
          "2025-04-22T00:00:00.000000000",
          "2025-04-23T00:00:00.000000000",
          "2025-04-24T00:00:00.000000000",
          "2025-04-25T00:00:00.000000000",
          "2025-04-26T00:00:00.000000000",
          "2025-04-27T00:00:00.000000000",
          "2025-04-28T00:00:00.000000000",
          "2025-04-29T00:00:00.000000000",
          "2025-04-30T00:00:00.000000000",
          "2025-05-01T00:00:00.000000000",
          "2025-05-02T00:00:00.000000000",
          "2025-05-03T00:00:00.000000000",
          "2025-05-04T00:00:00.000000000",
          "2025-05-05T00:00:00.000000000",
          "2025-05-06T00:00:00.000000000",
          "2025-05-07T00:00:00.000000000",
          "2025-05-08T00:00:00.000000000",
          "2025-05-09T00:00:00.000000000",
          "2025-05-10T00:00:00.000000000",
          "2025-05-11T00:00:00.000000000",
          "2025-05-12T00:00:00.000000000",
          "2025-05-13T00:00:00.000000000",
          "2025-05-14T00:00:00.000000000",
          "2025-05-15T00:00:00.000000000",
          "2025-05-16T00:00:00.000000000",
          "2025-05-17T00:00:00.000000000",
          "2025-05-18T00:00:00.000000000",
          "2025-05-19T00:00:00.000000000",
          "2025-05-20T00:00:00.000000000",
          "2025-05-21T00:00:00.000000000",
          "2025-05-22T00:00:00.000000000",
          "2025-05-23T00:00:00.000000000",
          "2025-05-24T00:00:00.000000000",
          "2025-05-25T00:00:00.000000000",
          "2025-05-26T00:00:00.000000000",
          "2025-05-27T00:00:00.000000000",
          "2025-05-28T00:00:00.000000000",
          "2025-05-29T00:00:00.000000000",
          "2025-05-30T00:00:00.000000000",
          "2025-05-31T00:00:00.000000000",
          "2025-06-01T00:00:00.000000000",
          "2025-06-02T00:00:00.000000000",
          "2025-06-03T00:00:00.000000000",
          "2025-06-04T00:00:00.000000000",
          "2025-06-05T00:00:00.000000000",
          "2025-06-06T00:00:00.000000000",
          "2025-06-07T00:00:00.000000000",
          "2025-06-08T00:00:00.000000000",
          "2025-06-09T00:00:00.000000000",
          "2025-06-10T00:00:00.000000000",
          "2025-06-11T00:00:00.000000000",
          "2025-06-12T00:00:00.000000000",
          "2025-06-13T00:00:00.000000000",
          "2025-06-14T00:00:00.000000000",
          "2025-06-15T00:00:00.000000000",
          "2025-06-16T00:00:00.000000000",
          "2025-06-17T00:00:00.000000000",
          "2025-06-18T00:00:00.000000000",
          "2025-06-19T00:00:00.000000000",
          "2025-06-20T00:00:00.000000000",
          "2025-06-21T00:00:00.000000000",
          "2025-06-22T00:00:00.000000000",
          "2025-06-23T00:00:00.000000000",
          "2025-06-24T00:00:00.000000000",
          "2025-06-25T00:00:00.000000000",
          "2025-06-26T00:00:00.000000000",
          "2025-06-27T00:00:00.000000000",
          "2025-06-28T00:00:00.000000000",
          "2025-06-29T00:00:00.000000000",
          "2025-06-30T00:00:00.000000000",
          "2025-07-01T00:00:00.000000000",
          "2025-07-02T00:00:00.000000000",
          "2025-07-03T00:00:00.000000000",
          "2025-07-04T00:00:00.000000000",
          "2025-07-05T00:00:00.000000000",
          "2025-07-06T00:00:00.000000000",
          "2025-07-07T00:00:00.000000000",
          "2025-07-08T00:00:00.000000000",
          "2025-07-09T00:00:00.000000000",
          "2025-07-10T00:00:00.000000000",
          "2025-07-11T00:00:00.000000000",
          "2025-07-12T00:00:00.000000000",
          "2025-07-13T00:00:00.000000000",
          "2025-07-14T00:00:00.000000000",
          "2025-07-15T00:00:00.000000000",
          "2025-07-16T00:00:00.000000000",
          "2025-07-17T00:00:00.000000000",
          "2025-07-18T00:00:00.000000000",
          "2025-07-19T00:00:00.000000000",
          "2025-07-20T00:00:00.000000000",
          "2025-07-21T00:00:00.000000000",
          "2025-07-22T00:00:00.000000000",
          "2025-07-23T00:00:00.000000000",
          "2025-07-24T00:00:00.000000000",
          "2025-07-25T00:00:00.000000000",
          "2025-07-26T00:00:00.000000000",
          "2025-07-27T00:00:00.000000000",
          "2025-07-28T00:00:00.000000000",
          "2025-07-29T00:00:00.000000000",
          "2025-07-30T00:00:00.000000000",
          "2025-07-31T00:00:00.000000000",
          "2025-08-01T00:00:00.000000000",
          "2025-08-02T00:00:00.000000000",
          "2025-08-03T00:00:00.000000000",
          "2025-08-04T00:00:00.000000000",
          "2025-08-05T00:00:00.000000000",
          "2025-08-06T00:00:00.000000000",
          "2025-08-07T00:00:00.000000000",
          "2025-08-08T00:00:00.000000000",
          "2025-08-09T00:00:00.000000000",
          "2025-08-10T00:00:00.000000000",
          "2025-08-11T00:00:00.000000000",
          "2025-08-12T00:00:00.000000000",
          "2025-08-13T00:00:00.000000000",
          "2025-08-14T00:00:00.000000000",
          "2025-08-15T00:00:00.000000000",
          "2025-08-16T00:00:00.000000000",
          "2025-08-17T00:00:00.000000000",
          "2025-08-18T00:00:00.000000000",
          "2025-08-19T00:00:00.000000000",
          "2025-08-20T00:00:00.000000000",
          "2025-08-21T00:00:00.000000000",
          "2025-08-22T00:00:00.000000000",
          "2025-08-23T00:00:00.000000000",
          "2025-08-24T00:00:00.000000000",
          "2025-08-25T00:00:00.000000000",
          "2025-08-26T00:00:00.000000000",
          "2025-08-27T00:00:00.000000000",
          "2025-08-28T00:00:00.000000000",
          "2025-08-29T00:00:00.000000000",
          "2025-08-30T00:00:00.000000000",
          "2025-08-31T00:00:00.000000000",
          "2025-09-01T00:00:00.000000000",
          "2025-09-02T00:00:00.000000000",
          "2025-09-03T00:00:00.000000000",
          "2025-09-04T00:00:00.000000000",
          "2025-09-05T00:00:00.000000000",
          "2025-09-06T00:00:00.000000000",
          "2025-09-07T00:00:00.000000000",
          "2025-09-08T00:00:00.000000000",
          "2025-09-09T00:00:00.000000000",
          "2025-09-10T00:00:00.000000000",
          "2025-09-11T00:00:00.000000000",
          "2025-09-12T00:00:00.000000000",
          "2025-09-13T00:00:00.000000000",
          "2025-09-14T00:00:00.000000000",
          "2025-09-15T00:00:00.000000000",
          "2025-09-16T00:00:00.000000000",
          "2025-09-17T00:00:00.000000000",
          "2025-09-18T00:00:00.000000000",
          "2025-09-19T00:00:00.000000000",
          "2025-09-20T00:00:00.000000000",
          "2025-09-21T00:00:00.000000000",
          "2025-09-22T00:00:00.000000000",
          "2025-09-23T00:00:00.000000000",
          "2025-09-24T00:00:00.000000000",
          "2025-09-25T00:00:00.000000000",
          "2025-09-26T00:00:00.000000000",
          "2025-09-27T00:00:00.000000000",
          "2025-09-28T00:00:00.000000000",
          "2025-09-29T00:00:00.000000000",
          "2025-09-30T00:00:00.000000000",
          "2025-10-01T00:00:00.000000000",
          "2025-10-02T00:00:00.000000000",
          "2025-10-03T00:00:00.000000000",
          "2025-10-04T00:00:00.000000000",
          "2025-10-05T00:00:00.000000000",
          "2025-10-06T00:00:00.000000000",
          "2025-10-07T00:00:00.000000000",
          "2025-10-08T00:00:00.000000000",
          "2025-10-09T00:00:00.000000000",
          "2025-10-10T00:00:00.000000000",
          "2025-10-11T00:00:00.000000000",
          "2025-10-12T00:00:00.000000000",
          "2025-10-13T00:00:00.000000000",
          "2025-10-14T00:00:00.000000000",
          "2025-10-15T00:00:00.000000000",
          "2025-10-16T00:00:00.000000000",
          "2025-10-17T00:00:00.000000000",
          "2025-10-18T00:00:00.000000000",
          "2025-10-19T00:00:00.000000000",
          "2025-10-20T00:00:00.000000000",
          "2025-10-21T00:00:00.000000000",
          "2025-10-22T00:00:00.000000000",
          "2025-10-23T00:00:00.000000000",
          "2025-10-24T00:00:00.000000000",
          "2025-10-25T00:00:00.000000000",
          "2025-10-26T00:00:00.000000000",
          "2025-10-27T00:00:00.000000000",
          "2025-10-28T00:00:00.000000000",
          "2025-10-29T00:00:00.000000000",
          "2025-10-30T00:00:00.000000000",
          "2025-10-31T00:00:00.000000000",
          "2025-11-01T00:00:00.000000000",
          "2025-11-02T00:00:00.000000000",
          "2025-11-03T00:00:00.000000000",
          "2025-11-04T00:00:00.000000000",
          "2025-11-05T00:00:00.000000000",
          "2025-11-06T00:00:00.000000000",
          "2025-11-07T00:00:00.000000000",
          "2025-11-08T00:00:00.000000000",
          "2025-11-09T00:00:00.000000000",
          "2025-11-10T00:00:00.000000000",
          "2025-11-11T00:00:00.000000000",
          "2025-11-12T00:00:00.000000000",
          "2025-11-13T00:00:00.000000000",
          "2025-11-14T00:00:00.000000000",
          "2025-11-15T00:00:00.000000000",
          "2025-11-16T00:00:00.000000000",
          "2025-11-17T00:00:00.000000000",
          "2025-11-18T00:00:00.000000000",
          "2025-11-19T00:00:00.000000000",
          "2025-11-20T00:00:00.000000000",
          "2025-11-21T00:00:00.000000000",
          "2025-11-22T00:00:00.000000000",
          "2025-11-23T00:00:00.000000000",
          "2025-11-24T00:00:00.000000000",
          "2025-11-25T00:00:00.000000000",
          "2025-11-26T00:00:00.000000000",
          "2025-11-27T00:00:00.000000000",
          "2025-11-28T00:00:00.000000000",
          "2025-11-29T00:00:00.000000000",
          "2025-11-30T00:00:00.000000000",
          "2025-12-01T00:00:00.000000000",
          "2025-12-02T00:00:00.000000000",
          "2025-12-03T00:00:00.000000000",
          "2025-12-04T00:00:00.000000000",
          "2025-12-05T00:00:00.000000000",
          "2025-12-06T00:00:00.000000000",
          "2025-12-07T00:00:00.000000000",
          "2025-12-08T00:00:00.000000000",
          "2025-12-09T00:00:00.000000000",
          "2025-12-10T00:00:00.000000000",
          "2025-12-11T00:00:00.000000000",
          "2025-12-12T00:00:00.000000000",
          "2025-12-13T00:00:00.000000000",
          "2025-12-14T00:00:00.000000000",
          "2025-12-15T00:00:00.000000000",
          "2025-12-16T00:00:00.000000000",
          "2025-12-17T00:00:00.000000000",
          "2025-12-18T00:00:00.000000000",
          "2025-12-19T00:00:00.000000000",
          "2025-12-20T00:00:00.000000000",
          "2025-12-21T00:00:00.000000000",
          "2025-12-22T00:00:00.000000000",
          "2025-12-23T00:00:00.000000000",
          "2025-12-24T00:00:00.000000000",
          "2025-12-25T00:00:00.000000000",
          "2025-12-26T00:00:00.000000000",
          "2025-12-27T00:00:00.000000000",
          "2025-12-28T00:00:00.000000000",
          "2025-12-29T00:00:00.000000000",
          "2025-12-30T00:00:00.000000000",
          "2025-12-31T00:00:00.000000000"
         ],
         "xaxis": "x",
         "y": {
          "bdata": "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",
          "dtype": "f8"
         },
         "yaxis": "y"
        }
       ],
       "layout": {
        "annotations": [
         {
          "font": {
           "color": "gray",
           "size": 16
          },
          "showarrow": false,
          "text": "Stacked Meter Usage, aggregated over time.",
          "x": 0,
          "xanchor": "left",
          "xref": "paper",
          "y": -0.4,
          "yanchor": "bottom",
          "yref": "paper"
         }
        ],
        "legend": {
         "title": {
          "text": "Meter"
         },
         "tracegroupgap": 0
        },
        "margin": {
         "b": 120,
         "pad": 10,
         "t": 60
        },
        "template": {
         "data": {
          "bar": [
           {
            "error_x": {
             "color": "rgb(51,51,51)"
            },
            "error_y": {
             "color": "rgb(51,51,51)"
            },
            "marker": {
             "line": {
              "color": "rgb(237,237,237)",
              "width": 0.5
             },
             "pattern": {
              "fillmode": "overlay",
              "size": 10,
              "solidity": 0.2
             }
            },
            "type": "bar"
           }
          ],
          "barpolar": [
           {
            "marker": {
             "line": {
              "color": "rgb(237,237,237)",
              "width": 0.5
             },
             "pattern": {
              "fillmode": "overlay",
              "size": 10,
              "solidity": 0.2
             }
            },
            "type": "barpolar"
           }
          ],
          "carpet": [
           {
            "aaxis": {
             "endlinecolor": "rgb(51,51,51)",
             "gridcolor": "white",
             "linecolor": "white",
             "minorgridcolor": "white",
             "startlinecolor": "rgb(51,51,51)"
            },
            "baxis": {
             "endlinecolor": "rgb(51,51,51)",
             "gridcolor": "white",
             "linecolor": "white",
             "minorgridcolor": "white",
             "startlinecolor": "rgb(51,51,51)"
            },
            "type": "carpet"
           }
          ],
          "choropleth": [
           {
            "colorbar": {
             "outlinewidth": 0,
             "tickcolor": "rgb(237,237,237)",
             "ticklen": 6,
             "ticks": "inside"
            },
            "type": "choropleth"
           }
          ],
          "contour": [
           {
            "colorbar": {
             "outlinewidth": 0,
             "tickcolor": "rgb(237,237,237)",
             "ticklen": 6,
             "ticks": "inside"
            },
            "colorscale": [
             [
              0,
              "rgb(20,44,66)"
             ],
             [
              1,
              "rgb(90,179,244)"
             ]
            ],
            "type": "contour"
           }
          ],
          "contourcarpet": [
           {
            "colorbar": {
             "outlinewidth": 0,
             "tickcolor": "rgb(237,237,237)",
             "ticklen": 6,
             "ticks": "inside"
            },
            "type": "contourcarpet"
           }
          ],
          "heatmap": [
           {
            "colorbar": {
             "outlinewidth": 0,
             "tickcolor": "rgb(237,237,237)",
             "ticklen": 6,
             "ticks": "inside"
            },
            "colorscale": [
             [
              0,
              "rgb(20,44,66)"
             ],
             [
              1,
              "rgb(90,179,244)"
             ]
            ],
            "type": "heatmap"
           }
          ],
          "histogram": [
           {
            "marker": {
             "pattern": {
              "fillmode": "overlay",
              "size": 10,
              "solidity": 0.2
             }
            },
            "type": "histogram"
           }
          ],
          "histogram2d": [
           {
            "colorbar": {
             "outlinewidth": 0,
             "tickcolor": "rgb(237,237,237)",
             "ticklen": 6,
             "ticks": "inside"
            },
            "colorscale": [
             [
              0,
              "rgb(20,44,66)"
             ],
             [
              1,
              "rgb(90,179,244)"
             ]
            ],
            "type": "histogram2d"
           }
          ],
          "histogram2dcontour": [
           {
            "colorbar": {
             "outlinewidth": 0,
             "tickcolor": "rgb(237,237,237)",
             "ticklen": 6,
             "ticks": "inside"
            },
            "colorscale": [
             [
              0,
              "rgb(20,44,66)"
             ],
             [
              1,
              "rgb(90,179,244)"
             ]
            ],
            "type": "histogram2dcontour"
           }
          ],
          "mesh3d": [
           {
            "colorbar": {
             "outlinewidth": 0,
             "tickcolor": "rgb(237,237,237)",
             "ticklen": 6,
             "ticks": "inside"
            },
            "type": "mesh3d"
           }
          ],
          "parcoords": [
           {
            "line": {
             "colorbar": {
              "outlinewidth": 0,
              "tickcolor": "rgb(237,237,237)",
              "ticklen": 6,
              "ticks": "inside"
             }
            },
            "type": "parcoords"
           }
          ],
          "pie": [
           {
            "automargin": true,
            "type": "pie"
           }
          ],
          "scatter": [
           {
            "fillpattern": {
             "fillmode": "overlay",
             "size": 10,
             "solidity": 0.2
            },
            "type": "scatter"
           }
          ],
          "scatter3d": [
           {
            "line": {
             "colorbar": {
              "outlinewidth": 0,
              "tickcolor": "rgb(237,237,237)",
              "ticklen": 6,
              "ticks": "inside"
             }
            },
            "marker": {
             "colorbar": {
              "outlinewidth": 0,
              "tickcolor": "rgb(237,237,237)",
              "ticklen": 6,
              "ticks": "inside"
             }
            },
            "type": "scatter3d"
           }
          ],
          "scattercarpet": [
           {
            "marker": {
             "colorbar": {
              "outlinewidth": 0,
              "tickcolor": "rgb(237,237,237)",
              "ticklen": 6,
              "ticks": "inside"
             }
            },
            "type": "scattercarpet"
           }
          ],
          "scattergeo": [
           {
            "marker": {
             "colorbar": {
              "outlinewidth": 0,
              "tickcolor": "rgb(237,237,237)",
              "ticklen": 6,
              "ticks": "inside"
             }
            },
            "type": "scattergeo"
           }
          ],
          "scattergl": [
           {
            "marker": {
             "colorbar": {
              "outlinewidth": 0,
              "tickcolor": "rgb(237,237,237)",
              "ticklen": 6,
              "ticks": "inside"
             }
            },
            "type": "scattergl"
           }
          ],
          "scattermap": [
           {
            "marker": {
             "colorbar": {
              "outlinewidth": 0,
              "tickcolor": "rgb(237,237,237)",
              "ticklen": 6,
              "ticks": "inside"
             }
            },
            "type": "scattermap"
           }
          ],
          "scattermapbox": [
           {
            "marker": {
             "colorbar": {
              "outlinewidth": 0,
              "tickcolor": "rgb(237,237,237)",
              "ticklen": 6,
              "ticks": "inside"
             }
            },
            "type": "scattermapbox"
           }
          ],
          "scatterpolar": [
           {
            "marker": {
             "colorbar": {
              "outlinewidth": 0,
              "tickcolor": "rgb(237,237,237)",
              "ticklen": 6,
              "ticks": "inside"
             }
            },
            "type": "scatterpolar"
           }
          ],
          "scatterpolargl": [
           {
            "marker": {
             "colorbar": {
              "outlinewidth": 0,
              "tickcolor": "rgb(237,237,237)",
              "ticklen": 6,
              "ticks": "inside"
             }
            },
            "type": "scatterpolargl"
           }
          ],
          "scatterternary": [
           {
            "marker": {
             "colorbar": {
              "outlinewidth": 0,
              "tickcolor": "rgb(237,237,237)",
              "ticklen": 6,
              "ticks": "inside"
             }
            },
            "type": "scatterternary"
           }
          ],
          "surface": [
           {
            "colorbar": {
             "outlinewidth": 0,
             "tickcolor": "rgb(237,237,237)",
             "ticklen": 6,
             "ticks": "inside"
            },
            "colorscale": [
             [
              0,
              "rgb(20,44,66)"
             ],
             [
              1,
              "rgb(90,179,244)"
             ]
            ],
            "type": "surface"
           }
          ],
          "table": [
           {
            "cells": {
             "fill": {
              "color": "rgb(237,237,237)"
             },
             "line": {
              "color": "white"
             }
            },
            "header": {
             "fill": {
              "color": "rgb(217,217,217)"
             },
             "line": {
              "color": "white"
             }
            },
            "type": "table"
           }
          ]
         },
         "layout": {
          "annotationdefaults": {
           "arrowhead": 0,
           "arrowwidth": 1
          },
          "autotypenumbers": "strict",
          "coloraxis": {
           "colorbar": {
            "outlinewidth": 0,
            "tickcolor": "rgb(237,237,237)",
            "ticklen": 6,
            "ticks": "inside"
           }
          },
          "colorscale": {
           "sequential": [
            [
             0,
             "rgb(20,44,66)"
            ],
            [
             1,
             "rgb(90,179,244)"
            ]
           ],
           "sequentialminus": [
            [
             0,
             "rgb(20,44,66)"
            ],
            [
             1,
             "rgb(90,179,244)"
            ]
           ]
          },
          "colorway": [
           "#277da1",
           "#577590",
           "#4d908e",
           "#43aa8b",
           "#90be6d",
           "#f9c74f",
           "#f9844a",
           "#f8961e",
           "#f3722c",
           "#f94144",
           "#a8dce2",
           "#b3bfc9",
           "#a8cfc9",
           "#a8dfd2",
           "#d2e8c0",
           "#fde7a6",
           "#f9cfbd",
           "#fbd3a7",
           "#f9b39c",
           "#f9a3a5"
          ],
          "font": {
           "color": "black",
           "family": "Helvetica, sans-serif",
           "size": 14
          },
          "geo": {
           "bgcolor": "white",
           "lakecolor": "white",
           "landcolor": "rgb(237,237,237)",
           "showlakes": true,
           "showland": true,
           "subunitcolor": "white"
          },
          "hoverlabel": {
           "align": "left"
          },
          "hovermode": "closest",
          "paper_bgcolor": "rgba(0,0,0,0)",
          "plot_bgcolor": "rgba(0,0,0,0)",
          "polar": {
           "angularaxis": {
            "gridcolor": "white",
            "linecolor": "white",
            "showgrid": true,
            "tickcolor": "rgb(51,51,51)",
            "ticks": "outside"
           },
           "bgcolor": "rgb(237,237,237)",
           "radialaxis": {
            "gridcolor": "white",
            "linecolor": "white",
            "showgrid": true,
            "tickcolor": "rgb(51,51,51)",
            "ticks": "outside"
           }
          },
          "scene": {
           "xaxis": {
            "backgroundcolor": "rgb(237,237,237)",
            "gridcolor": "white",
            "gridwidth": 2,
            "linecolor": "white",
            "showbackground": true,
            "showgrid": true,
            "tickcolor": "rgb(51,51,51)",
            "ticks": "outside",
            "zerolinecolor": "white"
           },
           "yaxis": {
            "backgroundcolor": "rgb(237,237,237)",
            "gridcolor": "white",
            "gridwidth": 2,
            "linecolor": "white",
            "showbackground": true,
            "showgrid": true,
            "tickcolor": "rgb(51,51,51)",
            "ticks": "outside",
            "zerolinecolor": "white"
           },
           "zaxis": {
            "backgroundcolor": "rgb(237,237,237)",
            "gridcolor": "white",
            "gridwidth": 2,
            "linecolor": "white",
            "showbackground": true,
            "showgrid": true,
            "tickcolor": "rgb(51,51,51)",
            "ticks": "outside",
            "zerolinecolor": "white"
           }
          },
          "shapedefaults": {
           "fillcolor": "black",
           "line": {
            "width": 0
           },
           "opacity": 0.3
          },
          "ternary": {
           "aaxis": {
            "gridcolor": "white",
            "linecolor": "white",
            "showgrid": true,
            "tickcolor": "rgb(51,51,51)",
            "ticks": "outside"
           },
           "baxis": {
            "gridcolor": "white",
            "linecolor": "white",
            "showgrid": true,
            "tickcolor": "rgb(51,51,51)",
            "ticks": "outside"
           },
           "bgcolor": "rgb(237,237,237)",
           "caxis": {
            "gridcolor": "white",
            "linecolor": "white",
            "showgrid": true,
            "tickcolor": "rgb(51,51,51)",
            "ticks": "outside"
           }
          },
          "xaxis": {
           "automargin": true,
           "gridcolor": "white",
           "linecolor": "white",
           "showgrid": true,
           "tickcolor": "rgb(51,51,51)",
           "ticks": "outside",
           "title": {
            "standoff": 15
           },
           "zerolinecolor": "white"
          },
          "yaxis": {
           "automargin": true,
           "gridcolor": "white",
           "linecolor": "white",
           "showgrid": true,
           "tickcolor": "rgb(51,51,51)",
           "ticks": "outside",
           "title": {
            "standoff": 15
           },
           "zerolinecolor": "white"
          }
         }
        },
        "xaxis": {
         "anchor": "y",
         "domain": [
          0,
          1
         ],
         "title": {
          "text": "Time"
         }
        },
        "yaxis": {
         "anchor": "x",
         "domain": [
          0,
          1
         ],
         "title": {
          "text": "Energy [kWh]"
         }
        }
       }
      }
     },
     "metadata": {},
     "output_type": "display_data"
    }
   ],
   "source": [
    "from src.visuals import plot_meter_timeseries\n",
    "\n",
    "df = source_energy.copy()\n",
    "\n",
    "metadata_cols = ['scenario_id']\n",
    "elec_cols = ['elec_hr_Wh',\"elec_awhp_h_Wh\",\"elec_chiller_Wh\", 'elec_awhp_c_Wh', 'elec_res_Wh']\n",
    "gas_cols = ['gas_boiler_Wh']\n",
    "\n",
    "df = df[metadata_cols + elec_cols + gas_cols]\n",
    "\n",
    "year = 2025\n",
    "scenario_id = \"typ_01\"\n",
    "\n",
    "plot_meter_timeseries(df, year=year, scenario_id=scenario_id, stacked=True, include_gas=True)"
   ]
  },
  {
   "cell_type": "code",
   "execution_count": 20,
   "id": "5d173c3e",
   "metadata": {},
   "outputs": [
    {
     "data": {
      "application/vnd.plotly.v1+json": {
       "config": {
        "plotlyServerURL": "https://plot.ly"
       },
       "data": [
        {
         "hovertemplate": "emission_type=elec_emissions<br>year=2025<br>scenario_id=%{x}<br>emissions=%{y}<extra></extra>",
         "legendgroup": "elec_emissions",
         "marker": {
          "color": "#277da1",
          "pattern": {
           "shape": ""
          }
         },
         "name": "elec_emissions",
         "orientation": "v",
         "showlegend": true,
         "textposition": "auto",
         "type": "bar",
         "x": [
          "baseline_01",
          "decarb_01",
          "typ_01",
          "typ_02"
         ],
         "xaxis": "x",
         "y": {
          "bdata": "/yv5i+H3OkGoeCp2RAs/QVo0INV3zT1BOTq2l7AhUEE=",
          "dtype": "f8"
         },
         "yaxis": "y"
        },
        {
         "hovertemplate": "emission_type=elec_emissions<br>year=2030<br>scenario_id=%{x}<br>emissions=%{y}<extra></extra>",
         "legendgroup": "elec_emissions",
         "marker": {
          "color": "#277da1",
          "pattern": {
           "shape": ""
          }
         },
         "name": "elec_emissions",
         "orientation": "v",
         "showlegend": false,
         "textposition": "auto",
         "type": "bar",
         "x": [
          "baseline_01",
          "decarb_01",
          "typ_01",
          "typ_02"
         ],
         "xaxis": "x2",
         "y": {
          "bdata": "xxul4nauOUHyvW/7Cmg8QSwIA7fxYz1Btxk3Rh+5TEE=",
          "dtype": "f8"
         },
         "yaxis": "y2"
        },
        {
         "hovertemplate": "emission_type=gas_emissions<br>year=2025<br>scenario_id=%{x}<br>emissions=%{y}<extra></extra>",
         "legendgroup": "gas_emissions",
         "marker": {
          "color": "#577590",
          "pattern": {
           "shape": ""
          }
         },
         "name": "gas_emissions",
         "orientation": "v",
         "showlegend": true,
         "textposition": "auto",
         "type": "bar",
         "x": [
          "baseline_01",
          "decarb_01",
          "typ_01",
          "typ_02"
         ],
         "xaxis": "x",
         "y": {
          "bdata": "amMfH/XMI0EAAAAAAAAAAF4RpEdg6TFBAAAAAAAAAAA=",
          "dtype": "f8"
         },
         "yaxis": "y"
        },
        {
         "hovertemplate": "emission_type=gas_emissions<br>year=2030<br>scenario_id=%{x}<br>emissions=%{y}<extra></extra>",
         "legendgroup": "gas_emissions",
         "marker": {
          "color": "#577590",
          "pattern": {
           "shape": ""
          }
         },
         "name": "gas_emissions",
         "orientation": "v",
         "showlegend": false,
         "textposition": "auto",
         "type": "bar",
         "x": [
          "baseline_01",
          "decarb_01",
          "typ_01",
          "typ_02"
         ],
         "xaxis": "x2",
         "y": {
          "bdata": "amMfH/XMI0EAAAAAAAAAAF4RpEdg6TFBAAAAAAAAAAA=",
          "dtype": "f8"
         },
         "yaxis": "y2"
        },
        {
         "hovertemplate": "emission_type=total_refrig_emissions<br>year=2025<br>scenario_id=%{x}<br>emissions=%{y}<extra></extra>",
         "legendgroup": "total_refrig_emissions",
         "marker": {
          "color": "#4d908e",
          "pattern": {
           "shape": ""
          }
         },
         "name": "total_refrig_emissions",
         "orientation": "v",
         "showlegend": true,
         "textposition": "auto",
         "type": "bar",
         "x": [
          "baseline_01",
          "decarb_01",
          "typ_01",
          "typ_02"
         ],
         "xaxis": "x",
         "y": {
          "bdata": "AAAAAAAAAAAAAAAAAAAAAAAAAAAAAAAAAAAAAAAAAAA=",
          "dtype": "f8"
         },
         "yaxis": "y"
        },
        {
         "hovertemplate": "emission_type=total_refrig_emissions<br>year=2030<br>scenario_id=%{x}<br>emissions=%{y}<extra></extra>",
         "legendgroup": "total_refrig_emissions",
         "marker": {
          "color": "#4d908e",
          "pattern": {
           "shape": ""
          }
         },
         "name": "total_refrig_emissions",
         "orientation": "v",
         "showlegend": false,
         "textposition": "auto",
         "type": "bar",
         "x": [
          "baseline_01",
          "decarb_01",
          "typ_01",
          "typ_02"
         ],
         "xaxis": "x2",
         "y": {
          "bdata": "AAAAAAAAAAAAAAAAAAAAAAAAAAAAAAAAAAAAAAAAAAA=",
          "dtype": "f8"
         },
         "yaxis": "y2"
        }
       ],
       "layout": {
        "annotations": [
         {
          "font": {
           "color": "gray",
           "size": 16
          },
          "showarrow": false,
          "text": "Total Emissions by Equipment and Scenarios.",
          "x": 0,
          "xanchor": "left",
          "xref": "paper",
          "y": -0.4,
          "yanchor": "bottom",
          "yref": "paper"
         },
         {
          "font": {
           "color": "gray",
           "size": 16
          },
          "showarrow": false,
          "text": "Total Emissions by Equipment and Scenarios.",
          "x": 0,
          "xanchor": "left",
          "xref": "paper",
          "y": -0.4,
          "yanchor": "bottom",
          "yref": "paper"
         }
        ],
        "barmode": "stack",
        "legend": {
         "title": {
          "text": "emission_type"
         },
         "tracegroupgap": 0
        },
        "margin": {
         "b": 120,
         "pad": 10,
         "t": 60
        },
        "template": {
         "data": {
          "bar": [
           {
            "error_x": {
             "color": "rgb(51,51,51)"
            },
            "error_y": {
             "color": "rgb(51,51,51)"
            },
            "marker": {
             "line": {
              "color": "rgb(237,237,237)",
              "width": 0.5
             },
             "pattern": {
              "fillmode": "overlay",
              "size": 10,
              "solidity": 0.2
             }
            },
            "type": "bar"
           }
          ],
          "barpolar": [
           {
            "marker": {
             "line": {
              "color": "rgb(237,237,237)",
              "width": 0.5
             },
             "pattern": {
              "fillmode": "overlay",
              "size": 10,
              "solidity": 0.2
             }
            },
            "type": "barpolar"
           }
          ],
          "carpet": [
           {
            "aaxis": {
             "endlinecolor": "rgb(51,51,51)",
             "gridcolor": "white",
             "linecolor": "white",
             "minorgridcolor": "white",
             "startlinecolor": "rgb(51,51,51)"
            },
            "baxis": {
             "endlinecolor": "rgb(51,51,51)",
             "gridcolor": "white",
             "linecolor": "white",
             "minorgridcolor": "white",
             "startlinecolor": "rgb(51,51,51)"
            },
            "type": "carpet"
           }
          ],
          "choropleth": [
           {
            "colorbar": {
             "outlinewidth": 0,
             "tickcolor": "rgb(237,237,237)",
             "ticklen": 6,
             "ticks": "inside"
            },
            "type": "choropleth"
           }
          ],
          "contour": [
           {
            "colorbar": {
             "outlinewidth": 0,
             "tickcolor": "rgb(237,237,237)",
             "ticklen": 6,
             "ticks": "inside"
            },
            "colorscale": [
             [
              0,
              "rgb(20,44,66)"
             ],
             [
              1,
              "rgb(90,179,244)"
             ]
            ],
            "type": "contour"
           }
          ],
          "contourcarpet": [
           {
            "colorbar": {
             "outlinewidth": 0,
             "tickcolor": "rgb(237,237,237)",
             "ticklen": 6,
             "ticks": "inside"
            },
            "type": "contourcarpet"
           }
          ],
          "heatmap": [
           {
            "colorbar": {
             "outlinewidth": 0,
             "tickcolor": "rgb(237,237,237)",
             "ticklen": 6,
             "ticks": "inside"
            },
            "colorscale": [
             [
              0,
              "rgb(20,44,66)"
             ],
             [
              1,
              "rgb(90,179,244)"
             ]
            ],
            "type": "heatmap"
           }
          ],
          "histogram": [
           {
            "marker": {
             "pattern": {
              "fillmode": "overlay",
              "size": 10,
              "solidity": 0.2
             }
            },
            "type": "histogram"
           }
          ],
          "histogram2d": [
           {
            "colorbar": {
             "outlinewidth": 0,
             "tickcolor": "rgb(237,237,237)",
             "ticklen": 6,
             "ticks": "inside"
            },
            "colorscale": [
             [
              0,
              "rgb(20,44,66)"
             ],
             [
              1,
              "rgb(90,179,244)"
             ]
            ],
            "type": "histogram2d"
           }
          ],
          "histogram2dcontour": [
           {
            "colorbar": {
             "outlinewidth": 0,
             "tickcolor": "rgb(237,237,237)",
             "ticklen": 6,
             "ticks": "inside"
            },
            "colorscale": [
             [
              0,
              "rgb(20,44,66)"
             ],
             [
              1,
              "rgb(90,179,244)"
             ]
            ],
            "type": "histogram2dcontour"
           }
          ],
          "mesh3d": [
           {
            "colorbar": {
             "outlinewidth": 0,
             "tickcolor": "rgb(237,237,237)",
             "ticklen": 6,
             "ticks": "inside"
            },
            "type": "mesh3d"
           }
          ],
          "parcoords": [
           {
            "line": {
             "colorbar": {
              "outlinewidth": 0,
              "tickcolor": "rgb(237,237,237)",
              "ticklen": 6,
              "ticks": "inside"
             }
            },
            "type": "parcoords"
           }
          ],
          "pie": [
           {
            "automargin": true,
            "type": "pie"
           }
          ],
          "scatter": [
           {
            "fillpattern": {
             "fillmode": "overlay",
             "size": 10,
             "solidity": 0.2
            },
            "type": "scatter"
           }
          ],
          "scatter3d": [
           {
            "line": {
             "colorbar": {
              "outlinewidth": 0,
              "tickcolor": "rgb(237,237,237)",
              "ticklen": 6,
              "ticks": "inside"
             }
            },
            "marker": {
             "colorbar": {
              "outlinewidth": 0,
              "tickcolor": "rgb(237,237,237)",
              "ticklen": 6,
              "ticks": "inside"
             }
            },
            "type": "scatter3d"
           }
          ],
          "scattercarpet": [
           {
            "marker": {
             "colorbar": {
              "outlinewidth": 0,
              "tickcolor": "rgb(237,237,237)",
              "ticklen": 6,
              "ticks": "inside"
             }
            },
            "type": "scattercarpet"
           }
          ],
          "scattergeo": [
           {
            "marker": {
             "colorbar": {
              "outlinewidth": 0,
              "tickcolor": "rgb(237,237,237)",
              "ticklen": 6,
              "ticks": "inside"
             }
            },
            "type": "scattergeo"
           }
          ],
          "scattergl": [
           {
            "marker": {
             "colorbar": {
              "outlinewidth": 0,
              "tickcolor": "rgb(237,237,237)",
              "ticklen": 6,
              "ticks": "inside"
             }
            },
            "type": "scattergl"
           }
          ],
          "scattermap": [
           {
            "marker": {
             "colorbar": {
              "outlinewidth": 0,
              "tickcolor": "rgb(237,237,237)",
              "ticklen": 6,
              "ticks": "inside"
             }
            },
            "type": "scattermap"
           }
          ],
          "scattermapbox": [
           {
            "marker": {
             "colorbar": {
              "outlinewidth": 0,
              "tickcolor": "rgb(237,237,237)",
              "ticklen": 6,
              "ticks": "inside"
             }
            },
            "type": "scattermapbox"
           }
          ],
          "scatterpolar": [
           {
            "marker": {
             "colorbar": {
              "outlinewidth": 0,
              "tickcolor": "rgb(237,237,237)",
              "ticklen": 6,
              "ticks": "inside"
             }
            },
            "type": "scatterpolar"
           }
          ],
          "scatterpolargl": [
           {
            "marker": {
             "colorbar": {
              "outlinewidth": 0,
              "tickcolor": "rgb(237,237,237)",
              "ticklen": 6,
              "ticks": "inside"
             }
            },
            "type": "scatterpolargl"
           }
          ],
          "scatterternary": [
           {
            "marker": {
             "colorbar": {
              "outlinewidth": 0,
              "tickcolor": "rgb(237,237,237)",
              "ticklen": 6,
              "ticks": "inside"
             }
            },
            "type": "scatterternary"
           }
          ],
          "surface": [
           {
            "colorbar": {
             "outlinewidth": 0,
             "tickcolor": "rgb(237,237,237)",
             "ticklen": 6,
             "ticks": "inside"
            },
            "colorscale": [
             [
              0,
              "rgb(20,44,66)"
             ],
             [
              1,
              "rgb(90,179,244)"
             ]
            ],
            "type": "surface"
           }
          ],
          "table": [
           {
            "cells": {
             "fill": {
              "color": "rgb(237,237,237)"
             },
             "line": {
              "color": "white"
             }
            },
            "header": {
             "fill": {
              "color": "rgb(217,217,217)"
             },
             "line": {
              "color": "white"
             }
            },
            "type": "table"
           }
          ]
         },
         "layout": {
          "annotationdefaults": {
           "arrowhead": 0,
           "arrowwidth": 1
          },
          "autotypenumbers": "strict",
          "coloraxis": {
           "colorbar": {
            "outlinewidth": 0,
            "tickcolor": "rgb(237,237,237)",
            "ticklen": 6,
            "ticks": "inside"
           }
          },
          "colorscale": {
           "sequential": [
            [
             0,
             "rgb(20,44,66)"
            ],
            [
             1,
             "rgb(90,179,244)"
            ]
           ],
           "sequentialminus": [
            [
             0,
             "rgb(20,44,66)"
            ],
            [
             1,
             "rgb(90,179,244)"
            ]
           ]
          },
          "colorway": [
           "#277da1",
           "#577590",
           "#4d908e",
           "#43aa8b",
           "#90be6d",
           "#f9c74f",
           "#f9844a",
           "#f8961e",
           "#f3722c",
           "#f94144",
           "#a8dce2",
           "#b3bfc9",
           "#a8cfc9",
           "#a8dfd2",
           "#d2e8c0",
           "#fde7a6",
           "#f9cfbd",
           "#fbd3a7",
           "#f9b39c",
           "#f9a3a5"
          ],
          "font": {
           "color": "black",
           "family": "Helvetica, sans-serif",
           "size": 14
          },
          "geo": {
           "bgcolor": "white",
           "lakecolor": "white",
           "landcolor": "rgb(237,237,237)",
           "showlakes": true,
           "showland": true,
           "subunitcolor": "white"
          },
          "hoverlabel": {
           "align": "left"
          },
          "hovermode": "closest",
          "paper_bgcolor": "rgba(0,0,0,0)",
          "plot_bgcolor": "rgba(0,0,0,0)",
          "polar": {
           "angularaxis": {
            "gridcolor": "white",
            "linecolor": "white",
            "showgrid": true,
            "tickcolor": "rgb(51,51,51)",
            "ticks": "outside"
           },
           "bgcolor": "rgb(237,237,237)",
           "radialaxis": {
            "gridcolor": "white",
            "linecolor": "white",
            "showgrid": true,
            "tickcolor": "rgb(51,51,51)",
            "ticks": "outside"
           }
          },
          "scene": {
           "xaxis": {
            "backgroundcolor": "rgb(237,237,237)",
            "gridcolor": "white",
            "gridwidth": 2,
            "linecolor": "white",
            "showbackground": true,
            "showgrid": true,
            "tickcolor": "rgb(51,51,51)",
            "ticks": "outside",
            "zerolinecolor": "white"
           },
           "yaxis": {
            "backgroundcolor": "rgb(237,237,237)",
            "gridcolor": "white",
            "gridwidth": 2,
            "linecolor": "white",
            "showbackground": true,
            "showgrid": true,
            "tickcolor": "rgb(51,51,51)",
            "ticks": "outside",
            "zerolinecolor": "white"
           },
           "zaxis": {
            "backgroundcolor": "rgb(237,237,237)",
            "gridcolor": "white",
            "gridwidth": 2,
            "linecolor": "white",
            "showbackground": true,
            "showgrid": true,
            "tickcolor": "rgb(51,51,51)",
            "ticks": "outside",
            "zerolinecolor": "white"
           }
          },
          "shapedefaults": {
           "fillcolor": "black",
           "line": {
            "width": 0
           },
           "opacity": 0.3
          },
          "ternary": {
           "aaxis": {
            "gridcolor": "white",
            "linecolor": "white",
            "showgrid": true,
            "tickcolor": "rgb(51,51,51)",
            "ticks": "outside"
           },
           "baxis": {
            "gridcolor": "white",
            "linecolor": "white",
            "showgrid": true,
            "tickcolor": "rgb(51,51,51)",
            "ticks": "outside"
           },
           "bgcolor": "rgb(237,237,237)",
           "caxis": {
            "gridcolor": "white",
            "linecolor": "white",
            "showgrid": true,
            "tickcolor": "rgb(51,51,51)",
            "ticks": "outside"
           }
          },
          "xaxis": {
           "automargin": true,
           "gridcolor": "white",
           "linecolor": "white",
           "showgrid": true,
           "tickcolor": "rgb(51,51,51)",
           "ticks": "outside",
           "title": {
            "standoff": 15
           },
           "zerolinecolor": "white"
          },
          "yaxis": {
           "automargin": true,
           "gridcolor": "white",
           "linecolor": "white",
           "showgrid": true,
           "tickcolor": "rgb(51,51,51)",
           "ticks": "outside",
           "title": {
            "standoff": 15
           },
           "zerolinecolor": "white"
          }
         }
        },
        "xaxis": {
         "anchor": "y",
         "domain": [
          0,
          0.49
         ],
         "title": {
          "text": "scenario_id"
         }
        },
        "xaxis2": {
         "anchor": "y2",
         "domain": [
          0.51,
          1
         ],
         "matches": "x",
         "title": {
          "text": "scenario_id"
         }
        },
        "yaxis": {
         "anchor": "x",
         "domain": [
          0,
          1
         ],
         "title": {
          "text": "Emissions [lbCO2]"
         }
        },
        "yaxis2": {
         "anchor": "x2",
         "domain": [
          0,
          1
         ],
         "matches": "y",
         "showticklabels": false
        }
       }
      }
     },
     "metadata": {},
     "output_type": "display_data"
    }
   ],
   "source": [
    "from src.visuals import plot_total_emissions_bar\n",
    "\n",
    "df = source_energy.copy()\n",
    "\n",
    "plot_total_emissions_bar(df, unit_mode=\"IP\")"
   ]
  }
 ],
 "metadata": {
  "kernelspec": {
   "display_name": "venv",
   "language": "python",
   "name": "python3"
  },
  "language_info": {
   "codemirror_mode": {
    "name": "ipython",
    "version": 3
   },
   "file_extension": ".py",
   "mimetype": "text/x-python",
   "name": "python",
   "nbconvert_exporter": "python",
   "pygments_lexer": "ipython3",
   "version": "3.13.5"
  }
 },
 "nbformat": 4,
 "nbformat_minor": 5
}
