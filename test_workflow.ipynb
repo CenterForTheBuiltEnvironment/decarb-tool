{
 "cells": [
  {
   "cell_type": "code",
   "execution_count": null,
   "id": "5e7104c2",
   "metadata": {},
   "outputs": [],
   "source": [
    "import pandas as pd\n",
    "from utils.plotly_theme import *"
   ]
  },
  {
   "cell_type": "code",
   "execution_count": null,
   "id": "80df8957",
   "metadata": {},
   "outputs": [],
   "source": [
    "import json\n",
    "\n",
    "with open(\"data/input/equipment_data.json\", \"r\") as f:\n",
    "    data = json.load(f)\n",
    "    eq_types = [item[\"eq_type\"] for item in data[\"equipment\"]]\n",
    "\n",
    "equipment_types = list(set(eq_types))\n",
    "print(equipment_types)"
   ]
  },
  {
   "cell_type": "code",
   "execution_count": null,
   "id": "7f925c73",
   "metadata": {},
   "outputs": [],
   "source": [
    "# test interpolation\n",
    "\n",
    "from utils.interp import interp_vector\n",
    "\n",
    "fp = [3.815, 3.955, 4.133, 3.74] # cop\n",
    "xp = [1_465_000, 1_098_750, 732_500, 366_250] # cap\n",
    "\n",
    "fp_1 = [3.74, 4.133, 3.955, 3.815] # cop\n",
    "xp_1 = [366_250, 732_500, 1_098_750, 1_465_000] # cap\n",
    "\n",
    "x = [1_200_000] # 1_465_200\n",
    "\n",
    "print(interp_vector(xp, fp, x))\n",
    "print(interp_vector(xp_1, fp_1, x))"
   ]
  },
  {
   "cell_type": "code",
   "execution_count": null,
   "id": "e50ee6a9",
   "metadata": {},
   "outputs": [],
   "source": [
    "# Example usage of the decarb-tool\n",
    "\n",
    "from src.metadata import Metadata\n",
    "from utils.inputs import get_city_and_zone\n",
    "\n",
    "# Load location data\n",
    "location_data = pd.read_csv(\"data/input/locations.csv\")\n",
    "zip_code = \"11229\" # Brooklyn, NY -> will be replaced by user input from UI (search by zip-code or city name)\n",
    "locations = get_city_and_zone(zip_code, location_data)\n",
    "\n",
    "# Based on zip-code, SET location, climate_zone, time_zone\n",
    "location = locations.city\n",
    "ashrae_climate_zone = locations.ashrae_climate_zone\n",
    "time_zone = locations.time_zone\n",
    "\n",
    "# Set building type, building vintage, load type and equipment via equipment scenario -> eventually replaced by user input from UI\n",
    "building_type = \"Hospital\"\n",
    "vintage = 2004\n",
    "load_type = \"load_simulated\"\n",
    "equipment_scenarios = [\"hr_01\"]\n",
    "emission_scenario = \"MidCase\"\n",
    "\n",
    "# create Metadata object to store settings (rest of settings are set by default if not specified)\n",
    "settings = Metadata.create(\n",
    "    location=location,\n",
    "    ashrae_climate_zone=ashrae_climate_zone,\n",
    "    building_type=building_type,\n",
    "    vintage=vintage,\n",
    "    load_type=load_type,\n",
    "    equipment_scenarios=equipment_scenarios\n",
    ")\n",
    "settings.emissions.years = [2025, 2040]\n",
    "settings.emissions.emission_scenario = emission_scenario\n",
    "settings.emissions.gea_grid_region = \"NYISO\"\n",
    "settings.emissions.time_zone = time_zone\n",
    "\n",
    "print(settings)"
   ]
  },
  {
   "cell_type": "code",
   "execution_count": null,
   "id": "a3d1c054",
   "metadata": {},
   "outputs": [],
   "source": [
    "# Get datasets based on input (location, load_type) saved in settings object\n",
    "from src.loads import get_load_data\n",
    "from src.emissions import get_emissions_data\n",
    "\n",
    "# get load data\n",
    "load_data = get_load_data(settings)\n",
    "\n",
    "# get emission data\n",
    "emissions_data = get_emissions_data(settings)\n",
    "\n",
    "# inspect load data\n",
    "load_data.df.head(30)"
   ]
  },
  {
   "cell_type": "code",
   "execution_count": null,
   "id": "12ea6b20",
   "metadata": {},
   "outputs": [],
   "source": [
    "# inspect emissions data\n",
    "emissions_data.df.head(30)"
   ]
  },
  {
   "cell_type": "code",
   "execution_count": null,
   "id": "550dd7a8",
   "metadata": {},
   "outputs": [],
   "source": [
    "# Test-load equipment library (not changing the actual sim settings)\n",
    "\n",
    "from src.equipment import load_library\n",
    "\n",
    "library = load_library(\"data/input/equipment_data.json\")\n",
    "\n",
    "hp_a = library.get_equipment(\"hp01\")\n",
    "print(hp_a)\n",
    "\n",
    "scenario_a = library.get_scenario(\"decarb_01\")\n",
    "print(scenario_a)"
   ]
  },
  {
   "cell_type": "code",
   "execution_count": null,
   "id": "633558b1",
   "metadata": {},
   "outputs": [],
   "source": [
    "from src.energy import loads_to_site_energy\n",
    "\n",
    "site_energy = loads_to_site_energy(load_data, library, settings.equipment_scenarios, detail=True)\n",
    "\n",
    "site_energy.head(30)\n"
   ]
  },
  {
   "cell_type": "code",
   "execution_count": null,
   "id": "d781e1f9",
   "metadata": {},
   "outputs": [],
   "source": [
    "from src.energy import site_to_source\n",
    "\n",
    "source_energy = site_to_source(site_energy, settings=settings.emissions, emissions=emissions_data)\n",
    "\n",
    "source_energy.head(30)\n"
   ]
  },
  {
   "cell_type": "code",
   "execution_count": null,
   "id": "6aa161ec",
   "metadata": {},
   "outputs": [],
   "source": [
    "#! Update for mutliple scenarios and years\n",
    "\n",
    "from src.visuals import plot_energy_breakdown\n",
    "\n",
    "df = source_energy.copy()\n",
    "\n",
    "plot_energy_breakdown(df)\n"
   ]
  },
  {
   "cell_type": "code",
   "execution_count": null,
   "id": "312be981",
   "metadata": {},
   "outputs": [],
   "source": [
    "\n",
    "from src.visuals import plot_energy_and_emissions\n",
    "\n",
    "df = source_energy.copy()\n",
    "\n",
    "year = 2025\n",
    "\n",
    "plot_energy_and_emissions(df, year)\n"
   ]
  },
  {
   "cell_type": "code",
   "execution_count": null,
   "id": "21b5d9bd",
   "metadata": {},
   "outputs": [],
   "source": [
    "#! Update for mutliple scenarios\n",
    "\n",
    "from src.visuals import plot_emissions_heatmap\n",
    "\n",
    "df = source_energy.copy()\n",
    "\n",
    "year = 2040\n",
    "\n",
    "plot_emissions_heatmap(df, year)\n"
   ]
  },
  {
   "cell_type": "code",
   "execution_count": null,
   "id": "d3ce94da",
   "metadata": {},
   "outputs": [],
   "source": [
    "from src.visuals import plot_meter_timeseries\n",
    "\n",
    "df = source_energy.copy()\n",
    "\n",
    "metadata_cols = ['scenario_id']\n",
    "elec_cols = ['elec_hr_Wh',\"elec_awhp_h_Wh\",\"elec_chiller_Wh\", 'elec_awhp_c_Wh', 'elec_res_Wh']\n",
    "gas_cols = ['gas_boiler_Wh']\n",
    "\n",
    "df = df[metadata_cols + elec_cols + gas_cols]\n",
    "\n",
    "year = 2025\n",
    "scenario_id = equipment_scenarios[0]\n",
    "\n",
    "plot_meter_timeseries(df, year=year, scenario_id=scenario_id, stacked=True, include_gas=True)"
   ]
  }
 ],
 "metadata": {
  "kernelspec": {
   "display_name": ".venv",
   "language": "python",
   "name": "python3"
  },
  "language_info": {
   "codemirror_mode": {
    "name": "ipython",
    "version": 3
   },
   "file_extension": ".py",
   "mimetype": "text/x-python",
   "name": "python",
   "nbconvert_exporter": "python",
   "pygments_lexer": "ipython3",
   "version": "3.13.7"
  }
 },
 "nbformat": 4,
 "nbformat_minor": 5
}
