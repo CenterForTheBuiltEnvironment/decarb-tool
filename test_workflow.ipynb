{
 "cells": [
  {
   "cell_type": "code",
   "execution_count": 2,
   "id": "5e7104c2",
   "metadata": {},
   "outputs": [],
   "source": [
    "import pandas as pd"
   ]
  },
  {
   "cell_type": "code",
   "execution_count": 3,
   "id": "80df8957",
   "metadata": {},
   "outputs": [
    {
     "name": "stdout",
     "output_type": "stream",
     "text": [
      "['resistance_heater', 'chiller', 'heat_pump', 'hr_heat_pump', 'boiler']\n"
     ]
    }
   ],
   "source": [
    "import json\n",
    "\n",
    "with open(\"data/input/equipment_data.json\", \"r\") as f:\n",
    "    data = json.load(f)\n",
    "    eq_types = [item[\"eq_type\"] for item in data[\"equipment\"]]\n",
    "\n",
    "equipment_types = list(set(eq_types))\n",
    "print(equipment_types)"
   ]
  },
  {
   "cell_type": "code",
   "execution_count": 4,
   "id": "7f925c73",
   "metadata": {},
   "outputs": [
    {
     "name": "stdout",
     "output_type": "stream",
     "text": [
      "[3.74]\n"
     ]
    }
   ],
   "source": [
    "# test interpolation\n",
    "\n",
    "from utils.interp import interp_vector\n",
    "\n",
    "fp = [3.815, 3.955, 4.133, 3.74] # cop\n",
    "xp = [1465000, 1098750, 732500, 366250] # cap\n",
    "x = [1465200]\n",
    "print(interp_vector(xp, fp, x))"
   ]
  },
  {
   "cell_type": "code",
   "execution_count": 5,
   "id": "e50ee6a9",
   "metadata": {},
   "outputs": [
    {
     "name": "stdout",
     "output_type": "stream",
     "text": [
      "location='New York' building_type='Hospital' vintage=2004 load_type='load_simulated' ashrae_climate_zone='4A' equipment_scenario='decarb_01' emissions=EmissionsSettings(emission_scenario='MidCase', gea_grid_region='NYISO', time_zone='America/New_York', emission_type='Combustion only', shortrun_weighting=1.0, years=[2025]) units='SI' last_updated='2025-09-15T16:54:59.345035'\n"
     ]
    }
   ],
   "source": [
    "# Example usage of the decarb-tool\n",
    "\n",
    "from src.metadata import Metadata\n",
    "from utils.inputs import get_city_and_zone\n",
    "\n",
    "# Load location data\n",
    "location_data = pd.read_csv(\"data/input/locations.csv\")\n",
    "zip_code = \"11229\" # Brooklyn, NY -> will be replaced by user input from UI (search by zip-code or city name)\n",
    "locations = get_city_and_zone(zip_code, location_data)\n",
    "\n",
    "# Based on zip-code, SET location, climate_zone, time_zone\n",
    "location = locations.city\n",
    "ashrae_climate_zone = locations.ashrae_climate_zone\n",
    "time_zone = locations.time_zone\n",
    "\n",
    "# Set building type, building vintage, load type and equipment via equipment scenario -> eventually replaced by user input from UI\n",
    "building_type = \"Hospital\"\n",
    "vintage = 2004\n",
    "load_type = \"load_simulated\"\n",
    "equipment_scenario = \"decarb_01\"\n",
    "emission_scenario = \"MidCase\"\n",
    "\n",
    "# create Metadata object to store settings (rest of settings are set by default if not specified)\n",
    "settings = Metadata.create(\n",
    "    location=location,\n",
    "    ashrae_climate_zone=ashrae_climate_zone,\n",
    "    building_type=building_type,\n",
    "    vintage=vintage,\n",
    "    load_type=load_type,\n",
    "    equipment_scenario=equipment_scenario\n",
    ")\n",
    "settings.emissions.years = [2025]\n",
    "settings.emissions.emission_scenario = emission_scenario\n",
    "settings.emissions.gea_grid_region = \"NYISO\"\n",
    "settings.emissions.time_zone = time_zone\n",
    "\n",
    "print(settings)"
   ]
  },
  {
   "cell_type": "code",
   "execution_count": 4,
   "id": "a3d1c054",
   "metadata": {},
   "outputs": [
    {
     "name": "stderr",
     "output_type": "stream",
     "text": [
      "/Users/toby/Desktop/Repositories/decarb-tool/src/loads.py:16: UserWarning: Could not infer format, so each element will be parsed individually, falling back to `dateutil`. To ensure parsing is consistent and as-expected, please specify a format.\n",
      "  df[\"timestamp\"] = pd.to_datetime(df[\"timestamp\"], errors=\"coerce\", utc=False)\n"
     ]
    },
    {
     "data": {
      "application/vnd.microsoft.datawrangler.viewer.v0+json": {
       "columns": [
        {
         "name": "timestamp",
         "rawType": "datetime64[ns]",
         "type": "datetime"
        },
        {
         "name": "t_out_C",
         "rawType": "float64",
         "type": "float"
        },
        {
         "name": "heating_W",
         "rawType": "float64",
         "type": "float"
        },
        {
         "name": "cooling_W",
         "rawType": "float64",
         "type": "float"
        }
       ],
       "ref": "e46e8740-b6b6-4669-8e21-7a2231f11b99",
       "rows": [
        [
         "2001-01-01 01:00:00",
         "-4.4",
         "609230.1302",
         "127902.4118"
        ],
        [
         "2001-01-01 02:00:00",
         "-4.4",
         "606900.3412",
         "174577.6491"
        ],
        [
         "2001-01-01 03:00:00",
         "-4.108333333",
         "604168.5347",
         "186763.6827"
        ],
        [
         "2001-01-01 04:00:00",
         "-3.55",
         "600461.652",
         "199730.6525"
        ],
        [
         "2001-01-01 05:00:00",
         "-3.3",
         "604702.997",
         "205553.3008"
        ],
        [
         "2001-01-01 06:00:00",
         "-3.65",
         "607617.8109",
         "200142.2974"
        ],
        [
         "2001-01-01 07:00:00",
         "-4.191666667",
         "611215.7286",
         "191604.1236"
        ],
        [
         "2001-01-01 08:00:00",
         "-3.758333333",
         "607994.1257",
         "113827.7398"
        ],
        [
         "2001-01-01 09:00:00",
         "-3.008333333",
         "546663.1432",
         "109587.7756"
        ],
        [
         "2001-01-01 10:00:00",
         "-2.45",
         "518821.3869",
         "125826.5844"
        ],
        [
         "2001-01-01 11:00:00",
         "-1.558333333",
         "494195.6171",
         "153496.4968"
        ],
        [
         "2001-01-01 12:00:00",
         "-1.45",
         "487443.5688",
         "162364.6929"
        ],
        [
         "2001-01-01 13:00:00",
         "-1.991666667",
         "483818.4519",
         "153128.0102"
        ],
        [
         "2001-01-01 14:00:00",
         "-2.841666667",
         "500469.3539",
         "135335.2511"
        ],
        [
         "2001-01-01 15:00:00",
         "-3.008333333",
         "496728.7834",
         "130178.5383"
        ],
        [
         "2001-01-01 16:00:00",
         "-2.8",
         "498164.5643",
         "135665.9065"
        ],
        [
         "2001-01-01 17:00:00",
         "-4.083333333",
         "561067.9284",
         "96564.16292"
        ],
        [
         "2001-01-01 18:00:00",
         "-5.35",
         "597933.373",
         "72222.69738"
        ],
        [
         "2001-01-01 19:00:00",
         "-5.891666667",
         "611523.2953",
         "62852.73545"
        ],
        [
         "2001-01-01 20:00:00",
         "-6.45",
         "628074.2963",
         "53927.93712"
        ],
        [
         "2001-01-01 21:00:00",
         "-7.633333333",
         "651466.8633",
         "35797.9562"
        ],
        [
         "2001-01-01 22:00:00",
         "-8.941666667",
         "662557.6705",
         "15267.3348"
        ],
        [
         "2001-01-01 23:00:00",
         "-9.75",
         "680094.5207",
         "4254.932306"
        ],
        [
         "2001-01-02 00:00:00",
         "-10.35",
         "701267.3628",
         "980.4508016"
        ],
        [
         "2001-01-02 01:00:00",
         "-10.89166667",
         "703857.5003",
         "29439.75119"
        ],
        [
         "2001-01-02 02:00:00",
         "-11.45",
         "710937.9414",
         "61415.10522"
        ],
        [
         "2001-01-02 03:00:00",
         "-11.7",
         "706407.5403",
         "77967.38255"
        ],
        [
         "2001-01-02 04:00:00",
         "-11.7",
         "704279.1959",
         "85794.53533"
        ],
        [
         "2001-01-02 05:00:00",
         "-11.99166667",
         "715288.835",
         "89293.77258"
        ],
        [
         "2001-01-02 06:00:00",
         "-11.90833333",
         "718766.277",
         "90837.26841"
        ]
       ],
       "shape": {
        "columns": 3,
        "rows": 30
       }
      },
      "text/html": [
       "<div>\n",
       "<style scoped>\n",
       "    .dataframe tbody tr th:only-of-type {\n",
       "        vertical-align: middle;\n",
       "    }\n",
       "\n",
       "    .dataframe tbody tr th {\n",
       "        vertical-align: top;\n",
       "    }\n",
       "\n",
       "    .dataframe thead th {\n",
       "        text-align: right;\n",
       "    }\n",
       "</style>\n",
       "<table border=\"1\" class=\"dataframe\">\n",
       "  <thead>\n",
       "    <tr style=\"text-align: right;\">\n",
       "      <th></th>\n",
       "      <th>t_out_C</th>\n",
       "      <th>heating_W</th>\n",
       "      <th>cooling_W</th>\n",
       "    </tr>\n",
       "    <tr>\n",
       "      <th>timestamp</th>\n",
       "      <th></th>\n",
       "      <th></th>\n",
       "      <th></th>\n",
       "    </tr>\n",
       "  </thead>\n",
       "  <tbody>\n",
       "    <tr>\n",
       "      <th>2001-01-01 01:00:00</th>\n",
       "      <td>-4.400000</td>\n",
       "      <td>609230.1302</td>\n",
       "      <td>127902.411800</td>\n",
       "    </tr>\n",
       "    <tr>\n",
       "      <th>2001-01-01 02:00:00</th>\n",
       "      <td>-4.400000</td>\n",
       "      <td>606900.3412</td>\n",
       "      <td>174577.649100</td>\n",
       "    </tr>\n",
       "    <tr>\n",
       "      <th>2001-01-01 03:00:00</th>\n",
       "      <td>-4.108333</td>\n",
       "      <td>604168.5347</td>\n",
       "      <td>186763.682700</td>\n",
       "    </tr>\n",
       "    <tr>\n",
       "      <th>2001-01-01 04:00:00</th>\n",
       "      <td>-3.550000</td>\n",
       "      <td>600461.6520</td>\n",
       "      <td>199730.652500</td>\n",
       "    </tr>\n",
       "    <tr>\n",
       "      <th>2001-01-01 05:00:00</th>\n",
       "      <td>-3.300000</td>\n",
       "      <td>604702.9970</td>\n",
       "      <td>205553.300800</td>\n",
       "    </tr>\n",
       "    <tr>\n",
       "      <th>2001-01-01 06:00:00</th>\n",
       "      <td>-3.650000</td>\n",
       "      <td>607617.8109</td>\n",
       "      <td>200142.297400</td>\n",
       "    </tr>\n",
       "    <tr>\n",
       "      <th>2001-01-01 07:00:00</th>\n",
       "      <td>-4.191667</td>\n",
       "      <td>611215.7286</td>\n",
       "      <td>191604.123600</td>\n",
       "    </tr>\n",
       "    <tr>\n",
       "      <th>2001-01-01 08:00:00</th>\n",
       "      <td>-3.758333</td>\n",
       "      <td>607994.1257</td>\n",
       "      <td>113827.739800</td>\n",
       "    </tr>\n",
       "    <tr>\n",
       "      <th>2001-01-01 09:00:00</th>\n",
       "      <td>-3.008333</td>\n",
       "      <td>546663.1432</td>\n",
       "      <td>109587.775600</td>\n",
       "    </tr>\n",
       "    <tr>\n",
       "      <th>2001-01-01 10:00:00</th>\n",
       "      <td>-2.450000</td>\n",
       "      <td>518821.3869</td>\n",
       "      <td>125826.584400</td>\n",
       "    </tr>\n",
       "    <tr>\n",
       "      <th>2001-01-01 11:00:00</th>\n",
       "      <td>-1.558333</td>\n",
       "      <td>494195.6171</td>\n",
       "      <td>153496.496800</td>\n",
       "    </tr>\n",
       "    <tr>\n",
       "      <th>2001-01-01 12:00:00</th>\n",
       "      <td>-1.450000</td>\n",
       "      <td>487443.5688</td>\n",
       "      <td>162364.692900</td>\n",
       "    </tr>\n",
       "    <tr>\n",
       "      <th>2001-01-01 13:00:00</th>\n",
       "      <td>-1.991667</td>\n",
       "      <td>483818.4519</td>\n",
       "      <td>153128.010200</td>\n",
       "    </tr>\n",
       "    <tr>\n",
       "      <th>2001-01-01 14:00:00</th>\n",
       "      <td>-2.841667</td>\n",
       "      <td>500469.3539</td>\n",
       "      <td>135335.251100</td>\n",
       "    </tr>\n",
       "    <tr>\n",
       "      <th>2001-01-01 15:00:00</th>\n",
       "      <td>-3.008333</td>\n",
       "      <td>496728.7834</td>\n",
       "      <td>130178.538300</td>\n",
       "    </tr>\n",
       "    <tr>\n",
       "      <th>2001-01-01 16:00:00</th>\n",
       "      <td>-2.800000</td>\n",
       "      <td>498164.5643</td>\n",
       "      <td>135665.906500</td>\n",
       "    </tr>\n",
       "    <tr>\n",
       "      <th>2001-01-01 17:00:00</th>\n",
       "      <td>-4.083333</td>\n",
       "      <td>561067.9284</td>\n",
       "      <td>96564.162920</td>\n",
       "    </tr>\n",
       "    <tr>\n",
       "      <th>2001-01-01 18:00:00</th>\n",
       "      <td>-5.350000</td>\n",
       "      <td>597933.3730</td>\n",
       "      <td>72222.697380</td>\n",
       "    </tr>\n",
       "    <tr>\n",
       "      <th>2001-01-01 19:00:00</th>\n",
       "      <td>-5.891667</td>\n",
       "      <td>611523.2953</td>\n",
       "      <td>62852.735450</td>\n",
       "    </tr>\n",
       "    <tr>\n",
       "      <th>2001-01-01 20:00:00</th>\n",
       "      <td>-6.450000</td>\n",
       "      <td>628074.2963</td>\n",
       "      <td>53927.937120</td>\n",
       "    </tr>\n",
       "    <tr>\n",
       "      <th>2001-01-01 21:00:00</th>\n",
       "      <td>-7.633333</td>\n",
       "      <td>651466.8633</td>\n",
       "      <td>35797.956200</td>\n",
       "    </tr>\n",
       "    <tr>\n",
       "      <th>2001-01-01 22:00:00</th>\n",
       "      <td>-8.941667</td>\n",
       "      <td>662557.6705</td>\n",
       "      <td>15267.334800</td>\n",
       "    </tr>\n",
       "    <tr>\n",
       "      <th>2001-01-01 23:00:00</th>\n",
       "      <td>-9.750000</td>\n",
       "      <td>680094.5207</td>\n",
       "      <td>4254.932306</td>\n",
       "    </tr>\n",
       "    <tr>\n",
       "      <th>2001-01-02 00:00:00</th>\n",
       "      <td>-10.350000</td>\n",
       "      <td>701267.3628</td>\n",
       "      <td>980.450802</td>\n",
       "    </tr>\n",
       "    <tr>\n",
       "      <th>2001-01-02 01:00:00</th>\n",
       "      <td>-10.891667</td>\n",
       "      <td>703857.5003</td>\n",
       "      <td>29439.751190</td>\n",
       "    </tr>\n",
       "    <tr>\n",
       "      <th>2001-01-02 02:00:00</th>\n",
       "      <td>-11.450000</td>\n",
       "      <td>710937.9414</td>\n",
       "      <td>61415.105220</td>\n",
       "    </tr>\n",
       "    <tr>\n",
       "      <th>2001-01-02 03:00:00</th>\n",
       "      <td>-11.700000</td>\n",
       "      <td>706407.5403</td>\n",
       "      <td>77967.382550</td>\n",
       "    </tr>\n",
       "    <tr>\n",
       "      <th>2001-01-02 04:00:00</th>\n",
       "      <td>-11.700000</td>\n",
       "      <td>704279.1959</td>\n",
       "      <td>85794.535330</td>\n",
       "    </tr>\n",
       "    <tr>\n",
       "      <th>2001-01-02 05:00:00</th>\n",
       "      <td>-11.991667</td>\n",
       "      <td>715288.8350</td>\n",
       "      <td>89293.772580</td>\n",
       "    </tr>\n",
       "    <tr>\n",
       "      <th>2001-01-02 06:00:00</th>\n",
       "      <td>-11.908333</td>\n",
       "      <td>718766.2770</td>\n",
       "      <td>90837.268410</td>\n",
       "    </tr>\n",
       "  </tbody>\n",
       "</table>\n",
       "</div>"
      ],
      "text/plain": [
       "                       t_out_C    heating_W      cooling_W\n",
       "timestamp                                                 \n",
       "2001-01-01 01:00:00  -4.400000  609230.1302  127902.411800\n",
       "2001-01-01 02:00:00  -4.400000  606900.3412  174577.649100\n",
       "2001-01-01 03:00:00  -4.108333  604168.5347  186763.682700\n",
       "2001-01-01 04:00:00  -3.550000  600461.6520  199730.652500\n",
       "2001-01-01 05:00:00  -3.300000  604702.9970  205553.300800\n",
       "2001-01-01 06:00:00  -3.650000  607617.8109  200142.297400\n",
       "2001-01-01 07:00:00  -4.191667  611215.7286  191604.123600\n",
       "2001-01-01 08:00:00  -3.758333  607994.1257  113827.739800\n",
       "2001-01-01 09:00:00  -3.008333  546663.1432  109587.775600\n",
       "2001-01-01 10:00:00  -2.450000  518821.3869  125826.584400\n",
       "2001-01-01 11:00:00  -1.558333  494195.6171  153496.496800\n",
       "2001-01-01 12:00:00  -1.450000  487443.5688  162364.692900\n",
       "2001-01-01 13:00:00  -1.991667  483818.4519  153128.010200\n",
       "2001-01-01 14:00:00  -2.841667  500469.3539  135335.251100\n",
       "2001-01-01 15:00:00  -3.008333  496728.7834  130178.538300\n",
       "2001-01-01 16:00:00  -2.800000  498164.5643  135665.906500\n",
       "2001-01-01 17:00:00  -4.083333  561067.9284   96564.162920\n",
       "2001-01-01 18:00:00  -5.350000  597933.3730   72222.697380\n",
       "2001-01-01 19:00:00  -5.891667  611523.2953   62852.735450\n",
       "2001-01-01 20:00:00  -6.450000  628074.2963   53927.937120\n",
       "2001-01-01 21:00:00  -7.633333  651466.8633   35797.956200\n",
       "2001-01-01 22:00:00  -8.941667  662557.6705   15267.334800\n",
       "2001-01-01 23:00:00  -9.750000  680094.5207    4254.932306\n",
       "2001-01-02 00:00:00 -10.350000  701267.3628     980.450802\n",
       "2001-01-02 01:00:00 -10.891667  703857.5003   29439.751190\n",
       "2001-01-02 02:00:00 -11.450000  710937.9414   61415.105220\n",
       "2001-01-02 03:00:00 -11.700000  706407.5403   77967.382550\n",
       "2001-01-02 04:00:00 -11.700000  704279.1959   85794.535330\n",
       "2001-01-02 05:00:00 -11.991667  715288.8350   89293.772580\n",
       "2001-01-02 06:00:00 -11.908333  718766.2770   90837.268410"
      ]
     },
     "execution_count": 4,
     "metadata": {},
     "output_type": "execute_result"
    }
   ],
   "source": [
    "# Get datasets based on input (location, load_type) saved in settings object\n",
    "from src.loads import get_load_data\n",
    "from src.emissions import get_emissions_data\n",
    "\n",
    "# get load data\n",
    "load_data = get_load_data(settings)\n",
    "\n",
    "# get emission data\n",
    "emissions_data = get_emissions_data(settings)\n",
    "\n",
    "# inspect load data\n",
    "load_data.df.head(30)"
   ]
  },
  {
   "cell_type": "code",
   "execution_count": 5,
   "id": "12ea6b20",
   "metadata": {},
   "outputs": [
    {
     "data": {
      "application/vnd.microsoft.datawrangler.viewer.v0+json": {
       "columns": [
        {
         "name": "timestamp",
         "rawType": "datetime64[ns]",
         "type": "datetime"
        },
        {
         "name": "emission_scenario",
         "rawType": "object",
         "type": "string"
        },
        {
         "name": "gea_grid_region",
         "rawType": "object",
         "type": "string"
        },
        {
         "name": "time_zone",
         "rawType": "object",
         "type": "string"
        },
        {
         "name": "emission_type",
         "rawType": "object",
         "type": "string"
        },
        {
         "name": "year",
         "rawType": "int64",
         "type": "integer"
        },
        {
         "name": "lrmer_co2e_c",
         "rawType": "float64",
         "type": "float"
        },
        {
         "name": "lrmer_co2e_p",
         "rawType": "float64",
         "type": "float"
        },
        {
         "name": "srmer_co2e_c",
         "rawType": "float64",
         "type": "float"
        },
        {
         "name": "srmer_co2e_p",
         "rawType": "float64",
         "type": "float"
        }
       ],
       "ref": "e5d9da8d-253b-48c4-acde-b8f87a045545",
       "rows": [
        [
         "2025-01-01 00:00:00",
         "MidCase",
         "NYISO",
         "America/New_York",
         "Combustion only",
         "2025",
         "213.4",
         "60.9",
         "549.9",
         "156.2"
        ],
        [
         "2025-01-01 01:00:00",
         "MidCase",
         "NYISO",
         "America/New_York",
         "Combustion only",
         "2025",
         "209.2",
         "59.1",
         "539.1",
         "159.6"
        ],
        [
         "2025-01-01 02:00:00",
         "MidCase",
         "NYISO",
         "America/New_York",
         "Combustion only",
         "2025",
         "198.9",
         "58.7",
         "546.2",
         "159.4"
        ],
        [
         "2025-01-01 03:00:00",
         "MidCase",
         "NYISO",
         "America/New_York",
         "Combustion only",
         "2025",
         "180.1",
         "55.9",
         "533.4",
         "160.6"
        ],
        [
         "2025-01-01 04:00:00",
         "MidCase",
         "NYISO",
         "America/New_York",
         "Combustion only",
         "2025",
         "176.1",
         "53.6",
         "524.6",
         "163.9"
        ],
        [
         "2025-01-01 05:00:00",
         "MidCase",
         "NYISO",
         "America/New_York",
         "Combustion only",
         "2025",
         "194.6",
         "57.2",
         "556.0",
         "168.0"
        ],
        [
         "2025-01-01 06:00:00",
         "MidCase",
         "NYISO",
         "America/New_York",
         "Combustion only",
         "2025",
         "240.0",
         "65.5",
         "659.2",
         "168.0"
        ],
        [
         "2025-01-01 07:00:00",
         "MidCase",
         "NYISO",
         "America/New_York",
         "Combustion only",
         "2025",
         "233.5",
         "65.9",
         "678.9",
         "163.2"
        ],
        [
         "2025-01-01 08:00:00",
         "MidCase",
         "NYISO",
         "America/New_York",
         "Combustion only",
         "2025",
         "220.4",
         "62.4",
         "662.7",
         "170.7"
        ],
        [
         "2025-01-01 09:00:00",
         "MidCase",
         "NYISO",
         "America/New_York",
         "Combustion only",
         "2025",
         "215.1",
         "65.0",
         "593.0",
         "171.0"
        ],
        [
         "2025-01-01 10:00:00",
         "MidCase",
         "NYISO",
         "America/New_York",
         "Combustion only",
         "2025",
         "219.0",
         "65.1",
         "615.9",
         "162.4"
        ],
        [
         "2025-01-01 11:00:00",
         "MidCase",
         "NYISO",
         "America/New_York",
         "Combustion only",
         "2025",
         "214.1",
         "64.2",
         "644.6",
         "160.0"
        ],
        [
         "2025-01-01 12:00:00",
         "MidCase",
         "NYISO",
         "America/New_York",
         "Combustion only",
         "2025",
         "214.5",
         "65.3",
         "558.9",
         "166.0"
        ],
        [
         "2025-01-01 13:00:00",
         "MidCase",
         "NYISO",
         "America/New_York",
         "Combustion only",
         "2025",
         "199.0",
         "59.0",
         "595.3",
         "159.2"
        ],
        [
         "2025-01-01 14:00:00",
         "MidCase",
         "NYISO",
         "America/New_York",
         "Combustion only",
         "2025",
         "197.1",
         "60.7",
         "575.5",
         "161.3"
        ],
        [
         "2025-01-01 15:00:00",
         "MidCase",
         "NYISO",
         "America/New_York",
         "Combustion only",
         "2025",
         "207.5",
         "62.8",
         "579.3",
         "165.3"
        ],
        [
         "2025-01-01 16:00:00",
         "MidCase",
         "NYISO",
         "America/New_York",
         "Combustion only",
         "2025",
         "220.7",
         "56.6",
         "658.1",
         "179.0"
        ],
        [
         "2025-01-01 17:00:00",
         "MidCase",
         "NYISO",
         "America/New_York",
         "Combustion only",
         "2025",
         "229.7",
         "62.1",
         "760.3",
         "177.6"
        ],
        [
         "2025-01-01 18:00:00",
         "MidCase",
         "NYISO",
         "America/New_York",
         "Combustion only",
         "2025",
         "229.7",
         "63.5",
         "771.4",
         "165.7"
        ],
        [
         "2025-01-01 19:00:00",
         "MidCase",
         "NYISO",
         "America/New_York",
         "Combustion only",
         "2025",
         "224.2",
         "59.1",
         "706.3",
         "178.9"
        ],
        [
         "2025-01-01 20:00:00",
         "MidCase",
         "NYISO",
         "America/New_York",
         "Combustion only",
         "2025",
         "213.3",
         "59.0",
         "633.9",
         "175.3"
        ],
        [
         "2025-01-01 21:00:00",
         "MidCase",
         "NYISO",
         "America/New_York",
         "Combustion only",
         "2025",
         "204.1",
         "58.1",
         "624.1",
         "161.0"
        ],
        [
         "2025-01-01 22:00:00",
         "MidCase",
         "NYISO",
         "America/New_York",
         "Combustion only",
         "2025",
         "210.4",
         "59.9",
         "648.7",
         "152.7"
        ],
        [
         "2025-01-01 23:00:00",
         "MidCase",
         "NYISO",
         "America/New_York",
         "Combustion only",
         "2025",
         "191.1",
         "58.8",
         "677.2",
         "149.6"
        ],
        [
         "2025-02-01 00:00:00",
         "MidCase",
         "NYISO",
         "America/New_York",
         "Combustion only",
         "2025",
         "203.5",
         "64.7",
         "560.6",
         "155.6"
        ],
        [
         "2025-02-01 01:00:00",
         "MidCase",
         "NYISO",
         "America/New_York",
         "Combustion only",
         "2025",
         "175.8",
         "56.7",
         "567.6",
         "156.8"
        ],
        [
         "2025-02-01 02:00:00",
         "MidCase",
         "NYISO",
         "America/New_York",
         "Combustion only",
         "2025",
         "180.3",
         "60.3",
         "554.2",
         "156.7"
        ],
        [
         "2025-02-01 03:00:00",
         "MidCase",
         "NYISO",
         "America/New_York",
         "Combustion only",
         "2025",
         "197.0",
         "66.3",
         "531.8",
         "159.1"
        ],
        [
         "2025-02-01 04:00:00",
         "MidCase",
         "NYISO",
         "America/New_York",
         "Combustion only",
         "2025",
         "170.2",
         "58.6",
         "544.8",
         "162.3"
        ],
        [
         "2025-02-01 05:00:00",
         "MidCase",
         "NYISO",
         "America/New_York",
         "Combustion only",
         "2025",
         "222.4",
         "72.4",
         "560.9",
         "165.3"
        ]
       ],
       "shape": {
        "columns": 9,
        "rows": 30
       }
      },
      "text/html": [
       "<div>\n",
       "<style scoped>\n",
       "    .dataframe tbody tr th:only-of-type {\n",
       "        vertical-align: middle;\n",
       "    }\n",
       "\n",
       "    .dataframe tbody tr th {\n",
       "        vertical-align: top;\n",
       "    }\n",
       "\n",
       "    .dataframe thead th {\n",
       "        text-align: right;\n",
       "    }\n",
       "</style>\n",
       "<table border=\"1\" class=\"dataframe\">\n",
       "  <thead>\n",
       "    <tr style=\"text-align: right;\">\n",
       "      <th></th>\n",
       "      <th>emission_scenario</th>\n",
       "      <th>gea_grid_region</th>\n",
       "      <th>time_zone</th>\n",
       "      <th>emission_type</th>\n",
       "      <th>year</th>\n",
       "      <th>lrmer_co2e_c</th>\n",
       "      <th>lrmer_co2e_p</th>\n",
       "      <th>srmer_co2e_c</th>\n",
       "      <th>srmer_co2e_p</th>\n",
       "    </tr>\n",
       "    <tr>\n",
       "      <th>timestamp</th>\n",
       "      <th></th>\n",
       "      <th></th>\n",
       "      <th></th>\n",
       "      <th></th>\n",
       "      <th></th>\n",
       "      <th></th>\n",
       "      <th></th>\n",
       "      <th></th>\n",
       "      <th></th>\n",
       "    </tr>\n",
       "  </thead>\n",
       "  <tbody>\n",
       "    <tr>\n",
       "      <th>2025-01-01 00:00:00</th>\n",
       "      <td>MidCase</td>\n",
       "      <td>NYISO</td>\n",
       "      <td>America/New_York</td>\n",
       "      <td>Combustion only</td>\n",
       "      <td>2025</td>\n",
       "      <td>213.4</td>\n",
       "      <td>60.9</td>\n",
       "      <td>549.9</td>\n",
       "      <td>156.2</td>\n",
       "    </tr>\n",
       "    <tr>\n",
       "      <th>2025-01-01 01:00:00</th>\n",
       "      <td>MidCase</td>\n",
       "      <td>NYISO</td>\n",
       "      <td>America/New_York</td>\n",
       "      <td>Combustion only</td>\n",
       "      <td>2025</td>\n",
       "      <td>209.2</td>\n",
       "      <td>59.1</td>\n",
       "      <td>539.1</td>\n",
       "      <td>159.6</td>\n",
       "    </tr>\n",
       "    <tr>\n",
       "      <th>2025-01-01 02:00:00</th>\n",
       "      <td>MidCase</td>\n",
       "      <td>NYISO</td>\n",
       "      <td>America/New_York</td>\n",
       "      <td>Combustion only</td>\n",
       "      <td>2025</td>\n",
       "      <td>198.9</td>\n",
       "      <td>58.7</td>\n",
       "      <td>546.2</td>\n",
       "      <td>159.4</td>\n",
       "    </tr>\n",
       "    <tr>\n",
       "      <th>2025-01-01 03:00:00</th>\n",
       "      <td>MidCase</td>\n",
       "      <td>NYISO</td>\n",
       "      <td>America/New_York</td>\n",
       "      <td>Combustion only</td>\n",
       "      <td>2025</td>\n",
       "      <td>180.1</td>\n",
       "      <td>55.9</td>\n",
       "      <td>533.4</td>\n",
       "      <td>160.6</td>\n",
       "    </tr>\n",
       "    <tr>\n",
       "      <th>2025-01-01 04:00:00</th>\n",
       "      <td>MidCase</td>\n",
       "      <td>NYISO</td>\n",
       "      <td>America/New_York</td>\n",
       "      <td>Combustion only</td>\n",
       "      <td>2025</td>\n",
       "      <td>176.1</td>\n",
       "      <td>53.6</td>\n",
       "      <td>524.6</td>\n",
       "      <td>163.9</td>\n",
       "    </tr>\n",
       "    <tr>\n",
       "      <th>2025-01-01 05:00:00</th>\n",
       "      <td>MidCase</td>\n",
       "      <td>NYISO</td>\n",
       "      <td>America/New_York</td>\n",
       "      <td>Combustion only</td>\n",
       "      <td>2025</td>\n",
       "      <td>194.6</td>\n",
       "      <td>57.2</td>\n",
       "      <td>556.0</td>\n",
       "      <td>168.0</td>\n",
       "    </tr>\n",
       "    <tr>\n",
       "      <th>2025-01-01 06:00:00</th>\n",
       "      <td>MidCase</td>\n",
       "      <td>NYISO</td>\n",
       "      <td>America/New_York</td>\n",
       "      <td>Combustion only</td>\n",
       "      <td>2025</td>\n",
       "      <td>240.0</td>\n",
       "      <td>65.5</td>\n",
       "      <td>659.2</td>\n",
       "      <td>168.0</td>\n",
       "    </tr>\n",
       "    <tr>\n",
       "      <th>2025-01-01 07:00:00</th>\n",
       "      <td>MidCase</td>\n",
       "      <td>NYISO</td>\n",
       "      <td>America/New_York</td>\n",
       "      <td>Combustion only</td>\n",
       "      <td>2025</td>\n",
       "      <td>233.5</td>\n",
       "      <td>65.9</td>\n",
       "      <td>678.9</td>\n",
       "      <td>163.2</td>\n",
       "    </tr>\n",
       "    <tr>\n",
       "      <th>2025-01-01 08:00:00</th>\n",
       "      <td>MidCase</td>\n",
       "      <td>NYISO</td>\n",
       "      <td>America/New_York</td>\n",
       "      <td>Combustion only</td>\n",
       "      <td>2025</td>\n",
       "      <td>220.4</td>\n",
       "      <td>62.4</td>\n",
       "      <td>662.7</td>\n",
       "      <td>170.7</td>\n",
       "    </tr>\n",
       "    <tr>\n",
       "      <th>2025-01-01 09:00:00</th>\n",
       "      <td>MidCase</td>\n",
       "      <td>NYISO</td>\n",
       "      <td>America/New_York</td>\n",
       "      <td>Combustion only</td>\n",
       "      <td>2025</td>\n",
       "      <td>215.1</td>\n",
       "      <td>65.0</td>\n",
       "      <td>593.0</td>\n",
       "      <td>171.0</td>\n",
       "    </tr>\n",
       "    <tr>\n",
       "      <th>2025-01-01 10:00:00</th>\n",
       "      <td>MidCase</td>\n",
       "      <td>NYISO</td>\n",
       "      <td>America/New_York</td>\n",
       "      <td>Combustion only</td>\n",
       "      <td>2025</td>\n",
       "      <td>219.0</td>\n",
       "      <td>65.1</td>\n",
       "      <td>615.9</td>\n",
       "      <td>162.4</td>\n",
       "    </tr>\n",
       "    <tr>\n",
       "      <th>2025-01-01 11:00:00</th>\n",
       "      <td>MidCase</td>\n",
       "      <td>NYISO</td>\n",
       "      <td>America/New_York</td>\n",
       "      <td>Combustion only</td>\n",
       "      <td>2025</td>\n",
       "      <td>214.1</td>\n",
       "      <td>64.2</td>\n",
       "      <td>644.6</td>\n",
       "      <td>160.0</td>\n",
       "    </tr>\n",
       "    <tr>\n",
       "      <th>2025-01-01 12:00:00</th>\n",
       "      <td>MidCase</td>\n",
       "      <td>NYISO</td>\n",
       "      <td>America/New_York</td>\n",
       "      <td>Combustion only</td>\n",
       "      <td>2025</td>\n",
       "      <td>214.5</td>\n",
       "      <td>65.3</td>\n",
       "      <td>558.9</td>\n",
       "      <td>166.0</td>\n",
       "    </tr>\n",
       "    <tr>\n",
       "      <th>2025-01-01 13:00:00</th>\n",
       "      <td>MidCase</td>\n",
       "      <td>NYISO</td>\n",
       "      <td>America/New_York</td>\n",
       "      <td>Combustion only</td>\n",
       "      <td>2025</td>\n",
       "      <td>199.0</td>\n",
       "      <td>59.0</td>\n",
       "      <td>595.3</td>\n",
       "      <td>159.2</td>\n",
       "    </tr>\n",
       "    <tr>\n",
       "      <th>2025-01-01 14:00:00</th>\n",
       "      <td>MidCase</td>\n",
       "      <td>NYISO</td>\n",
       "      <td>America/New_York</td>\n",
       "      <td>Combustion only</td>\n",
       "      <td>2025</td>\n",
       "      <td>197.1</td>\n",
       "      <td>60.7</td>\n",
       "      <td>575.5</td>\n",
       "      <td>161.3</td>\n",
       "    </tr>\n",
       "    <tr>\n",
       "      <th>2025-01-01 15:00:00</th>\n",
       "      <td>MidCase</td>\n",
       "      <td>NYISO</td>\n",
       "      <td>America/New_York</td>\n",
       "      <td>Combustion only</td>\n",
       "      <td>2025</td>\n",
       "      <td>207.5</td>\n",
       "      <td>62.8</td>\n",
       "      <td>579.3</td>\n",
       "      <td>165.3</td>\n",
       "    </tr>\n",
       "    <tr>\n",
       "      <th>2025-01-01 16:00:00</th>\n",
       "      <td>MidCase</td>\n",
       "      <td>NYISO</td>\n",
       "      <td>America/New_York</td>\n",
       "      <td>Combustion only</td>\n",
       "      <td>2025</td>\n",
       "      <td>220.7</td>\n",
       "      <td>56.6</td>\n",
       "      <td>658.1</td>\n",
       "      <td>179.0</td>\n",
       "    </tr>\n",
       "    <tr>\n",
       "      <th>2025-01-01 17:00:00</th>\n",
       "      <td>MidCase</td>\n",
       "      <td>NYISO</td>\n",
       "      <td>America/New_York</td>\n",
       "      <td>Combustion only</td>\n",
       "      <td>2025</td>\n",
       "      <td>229.7</td>\n",
       "      <td>62.1</td>\n",
       "      <td>760.3</td>\n",
       "      <td>177.6</td>\n",
       "    </tr>\n",
       "    <tr>\n",
       "      <th>2025-01-01 18:00:00</th>\n",
       "      <td>MidCase</td>\n",
       "      <td>NYISO</td>\n",
       "      <td>America/New_York</td>\n",
       "      <td>Combustion only</td>\n",
       "      <td>2025</td>\n",
       "      <td>229.7</td>\n",
       "      <td>63.5</td>\n",
       "      <td>771.4</td>\n",
       "      <td>165.7</td>\n",
       "    </tr>\n",
       "    <tr>\n",
       "      <th>2025-01-01 19:00:00</th>\n",
       "      <td>MidCase</td>\n",
       "      <td>NYISO</td>\n",
       "      <td>America/New_York</td>\n",
       "      <td>Combustion only</td>\n",
       "      <td>2025</td>\n",
       "      <td>224.2</td>\n",
       "      <td>59.1</td>\n",
       "      <td>706.3</td>\n",
       "      <td>178.9</td>\n",
       "    </tr>\n",
       "    <tr>\n",
       "      <th>2025-01-01 20:00:00</th>\n",
       "      <td>MidCase</td>\n",
       "      <td>NYISO</td>\n",
       "      <td>America/New_York</td>\n",
       "      <td>Combustion only</td>\n",
       "      <td>2025</td>\n",
       "      <td>213.3</td>\n",
       "      <td>59.0</td>\n",
       "      <td>633.9</td>\n",
       "      <td>175.3</td>\n",
       "    </tr>\n",
       "    <tr>\n",
       "      <th>2025-01-01 21:00:00</th>\n",
       "      <td>MidCase</td>\n",
       "      <td>NYISO</td>\n",
       "      <td>America/New_York</td>\n",
       "      <td>Combustion only</td>\n",
       "      <td>2025</td>\n",
       "      <td>204.1</td>\n",
       "      <td>58.1</td>\n",
       "      <td>624.1</td>\n",
       "      <td>161.0</td>\n",
       "    </tr>\n",
       "    <tr>\n",
       "      <th>2025-01-01 22:00:00</th>\n",
       "      <td>MidCase</td>\n",
       "      <td>NYISO</td>\n",
       "      <td>America/New_York</td>\n",
       "      <td>Combustion only</td>\n",
       "      <td>2025</td>\n",
       "      <td>210.4</td>\n",
       "      <td>59.9</td>\n",
       "      <td>648.7</td>\n",
       "      <td>152.7</td>\n",
       "    </tr>\n",
       "    <tr>\n",
       "      <th>2025-01-01 23:00:00</th>\n",
       "      <td>MidCase</td>\n",
       "      <td>NYISO</td>\n",
       "      <td>America/New_York</td>\n",
       "      <td>Combustion only</td>\n",
       "      <td>2025</td>\n",
       "      <td>191.1</td>\n",
       "      <td>58.8</td>\n",
       "      <td>677.2</td>\n",
       "      <td>149.6</td>\n",
       "    </tr>\n",
       "    <tr>\n",
       "      <th>2025-02-01 00:00:00</th>\n",
       "      <td>MidCase</td>\n",
       "      <td>NYISO</td>\n",
       "      <td>America/New_York</td>\n",
       "      <td>Combustion only</td>\n",
       "      <td>2025</td>\n",
       "      <td>203.5</td>\n",
       "      <td>64.7</td>\n",
       "      <td>560.6</td>\n",
       "      <td>155.6</td>\n",
       "    </tr>\n",
       "    <tr>\n",
       "      <th>2025-02-01 01:00:00</th>\n",
       "      <td>MidCase</td>\n",
       "      <td>NYISO</td>\n",
       "      <td>America/New_York</td>\n",
       "      <td>Combustion only</td>\n",
       "      <td>2025</td>\n",
       "      <td>175.8</td>\n",
       "      <td>56.7</td>\n",
       "      <td>567.6</td>\n",
       "      <td>156.8</td>\n",
       "    </tr>\n",
       "    <tr>\n",
       "      <th>2025-02-01 02:00:00</th>\n",
       "      <td>MidCase</td>\n",
       "      <td>NYISO</td>\n",
       "      <td>America/New_York</td>\n",
       "      <td>Combustion only</td>\n",
       "      <td>2025</td>\n",
       "      <td>180.3</td>\n",
       "      <td>60.3</td>\n",
       "      <td>554.2</td>\n",
       "      <td>156.7</td>\n",
       "    </tr>\n",
       "    <tr>\n",
       "      <th>2025-02-01 03:00:00</th>\n",
       "      <td>MidCase</td>\n",
       "      <td>NYISO</td>\n",
       "      <td>America/New_York</td>\n",
       "      <td>Combustion only</td>\n",
       "      <td>2025</td>\n",
       "      <td>197.0</td>\n",
       "      <td>66.3</td>\n",
       "      <td>531.8</td>\n",
       "      <td>159.1</td>\n",
       "    </tr>\n",
       "    <tr>\n",
       "      <th>2025-02-01 04:00:00</th>\n",
       "      <td>MidCase</td>\n",
       "      <td>NYISO</td>\n",
       "      <td>America/New_York</td>\n",
       "      <td>Combustion only</td>\n",
       "      <td>2025</td>\n",
       "      <td>170.2</td>\n",
       "      <td>58.6</td>\n",
       "      <td>544.8</td>\n",
       "      <td>162.3</td>\n",
       "    </tr>\n",
       "    <tr>\n",
       "      <th>2025-02-01 05:00:00</th>\n",
       "      <td>MidCase</td>\n",
       "      <td>NYISO</td>\n",
       "      <td>America/New_York</td>\n",
       "      <td>Combustion only</td>\n",
       "      <td>2025</td>\n",
       "      <td>222.4</td>\n",
       "      <td>72.4</td>\n",
       "      <td>560.9</td>\n",
       "      <td>165.3</td>\n",
       "    </tr>\n",
       "  </tbody>\n",
       "</table>\n",
       "</div>"
      ],
      "text/plain": [
       "                    emission_scenario gea_grid_region         time_zone  \\\n",
       "timestamp                                                                 \n",
       "2025-01-01 00:00:00           MidCase           NYISO  America/New_York   \n",
       "2025-01-01 01:00:00           MidCase           NYISO  America/New_York   \n",
       "2025-01-01 02:00:00           MidCase           NYISO  America/New_York   \n",
       "2025-01-01 03:00:00           MidCase           NYISO  America/New_York   \n",
       "2025-01-01 04:00:00           MidCase           NYISO  America/New_York   \n",
       "2025-01-01 05:00:00           MidCase           NYISO  America/New_York   \n",
       "2025-01-01 06:00:00           MidCase           NYISO  America/New_York   \n",
       "2025-01-01 07:00:00           MidCase           NYISO  America/New_York   \n",
       "2025-01-01 08:00:00           MidCase           NYISO  America/New_York   \n",
       "2025-01-01 09:00:00           MidCase           NYISO  America/New_York   \n",
       "2025-01-01 10:00:00           MidCase           NYISO  America/New_York   \n",
       "2025-01-01 11:00:00           MidCase           NYISO  America/New_York   \n",
       "2025-01-01 12:00:00           MidCase           NYISO  America/New_York   \n",
       "2025-01-01 13:00:00           MidCase           NYISO  America/New_York   \n",
       "2025-01-01 14:00:00           MidCase           NYISO  America/New_York   \n",
       "2025-01-01 15:00:00           MidCase           NYISO  America/New_York   \n",
       "2025-01-01 16:00:00           MidCase           NYISO  America/New_York   \n",
       "2025-01-01 17:00:00           MidCase           NYISO  America/New_York   \n",
       "2025-01-01 18:00:00           MidCase           NYISO  America/New_York   \n",
       "2025-01-01 19:00:00           MidCase           NYISO  America/New_York   \n",
       "2025-01-01 20:00:00           MidCase           NYISO  America/New_York   \n",
       "2025-01-01 21:00:00           MidCase           NYISO  America/New_York   \n",
       "2025-01-01 22:00:00           MidCase           NYISO  America/New_York   \n",
       "2025-01-01 23:00:00           MidCase           NYISO  America/New_York   \n",
       "2025-02-01 00:00:00           MidCase           NYISO  America/New_York   \n",
       "2025-02-01 01:00:00           MidCase           NYISO  America/New_York   \n",
       "2025-02-01 02:00:00           MidCase           NYISO  America/New_York   \n",
       "2025-02-01 03:00:00           MidCase           NYISO  America/New_York   \n",
       "2025-02-01 04:00:00           MidCase           NYISO  America/New_York   \n",
       "2025-02-01 05:00:00           MidCase           NYISO  America/New_York   \n",
       "\n",
       "                       emission_type  year  lrmer_co2e_c  lrmer_co2e_p  \\\n",
       "timestamp                                                                \n",
       "2025-01-01 00:00:00  Combustion only  2025         213.4          60.9   \n",
       "2025-01-01 01:00:00  Combustion only  2025         209.2          59.1   \n",
       "2025-01-01 02:00:00  Combustion only  2025         198.9          58.7   \n",
       "2025-01-01 03:00:00  Combustion only  2025         180.1          55.9   \n",
       "2025-01-01 04:00:00  Combustion only  2025         176.1          53.6   \n",
       "2025-01-01 05:00:00  Combustion only  2025         194.6          57.2   \n",
       "2025-01-01 06:00:00  Combustion only  2025         240.0          65.5   \n",
       "2025-01-01 07:00:00  Combustion only  2025         233.5          65.9   \n",
       "2025-01-01 08:00:00  Combustion only  2025         220.4          62.4   \n",
       "2025-01-01 09:00:00  Combustion only  2025         215.1          65.0   \n",
       "2025-01-01 10:00:00  Combustion only  2025         219.0          65.1   \n",
       "2025-01-01 11:00:00  Combustion only  2025         214.1          64.2   \n",
       "2025-01-01 12:00:00  Combustion only  2025         214.5          65.3   \n",
       "2025-01-01 13:00:00  Combustion only  2025         199.0          59.0   \n",
       "2025-01-01 14:00:00  Combustion only  2025         197.1          60.7   \n",
       "2025-01-01 15:00:00  Combustion only  2025         207.5          62.8   \n",
       "2025-01-01 16:00:00  Combustion only  2025         220.7          56.6   \n",
       "2025-01-01 17:00:00  Combustion only  2025         229.7          62.1   \n",
       "2025-01-01 18:00:00  Combustion only  2025         229.7          63.5   \n",
       "2025-01-01 19:00:00  Combustion only  2025         224.2          59.1   \n",
       "2025-01-01 20:00:00  Combustion only  2025         213.3          59.0   \n",
       "2025-01-01 21:00:00  Combustion only  2025         204.1          58.1   \n",
       "2025-01-01 22:00:00  Combustion only  2025         210.4          59.9   \n",
       "2025-01-01 23:00:00  Combustion only  2025         191.1          58.8   \n",
       "2025-02-01 00:00:00  Combustion only  2025         203.5          64.7   \n",
       "2025-02-01 01:00:00  Combustion only  2025         175.8          56.7   \n",
       "2025-02-01 02:00:00  Combustion only  2025         180.3          60.3   \n",
       "2025-02-01 03:00:00  Combustion only  2025         197.0          66.3   \n",
       "2025-02-01 04:00:00  Combustion only  2025         170.2          58.6   \n",
       "2025-02-01 05:00:00  Combustion only  2025         222.4          72.4   \n",
       "\n",
       "                     srmer_co2e_c  srmer_co2e_p  \n",
       "timestamp                                        \n",
       "2025-01-01 00:00:00         549.9         156.2  \n",
       "2025-01-01 01:00:00         539.1         159.6  \n",
       "2025-01-01 02:00:00         546.2         159.4  \n",
       "2025-01-01 03:00:00         533.4         160.6  \n",
       "2025-01-01 04:00:00         524.6         163.9  \n",
       "2025-01-01 05:00:00         556.0         168.0  \n",
       "2025-01-01 06:00:00         659.2         168.0  \n",
       "2025-01-01 07:00:00         678.9         163.2  \n",
       "2025-01-01 08:00:00         662.7         170.7  \n",
       "2025-01-01 09:00:00         593.0         171.0  \n",
       "2025-01-01 10:00:00         615.9         162.4  \n",
       "2025-01-01 11:00:00         644.6         160.0  \n",
       "2025-01-01 12:00:00         558.9         166.0  \n",
       "2025-01-01 13:00:00         595.3         159.2  \n",
       "2025-01-01 14:00:00         575.5         161.3  \n",
       "2025-01-01 15:00:00         579.3         165.3  \n",
       "2025-01-01 16:00:00         658.1         179.0  \n",
       "2025-01-01 17:00:00         760.3         177.6  \n",
       "2025-01-01 18:00:00         771.4         165.7  \n",
       "2025-01-01 19:00:00         706.3         178.9  \n",
       "2025-01-01 20:00:00         633.9         175.3  \n",
       "2025-01-01 21:00:00         624.1         161.0  \n",
       "2025-01-01 22:00:00         648.7         152.7  \n",
       "2025-01-01 23:00:00         677.2         149.6  \n",
       "2025-02-01 00:00:00         560.6         155.6  \n",
       "2025-02-01 01:00:00         567.6         156.8  \n",
       "2025-02-01 02:00:00         554.2         156.7  \n",
       "2025-02-01 03:00:00         531.8         159.1  \n",
       "2025-02-01 04:00:00         544.8         162.3  \n",
       "2025-02-01 05:00:00         560.9         165.3  "
      ]
     },
     "execution_count": 5,
     "metadata": {},
     "output_type": "execute_result"
    }
   ],
   "source": [
    "# inspect emissions data\n",
    "emissions_data.df.head(30)"
   ]
  },
  {
   "cell_type": "code",
   "execution_count": 6,
   "id": "550dd7a8",
   "metadata": {},
   "outputs": [
    {
     "name": "stdout",
     "output_type": "stream",
     "text": [
      "eq_id='hp01' eq_type='heat_pump' eq_subtype='air_to_water' eq_manufacturer=None model='GenericAWHP' fuel='electricity' capacity_W=None performance=Performance(cop_curve=COPCurve(t_out_C=[-10.0, 0.0, 10.0, 20.0, 30.0], cop=[2.0, 2.5, 3.2, 3.8, 4.2]), cap_curve=CapCurve(t_out_C=[-10.0, 0.0, 10.0, 20.0, 30.0], capacity_W=[100000.0, 120000.0, 140000.0, 160000.0, 180000.0]), plr_curve=None, efficiency=None, constraints=None) emissions=None\n",
      "eq_scen_id='decarb_01' eq_scen_name='Decarbonized HP Only' hr_wwhp='hr01' awhp_h='hp01' awhp_c='hp01' awhp_sizing=4.0 boiler=None chiller='ch01' resistance_heater='res01'\n"
     ]
    }
   ],
   "source": [
    "# Test-load equipment library (not changing the actual sim settings)\n",
    "\n",
    "from src.equipment import load_library\n",
    "\n",
    "library = load_library(\"data/input/equipment_data.json\")\n",
    "\n",
    "hp_a = library.get_equipment(\"hp01\")\n",
    "print(hp_a)\n",
    "\n",
    "scenario_a = library.get_scenario(\"decarb_01\")\n",
    "print(scenario_a)\n"
   ]
  },
  {
   "cell_type": "code",
   "execution_count": 7,
   "id": "633558b1",
   "metadata": {},
   "outputs": [
    {
     "data": {
      "application/vnd.microsoft.datawrangler.viewer.v0+json": {
       "columns": [
        {
         "name": "timestamp",
         "rawType": "datetime64[ns]",
         "type": "datetime"
        },
        {
         "name": "t_out_C",
         "rawType": "float64",
         "type": "float"
        },
        {
         "name": "heating_W",
         "rawType": "float64",
         "type": "float"
        },
        {
         "name": "cooling_W",
         "rawType": "float64",
         "type": "float"
        },
        {
         "name": "elec_Wh",
         "rawType": "float64",
         "type": "float"
        },
        {
         "name": "gas_Wh",
         "rawType": "float64",
         "type": "float"
        },
        {
         "name": "hhw_W",
         "rawType": "float64",
         "type": "float"
        },
        {
         "name": "chw_W",
         "rawType": "float64",
         "type": "float"
        },
        {
         "name": "hr_hhw_W",
         "rawType": "float64",
         "type": "float"
        },
        {
         "name": "hr_chw_W",
         "rawType": "float64",
         "type": "float"
        },
        {
         "name": "hr_cop_h",
         "rawType": "float64",
         "type": "float"
        },
        {
         "name": "max_cap_h_hr_W",
         "rawType": "float64",
         "type": "float"
        },
        {
         "name": "min_cap_h_hr_W",
         "rawType": "float64",
         "type": "float"
        },
        {
         "name": "simult_h_hr_W",
         "rawType": "float64",
         "type": "float"
        },
        {
         "name": "elec_hr_Wh",
         "rawType": "float64",
         "type": "float"
        },
        {
         "name": "awhp_num_h",
         "rawType": "float64",
         "type": "float"
        },
        {
         "name": "awhp_cap_h_W",
         "rawType": "float64",
         "type": "float"
        },
        {
         "name": "awhp_cop_h",
         "rawType": "float64",
         "type": "float"
        },
        {
         "name": "awhp_hhw_W",
         "rawType": "float64",
         "type": "float"
        },
        {
         "name": "elec_awhp_h_Wh",
         "rawType": "float64",
         "type": "float"
        },
        {
         "name": "boiler_eff",
         "rawType": "float64",
         "type": "float"
        },
        {
         "name": "boiler_hhw_W",
         "rawType": "float64",
         "type": "float"
        },
        {
         "name": "gas_boiler_Wh",
         "rawType": "float64",
         "type": "float"
        },
        {
         "name": "res_hhw_W",
         "rawType": "float64",
         "type": "float"
        },
        {
         "name": "elec_res_Wh",
         "rawType": "float64",
         "type": "float"
        },
        {
         "name": "awhp_num_c",
         "rawType": "float64",
         "type": "float"
        },
        {
         "name": "awhp_cap_c_W",
         "rawType": "float64",
         "type": "float"
        },
        {
         "name": "awhp_cop_c",
         "rawType": "float64",
         "type": "float"
        },
        {
         "name": "awhp_chw_W",
         "rawType": "float64",
         "type": "float"
        },
        {
         "name": "elec_awhp_c_Wh",
         "rawType": "float64",
         "type": "float"
        },
        {
         "name": "chiller_cop",
         "rawType": "float64",
         "type": "float"
        },
        {
         "name": "chiller_chw_W",
         "rawType": "float64",
         "type": "float"
        },
        {
         "name": "elec_chiller_Wh",
         "rawType": "float64",
         "type": "float"
        }
       ],
       "ref": "0e822d0e-831b-460a-95c1-190c4575937f",
       "rows": [
        [
         "2001-01-01 01:00:00",
         "-4.4",
         "609230.13",
         "127902.41",
         "261212.45",
         "0.0",
         "609230.13",
         "127902.41",
         "146500.0",
         "107328.88",
         "3.74",
         "146500.0",
         "36625.0",
         "168726.67",
         "39171.12",
         "4.0",
         "444800.0",
         "2.28",
         "444800.0",
         "195087.72",
         null,
         null,
         null,
         "17930.13",
         "17930.13",
         "4.0",
         "444800.0",
         "2.28",
         "20573.53",
         "9023.48",
         "4.0",
         "0.0",
         "0.0"
        ],
        [
         "2001-01-01 02:00:00",
         "-4.4",
         "606900.34",
         "174577.65",
         "279354.26",
         "0.0",
         "606900.34",
         "174577.65",
         "146500.0",
         "107328.88",
         "3.74",
         "146500.0",
         "36625.0",
         "230299.85",
         "39171.12",
         "4.0",
         "444800.0",
         "2.28",
         "444800.0",
         "195087.72",
         null,
         null,
         null,
         "15600.34",
         "15600.34",
         "4.0",
         "444800.0",
         "2.28",
         "67248.77",
         "29495.08",
         "4.0",
         "0.0",
         "0.0"
        ],
        [
         "2001-01-01 03:00:00",
         "-4.11",
         "604168.53",
         "186763.68",
         "279189.44",
         "0.0",
         "604168.53",
         "186763.68",
         "146500.0",
         "107328.88",
         "3.74",
         "146500.0",
         "36625.0",
         "246375.46",
         "39171.12",
         "4.0",
         "447133.33",
         "2.29",
         "447133.33",
         "194864.72",
         null,
         null,
         null,
         "10535.2",
         "10535.2",
         "4.0",
         "447133.33",
         "2.29",
         "79434.81",
         "34618.4",
         "4.0",
         "0.0",
         "0.0"
        ],
        [
         "2001-01-01 04:00:00",
         "-3.55",
         "600461.65",
         "199730.65",
         "275763.89",
         "0.0",
         "600461.65",
         "199730.65",
         "146500.0",
         "107328.88",
         "3.74",
         "146500.0",
         "36625.0",
         "263481.26",
         "39171.12",
         "4.0",
         "451600.0",
         "2.32",
         "451600.0",
         "194445.64",
         null,
         null,
         null,
         "2361.65",
         "2361.65",
         "4.0",
         "451600.0",
         "2.32",
         "92401.78",
         "39785.48",
         "4.0",
         "0.0",
         "0.0"
        ],
        [
         "2001-01-01 05:00:00",
         "-3.3",
         "604703.0",
         "205553.3",
         "280101.5",
         "0.0",
         "604703.0",
         "205553.3",
         "146500.0",
         "107328.88",
         "3.74",
         "146500.0",
         "36625.0",
         "271162.4",
         "39171.12",
         "4.0",
         "453600.0",
         "2.34",
         "453600.0",
         "194261.24",
         null,
         null,
         null,
         "4603.0",
         "4603.0",
         "4.0",
         "453600.0",
         "2.34",
         "98224.42",
         "42066.13",
         "4.0",
         "0.0",
         "0.0"
        ],
        [
         "2001-01-01 06:00:00",
         "-3.65",
         "607617.81",
         "200142.3",
         "284057.83",
         "0.0",
         "607617.81",
         "200142.3",
         "146500.0",
         "107328.88",
         "3.74",
         "146500.0",
         "36625.0",
         "264024.29",
         "39171.12",
         "4.0",
         "450800.0",
         "2.32",
         "450800.0",
         "194519.96",
         null,
         null,
         null,
         "10317.81",
         "10317.81",
         "4.0",
         "450800.0",
         "2.32",
         "92813.42",
         "40048.94",
         "4.0",
         "0.0",
         "0.0"
        ],
        [
         "2001-01-01 07:00:00",
         "-4.19",
         "611215.73",
         "191604.12",
         "289143.05",
         "0.0",
         "611215.73",
         "191604.12",
         "146500.0",
         "107328.88",
         "3.74",
         "146500.0",
         "36625.0",
         "252760.88",
         "39171.12",
         "4.0",
         "446466.67",
         "2.29",
         "446466.67",
         "194928.14",
         null,
         null,
         null,
         "18249.06",
         "18249.06",
         "4.0",
         "446466.67",
         "2.29",
         "84275.25",
         "36794.72",
         "4.0",
         "0.0",
         "0.0"
        ],
        [
         "2001-01-01 08:00:00",
         "-3.76",
         "607994.13",
         "113827.74",
         "248143.57",
         "0.0",
         "607994.13",
         "113827.74",
         "146500.0",
         "107328.88",
         "3.74",
         "146500.0",
         "36625.0",
         "150159.61",
         "39171.12",
         "4.0",
         "449933.33",
         "2.31",
         "449933.33",
         "194600.83",
         null,
         null,
         null,
         "11560.79",
         "11560.79",
         "4.0",
         "449933.33",
         "2.31",
         "6498.86",
         "2810.83",
         "4.0",
         "0.0",
         "0.0"
        ],
        [
         "2001-01-01 09:00:00",
         "-3.01",
         "546663.14",
         "109587.78",
         "211353.81",
         "0.0",
         "546663.14",
         "109587.78",
         "144566.32",
         "105912.22",
         "3.74",
         "146500.0",
         "36625.0",
         "144566.32",
         "38654.1",
         "4.0",
         "455933.33",
         "2.35",
         "402096.82",
         "171135.37",
         null,
         null,
         null,
         "0.0",
         "0.0",
         "4.0",
         "455933.33",
         "2.35",
         "3675.55",
         "1564.34",
         "4.0",
         "0.0",
         "0.0"
        ],
        [
         "2001-01-01 10:00:00",
         "-2.45",
         "518821.39",
         "125826.58",
         "203553.5",
         "0.0",
         "518821.39",
         "125826.58",
         "146500.0",
         "107328.88",
         "3.74",
         "146500.0",
         "36625.0",
         "165988.28",
         "39171.12",
         "4.0",
         "460400.0",
         "2.38",
         "372321.39",
         "156602.06",
         null,
         null,
         null,
         "0.0",
         "0.0",
         "4.0",
         "460400.0",
         "2.38",
         "18497.71",
         "7780.32",
         "4.0",
         "0.0",
         "0.0"
        ],
        [
         "2001-01-01 11:00:00",
         "-1.56",
         "494195.62",
         "153496.5",
         "201784.54",
         "0.0",
         "494195.62",
         "153496.5",
         "146500.0",
         "107328.88",
         "3.74",
         "146500.0",
         "36625.0",
         "202489.95",
         "39171.12",
         "4.0",
         "467533.33",
         "2.42",
         "347695.62",
         "143552.29",
         null,
         null,
         null,
         "0.0",
         "0.0",
         "4.0",
         "467533.33",
         "2.42",
         "46167.62",
         "19061.12",
         "4.0",
         "0.0",
         "0.0"
        ],
        [
         "2001-01-01 12:00:00",
         "-1.45",
         "487443.57",
         "162364.69",
         "202293.42",
         "0.0",
         "487443.57",
         "162364.69",
         "146500.0",
         "107328.88",
         "3.74",
         "146500.0",
         "36625.0",
         "214188.73",
         "39171.12",
         "4.0",
         "468400.0",
         "2.43",
         "340943.57",
         "140450.49",
         null,
         null,
         null,
         "0.0",
         "0.0",
         "4.0",
         "468400.0",
         "2.43",
         "55035.82",
         "22671.81",
         "4.0",
         "0.0",
         "0.0"
        ],
        [
         "2001-01-01 13:00:00",
         "-1.99",
         "483818.45",
         "153128.01",
         "198775.74",
         "0.0",
         "483818.45",
         "153128.01",
         "146500.0",
         "107328.88",
         "3.74",
         "146500.0",
         "36625.0",
         "202003.85",
         "39171.12",
         "4.0",
         "464066.67",
         "2.4",
         "337318.45",
         "140524.96",
         null,
         null,
         null,
         "0.0",
         "0.0",
         "4.0",
         "464066.67",
         "2.4",
         "45799.13",
         "19079.66",
         "4.0",
         "0.0",
         "0.0"
        ],
        [
         "2001-01-01 14:00:00",
         "-2.84",
         "500469.35",
         "135335.25",
         "201168.25",
         "0.0",
         "500469.35",
         "135335.25",
         "146500.0",
         "107328.88",
         "3.74",
         "146500.0",
         "36625.0",
         "178531.95",
         "39171.12",
         "4.0",
         "457266.67",
         "2.36",
         "353969.35",
         "150119.54",
         null,
         null,
         null,
         "0.0",
         "0.0",
         "4.0",
         "457266.67",
         "2.36",
         "28006.37",
         "11877.59",
         "4.0",
         "0.0",
         "0.0"
        ],
        [
         "2001-01-01 15:00:00",
         "-3.01",
         "496728.78",
         "130178.54",
         "197956.06",
         "0.0",
         "496728.78",
         "130178.54",
         "146500.0",
         "107328.88",
         "3.74",
         "146500.0",
         "36625.0",
         "171729.3",
         "39171.12",
         "4.0",
         "455933.33",
         "2.35",
         "350228.78",
         "149059.95",
         null,
         null,
         null,
         "0.0",
         "0.0",
         "4.0",
         "455933.33",
         "2.35",
         "22849.66",
         "9724.98",
         "4.0",
         "0.0",
         "0.0"
        ],
        [
         "2001-01-01 16:00:00",
         "-2.8",
         "498164.56",
         "135665.91",
         "200188.75",
         "0.0",
         "498164.56",
         "135665.91",
         "146500.0",
         "107328.88",
         "3.74",
         "146500.0",
         "36625.0",
         "178968.14",
         "39171.12",
         "4.0",
         "457600.0",
         "2.36",
         "351664.56",
         "149010.41",
         null,
         null,
         null,
         "0.0",
         "0.0",
         "4.0",
         "457600.0",
         "2.36",
         "28337.03",
         "12007.22",
         "4.0",
         "0.0",
         "0.0"
        ],
        [
         "2001-01-01 17:00:00",
         "-4.08",
         "561067.93",
         "96564.16",
         "224370.74",
         "0.0",
         "561067.93",
         "96564.16",
         "127385.79",
         "93325.42",
         "3.74",
         "146500.0",
         "36625.0",
         "127385.79",
         "34060.37",
         "4.0",
         "447333.33",
         "2.3",
         "433682.14",
         "188899.66",
         null,
         null,
         null,
         "0.0",
         "0.0",
         "4.0",
         "447333.33",
         "2.3",
         "3238.74",
         "1410.7",
         "4.0",
         "0.0",
         "0.0"
        ],
        [
         "2001-01-01 18:00:00",
         "-5.35",
         "597933.37",
         "72222.7",
         "287852.31",
         "0.0",
         "597933.37",
         "72222.7",
         "95274.95",
         "69800.36",
         "3.74",
         "146500.0",
         "36625.0",
         "95274.95",
         "25474.58",
         "4.0",
         "437200.0",
         "2.23",
         "437200.0",
         "195834.27",
         null,
         null,
         null,
         "65458.43",
         "65458.43",
         "4.0",
         "437200.0",
         "2.23",
         "2422.34",
         "1085.03",
         "4.0",
         "0.0",
         "0.0"
        ],
        [
         "2001-01-01 19:00:00",
         "-5.89",
         "611523.3",
         "62852.74",
         "315142.15",
         "0.0",
         "611523.3",
         "62852.74",
         "82914.25",
         "60744.67",
         "3.74",
         "146500.0",
         "36625.0",
         "82914.25",
         "22169.59",
         "4.0",
         "432866.67",
         "2.21",
         "432866.67",
         "196274.32",
         null,
         null,
         null,
         "95742.38",
         "95742.38",
         "4.0",
         "432866.67",
         "2.21",
         "2108.07",
         "955.86",
         "4.0",
         "0.0",
         "0.0"
        ],
        [
         "2001-01-01 20:00:00",
         "-6.45",
         "628074.3",
         "53927.94",
         "345125.12",
         "0.0",
         "628074.3",
         "53927.94",
         "71140.81",
         "52119.2",
         "3.74",
         "146500.0",
         "36625.0",
         "71140.81",
         "19021.61",
         "4.0",
         "428400.0",
         "2.18",
         "428400.0",
         "196739.38",
         null,
         null,
         null,
         "128533.48",
         "128533.48",
         "4.0",
         "428400.0",
         "2.18",
         "1808.73",
         "830.65",
         "4.0",
         "0.0",
         "0.0"
        ],
        [
         "2001-01-01 21:00:00",
         "-7.63",
         "651466.86",
         "35797.96",
         "396268.56",
         "0.0",
         "651466.86",
         "35797.96",
         "47224.05",
         "34597.3",
         "3.74",
         "146500.0",
         "36625.0",
         "47224.05",
         "12626.75",
         "4.0",
         "418933.33",
         "2.12",
         "418933.33",
         "197765.54",
         null,
         null,
         null,
         "185309.48",
         "185309.48",
         "4.0",
         "418933.33",
         "2.12",
         "1200.66",
         "566.79",
         "4.0",
         "0.0",
         "0.0"
        ],
        [
         "2001-01-01 22:00:00",
         "-8.94",
         "662557.67",
         "15267.33",
         "460496.85",
         "0.0",
         "662557.67",
         "15267.33",
         "0.0",
         "0.0",
         "3.82",
         "146500.0",
         "36625.0",
         "20140.41",
         "0.0",
         "4.0",
         "408466.67",
         "2.05",
         "408466.67",
         "198968.95",
         null,
         null,
         null,
         "254091.0",
         "254091.0",
         "4.0",
         "408466.67",
         "2.05",
         "15267.33",
         "7436.9",
         "4.0",
         "0.0",
         "0.0"
        ],
        [
         "2001-01-01 23:00:00",
         "-9.75",
         "680094.52",
         "4254.93",
         "479960.33",
         "0.0",
         "680094.52",
         "4254.93",
         "0.0",
         "0.0",
         "3.82",
         "146500.0",
         "36625.0",
         "5613.03",
         "0.0",
         "4.0",
         "402000.0",
         "2.01",
         "402000.0",
         "199751.55",
         null,
         null,
         null,
         "278094.52",
         "278094.52",
         "4.0",
         "402000.0",
         "2.01",
         "4254.93",
         "2114.25",
         "4.0",
         "0.0",
         "0.0"
        ],
        [
         "2001-01-02 00:00:00",
         "-10.35",
         "701267.36",
         "980.45",
         "501757.59",
         "0.0",
         "701267.36",
         "980.45",
         "0.0",
         "0.0",
         "3.82",
         "146500.0",
         "36625.0",
         "1293.39",
         "0.0",
         "4.0",
         "400000.0",
         "2.0",
         "400000.0",
         "200000.0",
         null,
         null,
         null,
         "301267.36",
         "301267.36",
         "4.0",
         "400000.0",
         "2.0",
         "980.45",
         "490.23",
         "4.0",
         "0.0",
         "0.0"
        ],
        [
         "2001-01-02 01:00:00",
         "-10.89",
         "703857.5",
         "29439.75",
         "475898.85",
         "0.0",
         "703857.5",
         "29439.75",
         "38836.42",
         "28452.35",
         "3.74",
         "146500.0",
         "36625.0",
         "38836.42",
         "10384.07",
         "4.0",
         "400000.0",
         "2.0",
         "400000.0",
         "200000.0",
         null,
         null,
         null,
         "265021.08",
         "265021.08",
         "4.0",
         "400000.0",
         "2.0",
         "987.4",
         "493.7",
         "4.0",
         "0.0",
         "0.0"
        ],
        [
         "2001-01-02 02:00:00",
         "-11.45",
         "710937.94",
         "61415.11",
         "452612.61",
         "0.0",
         "710937.94",
         "61415.11",
         "81017.76",
         "59355.25",
         "3.74",
         "146500.0",
         "36625.0",
         "81017.76",
         "21662.5",
         "4.0",
         "400000.0",
         "2.0",
         "400000.0",
         "200000.0",
         null,
         null,
         null,
         "229920.19",
         "229920.19",
         "4.0",
         "400000.0",
         "2.0",
         "2059.85",
         "1029.93",
         "4.0",
         "0.0",
         "0.0"
        ],
        [
         "2001-01-02 03:00:00",
         "-11.7",
         "706407.54",
         "77967.38",
         "432362.67",
         "0.0",
         "706407.54",
         "77967.38",
         "102853.24",
         "75352.37",
         "3.74",
         "146500.0",
         "36625.0",
         "102853.24",
         "27500.87",
         "4.0",
         "400000.0",
         "2.0",
         "400000.0",
         "200000.0",
         null,
         null,
         null,
         "203554.3",
         "203554.3",
         "4.0",
         "400000.0",
         "2.0",
         "2615.01",
         "1307.51",
         "4.0",
         "0.0",
         "0.0"
        ],
        [
         "2001-01-02 04:00:00",
         "-11.7",
         "704279.2",
         "85794.54",
         "422800.96",
         "0.0",
         "704279.2",
         "85794.54",
         "113178.68",
         "82917.0",
         "3.74",
         "146500.0",
         "36625.0",
         "113178.68",
         "30261.68",
         "4.0",
         "400000.0",
         "2.0",
         "400000.0",
         "200000.0",
         null,
         null,
         null,
         "191100.51",
         "191100.51",
         "4.0",
         "400000.0",
         "2.0",
         "2877.53",
         "1438.77",
         "4.0",
         "0.0",
         "0.0"
        ],
        [
         "2001-01-02 05:00:00",
         "-11.99",
         "715288.84",
         "89293.77",
         "430487.41",
         "0.0",
         "715288.84",
         "89293.77",
         "117794.82",
         "86298.88",
         "3.74",
         "146500.0",
         "36625.0",
         "117794.82",
         "31495.94",
         "4.0",
         "400000.0",
         "2.0",
         "400000.0",
         "200000.0",
         null,
         null,
         null,
         "197494.02",
         "197494.02",
         "4.0",
         "400000.0",
         "2.0",
         "2994.9",
         "1497.45",
         "4.0",
         "0.0",
         "0.0"
        ],
        [
         "2001-01-02 06:00:00",
         "-11.91",
         "718766.28",
         "90837.27",
         "432499.01",
         "0.0",
         "718766.28",
         "90837.27",
         "119830.97",
         "87790.6",
         "3.74",
         "146500.0",
         "36625.0",
         "119830.97",
         "32040.37",
         "4.0",
         "400000.0",
         "2.0",
         "400000.0",
         "200000.0",
         null,
         null,
         null,
         "198935.31",
         "198935.31",
         "4.0",
         "400000.0",
         "2.0",
         "3046.66",
         "1523.33",
         "4.0",
         "0.0",
         "0.0"
        ]
       ],
       "shape": {
        "columns": 32,
        "rows": 30
       }
      },
      "text/html": [
       "<div>\n",
       "<style scoped>\n",
       "    .dataframe tbody tr th:only-of-type {\n",
       "        vertical-align: middle;\n",
       "    }\n",
       "\n",
       "    .dataframe tbody tr th {\n",
       "        vertical-align: top;\n",
       "    }\n",
       "\n",
       "    .dataframe thead th {\n",
       "        text-align: right;\n",
       "    }\n",
       "</style>\n",
       "<table border=\"1\" class=\"dataframe\">\n",
       "  <thead>\n",
       "    <tr style=\"text-align: right;\">\n",
       "      <th></th>\n",
       "      <th>t_out_C</th>\n",
       "      <th>heating_W</th>\n",
       "      <th>cooling_W</th>\n",
       "      <th>elec_Wh</th>\n",
       "      <th>gas_Wh</th>\n",
       "      <th>hhw_W</th>\n",
       "      <th>chw_W</th>\n",
       "      <th>hr_hhw_W</th>\n",
       "      <th>hr_chw_W</th>\n",
       "      <th>hr_cop_h</th>\n",
       "      <th>...</th>\n",
       "      <th>res_hhw_W</th>\n",
       "      <th>elec_res_Wh</th>\n",
       "      <th>awhp_num_c</th>\n",
       "      <th>awhp_cap_c_W</th>\n",
       "      <th>awhp_cop_c</th>\n",
       "      <th>awhp_chw_W</th>\n",
       "      <th>elec_awhp_c_Wh</th>\n",
       "      <th>chiller_cop</th>\n",
       "      <th>chiller_chw_W</th>\n",
       "      <th>elec_chiller_Wh</th>\n",
       "    </tr>\n",
       "    <tr>\n",
       "      <th>timestamp</th>\n",
       "      <th></th>\n",
       "      <th></th>\n",
       "      <th></th>\n",
       "      <th></th>\n",
       "      <th></th>\n",
       "      <th></th>\n",
       "      <th></th>\n",
       "      <th></th>\n",
       "      <th></th>\n",
       "      <th></th>\n",
       "      <th></th>\n",
       "      <th></th>\n",
       "      <th></th>\n",
       "      <th></th>\n",
       "      <th></th>\n",
       "      <th></th>\n",
       "      <th></th>\n",
       "      <th></th>\n",
       "      <th></th>\n",
       "      <th></th>\n",
       "      <th></th>\n",
       "    </tr>\n",
       "  </thead>\n",
       "  <tbody>\n",
       "    <tr>\n",
       "      <th>2001-01-01 01:00:00</th>\n",
       "      <td>-4.40</td>\n",
       "      <td>609230.13</td>\n",
       "      <td>127902.41</td>\n",
       "      <td>261212.45</td>\n",
       "      <td>0.0</td>\n",
       "      <td>609230.13</td>\n",
       "      <td>127902.41</td>\n",
       "      <td>146500.00</td>\n",
       "      <td>107328.88</td>\n",
       "      <td>3.74</td>\n",
       "      <td>...</td>\n",
       "      <td>17930.13</td>\n",
       "      <td>17930.13</td>\n",
       "      <td>4.0</td>\n",
       "      <td>444800.00</td>\n",
       "      <td>2.28</td>\n",
       "      <td>20573.53</td>\n",
       "      <td>9023.48</td>\n",
       "      <td>4.0</td>\n",
       "      <td>0.0</td>\n",
       "      <td>0.0</td>\n",
       "    </tr>\n",
       "    <tr>\n",
       "      <th>2001-01-01 02:00:00</th>\n",
       "      <td>-4.40</td>\n",
       "      <td>606900.34</td>\n",
       "      <td>174577.65</td>\n",
       "      <td>279354.26</td>\n",
       "      <td>0.0</td>\n",
       "      <td>606900.34</td>\n",
       "      <td>174577.65</td>\n",
       "      <td>146500.00</td>\n",
       "      <td>107328.88</td>\n",
       "      <td>3.74</td>\n",
       "      <td>...</td>\n",
       "      <td>15600.34</td>\n",
       "      <td>15600.34</td>\n",
       "      <td>4.0</td>\n",
       "      <td>444800.00</td>\n",
       "      <td>2.28</td>\n",
       "      <td>67248.77</td>\n",
       "      <td>29495.08</td>\n",
       "      <td>4.0</td>\n",
       "      <td>0.0</td>\n",
       "      <td>0.0</td>\n",
       "    </tr>\n",
       "    <tr>\n",
       "      <th>2001-01-01 03:00:00</th>\n",
       "      <td>-4.11</td>\n",
       "      <td>604168.53</td>\n",
       "      <td>186763.68</td>\n",
       "      <td>279189.44</td>\n",
       "      <td>0.0</td>\n",
       "      <td>604168.53</td>\n",
       "      <td>186763.68</td>\n",
       "      <td>146500.00</td>\n",
       "      <td>107328.88</td>\n",
       "      <td>3.74</td>\n",
       "      <td>...</td>\n",
       "      <td>10535.20</td>\n",
       "      <td>10535.20</td>\n",
       "      <td>4.0</td>\n",
       "      <td>447133.33</td>\n",
       "      <td>2.29</td>\n",
       "      <td>79434.81</td>\n",
       "      <td>34618.40</td>\n",
       "      <td>4.0</td>\n",
       "      <td>0.0</td>\n",
       "      <td>0.0</td>\n",
       "    </tr>\n",
       "    <tr>\n",
       "      <th>2001-01-01 04:00:00</th>\n",
       "      <td>-3.55</td>\n",
       "      <td>600461.65</td>\n",
       "      <td>199730.65</td>\n",
       "      <td>275763.89</td>\n",
       "      <td>0.0</td>\n",
       "      <td>600461.65</td>\n",
       "      <td>199730.65</td>\n",
       "      <td>146500.00</td>\n",
       "      <td>107328.88</td>\n",
       "      <td>3.74</td>\n",
       "      <td>...</td>\n",
       "      <td>2361.65</td>\n",
       "      <td>2361.65</td>\n",
       "      <td>4.0</td>\n",
       "      <td>451600.00</td>\n",
       "      <td>2.32</td>\n",
       "      <td>92401.78</td>\n",
       "      <td>39785.48</td>\n",
       "      <td>4.0</td>\n",
       "      <td>0.0</td>\n",
       "      <td>0.0</td>\n",
       "    </tr>\n",
       "    <tr>\n",
       "      <th>2001-01-01 05:00:00</th>\n",
       "      <td>-3.30</td>\n",
       "      <td>604703.00</td>\n",
       "      <td>205553.30</td>\n",
       "      <td>280101.50</td>\n",
       "      <td>0.0</td>\n",
       "      <td>604703.00</td>\n",
       "      <td>205553.30</td>\n",
       "      <td>146500.00</td>\n",
       "      <td>107328.88</td>\n",
       "      <td>3.74</td>\n",
       "      <td>...</td>\n",
       "      <td>4603.00</td>\n",
       "      <td>4603.00</td>\n",
       "      <td>4.0</td>\n",
       "      <td>453600.00</td>\n",
       "      <td>2.34</td>\n",
       "      <td>98224.42</td>\n",
       "      <td>42066.13</td>\n",
       "      <td>4.0</td>\n",
       "      <td>0.0</td>\n",
       "      <td>0.0</td>\n",
       "    </tr>\n",
       "    <tr>\n",
       "      <th>2001-01-01 06:00:00</th>\n",
       "      <td>-3.65</td>\n",
       "      <td>607617.81</td>\n",
       "      <td>200142.30</td>\n",
       "      <td>284057.83</td>\n",
       "      <td>0.0</td>\n",
       "      <td>607617.81</td>\n",
       "      <td>200142.30</td>\n",
       "      <td>146500.00</td>\n",
       "      <td>107328.88</td>\n",
       "      <td>3.74</td>\n",
       "      <td>...</td>\n",
       "      <td>10317.81</td>\n",
       "      <td>10317.81</td>\n",
       "      <td>4.0</td>\n",
       "      <td>450800.00</td>\n",
       "      <td>2.32</td>\n",
       "      <td>92813.42</td>\n",
       "      <td>40048.94</td>\n",
       "      <td>4.0</td>\n",
       "      <td>0.0</td>\n",
       "      <td>0.0</td>\n",
       "    </tr>\n",
       "    <tr>\n",
       "      <th>2001-01-01 07:00:00</th>\n",
       "      <td>-4.19</td>\n",
       "      <td>611215.73</td>\n",
       "      <td>191604.12</td>\n",
       "      <td>289143.05</td>\n",
       "      <td>0.0</td>\n",
       "      <td>611215.73</td>\n",
       "      <td>191604.12</td>\n",
       "      <td>146500.00</td>\n",
       "      <td>107328.88</td>\n",
       "      <td>3.74</td>\n",
       "      <td>...</td>\n",
       "      <td>18249.06</td>\n",
       "      <td>18249.06</td>\n",
       "      <td>4.0</td>\n",
       "      <td>446466.67</td>\n",
       "      <td>2.29</td>\n",
       "      <td>84275.25</td>\n",
       "      <td>36794.72</td>\n",
       "      <td>4.0</td>\n",
       "      <td>0.0</td>\n",
       "      <td>0.0</td>\n",
       "    </tr>\n",
       "    <tr>\n",
       "      <th>2001-01-01 08:00:00</th>\n",
       "      <td>-3.76</td>\n",
       "      <td>607994.13</td>\n",
       "      <td>113827.74</td>\n",
       "      <td>248143.57</td>\n",
       "      <td>0.0</td>\n",
       "      <td>607994.13</td>\n",
       "      <td>113827.74</td>\n",
       "      <td>146500.00</td>\n",
       "      <td>107328.88</td>\n",
       "      <td>3.74</td>\n",
       "      <td>...</td>\n",
       "      <td>11560.79</td>\n",
       "      <td>11560.79</td>\n",
       "      <td>4.0</td>\n",
       "      <td>449933.33</td>\n",
       "      <td>2.31</td>\n",
       "      <td>6498.86</td>\n",
       "      <td>2810.83</td>\n",
       "      <td>4.0</td>\n",
       "      <td>0.0</td>\n",
       "      <td>0.0</td>\n",
       "    </tr>\n",
       "    <tr>\n",
       "      <th>2001-01-01 09:00:00</th>\n",
       "      <td>-3.01</td>\n",
       "      <td>546663.14</td>\n",
       "      <td>109587.78</td>\n",
       "      <td>211353.81</td>\n",
       "      <td>0.0</td>\n",
       "      <td>546663.14</td>\n",
       "      <td>109587.78</td>\n",
       "      <td>144566.32</td>\n",
       "      <td>105912.22</td>\n",
       "      <td>3.74</td>\n",
       "      <td>...</td>\n",
       "      <td>0.00</td>\n",
       "      <td>0.00</td>\n",
       "      <td>4.0</td>\n",
       "      <td>455933.33</td>\n",
       "      <td>2.35</td>\n",
       "      <td>3675.55</td>\n",
       "      <td>1564.34</td>\n",
       "      <td>4.0</td>\n",
       "      <td>0.0</td>\n",
       "      <td>0.0</td>\n",
       "    </tr>\n",
       "    <tr>\n",
       "      <th>2001-01-01 10:00:00</th>\n",
       "      <td>-2.45</td>\n",
       "      <td>518821.39</td>\n",
       "      <td>125826.58</td>\n",
       "      <td>203553.50</td>\n",
       "      <td>0.0</td>\n",
       "      <td>518821.39</td>\n",
       "      <td>125826.58</td>\n",
       "      <td>146500.00</td>\n",
       "      <td>107328.88</td>\n",
       "      <td>3.74</td>\n",
       "      <td>...</td>\n",
       "      <td>0.00</td>\n",
       "      <td>0.00</td>\n",
       "      <td>4.0</td>\n",
       "      <td>460400.00</td>\n",
       "      <td>2.38</td>\n",
       "      <td>18497.71</td>\n",
       "      <td>7780.32</td>\n",
       "      <td>4.0</td>\n",
       "      <td>0.0</td>\n",
       "      <td>0.0</td>\n",
       "    </tr>\n",
       "    <tr>\n",
       "      <th>2001-01-01 11:00:00</th>\n",
       "      <td>-1.56</td>\n",
       "      <td>494195.62</td>\n",
       "      <td>153496.50</td>\n",
       "      <td>201784.54</td>\n",
       "      <td>0.0</td>\n",
       "      <td>494195.62</td>\n",
       "      <td>153496.50</td>\n",
       "      <td>146500.00</td>\n",
       "      <td>107328.88</td>\n",
       "      <td>3.74</td>\n",
       "      <td>...</td>\n",
       "      <td>0.00</td>\n",
       "      <td>0.00</td>\n",
       "      <td>4.0</td>\n",
       "      <td>467533.33</td>\n",
       "      <td>2.42</td>\n",
       "      <td>46167.62</td>\n",
       "      <td>19061.12</td>\n",
       "      <td>4.0</td>\n",
       "      <td>0.0</td>\n",
       "      <td>0.0</td>\n",
       "    </tr>\n",
       "    <tr>\n",
       "      <th>2001-01-01 12:00:00</th>\n",
       "      <td>-1.45</td>\n",
       "      <td>487443.57</td>\n",
       "      <td>162364.69</td>\n",
       "      <td>202293.42</td>\n",
       "      <td>0.0</td>\n",
       "      <td>487443.57</td>\n",
       "      <td>162364.69</td>\n",
       "      <td>146500.00</td>\n",
       "      <td>107328.88</td>\n",
       "      <td>3.74</td>\n",
       "      <td>...</td>\n",
       "      <td>0.00</td>\n",
       "      <td>0.00</td>\n",
       "      <td>4.0</td>\n",
       "      <td>468400.00</td>\n",
       "      <td>2.43</td>\n",
       "      <td>55035.82</td>\n",
       "      <td>22671.81</td>\n",
       "      <td>4.0</td>\n",
       "      <td>0.0</td>\n",
       "      <td>0.0</td>\n",
       "    </tr>\n",
       "    <tr>\n",
       "      <th>2001-01-01 13:00:00</th>\n",
       "      <td>-1.99</td>\n",
       "      <td>483818.45</td>\n",
       "      <td>153128.01</td>\n",
       "      <td>198775.74</td>\n",
       "      <td>0.0</td>\n",
       "      <td>483818.45</td>\n",
       "      <td>153128.01</td>\n",
       "      <td>146500.00</td>\n",
       "      <td>107328.88</td>\n",
       "      <td>3.74</td>\n",
       "      <td>...</td>\n",
       "      <td>0.00</td>\n",
       "      <td>0.00</td>\n",
       "      <td>4.0</td>\n",
       "      <td>464066.67</td>\n",
       "      <td>2.40</td>\n",
       "      <td>45799.13</td>\n",
       "      <td>19079.66</td>\n",
       "      <td>4.0</td>\n",
       "      <td>0.0</td>\n",
       "      <td>0.0</td>\n",
       "    </tr>\n",
       "    <tr>\n",
       "      <th>2001-01-01 14:00:00</th>\n",
       "      <td>-2.84</td>\n",
       "      <td>500469.35</td>\n",
       "      <td>135335.25</td>\n",
       "      <td>201168.25</td>\n",
       "      <td>0.0</td>\n",
       "      <td>500469.35</td>\n",
       "      <td>135335.25</td>\n",
       "      <td>146500.00</td>\n",
       "      <td>107328.88</td>\n",
       "      <td>3.74</td>\n",
       "      <td>...</td>\n",
       "      <td>0.00</td>\n",
       "      <td>0.00</td>\n",
       "      <td>4.0</td>\n",
       "      <td>457266.67</td>\n",
       "      <td>2.36</td>\n",
       "      <td>28006.37</td>\n",
       "      <td>11877.59</td>\n",
       "      <td>4.0</td>\n",
       "      <td>0.0</td>\n",
       "      <td>0.0</td>\n",
       "    </tr>\n",
       "    <tr>\n",
       "      <th>2001-01-01 15:00:00</th>\n",
       "      <td>-3.01</td>\n",
       "      <td>496728.78</td>\n",
       "      <td>130178.54</td>\n",
       "      <td>197956.06</td>\n",
       "      <td>0.0</td>\n",
       "      <td>496728.78</td>\n",
       "      <td>130178.54</td>\n",
       "      <td>146500.00</td>\n",
       "      <td>107328.88</td>\n",
       "      <td>3.74</td>\n",
       "      <td>...</td>\n",
       "      <td>0.00</td>\n",
       "      <td>0.00</td>\n",
       "      <td>4.0</td>\n",
       "      <td>455933.33</td>\n",
       "      <td>2.35</td>\n",
       "      <td>22849.66</td>\n",
       "      <td>9724.98</td>\n",
       "      <td>4.0</td>\n",
       "      <td>0.0</td>\n",
       "      <td>0.0</td>\n",
       "    </tr>\n",
       "    <tr>\n",
       "      <th>2001-01-01 16:00:00</th>\n",
       "      <td>-2.80</td>\n",
       "      <td>498164.56</td>\n",
       "      <td>135665.91</td>\n",
       "      <td>200188.75</td>\n",
       "      <td>0.0</td>\n",
       "      <td>498164.56</td>\n",
       "      <td>135665.91</td>\n",
       "      <td>146500.00</td>\n",
       "      <td>107328.88</td>\n",
       "      <td>3.74</td>\n",
       "      <td>...</td>\n",
       "      <td>0.00</td>\n",
       "      <td>0.00</td>\n",
       "      <td>4.0</td>\n",
       "      <td>457600.00</td>\n",
       "      <td>2.36</td>\n",
       "      <td>28337.03</td>\n",
       "      <td>12007.22</td>\n",
       "      <td>4.0</td>\n",
       "      <td>0.0</td>\n",
       "      <td>0.0</td>\n",
       "    </tr>\n",
       "    <tr>\n",
       "      <th>2001-01-01 17:00:00</th>\n",
       "      <td>-4.08</td>\n",
       "      <td>561067.93</td>\n",
       "      <td>96564.16</td>\n",
       "      <td>224370.74</td>\n",
       "      <td>0.0</td>\n",
       "      <td>561067.93</td>\n",
       "      <td>96564.16</td>\n",
       "      <td>127385.79</td>\n",
       "      <td>93325.42</td>\n",
       "      <td>3.74</td>\n",
       "      <td>...</td>\n",
       "      <td>0.00</td>\n",
       "      <td>0.00</td>\n",
       "      <td>4.0</td>\n",
       "      <td>447333.33</td>\n",
       "      <td>2.30</td>\n",
       "      <td>3238.74</td>\n",
       "      <td>1410.70</td>\n",
       "      <td>4.0</td>\n",
       "      <td>0.0</td>\n",
       "      <td>0.0</td>\n",
       "    </tr>\n",
       "    <tr>\n",
       "      <th>2001-01-01 18:00:00</th>\n",
       "      <td>-5.35</td>\n",
       "      <td>597933.37</td>\n",
       "      <td>72222.70</td>\n",
       "      <td>287852.31</td>\n",
       "      <td>0.0</td>\n",
       "      <td>597933.37</td>\n",
       "      <td>72222.70</td>\n",
       "      <td>95274.95</td>\n",
       "      <td>69800.36</td>\n",
       "      <td>3.74</td>\n",
       "      <td>...</td>\n",
       "      <td>65458.43</td>\n",
       "      <td>65458.43</td>\n",
       "      <td>4.0</td>\n",
       "      <td>437200.00</td>\n",
       "      <td>2.23</td>\n",
       "      <td>2422.34</td>\n",
       "      <td>1085.03</td>\n",
       "      <td>4.0</td>\n",
       "      <td>0.0</td>\n",
       "      <td>0.0</td>\n",
       "    </tr>\n",
       "    <tr>\n",
       "      <th>2001-01-01 19:00:00</th>\n",
       "      <td>-5.89</td>\n",
       "      <td>611523.30</td>\n",
       "      <td>62852.74</td>\n",
       "      <td>315142.15</td>\n",
       "      <td>0.0</td>\n",
       "      <td>611523.30</td>\n",
       "      <td>62852.74</td>\n",
       "      <td>82914.25</td>\n",
       "      <td>60744.67</td>\n",
       "      <td>3.74</td>\n",
       "      <td>...</td>\n",
       "      <td>95742.38</td>\n",
       "      <td>95742.38</td>\n",
       "      <td>4.0</td>\n",
       "      <td>432866.67</td>\n",
       "      <td>2.21</td>\n",
       "      <td>2108.07</td>\n",
       "      <td>955.86</td>\n",
       "      <td>4.0</td>\n",
       "      <td>0.0</td>\n",
       "      <td>0.0</td>\n",
       "    </tr>\n",
       "    <tr>\n",
       "      <th>2001-01-01 20:00:00</th>\n",
       "      <td>-6.45</td>\n",
       "      <td>628074.30</td>\n",
       "      <td>53927.94</td>\n",
       "      <td>345125.12</td>\n",
       "      <td>0.0</td>\n",
       "      <td>628074.30</td>\n",
       "      <td>53927.94</td>\n",
       "      <td>71140.81</td>\n",
       "      <td>52119.20</td>\n",
       "      <td>3.74</td>\n",
       "      <td>...</td>\n",
       "      <td>128533.48</td>\n",
       "      <td>128533.48</td>\n",
       "      <td>4.0</td>\n",
       "      <td>428400.00</td>\n",
       "      <td>2.18</td>\n",
       "      <td>1808.73</td>\n",
       "      <td>830.65</td>\n",
       "      <td>4.0</td>\n",
       "      <td>0.0</td>\n",
       "      <td>0.0</td>\n",
       "    </tr>\n",
       "    <tr>\n",
       "      <th>2001-01-01 21:00:00</th>\n",
       "      <td>-7.63</td>\n",
       "      <td>651466.86</td>\n",
       "      <td>35797.96</td>\n",
       "      <td>396268.56</td>\n",
       "      <td>0.0</td>\n",
       "      <td>651466.86</td>\n",
       "      <td>35797.96</td>\n",
       "      <td>47224.05</td>\n",
       "      <td>34597.30</td>\n",
       "      <td>3.74</td>\n",
       "      <td>...</td>\n",
       "      <td>185309.48</td>\n",
       "      <td>185309.48</td>\n",
       "      <td>4.0</td>\n",
       "      <td>418933.33</td>\n",
       "      <td>2.12</td>\n",
       "      <td>1200.66</td>\n",
       "      <td>566.79</td>\n",
       "      <td>4.0</td>\n",
       "      <td>0.0</td>\n",
       "      <td>0.0</td>\n",
       "    </tr>\n",
       "    <tr>\n",
       "      <th>2001-01-01 22:00:00</th>\n",
       "      <td>-8.94</td>\n",
       "      <td>662557.67</td>\n",
       "      <td>15267.33</td>\n",
       "      <td>460496.85</td>\n",
       "      <td>0.0</td>\n",
       "      <td>662557.67</td>\n",
       "      <td>15267.33</td>\n",
       "      <td>0.00</td>\n",
       "      <td>0.00</td>\n",
       "      <td>3.82</td>\n",
       "      <td>...</td>\n",
       "      <td>254091.00</td>\n",
       "      <td>254091.00</td>\n",
       "      <td>4.0</td>\n",
       "      <td>408466.67</td>\n",
       "      <td>2.05</td>\n",
       "      <td>15267.33</td>\n",
       "      <td>7436.90</td>\n",
       "      <td>4.0</td>\n",
       "      <td>0.0</td>\n",
       "      <td>0.0</td>\n",
       "    </tr>\n",
       "    <tr>\n",
       "      <th>2001-01-01 23:00:00</th>\n",
       "      <td>-9.75</td>\n",
       "      <td>680094.52</td>\n",
       "      <td>4254.93</td>\n",
       "      <td>479960.33</td>\n",
       "      <td>0.0</td>\n",
       "      <td>680094.52</td>\n",
       "      <td>4254.93</td>\n",
       "      <td>0.00</td>\n",
       "      <td>0.00</td>\n",
       "      <td>3.82</td>\n",
       "      <td>...</td>\n",
       "      <td>278094.52</td>\n",
       "      <td>278094.52</td>\n",
       "      <td>4.0</td>\n",
       "      <td>402000.00</td>\n",
       "      <td>2.01</td>\n",
       "      <td>4254.93</td>\n",
       "      <td>2114.25</td>\n",
       "      <td>4.0</td>\n",
       "      <td>0.0</td>\n",
       "      <td>0.0</td>\n",
       "    </tr>\n",
       "    <tr>\n",
       "      <th>2001-01-02 00:00:00</th>\n",
       "      <td>-10.35</td>\n",
       "      <td>701267.36</td>\n",
       "      <td>980.45</td>\n",
       "      <td>501757.59</td>\n",
       "      <td>0.0</td>\n",
       "      <td>701267.36</td>\n",
       "      <td>980.45</td>\n",
       "      <td>0.00</td>\n",
       "      <td>0.00</td>\n",
       "      <td>3.82</td>\n",
       "      <td>...</td>\n",
       "      <td>301267.36</td>\n",
       "      <td>301267.36</td>\n",
       "      <td>4.0</td>\n",
       "      <td>400000.00</td>\n",
       "      <td>2.00</td>\n",
       "      <td>980.45</td>\n",
       "      <td>490.23</td>\n",
       "      <td>4.0</td>\n",
       "      <td>0.0</td>\n",
       "      <td>0.0</td>\n",
       "    </tr>\n",
       "    <tr>\n",
       "      <th>2001-01-02 01:00:00</th>\n",
       "      <td>-10.89</td>\n",
       "      <td>703857.50</td>\n",
       "      <td>29439.75</td>\n",
       "      <td>475898.85</td>\n",
       "      <td>0.0</td>\n",
       "      <td>703857.50</td>\n",
       "      <td>29439.75</td>\n",
       "      <td>38836.42</td>\n",
       "      <td>28452.35</td>\n",
       "      <td>3.74</td>\n",
       "      <td>...</td>\n",
       "      <td>265021.08</td>\n",
       "      <td>265021.08</td>\n",
       "      <td>4.0</td>\n",
       "      <td>400000.00</td>\n",
       "      <td>2.00</td>\n",
       "      <td>987.40</td>\n",
       "      <td>493.70</td>\n",
       "      <td>4.0</td>\n",
       "      <td>0.0</td>\n",
       "      <td>0.0</td>\n",
       "    </tr>\n",
       "    <tr>\n",
       "      <th>2001-01-02 02:00:00</th>\n",
       "      <td>-11.45</td>\n",
       "      <td>710937.94</td>\n",
       "      <td>61415.11</td>\n",
       "      <td>452612.61</td>\n",
       "      <td>0.0</td>\n",
       "      <td>710937.94</td>\n",
       "      <td>61415.11</td>\n",
       "      <td>81017.76</td>\n",
       "      <td>59355.25</td>\n",
       "      <td>3.74</td>\n",
       "      <td>...</td>\n",
       "      <td>229920.19</td>\n",
       "      <td>229920.19</td>\n",
       "      <td>4.0</td>\n",
       "      <td>400000.00</td>\n",
       "      <td>2.00</td>\n",
       "      <td>2059.85</td>\n",
       "      <td>1029.93</td>\n",
       "      <td>4.0</td>\n",
       "      <td>0.0</td>\n",
       "      <td>0.0</td>\n",
       "    </tr>\n",
       "    <tr>\n",
       "      <th>2001-01-02 03:00:00</th>\n",
       "      <td>-11.70</td>\n",
       "      <td>706407.54</td>\n",
       "      <td>77967.38</td>\n",
       "      <td>432362.67</td>\n",
       "      <td>0.0</td>\n",
       "      <td>706407.54</td>\n",
       "      <td>77967.38</td>\n",
       "      <td>102853.24</td>\n",
       "      <td>75352.37</td>\n",
       "      <td>3.74</td>\n",
       "      <td>...</td>\n",
       "      <td>203554.30</td>\n",
       "      <td>203554.30</td>\n",
       "      <td>4.0</td>\n",
       "      <td>400000.00</td>\n",
       "      <td>2.00</td>\n",
       "      <td>2615.01</td>\n",
       "      <td>1307.51</td>\n",
       "      <td>4.0</td>\n",
       "      <td>0.0</td>\n",
       "      <td>0.0</td>\n",
       "    </tr>\n",
       "    <tr>\n",
       "      <th>2001-01-02 04:00:00</th>\n",
       "      <td>-11.70</td>\n",
       "      <td>704279.20</td>\n",
       "      <td>85794.54</td>\n",
       "      <td>422800.96</td>\n",
       "      <td>0.0</td>\n",
       "      <td>704279.20</td>\n",
       "      <td>85794.54</td>\n",
       "      <td>113178.68</td>\n",
       "      <td>82917.00</td>\n",
       "      <td>3.74</td>\n",
       "      <td>...</td>\n",
       "      <td>191100.51</td>\n",
       "      <td>191100.51</td>\n",
       "      <td>4.0</td>\n",
       "      <td>400000.00</td>\n",
       "      <td>2.00</td>\n",
       "      <td>2877.53</td>\n",
       "      <td>1438.77</td>\n",
       "      <td>4.0</td>\n",
       "      <td>0.0</td>\n",
       "      <td>0.0</td>\n",
       "    </tr>\n",
       "    <tr>\n",
       "      <th>2001-01-02 05:00:00</th>\n",
       "      <td>-11.99</td>\n",
       "      <td>715288.84</td>\n",
       "      <td>89293.77</td>\n",
       "      <td>430487.41</td>\n",
       "      <td>0.0</td>\n",
       "      <td>715288.84</td>\n",
       "      <td>89293.77</td>\n",
       "      <td>117794.82</td>\n",
       "      <td>86298.88</td>\n",
       "      <td>3.74</td>\n",
       "      <td>...</td>\n",
       "      <td>197494.02</td>\n",
       "      <td>197494.02</td>\n",
       "      <td>4.0</td>\n",
       "      <td>400000.00</td>\n",
       "      <td>2.00</td>\n",
       "      <td>2994.90</td>\n",
       "      <td>1497.45</td>\n",
       "      <td>4.0</td>\n",
       "      <td>0.0</td>\n",
       "      <td>0.0</td>\n",
       "    </tr>\n",
       "    <tr>\n",
       "      <th>2001-01-02 06:00:00</th>\n",
       "      <td>-11.91</td>\n",
       "      <td>718766.28</td>\n",
       "      <td>90837.27</td>\n",
       "      <td>432499.01</td>\n",
       "      <td>0.0</td>\n",
       "      <td>718766.28</td>\n",
       "      <td>90837.27</td>\n",
       "      <td>119830.97</td>\n",
       "      <td>87790.60</td>\n",
       "      <td>3.74</td>\n",
       "      <td>...</td>\n",
       "      <td>198935.31</td>\n",
       "      <td>198935.31</td>\n",
       "      <td>4.0</td>\n",
       "      <td>400000.00</td>\n",
       "      <td>2.00</td>\n",
       "      <td>3046.66</td>\n",
       "      <td>1523.33</td>\n",
       "      <td>4.0</td>\n",
       "      <td>0.0</td>\n",
       "      <td>0.0</td>\n",
       "    </tr>\n",
       "  </tbody>\n",
       "</table>\n",
       "<p>30 rows × 32 columns</p>\n",
       "</div>"
      ],
      "text/plain": [
       "                     t_out_C  heating_W  cooling_W    elec_Wh  gas_Wh  \\\n",
       "timestamp                                                               \n",
       "2001-01-01 01:00:00    -4.40  609230.13  127902.41  261212.45     0.0   \n",
       "2001-01-01 02:00:00    -4.40  606900.34  174577.65  279354.26     0.0   \n",
       "2001-01-01 03:00:00    -4.11  604168.53  186763.68  279189.44     0.0   \n",
       "2001-01-01 04:00:00    -3.55  600461.65  199730.65  275763.89     0.0   \n",
       "2001-01-01 05:00:00    -3.30  604703.00  205553.30  280101.50     0.0   \n",
       "2001-01-01 06:00:00    -3.65  607617.81  200142.30  284057.83     0.0   \n",
       "2001-01-01 07:00:00    -4.19  611215.73  191604.12  289143.05     0.0   \n",
       "2001-01-01 08:00:00    -3.76  607994.13  113827.74  248143.57     0.0   \n",
       "2001-01-01 09:00:00    -3.01  546663.14  109587.78  211353.81     0.0   \n",
       "2001-01-01 10:00:00    -2.45  518821.39  125826.58  203553.50     0.0   \n",
       "2001-01-01 11:00:00    -1.56  494195.62  153496.50  201784.54     0.0   \n",
       "2001-01-01 12:00:00    -1.45  487443.57  162364.69  202293.42     0.0   \n",
       "2001-01-01 13:00:00    -1.99  483818.45  153128.01  198775.74     0.0   \n",
       "2001-01-01 14:00:00    -2.84  500469.35  135335.25  201168.25     0.0   \n",
       "2001-01-01 15:00:00    -3.01  496728.78  130178.54  197956.06     0.0   \n",
       "2001-01-01 16:00:00    -2.80  498164.56  135665.91  200188.75     0.0   \n",
       "2001-01-01 17:00:00    -4.08  561067.93   96564.16  224370.74     0.0   \n",
       "2001-01-01 18:00:00    -5.35  597933.37   72222.70  287852.31     0.0   \n",
       "2001-01-01 19:00:00    -5.89  611523.30   62852.74  315142.15     0.0   \n",
       "2001-01-01 20:00:00    -6.45  628074.30   53927.94  345125.12     0.0   \n",
       "2001-01-01 21:00:00    -7.63  651466.86   35797.96  396268.56     0.0   \n",
       "2001-01-01 22:00:00    -8.94  662557.67   15267.33  460496.85     0.0   \n",
       "2001-01-01 23:00:00    -9.75  680094.52    4254.93  479960.33     0.0   \n",
       "2001-01-02 00:00:00   -10.35  701267.36     980.45  501757.59     0.0   \n",
       "2001-01-02 01:00:00   -10.89  703857.50   29439.75  475898.85     0.0   \n",
       "2001-01-02 02:00:00   -11.45  710937.94   61415.11  452612.61     0.0   \n",
       "2001-01-02 03:00:00   -11.70  706407.54   77967.38  432362.67     0.0   \n",
       "2001-01-02 04:00:00   -11.70  704279.20   85794.54  422800.96     0.0   \n",
       "2001-01-02 05:00:00   -11.99  715288.84   89293.77  430487.41     0.0   \n",
       "2001-01-02 06:00:00   -11.91  718766.28   90837.27  432499.01     0.0   \n",
       "\n",
       "                         hhw_W      chw_W   hr_hhw_W   hr_chw_W  hr_cop_h  \\\n",
       "timestamp                                                                   \n",
       "2001-01-01 01:00:00  609230.13  127902.41  146500.00  107328.88      3.74   \n",
       "2001-01-01 02:00:00  606900.34  174577.65  146500.00  107328.88      3.74   \n",
       "2001-01-01 03:00:00  604168.53  186763.68  146500.00  107328.88      3.74   \n",
       "2001-01-01 04:00:00  600461.65  199730.65  146500.00  107328.88      3.74   \n",
       "2001-01-01 05:00:00  604703.00  205553.30  146500.00  107328.88      3.74   \n",
       "2001-01-01 06:00:00  607617.81  200142.30  146500.00  107328.88      3.74   \n",
       "2001-01-01 07:00:00  611215.73  191604.12  146500.00  107328.88      3.74   \n",
       "2001-01-01 08:00:00  607994.13  113827.74  146500.00  107328.88      3.74   \n",
       "2001-01-01 09:00:00  546663.14  109587.78  144566.32  105912.22      3.74   \n",
       "2001-01-01 10:00:00  518821.39  125826.58  146500.00  107328.88      3.74   \n",
       "2001-01-01 11:00:00  494195.62  153496.50  146500.00  107328.88      3.74   \n",
       "2001-01-01 12:00:00  487443.57  162364.69  146500.00  107328.88      3.74   \n",
       "2001-01-01 13:00:00  483818.45  153128.01  146500.00  107328.88      3.74   \n",
       "2001-01-01 14:00:00  500469.35  135335.25  146500.00  107328.88      3.74   \n",
       "2001-01-01 15:00:00  496728.78  130178.54  146500.00  107328.88      3.74   \n",
       "2001-01-01 16:00:00  498164.56  135665.91  146500.00  107328.88      3.74   \n",
       "2001-01-01 17:00:00  561067.93   96564.16  127385.79   93325.42      3.74   \n",
       "2001-01-01 18:00:00  597933.37   72222.70   95274.95   69800.36      3.74   \n",
       "2001-01-01 19:00:00  611523.30   62852.74   82914.25   60744.67      3.74   \n",
       "2001-01-01 20:00:00  628074.30   53927.94   71140.81   52119.20      3.74   \n",
       "2001-01-01 21:00:00  651466.86   35797.96   47224.05   34597.30      3.74   \n",
       "2001-01-01 22:00:00  662557.67   15267.33       0.00       0.00      3.82   \n",
       "2001-01-01 23:00:00  680094.52    4254.93       0.00       0.00      3.82   \n",
       "2001-01-02 00:00:00  701267.36     980.45       0.00       0.00      3.82   \n",
       "2001-01-02 01:00:00  703857.50   29439.75   38836.42   28452.35      3.74   \n",
       "2001-01-02 02:00:00  710937.94   61415.11   81017.76   59355.25      3.74   \n",
       "2001-01-02 03:00:00  706407.54   77967.38  102853.24   75352.37      3.74   \n",
       "2001-01-02 04:00:00  704279.20   85794.54  113178.68   82917.00      3.74   \n",
       "2001-01-02 05:00:00  715288.84   89293.77  117794.82   86298.88      3.74   \n",
       "2001-01-02 06:00:00  718766.28   90837.27  119830.97   87790.60      3.74   \n",
       "\n",
       "                     ...  res_hhw_W  elec_res_Wh  awhp_num_c  awhp_cap_c_W  \\\n",
       "timestamp            ...                                                     \n",
       "2001-01-01 01:00:00  ...   17930.13     17930.13         4.0     444800.00   \n",
       "2001-01-01 02:00:00  ...   15600.34     15600.34         4.0     444800.00   \n",
       "2001-01-01 03:00:00  ...   10535.20     10535.20         4.0     447133.33   \n",
       "2001-01-01 04:00:00  ...    2361.65      2361.65         4.0     451600.00   \n",
       "2001-01-01 05:00:00  ...    4603.00      4603.00         4.0     453600.00   \n",
       "2001-01-01 06:00:00  ...   10317.81     10317.81         4.0     450800.00   \n",
       "2001-01-01 07:00:00  ...   18249.06     18249.06         4.0     446466.67   \n",
       "2001-01-01 08:00:00  ...   11560.79     11560.79         4.0     449933.33   \n",
       "2001-01-01 09:00:00  ...       0.00         0.00         4.0     455933.33   \n",
       "2001-01-01 10:00:00  ...       0.00         0.00         4.0     460400.00   \n",
       "2001-01-01 11:00:00  ...       0.00         0.00         4.0     467533.33   \n",
       "2001-01-01 12:00:00  ...       0.00         0.00         4.0     468400.00   \n",
       "2001-01-01 13:00:00  ...       0.00         0.00         4.0     464066.67   \n",
       "2001-01-01 14:00:00  ...       0.00         0.00         4.0     457266.67   \n",
       "2001-01-01 15:00:00  ...       0.00         0.00         4.0     455933.33   \n",
       "2001-01-01 16:00:00  ...       0.00         0.00         4.0     457600.00   \n",
       "2001-01-01 17:00:00  ...       0.00         0.00         4.0     447333.33   \n",
       "2001-01-01 18:00:00  ...   65458.43     65458.43         4.0     437200.00   \n",
       "2001-01-01 19:00:00  ...   95742.38     95742.38         4.0     432866.67   \n",
       "2001-01-01 20:00:00  ...  128533.48    128533.48         4.0     428400.00   \n",
       "2001-01-01 21:00:00  ...  185309.48    185309.48         4.0     418933.33   \n",
       "2001-01-01 22:00:00  ...  254091.00    254091.00         4.0     408466.67   \n",
       "2001-01-01 23:00:00  ...  278094.52    278094.52         4.0     402000.00   \n",
       "2001-01-02 00:00:00  ...  301267.36    301267.36         4.0     400000.00   \n",
       "2001-01-02 01:00:00  ...  265021.08    265021.08         4.0     400000.00   \n",
       "2001-01-02 02:00:00  ...  229920.19    229920.19         4.0     400000.00   \n",
       "2001-01-02 03:00:00  ...  203554.30    203554.30         4.0     400000.00   \n",
       "2001-01-02 04:00:00  ...  191100.51    191100.51         4.0     400000.00   \n",
       "2001-01-02 05:00:00  ...  197494.02    197494.02         4.0     400000.00   \n",
       "2001-01-02 06:00:00  ...  198935.31    198935.31         4.0     400000.00   \n",
       "\n",
       "                     awhp_cop_c  awhp_chw_W  elec_awhp_c_Wh  chiller_cop  \\\n",
       "timestamp                                                                  \n",
       "2001-01-01 01:00:00        2.28    20573.53         9023.48          4.0   \n",
       "2001-01-01 02:00:00        2.28    67248.77        29495.08          4.0   \n",
       "2001-01-01 03:00:00        2.29    79434.81        34618.40          4.0   \n",
       "2001-01-01 04:00:00        2.32    92401.78        39785.48          4.0   \n",
       "2001-01-01 05:00:00        2.34    98224.42        42066.13          4.0   \n",
       "2001-01-01 06:00:00        2.32    92813.42        40048.94          4.0   \n",
       "2001-01-01 07:00:00        2.29    84275.25        36794.72          4.0   \n",
       "2001-01-01 08:00:00        2.31     6498.86         2810.83          4.0   \n",
       "2001-01-01 09:00:00        2.35     3675.55         1564.34          4.0   \n",
       "2001-01-01 10:00:00        2.38    18497.71         7780.32          4.0   \n",
       "2001-01-01 11:00:00        2.42    46167.62        19061.12          4.0   \n",
       "2001-01-01 12:00:00        2.43    55035.82        22671.81          4.0   \n",
       "2001-01-01 13:00:00        2.40    45799.13        19079.66          4.0   \n",
       "2001-01-01 14:00:00        2.36    28006.37        11877.59          4.0   \n",
       "2001-01-01 15:00:00        2.35    22849.66         9724.98          4.0   \n",
       "2001-01-01 16:00:00        2.36    28337.03        12007.22          4.0   \n",
       "2001-01-01 17:00:00        2.30     3238.74         1410.70          4.0   \n",
       "2001-01-01 18:00:00        2.23     2422.34         1085.03          4.0   \n",
       "2001-01-01 19:00:00        2.21     2108.07          955.86          4.0   \n",
       "2001-01-01 20:00:00        2.18     1808.73          830.65          4.0   \n",
       "2001-01-01 21:00:00        2.12     1200.66          566.79          4.0   \n",
       "2001-01-01 22:00:00        2.05    15267.33         7436.90          4.0   \n",
       "2001-01-01 23:00:00        2.01     4254.93         2114.25          4.0   \n",
       "2001-01-02 00:00:00        2.00      980.45          490.23          4.0   \n",
       "2001-01-02 01:00:00        2.00      987.40          493.70          4.0   \n",
       "2001-01-02 02:00:00        2.00     2059.85         1029.93          4.0   \n",
       "2001-01-02 03:00:00        2.00     2615.01         1307.51          4.0   \n",
       "2001-01-02 04:00:00        2.00     2877.53         1438.77          4.0   \n",
       "2001-01-02 05:00:00        2.00     2994.90         1497.45          4.0   \n",
       "2001-01-02 06:00:00        2.00     3046.66         1523.33          4.0   \n",
       "\n",
       "                     chiller_chw_W  elec_chiller_Wh  \n",
       "timestamp                                            \n",
       "2001-01-01 01:00:00            0.0              0.0  \n",
       "2001-01-01 02:00:00            0.0              0.0  \n",
       "2001-01-01 03:00:00            0.0              0.0  \n",
       "2001-01-01 04:00:00            0.0              0.0  \n",
       "2001-01-01 05:00:00            0.0              0.0  \n",
       "2001-01-01 06:00:00            0.0              0.0  \n",
       "2001-01-01 07:00:00            0.0              0.0  \n",
       "2001-01-01 08:00:00            0.0              0.0  \n",
       "2001-01-01 09:00:00            0.0              0.0  \n",
       "2001-01-01 10:00:00            0.0              0.0  \n",
       "2001-01-01 11:00:00            0.0              0.0  \n",
       "2001-01-01 12:00:00            0.0              0.0  \n",
       "2001-01-01 13:00:00            0.0              0.0  \n",
       "2001-01-01 14:00:00            0.0              0.0  \n",
       "2001-01-01 15:00:00            0.0              0.0  \n",
       "2001-01-01 16:00:00            0.0              0.0  \n",
       "2001-01-01 17:00:00            0.0              0.0  \n",
       "2001-01-01 18:00:00            0.0              0.0  \n",
       "2001-01-01 19:00:00            0.0              0.0  \n",
       "2001-01-01 20:00:00            0.0              0.0  \n",
       "2001-01-01 21:00:00            0.0              0.0  \n",
       "2001-01-01 22:00:00            0.0              0.0  \n",
       "2001-01-01 23:00:00            0.0              0.0  \n",
       "2001-01-02 00:00:00            0.0              0.0  \n",
       "2001-01-02 01:00:00            0.0              0.0  \n",
       "2001-01-02 02:00:00            0.0              0.0  \n",
       "2001-01-02 03:00:00            0.0              0.0  \n",
       "2001-01-02 04:00:00            0.0              0.0  \n",
       "2001-01-02 05:00:00            0.0              0.0  \n",
       "2001-01-02 06:00:00            0.0              0.0  \n",
       "\n",
       "[30 rows x 32 columns]"
      ]
     },
     "execution_count": 7,
     "metadata": {},
     "output_type": "execute_result"
    }
   ],
   "source": [
    "from src.energy import loads_to_site_energy\n",
    "\n",
    "site_energy = loads_to_site_energy(load_data, library, settings.equipment_scenario, detail=True)\n",
    "\n",
    "site_energy.head(30)\n"
   ]
  },
  {
   "cell_type": "code",
   "execution_count": 8,
   "id": "d781e1f9",
   "metadata": {},
   "outputs": [
    {
     "data": {
      "application/vnd.microsoft.datawrangler.viewer.v0+json": {
       "columns": [
        {
         "name": "timestamp",
         "rawType": "datetime64[ns]",
         "type": "datetime"
        },
        {
         "name": "t_out_C",
         "rawType": "float64",
         "type": "float"
        },
        {
         "name": "heating_W",
         "rawType": "float64",
         "type": "float"
        },
        {
         "name": "cooling_W",
         "rawType": "float64",
         "type": "float"
        },
        {
         "name": "elec_Wh",
         "rawType": "float64",
         "type": "float"
        },
        {
         "name": "gas_Wh",
         "rawType": "float64",
         "type": "float"
        },
        {
         "name": "hhw_W",
         "rawType": "float64",
         "type": "float"
        },
        {
         "name": "chw_W",
         "rawType": "float64",
         "type": "float"
        },
        {
         "name": "hr_hhw_W",
         "rawType": "float64",
         "type": "float"
        },
        {
         "name": "hr_chw_W",
         "rawType": "float64",
         "type": "float"
        },
        {
         "name": "hr_cop_h",
         "rawType": "float64",
         "type": "float"
        },
        {
         "name": "max_cap_h_hr_W",
         "rawType": "float64",
         "type": "float"
        },
        {
         "name": "min_cap_h_hr_W",
         "rawType": "float64",
         "type": "float"
        },
        {
         "name": "simult_h_hr_W",
         "rawType": "float64",
         "type": "float"
        },
        {
         "name": "elec_hr_Wh",
         "rawType": "float64",
         "type": "float"
        },
        {
         "name": "awhp_num_h",
         "rawType": "float64",
         "type": "float"
        },
        {
         "name": "awhp_cap_h_W",
         "rawType": "float64",
         "type": "float"
        },
        {
         "name": "awhp_cop_h",
         "rawType": "float64",
         "type": "float"
        },
        {
         "name": "awhp_hhw_W",
         "rawType": "float64",
         "type": "float"
        },
        {
         "name": "elec_awhp_h_Wh",
         "rawType": "float64",
         "type": "float"
        },
        {
         "name": "boiler_eff",
         "rawType": "float64",
         "type": "float"
        },
        {
         "name": "boiler_hhw_W",
         "rawType": "float64",
         "type": "float"
        },
        {
         "name": "gas_boiler_Wh",
         "rawType": "float64",
         "type": "float"
        },
        {
         "name": "res_hhw_W",
         "rawType": "float64",
         "type": "float"
        },
        {
         "name": "elec_res_Wh",
         "rawType": "float64",
         "type": "float"
        },
        {
         "name": "awhp_num_c",
         "rawType": "float64",
         "type": "float"
        },
        {
         "name": "awhp_cap_c_W",
         "rawType": "float64",
         "type": "float"
        },
        {
         "name": "awhp_cop_c",
         "rawType": "float64",
         "type": "float"
        },
        {
         "name": "awhp_chw_W",
         "rawType": "float64",
         "type": "float"
        },
        {
         "name": "elec_awhp_c_Wh",
         "rawType": "float64",
         "type": "float"
        },
        {
         "name": "chiller_cop",
         "rawType": "float64",
         "type": "float"
        },
        {
         "name": "chiller_chw_W",
         "rawType": "float64",
         "type": "float"
        },
        {
         "name": "elec_chiller_Wh",
         "rawType": "float64",
         "type": "float"
        },
        {
         "name": "elec_emissions_rate",
         "rawType": "float64",
         "type": "float"
        },
        {
         "name": "emission_year",
         "rawType": "int64",
         "type": "integer"
        },
        {
         "name": "elec_emissions",
         "rawType": "float64",
         "type": "float"
        },
        {
         "name": "gas_emissions",
         "rawType": "float64",
         "type": "float"
        },
        {
         "name": "total_refrig_emissions",
         "rawType": "float64",
         "type": "float"
        },
        {
         "name": "year",
         "rawType": "int64",
         "type": "integer"
        }
       ],
       "ref": "24d47bec-15a5-4920-a8ed-1f7546581453",
       "rows": [
        [
         "2025-01-01 01:00:00",
         "-4.4",
         "609230.13",
         "127902.41",
         "261212.45",
         "0.0",
         "609230.13",
         "127902.41",
         "146500.0",
         "107328.88",
         "3.74",
         "146500.0",
         "36625.0",
         "168726.67",
         "39171.12",
         "4.0",
         "444800.0",
         "2.28",
         "444800.0",
         "195087.72",
         null,
         null,
         null,
         "17930.13",
         "17930.13",
         "4.0",
         "444800.0",
         "2.28",
         "20573.53",
         "9023.48",
         "4.0",
         "0.0",
         "0.0",
         "374.15",
         "2025",
         "97.7326381675",
         "0.0",
         "0.0",
         "2025"
        ],
        [
         "2025-01-01 02:00:00",
         "-4.4",
         "606900.34",
         "174577.65",
         "279354.26",
         "0.0",
         "606900.34",
         "174577.65",
         "146500.0",
         "107328.88",
         "3.74",
         "146500.0",
         "36625.0",
         "230299.85",
         "39171.12",
         "4.0",
         "444800.0",
         "2.28",
         "444800.0",
         "195087.72",
         null,
         null,
         null,
         "15600.34",
         "15600.34",
         "4.0",
         "444800.0",
         "2.28",
         "67248.77",
         "29495.08",
         "4.0",
         "0.0",
         "0.0",
         "372.55",
         "2025",
         "104.073429563",
         "0.0",
         "0.0",
         "2025"
        ],
        [
         "2025-01-01 03:00:00",
         "-4.11",
         "604168.53",
         "186763.68",
         "279189.44",
         "0.0",
         "604168.53",
         "186763.68",
         "146500.0",
         "107328.88",
         "3.74",
         "146500.0",
         "36625.0",
         "246375.46",
         "39171.12",
         "4.0",
         "447133.33",
         "2.29",
         "447133.33",
         "194864.72",
         null,
         null,
         null,
         "10535.2",
         "10535.2",
         "4.0",
         "447133.33",
         "2.29",
         "79434.81",
         "34618.4",
         "4.0",
         "0.0",
         "0.0",
         "356.75",
         "2025",
         "99.60083272",
         "0.0",
         "0.0",
         "2025"
        ],
        [
         "2025-01-01 04:00:00",
         "-3.55",
         "600461.65",
         "199730.65",
         "275763.89",
         "0.0",
         "600461.65",
         "199730.65",
         "146500.0",
         "107328.88",
         "3.74",
         "146500.0",
         "36625.0",
         "263481.26",
         "39171.12",
         "4.0",
         "451600.0",
         "2.32",
         "451600.0",
         "194445.64",
         null,
         null,
         null,
         "2361.65",
         "2361.65",
         "4.0",
         "451600.0",
         "2.32",
         "92401.78",
         "39785.48",
         "4.0",
         "0.0",
         "0.0",
         "350.35",
         "2025",
         "96.61387886150001",
         "0.0",
         "0.0",
         "2025"
        ],
        [
         "2025-01-01 05:00:00",
         "-3.3",
         "604703.0",
         "205553.3",
         "280101.5",
         "0.0",
         "604703.0",
         "205553.3",
         "146500.0",
         "107328.88",
         "3.74",
         "146500.0",
         "36625.0",
         "271162.4",
         "39171.12",
         "4.0",
         "453600.0",
         "2.34",
         "453600.0",
         "194261.24",
         null,
         null,
         null,
         "4603.0",
         "4603.0",
         "4.0",
         "453600.0",
         "2.34",
         "98224.42",
         "42066.13",
         "4.0",
         "0.0",
         "0.0",
         "375.3",
         "2025",
         "105.12209295000001",
         "0.0",
         "0.0",
         "2025"
        ],
        [
         "2025-01-01 06:00:00",
         "-3.65",
         "607617.81",
         "200142.3",
         "284057.83",
         "0.0",
         "607617.81",
         "200142.3",
         "146500.0",
         "107328.88",
         "3.74",
         "146500.0",
         "36625.0",
         "264024.29",
         "39171.12",
         "4.0",
         "450800.0",
         "2.32",
         "450800.0",
         "194519.96",
         null,
         null,
         null,
         "10317.81",
         "10317.81",
         "4.0",
         "450800.0",
         "2.32",
         "92813.42",
         "40048.94",
         "4.0",
         "0.0",
         "0.0",
         "449.6",
         "2025",
         "127.71240036800002",
         "0.0",
         "0.0",
         "2025"
        ],
        [
         "2025-01-01 07:00:00",
         "-4.19",
         "611215.73",
         "191604.12",
         "289143.05",
         "0.0",
         "611215.73",
         "191604.12",
         "146500.0",
         "107328.88",
         "3.74",
         "146500.0",
         "36625.0",
         "252760.88",
         "39171.12",
         "4.0",
         "446466.67",
         "2.29",
         "446466.67",
         "194928.14",
         null,
         null,
         null,
         "18249.06",
         "18249.06",
         "4.0",
         "446466.67",
         "2.29",
         "84275.25",
         "36794.72",
         "4.0",
         "0.0",
         "0.0",
         "456.2",
         "2025",
         "131.90705941",
         "0.0",
         "0.0",
         "2025"
        ],
        [
         "2025-01-01 08:00:00",
         "-3.76",
         "607994.13",
         "113827.74",
         "248143.57",
         "0.0",
         "607994.13",
         "113827.74",
         "146500.0",
         "107328.88",
         "3.74",
         "146500.0",
         "36625.0",
         "150159.61",
         "39171.12",
         "4.0",
         "449933.33",
         "2.31",
         "449933.33",
         "194600.83",
         null,
         null,
         null,
         "11560.79",
         "11560.79",
         "4.0",
         "449933.33",
         "2.31",
         "6498.86",
         "2810.83",
         "4.0",
         "0.0",
         "0.0",
         "441.55",
         "2025",
         "109.5677933335",
         "0.0",
         "0.0",
         "2025"
        ],
        [
         "2025-01-01 09:00:00",
         "-3.01",
         "546663.14",
         "109587.78",
         "211353.81",
         "0.0",
         "546663.14",
         "109587.78",
         "144566.32",
         "105912.22",
         "3.74",
         "146500.0",
         "36625.0",
         "144566.32",
         "38654.1",
         "4.0",
         "455933.33",
         "2.35",
         "402096.82",
         "171135.37",
         null,
         null,
         null,
         "0.0",
         "0.0",
         "4.0",
         "455933.33",
         "2.35",
         "3675.55",
         "1564.34",
         "4.0",
         "0.0",
         "0.0",
         "404.05",
         "2025",
         "85.3975069305",
         "0.0",
         "0.0",
         "2025"
        ],
        [
         "2025-01-01 10:00:00",
         "-2.45",
         "518821.39",
         "125826.58",
         "203553.5",
         "0.0",
         "518821.39",
         "125826.58",
         "146500.0",
         "107328.88",
         "3.74",
         "146500.0",
         "36625.0",
         "165988.28",
         "39171.12",
         "4.0",
         "460400.0",
         "2.38",
         "372321.39",
         "156602.06",
         null,
         null,
         null,
         "0.0",
         "0.0",
         "4.0",
         "460400.0",
         "2.38",
         "18497.71",
         "7780.32",
         "4.0",
         "0.0",
         "0.0",
         "417.45",
         "2025",
         "84.97340857500001",
         "0.0",
         "0.0",
         "2025"
        ],
        [
         "2025-01-01 11:00:00",
         "-1.56",
         "494195.62",
         "153496.5",
         "201784.54",
         "0.0",
         "494195.62",
         "153496.5",
         "146500.0",
         "107328.88",
         "3.74",
         "146500.0",
         "36625.0",
         "202489.95",
         "39171.12",
         "4.0",
         "467533.33",
         "2.42",
         "347695.62",
         "143552.29",
         null,
         null,
         null,
         "0.0",
         "0.0",
         "4.0",
         "467533.33",
         "2.42",
         "46167.62",
         "19061.12",
         "4.0",
         "0.0",
         "0.0",
         "429.35",
         "2025",
         "86.63619224900002",
         "0.0",
         "0.0",
         "2025"
        ],
        [
         "2025-01-01 12:00:00",
         "-1.45",
         "487443.57",
         "162364.69",
         "202293.42",
         "0.0",
         "487443.57",
         "162364.69",
         "146500.0",
         "107328.88",
         "3.74",
         "146500.0",
         "36625.0",
         "214188.73",
         "39171.12",
         "4.0",
         "468400.0",
         "2.43",
         "340943.57",
         "140450.49",
         null,
         null,
         null,
         "0.0",
         "0.0",
         "4.0",
         "468400.0",
         "2.43",
         "55035.82",
         "22671.81",
         "4.0",
         "0.0",
         "0.0",
         "386.7",
         "2025",
         "78.226865514",
         "0.0",
         "0.0",
         "2025"
        ],
        [
         "2025-01-01 13:00:00",
         "-1.99",
         "483818.45",
         "153128.01",
         "198775.74",
         "0.0",
         "483818.45",
         "153128.01",
         "146500.0",
         "107328.88",
         "3.74",
         "146500.0",
         "36625.0",
         "202003.85",
         "39171.12",
         "4.0",
         "464066.67",
         "2.4",
         "337318.45",
         "140524.96",
         null,
         null,
         null,
         "0.0",
         "0.0",
         "4.0",
         "464066.67",
         "2.4",
         "45799.13",
         "19079.66",
         "4.0",
         "0.0",
         "0.0",
         "397.15",
         "2025",
         "78.94378514099999",
         "0.0",
         "0.0",
         "2025"
        ],
        [
         "2025-01-01 14:00:00",
         "-2.84",
         "500469.35",
         "135335.25",
         "201168.25",
         "0.0",
         "500469.35",
         "135335.25",
         "146500.0",
         "107328.88",
         "3.74",
         "146500.0",
         "36625.0",
         "178531.95",
         "39171.12",
         "4.0",
         "457266.67",
         "2.36",
         "353969.35",
         "150119.54",
         null,
         null,
         null,
         "0.0",
         "0.0",
         "4.0",
         "457266.67",
         "2.36",
         "28006.37",
         "11877.59",
         "4.0",
         "0.0",
         "0.0",
         "386.3",
         "2025",
         "77.71129497500002",
         "0.0",
         "0.0",
         "2025"
        ],
        [
         "2025-01-01 15:00:00",
         "-3.01",
         "496728.78",
         "130178.54",
         "197956.06",
         "0.0",
         "496728.78",
         "130178.54",
         "146500.0",
         "107328.88",
         "3.74",
         "146500.0",
         "36625.0",
         "171729.3",
         "39171.12",
         "4.0",
         "455933.33",
         "2.35",
         "350228.78",
         "149059.95",
         null,
         null,
         null,
         "0.0",
         "0.0",
         "4.0",
         "455933.33",
         "2.35",
         "22849.66",
         "9724.98",
         "4.0",
         "0.0",
         "0.0",
         "393.4",
         "2025",
         "77.875914004",
         "0.0",
         "0.0",
         "2025"
        ],
        [
         "2025-01-01 16:00:00",
         "-2.8",
         "498164.56",
         "135665.91",
         "200188.75",
         "0.0",
         "498164.56",
         "135665.91",
         "146500.0",
         "107328.88",
         "3.74",
         "146500.0",
         "36625.0",
         "178968.14",
         "39171.12",
         "4.0",
         "457600.0",
         "2.36",
         "351664.56",
         "149010.41",
         null,
         null,
         null,
         "0.0",
         "0.0",
         "4.0",
         "457600.0",
         "2.36",
         "28337.03",
         "12007.22",
         "4.0",
         "0.0",
         "0.0",
         "439.4",
         "2025",
         "87.96293675",
         "0.0",
         "0.0",
         "2025"
        ],
        [
         "2025-01-01 17:00:00",
         "-4.08",
         "561067.93",
         "96564.16",
         "224370.74",
         "0.0",
         "561067.93",
         "96564.16",
         "127385.79",
         "93325.42",
         "3.74",
         "146500.0",
         "36625.0",
         "127385.79",
         "34060.37",
         "4.0",
         "447333.33",
         "2.3",
         "433682.14",
         "188899.66",
         null,
         null,
         null,
         "0.0",
         "0.0",
         "4.0",
         "447333.33",
         "2.3",
         "3238.74",
         "1410.7",
         "4.0",
         "0.0",
         "0.0",
         "495.0",
         "2025",
         "111.0635163",
         "0.0",
         "0.0",
         "2025"
        ],
        [
         "2025-01-01 18:00:00",
         "-5.35",
         "597933.37",
         "72222.7",
         "287852.31",
         "0.0",
         "597933.37",
         "72222.7",
         "95274.95",
         "69800.36",
         "3.74",
         "146500.0",
         "36625.0",
         "95274.95",
         "25474.58",
         "4.0",
         "437200.0",
         "2.23",
         "437200.0",
         "195834.27",
         null,
         null,
         null,
         "65458.43",
         "65458.43",
         "4.0",
         "437200.0",
         "2.23",
         "2422.34",
         "1085.03",
         "4.0",
         "0.0",
         "0.0",
         "500.54999999999995",
         "2025",
         "144.08447377049998",
         "0.0",
         "0.0",
         "2025"
        ],
        [
         "2025-01-01 19:00:00",
         "-5.89",
         "611523.3",
         "62852.74",
         "315142.15",
         "0.0",
         "611523.3",
         "62852.74",
         "82914.25",
         "60744.67",
         "3.74",
         "146500.0",
         "36625.0",
         "82914.25",
         "22169.59",
         "4.0",
         "432866.67",
         "2.21",
         "432866.67",
         "196274.32",
         null,
         null,
         null,
         "95742.38",
         "95742.38",
         "4.0",
         "432866.67",
         "2.21",
         "2108.07",
         "955.86",
         "4.0",
         "0.0",
         "0.0",
         "465.25",
         "2025",
         "146.6198852875",
         "0.0",
         "0.0",
         "2025"
        ],
        [
         "2025-01-01 20:00:00",
         "-6.45",
         "628074.3",
         "53927.94",
         "345125.12",
         "0.0",
         "628074.3",
         "53927.94",
         "71140.81",
         "52119.2",
         "3.74",
         "146500.0",
         "36625.0",
         "71140.81",
         "19021.61",
         "4.0",
         "428400.0",
         "2.18",
         "428400.0",
         "196739.38",
         null,
         null,
         null,
         "128533.48",
         "128533.48",
         "4.0",
         "428400.0",
         "2.18",
         "1808.73",
         "830.65",
         "4.0",
         "0.0",
         "0.0",
         "423.6",
         "2025",
         "146.195000832",
         "0.0",
         "0.0",
         "2025"
        ],
        [
         "2025-01-01 21:00:00",
         "-7.63",
         "651466.86",
         "35797.96",
         "396268.56",
         "0.0",
         "651466.86",
         "35797.96",
         "47224.05",
         "34597.3",
         "3.74",
         "146500.0",
         "36625.0",
         "47224.05",
         "12626.75",
         "4.0",
         "418933.33",
         "2.12",
         "418933.33",
         "197765.54",
         null,
         null,
         null,
         "185309.48",
         "185309.48",
         "4.0",
         "418933.33",
         "2.12",
         "1200.66",
         "566.79",
         "4.0",
         "0.0",
         "0.0",
         "414.1",
         "2025",
         "164.094810696",
         "0.0",
         "0.0",
         "2025"
        ],
        [
         "2025-01-01 22:00:00",
         "-8.94",
         "662557.67",
         "15267.33",
         "460496.85",
         "0.0",
         "662557.67",
         "15267.33",
         "0.0",
         "0.0",
         "3.82",
         "146500.0",
         "36625.0",
         "20140.41",
         "0.0",
         "4.0",
         "408466.67",
         "2.05",
         "408466.67",
         "198968.95",
         null,
         null,
         null,
         "254091.0",
         "254091.0",
         "4.0",
         "408466.67",
         "2.05",
         "15267.33",
         "7436.9",
         "4.0",
         "0.0",
         "0.0",
         "429.55",
         "2025",
         "197.8064219175",
         "0.0",
         "0.0",
         "2025"
        ],
        [
         "2025-01-01 23:00:00",
         "-9.75",
         "680094.52",
         "4254.93",
         "479960.33",
         "0.0",
         "680094.52",
         "4254.93",
         "0.0",
         "0.0",
         "3.82",
         "146500.0",
         "36625.0",
         "5613.03",
         "0.0",
         "4.0",
         "402000.0",
         "2.01",
         "402000.0",
         "199751.55",
         null,
         null,
         null,
         "278094.52",
         "278094.52",
         "4.0",
         "402000.0",
         "2.01",
         "4254.93",
         "2114.25",
         "4.0",
         "0.0",
         "0.0",
         "434.15000000000003",
         "2025",
         "208.37477726950002",
         "0.0",
         "0.0",
         "2025"
        ],
        [
         "2025-01-02 00:00:00",
         "-10.35",
         "701267.36",
         "980.45",
         "501757.59",
         "0.0",
         "701267.36",
         "980.45",
         "0.0",
         "0.0",
         "3.82",
         "146500.0",
         "36625.0",
         "1293.39",
         "0.0",
         "4.0",
         "400000.0",
         "2.0",
         "400000.0",
         "200000.0",
         null,
         null,
         null,
         "301267.36",
         "301267.36",
         "4.0",
         "400000.0",
         "2.0",
         "980.45",
         "490.23",
         "4.0",
         "0.0",
         "0.0",
         "381.65",
         "2025",
         "191.49578422349998",
         "0.0",
         "0.0",
         "2025"
        ],
        [
         "2025-01-02 01:00:00",
         "-10.89",
         "703857.5",
         "29439.75",
         "475898.85",
         "0.0",
         "703857.5",
         "29439.75",
         "38836.42",
         "28452.35",
         "3.74",
         "146500.0",
         "36625.0",
         "38836.42",
         "10384.07",
         "4.0",
         "400000.0",
         "2.0",
         "400000.0",
         "200000.0",
         null,
         null,
         null,
         "265021.08",
         "265021.08",
         "4.0",
         "400000.0",
         "2.0",
         "987.4",
         "493.7",
         "4.0",
         "0.0",
         "0.0",
         "374.15",
         "2025",
         "178.0575547275",
         "0.0",
         "0.0",
         "2025"
        ],
        [
         "2025-01-02 02:00:00",
         "-11.45",
         "710937.94",
         "61415.11",
         "452612.61",
         "0.0",
         "710937.94",
         "61415.11",
         "81017.76",
         "59355.25",
         "3.74",
         "146500.0",
         "36625.0",
         "81017.76",
         "21662.5",
         "4.0",
         "400000.0",
         "2.0",
         "400000.0",
         "200000.0",
         null,
         null,
         null,
         "229920.19",
         "229920.19",
         "4.0",
         "400000.0",
         "2.0",
         "2059.85",
         "1029.93",
         "4.0",
         "0.0",
         "0.0",
         "372.55",
         "2025",
         "168.6208278555",
         "0.0",
         "0.0",
         "2025"
        ],
        [
         "2025-01-02 03:00:00",
         "-11.7",
         "706407.54",
         "77967.38",
         "432362.67",
         "0.0",
         "706407.54",
         "77967.38",
         "102853.24",
         "75352.37",
         "3.74",
         "146500.0",
         "36625.0",
         "102853.24",
         "27500.87",
         "4.0",
         "400000.0",
         "2.0",
         "400000.0",
         "200000.0",
         null,
         null,
         null,
         "203554.3",
         "203554.3",
         "4.0",
         "400000.0",
         "2.0",
         "2615.01",
         "1307.51",
         "4.0",
         "0.0",
         "0.0",
         "356.75",
         "2025",
         "154.2453825225",
         "0.0",
         "0.0",
         "2025"
        ],
        [
         "2025-01-02 04:00:00",
         "-11.7",
         "704279.2",
         "85794.54",
         "422800.96",
         "0.0",
         "704279.2",
         "85794.54",
         "113178.68",
         "82917.0",
         "3.74",
         "146500.0",
         "36625.0",
         "113178.68",
         "30261.68",
         "4.0",
         "400000.0",
         "2.0",
         "400000.0",
         "200000.0",
         null,
         null,
         null,
         "191100.51",
         "191100.51",
         "4.0",
         "400000.0",
         "2.0",
         "2877.53",
         "1438.77",
         "4.0",
         "0.0",
         "0.0",
         "350.35",
         "2025",
         "148.128316336",
         "0.0",
         "0.0",
         "2025"
        ],
        [
         "2025-01-02 05:00:00",
         "-11.99",
         "715288.84",
         "89293.77",
         "430487.41",
         "0.0",
         "715288.84",
         "89293.77",
         "117794.82",
         "86298.88",
         "3.74",
         "146500.0",
         "36625.0",
         "117794.82",
         "31495.94",
         "4.0",
         "400000.0",
         "2.0",
         "400000.0",
         "200000.0",
         null,
         null,
         null,
         "197494.02",
         "197494.02",
         "4.0",
         "400000.0",
         "2.0",
         "2994.9",
         "1497.45",
         "4.0",
         "0.0",
         "0.0",
         "375.3",
         "2025",
         "161.561924973",
         "0.0",
         "0.0",
         "2025"
        ],
        [
         "2025-01-02 06:00:00",
         "-11.91",
         "718766.28",
         "90837.27",
         "432499.01",
         "0.0",
         "718766.28",
         "90837.27",
         "119830.97",
         "87790.6",
         "3.74",
         "146500.0",
         "36625.0",
         "119830.97",
         "32040.37",
         "4.0",
         "400000.0",
         "2.0",
         "400000.0",
         "200000.0",
         null,
         null,
         null,
         "198935.31",
         "198935.31",
         "4.0",
         "400000.0",
         "2.0",
         "3046.66",
         "1523.33",
         "4.0",
         "0.0",
         "0.0",
         "449.6",
         "2025",
         "194.45155489600003",
         "0.0",
         "0.0",
         "2025"
        ]
       ],
       "shape": {
        "columns": 38,
        "rows": 30
       }
      },
      "text/html": [
       "<div>\n",
       "<style scoped>\n",
       "    .dataframe tbody tr th:only-of-type {\n",
       "        vertical-align: middle;\n",
       "    }\n",
       "\n",
       "    .dataframe tbody tr th {\n",
       "        vertical-align: top;\n",
       "    }\n",
       "\n",
       "    .dataframe thead th {\n",
       "        text-align: right;\n",
       "    }\n",
       "</style>\n",
       "<table border=\"1\" class=\"dataframe\">\n",
       "  <thead>\n",
       "    <tr style=\"text-align: right;\">\n",
       "      <th></th>\n",
       "      <th>t_out_C</th>\n",
       "      <th>heating_W</th>\n",
       "      <th>cooling_W</th>\n",
       "      <th>elec_Wh</th>\n",
       "      <th>gas_Wh</th>\n",
       "      <th>hhw_W</th>\n",
       "      <th>chw_W</th>\n",
       "      <th>hr_hhw_W</th>\n",
       "      <th>hr_chw_W</th>\n",
       "      <th>hr_cop_h</th>\n",
       "      <th>...</th>\n",
       "      <th>elec_awhp_c_Wh</th>\n",
       "      <th>chiller_cop</th>\n",
       "      <th>chiller_chw_W</th>\n",
       "      <th>elec_chiller_Wh</th>\n",
       "      <th>elec_emissions_rate</th>\n",
       "      <th>emission_year</th>\n",
       "      <th>elec_emissions</th>\n",
       "      <th>gas_emissions</th>\n",
       "      <th>total_refrig_emissions</th>\n",
       "      <th>year</th>\n",
       "    </tr>\n",
       "    <tr>\n",
       "      <th>timestamp</th>\n",
       "      <th></th>\n",
       "      <th></th>\n",
       "      <th></th>\n",
       "      <th></th>\n",
       "      <th></th>\n",
       "      <th></th>\n",
       "      <th></th>\n",
       "      <th></th>\n",
       "      <th></th>\n",
       "      <th></th>\n",
       "      <th></th>\n",
       "      <th></th>\n",
       "      <th></th>\n",
       "      <th></th>\n",
       "      <th></th>\n",
       "      <th></th>\n",
       "      <th></th>\n",
       "      <th></th>\n",
       "      <th></th>\n",
       "      <th></th>\n",
       "      <th></th>\n",
       "    </tr>\n",
       "  </thead>\n",
       "  <tbody>\n",
       "    <tr>\n",
       "      <th>2025-01-01 01:00:00</th>\n",
       "      <td>-4.40</td>\n",
       "      <td>609230.13</td>\n",
       "      <td>127902.41</td>\n",
       "      <td>261212.45</td>\n",
       "      <td>0.0</td>\n",
       "      <td>609230.13</td>\n",
       "      <td>127902.41</td>\n",
       "      <td>146500.00</td>\n",
       "      <td>107328.88</td>\n",
       "      <td>3.74</td>\n",
       "      <td>...</td>\n",
       "      <td>9023.48</td>\n",
       "      <td>4.0</td>\n",
       "      <td>0.0</td>\n",
       "      <td>0.0</td>\n",
       "      <td>374.15</td>\n",
       "      <td>2025</td>\n",
       "      <td>97.732638</td>\n",
       "      <td>0.0</td>\n",
       "      <td>0.0</td>\n",
       "      <td>2025</td>\n",
       "    </tr>\n",
       "    <tr>\n",
       "      <th>2025-01-01 02:00:00</th>\n",
       "      <td>-4.40</td>\n",
       "      <td>606900.34</td>\n",
       "      <td>174577.65</td>\n",
       "      <td>279354.26</td>\n",
       "      <td>0.0</td>\n",
       "      <td>606900.34</td>\n",
       "      <td>174577.65</td>\n",
       "      <td>146500.00</td>\n",
       "      <td>107328.88</td>\n",
       "      <td>3.74</td>\n",
       "      <td>...</td>\n",
       "      <td>29495.08</td>\n",
       "      <td>4.0</td>\n",
       "      <td>0.0</td>\n",
       "      <td>0.0</td>\n",
       "      <td>372.55</td>\n",
       "      <td>2025</td>\n",
       "      <td>104.073430</td>\n",
       "      <td>0.0</td>\n",
       "      <td>0.0</td>\n",
       "      <td>2025</td>\n",
       "    </tr>\n",
       "    <tr>\n",
       "      <th>2025-01-01 03:00:00</th>\n",
       "      <td>-4.11</td>\n",
       "      <td>604168.53</td>\n",
       "      <td>186763.68</td>\n",
       "      <td>279189.44</td>\n",
       "      <td>0.0</td>\n",
       "      <td>604168.53</td>\n",
       "      <td>186763.68</td>\n",
       "      <td>146500.00</td>\n",
       "      <td>107328.88</td>\n",
       "      <td>3.74</td>\n",
       "      <td>...</td>\n",
       "      <td>34618.40</td>\n",
       "      <td>4.0</td>\n",
       "      <td>0.0</td>\n",
       "      <td>0.0</td>\n",
       "      <td>356.75</td>\n",
       "      <td>2025</td>\n",
       "      <td>99.600833</td>\n",
       "      <td>0.0</td>\n",
       "      <td>0.0</td>\n",
       "      <td>2025</td>\n",
       "    </tr>\n",
       "    <tr>\n",
       "      <th>2025-01-01 04:00:00</th>\n",
       "      <td>-3.55</td>\n",
       "      <td>600461.65</td>\n",
       "      <td>199730.65</td>\n",
       "      <td>275763.89</td>\n",
       "      <td>0.0</td>\n",
       "      <td>600461.65</td>\n",
       "      <td>199730.65</td>\n",
       "      <td>146500.00</td>\n",
       "      <td>107328.88</td>\n",
       "      <td>3.74</td>\n",
       "      <td>...</td>\n",
       "      <td>39785.48</td>\n",
       "      <td>4.0</td>\n",
       "      <td>0.0</td>\n",
       "      <td>0.0</td>\n",
       "      <td>350.35</td>\n",
       "      <td>2025</td>\n",
       "      <td>96.613879</td>\n",
       "      <td>0.0</td>\n",
       "      <td>0.0</td>\n",
       "      <td>2025</td>\n",
       "    </tr>\n",
       "    <tr>\n",
       "      <th>2025-01-01 05:00:00</th>\n",
       "      <td>-3.30</td>\n",
       "      <td>604703.00</td>\n",
       "      <td>205553.30</td>\n",
       "      <td>280101.50</td>\n",
       "      <td>0.0</td>\n",
       "      <td>604703.00</td>\n",
       "      <td>205553.30</td>\n",
       "      <td>146500.00</td>\n",
       "      <td>107328.88</td>\n",
       "      <td>3.74</td>\n",
       "      <td>...</td>\n",
       "      <td>42066.13</td>\n",
       "      <td>4.0</td>\n",
       "      <td>0.0</td>\n",
       "      <td>0.0</td>\n",
       "      <td>375.30</td>\n",
       "      <td>2025</td>\n",
       "      <td>105.122093</td>\n",
       "      <td>0.0</td>\n",
       "      <td>0.0</td>\n",
       "      <td>2025</td>\n",
       "    </tr>\n",
       "    <tr>\n",
       "      <th>2025-01-01 06:00:00</th>\n",
       "      <td>-3.65</td>\n",
       "      <td>607617.81</td>\n",
       "      <td>200142.30</td>\n",
       "      <td>284057.83</td>\n",
       "      <td>0.0</td>\n",
       "      <td>607617.81</td>\n",
       "      <td>200142.30</td>\n",
       "      <td>146500.00</td>\n",
       "      <td>107328.88</td>\n",
       "      <td>3.74</td>\n",
       "      <td>...</td>\n",
       "      <td>40048.94</td>\n",
       "      <td>4.0</td>\n",
       "      <td>0.0</td>\n",
       "      <td>0.0</td>\n",
       "      <td>449.60</td>\n",
       "      <td>2025</td>\n",
       "      <td>127.712400</td>\n",
       "      <td>0.0</td>\n",
       "      <td>0.0</td>\n",
       "      <td>2025</td>\n",
       "    </tr>\n",
       "    <tr>\n",
       "      <th>2025-01-01 07:00:00</th>\n",
       "      <td>-4.19</td>\n",
       "      <td>611215.73</td>\n",
       "      <td>191604.12</td>\n",
       "      <td>289143.05</td>\n",
       "      <td>0.0</td>\n",
       "      <td>611215.73</td>\n",
       "      <td>191604.12</td>\n",
       "      <td>146500.00</td>\n",
       "      <td>107328.88</td>\n",
       "      <td>3.74</td>\n",
       "      <td>...</td>\n",
       "      <td>36794.72</td>\n",
       "      <td>4.0</td>\n",
       "      <td>0.0</td>\n",
       "      <td>0.0</td>\n",
       "      <td>456.20</td>\n",
       "      <td>2025</td>\n",
       "      <td>131.907059</td>\n",
       "      <td>0.0</td>\n",
       "      <td>0.0</td>\n",
       "      <td>2025</td>\n",
       "    </tr>\n",
       "    <tr>\n",
       "      <th>2025-01-01 08:00:00</th>\n",
       "      <td>-3.76</td>\n",
       "      <td>607994.13</td>\n",
       "      <td>113827.74</td>\n",
       "      <td>248143.57</td>\n",
       "      <td>0.0</td>\n",
       "      <td>607994.13</td>\n",
       "      <td>113827.74</td>\n",
       "      <td>146500.00</td>\n",
       "      <td>107328.88</td>\n",
       "      <td>3.74</td>\n",
       "      <td>...</td>\n",
       "      <td>2810.83</td>\n",
       "      <td>4.0</td>\n",
       "      <td>0.0</td>\n",
       "      <td>0.0</td>\n",
       "      <td>441.55</td>\n",
       "      <td>2025</td>\n",
       "      <td>109.567793</td>\n",
       "      <td>0.0</td>\n",
       "      <td>0.0</td>\n",
       "      <td>2025</td>\n",
       "    </tr>\n",
       "    <tr>\n",
       "      <th>2025-01-01 09:00:00</th>\n",
       "      <td>-3.01</td>\n",
       "      <td>546663.14</td>\n",
       "      <td>109587.78</td>\n",
       "      <td>211353.81</td>\n",
       "      <td>0.0</td>\n",
       "      <td>546663.14</td>\n",
       "      <td>109587.78</td>\n",
       "      <td>144566.32</td>\n",
       "      <td>105912.22</td>\n",
       "      <td>3.74</td>\n",
       "      <td>...</td>\n",
       "      <td>1564.34</td>\n",
       "      <td>4.0</td>\n",
       "      <td>0.0</td>\n",
       "      <td>0.0</td>\n",
       "      <td>404.05</td>\n",
       "      <td>2025</td>\n",
       "      <td>85.397507</td>\n",
       "      <td>0.0</td>\n",
       "      <td>0.0</td>\n",
       "      <td>2025</td>\n",
       "    </tr>\n",
       "    <tr>\n",
       "      <th>2025-01-01 10:00:00</th>\n",
       "      <td>-2.45</td>\n",
       "      <td>518821.39</td>\n",
       "      <td>125826.58</td>\n",
       "      <td>203553.50</td>\n",
       "      <td>0.0</td>\n",
       "      <td>518821.39</td>\n",
       "      <td>125826.58</td>\n",
       "      <td>146500.00</td>\n",
       "      <td>107328.88</td>\n",
       "      <td>3.74</td>\n",
       "      <td>...</td>\n",
       "      <td>7780.32</td>\n",
       "      <td>4.0</td>\n",
       "      <td>0.0</td>\n",
       "      <td>0.0</td>\n",
       "      <td>417.45</td>\n",
       "      <td>2025</td>\n",
       "      <td>84.973409</td>\n",
       "      <td>0.0</td>\n",
       "      <td>0.0</td>\n",
       "      <td>2025</td>\n",
       "    </tr>\n",
       "    <tr>\n",
       "      <th>2025-01-01 11:00:00</th>\n",
       "      <td>-1.56</td>\n",
       "      <td>494195.62</td>\n",
       "      <td>153496.50</td>\n",
       "      <td>201784.54</td>\n",
       "      <td>0.0</td>\n",
       "      <td>494195.62</td>\n",
       "      <td>153496.50</td>\n",
       "      <td>146500.00</td>\n",
       "      <td>107328.88</td>\n",
       "      <td>3.74</td>\n",
       "      <td>...</td>\n",
       "      <td>19061.12</td>\n",
       "      <td>4.0</td>\n",
       "      <td>0.0</td>\n",
       "      <td>0.0</td>\n",
       "      <td>429.35</td>\n",
       "      <td>2025</td>\n",
       "      <td>86.636192</td>\n",
       "      <td>0.0</td>\n",
       "      <td>0.0</td>\n",
       "      <td>2025</td>\n",
       "    </tr>\n",
       "    <tr>\n",
       "      <th>2025-01-01 12:00:00</th>\n",
       "      <td>-1.45</td>\n",
       "      <td>487443.57</td>\n",
       "      <td>162364.69</td>\n",
       "      <td>202293.42</td>\n",
       "      <td>0.0</td>\n",
       "      <td>487443.57</td>\n",
       "      <td>162364.69</td>\n",
       "      <td>146500.00</td>\n",
       "      <td>107328.88</td>\n",
       "      <td>3.74</td>\n",
       "      <td>...</td>\n",
       "      <td>22671.81</td>\n",
       "      <td>4.0</td>\n",
       "      <td>0.0</td>\n",
       "      <td>0.0</td>\n",
       "      <td>386.70</td>\n",
       "      <td>2025</td>\n",
       "      <td>78.226866</td>\n",
       "      <td>0.0</td>\n",
       "      <td>0.0</td>\n",
       "      <td>2025</td>\n",
       "    </tr>\n",
       "    <tr>\n",
       "      <th>2025-01-01 13:00:00</th>\n",
       "      <td>-1.99</td>\n",
       "      <td>483818.45</td>\n",
       "      <td>153128.01</td>\n",
       "      <td>198775.74</td>\n",
       "      <td>0.0</td>\n",
       "      <td>483818.45</td>\n",
       "      <td>153128.01</td>\n",
       "      <td>146500.00</td>\n",
       "      <td>107328.88</td>\n",
       "      <td>3.74</td>\n",
       "      <td>...</td>\n",
       "      <td>19079.66</td>\n",
       "      <td>4.0</td>\n",
       "      <td>0.0</td>\n",
       "      <td>0.0</td>\n",
       "      <td>397.15</td>\n",
       "      <td>2025</td>\n",
       "      <td>78.943785</td>\n",
       "      <td>0.0</td>\n",
       "      <td>0.0</td>\n",
       "      <td>2025</td>\n",
       "    </tr>\n",
       "    <tr>\n",
       "      <th>2025-01-01 14:00:00</th>\n",
       "      <td>-2.84</td>\n",
       "      <td>500469.35</td>\n",
       "      <td>135335.25</td>\n",
       "      <td>201168.25</td>\n",
       "      <td>0.0</td>\n",
       "      <td>500469.35</td>\n",
       "      <td>135335.25</td>\n",
       "      <td>146500.00</td>\n",
       "      <td>107328.88</td>\n",
       "      <td>3.74</td>\n",
       "      <td>...</td>\n",
       "      <td>11877.59</td>\n",
       "      <td>4.0</td>\n",
       "      <td>0.0</td>\n",
       "      <td>0.0</td>\n",
       "      <td>386.30</td>\n",
       "      <td>2025</td>\n",
       "      <td>77.711295</td>\n",
       "      <td>0.0</td>\n",
       "      <td>0.0</td>\n",
       "      <td>2025</td>\n",
       "    </tr>\n",
       "    <tr>\n",
       "      <th>2025-01-01 15:00:00</th>\n",
       "      <td>-3.01</td>\n",
       "      <td>496728.78</td>\n",
       "      <td>130178.54</td>\n",
       "      <td>197956.06</td>\n",
       "      <td>0.0</td>\n",
       "      <td>496728.78</td>\n",
       "      <td>130178.54</td>\n",
       "      <td>146500.00</td>\n",
       "      <td>107328.88</td>\n",
       "      <td>3.74</td>\n",
       "      <td>...</td>\n",
       "      <td>9724.98</td>\n",
       "      <td>4.0</td>\n",
       "      <td>0.0</td>\n",
       "      <td>0.0</td>\n",
       "      <td>393.40</td>\n",
       "      <td>2025</td>\n",
       "      <td>77.875914</td>\n",
       "      <td>0.0</td>\n",
       "      <td>0.0</td>\n",
       "      <td>2025</td>\n",
       "    </tr>\n",
       "    <tr>\n",
       "      <th>2025-01-01 16:00:00</th>\n",
       "      <td>-2.80</td>\n",
       "      <td>498164.56</td>\n",
       "      <td>135665.91</td>\n",
       "      <td>200188.75</td>\n",
       "      <td>0.0</td>\n",
       "      <td>498164.56</td>\n",
       "      <td>135665.91</td>\n",
       "      <td>146500.00</td>\n",
       "      <td>107328.88</td>\n",
       "      <td>3.74</td>\n",
       "      <td>...</td>\n",
       "      <td>12007.22</td>\n",
       "      <td>4.0</td>\n",
       "      <td>0.0</td>\n",
       "      <td>0.0</td>\n",
       "      <td>439.40</td>\n",
       "      <td>2025</td>\n",
       "      <td>87.962937</td>\n",
       "      <td>0.0</td>\n",
       "      <td>0.0</td>\n",
       "      <td>2025</td>\n",
       "    </tr>\n",
       "    <tr>\n",
       "      <th>2025-01-01 17:00:00</th>\n",
       "      <td>-4.08</td>\n",
       "      <td>561067.93</td>\n",
       "      <td>96564.16</td>\n",
       "      <td>224370.74</td>\n",
       "      <td>0.0</td>\n",
       "      <td>561067.93</td>\n",
       "      <td>96564.16</td>\n",
       "      <td>127385.79</td>\n",
       "      <td>93325.42</td>\n",
       "      <td>3.74</td>\n",
       "      <td>...</td>\n",
       "      <td>1410.70</td>\n",
       "      <td>4.0</td>\n",
       "      <td>0.0</td>\n",
       "      <td>0.0</td>\n",
       "      <td>495.00</td>\n",
       "      <td>2025</td>\n",
       "      <td>111.063516</td>\n",
       "      <td>0.0</td>\n",
       "      <td>0.0</td>\n",
       "      <td>2025</td>\n",
       "    </tr>\n",
       "    <tr>\n",
       "      <th>2025-01-01 18:00:00</th>\n",
       "      <td>-5.35</td>\n",
       "      <td>597933.37</td>\n",
       "      <td>72222.70</td>\n",
       "      <td>287852.31</td>\n",
       "      <td>0.0</td>\n",
       "      <td>597933.37</td>\n",
       "      <td>72222.70</td>\n",
       "      <td>95274.95</td>\n",
       "      <td>69800.36</td>\n",
       "      <td>3.74</td>\n",
       "      <td>...</td>\n",
       "      <td>1085.03</td>\n",
       "      <td>4.0</td>\n",
       "      <td>0.0</td>\n",
       "      <td>0.0</td>\n",
       "      <td>500.55</td>\n",
       "      <td>2025</td>\n",
       "      <td>144.084474</td>\n",
       "      <td>0.0</td>\n",
       "      <td>0.0</td>\n",
       "      <td>2025</td>\n",
       "    </tr>\n",
       "    <tr>\n",
       "      <th>2025-01-01 19:00:00</th>\n",
       "      <td>-5.89</td>\n",
       "      <td>611523.30</td>\n",
       "      <td>62852.74</td>\n",
       "      <td>315142.15</td>\n",
       "      <td>0.0</td>\n",
       "      <td>611523.30</td>\n",
       "      <td>62852.74</td>\n",
       "      <td>82914.25</td>\n",
       "      <td>60744.67</td>\n",
       "      <td>3.74</td>\n",
       "      <td>...</td>\n",
       "      <td>955.86</td>\n",
       "      <td>4.0</td>\n",
       "      <td>0.0</td>\n",
       "      <td>0.0</td>\n",
       "      <td>465.25</td>\n",
       "      <td>2025</td>\n",
       "      <td>146.619885</td>\n",
       "      <td>0.0</td>\n",
       "      <td>0.0</td>\n",
       "      <td>2025</td>\n",
       "    </tr>\n",
       "    <tr>\n",
       "      <th>2025-01-01 20:00:00</th>\n",
       "      <td>-6.45</td>\n",
       "      <td>628074.30</td>\n",
       "      <td>53927.94</td>\n",
       "      <td>345125.12</td>\n",
       "      <td>0.0</td>\n",
       "      <td>628074.30</td>\n",
       "      <td>53927.94</td>\n",
       "      <td>71140.81</td>\n",
       "      <td>52119.20</td>\n",
       "      <td>3.74</td>\n",
       "      <td>...</td>\n",
       "      <td>830.65</td>\n",
       "      <td>4.0</td>\n",
       "      <td>0.0</td>\n",
       "      <td>0.0</td>\n",
       "      <td>423.60</td>\n",
       "      <td>2025</td>\n",
       "      <td>146.195001</td>\n",
       "      <td>0.0</td>\n",
       "      <td>0.0</td>\n",
       "      <td>2025</td>\n",
       "    </tr>\n",
       "    <tr>\n",
       "      <th>2025-01-01 21:00:00</th>\n",
       "      <td>-7.63</td>\n",
       "      <td>651466.86</td>\n",
       "      <td>35797.96</td>\n",
       "      <td>396268.56</td>\n",
       "      <td>0.0</td>\n",
       "      <td>651466.86</td>\n",
       "      <td>35797.96</td>\n",
       "      <td>47224.05</td>\n",
       "      <td>34597.30</td>\n",
       "      <td>3.74</td>\n",
       "      <td>...</td>\n",
       "      <td>566.79</td>\n",
       "      <td>4.0</td>\n",
       "      <td>0.0</td>\n",
       "      <td>0.0</td>\n",
       "      <td>414.10</td>\n",
       "      <td>2025</td>\n",
       "      <td>164.094811</td>\n",
       "      <td>0.0</td>\n",
       "      <td>0.0</td>\n",
       "      <td>2025</td>\n",
       "    </tr>\n",
       "    <tr>\n",
       "      <th>2025-01-01 22:00:00</th>\n",
       "      <td>-8.94</td>\n",
       "      <td>662557.67</td>\n",
       "      <td>15267.33</td>\n",
       "      <td>460496.85</td>\n",
       "      <td>0.0</td>\n",
       "      <td>662557.67</td>\n",
       "      <td>15267.33</td>\n",
       "      <td>0.00</td>\n",
       "      <td>0.00</td>\n",
       "      <td>3.82</td>\n",
       "      <td>...</td>\n",
       "      <td>7436.90</td>\n",
       "      <td>4.0</td>\n",
       "      <td>0.0</td>\n",
       "      <td>0.0</td>\n",
       "      <td>429.55</td>\n",
       "      <td>2025</td>\n",
       "      <td>197.806422</td>\n",
       "      <td>0.0</td>\n",
       "      <td>0.0</td>\n",
       "      <td>2025</td>\n",
       "    </tr>\n",
       "    <tr>\n",
       "      <th>2025-01-01 23:00:00</th>\n",
       "      <td>-9.75</td>\n",
       "      <td>680094.52</td>\n",
       "      <td>4254.93</td>\n",
       "      <td>479960.33</td>\n",
       "      <td>0.0</td>\n",
       "      <td>680094.52</td>\n",
       "      <td>4254.93</td>\n",
       "      <td>0.00</td>\n",
       "      <td>0.00</td>\n",
       "      <td>3.82</td>\n",
       "      <td>...</td>\n",
       "      <td>2114.25</td>\n",
       "      <td>4.0</td>\n",
       "      <td>0.0</td>\n",
       "      <td>0.0</td>\n",
       "      <td>434.15</td>\n",
       "      <td>2025</td>\n",
       "      <td>208.374777</td>\n",
       "      <td>0.0</td>\n",
       "      <td>0.0</td>\n",
       "      <td>2025</td>\n",
       "    </tr>\n",
       "    <tr>\n",
       "      <th>2025-01-02 00:00:00</th>\n",
       "      <td>-10.35</td>\n",
       "      <td>701267.36</td>\n",
       "      <td>980.45</td>\n",
       "      <td>501757.59</td>\n",
       "      <td>0.0</td>\n",
       "      <td>701267.36</td>\n",
       "      <td>980.45</td>\n",
       "      <td>0.00</td>\n",
       "      <td>0.00</td>\n",
       "      <td>3.82</td>\n",
       "      <td>...</td>\n",
       "      <td>490.23</td>\n",
       "      <td>4.0</td>\n",
       "      <td>0.0</td>\n",
       "      <td>0.0</td>\n",
       "      <td>381.65</td>\n",
       "      <td>2025</td>\n",
       "      <td>191.495784</td>\n",
       "      <td>0.0</td>\n",
       "      <td>0.0</td>\n",
       "      <td>2025</td>\n",
       "    </tr>\n",
       "    <tr>\n",
       "      <th>2025-01-02 01:00:00</th>\n",
       "      <td>-10.89</td>\n",
       "      <td>703857.50</td>\n",
       "      <td>29439.75</td>\n",
       "      <td>475898.85</td>\n",
       "      <td>0.0</td>\n",
       "      <td>703857.50</td>\n",
       "      <td>29439.75</td>\n",
       "      <td>38836.42</td>\n",
       "      <td>28452.35</td>\n",
       "      <td>3.74</td>\n",
       "      <td>...</td>\n",
       "      <td>493.70</td>\n",
       "      <td>4.0</td>\n",
       "      <td>0.0</td>\n",
       "      <td>0.0</td>\n",
       "      <td>374.15</td>\n",
       "      <td>2025</td>\n",
       "      <td>178.057555</td>\n",
       "      <td>0.0</td>\n",
       "      <td>0.0</td>\n",
       "      <td>2025</td>\n",
       "    </tr>\n",
       "    <tr>\n",
       "      <th>2025-01-02 02:00:00</th>\n",
       "      <td>-11.45</td>\n",
       "      <td>710937.94</td>\n",
       "      <td>61415.11</td>\n",
       "      <td>452612.61</td>\n",
       "      <td>0.0</td>\n",
       "      <td>710937.94</td>\n",
       "      <td>61415.11</td>\n",
       "      <td>81017.76</td>\n",
       "      <td>59355.25</td>\n",
       "      <td>3.74</td>\n",
       "      <td>...</td>\n",
       "      <td>1029.93</td>\n",
       "      <td>4.0</td>\n",
       "      <td>0.0</td>\n",
       "      <td>0.0</td>\n",
       "      <td>372.55</td>\n",
       "      <td>2025</td>\n",
       "      <td>168.620828</td>\n",
       "      <td>0.0</td>\n",
       "      <td>0.0</td>\n",
       "      <td>2025</td>\n",
       "    </tr>\n",
       "    <tr>\n",
       "      <th>2025-01-02 03:00:00</th>\n",
       "      <td>-11.70</td>\n",
       "      <td>706407.54</td>\n",
       "      <td>77967.38</td>\n",
       "      <td>432362.67</td>\n",
       "      <td>0.0</td>\n",
       "      <td>706407.54</td>\n",
       "      <td>77967.38</td>\n",
       "      <td>102853.24</td>\n",
       "      <td>75352.37</td>\n",
       "      <td>3.74</td>\n",
       "      <td>...</td>\n",
       "      <td>1307.51</td>\n",
       "      <td>4.0</td>\n",
       "      <td>0.0</td>\n",
       "      <td>0.0</td>\n",
       "      <td>356.75</td>\n",
       "      <td>2025</td>\n",
       "      <td>154.245383</td>\n",
       "      <td>0.0</td>\n",
       "      <td>0.0</td>\n",
       "      <td>2025</td>\n",
       "    </tr>\n",
       "    <tr>\n",
       "      <th>2025-01-02 04:00:00</th>\n",
       "      <td>-11.70</td>\n",
       "      <td>704279.20</td>\n",
       "      <td>85794.54</td>\n",
       "      <td>422800.96</td>\n",
       "      <td>0.0</td>\n",
       "      <td>704279.20</td>\n",
       "      <td>85794.54</td>\n",
       "      <td>113178.68</td>\n",
       "      <td>82917.00</td>\n",
       "      <td>3.74</td>\n",
       "      <td>...</td>\n",
       "      <td>1438.77</td>\n",
       "      <td>4.0</td>\n",
       "      <td>0.0</td>\n",
       "      <td>0.0</td>\n",
       "      <td>350.35</td>\n",
       "      <td>2025</td>\n",
       "      <td>148.128316</td>\n",
       "      <td>0.0</td>\n",
       "      <td>0.0</td>\n",
       "      <td>2025</td>\n",
       "    </tr>\n",
       "    <tr>\n",
       "      <th>2025-01-02 05:00:00</th>\n",
       "      <td>-11.99</td>\n",
       "      <td>715288.84</td>\n",
       "      <td>89293.77</td>\n",
       "      <td>430487.41</td>\n",
       "      <td>0.0</td>\n",
       "      <td>715288.84</td>\n",
       "      <td>89293.77</td>\n",
       "      <td>117794.82</td>\n",
       "      <td>86298.88</td>\n",
       "      <td>3.74</td>\n",
       "      <td>...</td>\n",
       "      <td>1497.45</td>\n",
       "      <td>4.0</td>\n",
       "      <td>0.0</td>\n",
       "      <td>0.0</td>\n",
       "      <td>375.30</td>\n",
       "      <td>2025</td>\n",
       "      <td>161.561925</td>\n",
       "      <td>0.0</td>\n",
       "      <td>0.0</td>\n",
       "      <td>2025</td>\n",
       "    </tr>\n",
       "    <tr>\n",
       "      <th>2025-01-02 06:00:00</th>\n",
       "      <td>-11.91</td>\n",
       "      <td>718766.28</td>\n",
       "      <td>90837.27</td>\n",
       "      <td>432499.01</td>\n",
       "      <td>0.0</td>\n",
       "      <td>718766.28</td>\n",
       "      <td>90837.27</td>\n",
       "      <td>119830.97</td>\n",
       "      <td>87790.60</td>\n",
       "      <td>3.74</td>\n",
       "      <td>...</td>\n",
       "      <td>1523.33</td>\n",
       "      <td>4.0</td>\n",
       "      <td>0.0</td>\n",
       "      <td>0.0</td>\n",
       "      <td>449.60</td>\n",
       "      <td>2025</td>\n",
       "      <td>194.451555</td>\n",
       "      <td>0.0</td>\n",
       "      <td>0.0</td>\n",
       "      <td>2025</td>\n",
       "    </tr>\n",
       "  </tbody>\n",
       "</table>\n",
       "<p>30 rows × 38 columns</p>\n",
       "</div>"
      ],
      "text/plain": [
       "                     t_out_C  heating_W  cooling_W    elec_Wh  gas_Wh  \\\n",
       "timestamp                                                               \n",
       "2025-01-01 01:00:00    -4.40  609230.13  127902.41  261212.45     0.0   \n",
       "2025-01-01 02:00:00    -4.40  606900.34  174577.65  279354.26     0.0   \n",
       "2025-01-01 03:00:00    -4.11  604168.53  186763.68  279189.44     0.0   \n",
       "2025-01-01 04:00:00    -3.55  600461.65  199730.65  275763.89     0.0   \n",
       "2025-01-01 05:00:00    -3.30  604703.00  205553.30  280101.50     0.0   \n",
       "2025-01-01 06:00:00    -3.65  607617.81  200142.30  284057.83     0.0   \n",
       "2025-01-01 07:00:00    -4.19  611215.73  191604.12  289143.05     0.0   \n",
       "2025-01-01 08:00:00    -3.76  607994.13  113827.74  248143.57     0.0   \n",
       "2025-01-01 09:00:00    -3.01  546663.14  109587.78  211353.81     0.0   \n",
       "2025-01-01 10:00:00    -2.45  518821.39  125826.58  203553.50     0.0   \n",
       "2025-01-01 11:00:00    -1.56  494195.62  153496.50  201784.54     0.0   \n",
       "2025-01-01 12:00:00    -1.45  487443.57  162364.69  202293.42     0.0   \n",
       "2025-01-01 13:00:00    -1.99  483818.45  153128.01  198775.74     0.0   \n",
       "2025-01-01 14:00:00    -2.84  500469.35  135335.25  201168.25     0.0   \n",
       "2025-01-01 15:00:00    -3.01  496728.78  130178.54  197956.06     0.0   \n",
       "2025-01-01 16:00:00    -2.80  498164.56  135665.91  200188.75     0.0   \n",
       "2025-01-01 17:00:00    -4.08  561067.93   96564.16  224370.74     0.0   \n",
       "2025-01-01 18:00:00    -5.35  597933.37   72222.70  287852.31     0.0   \n",
       "2025-01-01 19:00:00    -5.89  611523.30   62852.74  315142.15     0.0   \n",
       "2025-01-01 20:00:00    -6.45  628074.30   53927.94  345125.12     0.0   \n",
       "2025-01-01 21:00:00    -7.63  651466.86   35797.96  396268.56     0.0   \n",
       "2025-01-01 22:00:00    -8.94  662557.67   15267.33  460496.85     0.0   \n",
       "2025-01-01 23:00:00    -9.75  680094.52    4254.93  479960.33     0.0   \n",
       "2025-01-02 00:00:00   -10.35  701267.36     980.45  501757.59     0.0   \n",
       "2025-01-02 01:00:00   -10.89  703857.50   29439.75  475898.85     0.0   \n",
       "2025-01-02 02:00:00   -11.45  710937.94   61415.11  452612.61     0.0   \n",
       "2025-01-02 03:00:00   -11.70  706407.54   77967.38  432362.67     0.0   \n",
       "2025-01-02 04:00:00   -11.70  704279.20   85794.54  422800.96     0.0   \n",
       "2025-01-02 05:00:00   -11.99  715288.84   89293.77  430487.41     0.0   \n",
       "2025-01-02 06:00:00   -11.91  718766.28   90837.27  432499.01     0.0   \n",
       "\n",
       "                         hhw_W      chw_W   hr_hhw_W   hr_chw_W  hr_cop_h  \\\n",
       "timestamp                                                                   \n",
       "2025-01-01 01:00:00  609230.13  127902.41  146500.00  107328.88      3.74   \n",
       "2025-01-01 02:00:00  606900.34  174577.65  146500.00  107328.88      3.74   \n",
       "2025-01-01 03:00:00  604168.53  186763.68  146500.00  107328.88      3.74   \n",
       "2025-01-01 04:00:00  600461.65  199730.65  146500.00  107328.88      3.74   \n",
       "2025-01-01 05:00:00  604703.00  205553.30  146500.00  107328.88      3.74   \n",
       "2025-01-01 06:00:00  607617.81  200142.30  146500.00  107328.88      3.74   \n",
       "2025-01-01 07:00:00  611215.73  191604.12  146500.00  107328.88      3.74   \n",
       "2025-01-01 08:00:00  607994.13  113827.74  146500.00  107328.88      3.74   \n",
       "2025-01-01 09:00:00  546663.14  109587.78  144566.32  105912.22      3.74   \n",
       "2025-01-01 10:00:00  518821.39  125826.58  146500.00  107328.88      3.74   \n",
       "2025-01-01 11:00:00  494195.62  153496.50  146500.00  107328.88      3.74   \n",
       "2025-01-01 12:00:00  487443.57  162364.69  146500.00  107328.88      3.74   \n",
       "2025-01-01 13:00:00  483818.45  153128.01  146500.00  107328.88      3.74   \n",
       "2025-01-01 14:00:00  500469.35  135335.25  146500.00  107328.88      3.74   \n",
       "2025-01-01 15:00:00  496728.78  130178.54  146500.00  107328.88      3.74   \n",
       "2025-01-01 16:00:00  498164.56  135665.91  146500.00  107328.88      3.74   \n",
       "2025-01-01 17:00:00  561067.93   96564.16  127385.79   93325.42      3.74   \n",
       "2025-01-01 18:00:00  597933.37   72222.70   95274.95   69800.36      3.74   \n",
       "2025-01-01 19:00:00  611523.30   62852.74   82914.25   60744.67      3.74   \n",
       "2025-01-01 20:00:00  628074.30   53927.94   71140.81   52119.20      3.74   \n",
       "2025-01-01 21:00:00  651466.86   35797.96   47224.05   34597.30      3.74   \n",
       "2025-01-01 22:00:00  662557.67   15267.33       0.00       0.00      3.82   \n",
       "2025-01-01 23:00:00  680094.52    4254.93       0.00       0.00      3.82   \n",
       "2025-01-02 00:00:00  701267.36     980.45       0.00       0.00      3.82   \n",
       "2025-01-02 01:00:00  703857.50   29439.75   38836.42   28452.35      3.74   \n",
       "2025-01-02 02:00:00  710937.94   61415.11   81017.76   59355.25      3.74   \n",
       "2025-01-02 03:00:00  706407.54   77967.38  102853.24   75352.37      3.74   \n",
       "2025-01-02 04:00:00  704279.20   85794.54  113178.68   82917.00      3.74   \n",
       "2025-01-02 05:00:00  715288.84   89293.77  117794.82   86298.88      3.74   \n",
       "2025-01-02 06:00:00  718766.28   90837.27  119830.97   87790.60      3.74   \n",
       "\n",
       "                     ...  elec_awhp_c_Wh  chiller_cop  chiller_chw_W  \\\n",
       "timestamp            ...                                               \n",
       "2025-01-01 01:00:00  ...         9023.48          4.0            0.0   \n",
       "2025-01-01 02:00:00  ...        29495.08          4.0            0.0   \n",
       "2025-01-01 03:00:00  ...        34618.40          4.0            0.0   \n",
       "2025-01-01 04:00:00  ...        39785.48          4.0            0.0   \n",
       "2025-01-01 05:00:00  ...        42066.13          4.0            0.0   \n",
       "2025-01-01 06:00:00  ...        40048.94          4.0            0.0   \n",
       "2025-01-01 07:00:00  ...        36794.72          4.0            0.0   \n",
       "2025-01-01 08:00:00  ...         2810.83          4.0            0.0   \n",
       "2025-01-01 09:00:00  ...         1564.34          4.0            0.0   \n",
       "2025-01-01 10:00:00  ...         7780.32          4.0            0.0   \n",
       "2025-01-01 11:00:00  ...        19061.12          4.0            0.0   \n",
       "2025-01-01 12:00:00  ...        22671.81          4.0            0.0   \n",
       "2025-01-01 13:00:00  ...        19079.66          4.0            0.0   \n",
       "2025-01-01 14:00:00  ...        11877.59          4.0            0.0   \n",
       "2025-01-01 15:00:00  ...         9724.98          4.0            0.0   \n",
       "2025-01-01 16:00:00  ...        12007.22          4.0            0.0   \n",
       "2025-01-01 17:00:00  ...         1410.70          4.0            0.0   \n",
       "2025-01-01 18:00:00  ...         1085.03          4.0            0.0   \n",
       "2025-01-01 19:00:00  ...          955.86          4.0            0.0   \n",
       "2025-01-01 20:00:00  ...          830.65          4.0            0.0   \n",
       "2025-01-01 21:00:00  ...          566.79          4.0            0.0   \n",
       "2025-01-01 22:00:00  ...         7436.90          4.0            0.0   \n",
       "2025-01-01 23:00:00  ...         2114.25          4.0            0.0   \n",
       "2025-01-02 00:00:00  ...          490.23          4.0            0.0   \n",
       "2025-01-02 01:00:00  ...          493.70          4.0            0.0   \n",
       "2025-01-02 02:00:00  ...         1029.93          4.0            0.0   \n",
       "2025-01-02 03:00:00  ...         1307.51          4.0            0.0   \n",
       "2025-01-02 04:00:00  ...         1438.77          4.0            0.0   \n",
       "2025-01-02 05:00:00  ...         1497.45          4.0            0.0   \n",
       "2025-01-02 06:00:00  ...         1523.33          4.0            0.0   \n",
       "\n",
       "                     elec_chiller_Wh  elec_emissions_rate  emission_year  \\\n",
       "timestamp                                                                  \n",
       "2025-01-01 01:00:00              0.0               374.15           2025   \n",
       "2025-01-01 02:00:00              0.0               372.55           2025   \n",
       "2025-01-01 03:00:00              0.0               356.75           2025   \n",
       "2025-01-01 04:00:00              0.0               350.35           2025   \n",
       "2025-01-01 05:00:00              0.0               375.30           2025   \n",
       "2025-01-01 06:00:00              0.0               449.60           2025   \n",
       "2025-01-01 07:00:00              0.0               456.20           2025   \n",
       "2025-01-01 08:00:00              0.0               441.55           2025   \n",
       "2025-01-01 09:00:00              0.0               404.05           2025   \n",
       "2025-01-01 10:00:00              0.0               417.45           2025   \n",
       "2025-01-01 11:00:00              0.0               429.35           2025   \n",
       "2025-01-01 12:00:00              0.0               386.70           2025   \n",
       "2025-01-01 13:00:00              0.0               397.15           2025   \n",
       "2025-01-01 14:00:00              0.0               386.30           2025   \n",
       "2025-01-01 15:00:00              0.0               393.40           2025   \n",
       "2025-01-01 16:00:00              0.0               439.40           2025   \n",
       "2025-01-01 17:00:00              0.0               495.00           2025   \n",
       "2025-01-01 18:00:00              0.0               500.55           2025   \n",
       "2025-01-01 19:00:00              0.0               465.25           2025   \n",
       "2025-01-01 20:00:00              0.0               423.60           2025   \n",
       "2025-01-01 21:00:00              0.0               414.10           2025   \n",
       "2025-01-01 22:00:00              0.0               429.55           2025   \n",
       "2025-01-01 23:00:00              0.0               434.15           2025   \n",
       "2025-01-02 00:00:00              0.0               381.65           2025   \n",
       "2025-01-02 01:00:00              0.0               374.15           2025   \n",
       "2025-01-02 02:00:00              0.0               372.55           2025   \n",
       "2025-01-02 03:00:00              0.0               356.75           2025   \n",
       "2025-01-02 04:00:00              0.0               350.35           2025   \n",
       "2025-01-02 05:00:00              0.0               375.30           2025   \n",
       "2025-01-02 06:00:00              0.0               449.60           2025   \n",
       "\n",
       "                     elec_emissions  gas_emissions  total_refrig_emissions  \\\n",
       "timestamp                                                                    \n",
       "2025-01-01 01:00:00       97.732638            0.0                     0.0   \n",
       "2025-01-01 02:00:00      104.073430            0.0                     0.0   \n",
       "2025-01-01 03:00:00       99.600833            0.0                     0.0   \n",
       "2025-01-01 04:00:00       96.613879            0.0                     0.0   \n",
       "2025-01-01 05:00:00      105.122093            0.0                     0.0   \n",
       "2025-01-01 06:00:00      127.712400            0.0                     0.0   \n",
       "2025-01-01 07:00:00      131.907059            0.0                     0.0   \n",
       "2025-01-01 08:00:00      109.567793            0.0                     0.0   \n",
       "2025-01-01 09:00:00       85.397507            0.0                     0.0   \n",
       "2025-01-01 10:00:00       84.973409            0.0                     0.0   \n",
       "2025-01-01 11:00:00       86.636192            0.0                     0.0   \n",
       "2025-01-01 12:00:00       78.226866            0.0                     0.0   \n",
       "2025-01-01 13:00:00       78.943785            0.0                     0.0   \n",
       "2025-01-01 14:00:00       77.711295            0.0                     0.0   \n",
       "2025-01-01 15:00:00       77.875914            0.0                     0.0   \n",
       "2025-01-01 16:00:00       87.962937            0.0                     0.0   \n",
       "2025-01-01 17:00:00      111.063516            0.0                     0.0   \n",
       "2025-01-01 18:00:00      144.084474            0.0                     0.0   \n",
       "2025-01-01 19:00:00      146.619885            0.0                     0.0   \n",
       "2025-01-01 20:00:00      146.195001            0.0                     0.0   \n",
       "2025-01-01 21:00:00      164.094811            0.0                     0.0   \n",
       "2025-01-01 22:00:00      197.806422            0.0                     0.0   \n",
       "2025-01-01 23:00:00      208.374777            0.0                     0.0   \n",
       "2025-01-02 00:00:00      191.495784            0.0                     0.0   \n",
       "2025-01-02 01:00:00      178.057555            0.0                     0.0   \n",
       "2025-01-02 02:00:00      168.620828            0.0                     0.0   \n",
       "2025-01-02 03:00:00      154.245383            0.0                     0.0   \n",
       "2025-01-02 04:00:00      148.128316            0.0                     0.0   \n",
       "2025-01-02 05:00:00      161.561925            0.0                     0.0   \n",
       "2025-01-02 06:00:00      194.451555            0.0                     0.0   \n",
       "\n",
       "                     year  \n",
       "timestamp                  \n",
       "2025-01-01 01:00:00  2025  \n",
       "2025-01-01 02:00:00  2025  \n",
       "2025-01-01 03:00:00  2025  \n",
       "2025-01-01 04:00:00  2025  \n",
       "2025-01-01 05:00:00  2025  \n",
       "2025-01-01 06:00:00  2025  \n",
       "2025-01-01 07:00:00  2025  \n",
       "2025-01-01 08:00:00  2025  \n",
       "2025-01-01 09:00:00  2025  \n",
       "2025-01-01 10:00:00  2025  \n",
       "2025-01-01 11:00:00  2025  \n",
       "2025-01-01 12:00:00  2025  \n",
       "2025-01-01 13:00:00  2025  \n",
       "2025-01-01 14:00:00  2025  \n",
       "2025-01-01 15:00:00  2025  \n",
       "2025-01-01 16:00:00  2025  \n",
       "2025-01-01 17:00:00  2025  \n",
       "2025-01-01 18:00:00  2025  \n",
       "2025-01-01 19:00:00  2025  \n",
       "2025-01-01 20:00:00  2025  \n",
       "2025-01-01 21:00:00  2025  \n",
       "2025-01-01 22:00:00  2025  \n",
       "2025-01-01 23:00:00  2025  \n",
       "2025-01-02 00:00:00  2025  \n",
       "2025-01-02 01:00:00  2025  \n",
       "2025-01-02 02:00:00  2025  \n",
       "2025-01-02 03:00:00  2025  \n",
       "2025-01-02 04:00:00  2025  \n",
       "2025-01-02 05:00:00  2025  \n",
       "2025-01-02 06:00:00  2025  \n",
       "\n",
       "[30 rows x 38 columns]"
      ]
     },
     "execution_count": 8,
     "metadata": {},
     "output_type": "execute_result"
    }
   ],
   "source": [
    "from src.energy import site_to_source\n",
    "\n",
    "source_energy = site_to_source(site_energy, settings=settings.emissions, emissions=emissions_data)\n",
    "\n",
    "source_energy.head(30)"
   ]
  },
  {
   "cell_type": "code",
   "execution_count": 14,
   "id": "6aa161ec",
   "metadata": {},
   "outputs": [
    {
     "data": {
      "application/vnd.plotly.v1+json": {
       "config": {
        "plotlyServerURL": "https://plot.ly"
       },
       "data": [
        {
         "hovertemplate": "Type=Total<br>Electricity Use (kWh)=%{text}<br>Component=%{y}<extra></extra>",
         "legendgroup": "Total",
         "marker": {
          "color": "crimson",
          "pattern": {
           "shape": ""
          }
         },
         "name": "Total",
         "orientation": "h",
         "showlegend": true,
         "text": {
          "bdata": "sFWC+SsQQ0E=",
          "dtype": "f8"
         },
         "textposition": "outside",
         "texttemplate": "%{text:.2s}",
         "type": "bar",
         "x": {
          "bdata": "sFWC+SsQQ0E=",
          "dtype": "f8"
         },
         "xaxis": "x",
         "y": [
          "elec_Wh"
         ],
         "yaxis": "y"
        },
        {
         "hovertemplate": "Type=Component<br>Electricity Use (kWh)=%{text}<br>Component=%{y}<extra></extra>",
         "legendgroup": "Component",
         "marker": {
          "color": "steelblue",
          "pattern": {
           "shape": ""
          }
         },
         "name": "Component",
         "orientation": "h",
         "showlegend": true,
         "text": {
          "bdata": "M9yAf2E1MkEzG2RyhYEdQbbWFwm89hxBxGSqQHOrFEFysaIGnwTBQAAAAAAAAAAA",
          "dtype": "f8"
         },
         "textposition": "outside",
         "texttemplate": "%{text:.2s}",
         "type": "bar",
         "x": {
          "bdata": "M9yAf2E1MkEzG2RyhYEdQbbWFwm89hxBxGSqQHOrFEFysaIGnwTBQAAAAAAAAAAA",
          "dtype": "f8"
         },
         "xaxis": "x",
         "y": [
          "elec_awhp_c_Wh",
          "elec_chiller_Wh",
          "elec_awhp_h_Wh",
          "elec_hr_Wh",
          "elec_res_Wh",
          "gas_boiler_Wh"
         ],
         "yaxis": "y"
        }
       ],
       "layout": {
        "barmode": "relative",
        "legend": {
         "title": {
          "text": "Type"
         },
         "tracegroupgap": 0
        },
        "template": {
         "data": {
          "bar": [
           {
            "error_x": {
             "color": "rgb(36,36,36)"
            },
            "error_y": {
             "color": "rgb(36,36,36)"
            },
            "marker": {
             "line": {
              "color": "white",
              "width": 0.5
             },
             "pattern": {
              "fillmode": "overlay",
              "size": 10,
              "solidity": 0.2
             }
            },
            "type": "bar"
           }
          ],
          "barpolar": [
           {
            "marker": {
             "line": {
              "color": "white",
              "width": 0.5
             },
             "pattern": {
              "fillmode": "overlay",
              "size": 10,
              "solidity": 0.2
             }
            },
            "type": "barpolar"
           }
          ],
          "carpet": [
           {
            "aaxis": {
             "endlinecolor": "rgb(36,36,36)",
             "gridcolor": "white",
             "linecolor": "white",
             "minorgridcolor": "white",
             "startlinecolor": "rgb(36,36,36)"
            },
            "baxis": {
             "endlinecolor": "rgb(36,36,36)",
             "gridcolor": "white",
             "linecolor": "white",
             "minorgridcolor": "white",
             "startlinecolor": "rgb(36,36,36)"
            },
            "type": "carpet"
           }
          ],
          "choropleth": [
           {
            "colorbar": {
             "outlinewidth": 1,
             "tickcolor": "rgb(36,36,36)",
             "ticks": "outside"
            },
            "type": "choropleth"
           }
          ],
          "contour": [
           {
            "colorbar": {
             "outlinewidth": 1,
             "tickcolor": "rgb(36,36,36)",
             "ticks": "outside"
            },
            "colorscale": [
             [
              0,
              "#440154"
             ],
             [
              0.1111111111111111,
              "#482878"
             ],
             [
              0.2222222222222222,
              "#3e4989"
             ],
             [
              0.3333333333333333,
              "#31688e"
             ],
             [
              0.4444444444444444,
              "#26828e"
             ],
             [
              0.5555555555555556,
              "#1f9e89"
             ],
             [
              0.6666666666666666,
              "#35b779"
             ],
             [
              0.7777777777777778,
              "#6ece58"
             ],
             [
              0.8888888888888888,
              "#b5de2b"
             ],
             [
              1,
              "#fde725"
             ]
            ],
            "type": "contour"
           }
          ],
          "contourcarpet": [
           {
            "colorbar": {
             "outlinewidth": 1,
             "tickcolor": "rgb(36,36,36)",
             "ticks": "outside"
            },
            "type": "contourcarpet"
           }
          ],
          "heatmap": [
           {
            "colorbar": {
             "outlinewidth": 1,
             "tickcolor": "rgb(36,36,36)",
             "ticks": "outside"
            },
            "colorscale": [
             [
              0,
              "#440154"
             ],
             [
              0.1111111111111111,
              "#482878"
             ],
             [
              0.2222222222222222,
              "#3e4989"
             ],
             [
              0.3333333333333333,
              "#31688e"
             ],
             [
              0.4444444444444444,
              "#26828e"
             ],
             [
              0.5555555555555556,
              "#1f9e89"
             ],
             [
              0.6666666666666666,
              "#35b779"
             ],
             [
              0.7777777777777778,
              "#6ece58"
             ],
             [
              0.8888888888888888,
              "#b5de2b"
             ],
             [
              1,
              "#fde725"
             ]
            ],
            "type": "heatmap"
           }
          ],
          "histogram": [
           {
            "marker": {
             "line": {
              "color": "white",
              "width": 0.6
             }
            },
            "type": "histogram"
           }
          ],
          "histogram2d": [
           {
            "colorbar": {
             "outlinewidth": 1,
             "tickcolor": "rgb(36,36,36)",
             "ticks": "outside"
            },
            "colorscale": [
             [
              0,
              "#440154"
             ],
             [
              0.1111111111111111,
              "#482878"
             ],
             [
              0.2222222222222222,
              "#3e4989"
             ],
             [
              0.3333333333333333,
              "#31688e"
             ],
             [
              0.4444444444444444,
              "#26828e"
             ],
             [
              0.5555555555555556,
              "#1f9e89"
             ],
             [
              0.6666666666666666,
              "#35b779"
             ],
             [
              0.7777777777777778,
              "#6ece58"
             ],
             [
              0.8888888888888888,
              "#b5de2b"
             ],
             [
              1,
              "#fde725"
             ]
            ],
            "type": "histogram2d"
           }
          ],
          "histogram2dcontour": [
           {
            "colorbar": {
             "outlinewidth": 1,
             "tickcolor": "rgb(36,36,36)",
             "ticks": "outside"
            },
            "colorscale": [
             [
              0,
              "#440154"
             ],
             [
              0.1111111111111111,
              "#482878"
             ],
             [
              0.2222222222222222,
              "#3e4989"
             ],
             [
              0.3333333333333333,
              "#31688e"
             ],
             [
              0.4444444444444444,
              "#26828e"
             ],
             [
              0.5555555555555556,
              "#1f9e89"
             ],
             [
              0.6666666666666666,
              "#35b779"
             ],
             [
              0.7777777777777778,
              "#6ece58"
             ],
             [
              0.8888888888888888,
              "#b5de2b"
             ],
             [
              1,
              "#fde725"
             ]
            ],
            "type": "histogram2dcontour"
           }
          ],
          "mesh3d": [
           {
            "colorbar": {
             "outlinewidth": 1,
             "tickcolor": "rgb(36,36,36)",
             "ticks": "outside"
            },
            "type": "mesh3d"
           }
          ],
          "parcoords": [
           {
            "line": {
             "colorbar": {
              "outlinewidth": 1,
              "tickcolor": "rgb(36,36,36)",
              "ticks": "outside"
             }
            },
            "type": "parcoords"
           }
          ],
          "pie": [
           {
            "automargin": true,
            "type": "pie"
           }
          ],
          "scatter": [
           {
            "fillpattern": {
             "fillmode": "overlay",
             "size": 10,
             "solidity": 0.2
            },
            "type": "scatter"
           }
          ],
          "scatter3d": [
           {
            "line": {
             "colorbar": {
              "outlinewidth": 1,
              "tickcolor": "rgb(36,36,36)",
              "ticks": "outside"
             }
            },
            "marker": {
             "colorbar": {
              "outlinewidth": 1,
              "tickcolor": "rgb(36,36,36)",
              "ticks": "outside"
             }
            },
            "type": "scatter3d"
           }
          ],
          "scattercarpet": [
           {
            "marker": {
             "colorbar": {
              "outlinewidth": 1,
              "tickcolor": "rgb(36,36,36)",
              "ticks": "outside"
             }
            },
            "type": "scattercarpet"
           }
          ],
          "scattergeo": [
           {
            "marker": {
             "colorbar": {
              "outlinewidth": 1,
              "tickcolor": "rgb(36,36,36)",
              "ticks": "outside"
             }
            },
            "type": "scattergeo"
           }
          ],
          "scattergl": [
           {
            "marker": {
             "colorbar": {
              "outlinewidth": 1,
              "tickcolor": "rgb(36,36,36)",
              "ticks": "outside"
             }
            },
            "type": "scattergl"
           }
          ],
          "scattermap": [
           {
            "marker": {
             "colorbar": {
              "outlinewidth": 1,
              "tickcolor": "rgb(36,36,36)",
              "ticks": "outside"
             }
            },
            "type": "scattermap"
           }
          ],
          "scattermapbox": [
           {
            "marker": {
             "colorbar": {
              "outlinewidth": 1,
              "tickcolor": "rgb(36,36,36)",
              "ticks": "outside"
             }
            },
            "type": "scattermapbox"
           }
          ],
          "scatterpolar": [
           {
            "marker": {
             "colorbar": {
              "outlinewidth": 1,
              "tickcolor": "rgb(36,36,36)",
              "ticks": "outside"
             }
            },
            "type": "scatterpolar"
           }
          ],
          "scatterpolargl": [
           {
            "marker": {
             "colorbar": {
              "outlinewidth": 1,
              "tickcolor": "rgb(36,36,36)",
              "ticks": "outside"
             }
            },
            "type": "scatterpolargl"
           }
          ],
          "scatterternary": [
           {
            "marker": {
             "colorbar": {
              "outlinewidth": 1,
              "tickcolor": "rgb(36,36,36)",
              "ticks": "outside"
             }
            },
            "type": "scatterternary"
           }
          ],
          "surface": [
           {
            "colorbar": {
             "outlinewidth": 1,
             "tickcolor": "rgb(36,36,36)",
             "ticks": "outside"
            },
            "colorscale": [
             [
              0,
              "#440154"
             ],
             [
              0.1111111111111111,
              "#482878"
             ],
             [
              0.2222222222222222,
              "#3e4989"
             ],
             [
              0.3333333333333333,
              "#31688e"
             ],
             [
              0.4444444444444444,
              "#26828e"
             ],
             [
              0.5555555555555556,
              "#1f9e89"
             ],
             [
              0.6666666666666666,
              "#35b779"
             ],
             [
              0.7777777777777778,
              "#6ece58"
             ],
             [
              0.8888888888888888,
              "#b5de2b"
             ],
             [
              1,
              "#fde725"
             ]
            ],
            "type": "surface"
           }
          ],
          "table": [
           {
            "cells": {
             "fill": {
              "color": "rgb(237,237,237)"
             },
             "line": {
              "color": "white"
             }
            },
            "header": {
             "fill": {
              "color": "rgb(217,217,217)"
             },
             "line": {
              "color": "white"
             }
            },
            "type": "table"
           }
          ]
         },
         "layout": {
          "annotationdefaults": {
           "arrowhead": 0,
           "arrowwidth": 1
          },
          "autotypenumbers": "strict",
          "coloraxis": {
           "colorbar": {
            "outlinewidth": 1,
            "tickcolor": "rgb(36,36,36)",
            "ticks": "outside"
           }
          },
          "colorscale": {
           "diverging": [
            [
             0,
             "rgb(103,0,31)"
            ],
            [
             0.1,
             "rgb(178,24,43)"
            ],
            [
             0.2,
             "rgb(214,96,77)"
            ],
            [
             0.3,
             "rgb(244,165,130)"
            ],
            [
             0.4,
             "rgb(253,219,199)"
            ],
            [
             0.5,
             "rgb(247,247,247)"
            ],
            [
             0.6,
             "rgb(209,229,240)"
            ],
            [
             0.7,
             "rgb(146,197,222)"
            ],
            [
             0.8,
             "rgb(67,147,195)"
            ],
            [
             0.9,
             "rgb(33,102,172)"
            ],
            [
             1,
             "rgb(5,48,97)"
            ]
           ],
           "sequential": [
            [
             0,
             "#440154"
            ],
            [
             0.1111111111111111,
             "#482878"
            ],
            [
             0.2222222222222222,
             "#3e4989"
            ],
            [
             0.3333333333333333,
             "#31688e"
            ],
            [
             0.4444444444444444,
             "#26828e"
            ],
            [
             0.5555555555555556,
             "#1f9e89"
            ],
            [
             0.6666666666666666,
             "#35b779"
            ],
            [
             0.7777777777777778,
             "#6ece58"
            ],
            [
             0.8888888888888888,
             "#b5de2b"
            ],
            [
             1,
             "#fde725"
            ]
           ],
           "sequentialminus": [
            [
             0,
             "#440154"
            ],
            [
             0.1111111111111111,
             "#482878"
            ],
            [
             0.2222222222222222,
             "#3e4989"
            ],
            [
             0.3333333333333333,
             "#31688e"
            ],
            [
             0.4444444444444444,
             "#26828e"
            ],
            [
             0.5555555555555556,
             "#1f9e89"
            ],
            [
             0.6666666666666666,
             "#35b779"
            ],
            [
             0.7777777777777778,
             "#6ece58"
            ],
            [
             0.8888888888888888,
             "#b5de2b"
            ],
            [
             1,
             "#fde725"
            ]
           ]
          },
          "colorway": [
           "#1F77B4",
           "#FF7F0E",
           "#2CA02C",
           "#D62728",
           "#9467BD",
           "#8C564B",
           "#E377C2",
           "#7F7F7F",
           "#BCBD22",
           "#17BECF"
          ],
          "font": {
           "color": "rgb(36,36,36)"
          },
          "geo": {
           "bgcolor": "white",
           "lakecolor": "white",
           "landcolor": "white",
           "showlakes": true,
           "showland": true,
           "subunitcolor": "white"
          },
          "hoverlabel": {
           "align": "left"
          },
          "hovermode": "closest",
          "mapbox": {
           "style": "light"
          },
          "paper_bgcolor": "white",
          "plot_bgcolor": "white",
          "polar": {
           "angularaxis": {
            "gridcolor": "rgb(232,232,232)",
            "linecolor": "rgb(36,36,36)",
            "showgrid": false,
            "showline": true,
            "ticks": "outside"
           },
           "bgcolor": "white",
           "radialaxis": {
            "gridcolor": "rgb(232,232,232)",
            "linecolor": "rgb(36,36,36)",
            "showgrid": false,
            "showline": true,
            "ticks": "outside"
           }
          },
          "scene": {
           "xaxis": {
            "backgroundcolor": "white",
            "gridcolor": "rgb(232,232,232)",
            "gridwidth": 2,
            "linecolor": "rgb(36,36,36)",
            "showbackground": true,
            "showgrid": false,
            "showline": true,
            "ticks": "outside",
            "zeroline": false,
            "zerolinecolor": "rgb(36,36,36)"
           },
           "yaxis": {
            "backgroundcolor": "white",
            "gridcolor": "rgb(232,232,232)",
            "gridwidth": 2,
            "linecolor": "rgb(36,36,36)",
            "showbackground": true,
            "showgrid": false,
            "showline": true,
            "ticks": "outside",
            "zeroline": false,
            "zerolinecolor": "rgb(36,36,36)"
           },
           "zaxis": {
            "backgroundcolor": "white",
            "gridcolor": "rgb(232,232,232)",
            "gridwidth": 2,
            "linecolor": "rgb(36,36,36)",
            "showbackground": true,
            "showgrid": false,
            "showline": true,
            "ticks": "outside",
            "zeroline": false,
            "zerolinecolor": "rgb(36,36,36)"
           }
          },
          "shapedefaults": {
           "fillcolor": "black",
           "line": {
            "width": 0
           },
           "opacity": 0.3
          },
          "ternary": {
           "aaxis": {
            "gridcolor": "rgb(232,232,232)",
            "linecolor": "rgb(36,36,36)",
            "showgrid": false,
            "showline": true,
            "ticks": "outside"
           },
           "baxis": {
            "gridcolor": "rgb(232,232,232)",
            "linecolor": "rgb(36,36,36)",
            "showgrid": false,
            "showline": true,
            "ticks": "outside"
           },
           "bgcolor": "white",
           "caxis": {
            "gridcolor": "rgb(232,232,232)",
            "linecolor": "rgb(36,36,36)",
            "showgrid": false,
            "showline": true,
            "ticks": "outside"
           }
          },
          "title": {
           "x": 0.05
          },
          "xaxis": {
           "automargin": true,
           "gridcolor": "rgb(232,232,232)",
           "linecolor": "rgb(36,36,36)",
           "showgrid": false,
           "showline": true,
           "ticks": "outside",
           "title": {
            "standoff": 15
           },
           "zeroline": false,
           "zerolinecolor": "rgb(36,36,36)"
          },
          "yaxis": {
           "automargin": true,
           "gridcolor": "rgb(232,232,232)",
           "linecolor": "rgb(36,36,36)",
           "showgrid": false,
           "showline": true,
           "ticks": "outside",
           "title": {
            "standoff": 15
           },
           "zeroline": false,
           "zerolinecolor": "rgb(36,36,36)"
          }
         }
        },
        "title": {
         "text": "Annual Electricity Use by Component (kWh)"
        },
        "xaxis": {
         "anchor": "y",
         "domain": [
          0,
          1
         ],
         "title": {
          "text": "Electricity Use (kWh)"
         }
        },
        "yaxis": {
         "anchor": "x",
         "categoryorder": "total ascending",
         "domain": [
          0,
          1
         ],
         "title": {
          "text": "Component"
         }
        }
       }
      }
     },
     "metadata": {},
     "output_type": "display_data"
    }
   ],
   "source": [
    "from src.visuals import plot_energy_breakdown\n",
    "\n",
    "df = source_energy.copy()\n",
    "\n",
    "plot_energy_breakdown(df)\n"
   ]
  },
  {
   "cell_type": "code",
   "execution_count": 15,
   "id": "312be981",
   "metadata": {},
   "outputs": [
    {
     "data": {
      "application/vnd.plotly.v1+json": {
       "config": {
        "plotlyServerURL": "https://plot.ly"
       },
       "data": [
        {
         "marker": {
          "color": "red"
         },
         "name": "Gas - Heating",
         "text": [
          "0"
         ],
         "textposition": "inside",
         "type": "bar",
         "x": [
          "Gas"
         ],
         "xaxis": "x",
         "y": [
          0
         ],
         "yaxis": "y"
        },
        {
         "marker": {
          "color": "red"
         },
         "name": "Electricity - Heating",
         "text": [
          "821909"
         ],
         "textposition": "inside",
         "type": "bar",
         "x": [
          "Electricity"
         ],
         "xaxis": "x",
         "y": [
          821909.06442
         ],
         "yaxis": "y"
        },
        {
         "marker": {
          "color": "blue"
         },
         "name": "Electricity - Cooling",
         "text": [
          "1676739"
         ],
         "textposition": "inside",
         "type": "bar",
         "x": [
          "Electricity"
         ],
         "xaxis": "x",
         "y": [
          1676738.85977
         ],
         "yaxis": "y"
        },
        {
         "marker": {
          "color": "yellow"
         },
         "name": "Gas - Emissions",
         "text": [
          "0.0"
         ],
         "textposition": "inside",
         "type": "bar",
         "x": [
          "Gas"
         ],
         "xaxis": "x2",
         "y": [
          0
         ],
         "yaxis": "y2"
        },
        {
         "marker": {
          "color": "black"
         },
         "name": "Electricity - Emissions",
         "text": [
          "1063876.7"
         ],
         "textposition": "inside",
         "type": "bar",
         "x": [
          "Electricity"
         ],
         "xaxis": "x2",
         "y": [
          1063876.6618421646
         ],
         "yaxis": "y2"
        },
        {
         "marker": {
          "color": "green"
         },
         "name": "Refrigerant - Emissions",
         "text": [
          "0.0"
         ],
         "textposition": "inside",
         "type": "bar",
         "x": [
          "Refrigerant"
         ],
         "xaxis": "x2",
         "y": [
          0
         ],
         "yaxis": "y2"
        }
       ],
       "layout": {
        "barmode": "stack",
        "showlegend": true,
        "template": {
         "data": {
          "bar": [
           {
            "error_x": {
             "color": "rgb(36,36,36)"
            },
            "error_y": {
             "color": "rgb(36,36,36)"
            },
            "marker": {
             "line": {
              "color": "white",
              "width": 0.5
             },
             "pattern": {
              "fillmode": "overlay",
              "size": 10,
              "solidity": 0.2
             }
            },
            "type": "bar"
           }
          ],
          "barpolar": [
           {
            "marker": {
             "line": {
              "color": "white",
              "width": 0.5
             },
             "pattern": {
              "fillmode": "overlay",
              "size": 10,
              "solidity": 0.2
             }
            },
            "type": "barpolar"
           }
          ],
          "carpet": [
           {
            "aaxis": {
             "endlinecolor": "rgb(36,36,36)",
             "gridcolor": "white",
             "linecolor": "white",
             "minorgridcolor": "white",
             "startlinecolor": "rgb(36,36,36)"
            },
            "baxis": {
             "endlinecolor": "rgb(36,36,36)",
             "gridcolor": "white",
             "linecolor": "white",
             "minorgridcolor": "white",
             "startlinecolor": "rgb(36,36,36)"
            },
            "type": "carpet"
           }
          ],
          "choropleth": [
           {
            "colorbar": {
             "outlinewidth": 1,
             "tickcolor": "rgb(36,36,36)",
             "ticks": "outside"
            },
            "type": "choropleth"
           }
          ],
          "contour": [
           {
            "colorbar": {
             "outlinewidth": 1,
             "tickcolor": "rgb(36,36,36)",
             "ticks": "outside"
            },
            "colorscale": [
             [
              0,
              "#440154"
             ],
             [
              0.1111111111111111,
              "#482878"
             ],
             [
              0.2222222222222222,
              "#3e4989"
             ],
             [
              0.3333333333333333,
              "#31688e"
             ],
             [
              0.4444444444444444,
              "#26828e"
             ],
             [
              0.5555555555555556,
              "#1f9e89"
             ],
             [
              0.6666666666666666,
              "#35b779"
             ],
             [
              0.7777777777777778,
              "#6ece58"
             ],
             [
              0.8888888888888888,
              "#b5de2b"
             ],
             [
              1,
              "#fde725"
             ]
            ],
            "type": "contour"
           }
          ],
          "contourcarpet": [
           {
            "colorbar": {
             "outlinewidth": 1,
             "tickcolor": "rgb(36,36,36)",
             "ticks": "outside"
            },
            "type": "contourcarpet"
           }
          ],
          "heatmap": [
           {
            "colorbar": {
             "outlinewidth": 1,
             "tickcolor": "rgb(36,36,36)",
             "ticks": "outside"
            },
            "colorscale": [
             [
              0,
              "#440154"
             ],
             [
              0.1111111111111111,
              "#482878"
             ],
             [
              0.2222222222222222,
              "#3e4989"
             ],
             [
              0.3333333333333333,
              "#31688e"
             ],
             [
              0.4444444444444444,
              "#26828e"
             ],
             [
              0.5555555555555556,
              "#1f9e89"
             ],
             [
              0.6666666666666666,
              "#35b779"
             ],
             [
              0.7777777777777778,
              "#6ece58"
             ],
             [
              0.8888888888888888,
              "#b5de2b"
             ],
             [
              1,
              "#fde725"
             ]
            ],
            "type": "heatmap"
           }
          ],
          "histogram": [
           {
            "marker": {
             "line": {
              "color": "white",
              "width": 0.6
             }
            },
            "type": "histogram"
           }
          ],
          "histogram2d": [
           {
            "colorbar": {
             "outlinewidth": 1,
             "tickcolor": "rgb(36,36,36)",
             "ticks": "outside"
            },
            "colorscale": [
             [
              0,
              "#440154"
             ],
             [
              0.1111111111111111,
              "#482878"
             ],
             [
              0.2222222222222222,
              "#3e4989"
             ],
             [
              0.3333333333333333,
              "#31688e"
             ],
             [
              0.4444444444444444,
              "#26828e"
             ],
             [
              0.5555555555555556,
              "#1f9e89"
             ],
             [
              0.6666666666666666,
              "#35b779"
             ],
             [
              0.7777777777777778,
              "#6ece58"
             ],
             [
              0.8888888888888888,
              "#b5de2b"
             ],
             [
              1,
              "#fde725"
             ]
            ],
            "type": "histogram2d"
           }
          ],
          "histogram2dcontour": [
           {
            "colorbar": {
             "outlinewidth": 1,
             "tickcolor": "rgb(36,36,36)",
             "ticks": "outside"
            },
            "colorscale": [
             [
              0,
              "#440154"
             ],
             [
              0.1111111111111111,
              "#482878"
             ],
             [
              0.2222222222222222,
              "#3e4989"
             ],
             [
              0.3333333333333333,
              "#31688e"
             ],
             [
              0.4444444444444444,
              "#26828e"
             ],
             [
              0.5555555555555556,
              "#1f9e89"
             ],
             [
              0.6666666666666666,
              "#35b779"
             ],
             [
              0.7777777777777778,
              "#6ece58"
             ],
             [
              0.8888888888888888,
              "#b5de2b"
             ],
             [
              1,
              "#fde725"
             ]
            ],
            "type": "histogram2dcontour"
           }
          ],
          "mesh3d": [
           {
            "colorbar": {
             "outlinewidth": 1,
             "tickcolor": "rgb(36,36,36)",
             "ticks": "outside"
            },
            "type": "mesh3d"
           }
          ],
          "parcoords": [
           {
            "line": {
             "colorbar": {
              "outlinewidth": 1,
              "tickcolor": "rgb(36,36,36)",
              "ticks": "outside"
             }
            },
            "type": "parcoords"
           }
          ],
          "pie": [
           {
            "automargin": true,
            "type": "pie"
           }
          ],
          "scatter": [
           {
            "fillpattern": {
             "fillmode": "overlay",
             "size": 10,
             "solidity": 0.2
            },
            "type": "scatter"
           }
          ],
          "scatter3d": [
           {
            "line": {
             "colorbar": {
              "outlinewidth": 1,
              "tickcolor": "rgb(36,36,36)",
              "ticks": "outside"
             }
            },
            "marker": {
             "colorbar": {
              "outlinewidth": 1,
              "tickcolor": "rgb(36,36,36)",
              "ticks": "outside"
             }
            },
            "type": "scatter3d"
           }
          ],
          "scattercarpet": [
           {
            "marker": {
             "colorbar": {
              "outlinewidth": 1,
              "tickcolor": "rgb(36,36,36)",
              "ticks": "outside"
             }
            },
            "type": "scattercarpet"
           }
          ],
          "scattergeo": [
           {
            "marker": {
             "colorbar": {
              "outlinewidth": 1,
              "tickcolor": "rgb(36,36,36)",
              "ticks": "outside"
             }
            },
            "type": "scattergeo"
           }
          ],
          "scattergl": [
           {
            "marker": {
             "colorbar": {
              "outlinewidth": 1,
              "tickcolor": "rgb(36,36,36)",
              "ticks": "outside"
             }
            },
            "type": "scattergl"
           }
          ],
          "scattermap": [
           {
            "marker": {
             "colorbar": {
              "outlinewidth": 1,
              "tickcolor": "rgb(36,36,36)",
              "ticks": "outside"
             }
            },
            "type": "scattermap"
           }
          ],
          "scattermapbox": [
           {
            "marker": {
             "colorbar": {
              "outlinewidth": 1,
              "tickcolor": "rgb(36,36,36)",
              "ticks": "outside"
             }
            },
            "type": "scattermapbox"
           }
          ],
          "scatterpolar": [
           {
            "marker": {
             "colorbar": {
              "outlinewidth": 1,
              "tickcolor": "rgb(36,36,36)",
              "ticks": "outside"
             }
            },
            "type": "scatterpolar"
           }
          ],
          "scatterpolargl": [
           {
            "marker": {
             "colorbar": {
              "outlinewidth": 1,
              "tickcolor": "rgb(36,36,36)",
              "ticks": "outside"
             }
            },
            "type": "scatterpolargl"
           }
          ],
          "scatterternary": [
           {
            "marker": {
             "colorbar": {
              "outlinewidth": 1,
              "tickcolor": "rgb(36,36,36)",
              "ticks": "outside"
             }
            },
            "type": "scatterternary"
           }
          ],
          "surface": [
           {
            "colorbar": {
             "outlinewidth": 1,
             "tickcolor": "rgb(36,36,36)",
             "ticks": "outside"
            },
            "colorscale": [
             [
              0,
              "#440154"
             ],
             [
              0.1111111111111111,
              "#482878"
             ],
             [
              0.2222222222222222,
              "#3e4989"
             ],
             [
              0.3333333333333333,
              "#31688e"
             ],
             [
              0.4444444444444444,
              "#26828e"
             ],
             [
              0.5555555555555556,
              "#1f9e89"
             ],
             [
              0.6666666666666666,
              "#35b779"
             ],
             [
              0.7777777777777778,
              "#6ece58"
             ],
             [
              0.8888888888888888,
              "#b5de2b"
             ],
             [
              1,
              "#fde725"
             ]
            ],
            "type": "surface"
           }
          ],
          "table": [
           {
            "cells": {
             "fill": {
              "color": "rgb(237,237,237)"
             },
             "line": {
              "color": "white"
             }
            },
            "header": {
             "fill": {
              "color": "rgb(217,217,217)"
             },
             "line": {
              "color": "white"
             }
            },
            "type": "table"
           }
          ]
         },
         "layout": {
          "annotationdefaults": {
           "arrowhead": 0,
           "arrowwidth": 1
          },
          "autotypenumbers": "strict",
          "coloraxis": {
           "colorbar": {
            "outlinewidth": 1,
            "tickcolor": "rgb(36,36,36)",
            "ticks": "outside"
           }
          },
          "colorscale": {
           "diverging": [
            [
             0,
             "rgb(103,0,31)"
            ],
            [
             0.1,
             "rgb(178,24,43)"
            ],
            [
             0.2,
             "rgb(214,96,77)"
            ],
            [
             0.3,
             "rgb(244,165,130)"
            ],
            [
             0.4,
             "rgb(253,219,199)"
            ],
            [
             0.5,
             "rgb(247,247,247)"
            ],
            [
             0.6,
             "rgb(209,229,240)"
            ],
            [
             0.7,
             "rgb(146,197,222)"
            ],
            [
             0.8,
             "rgb(67,147,195)"
            ],
            [
             0.9,
             "rgb(33,102,172)"
            ],
            [
             1,
             "rgb(5,48,97)"
            ]
           ],
           "sequential": [
            [
             0,
             "#440154"
            ],
            [
             0.1111111111111111,
             "#482878"
            ],
            [
             0.2222222222222222,
             "#3e4989"
            ],
            [
             0.3333333333333333,
             "#31688e"
            ],
            [
             0.4444444444444444,
             "#26828e"
            ],
            [
             0.5555555555555556,
             "#1f9e89"
            ],
            [
             0.6666666666666666,
             "#35b779"
            ],
            [
             0.7777777777777778,
             "#6ece58"
            ],
            [
             0.8888888888888888,
             "#b5de2b"
            ],
            [
             1,
             "#fde725"
            ]
           ],
           "sequentialminus": [
            [
             0,
             "#440154"
            ],
            [
             0.1111111111111111,
             "#482878"
            ],
            [
             0.2222222222222222,
             "#3e4989"
            ],
            [
             0.3333333333333333,
             "#31688e"
            ],
            [
             0.4444444444444444,
             "#26828e"
            ],
            [
             0.5555555555555556,
             "#1f9e89"
            ],
            [
             0.6666666666666666,
             "#35b779"
            ],
            [
             0.7777777777777778,
             "#6ece58"
            ],
            [
             0.8888888888888888,
             "#b5de2b"
            ],
            [
             1,
             "#fde725"
            ]
           ]
          },
          "colorway": [
           "#1F77B4",
           "#FF7F0E",
           "#2CA02C",
           "#D62728",
           "#9467BD",
           "#8C564B",
           "#E377C2",
           "#7F7F7F",
           "#BCBD22",
           "#17BECF"
          ],
          "font": {
           "color": "rgb(36,36,36)"
          },
          "geo": {
           "bgcolor": "white",
           "lakecolor": "white",
           "landcolor": "white",
           "showlakes": true,
           "showland": true,
           "subunitcolor": "white"
          },
          "hoverlabel": {
           "align": "left"
          },
          "hovermode": "closest",
          "mapbox": {
           "style": "light"
          },
          "paper_bgcolor": "white",
          "plot_bgcolor": "white",
          "polar": {
           "angularaxis": {
            "gridcolor": "rgb(232,232,232)",
            "linecolor": "rgb(36,36,36)",
            "showgrid": false,
            "showline": true,
            "ticks": "outside"
           },
           "bgcolor": "white",
           "radialaxis": {
            "gridcolor": "rgb(232,232,232)",
            "linecolor": "rgb(36,36,36)",
            "showgrid": false,
            "showline": true,
            "ticks": "outside"
           }
          },
          "scene": {
           "xaxis": {
            "backgroundcolor": "white",
            "gridcolor": "rgb(232,232,232)",
            "gridwidth": 2,
            "linecolor": "rgb(36,36,36)",
            "showbackground": true,
            "showgrid": false,
            "showline": true,
            "ticks": "outside",
            "zeroline": false,
            "zerolinecolor": "rgb(36,36,36)"
           },
           "yaxis": {
            "backgroundcolor": "white",
            "gridcolor": "rgb(232,232,232)",
            "gridwidth": 2,
            "linecolor": "rgb(36,36,36)",
            "showbackground": true,
            "showgrid": false,
            "showline": true,
            "ticks": "outside",
            "zeroline": false,
            "zerolinecolor": "rgb(36,36,36)"
           },
           "zaxis": {
            "backgroundcolor": "white",
            "gridcolor": "rgb(232,232,232)",
            "gridwidth": 2,
            "linecolor": "rgb(36,36,36)",
            "showbackground": true,
            "showgrid": false,
            "showline": true,
            "ticks": "outside",
            "zeroline": false,
            "zerolinecolor": "rgb(36,36,36)"
           }
          },
          "shapedefaults": {
           "fillcolor": "black",
           "line": {
            "width": 0
           },
           "opacity": 0.3
          },
          "ternary": {
           "aaxis": {
            "gridcolor": "rgb(232,232,232)",
            "linecolor": "rgb(36,36,36)",
            "showgrid": false,
            "showline": true,
            "ticks": "outside"
           },
           "baxis": {
            "gridcolor": "rgb(232,232,232)",
            "linecolor": "rgb(36,36,36)",
            "showgrid": false,
            "showline": true,
            "ticks": "outside"
           },
           "bgcolor": "white",
           "caxis": {
            "gridcolor": "rgb(232,232,232)",
            "linecolor": "rgb(36,36,36)",
            "showgrid": false,
            "showline": true,
            "ticks": "outside"
           }
          },
          "title": {
           "x": 0.05
          },
          "xaxis": {
           "automargin": true,
           "gridcolor": "rgb(232,232,232)",
           "linecolor": "rgb(36,36,36)",
           "showgrid": false,
           "showline": true,
           "ticks": "outside",
           "title": {
            "standoff": 15
           },
           "zeroline": false,
           "zerolinecolor": "rgb(36,36,36)"
          },
          "yaxis": {
           "automargin": true,
           "gridcolor": "rgb(232,232,232)",
           "linecolor": "rgb(36,36,36)",
           "showgrid": false,
           "showline": true,
           "ticks": "outside",
           "title": {
            "standoff": 15
           },
           "zeroline": false,
           "zerolinecolor": "rgb(36,36,36)"
          }
         }
        },
        "title": {
         "text": "Annual Energy & Emissions"
        },
        "xaxis": {
         "anchor": "y",
         "domain": [
          0,
          0.45
         ]
        },
        "xaxis2": {
         "anchor": "y2",
         "domain": [
          0.55,
          1
         ]
        },
        "yaxis": {
         "anchor": "x",
         "domain": [
          0,
          1
         ],
         "title": {
          "text": "kWh"
         }
        },
        "yaxis2": {
         "anchor": "x2",
         "domain": [
          0,
          1
         ],
         "title": {
          "text": "Emissions [kgCO₂]"
         }
        }
       }
      }
     },
     "metadata": {},
     "output_type": "display_data"
    }
   ],
   "source": [
    "from src.visuals import plot_energy_and_emissions\n",
    "\n",
    "df = source_energy.copy()\n",
    "\n",
    "plot_energy_and_emissions(df)\n"
   ]
  },
  {
   "cell_type": "code",
   "execution_count": 16,
   "id": "21b5d9bd",
   "metadata": {},
   "outputs": [
    {
     "data": {
      "application/vnd.plotly.v1+json": {
       "config": {
        "plotlyServerURL": "https://plot.ly"
       },
       "data": [
        {
         "colorbar": {
          "title": {
           "text": "Electricity Emissions (kg CO₂)"
          }
         },
         "colorscale": [
          [
           0,
           "rgb(255,255,217)"
          ],
          [
           0.125,
           "rgb(237,248,177)"
          ],
          [
           0.25,
           "rgb(199,233,180)"
          ],
          [
           0.375,
           "rgb(127,205,187)"
          ],
          [
           0.5,
           "rgb(65,182,196)"
          ],
          [
           0.625,
           "rgb(29,145,192)"
          ],
          [
           0.75,
           "rgb(34,94,168)"
          ],
          [
           0.875,
           "rgb(37,52,148)"
          ],
          [
           1,
           "rgb(8,29,88)"
          ]
         ],
         "type": "heatmap",
         "x": {
          "bdata": "AQAAAAIAAAADAAAABAAAAAUAAAAGAAAABwAAAAgAAAAJAAAACgAAAAsAAAAMAAAADQAAAA4AAAAPAAAAEAAAABEAAAASAAAAEwAAABQAAAAVAAAAFgAAABcAAAAYAAAAGQAAABoAAAAbAAAAHAAAAB0AAAAeAAAAHwAAACAAAAAhAAAAIgAAACMAAAAkAAAAJQAAACYAAAAnAAAAKAAAACkAAAAqAAAAKwAAACwAAAAtAAAALgAAAC8AAAAwAAAAMQAAADIAAAAzAAAANAAAADUAAAA2AAAANwAAADgAAAA5AAAAOgAAADsAAAA8AAAAPQAAAD4AAAA/AAAAQAAAAEEAAABCAAAAQwAAAEQAAABFAAAARgAAAEcAAABIAAAASQAAAEoAAABLAAAATAAAAE0AAABOAAAATwAAAFAAAABRAAAAUgAAAFMAAABUAAAAVQAAAFYAAABXAAAAWAAAAFkAAABaAAAAWwAAAFwAAABdAAAAXgAAAF8AAABgAAAAYQAAAGIAAABjAAAAZAAAAGUAAABmAAAAZwAAAGgAAABpAAAAagAAAGsAAABsAAAAbQAAAG4AAABvAAAAcAAAAHEAAAByAAAAcwAAAHQAAAB1AAAAdgAAAHcAAAB4AAAAeQAAAHoAAAB7AAAAfAAAAH0AAAB+AAAAfwAAAIAAAACBAAAAggAAAIMAAACEAAAAhQAAAIYAAACHAAAAiAAAAIkAAACKAAAAiwAAAIwAAACNAAAAjgAAAI8AAACQAAAAkQAAAJIAAACTAAAAlAAAAJUAAACWAAAAlwAAAJgAAACZAAAAmgAAAJsAAACcAAAAnQAAAJ4AAACfAAAAoAAAAKEAAACiAAAAowAAAKQAAAClAAAApgAAAKcAAACoAAAAqQAAAKoAAACrAAAArAAAAK0AAACuAAAArwAAALAAAACxAAAAsgAAALMAAAC0AAAAtQAAALYAAAC3AAAAuAAAALkAAAC6AAAAuwAAALwAAAC9AAAAvgAAAL8AAADAAAAAwQAAAMIAAADDAAAAxAAAAMUAAADGAAAAxwAAAMgAAADJAAAAygAAAMsAAADMAAAAzQAAAM4AAADPAAAA0AAAANEAAADSAAAA0wAAANQAAADVAAAA1gAAANcAAADYAAAA2QAAANoAAADbAAAA3AAAAN0AAADeAAAA3wAAAOAAAADhAAAA4gAAAOMAAADkAAAA5QAAAOYAAADnAAAA6AAAAOkAAADqAAAA6wAAAOwAAADtAAAA7gAAAO8AAADwAAAA8QAAAPIAAADzAAAA9AAAAPUAAAD2AAAA9wAAAPgAAAD5AAAA+gAAAPsAAAD8AAAA/QAAAP4AAAD/AAAAAAEAAAEBAAACAQAAAwEAAAQBAAAFAQAABgEAAAcBAAAIAQAACQEAAAoBAAALAQAADAEAAA0BAAAOAQAADwEAABABAAARAQAAEgEAABMBAAAUAQAAFQEAABYBAAAXAQAAGAEAABkBAAAaAQAAGwEAABwBAAAdAQAAHgEAAB8BAAAgAQAAIQEAACIBAAAjAQAAJAEAACUBAAAmAQAAJwEAACgBAAApAQAAKgEAACsBAAAsAQAALQEAAC4BAAAvAQAAMAEAADEBAAAyAQAAMwEAADQBAAA1AQAANgEAADcBAAA4AQAAOQEAADoBAAA7AQAAPAEAAD0BAAA+AQAAPwEAAEABAABBAQAAQgEAAEMBAABEAQAARQEAAEYBAABHAQAASAEAAEkBAABKAQAASwEAAEwBAABNAQAATgEAAE8BAABQAQAAUQEAAFIBAABTAQAAVAEAAFUBAABWAQAAVwEAAFgBAABZAQAAWgEAAFsBAABcAQAAXQEAAF4BAABfAQAAYAEAAGEBAABiAQAAYwEAAGQBAABlAQAAZgEAAGcBAABoAQAAaQEAAGoBAABrAQAAbAEAAG0BAAA=",
          "dtype": "i4"
         },
         "y": {
          "bdata": "AAAAAAEAAAACAAAAAwAAAAQAAAAFAAAABgAAAAcAAAAIAAAACQAAAAoAAAALAAAADAAAAA0AAAAOAAAADwAAABAAAAARAAAAEgAAABMAAAAUAAAAFQAAABYAAAAXAAAA",
          "dtype": "i4"
         },
         "z": {
          "bdata": "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",
          "dtype": "f8",
          "shape": "24, 365"
         }
        }
       ],
       "layout": {
        "template": {
         "data": {
          "bar": [
           {
            "error_x": {
             "color": "#2a3f5f"
            },
            "error_y": {
             "color": "#2a3f5f"
            },
            "marker": {
             "line": {
              "color": "#E5ECF6",
              "width": 0.5
             },
             "pattern": {
              "fillmode": "overlay",
              "size": 10,
              "solidity": 0.2
             }
            },
            "type": "bar"
           }
          ],
          "barpolar": [
           {
            "marker": {
             "line": {
              "color": "#E5ECF6",
              "width": 0.5
             },
             "pattern": {
              "fillmode": "overlay",
              "size": 10,
              "solidity": 0.2
             }
            },
            "type": "barpolar"
           }
          ],
          "carpet": [
           {
            "aaxis": {
             "endlinecolor": "#2a3f5f",
             "gridcolor": "white",
             "linecolor": "white",
             "minorgridcolor": "white",
             "startlinecolor": "#2a3f5f"
            },
            "baxis": {
             "endlinecolor": "#2a3f5f",
             "gridcolor": "white",
             "linecolor": "white",
             "minorgridcolor": "white",
             "startlinecolor": "#2a3f5f"
            },
            "type": "carpet"
           }
          ],
          "choropleth": [
           {
            "colorbar": {
             "outlinewidth": 0,
             "ticks": ""
            },
            "type": "choropleth"
           }
          ],
          "contour": [
           {
            "colorbar": {
             "outlinewidth": 0,
             "ticks": ""
            },
            "colorscale": [
             [
              0,
              "#0d0887"
             ],
             [
              0.1111111111111111,
              "#46039f"
             ],
             [
              0.2222222222222222,
              "#7201a8"
             ],
             [
              0.3333333333333333,
              "#9c179e"
             ],
             [
              0.4444444444444444,
              "#bd3786"
             ],
             [
              0.5555555555555556,
              "#d8576b"
             ],
             [
              0.6666666666666666,
              "#ed7953"
             ],
             [
              0.7777777777777778,
              "#fb9f3a"
             ],
             [
              0.8888888888888888,
              "#fdca26"
             ],
             [
              1,
              "#f0f921"
             ]
            ],
            "type": "contour"
           }
          ],
          "contourcarpet": [
           {
            "colorbar": {
             "outlinewidth": 0,
             "ticks": ""
            },
            "type": "contourcarpet"
           }
          ],
          "heatmap": [
           {
            "colorbar": {
             "outlinewidth": 0,
             "ticks": ""
            },
            "colorscale": [
             [
              0,
              "#0d0887"
             ],
             [
              0.1111111111111111,
              "#46039f"
             ],
             [
              0.2222222222222222,
              "#7201a8"
             ],
             [
              0.3333333333333333,
              "#9c179e"
             ],
             [
              0.4444444444444444,
              "#bd3786"
             ],
             [
              0.5555555555555556,
              "#d8576b"
             ],
             [
              0.6666666666666666,
              "#ed7953"
             ],
             [
              0.7777777777777778,
              "#fb9f3a"
             ],
             [
              0.8888888888888888,
              "#fdca26"
             ],
             [
              1,
              "#f0f921"
             ]
            ],
            "type": "heatmap"
           }
          ],
          "histogram": [
           {
            "marker": {
             "pattern": {
              "fillmode": "overlay",
              "size": 10,
              "solidity": 0.2
             }
            },
            "type": "histogram"
           }
          ],
          "histogram2d": [
           {
            "colorbar": {
             "outlinewidth": 0,
             "ticks": ""
            },
            "colorscale": [
             [
              0,
              "#0d0887"
             ],
             [
              0.1111111111111111,
              "#46039f"
             ],
             [
              0.2222222222222222,
              "#7201a8"
             ],
             [
              0.3333333333333333,
              "#9c179e"
             ],
             [
              0.4444444444444444,
              "#bd3786"
             ],
             [
              0.5555555555555556,
              "#d8576b"
             ],
             [
              0.6666666666666666,
              "#ed7953"
             ],
             [
              0.7777777777777778,
              "#fb9f3a"
             ],
             [
              0.8888888888888888,
              "#fdca26"
             ],
             [
              1,
              "#f0f921"
             ]
            ],
            "type": "histogram2d"
           }
          ],
          "histogram2dcontour": [
           {
            "colorbar": {
             "outlinewidth": 0,
             "ticks": ""
            },
            "colorscale": [
             [
              0,
              "#0d0887"
             ],
             [
              0.1111111111111111,
              "#46039f"
             ],
             [
              0.2222222222222222,
              "#7201a8"
             ],
             [
              0.3333333333333333,
              "#9c179e"
             ],
             [
              0.4444444444444444,
              "#bd3786"
             ],
             [
              0.5555555555555556,
              "#d8576b"
             ],
             [
              0.6666666666666666,
              "#ed7953"
             ],
             [
              0.7777777777777778,
              "#fb9f3a"
             ],
             [
              0.8888888888888888,
              "#fdca26"
             ],
             [
              1,
              "#f0f921"
             ]
            ],
            "type": "histogram2dcontour"
           }
          ],
          "mesh3d": [
           {
            "colorbar": {
             "outlinewidth": 0,
             "ticks": ""
            },
            "type": "mesh3d"
           }
          ],
          "parcoords": [
           {
            "line": {
             "colorbar": {
              "outlinewidth": 0,
              "ticks": ""
             }
            },
            "type": "parcoords"
           }
          ],
          "pie": [
           {
            "automargin": true,
            "type": "pie"
           }
          ],
          "scatter": [
           {
            "fillpattern": {
             "fillmode": "overlay",
             "size": 10,
             "solidity": 0.2
            },
            "type": "scatter"
           }
          ],
          "scatter3d": [
           {
            "line": {
             "colorbar": {
              "outlinewidth": 0,
              "ticks": ""
             }
            },
            "marker": {
             "colorbar": {
              "outlinewidth": 0,
              "ticks": ""
             }
            },
            "type": "scatter3d"
           }
          ],
          "scattercarpet": [
           {
            "marker": {
             "colorbar": {
              "outlinewidth": 0,
              "ticks": ""
             }
            },
            "type": "scattercarpet"
           }
          ],
          "scattergeo": [
           {
            "marker": {
             "colorbar": {
              "outlinewidth": 0,
              "ticks": ""
             }
            },
            "type": "scattergeo"
           }
          ],
          "scattergl": [
           {
            "marker": {
             "colorbar": {
              "outlinewidth": 0,
              "ticks": ""
             }
            },
            "type": "scattergl"
           }
          ],
          "scattermap": [
           {
            "marker": {
             "colorbar": {
              "outlinewidth": 0,
              "ticks": ""
             }
            },
            "type": "scattermap"
           }
          ],
          "scattermapbox": [
           {
            "marker": {
             "colorbar": {
              "outlinewidth": 0,
              "ticks": ""
             }
            },
            "type": "scattermapbox"
           }
          ],
          "scatterpolar": [
           {
            "marker": {
             "colorbar": {
              "outlinewidth": 0,
              "ticks": ""
             }
            },
            "type": "scatterpolar"
           }
          ],
          "scatterpolargl": [
           {
            "marker": {
             "colorbar": {
              "outlinewidth": 0,
              "ticks": ""
             }
            },
            "type": "scatterpolargl"
           }
          ],
          "scatterternary": [
           {
            "marker": {
             "colorbar": {
              "outlinewidth": 0,
              "ticks": ""
             }
            },
            "type": "scatterternary"
           }
          ],
          "surface": [
           {
            "colorbar": {
             "outlinewidth": 0,
             "ticks": ""
            },
            "colorscale": [
             [
              0,
              "#0d0887"
             ],
             [
              0.1111111111111111,
              "#46039f"
             ],
             [
              0.2222222222222222,
              "#7201a8"
             ],
             [
              0.3333333333333333,
              "#9c179e"
             ],
             [
              0.4444444444444444,
              "#bd3786"
             ],
             [
              0.5555555555555556,
              "#d8576b"
             ],
             [
              0.6666666666666666,
              "#ed7953"
             ],
             [
              0.7777777777777778,
              "#fb9f3a"
             ],
             [
              0.8888888888888888,
              "#fdca26"
             ],
             [
              1,
              "#f0f921"
             ]
            ],
            "type": "surface"
           }
          ],
          "table": [
           {
            "cells": {
             "fill": {
              "color": "#EBF0F8"
             },
             "line": {
              "color": "white"
             }
            },
            "header": {
             "fill": {
              "color": "#C8D4E3"
             },
             "line": {
              "color": "white"
             }
            },
            "type": "table"
           }
          ]
         },
         "layout": {
          "annotationdefaults": {
           "arrowcolor": "#2a3f5f",
           "arrowhead": 0,
           "arrowwidth": 1
          },
          "autotypenumbers": "strict",
          "coloraxis": {
           "colorbar": {
            "outlinewidth": 0,
            "ticks": ""
           }
          },
          "colorscale": {
           "diverging": [
            [
             0,
             "#8e0152"
            ],
            [
             0.1,
             "#c51b7d"
            ],
            [
             0.2,
             "#de77ae"
            ],
            [
             0.3,
             "#f1b6da"
            ],
            [
             0.4,
             "#fde0ef"
            ],
            [
             0.5,
             "#f7f7f7"
            ],
            [
             0.6,
             "#e6f5d0"
            ],
            [
             0.7,
             "#b8e186"
            ],
            [
             0.8,
             "#7fbc41"
            ],
            [
             0.9,
             "#4d9221"
            ],
            [
             1,
             "#276419"
            ]
           ],
           "sequential": [
            [
             0,
             "#0d0887"
            ],
            [
             0.1111111111111111,
             "#46039f"
            ],
            [
             0.2222222222222222,
             "#7201a8"
            ],
            [
             0.3333333333333333,
             "#9c179e"
            ],
            [
             0.4444444444444444,
             "#bd3786"
            ],
            [
             0.5555555555555556,
             "#d8576b"
            ],
            [
             0.6666666666666666,
             "#ed7953"
            ],
            [
             0.7777777777777778,
             "#fb9f3a"
            ],
            [
             0.8888888888888888,
             "#fdca26"
            ],
            [
             1,
             "#f0f921"
            ]
           ],
           "sequentialminus": [
            [
             0,
             "#0d0887"
            ],
            [
             0.1111111111111111,
             "#46039f"
            ],
            [
             0.2222222222222222,
             "#7201a8"
            ],
            [
             0.3333333333333333,
             "#9c179e"
            ],
            [
             0.4444444444444444,
             "#bd3786"
            ],
            [
             0.5555555555555556,
             "#d8576b"
            ],
            [
             0.6666666666666666,
             "#ed7953"
            ],
            [
             0.7777777777777778,
             "#fb9f3a"
            ],
            [
             0.8888888888888888,
             "#fdca26"
            ],
            [
             1,
             "#f0f921"
            ]
           ]
          },
          "colorway": [
           "#636efa",
           "#EF553B",
           "#00cc96",
           "#ab63fa",
           "#FFA15A",
           "#19d3f3",
           "#FF6692",
           "#B6E880",
           "#FF97FF",
           "#FECB52"
          ],
          "font": {
           "color": "#2a3f5f"
          },
          "geo": {
           "bgcolor": "white",
           "lakecolor": "white",
           "landcolor": "#E5ECF6",
           "showlakes": true,
           "showland": true,
           "subunitcolor": "white"
          },
          "hoverlabel": {
           "align": "left"
          },
          "hovermode": "closest",
          "mapbox": {
           "style": "light"
          },
          "paper_bgcolor": "white",
          "plot_bgcolor": "#E5ECF6",
          "polar": {
           "angularaxis": {
            "gridcolor": "white",
            "linecolor": "white",
            "ticks": ""
           },
           "bgcolor": "#E5ECF6",
           "radialaxis": {
            "gridcolor": "white",
            "linecolor": "white",
            "ticks": ""
           }
          },
          "scene": {
           "xaxis": {
            "backgroundcolor": "#E5ECF6",
            "gridcolor": "white",
            "gridwidth": 2,
            "linecolor": "white",
            "showbackground": true,
            "ticks": "",
            "zerolinecolor": "white"
           },
           "yaxis": {
            "backgroundcolor": "#E5ECF6",
            "gridcolor": "white",
            "gridwidth": 2,
            "linecolor": "white",
            "showbackground": true,
            "ticks": "",
            "zerolinecolor": "white"
           },
           "zaxis": {
            "backgroundcolor": "#E5ECF6",
            "gridcolor": "white",
            "gridwidth": 2,
            "linecolor": "white",
            "showbackground": true,
            "ticks": "",
            "zerolinecolor": "white"
           }
          },
          "shapedefaults": {
           "line": {
            "color": "#2a3f5f"
           }
          },
          "ternary": {
           "aaxis": {
            "gridcolor": "white",
            "linecolor": "white",
            "ticks": ""
           },
           "baxis": {
            "gridcolor": "white",
            "linecolor": "white",
            "ticks": ""
           },
           "bgcolor": "#E5ECF6",
           "caxis": {
            "gridcolor": "white",
            "linecolor": "white",
            "ticks": ""
           }
          },
          "title": {
           "x": 0.05
          },
          "xaxis": {
           "automargin": true,
           "gridcolor": "white",
           "linecolor": "white",
           "ticks": "",
           "title": {
            "standoff": 15
           },
           "zerolinecolor": "white",
           "zerolinewidth": 2
          },
          "yaxis": {
           "automargin": true,
           "gridcolor": "white",
           "linecolor": "white",
           "ticks": "",
           "title": {
            "standoff": 15
           },
           "zerolinecolor": "white",
           "zerolinewidth": 2
          }
         }
        },
        "title": {
         "text": "Electricity Emissions Heatmap (Hour of Day vs. Day of Year)"
        },
        "xaxis": {
         "title": {
          "text": "Day of Year"
         }
        },
        "yaxis": {
         "autorange": "reversed",
         "title": {
          "text": "Hour of Day"
         }
        }
       }
      }
     },
     "metadata": {},
     "output_type": "display_data"
    }
   ],
   "source": [
    "from src.visuals import plot_emissions_heatmap\n",
    "\n",
    "df = source_energy.copy()\n",
    "\n",
    "plot_emissions_heatmap(df)\n"
   ]
  },
  {
   "cell_type": "code",
   "execution_count": 17,
   "id": "d3ce94da",
   "metadata": {},
   "outputs": [
    {
     "data": {
      "application/vnd.plotly.v1+json": {
       "config": {
        "plotlyServerURL": "https://plot.ly"
       },
       "data": [
        {
         "fillpattern": {
          "shape": ""
         },
         "hovertemplate": "Meter=elec_hr_Wh<br>timestamp=%{x}<br>Usage=%{y}<extra></extra>",
         "legendgroup": "elec_hr_Wh",
         "line": {
          "color": "#636efa"
         },
         "marker": {
          "symbol": "circle"
         },
         "mode": "lines",
         "name": "elec_hr_Wh",
         "orientation": "v",
         "showlegend": true,
         "stackgroup": "one",
         "type": "scatter",
         "x": [
          "2025-01-01T00:00:00.000000000",
          "2025-01-02T00:00:00.000000000",
          "2025-01-03T00:00:00.000000000",
          "2025-01-04T00:00:00.000000000",
          "2025-01-05T00:00:00.000000000",
          "2025-01-06T00:00:00.000000000",
          "2025-01-07T00:00:00.000000000",
          "2025-01-08T00:00:00.000000000",
          "2025-01-09T00:00:00.000000000",
          "2025-01-10T00:00:00.000000000",
          "2025-01-11T00:00:00.000000000",
          "2025-01-12T00:00:00.000000000",
          "2025-01-13T00:00:00.000000000",
          "2025-01-14T00:00:00.000000000",
          "2025-01-15T00:00:00.000000000",
          "2025-01-16T00:00:00.000000000",
          "2025-01-17T00:00:00.000000000",
          "2025-01-18T00:00:00.000000000",
          "2025-01-19T00:00:00.000000000",
          "2025-01-20T00:00:00.000000000",
          "2025-01-21T00:00:00.000000000",
          "2025-01-22T00:00:00.000000000",
          "2025-01-23T00:00:00.000000000",
          "2025-01-24T00:00:00.000000000",
          "2025-01-25T00:00:00.000000000",
          "2025-01-26T00:00:00.000000000",
          "2025-01-27T00:00:00.000000000",
          "2025-01-28T00:00:00.000000000",
          "2025-01-29T00:00:00.000000000",
          "2025-01-30T00:00:00.000000000",
          "2025-01-31T00:00:00.000000000",
          "2025-02-01T00:00:00.000000000",
          "2025-02-02T00:00:00.000000000",
          "2025-02-03T00:00:00.000000000",
          "2025-02-04T00:00:00.000000000",
          "2025-02-05T00:00:00.000000000",
          "2025-02-06T00:00:00.000000000",
          "2025-02-07T00:00:00.000000000",
          "2025-02-08T00:00:00.000000000",
          "2025-02-09T00:00:00.000000000",
          "2025-02-10T00:00:00.000000000",
          "2025-02-11T00:00:00.000000000",
          "2025-02-12T00:00:00.000000000",
          "2025-02-13T00:00:00.000000000",
          "2025-02-14T00:00:00.000000000",
          "2025-02-15T00:00:00.000000000",
          "2025-02-16T00:00:00.000000000",
          "2025-02-17T00:00:00.000000000",
          "2025-02-18T00:00:00.000000000",
          "2025-02-19T00:00:00.000000000",
          "2025-02-20T00:00:00.000000000",
          "2025-02-21T00:00:00.000000000",
          "2025-02-22T00:00:00.000000000",
          "2025-02-23T00:00:00.000000000",
          "2025-02-24T00:00:00.000000000",
          "2025-02-25T00:00:00.000000000",
          "2025-02-26T00:00:00.000000000",
          "2025-02-27T00:00:00.000000000",
          "2025-02-28T00:00:00.000000000",
          "2025-03-01T00:00:00.000000000",
          "2025-03-02T00:00:00.000000000",
          "2025-03-03T00:00:00.000000000",
          "2025-03-04T00:00:00.000000000",
          "2025-03-05T00:00:00.000000000",
          "2025-03-06T00:00:00.000000000",
          "2025-03-07T00:00:00.000000000",
          "2025-03-08T00:00:00.000000000",
          "2025-03-09T00:00:00.000000000",
          "2025-03-10T00:00:00.000000000",
          "2025-03-11T00:00:00.000000000",
          "2025-03-12T00:00:00.000000000",
          "2025-03-13T00:00:00.000000000",
          "2025-03-14T00:00:00.000000000",
          "2025-03-15T00:00:00.000000000",
          "2025-03-16T00:00:00.000000000",
          "2025-03-17T00:00:00.000000000",
          "2025-03-18T00:00:00.000000000",
          "2025-03-19T00:00:00.000000000",
          "2025-03-20T00:00:00.000000000",
          "2025-03-21T00:00:00.000000000",
          "2025-03-22T00:00:00.000000000",
          "2025-03-23T00:00:00.000000000",
          "2025-03-24T00:00:00.000000000",
          "2025-03-25T00:00:00.000000000",
          "2025-03-26T00:00:00.000000000",
          "2025-03-27T00:00:00.000000000",
          "2025-03-28T00:00:00.000000000",
          "2025-03-29T00:00:00.000000000",
          "2025-03-30T00:00:00.000000000",
          "2025-03-31T00:00:00.000000000",
          "2025-04-01T00:00:00.000000000",
          "2025-04-02T00:00:00.000000000",
          "2025-04-03T00:00:00.000000000",
          "2025-04-04T00:00:00.000000000",
          "2025-04-05T00:00:00.000000000",
          "2025-04-06T00:00:00.000000000",
          "2025-04-07T00:00:00.000000000",
          "2025-04-08T00:00:00.000000000",
          "2025-04-09T00:00:00.000000000",
          "2025-04-10T00:00:00.000000000",
          "2025-04-11T00:00:00.000000000",
          "2025-04-12T00:00:00.000000000",
          "2025-04-13T00:00:00.000000000",
          "2025-04-14T00:00:00.000000000",
          "2025-04-15T00:00:00.000000000",
          "2025-04-16T00:00:00.000000000",
          "2025-04-17T00:00:00.000000000",
          "2025-04-18T00:00:00.000000000",
          "2025-04-19T00:00:00.000000000",
          "2025-04-20T00:00:00.000000000",
          "2025-04-21T00:00:00.000000000",
          "2025-04-22T00:00:00.000000000",
          "2025-04-23T00:00:00.000000000",
          "2025-04-24T00:00:00.000000000",
          "2025-04-25T00:00:00.000000000",
          "2025-04-26T00:00:00.000000000",
          "2025-04-27T00:00:00.000000000",
          "2025-04-28T00:00:00.000000000",
          "2025-04-29T00:00:00.000000000",
          "2025-04-30T00:00:00.000000000",
          "2025-05-01T00:00:00.000000000",
          "2025-05-02T00:00:00.000000000",
          "2025-05-03T00:00:00.000000000",
          "2025-05-04T00:00:00.000000000",
          "2025-05-05T00:00:00.000000000",
          "2025-05-06T00:00:00.000000000",
          "2025-05-07T00:00:00.000000000",
          "2025-05-08T00:00:00.000000000",
          "2025-05-09T00:00:00.000000000",
          "2025-05-10T00:00:00.000000000",
          "2025-05-11T00:00:00.000000000",
          "2025-05-12T00:00:00.000000000",
          "2025-05-13T00:00:00.000000000",
          "2025-05-14T00:00:00.000000000",
          "2025-05-15T00:00:00.000000000",
          "2025-05-16T00:00:00.000000000",
          "2025-05-17T00:00:00.000000000",
          "2025-05-18T00:00:00.000000000",
          "2025-05-19T00:00:00.000000000",
          "2025-05-20T00:00:00.000000000",
          "2025-05-21T00:00:00.000000000",
          "2025-05-22T00:00:00.000000000",
          "2025-05-23T00:00:00.000000000",
          "2025-05-24T00:00:00.000000000",
          "2025-05-25T00:00:00.000000000",
          "2025-05-26T00:00:00.000000000",
          "2025-05-27T00:00:00.000000000",
          "2025-05-28T00:00:00.000000000",
          "2025-05-29T00:00:00.000000000",
          "2025-05-30T00:00:00.000000000",
          "2025-05-31T00:00:00.000000000",
          "2025-06-01T00:00:00.000000000",
          "2025-06-02T00:00:00.000000000",
          "2025-06-03T00:00:00.000000000",
          "2025-06-04T00:00:00.000000000",
          "2025-06-05T00:00:00.000000000",
          "2025-06-06T00:00:00.000000000",
          "2025-06-07T00:00:00.000000000",
          "2025-06-08T00:00:00.000000000",
          "2025-06-09T00:00:00.000000000",
          "2025-06-10T00:00:00.000000000",
          "2025-06-11T00:00:00.000000000",
          "2025-06-12T00:00:00.000000000",
          "2025-06-13T00:00:00.000000000",
          "2025-06-14T00:00:00.000000000",
          "2025-06-15T00:00:00.000000000",
          "2025-06-16T00:00:00.000000000",
          "2025-06-17T00:00:00.000000000",
          "2025-06-18T00:00:00.000000000",
          "2025-06-19T00:00:00.000000000",
          "2025-06-20T00:00:00.000000000",
          "2025-06-21T00:00:00.000000000",
          "2025-06-22T00:00:00.000000000",
          "2025-06-23T00:00:00.000000000",
          "2025-06-24T00:00:00.000000000",
          "2025-06-25T00:00:00.000000000",
          "2025-06-26T00:00:00.000000000",
          "2025-06-27T00:00:00.000000000",
          "2025-06-28T00:00:00.000000000",
          "2025-06-29T00:00:00.000000000",
          "2025-06-30T00:00:00.000000000",
          "2025-07-01T00:00:00.000000000",
          "2025-07-02T00:00:00.000000000",
          "2025-07-03T00:00:00.000000000",
          "2025-07-04T00:00:00.000000000",
          "2025-07-05T00:00:00.000000000",
          "2025-07-06T00:00:00.000000000",
          "2025-07-07T00:00:00.000000000",
          "2025-07-08T00:00:00.000000000",
          "2025-07-09T00:00:00.000000000",
          "2025-07-10T00:00:00.000000000",
          "2025-07-11T00:00:00.000000000",
          "2025-07-12T00:00:00.000000000",
          "2025-07-13T00:00:00.000000000",
          "2025-07-14T00:00:00.000000000",
          "2025-07-15T00:00:00.000000000",
          "2025-07-16T00:00:00.000000000",
          "2025-07-17T00:00:00.000000000",
          "2025-07-18T00:00:00.000000000",
          "2025-07-19T00:00:00.000000000",
          "2025-07-20T00:00:00.000000000",
          "2025-07-21T00:00:00.000000000",
          "2025-07-22T00:00:00.000000000",
          "2025-07-23T00:00:00.000000000",
          "2025-07-24T00:00:00.000000000",
          "2025-07-25T00:00:00.000000000",
          "2025-07-26T00:00:00.000000000",
          "2025-07-27T00:00:00.000000000",
          "2025-07-28T00:00:00.000000000",
          "2025-07-29T00:00:00.000000000",
          "2025-07-30T00:00:00.000000000",
          "2025-07-31T00:00:00.000000000",
          "2025-08-01T00:00:00.000000000",
          "2025-08-02T00:00:00.000000000",
          "2025-08-03T00:00:00.000000000",
          "2025-08-04T00:00:00.000000000",
          "2025-08-05T00:00:00.000000000",
          "2025-08-06T00:00:00.000000000",
          "2025-08-07T00:00:00.000000000",
          "2025-08-08T00:00:00.000000000",
          "2025-08-09T00:00:00.000000000",
          "2025-08-10T00:00:00.000000000",
          "2025-08-11T00:00:00.000000000",
          "2025-08-12T00:00:00.000000000",
          "2025-08-13T00:00:00.000000000",
          "2025-08-14T00:00:00.000000000",
          "2025-08-15T00:00:00.000000000",
          "2025-08-16T00:00:00.000000000",
          "2025-08-17T00:00:00.000000000",
          "2025-08-18T00:00:00.000000000",
          "2025-08-19T00:00:00.000000000",
          "2025-08-20T00:00:00.000000000",
          "2025-08-21T00:00:00.000000000",
          "2025-08-22T00:00:00.000000000",
          "2025-08-23T00:00:00.000000000",
          "2025-08-24T00:00:00.000000000",
          "2025-08-25T00:00:00.000000000",
          "2025-08-26T00:00:00.000000000",
          "2025-08-27T00:00:00.000000000",
          "2025-08-28T00:00:00.000000000",
          "2025-08-29T00:00:00.000000000",
          "2025-08-30T00:00:00.000000000",
          "2025-08-31T00:00:00.000000000",
          "2025-09-01T00:00:00.000000000",
          "2025-09-02T00:00:00.000000000",
          "2025-09-03T00:00:00.000000000",
          "2025-09-04T00:00:00.000000000",
          "2025-09-05T00:00:00.000000000",
          "2025-09-06T00:00:00.000000000",
          "2025-09-07T00:00:00.000000000",
          "2025-09-08T00:00:00.000000000",
          "2025-09-09T00:00:00.000000000",
          "2025-09-10T00:00:00.000000000",
          "2025-09-11T00:00:00.000000000",
          "2025-09-12T00:00:00.000000000",
          "2025-09-13T00:00:00.000000000",
          "2025-09-14T00:00:00.000000000",
          "2025-09-15T00:00:00.000000000",
          "2025-09-16T00:00:00.000000000",
          "2025-09-17T00:00:00.000000000",
          "2025-09-18T00:00:00.000000000",
          "2025-09-19T00:00:00.000000000",
          "2025-09-20T00:00:00.000000000",
          "2025-09-21T00:00:00.000000000",
          "2025-09-22T00:00:00.000000000",
          "2025-09-23T00:00:00.000000000",
          "2025-09-24T00:00:00.000000000",
          "2025-09-25T00:00:00.000000000",
          "2025-09-26T00:00:00.000000000",
          "2025-09-27T00:00:00.000000000",
          "2025-09-28T00:00:00.000000000",
          "2025-09-29T00:00:00.000000000",
          "2025-09-30T00:00:00.000000000",
          "2025-10-01T00:00:00.000000000",
          "2025-10-02T00:00:00.000000000",
          "2025-10-03T00:00:00.000000000",
          "2025-10-04T00:00:00.000000000",
          "2025-10-05T00:00:00.000000000",
          "2025-10-06T00:00:00.000000000",
          "2025-10-07T00:00:00.000000000",
          "2025-10-08T00:00:00.000000000",
          "2025-10-09T00:00:00.000000000",
          "2025-10-10T00:00:00.000000000",
          "2025-10-11T00:00:00.000000000",
          "2025-10-12T00:00:00.000000000",
          "2025-10-13T00:00:00.000000000",
          "2025-10-14T00:00:00.000000000",
          "2025-10-15T00:00:00.000000000",
          "2025-10-16T00:00:00.000000000",
          "2025-10-17T00:00:00.000000000",
          "2025-10-18T00:00:00.000000000",
          "2025-10-19T00:00:00.000000000",
          "2025-10-20T00:00:00.000000000",
          "2025-10-21T00:00:00.000000000",
          "2025-10-22T00:00:00.000000000",
          "2025-10-23T00:00:00.000000000",
          "2025-10-24T00:00:00.000000000",
          "2025-10-25T00:00:00.000000000",
          "2025-10-26T00:00:00.000000000",
          "2025-10-27T00:00:00.000000000",
          "2025-10-28T00:00:00.000000000",
          "2025-10-29T00:00:00.000000000",
          "2025-10-30T00:00:00.000000000",
          "2025-10-31T00:00:00.000000000",
          "2025-11-01T00:00:00.000000000",
          "2025-11-02T00:00:00.000000000",
          "2025-11-03T00:00:00.000000000",
          "2025-11-04T00:00:00.000000000",
          "2025-11-05T00:00:00.000000000",
          "2025-11-06T00:00:00.000000000",
          "2025-11-07T00:00:00.000000000",
          "2025-11-08T00:00:00.000000000",
          "2025-11-09T00:00:00.000000000",
          "2025-11-10T00:00:00.000000000",
          "2025-11-11T00:00:00.000000000",
          "2025-11-12T00:00:00.000000000",
          "2025-11-13T00:00:00.000000000",
          "2025-11-14T00:00:00.000000000",
          "2025-11-15T00:00:00.000000000",
          "2025-11-16T00:00:00.000000000",
          "2025-11-17T00:00:00.000000000",
          "2025-11-18T00:00:00.000000000",
          "2025-11-19T00:00:00.000000000",
          "2025-11-20T00:00:00.000000000",
          "2025-11-21T00:00:00.000000000",
          "2025-11-22T00:00:00.000000000",
          "2025-11-23T00:00:00.000000000",
          "2025-11-24T00:00:00.000000000",
          "2025-11-25T00:00:00.000000000",
          "2025-11-26T00:00:00.000000000",
          "2025-11-27T00:00:00.000000000",
          "2025-11-28T00:00:00.000000000",
          "2025-11-29T00:00:00.000000000",
          "2025-11-30T00:00:00.000000000",
          "2025-12-01T00:00:00.000000000",
          "2025-12-02T00:00:00.000000000",
          "2025-12-03T00:00:00.000000000",
          "2025-12-04T00:00:00.000000000",
          "2025-12-05T00:00:00.000000000",
          "2025-12-06T00:00:00.000000000",
          "2025-12-07T00:00:00.000000000",
          "2025-12-08T00:00:00.000000000",
          "2025-12-09T00:00:00.000000000",
          "2025-12-10T00:00:00.000000000",
          "2025-12-11T00:00:00.000000000",
          "2025-12-12T00:00:00.000000000",
          "2025-12-13T00:00:00.000000000",
          "2025-12-14T00:00:00.000000000",
          "2025-12-15T00:00:00.000000000",
          "2025-12-16T00:00:00.000000000",
          "2025-12-17T00:00:00.000000000",
          "2025-12-18T00:00:00.000000000",
          "2025-12-19T00:00:00.000000000",
          "2025-12-20T00:00:00.000000000",
          "2025-12-21T00:00:00.000000000",
          "2025-12-22T00:00:00.000000000",
          "2025-12-23T00:00:00.000000000",
          "2025-12-24T00:00:00.000000000",
          "2025-12-25T00:00:00.000000000",
          "2025-12-26T00:00:00.000000000",
          "2025-12-27T00:00:00.000000000",
          "2025-12-28T00:00:00.000000000",
          "2025-12-29T00:00:00.000000000",
          "2025-12-30T00:00:00.000000000",
          "2025-12-31T00:00:00.000000000"
         ],
         "xaxis": "x",
         "y": {
          "bdata": "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",
          "dtype": "f8"
         },
         "yaxis": "y"
        },
        {
         "fillpattern": {
          "shape": ""
         },
         "hovertemplate": "Meter=elec_awhp_h_Wh<br>timestamp=%{x}<br>Usage=%{y}<extra></extra>",
         "legendgroup": "elec_awhp_h_Wh",
         "line": {
          "color": "#EF553B"
         },
         "marker": {
          "symbol": "circle"
         },
         "mode": "lines",
         "name": "elec_awhp_h_Wh",
         "orientation": "v",
         "showlegend": true,
         "stackgroup": "one",
         "type": "scatter",
         "x": [
          "2025-01-01T00:00:00.000000000",
          "2025-01-02T00:00:00.000000000",
          "2025-01-03T00:00:00.000000000",
          "2025-01-04T00:00:00.000000000",
          "2025-01-05T00:00:00.000000000",
          "2025-01-06T00:00:00.000000000",
          "2025-01-07T00:00:00.000000000",
          "2025-01-08T00:00:00.000000000",
          "2025-01-09T00:00:00.000000000",
          "2025-01-10T00:00:00.000000000",
          "2025-01-11T00:00:00.000000000",
          "2025-01-12T00:00:00.000000000",
          "2025-01-13T00:00:00.000000000",
          "2025-01-14T00:00:00.000000000",
          "2025-01-15T00:00:00.000000000",
          "2025-01-16T00:00:00.000000000",
          "2025-01-17T00:00:00.000000000",
          "2025-01-18T00:00:00.000000000",
          "2025-01-19T00:00:00.000000000",
          "2025-01-20T00:00:00.000000000",
          "2025-01-21T00:00:00.000000000",
          "2025-01-22T00:00:00.000000000",
          "2025-01-23T00:00:00.000000000",
          "2025-01-24T00:00:00.000000000",
          "2025-01-25T00:00:00.000000000",
          "2025-01-26T00:00:00.000000000",
          "2025-01-27T00:00:00.000000000",
          "2025-01-28T00:00:00.000000000",
          "2025-01-29T00:00:00.000000000",
          "2025-01-30T00:00:00.000000000",
          "2025-01-31T00:00:00.000000000",
          "2025-02-01T00:00:00.000000000",
          "2025-02-02T00:00:00.000000000",
          "2025-02-03T00:00:00.000000000",
          "2025-02-04T00:00:00.000000000",
          "2025-02-05T00:00:00.000000000",
          "2025-02-06T00:00:00.000000000",
          "2025-02-07T00:00:00.000000000",
          "2025-02-08T00:00:00.000000000",
          "2025-02-09T00:00:00.000000000",
          "2025-02-10T00:00:00.000000000",
          "2025-02-11T00:00:00.000000000",
          "2025-02-12T00:00:00.000000000",
          "2025-02-13T00:00:00.000000000",
          "2025-02-14T00:00:00.000000000",
          "2025-02-15T00:00:00.000000000",
          "2025-02-16T00:00:00.000000000",
          "2025-02-17T00:00:00.000000000",
          "2025-02-18T00:00:00.000000000",
          "2025-02-19T00:00:00.000000000",
          "2025-02-20T00:00:00.000000000",
          "2025-02-21T00:00:00.000000000",
          "2025-02-22T00:00:00.000000000",
          "2025-02-23T00:00:00.000000000",
          "2025-02-24T00:00:00.000000000",
          "2025-02-25T00:00:00.000000000",
          "2025-02-26T00:00:00.000000000",
          "2025-02-27T00:00:00.000000000",
          "2025-02-28T00:00:00.000000000",
          "2025-03-01T00:00:00.000000000",
          "2025-03-02T00:00:00.000000000",
          "2025-03-03T00:00:00.000000000",
          "2025-03-04T00:00:00.000000000",
          "2025-03-05T00:00:00.000000000",
          "2025-03-06T00:00:00.000000000",
          "2025-03-07T00:00:00.000000000",
          "2025-03-08T00:00:00.000000000",
          "2025-03-09T00:00:00.000000000",
          "2025-03-10T00:00:00.000000000",
          "2025-03-11T00:00:00.000000000",
          "2025-03-12T00:00:00.000000000",
          "2025-03-13T00:00:00.000000000",
          "2025-03-14T00:00:00.000000000",
          "2025-03-15T00:00:00.000000000",
          "2025-03-16T00:00:00.000000000",
          "2025-03-17T00:00:00.000000000",
          "2025-03-18T00:00:00.000000000",
          "2025-03-19T00:00:00.000000000",
          "2025-03-20T00:00:00.000000000",
          "2025-03-21T00:00:00.000000000",
          "2025-03-22T00:00:00.000000000",
          "2025-03-23T00:00:00.000000000",
          "2025-03-24T00:00:00.000000000",
          "2025-03-25T00:00:00.000000000",
          "2025-03-26T00:00:00.000000000",
          "2025-03-27T00:00:00.000000000",
          "2025-03-28T00:00:00.000000000",
          "2025-03-29T00:00:00.000000000",
          "2025-03-30T00:00:00.000000000",
          "2025-03-31T00:00:00.000000000",
          "2025-04-01T00:00:00.000000000",
          "2025-04-02T00:00:00.000000000",
          "2025-04-03T00:00:00.000000000",
          "2025-04-04T00:00:00.000000000",
          "2025-04-05T00:00:00.000000000",
          "2025-04-06T00:00:00.000000000",
          "2025-04-07T00:00:00.000000000",
          "2025-04-08T00:00:00.000000000",
          "2025-04-09T00:00:00.000000000",
          "2025-04-10T00:00:00.000000000",
          "2025-04-11T00:00:00.000000000",
          "2025-04-12T00:00:00.000000000",
          "2025-04-13T00:00:00.000000000",
          "2025-04-14T00:00:00.000000000",
          "2025-04-15T00:00:00.000000000",
          "2025-04-16T00:00:00.000000000",
          "2025-04-17T00:00:00.000000000",
          "2025-04-18T00:00:00.000000000",
          "2025-04-19T00:00:00.000000000",
          "2025-04-20T00:00:00.000000000",
          "2025-04-21T00:00:00.000000000",
          "2025-04-22T00:00:00.000000000",
          "2025-04-23T00:00:00.000000000",
          "2025-04-24T00:00:00.000000000",
          "2025-04-25T00:00:00.000000000",
          "2025-04-26T00:00:00.000000000",
          "2025-04-27T00:00:00.000000000",
          "2025-04-28T00:00:00.000000000",
          "2025-04-29T00:00:00.000000000",
          "2025-04-30T00:00:00.000000000",
          "2025-05-01T00:00:00.000000000",
          "2025-05-02T00:00:00.000000000",
          "2025-05-03T00:00:00.000000000",
          "2025-05-04T00:00:00.000000000",
          "2025-05-05T00:00:00.000000000",
          "2025-05-06T00:00:00.000000000",
          "2025-05-07T00:00:00.000000000",
          "2025-05-08T00:00:00.000000000",
          "2025-05-09T00:00:00.000000000",
          "2025-05-10T00:00:00.000000000",
          "2025-05-11T00:00:00.000000000",
          "2025-05-12T00:00:00.000000000",
          "2025-05-13T00:00:00.000000000",
          "2025-05-14T00:00:00.000000000",
          "2025-05-15T00:00:00.000000000",
          "2025-05-16T00:00:00.000000000",
          "2025-05-17T00:00:00.000000000",
          "2025-05-18T00:00:00.000000000",
          "2025-05-19T00:00:00.000000000",
          "2025-05-20T00:00:00.000000000",
          "2025-05-21T00:00:00.000000000",
          "2025-05-22T00:00:00.000000000",
          "2025-05-23T00:00:00.000000000",
          "2025-05-24T00:00:00.000000000",
          "2025-05-25T00:00:00.000000000",
          "2025-05-26T00:00:00.000000000",
          "2025-05-27T00:00:00.000000000",
          "2025-05-28T00:00:00.000000000",
          "2025-05-29T00:00:00.000000000",
          "2025-05-30T00:00:00.000000000",
          "2025-05-31T00:00:00.000000000",
          "2025-06-01T00:00:00.000000000",
          "2025-06-02T00:00:00.000000000",
          "2025-06-03T00:00:00.000000000",
          "2025-06-04T00:00:00.000000000",
          "2025-06-05T00:00:00.000000000",
          "2025-06-06T00:00:00.000000000",
          "2025-06-07T00:00:00.000000000",
          "2025-06-08T00:00:00.000000000",
          "2025-06-09T00:00:00.000000000",
          "2025-06-10T00:00:00.000000000",
          "2025-06-11T00:00:00.000000000",
          "2025-06-12T00:00:00.000000000",
          "2025-06-13T00:00:00.000000000",
          "2025-06-14T00:00:00.000000000",
          "2025-06-15T00:00:00.000000000",
          "2025-06-16T00:00:00.000000000",
          "2025-06-17T00:00:00.000000000",
          "2025-06-18T00:00:00.000000000",
          "2025-06-19T00:00:00.000000000",
          "2025-06-20T00:00:00.000000000",
          "2025-06-21T00:00:00.000000000",
          "2025-06-22T00:00:00.000000000",
          "2025-06-23T00:00:00.000000000",
          "2025-06-24T00:00:00.000000000",
          "2025-06-25T00:00:00.000000000",
          "2025-06-26T00:00:00.000000000",
          "2025-06-27T00:00:00.000000000",
          "2025-06-28T00:00:00.000000000",
          "2025-06-29T00:00:00.000000000",
          "2025-06-30T00:00:00.000000000",
          "2025-07-01T00:00:00.000000000",
          "2025-07-02T00:00:00.000000000",
          "2025-07-03T00:00:00.000000000",
          "2025-07-04T00:00:00.000000000",
          "2025-07-05T00:00:00.000000000",
          "2025-07-06T00:00:00.000000000",
          "2025-07-07T00:00:00.000000000",
          "2025-07-08T00:00:00.000000000",
          "2025-07-09T00:00:00.000000000",
          "2025-07-10T00:00:00.000000000",
          "2025-07-11T00:00:00.000000000",
          "2025-07-12T00:00:00.000000000",
          "2025-07-13T00:00:00.000000000",
          "2025-07-14T00:00:00.000000000",
          "2025-07-15T00:00:00.000000000",
          "2025-07-16T00:00:00.000000000",
          "2025-07-17T00:00:00.000000000",
          "2025-07-18T00:00:00.000000000",
          "2025-07-19T00:00:00.000000000",
          "2025-07-20T00:00:00.000000000",
          "2025-07-21T00:00:00.000000000",
          "2025-07-22T00:00:00.000000000",
          "2025-07-23T00:00:00.000000000",
          "2025-07-24T00:00:00.000000000",
          "2025-07-25T00:00:00.000000000",
          "2025-07-26T00:00:00.000000000",
          "2025-07-27T00:00:00.000000000",
          "2025-07-28T00:00:00.000000000",
          "2025-07-29T00:00:00.000000000",
          "2025-07-30T00:00:00.000000000",
          "2025-07-31T00:00:00.000000000",
          "2025-08-01T00:00:00.000000000",
          "2025-08-02T00:00:00.000000000",
          "2025-08-03T00:00:00.000000000",
          "2025-08-04T00:00:00.000000000",
          "2025-08-05T00:00:00.000000000",
          "2025-08-06T00:00:00.000000000",
          "2025-08-07T00:00:00.000000000",
          "2025-08-08T00:00:00.000000000",
          "2025-08-09T00:00:00.000000000",
          "2025-08-10T00:00:00.000000000",
          "2025-08-11T00:00:00.000000000",
          "2025-08-12T00:00:00.000000000",
          "2025-08-13T00:00:00.000000000",
          "2025-08-14T00:00:00.000000000",
          "2025-08-15T00:00:00.000000000",
          "2025-08-16T00:00:00.000000000",
          "2025-08-17T00:00:00.000000000",
          "2025-08-18T00:00:00.000000000",
          "2025-08-19T00:00:00.000000000",
          "2025-08-20T00:00:00.000000000",
          "2025-08-21T00:00:00.000000000",
          "2025-08-22T00:00:00.000000000",
          "2025-08-23T00:00:00.000000000",
          "2025-08-24T00:00:00.000000000",
          "2025-08-25T00:00:00.000000000",
          "2025-08-26T00:00:00.000000000",
          "2025-08-27T00:00:00.000000000",
          "2025-08-28T00:00:00.000000000",
          "2025-08-29T00:00:00.000000000",
          "2025-08-30T00:00:00.000000000",
          "2025-08-31T00:00:00.000000000",
          "2025-09-01T00:00:00.000000000",
          "2025-09-02T00:00:00.000000000",
          "2025-09-03T00:00:00.000000000",
          "2025-09-04T00:00:00.000000000",
          "2025-09-05T00:00:00.000000000",
          "2025-09-06T00:00:00.000000000",
          "2025-09-07T00:00:00.000000000",
          "2025-09-08T00:00:00.000000000",
          "2025-09-09T00:00:00.000000000",
          "2025-09-10T00:00:00.000000000",
          "2025-09-11T00:00:00.000000000",
          "2025-09-12T00:00:00.000000000",
          "2025-09-13T00:00:00.000000000",
          "2025-09-14T00:00:00.000000000",
          "2025-09-15T00:00:00.000000000",
          "2025-09-16T00:00:00.000000000",
          "2025-09-17T00:00:00.000000000",
          "2025-09-18T00:00:00.000000000",
          "2025-09-19T00:00:00.000000000",
          "2025-09-20T00:00:00.000000000",
          "2025-09-21T00:00:00.000000000",
          "2025-09-22T00:00:00.000000000",
          "2025-09-23T00:00:00.000000000",
          "2025-09-24T00:00:00.000000000",
          "2025-09-25T00:00:00.000000000",
          "2025-09-26T00:00:00.000000000",
          "2025-09-27T00:00:00.000000000",
          "2025-09-28T00:00:00.000000000",
          "2025-09-29T00:00:00.000000000",
          "2025-09-30T00:00:00.000000000",
          "2025-10-01T00:00:00.000000000",
          "2025-10-02T00:00:00.000000000",
          "2025-10-03T00:00:00.000000000",
          "2025-10-04T00:00:00.000000000",
          "2025-10-05T00:00:00.000000000",
          "2025-10-06T00:00:00.000000000",
          "2025-10-07T00:00:00.000000000",
          "2025-10-08T00:00:00.000000000",
          "2025-10-09T00:00:00.000000000",
          "2025-10-10T00:00:00.000000000",
          "2025-10-11T00:00:00.000000000",
          "2025-10-12T00:00:00.000000000",
          "2025-10-13T00:00:00.000000000",
          "2025-10-14T00:00:00.000000000",
          "2025-10-15T00:00:00.000000000",
          "2025-10-16T00:00:00.000000000",
          "2025-10-17T00:00:00.000000000",
          "2025-10-18T00:00:00.000000000",
          "2025-10-19T00:00:00.000000000",
          "2025-10-20T00:00:00.000000000",
          "2025-10-21T00:00:00.000000000",
          "2025-10-22T00:00:00.000000000",
          "2025-10-23T00:00:00.000000000",
          "2025-10-24T00:00:00.000000000",
          "2025-10-25T00:00:00.000000000",
          "2025-10-26T00:00:00.000000000",
          "2025-10-27T00:00:00.000000000",
          "2025-10-28T00:00:00.000000000",
          "2025-10-29T00:00:00.000000000",
          "2025-10-30T00:00:00.000000000",
          "2025-10-31T00:00:00.000000000",
          "2025-11-01T00:00:00.000000000",
          "2025-11-02T00:00:00.000000000",
          "2025-11-03T00:00:00.000000000",
          "2025-11-04T00:00:00.000000000",
          "2025-11-05T00:00:00.000000000",
          "2025-11-06T00:00:00.000000000",
          "2025-11-07T00:00:00.000000000",
          "2025-11-08T00:00:00.000000000",
          "2025-11-09T00:00:00.000000000",
          "2025-11-10T00:00:00.000000000",
          "2025-11-11T00:00:00.000000000",
          "2025-11-12T00:00:00.000000000",
          "2025-11-13T00:00:00.000000000",
          "2025-11-14T00:00:00.000000000",
          "2025-11-15T00:00:00.000000000",
          "2025-11-16T00:00:00.000000000",
          "2025-11-17T00:00:00.000000000",
          "2025-11-18T00:00:00.000000000",
          "2025-11-19T00:00:00.000000000",
          "2025-11-20T00:00:00.000000000",
          "2025-11-21T00:00:00.000000000",
          "2025-11-22T00:00:00.000000000",
          "2025-11-23T00:00:00.000000000",
          "2025-11-24T00:00:00.000000000",
          "2025-11-25T00:00:00.000000000",
          "2025-11-26T00:00:00.000000000",
          "2025-11-27T00:00:00.000000000",
          "2025-11-28T00:00:00.000000000",
          "2025-11-29T00:00:00.000000000",
          "2025-11-30T00:00:00.000000000",
          "2025-12-01T00:00:00.000000000",
          "2025-12-02T00:00:00.000000000",
          "2025-12-03T00:00:00.000000000",
          "2025-12-04T00:00:00.000000000",
          "2025-12-05T00:00:00.000000000",
          "2025-12-06T00:00:00.000000000",
          "2025-12-07T00:00:00.000000000",
          "2025-12-08T00:00:00.000000000",
          "2025-12-09T00:00:00.000000000",
          "2025-12-10T00:00:00.000000000",
          "2025-12-11T00:00:00.000000000",
          "2025-12-12T00:00:00.000000000",
          "2025-12-13T00:00:00.000000000",
          "2025-12-14T00:00:00.000000000",
          "2025-12-15T00:00:00.000000000",
          "2025-12-16T00:00:00.000000000",
          "2025-12-17T00:00:00.000000000",
          "2025-12-18T00:00:00.000000000",
          "2025-12-19T00:00:00.000000000",
          "2025-12-20T00:00:00.000000000",
          "2025-12-21T00:00:00.000000000",
          "2025-12-22T00:00:00.000000000",
          "2025-12-23T00:00:00.000000000",
          "2025-12-24T00:00:00.000000000",
          "2025-12-25T00:00:00.000000000",
          "2025-12-26T00:00:00.000000000",
          "2025-12-27T00:00:00.000000000",
          "2025-12-28T00:00:00.000000000",
          "2025-12-29T00:00:00.000000000",
          "2025-12-30T00:00:00.000000000",
          "2025-12-31T00:00:00.000000000"
         ],
         "xaxis": "x",
         "y": {
          "bdata": "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",
          "dtype": "f8"
         },
         "yaxis": "y"
        },
        {
         "fillpattern": {
          "shape": ""
         },
         "hovertemplate": "Meter=elec_chiller_Wh<br>timestamp=%{x}<br>Usage=%{y}<extra></extra>",
         "legendgroup": "elec_chiller_Wh",
         "line": {
          "color": "#00cc96"
         },
         "marker": {
          "symbol": "circle"
         },
         "mode": "lines",
         "name": "elec_chiller_Wh",
         "orientation": "v",
         "showlegend": true,
         "stackgroup": "one",
         "type": "scatter",
         "x": [
          "2025-01-01T00:00:00.000000000",
          "2025-01-02T00:00:00.000000000",
          "2025-01-03T00:00:00.000000000",
          "2025-01-04T00:00:00.000000000",
          "2025-01-05T00:00:00.000000000",
          "2025-01-06T00:00:00.000000000",
          "2025-01-07T00:00:00.000000000",
          "2025-01-08T00:00:00.000000000",
          "2025-01-09T00:00:00.000000000",
          "2025-01-10T00:00:00.000000000",
          "2025-01-11T00:00:00.000000000",
          "2025-01-12T00:00:00.000000000",
          "2025-01-13T00:00:00.000000000",
          "2025-01-14T00:00:00.000000000",
          "2025-01-15T00:00:00.000000000",
          "2025-01-16T00:00:00.000000000",
          "2025-01-17T00:00:00.000000000",
          "2025-01-18T00:00:00.000000000",
          "2025-01-19T00:00:00.000000000",
          "2025-01-20T00:00:00.000000000",
          "2025-01-21T00:00:00.000000000",
          "2025-01-22T00:00:00.000000000",
          "2025-01-23T00:00:00.000000000",
          "2025-01-24T00:00:00.000000000",
          "2025-01-25T00:00:00.000000000",
          "2025-01-26T00:00:00.000000000",
          "2025-01-27T00:00:00.000000000",
          "2025-01-28T00:00:00.000000000",
          "2025-01-29T00:00:00.000000000",
          "2025-01-30T00:00:00.000000000",
          "2025-01-31T00:00:00.000000000",
          "2025-02-01T00:00:00.000000000",
          "2025-02-02T00:00:00.000000000",
          "2025-02-03T00:00:00.000000000",
          "2025-02-04T00:00:00.000000000",
          "2025-02-05T00:00:00.000000000",
          "2025-02-06T00:00:00.000000000",
          "2025-02-07T00:00:00.000000000",
          "2025-02-08T00:00:00.000000000",
          "2025-02-09T00:00:00.000000000",
          "2025-02-10T00:00:00.000000000",
          "2025-02-11T00:00:00.000000000",
          "2025-02-12T00:00:00.000000000",
          "2025-02-13T00:00:00.000000000",
          "2025-02-14T00:00:00.000000000",
          "2025-02-15T00:00:00.000000000",
          "2025-02-16T00:00:00.000000000",
          "2025-02-17T00:00:00.000000000",
          "2025-02-18T00:00:00.000000000",
          "2025-02-19T00:00:00.000000000",
          "2025-02-20T00:00:00.000000000",
          "2025-02-21T00:00:00.000000000",
          "2025-02-22T00:00:00.000000000",
          "2025-02-23T00:00:00.000000000",
          "2025-02-24T00:00:00.000000000",
          "2025-02-25T00:00:00.000000000",
          "2025-02-26T00:00:00.000000000",
          "2025-02-27T00:00:00.000000000",
          "2025-02-28T00:00:00.000000000",
          "2025-03-01T00:00:00.000000000",
          "2025-03-02T00:00:00.000000000",
          "2025-03-03T00:00:00.000000000",
          "2025-03-04T00:00:00.000000000",
          "2025-03-05T00:00:00.000000000",
          "2025-03-06T00:00:00.000000000",
          "2025-03-07T00:00:00.000000000",
          "2025-03-08T00:00:00.000000000",
          "2025-03-09T00:00:00.000000000",
          "2025-03-10T00:00:00.000000000",
          "2025-03-11T00:00:00.000000000",
          "2025-03-12T00:00:00.000000000",
          "2025-03-13T00:00:00.000000000",
          "2025-03-14T00:00:00.000000000",
          "2025-03-15T00:00:00.000000000",
          "2025-03-16T00:00:00.000000000",
          "2025-03-17T00:00:00.000000000",
          "2025-03-18T00:00:00.000000000",
          "2025-03-19T00:00:00.000000000",
          "2025-03-20T00:00:00.000000000",
          "2025-03-21T00:00:00.000000000",
          "2025-03-22T00:00:00.000000000",
          "2025-03-23T00:00:00.000000000",
          "2025-03-24T00:00:00.000000000",
          "2025-03-25T00:00:00.000000000",
          "2025-03-26T00:00:00.000000000",
          "2025-03-27T00:00:00.000000000",
          "2025-03-28T00:00:00.000000000",
          "2025-03-29T00:00:00.000000000",
          "2025-03-30T00:00:00.000000000",
          "2025-03-31T00:00:00.000000000",
          "2025-04-01T00:00:00.000000000",
          "2025-04-02T00:00:00.000000000",
          "2025-04-03T00:00:00.000000000",
          "2025-04-04T00:00:00.000000000",
          "2025-04-05T00:00:00.000000000",
          "2025-04-06T00:00:00.000000000",
          "2025-04-07T00:00:00.000000000",
          "2025-04-08T00:00:00.000000000",
          "2025-04-09T00:00:00.000000000",
          "2025-04-10T00:00:00.000000000",
          "2025-04-11T00:00:00.000000000",
          "2025-04-12T00:00:00.000000000",
          "2025-04-13T00:00:00.000000000",
          "2025-04-14T00:00:00.000000000",
          "2025-04-15T00:00:00.000000000",
          "2025-04-16T00:00:00.000000000",
          "2025-04-17T00:00:00.000000000",
          "2025-04-18T00:00:00.000000000",
          "2025-04-19T00:00:00.000000000",
          "2025-04-20T00:00:00.000000000",
          "2025-04-21T00:00:00.000000000",
          "2025-04-22T00:00:00.000000000",
          "2025-04-23T00:00:00.000000000",
          "2025-04-24T00:00:00.000000000",
          "2025-04-25T00:00:00.000000000",
          "2025-04-26T00:00:00.000000000",
          "2025-04-27T00:00:00.000000000",
          "2025-04-28T00:00:00.000000000",
          "2025-04-29T00:00:00.000000000",
          "2025-04-30T00:00:00.000000000",
          "2025-05-01T00:00:00.000000000",
          "2025-05-02T00:00:00.000000000",
          "2025-05-03T00:00:00.000000000",
          "2025-05-04T00:00:00.000000000",
          "2025-05-05T00:00:00.000000000",
          "2025-05-06T00:00:00.000000000",
          "2025-05-07T00:00:00.000000000",
          "2025-05-08T00:00:00.000000000",
          "2025-05-09T00:00:00.000000000",
          "2025-05-10T00:00:00.000000000",
          "2025-05-11T00:00:00.000000000",
          "2025-05-12T00:00:00.000000000",
          "2025-05-13T00:00:00.000000000",
          "2025-05-14T00:00:00.000000000",
          "2025-05-15T00:00:00.000000000",
          "2025-05-16T00:00:00.000000000",
          "2025-05-17T00:00:00.000000000",
          "2025-05-18T00:00:00.000000000",
          "2025-05-19T00:00:00.000000000",
          "2025-05-20T00:00:00.000000000",
          "2025-05-21T00:00:00.000000000",
          "2025-05-22T00:00:00.000000000",
          "2025-05-23T00:00:00.000000000",
          "2025-05-24T00:00:00.000000000",
          "2025-05-25T00:00:00.000000000",
          "2025-05-26T00:00:00.000000000",
          "2025-05-27T00:00:00.000000000",
          "2025-05-28T00:00:00.000000000",
          "2025-05-29T00:00:00.000000000",
          "2025-05-30T00:00:00.000000000",
          "2025-05-31T00:00:00.000000000",
          "2025-06-01T00:00:00.000000000",
          "2025-06-02T00:00:00.000000000",
          "2025-06-03T00:00:00.000000000",
          "2025-06-04T00:00:00.000000000",
          "2025-06-05T00:00:00.000000000",
          "2025-06-06T00:00:00.000000000",
          "2025-06-07T00:00:00.000000000",
          "2025-06-08T00:00:00.000000000",
          "2025-06-09T00:00:00.000000000",
          "2025-06-10T00:00:00.000000000",
          "2025-06-11T00:00:00.000000000",
          "2025-06-12T00:00:00.000000000",
          "2025-06-13T00:00:00.000000000",
          "2025-06-14T00:00:00.000000000",
          "2025-06-15T00:00:00.000000000",
          "2025-06-16T00:00:00.000000000",
          "2025-06-17T00:00:00.000000000",
          "2025-06-18T00:00:00.000000000",
          "2025-06-19T00:00:00.000000000",
          "2025-06-20T00:00:00.000000000",
          "2025-06-21T00:00:00.000000000",
          "2025-06-22T00:00:00.000000000",
          "2025-06-23T00:00:00.000000000",
          "2025-06-24T00:00:00.000000000",
          "2025-06-25T00:00:00.000000000",
          "2025-06-26T00:00:00.000000000",
          "2025-06-27T00:00:00.000000000",
          "2025-06-28T00:00:00.000000000",
          "2025-06-29T00:00:00.000000000",
          "2025-06-30T00:00:00.000000000",
          "2025-07-01T00:00:00.000000000",
          "2025-07-02T00:00:00.000000000",
          "2025-07-03T00:00:00.000000000",
          "2025-07-04T00:00:00.000000000",
          "2025-07-05T00:00:00.000000000",
          "2025-07-06T00:00:00.000000000",
          "2025-07-07T00:00:00.000000000",
          "2025-07-08T00:00:00.000000000",
          "2025-07-09T00:00:00.000000000",
          "2025-07-10T00:00:00.000000000",
          "2025-07-11T00:00:00.000000000",
          "2025-07-12T00:00:00.000000000",
          "2025-07-13T00:00:00.000000000",
          "2025-07-14T00:00:00.000000000",
          "2025-07-15T00:00:00.000000000",
          "2025-07-16T00:00:00.000000000",
          "2025-07-17T00:00:00.000000000",
          "2025-07-18T00:00:00.000000000",
          "2025-07-19T00:00:00.000000000",
          "2025-07-20T00:00:00.000000000",
          "2025-07-21T00:00:00.000000000",
          "2025-07-22T00:00:00.000000000",
          "2025-07-23T00:00:00.000000000",
          "2025-07-24T00:00:00.000000000",
          "2025-07-25T00:00:00.000000000",
          "2025-07-26T00:00:00.000000000",
          "2025-07-27T00:00:00.000000000",
          "2025-07-28T00:00:00.000000000",
          "2025-07-29T00:00:00.000000000",
          "2025-07-30T00:00:00.000000000",
          "2025-07-31T00:00:00.000000000",
          "2025-08-01T00:00:00.000000000",
          "2025-08-02T00:00:00.000000000",
          "2025-08-03T00:00:00.000000000",
          "2025-08-04T00:00:00.000000000",
          "2025-08-05T00:00:00.000000000",
          "2025-08-06T00:00:00.000000000",
          "2025-08-07T00:00:00.000000000",
          "2025-08-08T00:00:00.000000000",
          "2025-08-09T00:00:00.000000000",
          "2025-08-10T00:00:00.000000000",
          "2025-08-11T00:00:00.000000000",
          "2025-08-12T00:00:00.000000000",
          "2025-08-13T00:00:00.000000000",
          "2025-08-14T00:00:00.000000000",
          "2025-08-15T00:00:00.000000000",
          "2025-08-16T00:00:00.000000000",
          "2025-08-17T00:00:00.000000000",
          "2025-08-18T00:00:00.000000000",
          "2025-08-19T00:00:00.000000000",
          "2025-08-20T00:00:00.000000000",
          "2025-08-21T00:00:00.000000000",
          "2025-08-22T00:00:00.000000000",
          "2025-08-23T00:00:00.000000000",
          "2025-08-24T00:00:00.000000000",
          "2025-08-25T00:00:00.000000000",
          "2025-08-26T00:00:00.000000000",
          "2025-08-27T00:00:00.000000000",
          "2025-08-28T00:00:00.000000000",
          "2025-08-29T00:00:00.000000000",
          "2025-08-30T00:00:00.000000000",
          "2025-08-31T00:00:00.000000000",
          "2025-09-01T00:00:00.000000000",
          "2025-09-02T00:00:00.000000000",
          "2025-09-03T00:00:00.000000000",
          "2025-09-04T00:00:00.000000000",
          "2025-09-05T00:00:00.000000000",
          "2025-09-06T00:00:00.000000000",
          "2025-09-07T00:00:00.000000000",
          "2025-09-08T00:00:00.000000000",
          "2025-09-09T00:00:00.000000000",
          "2025-09-10T00:00:00.000000000",
          "2025-09-11T00:00:00.000000000",
          "2025-09-12T00:00:00.000000000",
          "2025-09-13T00:00:00.000000000",
          "2025-09-14T00:00:00.000000000",
          "2025-09-15T00:00:00.000000000",
          "2025-09-16T00:00:00.000000000",
          "2025-09-17T00:00:00.000000000",
          "2025-09-18T00:00:00.000000000",
          "2025-09-19T00:00:00.000000000",
          "2025-09-20T00:00:00.000000000",
          "2025-09-21T00:00:00.000000000",
          "2025-09-22T00:00:00.000000000",
          "2025-09-23T00:00:00.000000000",
          "2025-09-24T00:00:00.000000000",
          "2025-09-25T00:00:00.000000000",
          "2025-09-26T00:00:00.000000000",
          "2025-09-27T00:00:00.000000000",
          "2025-09-28T00:00:00.000000000",
          "2025-09-29T00:00:00.000000000",
          "2025-09-30T00:00:00.000000000",
          "2025-10-01T00:00:00.000000000",
          "2025-10-02T00:00:00.000000000",
          "2025-10-03T00:00:00.000000000",
          "2025-10-04T00:00:00.000000000",
          "2025-10-05T00:00:00.000000000",
          "2025-10-06T00:00:00.000000000",
          "2025-10-07T00:00:00.000000000",
          "2025-10-08T00:00:00.000000000",
          "2025-10-09T00:00:00.000000000",
          "2025-10-10T00:00:00.000000000",
          "2025-10-11T00:00:00.000000000",
          "2025-10-12T00:00:00.000000000",
          "2025-10-13T00:00:00.000000000",
          "2025-10-14T00:00:00.000000000",
          "2025-10-15T00:00:00.000000000",
          "2025-10-16T00:00:00.000000000",
          "2025-10-17T00:00:00.000000000",
          "2025-10-18T00:00:00.000000000",
          "2025-10-19T00:00:00.000000000",
          "2025-10-20T00:00:00.000000000",
          "2025-10-21T00:00:00.000000000",
          "2025-10-22T00:00:00.000000000",
          "2025-10-23T00:00:00.000000000",
          "2025-10-24T00:00:00.000000000",
          "2025-10-25T00:00:00.000000000",
          "2025-10-26T00:00:00.000000000",
          "2025-10-27T00:00:00.000000000",
          "2025-10-28T00:00:00.000000000",
          "2025-10-29T00:00:00.000000000",
          "2025-10-30T00:00:00.000000000",
          "2025-10-31T00:00:00.000000000",
          "2025-11-01T00:00:00.000000000",
          "2025-11-02T00:00:00.000000000",
          "2025-11-03T00:00:00.000000000",
          "2025-11-04T00:00:00.000000000",
          "2025-11-05T00:00:00.000000000",
          "2025-11-06T00:00:00.000000000",
          "2025-11-07T00:00:00.000000000",
          "2025-11-08T00:00:00.000000000",
          "2025-11-09T00:00:00.000000000",
          "2025-11-10T00:00:00.000000000",
          "2025-11-11T00:00:00.000000000",
          "2025-11-12T00:00:00.000000000",
          "2025-11-13T00:00:00.000000000",
          "2025-11-14T00:00:00.000000000",
          "2025-11-15T00:00:00.000000000",
          "2025-11-16T00:00:00.000000000",
          "2025-11-17T00:00:00.000000000",
          "2025-11-18T00:00:00.000000000",
          "2025-11-19T00:00:00.000000000",
          "2025-11-20T00:00:00.000000000",
          "2025-11-21T00:00:00.000000000",
          "2025-11-22T00:00:00.000000000",
          "2025-11-23T00:00:00.000000000",
          "2025-11-24T00:00:00.000000000",
          "2025-11-25T00:00:00.000000000",
          "2025-11-26T00:00:00.000000000",
          "2025-11-27T00:00:00.000000000",
          "2025-11-28T00:00:00.000000000",
          "2025-11-29T00:00:00.000000000",
          "2025-11-30T00:00:00.000000000",
          "2025-12-01T00:00:00.000000000",
          "2025-12-02T00:00:00.000000000",
          "2025-12-03T00:00:00.000000000",
          "2025-12-04T00:00:00.000000000",
          "2025-12-05T00:00:00.000000000",
          "2025-12-06T00:00:00.000000000",
          "2025-12-07T00:00:00.000000000",
          "2025-12-08T00:00:00.000000000",
          "2025-12-09T00:00:00.000000000",
          "2025-12-10T00:00:00.000000000",
          "2025-12-11T00:00:00.000000000",
          "2025-12-12T00:00:00.000000000",
          "2025-12-13T00:00:00.000000000",
          "2025-12-14T00:00:00.000000000",
          "2025-12-15T00:00:00.000000000",
          "2025-12-16T00:00:00.000000000",
          "2025-12-17T00:00:00.000000000",
          "2025-12-18T00:00:00.000000000",
          "2025-12-19T00:00:00.000000000",
          "2025-12-20T00:00:00.000000000",
          "2025-12-21T00:00:00.000000000",
          "2025-12-22T00:00:00.000000000",
          "2025-12-23T00:00:00.000000000",
          "2025-12-24T00:00:00.000000000",
          "2025-12-25T00:00:00.000000000",
          "2025-12-26T00:00:00.000000000",
          "2025-12-27T00:00:00.000000000",
          "2025-12-28T00:00:00.000000000",
          "2025-12-29T00:00:00.000000000",
          "2025-12-30T00:00:00.000000000",
          "2025-12-31T00:00:00.000000000"
         ],
         "xaxis": "x",
         "y": {
          "bdata": "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",
          "dtype": "f8"
         },
         "yaxis": "y"
        },
        {
         "fillpattern": {
          "shape": ""
         },
         "hovertemplate": "Meter=elec_awhp_c_Wh<br>timestamp=%{x}<br>Usage=%{y}<extra></extra>",
         "legendgroup": "elec_awhp_c_Wh",
         "line": {
          "color": "#ab63fa"
         },
         "marker": {
          "symbol": "circle"
         },
         "mode": "lines",
         "name": "elec_awhp_c_Wh",
         "orientation": "v",
         "showlegend": true,
         "stackgroup": "one",
         "type": "scatter",
         "x": [
          "2025-01-01T00:00:00.000000000",
          "2025-01-02T00:00:00.000000000",
          "2025-01-03T00:00:00.000000000",
          "2025-01-04T00:00:00.000000000",
          "2025-01-05T00:00:00.000000000",
          "2025-01-06T00:00:00.000000000",
          "2025-01-07T00:00:00.000000000",
          "2025-01-08T00:00:00.000000000",
          "2025-01-09T00:00:00.000000000",
          "2025-01-10T00:00:00.000000000",
          "2025-01-11T00:00:00.000000000",
          "2025-01-12T00:00:00.000000000",
          "2025-01-13T00:00:00.000000000",
          "2025-01-14T00:00:00.000000000",
          "2025-01-15T00:00:00.000000000",
          "2025-01-16T00:00:00.000000000",
          "2025-01-17T00:00:00.000000000",
          "2025-01-18T00:00:00.000000000",
          "2025-01-19T00:00:00.000000000",
          "2025-01-20T00:00:00.000000000",
          "2025-01-21T00:00:00.000000000",
          "2025-01-22T00:00:00.000000000",
          "2025-01-23T00:00:00.000000000",
          "2025-01-24T00:00:00.000000000",
          "2025-01-25T00:00:00.000000000",
          "2025-01-26T00:00:00.000000000",
          "2025-01-27T00:00:00.000000000",
          "2025-01-28T00:00:00.000000000",
          "2025-01-29T00:00:00.000000000",
          "2025-01-30T00:00:00.000000000",
          "2025-01-31T00:00:00.000000000",
          "2025-02-01T00:00:00.000000000",
          "2025-02-02T00:00:00.000000000",
          "2025-02-03T00:00:00.000000000",
          "2025-02-04T00:00:00.000000000",
          "2025-02-05T00:00:00.000000000",
          "2025-02-06T00:00:00.000000000",
          "2025-02-07T00:00:00.000000000",
          "2025-02-08T00:00:00.000000000",
          "2025-02-09T00:00:00.000000000",
          "2025-02-10T00:00:00.000000000",
          "2025-02-11T00:00:00.000000000",
          "2025-02-12T00:00:00.000000000",
          "2025-02-13T00:00:00.000000000",
          "2025-02-14T00:00:00.000000000",
          "2025-02-15T00:00:00.000000000",
          "2025-02-16T00:00:00.000000000",
          "2025-02-17T00:00:00.000000000",
          "2025-02-18T00:00:00.000000000",
          "2025-02-19T00:00:00.000000000",
          "2025-02-20T00:00:00.000000000",
          "2025-02-21T00:00:00.000000000",
          "2025-02-22T00:00:00.000000000",
          "2025-02-23T00:00:00.000000000",
          "2025-02-24T00:00:00.000000000",
          "2025-02-25T00:00:00.000000000",
          "2025-02-26T00:00:00.000000000",
          "2025-02-27T00:00:00.000000000",
          "2025-02-28T00:00:00.000000000",
          "2025-03-01T00:00:00.000000000",
          "2025-03-02T00:00:00.000000000",
          "2025-03-03T00:00:00.000000000",
          "2025-03-04T00:00:00.000000000",
          "2025-03-05T00:00:00.000000000",
          "2025-03-06T00:00:00.000000000",
          "2025-03-07T00:00:00.000000000",
          "2025-03-08T00:00:00.000000000",
          "2025-03-09T00:00:00.000000000",
          "2025-03-10T00:00:00.000000000",
          "2025-03-11T00:00:00.000000000",
          "2025-03-12T00:00:00.000000000",
          "2025-03-13T00:00:00.000000000",
          "2025-03-14T00:00:00.000000000",
          "2025-03-15T00:00:00.000000000",
          "2025-03-16T00:00:00.000000000",
          "2025-03-17T00:00:00.000000000",
          "2025-03-18T00:00:00.000000000",
          "2025-03-19T00:00:00.000000000",
          "2025-03-20T00:00:00.000000000",
          "2025-03-21T00:00:00.000000000",
          "2025-03-22T00:00:00.000000000",
          "2025-03-23T00:00:00.000000000",
          "2025-03-24T00:00:00.000000000",
          "2025-03-25T00:00:00.000000000",
          "2025-03-26T00:00:00.000000000",
          "2025-03-27T00:00:00.000000000",
          "2025-03-28T00:00:00.000000000",
          "2025-03-29T00:00:00.000000000",
          "2025-03-30T00:00:00.000000000",
          "2025-03-31T00:00:00.000000000",
          "2025-04-01T00:00:00.000000000",
          "2025-04-02T00:00:00.000000000",
          "2025-04-03T00:00:00.000000000",
          "2025-04-04T00:00:00.000000000",
          "2025-04-05T00:00:00.000000000",
          "2025-04-06T00:00:00.000000000",
          "2025-04-07T00:00:00.000000000",
          "2025-04-08T00:00:00.000000000",
          "2025-04-09T00:00:00.000000000",
          "2025-04-10T00:00:00.000000000",
          "2025-04-11T00:00:00.000000000",
          "2025-04-12T00:00:00.000000000",
          "2025-04-13T00:00:00.000000000",
          "2025-04-14T00:00:00.000000000",
          "2025-04-15T00:00:00.000000000",
          "2025-04-16T00:00:00.000000000",
          "2025-04-17T00:00:00.000000000",
          "2025-04-18T00:00:00.000000000",
          "2025-04-19T00:00:00.000000000",
          "2025-04-20T00:00:00.000000000",
          "2025-04-21T00:00:00.000000000",
          "2025-04-22T00:00:00.000000000",
          "2025-04-23T00:00:00.000000000",
          "2025-04-24T00:00:00.000000000",
          "2025-04-25T00:00:00.000000000",
          "2025-04-26T00:00:00.000000000",
          "2025-04-27T00:00:00.000000000",
          "2025-04-28T00:00:00.000000000",
          "2025-04-29T00:00:00.000000000",
          "2025-04-30T00:00:00.000000000",
          "2025-05-01T00:00:00.000000000",
          "2025-05-02T00:00:00.000000000",
          "2025-05-03T00:00:00.000000000",
          "2025-05-04T00:00:00.000000000",
          "2025-05-05T00:00:00.000000000",
          "2025-05-06T00:00:00.000000000",
          "2025-05-07T00:00:00.000000000",
          "2025-05-08T00:00:00.000000000",
          "2025-05-09T00:00:00.000000000",
          "2025-05-10T00:00:00.000000000",
          "2025-05-11T00:00:00.000000000",
          "2025-05-12T00:00:00.000000000",
          "2025-05-13T00:00:00.000000000",
          "2025-05-14T00:00:00.000000000",
          "2025-05-15T00:00:00.000000000",
          "2025-05-16T00:00:00.000000000",
          "2025-05-17T00:00:00.000000000",
          "2025-05-18T00:00:00.000000000",
          "2025-05-19T00:00:00.000000000",
          "2025-05-20T00:00:00.000000000",
          "2025-05-21T00:00:00.000000000",
          "2025-05-22T00:00:00.000000000",
          "2025-05-23T00:00:00.000000000",
          "2025-05-24T00:00:00.000000000",
          "2025-05-25T00:00:00.000000000",
          "2025-05-26T00:00:00.000000000",
          "2025-05-27T00:00:00.000000000",
          "2025-05-28T00:00:00.000000000",
          "2025-05-29T00:00:00.000000000",
          "2025-05-30T00:00:00.000000000",
          "2025-05-31T00:00:00.000000000",
          "2025-06-01T00:00:00.000000000",
          "2025-06-02T00:00:00.000000000",
          "2025-06-03T00:00:00.000000000",
          "2025-06-04T00:00:00.000000000",
          "2025-06-05T00:00:00.000000000",
          "2025-06-06T00:00:00.000000000",
          "2025-06-07T00:00:00.000000000",
          "2025-06-08T00:00:00.000000000",
          "2025-06-09T00:00:00.000000000",
          "2025-06-10T00:00:00.000000000",
          "2025-06-11T00:00:00.000000000",
          "2025-06-12T00:00:00.000000000",
          "2025-06-13T00:00:00.000000000",
          "2025-06-14T00:00:00.000000000",
          "2025-06-15T00:00:00.000000000",
          "2025-06-16T00:00:00.000000000",
          "2025-06-17T00:00:00.000000000",
          "2025-06-18T00:00:00.000000000",
          "2025-06-19T00:00:00.000000000",
          "2025-06-20T00:00:00.000000000",
          "2025-06-21T00:00:00.000000000",
          "2025-06-22T00:00:00.000000000",
          "2025-06-23T00:00:00.000000000",
          "2025-06-24T00:00:00.000000000",
          "2025-06-25T00:00:00.000000000",
          "2025-06-26T00:00:00.000000000",
          "2025-06-27T00:00:00.000000000",
          "2025-06-28T00:00:00.000000000",
          "2025-06-29T00:00:00.000000000",
          "2025-06-30T00:00:00.000000000",
          "2025-07-01T00:00:00.000000000",
          "2025-07-02T00:00:00.000000000",
          "2025-07-03T00:00:00.000000000",
          "2025-07-04T00:00:00.000000000",
          "2025-07-05T00:00:00.000000000",
          "2025-07-06T00:00:00.000000000",
          "2025-07-07T00:00:00.000000000",
          "2025-07-08T00:00:00.000000000",
          "2025-07-09T00:00:00.000000000",
          "2025-07-10T00:00:00.000000000",
          "2025-07-11T00:00:00.000000000",
          "2025-07-12T00:00:00.000000000",
          "2025-07-13T00:00:00.000000000",
          "2025-07-14T00:00:00.000000000",
          "2025-07-15T00:00:00.000000000",
          "2025-07-16T00:00:00.000000000",
          "2025-07-17T00:00:00.000000000",
          "2025-07-18T00:00:00.000000000",
          "2025-07-19T00:00:00.000000000",
          "2025-07-20T00:00:00.000000000",
          "2025-07-21T00:00:00.000000000",
          "2025-07-22T00:00:00.000000000",
          "2025-07-23T00:00:00.000000000",
          "2025-07-24T00:00:00.000000000",
          "2025-07-25T00:00:00.000000000",
          "2025-07-26T00:00:00.000000000",
          "2025-07-27T00:00:00.000000000",
          "2025-07-28T00:00:00.000000000",
          "2025-07-29T00:00:00.000000000",
          "2025-07-30T00:00:00.000000000",
          "2025-07-31T00:00:00.000000000",
          "2025-08-01T00:00:00.000000000",
          "2025-08-02T00:00:00.000000000",
          "2025-08-03T00:00:00.000000000",
          "2025-08-04T00:00:00.000000000",
          "2025-08-05T00:00:00.000000000",
          "2025-08-06T00:00:00.000000000",
          "2025-08-07T00:00:00.000000000",
          "2025-08-08T00:00:00.000000000",
          "2025-08-09T00:00:00.000000000",
          "2025-08-10T00:00:00.000000000",
          "2025-08-11T00:00:00.000000000",
          "2025-08-12T00:00:00.000000000",
          "2025-08-13T00:00:00.000000000",
          "2025-08-14T00:00:00.000000000",
          "2025-08-15T00:00:00.000000000",
          "2025-08-16T00:00:00.000000000",
          "2025-08-17T00:00:00.000000000",
          "2025-08-18T00:00:00.000000000",
          "2025-08-19T00:00:00.000000000",
          "2025-08-20T00:00:00.000000000",
          "2025-08-21T00:00:00.000000000",
          "2025-08-22T00:00:00.000000000",
          "2025-08-23T00:00:00.000000000",
          "2025-08-24T00:00:00.000000000",
          "2025-08-25T00:00:00.000000000",
          "2025-08-26T00:00:00.000000000",
          "2025-08-27T00:00:00.000000000",
          "2025-08-28T00:00:00.000000000",
          "2025-08-29T00:00:00.000000000",
          "2025-08-30T00:00:00.000000000",
          "2025-08-31T00:00:00.000000000",
          "2025-09-01T00:00:00.000000000",
          "2025-09-02T00:00:00.000000000",
          "2025-09-03T00:00:00.000000000",
          "2025-09-04T00:00:00.000000000",
          "2025-09-05T00:00:00.000000000",
          "2025-09-06T00:00:00.000000000",
          "2025-09-07T00:00:00.000000000",
          "2025-09-08T00:00:00.000000000",
          "2025-09-09T00:00:00.000000000",
          "2025-09-10T00:00:00.000000000",
          "2025-09-11T00:00:00.000000000",
          "2025-09-12T00:00:00.000000000",
          "2025-09-13T00:00:00.000000000",
          "2025-09-14T00:00:00.000000000",
          "2025-09-15T00:00:00.000000000",
          "2025-09-16T00:00:00.000000000",
          "2025-09-17T00:00:00.000000000",
          "2025-09-18T00:00:00.000000000",
          "2025-09-19T00:00:00.000000000",
          "2025-09-20T00:00:00.000000000",
          "2025-09-21T00:00:00.000000000",
          "2025-09-22T00:00:00.000000000",
          "2025-09-23T00:00:00.000000000",
          "2025-09-24T00:00:00.000000000",
          "2025-09-25T00:00:00.000000000",
          "2025-09-26T00:00:00.000000000",
          "2025-09-27T00:00:00.000000000",
          "2025-09-28T00:00:00.000000000",
          "2025-09-29T00:00:00.000000000",
          "2025-09-30T00:00:00.000000000",
          "2025-10-01T00:00:00.000000000",
          "2025-10-02T00:00:00.000000000",
          "2025-10-03T00:00:00.000000000",
          "2025-10-04T00:00:00.000000000",
          "2025-10-05T00:00:00.000000000",
          "2025-10-06T00:00:00.000000000",
          "2025-10-07T00:00:00.000000000",
          "2025-10-08T00:00:00.000000000",
          "2025-10-09T00:00:00.000000000",
          "2025-10-10T00:00:00.000000000",
          "2025-10-11T00:00:00.000000000",
          "2025-10-12T00:00:00.000000000",
          "2025-10-13T00:00:00.000000000",
          "2025-10-14T00:00:00.000000000",
          "2025-10-15T00:00:00.000000000",
          "2025-10-16T00:00:00.000000000",
          "2025-10-17T00:00:00.000000000",
          "2025-10-18T00:00:00.000000000",
          "2025-10-19T00:00:00.000000000",
          "2025-10-20T00:00:00.000000000",
          "2025-10-21T00:00:00.000000000",
          "2025-10-22T00:00:00.000000000",
          "2025-10-23T00:00:00.000000000",
          "2025-10-24T00:00:00.000000000",
          "2025-10-25T00:00:00.000000000",
          "2025-10-26T00:00:00.000000000",
          "2025-10-27T00:00:00.000000000",
          "2025-10-28T00:00:00.000000000",
          "2025-10-29T00:00:00.000000000",
          "2025-10-30T00:00:00.000000000",
          "2025-10-31T00:00:00.000000000",
          "2025-11-01T00:00:00.000000000",
          "2025-11-02T00:00:00.000000000",
          "2025-11-03T00:00:00.000000000",
          "2025-11-04T00:00:00.000000000",
          "2025-11-05T00:00:00.000000000",
          "2025-11-06T00:00:00.000000000",
          "2025-11-07T00:00:00.000000000",
          "2025-11-08T00:00:00.000000000",
          "2025-11-09T00:00:00.000000000",
          "2025-11-10T00:00:00.000000000",
          "2025-11-11T00:00:00.000000000",
          "2025-11-12T00:00:00.000000000",
          "2025-11-13T00:00:00.000000000",
          "2025-11-14T00:00:00.000000000",
          "2025-11-15T00:00:00.000000000",
          "2025-11-16T00:00:00.000000000",
          "2025-11-17T00:00:00.000000000",
          "2025-11-18T00:00:00.000000000",
          "2025-11-19T00:00:00.000000000",
          "2025-11-20T00:00:00.000000000",
          "2025-11-21T00:00:00.000000000",
          "2025-11-22T00:00:00.000000000",
          "2025-11-23T00:00:00.000000000",
          "2025-11-24T00:00:00.000000000",
          "2025-11-25T00:00:00.000000000",
          "2025-11-26T00:00:00.000000000",
          "2025-11-27T00:00:00.000000000",
          "2025-11-28T00:00:00.000000000",
          "2025-11-29T00:00:00.000000000",
          "2025-11-30T00:00:00.000000000",
          "2025-12-01T00:00:00.000000000",
          "2025-12-02T00:00:00.000000000",
          "2025-12-03T00:00:00.000000000",
          "2025-12-04T00:00:00.000000000",
          "2025-12-05T00:00:00.000000000",
          "2025-12-06T00:00:00.000000000",
          "2025-12-07T00:00:00.000000000",
          "2025-12-08T00:00:00.000000000",
          "2025-12-09T00:00:00.000000000",
          "2025-12-10T00:00:00.000000000",
          "2025-12-11T00:00:00.000000000",
          "2025-12-12T00:00:00.000000000",
          "2025-12-13T00:00:00.000000000",
          "2025-12-14T00:00:00.000000000",
          "2025-12-15T00:00:00.000000000",
          "2025-12-16T00:00:00.000000000",
          "2025-12-17T00:00:00.000000000",
          "2025-12-18T00:00:00.000000000",
          "2025-12-19T00:00:00.000000000",
          "2025-12-20T00:00:00.000000000",
          "2025-12-21T00:00:00.000000000",
          "2025-12-22T00:00:00.000000000",
          "2025-12-23T00:00:00.000000000",
          "2025-12-24T00:00:00.000000000",
          "2025-12-25T00:00:00.000000000",
          "2025-12-26T00:00:00.000000000",
          "2025-12-27T00:00:00.000000000",
          "2025-12-28T00:00:00.000000000",
          "2025-12-29T00:00:00.000000000",
          "2025-12-30T00:00:00.000000000",
          "2025-12-31T00:00:00.000000000"
         ],
         "xaxis": "x",
         "y": {
          "bdata": "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",
          "dtype": "f8"
         },
         "yaxis": "y"
        },
        {
         "fillpattern": {
          "shape": ""
         },
         "hovertemplate": "Meter=elec_res_Wh<br>timestamp=%{x}<br>Usage=%{y}<extra></extra>",
         "legendgroup": "elec_res_Wh",
         "line": {
          "color": "#FFA15A"
         },
         "marker": {
          "symbol": "circle"
         },
         "mode": "lines",
         "name": "elec_res_Wh",
         "orientation": "v",
         "showlegend": true,
         "stackgroup": "one",
         "type": "scatter",
         "x": [
          "2025-01-01T00:00:00.000000000",
          "2025-01-02T00:00:00.000000000",
          "2025-01-03T00:00:00.000000000",
          "2025-01-04T00:00:00.000000000",
          "2025-01-05T00:00:00.000000000",
          "2025-01-06T00:00:00.000000000",
          "2025-01-07T00:00:00.000000000",
          "2025-01-08T00:00:00.000000000",
          "2025-01-09T00:00:00.000000000",
          "2025-01-10T00:00:00.000000000",
          "2025-01-11T00:00:00.000000000",
          "2025-01-12T00:00:00.000000000",
          "2025-01-13T00:00:00.000000000",
          "2025-01-14T00:00:00.000000000",
          "2025-01-15T00:00:00.000000000",
          "2025-01-16T00:00:00.000000000",
          "2025-01-17T00:00:00.000000000",
          "2025-01-18T00:00:00.000000000",
          "2025-01-19T00:00:00.000000000",
          "2025-01-20T00:00:00.000000000",
          "2025-01-21T00:00:00.000000000",
          "2025-01-22T00:00:00.000000000",
          "2025-01-23T00:00:00.000000000",
          "2025-01-24T00:00:00.000000000",
          "2025-01-25T00:00:00.000000000",
          "2025-01-26T00:00:00.000000000",
          "2025-01-27T00:00:00.000000000",
          "2025-01-28T00:00:00.000000000",
          "2025-01-29T00:00:00.000000000",
          "2025-01-30T00:00:00.000000000",
          "2025-01-31T00:00:00.000000000",
          "2025-02-01T00:00:00.000000000",
          "2025-02-02T00:00:00.000000000",
          "2025-02-03T00:00:00.000000000",
          "2025-02-04T00:00:00.000000000",
          "2025-02-05T00:00:00.000000000",
          "2025-02-06T00:00:00.000000000",
          "2025-02-07T00:00:00.000000000",
          "2025-02-08T00:00:00.000000000",
          "2025-02-09T00:00:00.000000000",
          "2025-02-10T00:00:00.000000000",
          "2025-02-11T00:00:00.000000000",
          "2025-02-12T00:00:00.000000000",
          "2025-02-13T00:00:00.000000000",
          "2025-02-14T00:00:00.000000000",
          "2025-02-15T00:00:00.000000000",
          "2025-02-16T00:00:00.000000000",
          "2025-02-17T00:00:00.000000000",
          "2025-02-18T00:00:00.000000000",
          "2025-02-19T00:00:00.000000000",
          "2025-02-20T00:00:00.000000000",
          "2025-02-21T00:00:00.000000000",
          "2025-02-22T00:00:00.000000000",
          "2025-02-23T00:00:00.000000000",
          "2025-02-24T00:00:00.000000000",
          "2025-02-25T00:00:00.000000000",
          "2025-02-26T00:00:00.000000000",
          "2025-02-27T00:00:00.000000000",
          "2025-02-28T00:00:00.000000000",
          "2025-03-01T00:00:00.000000000",
          "2025-03-02T00:00:00.000000000",
          "2025-03-03T00:00:00.000000000",
          "2025-03-04T00:00:00.000000000",
          "2025-03-05T00:00:00.000000000",
          "2025-03-06T00:00:00.000000000",
          "2025-03-07T00:00:00.000000000",
          "2025-03-08T00:00:00.000000000",
          "2025-03-09T00:00:00.000000000",
          "2025-03-10T00:00:00.000000000",
          "2025-03-11T00:00:00.000000000",
          "2025-03-12T00:00:00.000000000",
          "2025-03-13T00:00:00.000000000",
          "2025-03-14T00:00:00.000000000",
          "2025-03-15T00:00:00.000000000",
          "2025-03-16T00:00:00.000000000",
          "2025-03-17T00:00:00.000000000",
          "2025-03-18T00:00:00.000000000",
          "2025-03-19T00:00:00.000000000",
          "2025-03-20T00:00:00.000000000",
          "2025-03-21T00:00:00.000000000",
          "2025-03-22T00:00:00.000000000",
          "2025-03-23T00:00:00.000000000",
          "2025-03-24T00:00:00.000000000",
          "2025-03-25T00:00:00.000000000",
          "2025-03-26T00:00:00.000000000",
          "2025-03-27T00:00:00.000000000",
          "2025-03-28T00:00:00.000000000",
          "2025-03-29T00:00:00.000000000",
          "2025-03-30T00:00:00.000000000",
          "2025-03-31T00:00:00.000000000",
          "2025-04-01T00:00:00.000000000",
          "2025-04-02T00:00:00.000000000",
          "2025-04-03T00:00:00.000000000",
          "2025-04-04T00:00:00.000000000",
          "2025-04-05T00:00:00.000000000",
          "2025-04-06T00:00:00.000000000",
          "2025-04-07T00:00:00.000000000",
          "2025-04-08T00:00:00.000000000",
          "2025-04-09T00:00:00.000000000",
          "2025-04-10T00:00:00.000000000",
          "2025-04-11T00:00:00.000000000",
          "2025-04-12T00:00:00.000000000",
          "2025-04-13T00:00:00.000000000",
          "2025-04-14T00:00:00.000000000",
          "2025-04-15T00:00:00.000000000",
          "2025-04-16T00:00:00.000000000",
          "2025-04-17T00:00:00.000000000",
          "2025-04-18T00:00:00.000000000",
          "2025-04-19T00:00:00.000000000",
          "2025-04-20T00:00:00.000000000",
          "2025-04-21T00:00:00.000000000",
          "2025-04-22T00:00:00.000000000",
          "2025-04-23T00:00:00.000000000",
          "2025-04-24T00:00:00.000000000",
          "2025-04-25T00:00:00.000000000",
          "2025-04-26T00:00:00.000000000",
          "2025-04-27T00:00:00.000000000",
          "2025-04-28T00:00:00.000000000",
          "2025-04-29T00:00:00.000000000",
          "2025-04-30T00:00:00.000000000",
          "2025-05-01T00:00:00.000000000",
          "2025-05-02T00:00:00.000000000",
          "2025-05-03T00:00:00.000000000",
          "2025-05-04T00:00:00.000000000",
          "2025-05-05T00:00:00.000000000",
          "2025-05-06T00:00:00.000000000",
          "2025-05-07T00:00:00.000000000",
          "2025-05-08T00:00:00.000000000",
          "2025-05-09T00:00:00.000000000",
          "2025-05-10T00:00:00.000000000",
          "2025-05-11T00:00:00.000000000",
          "2025-05-12T00:00:00.000000000",
          "2025-05-13T00:00:00.000000000",
          "2025-05-14T00:00:00.000000000",
          "2025-05-15T00:00:00.000000000",
          "2025-05-16T00:00:00.000000000",
          "2025-05-17T00:00:00.000000000",
          "2025-05-18T00:00:00.000000000",
          "2025-05-19T00:00:00.000000000",
          "2025-05-20T00:00:00.000000000",
          "2025-05-21T00:00:00.000000000",
          "2025-05-22T00:00:00.000000000",
          "2025-05-23T00:00:00.000000000",
          "2025-05-24T00:00:00.000000000",
          "2025-05-25T00:00:00.000000000",
          "2025-05-26T00:00:00.000000000",
          "2025-05-27T00:00:00.000000000",
          "2025-05-28T00:00:00.000000000",
          "2025-05-29T00:00:00.000000000",
          "2025-05-30T00:00:00.000000000",
          "2025-05-31T00:00:00.000000000",
          "2025-06-01T00:00:00.000000000",
          "2025-06-02T00:00:00.000000000",
          "2025-06-03T00:00:00.000000000",
          "2025-06-04T00:00:00.000000000",
          "2025-06-05T00:00:00.000000000",
          "2025-06-06T00:00:00.000000000",
          "2025-06-07T00:00:00.000000000",
          "2025-06-08T00:00:00.000000000",
          "2025-06-09T00:00:00.000000000",
          "2025-06-10T00:00:00.000000000",
          "2025-06-11T00:00:00.000000000",
          "2025-06-12T00:00:00.000000000",
          "2025-06-13T00:00:00.000000000",
          "2025-06-14T00:00:00.000000000",
          "2025-06-15T00:00:00.000000000",
          "2025-06-16T00:00:00.000000000",
          "2025-06-17T00:00:00.000000000",
          "2025-06-18T00:00:00.000000000",
          "2025-06-19T00:00:00.000000000",
          "2025-06-20T00:00:00.000000000",
          "2025-06-21T00:00:00.000000000",
          "2025-06-22T00:00:00.000000000",
          "2025-06-23T00:00:00.000000000",
          "2025-06-24T00:00:00.000000000",
          "2025-06-25T00:00:00.000000000",
          "2025-06-26T00:00:00.000000000",
          "2025-06-27T00:00:00.000000000",
          "2025-06-28T00:00:00.000000000",
          "2025-06-29T00:00:00.000000000",
          "2025-06-30T00:00:00.000000000",
          "2025-07-01T00:00:00.000000000",
          "2025-07-02T00:00:00.000000000",
          "2025-07-03T00:00:00.000000000",
          "2025-07-04T00:00:00.000000000",
          "2025-07-05T00:00:00.000000000",
          "2025-07-06T00:00:00.000000000",
          "2025-07-07T00:00:00.000000000",
          "2025-07-08T00:00:00.000000000",
          "2025-07-09T00:00:00.000000000",
          "2025-07-10T00:00:00.000000000",
          "2025-07-11T00:00:00.000000000",
          "2025-07-12T00:00:00.000000000",
          "2025-07-13T00:00:00.000000000",
          "2025-07-14T00:00:00.000000000",
          "2025-07-15T00:00:00.000000000",
          "2025-07-16T00:00:00.000000000",
          "2025-07-17T00:00:00.000000000",
          "2025-07-18T00:00:00.000000000",
          "2025-07-19T00:00:00.000000000",
          "2025-07-20T00:00:00.000000000",
          "2025-07-21T00:00:00.000000000",
          "2025-07-22T00:00:00.000000000",
          "2025-07-23T00:00:00.000000000",
          "2025-07-24T00:00:00.000000000",
          "2025-07-25T00:00:00.000000000",
          "2025-07-26T00:00:00.000000000",
          "2025-07-27T00:00:00.000000000",
          "2025-07-28T00:00:00.000000000",
          "2025-07-29T00:00:00.000000000",
          "2025-07-30T00:00:00.000000000",
          "2025-07-31T00:00:00.000000000",
          "2025-08-01T00:00:00.000000000",
          "2025-08-02T00:00:00.000000000",
          "2025-08-03T00:00:00.000000000",
          "2025-08-04T00:00:00.000000000",
          "2025-08-05T00:00:00.000000000",
          "2025-08-06T00:00:00.000000000",
          "2025-08-07T00:00:00.000000000",
          "2025-08-08T00:00:00.000000000",
          "2025-08-09T00:00:00.000000000",
          "2025-08-10T00:00:00.000000000",
          "2025-08-11T00:00:00.000000000",
          "2025-08-12T00:00:00.000000000",
          "2025-08-13T00:00:00.000000000",
          "2025-08-14T00:00:00.000000000",
          "2025-08-15T00:00:00.000000000",
          "2025-08-16T00:00:00.000000000",
          "2025-08-17T00:00:00.000000000",
          "2025-08-18T00:00:00.000000000",
          "2025-08-19T00:00:00.000000000",
          "2025-08-20T00:00:00.000000000",
          "2025-08-21T00:00:00.000000000",
          "2025-08-22T00:00:00.000000000",
          "2025-08-23T00:00:00.000000000",
          "2025-08-24T00:00:00.000000000",
          "2025-08-25T00:00:00.000000000",
          "2025-08-26T00:00:00.000000000",
          "2025-08-27T00:00:00.000000000",
          "2025-08-28T00:00:00.000000000",
          "2025-08-29T00:00:00.000000000",
          "2025-08-30T00:00:00.000000000",
          "2025-08-31T00:00:00.000000000",
          "2025-09-01T00:00:00.000000000",
          "2025-09-02T00:00:00.000000000",
          "2025-09-03T00:00:00.000000000",
          "2025-09-04T00:00:00.000000000",
          "2025-09-05T00:00:00.000000000",
          "2025-09-06T00:00:00.000000000",
          "2025-09-07T00:00:00.000000000",
          "2025-09-08T00:00:00.000000000",
          "2025-09-09T00:00:00.000000000",
          "2025-09-10T00:00:00.000000000",
          "2025-09-11T00:00:00.000000000",
          "2025-09-12T00:00:00.000000000",
          "2025-09-13T00:00:00.000000000",
          "2025-09-14T00:00:00.000000000",
          "2025-09-15T00:00:00.000000000",
          "2025-09-16T00:00:00.000000000",
          "2025-09-17T00:00:00.000000000",
          "2025-09-18T00:00:00.000000000",
          "2025-09-19T00:00:00.000000000",
          "2025-09-20T00:00:00.000000000",
          "2025-09-21T00:00:00.000000000",
          "2025-09-22T00:00:00.000000000",
          "2025-09-23T00:00:00.000000000",
          "2025-09-24T00:00:00.000000000",
          "2025-09-25T00:00:00.000000000",
          "2025-09-26T00:00:00.000000000",
          "2025-09-27T00:00:00.000000000",
          "2025-09-28T00:00:00.000000000",
          "2025-09-29T00:00:00.000000000",
          "2025-09-30T00:00:00.000000000",
          "2025-10-01T00:00:00.000000000",
          "2025-10-02T00:00:00.000000000",
          "2025-10-03T00:00:00.000000000",
          "2025-10-04T00:00:00.000000000",
          "2025-10-05T00:00:00.000000000",
          "2025-10-06T00:00:00.000000000",
          "2025-10-07T00:00:00.000000000",
          "2025-10-08T00:00:00.000000000",
          "2025-10-09T00:00:00.000000000",
          "2025-10-10T00:00:00.000000000",
          "2025-10-11T00:00:00.000000000",
          "2025-10-12T00:00:00.000000000",
          "2025-10-13T00:00:00.000000000",
          "2025-10-14T00:00:00.000000000",
          "2025-10-15T00:00:00.000000000",
          "2025-10-16T00:00:00.000000000",
          "2025-10-17T00:00:00.000000000",
          "2025-10-18T00:00:00.000000000",
          "2025-10-19T00:00:00.000000000",
          "2025-10-20T00:00:00.000000000",
          "2025-10-21T00:00:00.000000000",
          "2025-10-22T00:00:00.000000000",
          "2025-10-23T00:00:00.000000000",
          "2025-10-24T00:00:00.000000000",
          "2025-10-25T00:00:00.000000000",
          "2025-10-26T00:00:00.000000000",
          "2025-10-27T00:00:00.000000000",
          "2025-10-28T00:00:00.000000000",
          "2025-10-29T00:00:00.000000000",
          "2025-10-30T00:00:00.000000000",
          "2025-10-31T00:00:00.000000000",
          "2025-11-01T00:00:00.000000000",
          "2025-11-02T00:00:00.000000000",
          "2025-11-03T00:00:00.000000000",
          "2025-11-04T00:00:00.000000000",
          "2025-11-05T00:00:00.000000000",
          "2025-11-06T00:00:00.000000000",
          "2025-11-07T00:00:00.000000000",
          "2025-11-08T00:00:00.000000000",
          "2025-11-09T00:00:00.000000000",
          "2025-11-10T00:00:00.000000000",
          "2025-11-11T00:00:00.000000000",
          "2025-11-12T00:00:00.000000000",
          "2025-11-13T00:00:00.000000000",
          "2025-11-14T00:00:00.000000000",
          "2025-11-15T00:00:00.000000000",
          "2025-11-16T00:00:00.000000000",
          "2025-11-17T00:00:00.000000000",
          "2025-11-18T00:00:00.000000000",
          "2025-11-19T00:00:00.000000000",
          "2025-11-20T00:00:00.000000000",
          "2025-11-21T00:00:00.000000000",
          "2025-11-22T00:00:00.000000000",
          "2025-11-23T00:00:00.000000000",
          "2025-11-24T00:00:00.000000000",
          "2025-11-25T00:00:00.000000000",
          "2025-11-26T00:00:00.000000000",
          "2025-11-27T00:00:00.000000000",
          "2025-11-28T00:00:00.000000000",
          "2025-11-29T00:00:00.000000000",
          "2025-11-30T00:00:00.000000000",
          "2025-12-01T00:00:00.000000000",
          "2025-12-02T00:00:00.000000000",
          "2025-12-03T00:00:00.000000000",
          "2025-12-04T00:00:00.000000000",
          "2025-12-05T00:00:00.000000000",
          "2025-12-06T00:00:00.000000000",
          "2025-12-07T00:00:00.000000000",
          "2025-12-08T00:00:00.000000000",
          "2025-12-09T00:00:00.000000000",
          "2025-12-10T00:00:00.000000000",
          "2025-12-11T00:00:00.000000000",
          "2025-12-12T00:00:00.000000000",
          "2025-12-13T00:00:00.000000000",
          "2025-12-14T00:00:00.000000000",
          "2025-12-15T00:00:00.000000000",
          "2025-12-16T00:00:00.000000000",
          "2025-12-17T00:00:00.000000000",
          "2025-12-18T00:00:00.000000000",
          "2025-12-19T00:00:00.000000000",
          "2025-12-20T00:00:00.000000000",
          "2025-12-21T00:00:00.000000000",
          "2025-12-22T00:00:00.000000000",
          "2025-12-23T00:00:00.000000000",
          "2025-12-24T00:00:00.000000000",
          "2025-12-25T00:00:00.000000000",
          "2025-12-26T00:00:00.000000000",
          "2025-12-27T00:00:00.000000000",
          "2025-12-28T00:00:00.000000000",
          "2025-12-29T00:00:00.000000000",
          "2025-12-30T00:00:00.000000000",
          "2025-12-31T00:00:00.000000000"
         ],
         "xaxis": "x",
         "y": {
          "bdata": "KVyPAl1BMkG4HoVrs2lAQQAAAAAAAAAAAAAAAAAAAAAUrkfhOnu5QEjhehQuZcpAAAAAAAAAAAAAAAAAAAAAAAAAAAAAAAAAAAAAAAAAAAAAAAAAAAAAAAAAAAAAAAAAAAAAAAAAAACF61E4oD4uQQAAAAAAAAAAAAAAAAAAAAAAAAAAAAAAAAAAAAAAAAAAAAAAAAAAAAAAAAAAAAAAAAAAAAAAAAAAAAAAAAAAAAAAAAAAAAAAAAAAAAAAAAAAAAAAAAAAAAAAAAAAAAAAAAAAAAAAAAAAAAAAAAAAAAAAAAAAAAAAAAAAAAAAAAAAKVyPwp3560AAAAAAAAAAAAAAAAAAAAAAPQrXo3CjqEAAAAAAAAAAAFK4HoWrQCVBSOF61GDuQUE9CtcjnzciQUjhehQu0LJApHA9CvP8+0AAAAAAAAAAAAAAAAAAAAAAHoXrUQarDUGuR+F6BAwKQQAAAAAAAAAAAAAAAAAAAAAAAAAAAAAAAAAAAAAAAAAAAAAAAAAAAAAAAAAAAAAAAAAAAAAAAAAAAAAAAAAAAAAAAAAAAAAAAAAAAAAAAAAAAAAAAAAAAAAAAAAAAAAAAAAAAAAAAAAAAAAAAAAAAAAAAAAAAAAAAAAAAAAAAAAAAAAAAAAAAAAAAAAAAAAAAAAAAAAAAAAAAAAAAAAAAAAAAAAAAAAAAAAAAAAAAAAAAAAAAAAAAAAAAAAAAAAAAAAAAAAAAAAAAAAAAAAAAAAAAAAAAAAAAAAAAAAAAAAAAAAAAAAAAAAAAAAAAAAAAAAAAAAAAAAAAAAAAAAAAAAAAAAAAAAAAAAAAAAAAAAAAAAAAAAAAAAAAAAAAAAAAAAAAAAAAAAAAAAAAAAAAAAAAAAAAAAAAAAAAAAAAAAAAAAAAAAAAAAAAAAAAAAAAAAAAAAAAAAAAAAAAAAAAAAAAAAAAAAAAAAAAAAAAAAAAAAAAAAAAAAAAAAAAAAAAAAAAAAAAAAAAAAAAAAAAAAAAAAAAAAAAAAAAAAAAAAAAAAAAAAAAAAAAAAAAAAAAAAAAAAAAAAAAAAAAAAAAAAAAAAAAAAAAAAAAAAAAAAAAAAAAAAAAAAAAAAAAAAAAAAAAAAAAAAAAAAAAAAAAAAAAAAAAAAAAAAAAAAAAAAAAAAAAAAAAAAAAAAAAAAAAAAAAAAAAAAAAAAAAAAAAAAAAAAAAAAAAAAAAAAAAAAAAAAAAAAAAAAAAAAAAAAAAAAAAAAAAAAAAAAAAAAAAAAAAAAAAAAAAAAAAAAAAAAAAAAAAAAAAAAAAAAAAAAAAAAAAAAAAAAAAAAAAAAAAAAAAAAAAAAAAAAAAAAAAAAAAAAAAAAAAAAAAAAAAAAAAAAAAAAAAAAAAAAAAAAAAAAAAAAAAAAAAAAAAAAAAAAAAAAAAAAAAAAAAAAAAAAAAAAAAAAAAAAAAAAAAAAAAAAAAAAAAAAAAAAAAAAAAAAAAAAAAAAAAAAAAAAAAAAAAAAAAAAAAAAAAAAAAAAAAAAAAAAAAAAAAAAAAAAAAAAAAAAAAAAAAAAAAAAAAAAAAAAAAAAAAAAAAAAAAAAAAAAAAAAAAAAAAAAAAAAAAAAAAAAAAAAAAAAAAAAAAAAAAAAAAAAAAAAAAAAAAAAAAAAAAAAAAAAAAAAAAAAAAAAAAAAAAAAAAAAAAAAAAAAAAAAAAAAAAAAAAAAAAAAAAAAAAAAAAAAAAAAAAAAAAAAAAAAAAAAAAAAAAAAAAAAAAAAAAAAAAAAAAAAAAAAAAAAAAAAAAAAAAAAAAAAAAAAAAAAAAAAAAAAAAAAAAAAAAAAAAAAAAAAAAAAAAAAAAAAAAAAAAAAAAAAAAAAAAAAAAAAAAAAAAAAAAAAAAAAAAAAAAAAAAAAAAAAAAAAAAAAAAAAAAAAAAAAAAAAAAAAAAAAAAAAAAAAAAAAAAAAAAAAAAAAAAAAAAAAAAAAAAAAAAAAAAAAAAAAAAAAAAAAAAAAAAAAAAAAAAAAAAAAAAAAAAAAAAAAAAAAAAAAAAAAAAAAAAAAAAAAAAAAAAAAAAAAAAAAAAAAAAAAAAAAAAAAAAAAAAAAAAAAAAAAAAAAAAAAAAAAAAAAAAAAAAAAAAAAAAAAAAAAAAAAAAAAAAAAAAAAAAAAAAAAAAAAAAAAAAAAAAAAAAAAAAAAAAAAAAAAAAAAAAAAAAAAAAAAAAAAAAAAAAAAAAAAAAAAAAAAAAAAAAAAAAAAAAAAAAAAAAAAAAAAAAAAAAAAAAAAAAAAAAAAAAAAAAAAAAAAAAAAAAAAAAAAAAAAAAAAAAAAAAAAAAAAAAAAAAAAAAAAAAAAAAAAAAAAAAAAAAAAAAAAAAAAAAAAAAAAAAAAAAAAAAAAAAAAAAAAAAAAAAAAAAAAAAAAAAAAAAAAAAAAAAAAAAAAAAAAAAAAAAAAAAAAAAAAAAAAAAAAAAAAAAAAAAAAAAAAAAAAAAAAAAAAAAAAAAAAAAAAAAAAAAAAAAAAAAAAAAAAAAAAAAAAAAAAAAAAAAAAAAAAAAAAAAAAAAAAAAAAAAAAAAAAAAAAAAAAAAAAAAAAAAAAAAAAAAAAAAAAAAAAAAAAAAAAAAAAAAAAAAAAAAAAAAAAAAAAAAAAAAAAAAAAAAAAAAAAAAAAAAAAAAAAAAAAAAAAAAAAAAAAAAAAAAAAAAAAAAAAAAAAAAAAAAAAAAAAAAAAAAAAAAAAAAAAAAAAAAAAAAAAAAAAAAAAAAAAAAAAAAAAAAAAAAAAAAAAAAAAAAAAAAAAAAAAAAAAAAAAAAAAAAAAAAAAAAAAAAAAAAAAAAAAAAAAAAAAAAAAAAAAAAAAAAAAAAAAAAAAAAAAAAAAAAAAAAAAAAAAAAAAAAAAAAAAAAAAAAAAAAAAAAAAAAAAAAAAAAAAAAAAAAAAAAAAAAAAAAAAAAAAAAAAAAAAAAAAAAAAAAAAAAAAAAAAAAAAAAAAAAAAAAAAAAAAAAAAAAAAAAAAAAAAAAAAAAAAAAAAAAAAAAAAAAAAAAAAAAAAAAAAAAAAAAAAAAAAAAAAAAAAAAAAAAAAAAAAAAAAAAAAAAAAAAAAAAAAAAAAAAAAAAAAAAAAAAAAAAAAAAAAAAAAAAAAAAAAAAAAAAAAAAAAAAAAAAAAAAAAAAAAAAAAAAAAAAAAAAAAAAAAAAAAAAAAAAAAAAAAAAAAAAAAAAAAAAAAAAAAAAAAAAAAAAAAAAAAAAAAAAAAAAAAAAAAAAAAAAAAAAAAAAAAAAAAAAAAAAAAAAAAAAAAAAAAAAAAAAAAAAAAAAAAAAAAAAAAAAAAAAAAAAAAAAAAAAAAAAAAAAAAAAAAAAAAAAAAAAAAAAAAAAAAAAAAAAAAAAAAAAAAAAAAAAAAAAAAAAAAAAAAAAAAAAAAAAAAAAAAAAAAAAAAAAAAAAAAAAAAAAAAAAAAAAAAAAAAAAAAAAAAAAAAAAAAAAAAAAAAAAAAAAAAAAAAAAAAAAAAAAAAAAAAAAAAAAAAAAAAAAAAAAAAAAAAAAAAAAAAAAAAAAAAAAAAAAAAAAAAAAAAAAAAAAAAAAAAAAAAAAAAAAAAAAAAAAAAAAAAAAAAAAAAAAAAAAAAAAAAAAAAAAAAAAAAAAAAAAAAAAAAAAAAAAAAAAAAAAAAAAAAAAAAAAAAAAAAAAAAAAAAAAAAAAAAAAAAAAAAAAAAAAAAAAAAAAAAAAAAAAAAAAAAAAAAAAAAAAAAAAAAAAAAAAAAAAAAAAAAAAAAAAAAAAAAAAAAAAAAAAAAAAAAAAAAAAAAAAAAAAAAAAAAAAAAAAAAAAAAAAAAAAAAAAAAAAAAAAAAAAAAAAAAAAAAAAAAAAAAAAAAAAAAAAAAAAAAAAAAAAAAAAAAAAAAAAAAAAADiehSupzPyQA==",
          "dtype": "f8"
         },
         "yaxis": "y"
        }
       ],
       "layout": {
        "legend": {
         "title": {
          "text": "Meter"
         },
         "tracegroupgap": 0
        },
        "template": {
         "data": {
          "bar": [
           {
            "error_x": {
             "color": "rgb(36,36,36)"
            },
            "error_y": {
             "color": "rgb(36,36,36)"
            },
            "marker": {
             "line": {
              "color": "white",
              "width": 0.5
             },
             "pattern": {
              "fillmode": "overlay",
              "size": 10,
              "solidity": 0.2
             }
            },
            "type": "bar"
           }
          ],
          "barpolar": [
           {
            "marker": {
             "line": {
              "color": "white",
              "width": 0.5
             },
             "pattern": {
              "fillmode": "overlay",
              "size": 10,
              "solidity": 0.2
             }
            },
            "type": "barpolar"
           }
          ],
          "carpet": [
           {
            "aaxis": {
             "endlinecolor": "rgb(36,36,36)",
             "gridcolor": "white",
             "linecolor": "white",
             "minorgridcolor": "white",
             "startlinecolor": "rgb(36,36,36)"
            },
            "baxis": {
             "endlinecolor": "rgb(36,36,36)",
             "gridcolor": "white",
             "linecolor": "white",
             "minorgridcolor": "white",
             "startlinecolor": "rgb(36,36,36)"
            },
            "type": "carpet"
           }
          ],
          "choropleth": [
           {
            "colorbar": {
             "outlinewidth": 1,
             "tickcolor": "rgb(36,36,36)",
             "ticks": "outside"
            },
            "type": "choropleth"
           }
          ],
          "contour": [
           {
            "colorbar": {
             "outlinewidth": 1,
             "tickcolor": "rgb(36,36,36)",
             "ticks": "outside"
            },
            "colorscale": [
             [
              0,
              "#440154"
             ],
             [
              0.1111111111111111,
              "#482878"
             ],
             [
              0.2222222222222222,
              "#3e4989"
             ],
             [
              0.3333333333333333,
              "#31688e"
             ],
             [
              0.4444444444444444,
              "#26828e"
             ],
             [
              0.5555555555555556,
              "#1f9e89"
             ],
             [
              0.6666666666666666,
              "#35b779"
             ],
             [
              0.7777777777777778,
              "#6ece58"
             ],
             [
              0.8888888888888888,
              "#b5de2b"
             ],
             [
              1,
              "#fde725"
             ]
            ],
            "type": "contour"
           }
          ],
          "contourcarpet": [
           {
            "colorbar": {
             "outlinewidth": 1,
             "tickcolor": "rgb(36,36,36)",
             "ticks": "outside"
            },
            "type": "contourcarpet"
           }
          ],
          "heatmap": [
           {
            "colorbar": {
             "outlinewidth": 1,
             "tickcolor": "rgb(36,36,36)",
             "ticks": "outside"
            },
            "colorscale": [
             [
              0,
              "#440154"
             ],
             [
              0.1111111111111111,
              "#482878"
             ],
             [
              0.2222222222222222,
              "#3e4989"
             ],
             [
              0.3333333333333333,
              "#31688e"
             ],
             [
              0.4444444444444444,
              "#26828e"
             ],
             [
              0.5555555555555556,
              "#1f9e89"
             ],
             [
              0.6666666666666666,
              "#35b779"
             ],
             [
              0.7777777777777778,
              "#6ece58"
             ],
             [
              0.8888888888888888,
              "#b5de2b"
             ],
             [
              1,
              "#fde725"
             ]
            ],
            "type": "heatmap"
           }
          ],
          "histogram": [
           {
            "marker": {
             "line": {
              "color": "white",
              "width": 0.6
             }
            },
            "type": "histogram"
           }
          ],
          "histogram2d": [
           {
            "colorbar": {
             "outlinewidth": 1,
             "tickcolor": "rgb(36,36,36)",
             "ticks": "outside"
            },
            "colorscale": [
             [
              0,
              "#440154"
             ],
             [
              0.1111111111111111,
              "#482878"
             ],
             [
              0.2222222222222222,
              "#3e4989"
             ],
             [
              0.3333333333333333,
              "#31688e"
             ],
             [
              0.4444444444444444,
              "#26828e"
             ],
             [
              0.5555555555555556,
              "#1f9e89"
             ],
             [
              0.6666666666666666,
              "#35b779"
             ],
             [
              0.7777777777777778,
              "#6ece58"
             ],
             [
              0.8888888888888888,
              "#b5de2b"
             ],
             [
              1,
              "#fde725"
             ]
            ],
            "type": "histogram2d"
           }
          ],
          "histogram2dcontour": [
           {
            "colorbar": {
             "outlinewidth": 1,
             "tickcolor": "rgb(36,36,36)",
             "ticks": "outside"
            },
            "colorscale": [
             [
              0,
              "#440154"
             ],
             [
              0.1111111111111111,
              "#482878"
             ],
             [
              0.2222222222222222,
              "#3e4989"
             ],
             [
              0.3333333333333333,
              "#31688e"
             ],
             [
              0.4444444444444444,
              "#26828e"
             ],
             [
              0.5555555555555556,
              "#1f9e89"
             ],
             [
              0.6666666666666666,
              "#35b779"
             ],
             [
              0.7777777777777778,
              "#6ece58"
             ],
             [
              0.8888888888888888,
              "#b5de2b"
             ],
             [
              1,
              "#fde725"
             ]
            ],
            "type": "histogram2dcontour"
           }
          ],
          "mesh3d": [
           {
            "colorbar": {
             "outlinewidth": 1,
             "tickcolor": "rgb(36,36,36)",
             "ticks": "outside"
            },
            "type": "mesh3d"
           }
          ],
          "parcoords": [
           {
            "line": {
             "colorbar": {
              "outlinewidth": 1,
              "tickcolor": "rgb(36,36,36)",
              "ticks": "outside"
             }
            },
            "type": "parcoords"
           }
          ],
          "pie": [
           {
            "automargin": true,
            "type": "pie"
           }
          ],
          "scatter": [
           {
            "fillpattern": {
             "fillmode": "overlay",
             "size": 10,
             "solidity": 0.2
            },
            "type": "scatter"
           }
          ],
          "scatter3d": [
           {
            "line": {
             "colorbar": {
              "outlinewidth": 1,
              "tickcolor": "rgb(36,36,36)",
              "ticks": "outside"
             }
            },
            "marker": {
             "colorbar": {
              "outlinewidth": 1,
              "tickcolor": "rgb(36,36,36)",
              "ticks": "outside"
             }
            },
            "type": "scatter3d"
           }
          ],
          "scattercarpet": [
           {
            "marker": {
             "colorbar": {
              "outlinewidth": 1,
              "tickcolor": "rgb(36,36,36)",
              "ticks": "outside"
             }
            },
            "type": "scattercarpet"
           }
          ],
          "scattergeo": [
           {
            "marker": {
             "colorbar": {
              "outlinewidth": 1,
              "tickcolor": "rgb(36,36,36)",
              "ticks": "outside"
             }
            },
            "type": "scattergeo"
           }
          ],
          "scattergl": [
           {
            "marker": {
             "colorbar": {
              "outlinewidth": 1,
              "tickcolor": "rgb(36,36,36)",
              "ticks": "outside"
             }
            },
            "type": "scattergl"
           }
          ],
          "scattermap": [
           {
            "marker": {
             "colorbar": {
              "outlinewidth": 1,
              "tickcolor": "rgb(36,36,36)",
              "ticks": "outside"
             }
            },
            "type": "scattermap"
           }
          ],
          "scattermapbox": [
           {
            "marker": {
             "colorbar": {
              "outlinewidth": 1,
              "tickcolor": "rgb(36,36,36)",
              "ticks": "outside"
             }
            },
            "type": "scattermapbox"
           }
          ],
          "scatterpolar": [
           {
            "marker": {
             "colorbar": {
              "outlinewidth": 1,
              "tickcolor": "rgb(36,36,36)",
              "ticks": "outside"
             }
            },
            "type": "scatterpolar"
           }
          ],
          "scatterpolargl": [
           {
            "marker": {
             "colorbar": {
              "outlinewidth": 1,
              "tickcolor": "rgb(36,36,36)",
              "ticks": "outside"
             }
            },
            "type": "scatterpolargl"
           }
          ],
          "scatterternary": [
           {
            "marker": {
             "colorbar": {
              "outlinewidth": 1,
              "tickcolor": "rgb(36,36,36)",
              "ticks": "outside"
             }
            },
            "type": "scatterternary"
           }
          ],
          "surface": [
           {
            "colorbar": {
             "outlinewidth": 1,
             "tickcolor": "rgb(36,36,36)",
             "ticks": "outside"
            },
            "colorscale": [
             [
              0,
              "#440154"
             ],
             [
              0.1111111111111111,
              "#482878"
             ],
             [
              0.2222222222222222,
              "#3e4989"
             ],
             [
              0.3333333333333333,
              "#31688e"
             ],
             [
              0.4444444444444444,
              "#26828e"
             ],
             [
              0.5555555555555556,
              "#1f9e89"
             ],
             [
              0.6666666666666666,
              "#35b779"
             ],
             [
              0.7777777777777778,
              "#6ece58"
             ],
             [
              0.8888888888888888,
              "#b5de2b"
             ],
             [
              1,
              "#fde725"
             ]
            ],
            "type": "surface"
           }
          ],
          "table": [
           {
            "cells": {
             "fill": {
              "color": "rgb(237,237,237)"
             },
             "line": {
              "color": "white"
             }
            },
            "header": {
             "fill": {
              "color": "rgb(217,217,217)"
             },
             "line": {
              "color": "white"
             }
            },
            "type": "table"
           }
          ]
         },
         "layout": {
          "annotationdefaults": {
           "arrowhead": 0,
           "arrowwidth": 1
          },
          "autotypenumbers": "strict",
          "coloraxis": {
           "colorbar": {
            "outlinewidth": 1,
            "tickcolor": "rgb(36,36,36)",
            "ticks": "outside"
           }
          },
          "colorscale": {
           "diverging": [
            [
             0,
             "rgb(103,0,31)"
            ],
            [
             0.1,
             "rgb(178,24,43)"
            ],
            [
             0.2,
             "rgb(214,96,77)"
            ],
            [
             0.3,
             "rgb(244,165,130)"
            ],
            [
             0.4,
             "rgb(253,219,199)"
            ],
            [
             0.5,
             "rgb(247,247,247)"
            ],
            [
             0.6,
             "rgb(209,229,240)"
            ],
            [
             0.7,
             "rgb(146,197,222)"
            ],
            [
             0.8,
             "rgb(67,147,195)"
            ],
            [
             0.9,
             "rgb(33,102,172)"
            ],
            [
             1,
             "rgb(5,48,97)"
            ]
           ],
           "sequential": [
            [
             0,
             "#440154"
            ],
            [
             0.1111111111111111,
             "#482878"
            ],
            [
             0.2222222222222222,
             "#3e4989"
            ],
            [
             0.3333333333333333,
             "#31688e"
            ],
            [
             0.4444444444444444,
             "#26828e"
            ],
            [
             0.5555555555555556,
             "#1f9e89"
            ],
            [
             0.6666666666666666,
             "#35b779"
            ],
            [
             0.7777777777777778,
             "#6ece58"
            ],
            [
             0.8888888888888888,
             "#b5de2b"
            ],
            [
             1,
             "#fde725"
            ]
           ],
           "sequentialminus": [
            [
             0,
             "#440154"
            ],
            [
             0.1111111111111111,
             "#482878"
            ],
            [
             0.2222222222222222,
             "#3e4989"
            ],
            [
             0.3333333333333333,
             "#31688e"
            ],
            [
             0.4444444444444444,
             "#26828e"
            ],
            [
             0.5555555555555556,
             "#1f9e89"
            ],
            [
             0.6666666666666666,
             "#35b779"
            ],
            [
             0.7777777777777778,
             "#6ece58"
            ],
            [
             0.8888888888888888,
             "#b5de2b"
            ],
            [
             1,
             "#fde725"
            ]
           ]
          },
          "colorway": [
           "#1F77B4",
           "#FF7F0E",
           "#2CA02C",
           "#D62728",
           "#9467BD",
           "#8C564B",
           "#E377C2",
           "#7F7F7F",
           "#BCBD22",
           "#17BECF"
          ],
          "font": {
           "color": "rgb(36,36,36)"
          },
          "geo": {
           "bgcolor": "white",
           "lakecolor": "white",
           "landcolor": "white",
           "showlakes": true,
           "showland": true,
           "subunitcolor": "white"
          },
          "hoverlabel": {
           "align": "left"
          },
          "hovermode": "closest",
          "mapbox": {
           "style": "light"
          },
          "paper_bgcolor": "white",
          "plot_bgcolor": "white",
          "polar": {
           "angularaxis": {
            "gridcolor": "rgb(232,232,232)",
            "linecolor": "rgb(36,36,36)",
            "showgrid": false,
            "showline": true,
            "ticks": "outside"
           },
           "bgcolor": "white",
           "radialaxis": {
            "gridcolor": "rgb(232,232,232)",
            "linecolor": "rgb(36,36,36)",
            "showgrid": false,
            "showline": true,
            "ticks": "outside"
           }
          },
          "scene": {
           "xaxis": {
            "backgroundcolor": "white",
            "gridcolor": "rgb(232,232,232)",
            "gridwidth": 2,
            "linecolor": "rgb(36,36,36)",
            "showbackground": true,
            "showgrid": false,
            "showline": true,
            "ticks": "outside",
            "zeroline": false,
            "zerolinecolor": "rgb(36,36,36)"
           },
           "yaxis": {
            "backgroundcolor": "white",
            "gridcolor": "rgb(232,232,232)",
            "gridwidth": 2,
            "linecolor": "rgb(36,36,36)",
            "showbackground": true,
            "showgrid": false,
            "showline": true,
            "ticks": "outside",
            "zeroline": false,
            "zerolinecolor": "rgb(36,36,36)"
           },
           "zaxis": {
            "backgroundcolor": "white",
            "gridcolor": "rgb(232,232,232)",
            "gridwidth": 2,
            "linecolor": "rgb(36,36,36)",
            "showbackground": true,
            "showgrid": false,
            "showline": true,
            "ticks": "outside",
            "zeroline": false,
            "zerolinecolor": "rgb(36,36,36)"
           }
          },
          "shapedefaults": {
           "fillcolor": "black",
           "line": {
            "width": 0
           },
           "opacity": 0.3
          },
          "ternary": {
           "aaxis": {
            "gridcolor": "rgb(232,232,232)",
            "linecolor": "rgb(36,36,36)",
            "showgrid": false,
            "showline": true,
            "ticks": "outside"
           },
           "baxis": {
            "gridcolor": "rgb(232,232,232)",
            "linecolor": "rgb(36,36,36)",
            "showgrid": false,
            "showline": true,
            "ticks": "outside"
           },
           "bgcolor": "white",
           "caxis": {
            "gridcolor": "rgb(232,232,232)",
            "linecolor": "rgb(36,36,36)",
            "showgrid": false,
            "showline": true,
            "ticks": "outside"
           }
          },
          "title": {
           "x": 0.05
          },
          "xaxis": {
           "automargin": true,
           "gridcolor": "rgb(232,232,232)",
           "linecolor": "rgb(36,36,36)",
           "showgrid": false,
           "showline": true,
           "ticks": "outside",
           "title": {
            "standoff": 15
           },
           "zeroline": false,
           "zerolinecolor": "rgb(36,36,36)"
          },
          "yaxis": {
           "automargin": true,
           "gridcolor": "rgb(232,232,232)",
           "linecolor": "rgb(36,36,36)",
           "showgrid": false,
           "showline": true,
           "ticks": "outside",
           "title": {
            "standoff": 15
           },
           "zeroline": false,
           "zerolinecolor": "rgb(36,36,36)"
          }
         }
        },
        "title": {
         "text": "Stacked Meter Usage (D Aggregation, sum)"
        },
        "xaxis": {
         "anchor": "y",
         "domain": [
          0,
          1
         ],
         "title": {
          "text": "Time"
         }
        },
        "yaxis": {
         "anchor": "x",
         "domain": [
          0,
          1
         ],
         "title": {
          "text": "Usage [Wh]"
         }
        }
       }
      }
     },
     "metadata": {},
     "output_type": "display_data"
    }
   ],
   "source": [
    "from src.visuals import plot_meter_timeseries\n",
    "\n",
    "df = source_energy.copy()\n",
    "\n",
    "elec_cols = ['elec_hr_Wh',\"elec_awhp_h_Wh\",\"elec_chiller_Wh\", 'elec_awhp_c_Wh', 'elec_res_Wh']\n",
    "gas_cols = ['gas_boiler_Wh']\n",
    "\n",
    "df = df[elec_cols + gas_cols]\n",
    "\n",
    "plot_meter_timeseries(df, stacked=True, include_gas=True)"
   ]
  }
 ],
 "metadata": {
  "kernelspec": {
   "display_name": "venv",
   "language": "python",
   "name": "python3"
  },
  "language_info": {
   "codemirror_mode": {
    "name": "ipython",
    "version": 3
   },
   "file_extension": ".py",
   "mimetype": "text/x-python",
   "name": "python",
   "nbconvert_exporter": "python",
   "pygments_lexer": "ipython3",
   "version": "3.13.5"
  }
 },
 "nbformat": 4,
 "nbformat_minor": 5
}
