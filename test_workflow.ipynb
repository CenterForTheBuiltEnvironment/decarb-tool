{
 "cells": [
  {
   "cell_type": "code",
   "execution_count": 1,
   "id": "5e7104c2",
   "metadata": {},
   "outputs": [],
   "source": [
    "import pandas as pd\n",
    "import json\n",
    "\n",
    "from utils.plotly_theme import *"
   ]
  },
  {
   "cell_type": "code",
   "execution_count": 2,
   "id": "80df8957",
   "metadata": {},
   "outputs": [
    {
     "name": "stdout",
     "output_type": "stream",
     "text": [
      "['boiler', 'heat_pump', 'chiller', 'hr_heat_pump', 'resistance_heater']\n"
     ]
    }
   ],
   "source": [
    "import json\n",
    "\n",
    "with open(\"data/input/equipment_data.json\", \"r\") as f:\n",
    "    data = json.load(f)\n",
    "    eq_types = [item[\"eq_type\"] for item in data[\"equipment\"]]\n",
    "\n",
    "equipment_types = list(set(eq_types))\n",
    "print(equipment_types)"
   ]
  },
  {
   "cell_type": "code",
   "execution_count": 3,
   "id": "7f925c73",
   "metadata": {},
   "outputs": [
    {
     "name": "stdout",
     "output_type": "stream",
     "text": [
      "[3.74]\n"
     ]
    }
   ],
   "source": [
    "# test interpolation\n",
    "\n",
    "from utils.interp import interp_vector\n",
    "\n",
    "fp = [3.815, 3.955, 4.133, 3.74] # cop\n",
    "xp = [1465000, 1098750, 732500, 366250] # cap\n",
    "x = [1465200]\n",
    "print(interp_vector(xp, fp, x))"
   ]
  },
  {
   "cell_type": "code",
   "execution_count": 4,
   "id": "e50ee6a9",
   "metadata": {},
   "outputs": [
    {
     "name": "stdout",
     "output_type": "stream",
     "text": [
      "location='New York' building_type='Hospital' vintage=2004 load_type='load_simulated' ashrae_climate_zone='4A' equipment_scenarios=['baseline_01', 'decarb_01', 'typ_01', 'typ_02'] emissions=EmissionsSettings(emission_scenario='MidCase', gea_grid_region='NYISO', time_zone='America/New_York', emission_type='Combustion only', shortrun_weighting=1.0, years=[2025, 2040]) units='SI' last_updated='2025-09-23T18:08:19.127897'\n"
     ]
    }
   ],
   "source": [
    "# Example usage of the decarb-tool\n",
    "\n",
    "from src.metadata import Metadata\n",
    "from utils.inputs import get_city_and_zone\n",
    "\n",
    "# Load location data\n",
    "location_data = pd.read_csv(\"data/input/locations.csv\")\n",
    "zip_code = \"11229\" # Brooklyn, NY -> will be replaced by user input from UI (search by zip-code or city name)\n",
    "locations = get_city_and_zone(zip_code, location_data)\n",
    "\n",
    "# Based on zip-code, SET location, climate_zone, time_zone\n",
    "location = locations.city\n",
    "ashrae_climate_zone = locations.ashrae_climate_zone\n",
    "time_zone = locations.time_zone\n",
    "\n",
    "# Set building type, building vintage, load type and equipment via equipment scenario -> eventually replaced by user input from UI\n",
    "building_type = \"Hospital\"\n",
    "vintage = 2004\n",
    "load_type = \"load_simulated\"\n",
    "equipment_scenarios = [\"baseline_01\", \"decarb_01\", \"typ_01\", \"typ_02\"] # list of equipment scenarios to compare\n",
    "emission_scenario = \"MidCase\"\n",
    "\n",
    "# create Metadata object to store settings (rest of settings are set by default if not specified)\n",
    "settings = Metadata.create(\n",
    "    location=location,\n",
    "    ashrae_climate_zone=ashrae_climate_zone,\n",
    "    building_type=building_type,\n",
    "    vintage=vintage,\n",
    "    load_type=load_type,\n",
    "    equipment_scenarios=equipment_scenarios\n",
    ")\n",
    "settings.emissions.years = [2025, 2040]\n",
    "settings.emissions.emission_scenario = emission_scenario\n",
    "settings.emissions.gea_grid_region = \"NYISO\"\n",
    "settings.emissions.time_zone = time_zone\n",
    "\n",
    "print(settings)"
   ]
  },
  {
   "cell_type": "code",
   "execution_count": 5,
   "id": "044cab07",
   "metadata": {},
   "outputs": [
    {
     "data": {
      "text/plain": [
       "2040"
      ]
     },
     "execution_count": 5,
     "metadata": {},
     "output_type": "execute_result"
    }
   ],
   "source": [
    "max(settings.emissions.years)"
   ]
  },
  {
   "cell_type": "code",
   "execution_count": 6,
   "id": "a3d1c054",
   "metadata": {},
   "outputs": [
    {
     "name": "stderr",
     "output_type": "stream",
     "text": [
      "/Users/toby/Desktop/Repositories/decarb-tool/src/loads.py:16: UserWarning: Could not infer format, so each element will be parsed individually, falling back to `dateutil`. To ensure parsing is consistent and as-expected, please specify a format.\n",
      "  df[\"timestamp\"] = pd.to_datetime(df[\"timestamp\"], errors=\"coerce\", utc=False)\n"
     ]
    },
    {
     "data": {
      "application/vnd.microsoft.datawrangler.viewer.v0+json": {
       "columns": [
        {
         "name": "timestamp",
         "rawType": "datetime64[ns]",
         "type": "datetime"
        },
        {
         "name": "t_out_C",
         "rawType": "float64",
         "type": "float"
        },
        {
         "name": "heating_W",
         "rawType": "float64",
         "type": "float"
        },
        {
         "name": "cooling_W",
         "rawType": "float64",
         "type": "float"
        }
       ],
       "ref": "2285b48e-a6d3-45cc-816e-b25ac03f9188",
       "rows": [
        [
         "2001-01-01 01:00:00",
         "-4.4",
         "609230.1302",
         "127902.4118"
        ],
        [
         "2001-01-01 02:00:00",
         "-4.4",
         "606900.3412",
         "174577.6491"
        ],
        [
         "2001-01-01 03:00:00",
         "-4.108333333",
         "604168.5347",
         "186763.6827"
        ],
        [
         "2001-01-01 04:00:00",
         "-3.55",
         "600461.652",
         "199730.6525"
        ],
        [
         "2001-01-01 05:00:00",
         "-3.3",
         "604702.997",
         "205553.3008"
        ],
        [
         "2001-01-01 06:00:00",
         "-3.65",
         "607617.8109",
         "200142.2974"
        ],
        [
         "2001-01-01 07:00:00",
         "-4.191666667",
         "611215.7286",
         "191604.1236"
        ],
        [
         "2001-01-01 08:00:00",
         "-3.758333333",
         "607994.1257",
         "113827.7398"
        ],
        [
         "2001-01-01 09:00:00",
         "-3.008333333",
         "546663.1432",
         "109587.7756"
        ],
        [
         "2001-01-01 10:00:00",
         "-2.45",
         "518821.3869",
         "125826.5844"
        ],
        [
         "2001-01-01 11:00:00",
         "-1.558333333",
         "494195.6171",
         "153496.4968"
        ],
        [
         "2001-01-01 12:00:00",
         "-1.45",
         "487443.5688",
         "162364.6929"
        ],
        [
         "2001-01-01 13:00:00",
         "-1.991666667",
         "483818.4519",
         "153128.0102"
        ],
        [
         "2001-01-01 14:00:00",
         "-2.841666667",
         "500469.3539",
         "135335.2511"
        ],
        [
         "2001-01-01 15:00:00",
         "-3.008333333",
         "496728.7834",
         "130178.5383"
        ],
        [
         "2001-01-01 16:00:00",
         "-2.8",
         "498164.5643",
         "135665.9065"
        ],
        [
         "2001-01-01 17:00:00",
         "-4.083333333",
         "561067.9284",
         "96564.16292"
        ],
        [
         "2001-01-01 18:00:00",
         "-5.35",
         "597933.373",
         "72222.69738"
        ],
        [
         "2001-01-01 19:00:00",
         "-5.891666667",
         "611523.2953",
         "62852.73545"
        ],
        [
         "2001-01-01 20:00:00",
         "-6.45",
         "628074.2963",
         "53927.93712"
        ],
        [
         "2001-01-01 21:00:00",
         "-7.633333333",
         "651466.8633",
         "35797.9562"
        ],
        [
         "2001-01-01 22:00:00",
         "-8.941666667",
         "662557.6705",
         "15267.3348"
        ],
        [
         "2001-01-01 23:00:00",
         "-9.75",
         "680094.5207",
         "4254.932306"
        ],
        [
         "2001-01-02 00:00:00",
         "-10.35",
         "701267.3628",
         "980.4508016"
        ],
        [
         "2001-01-02 01:00:00",
         "-10.89166667",
         "703857.5003",
         "29439.75119"
        ],
        [
         "2001-01-02 02:00:00",
         "-11.45",
         "710937.9414",
         "61415.10522"
        ],
        [
         "2001-01-02 03:00:00",
         "-11.7",
         "706407.5403",
         "77967.38255"
        ],
        [
         "2001-01-02 04:00:00",
         "-11.7",
         "704279.1959",
         "85794.53533"
        ],
        [
         "2001-01-02 05:00:00",
         "-11.99166667",
         "715288.835",
         "89293.77258"
        ],
        [
         "2001-01-02 06:00:00",
         "-11.90833333",
         "718766.277",
         "90837.26841"
        ]
       ],
       "shape": {
        "columns": 3,
        "rows": 30
       }
      },
      "text/html": [
       "<div>\n",
       "<style scoped>\n",
       "    .dataframe tbody tr th:only-of-type {\n",
       "        vertical-align: middle;\n",
       "    }\n",
       "\n",
       "    .dataframe tbody tr th {\n",
       "        vertical-align: top;\n",
       "    }\n",
       "\n",
       "    .dataframe thead th {\n",
       "        text-align: right;\n",
       "    }\n",
       "</style>\n",
       "<table border=\"1\" class=\"dataframe\">\n",
       "  <thead>\n",
       "    <tr style=\"text-align: right;\">\n",
       "      <th></th>\n",
       "      <th>t_out_C</th>\n",
       "      <th>heating_W</th>\n",
       "      <th>cooling_W</th>\n",
       "    </tr>\n",
       "    <tr>\n",
       "      <th>timestamp</th>\n",
       "      <th></th>\n",
       "      <th></th>\n",
       "      <th></th>\n",
       "    </tr>\n",
       "  </thead>\n",
       "  <tbody>\n",
       "    <tr>\n",
       "      <th>2001-01-01 01:00:00</th>\n",
       "      <td>-4.400000</td>\n",
       "      <td>609230.1302</td>\n",
       "      <td>127902.411800</td>\n",
       "    </tr>\n",
       "    <tr>\n",
       "      <th>2001-01-01 02:00:00</th>\n",
       "      <td>-4.400000</td>\n",
       "      <td>606900.3412</td>\n",
       "      <td>174577.649100</td>\n",
       "    </tr>\n",
       "    <tr>\n",
       "      <th>2001-01-01 03:00:00</th>\n",
       "      <td>-4.108333</td>\n",
       "      <td>604168.5347</td>\n",
       "      <td>186763.682700</td>\n",
       "    </tr>\n",
       "    <tr>\n",
       "      <th>2001-01-01 04:00:00</th>\n",
       "      <td>-3.550000</td>\n",
       "      <td>600461.6520</td>\n",
       "      <td>199730.652500</td>\n",
       "    </tr>\n",
       "    <tr>\n",
       "      <th>2001-01-01 05:00:00</th>\n",
       "      <td>-3.300000</td>\n",
       "      <td>604702.9970</td>\n",
       "      <td>205553.300800</td>\n",
       "    </tr>\n",
       "    <tr>\n",
       "      <th>2001-01-01 06:00:00</th>\n",
       "      <td>-3.650000</td>\n",
       "      <td>607617.8109</td>\n",
       "      <td>200142.297400</td>\n",
       "    </tr>\n",
       "    <tr>\n",
       "      <th>2001-01-01 07:00:00</th>\n",
       "      <td>-4.191667</td>\n",
       "      <td>611215.7286</td>\n",
       "      <td>191604.123600</td>\n",
       "    </tr>\n",
       "    <tr>\n",
       "      <th>2001-01-01 08:00:00</th>\n",
       "      <td>-3.758333</td>\n",
       "      <td>607994.1257</td>\n",
       "      <td>113827.739800</td>\n",
       "    </tr>\n",
       "    <tr>\n",
       "      <th>2001-01-01 09:00:00</th>\n",
       "      <td>-3.008333</td>\n",
       "      <td>546663.1432</td>\n",
       "      <td>109587.775600</td>\n",
       "    </tr>\n",
       "    <tr>\n",
       "      <th>2001-01-01 10:00:00</th>\n",
       "      <td>-2.450000</td>\n",
       "      <td>518821.3869</td>\n",
       "      <td>125826.584400</td>\n",
       "    </tr>\n",
       "    <tr>\n",
       "      <th>2001-01-01 11:00:00</th>\n",
       "      <td>-1.558333</td>\n",
       "      <td>494195.6171</td>\n",
       "      <td>153496.496800</td>\n",
       "    </tr>\n",
       "    <tr>\n",
       "      <th>2001-01-01 12:00:00</th>\n",
       "      <td>-1.450000</td>\n",
       "      <td>487443.5688</td>\n",
       "      <td>162364.692900</td>\n",
       "    </tr>\n",
       "    <tr>\n",
       "      <th>2001-01-01 13:00:00</th>\n",
       "      <td>-1.991667</td>\n",
       "      <td>483818.4519</td>\n",
       "      <td>153128.010200</td>\n",
       "    </tr>\n",
       "    <tr>\n",
       "      <th>2001-01-01 14:00:00</th>\n",
       "      <td>-2.841667</td>\n",
       "      <td>500469.3539</td>\n",
       "      <td>135335.251100</td>\n",
       "    </tr>\n",
       "    <tr>\n",
       "      <th>2001-01-01 15:00:00</th>\n",
       "      <td>-3.008333</td>\n",
       "      <td>496728.7834</td>\n",
       "      <td>130178.538300</td>\n",
       "    </tr>\n",
       "    <tr>\n",
       "      <th>2001-01-01 16:00:00</th>\n",
       "      <td>-2.800000</td>\n",
       "      <td>498164.5643</td>\n",
       "      <td>135665.906500</td>\n",
       "    </tr>\n",
       "    <tr>\n",
       "      <th>2001-01-01 17:00:00</th>\n",
       "      <td>-4.083333</td>\n",
       "      <td>561067.9284</td>\n",
       "      <td>96564.162920</td>\n",
       "    </tr>\n",
       "    <tr>\n",
       "      <th>2001-01-01 18:00:00</th>\n",
       "      <td>-5.350000</td>\n",
       "      <td>597933.3730</td>\n",
       "      <td>72222.697380</td>\n",
       "    </tr>\n",
       "    <tr>\n",
       "      <th>2001-01-01 19:00:00</th>\n",
       "      <td>-5.891667</td>\n",
       "      <td>611523.2953</td>\n",
       "      <td>62852.735450</td>\n",
       "    </tr>\n",
       "    <tr>\n",
       "      <th>2001-01-01 20:00:00</th>\n",
       "      <td>-6.450000</td>\n",
       "      <td>628074.2963</td>\n",
       "      <td>53927.937120</td>\n",
       "    </tr>\n",
       "    <tr>\n",
       "      <th>2001-01-01 21:00:00</th>\n",
       "      <td>-7.633333</td>\n",
       "      <td>651466.8633</td>\n",
       "      <td>35797.956200</td>\n",
       "    </tr>\n",
       "    <tr>\n",
       "      <th>2001-01-01 22:00:00</th>\n",
       "      <td>-8.941667</td>\n",
       "      <td>662557.6705</td>\n",
       "      <td>15267.334800</td>\n",
       "    </tr>\n",
       "    <tr>\n",
       "      <th>2001-01-01 23:00:00</th>\n",
       "      <td>-9.750000</td>\n",
       "      <td>680094.5207</td>\n",
       "      <td>4254.932306</td>\n",
       "    </tr>\n",
       "    <tr>\n",
       "      <th>2001-01-02 00:00:00</th>\n",
       "      <td>-10.350000</td>\n",
       "      <td>701267.3628</td>\n",
       "      <td>980.450802</td>\n",
       "    </tr>\n",
       "    <tr>\n",
       "      <th>2001-01-02 01:00:00</th>\n",
       "      <td>-10.891667</td>\n",
       "      <td>703857.5003</td>\n",
       "      <td>29439.751190</td>\n",
       "    </tr>\n",
       "    <tr>\n",
       "      <th>2001-01-02 02:00:00</th>\n",
       "      <td>-11.450000</td>\n",
       "      <td>710937.9414</td>\n",
       "      <td>61415.105220</td>\n",
       "    </tr>\n",
       "    <tr>\n",
       "      <th>2001-01-02 03:00:00</th>\n",
       "      <td>-11.700000</td>\n",
       "      <td>706407.5403</td>\n",
       "      <td>77967.382550</td>\n",
       "    </tr>\n",
       "    <tr>\n",
       "      <th>2001-01-02 04:00:00</th>\n",
       "      <td>-11.700000</td>\n",
       "      <td>704279.1959</td>\n",
       "      <td>85794.535330</td>\n",
       "    </tr>\n",
       "    <tr>\n",
       "      <th>2001-01-02 05:00:00</th>\n",
       "      <td>-11.991667</td>\n",
       "      <td>715288.8350</td>\n",
       "      <td>89293.772580</td>\n",
       "    </tr>\n",
       "    <tr>\n",
       "      <th>2001-01-02 06:00:00</th>\n",
       "      <td>-11.908333</td>\n",
       "      <td>718766.2770</td>\n",
       "      <td>90837.268410</td>\n",
       "    </tr>\n",
       "  </tbody>\n",
       "</table>\n",
       "</div>"
      ],
      "text/plain": [
       "                       t_out_C    heating_W      cooling_W\n",
       "timestamp                                                 \n",
       "2001-01-01 01:00:00  -4.400000  609230.1302  127902.411800\n",
       "2001-01-01 02:00:00  -4.400000  606900.3412  174577.649100\n",
       "2001-01-01 03:00:00  -4.108333  604168.5347  186763.682700\n",
       "2001-01-01 04:00:00  -3.550000  600461.6520  199730.652500\n",
       "2001-01-01 05:00:00  -3.300000  604702.9970  205553.300800\n",
       "2001-01-01 06:00:00  -3.650000  607617.8109  200142.297400\n",
       "2001-01-01 07:00:00  -4.191667  611215.7286  191604.123600\n",
       "2001-01-01 08:00:00  -3.758333  607994.1257  113827.739800\n",
       "2001-01-01 09:00:00  -3.008333  546663.1432  109587.775600\n",
       "2001-01-01 10:00:00  -2.450000  518821.3869  125826.584400\n",
       "2001-01-01 11:00:00  -1.558333  494195.6171  153496.496800\n",
       "2001-01-01 12:00:00  -1.450000  487443.5688  162364.692900\n",
       "2001-01-01 13:00:00  -1.991667  483818.4519  153128.010200\n",
       "2001-01-01 14:00:00  -2.841667  500469.3539  135335.251100\n",
       "2001-01-01 15:00:00  -3.008333  496728.7834  130178.538300\n",
       "2001-01-01 16:00:00  -2.800000  498164.5643  135665.906500\n",
       "2001-01-01 17:00:00  -4.083333  561067.9284   96564.162920\n",
       "2001-01-01 18:00:00  -5.350000  597933.3730   72222.697380\n",
       "2001-01-01 19:00:00  -5.891667  611523.2953   62852.735450\n",
       "2001-01-01 20:00:00  -6.450000  628074.2963   53927.937120\n",
       "2001-01-01 21:00:00  -7.633333  651466.8633   35797.956200\n",
       "2001-01-01 22:00:00  -8.941667  662557.6705   15267.334800\n",
       "2001-01-01 23:00:00  -9.750000  680094.5207    4254.932306\n",
       "2001-01-02 00:00:00 -10.350000  701267.3628     980.450802\n",
       "2001-01-02 01:00:00 -10.891667  703857.5003   29439.751190\n",
       "2001-01-02 02:00:00 -11.450000  710937.9414   61415.105220\n",
       "2001-01-02 03:00:00 -11.700000  706407.5403   77967.382550\n",
       "2001-01-02 04:00:00 -11.700000  704279.1959   85794.535330\n",
       "2001-01-02 05:00:00 -11.991667  715288.8350   89293.772580\n",
       "2001-01-02 06:00:00 -11.908333  718766.2770   90837.268410"
      ]
     },
     "execution_count": 6,
     "metadata": {},
     "output_type": "execute_result"
    }
   ],
   "source": [
    "# Get datasets based on input (location, load_type) saved in settings object\n",
    "from src.loads import get_load_data\n",
    "from src.emissions import get_emissions_data\n",
    "\n",
    "# get load data\n",
    "load_data = get_load_data(settings)\n",
    "\n",
    "# get emission data\n",
    "emissions_data = get_emissions_data(settings)\n",
    "\n",
    "# inspect load data\n",
    "load_data.df.head(30)"
   ]
  },
  {
   "cell_type": "code",
   "execution_count": 7,
   "id": "12ea6b20",
   "metadata": {},
   "outputs": [
    {
     "data": {
      "application/vnd.microsoft.datawrangler.viewer.v0+json": {
       "columns": [
        {
         "name": "timestamp",
         "rawType": "datetime64[ns]",
         "type": "datetime"
        },
        {
         "name": "emission_scenario",
         "rawType": "object",
         "type": "string"
        },
        {
         "name": "gea_grid_region",
         "rawType": "object",
         "type": "string"
        },
        {
         "name": "time_zone",
         "rawType": "object",
         "type": "string"
        },
        {
         "name": "emission_type",
         "rawType": "object",
         "type": "string"
        },
        {
         "name": "year",
         "rawType": "int64",
         "type": "integer"
        },
        {
         "name": "lrmer_co2e_c",
         "rawType": "float64",
         "type": "float"
        },
        {
         "name": "lrmer_co2e_p",
         "rawType": "float64",
         "type": "float"
        },
        {
         "name": "srmer_co2e_c",
         "rawType": "float64",
         "type": "float"
        },
        {
         "name": "srmer_co2e_p",
         "rawType": "float64",
         "type": "float"
        }
       ],
       "ref": "cbe53879-c2d2-4ecb-94fd-dda005f27398",
       "rows": [
        [
         "2025-01-01 00:00:00",
         "MidCase",
         "NYISO",
         "America/New_York",
         "Combustion only",
         "2025",
         "213.4",
         "60.9",
         "549.9",
         "156.2"
        ],
        [
         "2025-01-01 01:00:00",
         "MidCase",
         "NYISO",
         "America/New_York",
         "Combustion only",
         "2025",
         "209.2",
         "59.1",
         "539.1",
         "159.6"
        ],
        [
         "2025-01-01 02:00:00",
         "MidCase",
         "NYISO",
         "America/New_York",
         "Combustion only",
         "2025",
         "198.9",
         "58.7",
         "546.2",
         "159.4"
        ],
        [
         "2025-01-01 03:00:00",
         "MidCase",
         "NYISO",
         "America/New_York",
         "Combustion only",
         "2025",
         "180.1",
         "55.9",
         "533.4",
         "160.6"
        ],
        [
         "2025-01-01 04:00:00",
         "MidCase",
         "NYISO",
         "America/New_York",
         "Combustion only",
         "2025",
         "176.1",
         "53.6",
         "524.6",
         "163.9"
        ],
        [
         "2025-01-01 05:00:00",
         "MidCase",
         "NYISO",
         "America/New_York",
         "Combustion only",
         "2025",
         "194.6",
         "57.2",
         "556.0",
         "168.0"
        ],
        [
         "2025-01-01 06:00:00",
         "MidCase",
         "NYISO",
         "America/New_York",
         "Combustion only",
         "2025",
         "240.0",
         "65.5",
         "659.2",
         "168.0"
        ],
        [
         "2025-01-01 07:00:00",
         "MidCase",
         "NYISO",
         "America/New_York",
         "Combustion only",
         "2025",
         "233.5",
         "65.9",
         "678.9",
         "163.2"
        ],
        [
         "2025-01-01 08:00:00",
         "MidCase",
         "NYISO",
         "America/New_York",
         "Combustion only",
         "2025",
         "220.4",
         "62.4",
         "662.7",
         "170.7"
        ],
        [
         "2025-01-01 09:00:00",
         "MidCase",
         "NYISO",
         "America/New_York",
         "Combustion only",
         "2025",
         "215.1",
         "65.0",
         "593.0",
         "171.0"
        ],
        [
         "2025-01-01 10:00:00",
         "MidCase",
         "NYISO",
         "America/New_York",
         "Combustion only",
         "2025",
         "219.0",
         "65.1",
         "615.9",
         "162.4"
        ],
        [
         "2025-01-01 11:00:00",
         "MidCase",
         "NYISO",
         "America/New_York",
         "Combustion only",
         "2025",
         "214.1",
         "64.2",
         "644.6",
         "160.0"
        ],
        [
         "2025-01-01 12:00:00",
         "MidCase",
         "NYISO",
         "America/New_York",
         "Combustion only",
         "2025",
         "214.5",
         "65.3",
         "558.9",
         "166.0"
        ],
        [
         "2025-01-01 13:00:00",
         "MidCase",
         "NYISO",
         "America/New_York",
         "Combustion only",
         "2025",
         "199.0",
         "59.0",
         "595.3",
         "159.2"
        ],
        [
         "2025-01-01 14:00:00",
         "MidCase",
         "NYISO",
         "America/New_York",
         "Combustion only",
         "2025",
         "197.1",
         "60.7",
         "575.5",
         "161.3"
        ],
        [
         "2025-01-01 15:00:00",
         "MidCase",
         "NYISO",
         "America/New_York",
         "Combustion only",
         "2025",
         "207.5",
         "62.8",
         "579.3",
         "165.3"
        ],
        [
         "2025-01-01 16:00:00",
         "MidCase",
         "NYISO",
         "America/New_York",
         "Combustion only",
         "2025",
         "220.7",
         "56.6",
         "658.1",
         "179.0"
        ],
        [
         "2025-01-01 17:00:00",
         "MidCase",
         "NYISO",
         "America/New_York",
         "Combustion only",
         "2025",
         "229.7",
         "62.1",
         "760.3",
         "177.6"
        ],
        [
         "2025-01-01 18:00:00",
         "MidCase",
         "NYISO",
         "America/New_York",
         "Combustion only",
         "2025",
         "229.7",
         "63.5",
         "771.4",
         "165.7"
        ],
        [
         "2025-01-01 19:00:00",
         "MidCase",
         "NYISO",
         "America/New_York",
         "Combustion only",
         "2025",
         "224.2",
         "59.1",
         "706.3",
         "178.9"
        ],
        [
         "2025-01-01 20:00:00",
         "MidCase",
         "NYISO",
         "America/New_York",
         "Combustion only",
         "2025",
         "213.3",
         "59.0",
         "633.9",
         "175.3"
        ],
        [
         "2025-01-01 21:00:00",
         "MidCase",
         "NYISO",
         "America/New_York",
         "Combustion only",
         "2025",
         "204.1",
         "58.1",
         "624.1",
         "161.0"
        ],
        [
         "2025-01-01 22:00:00",
         "MidCase",
         "NYISO",
         "America/New_York",
         "Combustion only",
         "2025",
         "210.4",
         "59.9",
         "648.7",
         "152.7"
        ],
        [
         "2025-01-01 23:00:00",
         "MidCase",
         "NYISO",
         "America/New_York",
         "Combustion only",
         "2025",
         "191.1",
         "58.8",
         "677.2",
         "149.6"
        ],
        [
         "2025-02-01 00:00:00",
         "MidCase",
         "NYISO",
         "America/New_York",
         "Combustion only",
         "2025",
         "203.5",
         "64.7",
         "560.6",
         "155.6"
        ],
        [
         "2025-02-01 01:00:00",
         "MidCase",
         "NYISO",
         "America/New_York",
         "Combustion only",
         "2025",
         "175.8",
         "56.7",
         "567.6",
         "156.8"
        ],
        [
         "2025-02-01 02:00:00",
         "MidCase",
         "NYISO",
         "America/New_York",
         "Combustion only",
         "2025",
         "180.3",
         "60.3",
         "554.2",
         "156.7"
        ],
        [
         "2025-02-01 03:00:00",
         "MidCase",
         "NYISO",
         "America/New_York",
         "Combustion only",
         "2025",
         "197.0",
         "66.3",
         "531.8",
         "159.1"
        ],
        [
         "2025-02-01 04:00:00",
         "MidCase",
         "NYISO",
         "America/New_York",
         "Combustion only",
         "2025",
         "170.2",
         "58.6",
         "544.8",
         "162.3"
        ],
        [
         "2025-02-01 05:00:00",
         "MidCase",
         "NYISO",
         "America/New_York",
         "Combustion only",
         "2025",
         "222.4",
         "72.4",
         "560.9",
         "165.3"
        ]
       ],
       "shape": {
        "columns": 9,
        "rows": 30
       }
      },
      "text/html": [
       "<div>\n",
       "<style scoped>\n",
       "    .dataframe tbody tr th:only-of-type {\n",
       "        vertical-align: middle;\n",
       "    }\n",
       "\n",
       "    .dataframe tbody tr th {\n",
       "        vertical-align: top;\n",
       "    }\n",
       "\n",
       "    .dataframe thead th {\n",
       "        text-align: right;\n",
       "    }\n",
       "</style>\n",
       "<table border=\"1\" class=\"dataframe\">\n",
       "  <thead>\n",
       "    <tr style=\"text-align: right;\">\n",
       "      <th></th>\n",
       "      <th>emission_scenario</th>\n",
       "      <th>gea_grid_region</th>\n",
       "      <th>time_zone</th>\n",
       "      <th>emission_type</th>\n",
       "      <th>year</th>\n",
       "      <th>lrmer_co2e_c</th>\n",
       "      <th>lrmer_co2e_p</th>\n",
       "      <th>srmer_co2e_c</th>\n",
       "      <th>srmer_co2e_p</th>\n",
       "    </tr>\n",
       "    <tr>\n",
       "      <th>timestamp</th>\n",
       "      <th></th>\n",
       "      <th></th>\n",
       "      <th></th>\n",
       "      <th></th>\n",
       "      <th></th>\n",
       "      <th></th>\n",
       "      <th></th>\n",
       "      <th></th>\n",
       "      <th></th>\n",
       "    </tr>\n",
       "  </thead>\n",
       "  <tbody>\n",
       "    <tr>\n",
       "      <th>2025-01-01 00:00:00</th>\n",
       "      <td>MidCase</td>\n",
       "      <td>NYISO</td>\n",
       "      <td>America/New_York</td>\n",
       "      <td>Combustion only</td>\n",
       "      <td>2025</td>\n",
       "      <td>213.4</td>\n",
       "      <td>60.9</td>\n",
       "      <td>549.9</td>\n",
       "      <td>156.2</td>\n",
       "    </tr>\n",
       "    <tr>\n",
       "      <th>2025-01-01 01:00:00</th>\n",
       "      <td>MidCase</td>\n",
       "      <td>NYISO</td>\n",
       "      <td>America/New_York</td>\n",
       "      <td>Combustion only</td>\n",
       "      <td>2025</td>\n",
       "      <td>209.2</td>\n",
       "      <td>59.1</td>\n",
       "      <td>539.1</td>\n",
       "      <td>159.6</td>\n",
       "    </tr>\n",
       "    <tr>\n",
       "      <th>2025-01-01 02:00:00</th>\n",
       "      <td>MidCase</td>\n",
       "      <td>NYISO</td>\n",
       "      <td>America/New_York</td>\n",
       "      <td>Combustion only</td>\n",
       "      <td>2025</td>\n",
       "      <td>198.9</td>\n",
       "      <td>58.7</td>\n",
       "      <td>546.2</td>\n",
       "      <td>159.4</td>\n",
       "    </tr>\n",
       "    <tr>\n",
       "      <th>2025-01-01 03:00:00</th>\n",
       "      <td>MidCase</td>\n",
       "      <td>NYISO</td>\n",
       "      <td>America/New_York</td>\n",
       "      <td>Combustion only</td>\n",
       "      <td>2025</td>\n",
       "      <td>180.1</td>\n",
       "      <td>55.9</td>\n",
       "      <td>533.4</td>\n",
       "      <td>160.6</td>\n",
       "    </tr>\n",
       "    <tr>\n",
       "      <th>2025-01-01 04:00:00</th>\n",
       "      <td>MidCase</td>\n",
       "      <td>NYISO</td>\n",
       "      <td>America/New_York</td>\n",
       "      <td>Combustion only</td>\n",
       "      <td>2025</td>\n",
       "      <td>176.1</td>\n",
       "      <td>53.6</td>\n",
       "      <td>524.6</td>\n",
       "      <td>163.9</td>\n",
       "    </tr>\n",
       "    <tr>\n",
       "      <th>2025-01-01 05:00:00</th>\n",
       "      <td>MidCase</td>\n",
       "      <td>NYISO</td>\n",
       "      <td>America/New_York</td>\n",
       "      <td>Combustion only</td>\n",
       "      <td>2025</td>\n",
       "      <td>194.6</td>\n",
       "      <td>57.2</td>\n",
       "      <td>556.0</td>\n",
       "      <td>168.0</td>\n",
       "    </tr>\n",
       "    <tr>\n",
       "      <th>2025-01-01 06:00:00</th>\n",
       "      <td>MidCase</td>\n",
       "      <td>NYISO</td>\n",
       "      <td>America/New_York</td>\n",
       "      <td>Combustion only</td>\n",
       "      <td>2025</td>\n",
       "      <td>240.0</td>\n",
       "      <td>65.5</td>\n",
       "      <td>659.2</td>\n",
       "      <td>168.0</td>\n",
       "    </tr>\n",
       "    <tr>\n",
       "      <th>2025-01-01 07:00:00</th>\n",
       "      <td>MidCase</td>\n",
       "      <td>NYISO</td>\n",
       "      <td>America/New_York</td>\n",
       "      <td>Combustion only</td>\n",
       "      <td>2025</td>\n",
       "      <td>233.5</td>\n",
       "      <td>65.9</td>\n",
       "      <td>678.9</td>\n",
       "      <td>163.2</td>\n",
       "    </tr>\n",
       "    <tr>\n",
       "      <th>2025-01-01 08:00:00</th>\n",
       "      <td>MidCase</td>\n",
       "      <td>NYISO</td>\n",
       "      <td>America/New_York</td>\n",
       "      <td>Combustion only</td>\n",
       "      <td>2025</td>\n",
       "      <td>220.4</td>\n",
       "      <td>62.4</td>\n",
       "      <td>662.7</td>\n",
       "      <td>170.7</td>\n",
       "    </tr>\n",
       "    <tr>\n",
       "      <th>2025-01-01 09:00:00</th>\n",
       "      <td>MidCase</td>\n",
       "      <td>NYISO</td>\n",
       "      <td>America/New_York</td>\n",
       "      <td>Combustion only</td>\n",
       "      <td>2025</td>\n",
       "      <td>215.1</td>\n",
       "      <td>65.0</td>\n",
       "      <td>593.0</td>\n",
       "      <td>171.0</td>\n",
       "    </tr>\n",
       "    <tr>\n",
       "      <th>2025-01-01 10:00:00</th>\n",
       "      <td>MidCase</td>\n",
       "      <td>NYISO</td>\n",
       "      <td>America/New_York</td>\n",
       "      <td>Combustion only</td>\n",
       "      <td>2025</td>\n",
       "      <td>219.0</td>\n",
       "      <td>65.1</td>\n",
       "      <td>615.9</td>\n",
       "      <td>162.4</td>\n",
       "    </tr>\n",
       "    <tr>\n",
       "      <th>2025-01-01 11:00:00</th>\n",
       "      <td>MidCase</td>\n",
       "      <td>NYISO</td>\n",
       "      <td>America/New_York</td>\n",
       "      <td>Combustion only</td>\n",
       "      <td>2025</td>\n",
       "      <td>214.1</td>\n",
       "      <td>64.2</td>\n",
       "      <td>644.6</td>\n",
       "      <td>160.0</td>\n",
       "    </tr>\n",
       "    <tr>\n",
       "      <th>2025-01-01 12:00:00</th>\n",
       "      <td>MidCase</td>\n",
       "      <td>NYISO</td>\n",
       "      <td>America/New_York</td>\n",
       "      <td>Combustion only</td>\n",
       "      <td>2025</td>\n",
       "      <td>214.5</td>\n",
       "      <td>65.3</td>\n",
       "      <td>558.9</td>\n",
       "      <td>166.0</td>\n",
       "    </tr>\n",
       "    <tr>\n",
       "      <th>2025-01-01 13:00:00</th>\n",
       "      <td>MidCase</td>\n",
       "      <td>NYISO</td>\n",
       "      <td>America/New_York</td>\n",
       "      <td>Combustion only</td>\n",
       "      <td>2025</td>\n",
       "      <td>199.0</td>\n",
       "      <td>59.0</td>\n",
       "      <td>595.3</td>\n",
       "      <td>159.2</td>\n",
       "    </tr>\n",
       "    <tr>\n",
       "      <th>2025-01-01 14:00:00</th>\n",
       "      <td>MidCase</td>\n",
       "      <td>NYISO</td>\n",
       "      <td>America/New_York</td>\n",
       "      <td>Combustion only</td>\n",
       "      <td>2025</td>\n",
       "      <td>197.1</td>\n",
       "      <td>60.7</td>\n",
       "      <td>575.5</td>\n",
       "      <td>161.3</td>\n",
       "    </tr>\n",
       "    <tr>\n",
       "      <th>2025-01-01 15:00:00</th>\n",
       "      <td>MidCase</td>\n",
       "      <td>NYISO</td>\n",
       "      <td>America/New_York</td>\n",
       "      <td>Combustion only</td>\n",
       "      <td>2025</td>\n",
       "      <td>207.5</td>\n",
       "      <td>62.8</td>\n",
       "      <td>579.3</td>\n",
       "      <td>165.3</td>\n",
       "    </tr>\n",
       "    <tr>\n",
       "      <th>2025-01-01 16:00:00</th>\n",
       "      <td>MidCase</td>\n",
       "      <td>NYISO</td>\n",
       "      <td>America/New_York</td>\n",
       "      <td>Combustion only</td>\n",
       "      <td>2025</td>\n",
       "      <td>220.7</td>\n",
       "      <td>56.6</td>\n",
       "      <td>658.1</td>\n",
       "      <td>179.0</td>\n",
       "    </tr>\n",
       "    <tr>\n",
       "      <th>2025-01-01 17:00:00</th>\n",
       "      <td>MidCase</td>\n",
       "      <td>NYISO</td>\n",
       "      <td>America/New_York</td>\n",
       "      <td>Combustion only</td>\n",
       "      <td>2025</td>\n",
       "      <td>229.7</td>\n",
       "      <td>62.1</td>\n",
       "      <td>760.3</td>\n",
       "      <td>177.6</td>\n",
       "    </tr>\n",
       "    <tr>\n",
       "      <th>2025-01-01 18:00:00</th>\n",
       "      <td>MidCase</td>\n",
       "      <td>NYISO</td>\n",
       "      <td>America/New_York</td>\n",
       "      <td>Combustion only</td>\n",
       "      <td>2025</td>\n",
       "      <td>229.7</td>\n",
       "      <td>63.5</td>\n",
       "      <td>771.4</td>\n",
       "      <td>165.7</td>\n",
       "    </tr>\n",
       "    <tr>\n",
       "      <th>2025-01-01 19:00:00</th>\n",
       "      <td>MidCase</td>\n",
       "      <td>NYISO</td>\n",
       "      <td>America/New_York</td>\n",
       "      <td>Combustion only</td>\n",
       "      <td>2025</td>\n",
       "      <td>224.2</td>\n",
       "      <td>59.1</td>\n",
       "      <td>706.3</td>\n",
       "      <td>178.9</td>\n",
       "    </tr>\n",
       "    <tr>\n",
       "      <th>2025-01-01 20:00:00</th>\n",
       "      <td>MidCase</td>\n",
       "      <td>NYISO</td>\n",
       "      <td>America/New_York</td>\n",
       "      <td>Combustion only</td>\n",
       "      <td>2025</td>\n",
       "      <td>213.3</td>\n",
       "      <td>59.0</td>\n",
       "      <td>633.9</td>\n",
       "      <td>175.3</td>\n",
       "    </tr>\n",
       "    <tr>\n",
       "      <th>2025-01-01 21:00:00</th>\n",
       "      <td>MidCase</td>\n",
       "      <td>NYISO</td>\n",
       "      <td>America/New_York</td>\n",
       "      <td>Combustion only</td>\n",
       "      <td>2025</td>\n",
       "      <td>204.1</td>\n",
       "      <td>58.1</td>\n",
       "      <td>624.1</td>\n",
       "      <td>161.0</td>\n",
       "    </tr>\n",
       "    <tr>\n",
       "      <th>2025-01-01 22:00:00</th>\n",
       "      <td>MidCase</td>\n",
       "      <td>NYISO</td>\n",
       "      <td>America/New_York</td>\n",
       "      <td>Combustion only</td>\n",
       "      <td>2025</td>\n",
       "      <td>210.4</td>\n",
       "      <td>59.9</td>\n",
       "      <td>648.7</td>\n",
       "      <td>152.7</td>\n",
       "    </tr>\n",
       "    <tr>\n",
       "      <th>2025-01-01 23:00:00</th>\n",
       "      <td>MidCase</td>\n",
       "      <td>NYISO</td>\n",
       "      <td>America/New_York</td>\n",
       "      <td>Combustion only</td>\n",
       "      <td>2025</td>\n",
       "      <td>191.1</td>\n",
       "      <td>58.8</td>\n",
       "      <td>677.2</td>\n",
       "      <td>149.6</td>\n",
       "    </tr>\n",
       "    <tr>\n",
       "      <th>2025-02-01 00:00:00</th>\n",
       "      <td>MidCase</td>\n",
       "      <td>NYISO</td>\n",
       "      <td>America/New_York</td>\n",
       "      <td>Combustion only</td>\n",
       "      <td>2025</td>\n",
       "      <td>203.5</td>\n",
       "      <td>64.7</td>\n",
       "      <td>560.6</td>\n",
       "      <td>155.6</td>\n",
       "    </tr>\n",
       "    <tr>\n",
       "      <th>2025-02-01 01:00:00</th>\n",
       "      <td>MidCase</td>\n",
       "      <td>NYISO</td>\n",
       "      <td>America/New_York</td>\n",
       "      <td>Combustion only</td>\n",
       "      <td>2025</td>\n",
       "      <td>175.8</td>\n",
       "      <td>56.7</td>\n",
       "      <td>567.6</td>\n",
       "      <td>156.8</td>\n",
       "    </tr>\n",
       "    <tr>\n",
       "      <th>2025-02-01 02:00:00</th>\n",
       "      <td>MidCase</td>\n",
       "      <td>NYISO</td>\n",
       "      <td>America/New_York</td>\n",
       "      <td>Combustion only</td>\n",
       "      <td>2025</td>\n",
       "      <td>180.3</td>\n",
       "      <td>60.3</td>\n",
       "      <td>554.2</td>\n",
       "      <td>156.7</td>\n",
       "    </tr>\n",
       "    <tr>\n",
       "      <th>2025-02-01 03:00:00</th>\n",
       "      <td>MidCase</td>\n",
       "      <td>NYISO</td>\n",
       "      <td>America/New_York</td>\n",
       "      <td>Combustion only</td>\n",
       "      <td>2025</td>\n",
       "      <td>197.0</td>\n",
       "      <td>66.3</td>\n",
       "      <td>531.8</td>\n",
       "      <td>159.1</td>\n",
       "    </tr>\n",
       "    <tr>\n",
       "      <th>2025-02-01 04:00:00</th>\n",
       "      <td>MidCase</td>\n",
       "      <td>NYISO</td>\n",
       "      <td>America/New_York</td>\n",
       "      <td>Combustion only</td>\n",
       "      <td>2025</td>\n",
       "      <td>170.2</td>\n",
       "      <td>58.6</td>\n",
       "      <td>544.8</td>\n",
       "      <td>162.3</td>\n",
       "    </tr>\n",
       "    <tr>\n",
       "      <th>2025-02-01 05:00:00</th>\n",
       "      <td>MidCase</td>\n",
       "      <td>NYISO</td>\n",
       "      <td>America/New_York</td>\n",
       "      <td>Combustion only</td>\n",
       "      <td>2025</td>\n",
       "      <td>222.4</td>\n",
       "      <td>72.4</td>\n",
       "      <td>560.9</td>\n",
       "      <td>165.3</td>\n",
       "    </tr>\n",
       "  </tbody>\n",
       "</table>\n",
       "</div>"
      ],
      "text/plain": [
       "                    emission_scenario gea_grid_region         time_zone  \\\n",
       "timestamp                                                                 \n",
       "2025-01-01 00:00:00           MidCase           NYISO  America/New_York   \n",
       "2025-01-01 01:00:00           MidCase           NYISO  America/New_York   \n",
       "2025-01-01 02:00:00           MidCase           NYISO  America/New_York   \n",
       "2025-01-01 03:00:00           MidCase           NYISO  America/New_York   \n",
       "2025-01-01 04:00:00           MidCase           NYISO  America/New_York   \n",
       "2025-01-01 05:00:00           MidCase           NYISO  America/New_York   \n",
       "2025-01-01 06:00:00           MidCase           NYISO  America/New_York   \n",
       "2025-01-01 07:00:00           MidCase           NYISO  America/New_York   \n",
       "2025-01-01 08:00:00           MidCase           NYISO  America/New_York   \n",
       "2025-01-01 09:00:00           MidCase           NYISO  America/New_York   \n",
       "2025-01-01 10:00:00           MidCase           NYISO  America/New_York   \n",
       "2025-01-01 11:00:00           MidCase           NYISO  America/New_York   \n",
       "2025-01-01 12:00:00           MidCase           NYISO  America/New_York   \n",
       "2025-01-01 13:00:00           MidCase           NYISO  America/New_York   \n",
       "2025-01-01 14:00:00           MidCase           NYISO  America/New_York   \n",
       "2025-01-01 15:00:00           MidCase           NYISO  America/New_York   \n",
       "2025-01-01 16:00:00           MidCase           NYISO  America/New_York   \n",
       "2025-01-01 17:00:00           MidCase           NYISO  America/New_York   \n",
       "2025-01-01 18:00:00           MidCase           NYISO  America/New_York   \n",
       "2025-01-01 19:00:00           MidCase           NYISO  America/New_York   \n",
       "2025-01-01 20:00:00           MidCase           NYISO  America/New_York   \n",
       "2025-01-01 21:00:00           MidCase           NYISO  America/New_York   \n",
       "2025-01-01 22:00:00           MidCase           NYISO  America/New_York   \n",
       "2025-01-01 23:00:00           MidCase           NYISO  America/New_York   \n",
       "2025-02-01 00:00:00           MidCase           NYISO  America/New_York   \n",
       "2025-02-01 01:00:00           MidCase           NYISO  America/New_York   \n",
       "2025-02-01 02:00:00           MidCase           NYISO  America/New_York   \n",
       "2025-02-01 03:00:00           MidCase           NYISO  America/New_York   \n",
       "2025-02-01 04:00:00           MidCase           NYISO  America/New_York   \n",
       "2025-02-01 05:00:00           MidCase           NYISO  America/New_York   \n",
       "\n",
       "                       emission_type  year  lrmer_co2e_c  lrmer_co2e_p  \\\n",
       "timestamp                                                                \n",
       "2025-01-01 00:00:00  Combustion only  2025         213.4          60.9   \n",
       "2025-01-01 01:00:00  Combustion only  2025         209.2          59.1   \n",
       "2025-01-01 02:00:00  Combustion only  2025         198.9          58.7   \n",
       "2025-01-01 03:00:00  Combustion only  2025         180.1          55.9   \n",
       "2025-01-01 04:00:00  Combustion only  2025         176.1          53.6   \n",
       "2025-01-01 05:00:00  Combustion only  2025         194.6          57.2   \n",
       "2025-01-01 06:00:00  Combustion only  2025         240.0          65.5   \n",
       "2025-01-01 07:00:00  Combustion only  2025         233.5          65.9   \n",
       "2025-01-01 08:00:00  Combustion only  2025         220.4          62.4   \n",
       "2025-01-01 09:00:00  Combustion only  2025         215.1          65.0   \n",
       "2025-01-01 10:00:00  Combustion only  2025         219.0          65.1   \n",
       "2025-01-01 11:00:00  Combustion only  2025         214.1          64.2   \n",
       "2025-01-01 12:00:00  Combustion only  2025         214.5          65.3   \n",
       "2025-01-01 13:00:00  Combustion only  2025         199.0          59.0   \n",
       "2025-01-01 14:00:00  Combustion only  2025         197.1          60.7   \n",
       "2025-01-01 15:00:00  Combustion only  2025         207.5          62.8   \n",
       "2025-01-01 16:00:00  Combustion only  2025         220.7          56.6   \n",
       "2025-01-01 17:00:00  Combustion only  2025         229.7          62.1   \n",
       "2025-01-01 18:00:00  Combustion only  2025         229.7          63.5   \n",
       "2025-01-01 19:00:00  Combustion only  2025         224.2          59.1   \n",
       "2025-01-01 20:00:00  Combustion only  2025         213.3          59.0   \n",
       "2025-01-01 21:00:00  Combustion only  2025         204.1          58.1   \n",
       "2025-01-01 22:00:00  Combustion only  2025         210.4          59.9   \n",
       "2025-01-01 23:00:00  Combustion only  2025         191.1          58.8   \n",
       "2025-02-01 00:00:00  Combustion only  2025         203.5          64.7   \n",
       "2025-02-01 01:00:00  Combustion only  2025         175.8          56.7   \n",
       "2025-02-01 02:00:00  Combustion only  2025         180.3          60.3   \n",
       "2025-02-01 03:00:00  Combustion only  2025         197.0          66.3   \n",
       "2025-02-01 04:00:00  Combustion only  2025         170.2          58.6   \n",
       "2025-02-01 05:00:00  Combustion only  2025         222.4          72.4   \n",
       "\n",
       "                     srmer_co2e_c  srmer_co2e_p  \n",
       "timestamp                                        \n",
       "2025-01-01 00:00:00         549.9         156.2  \n",
       "2025-01-01 01:00:00         539.1         159.6  \n",
       "2025-01-01 02:00:00         546.2         159.4  \n",
       "2025-01-01 03:00:00         533.4         160.6  \n",
       "2025-01-01 04:00:00         524.6         163.9  \n",
       "2025-01-01 05:00:00         556.0         168.0  \n",
       "2025-01-01 06:00:00         659.2         168.0  \n",
       "2025-01-01 07:00:00         678.9         163.2  \n",
       "2025-01-01 08:00:00         662.7         170.7  \n",
       "2025-01-01 09:00:00         593.0         171.0  \n",
       "2025-01-01 10:00:00         615.9         162.4  \n",
       "2025-01-01 11:00:00         644.6         160.0  \n",
       "2025-01-01 12:00:00         558.9         166.0  \n",
       "2025-01-01 13:00:00         595.3         159.2  \n",
       "2025-01-01 14:00:00         575.5         161.3  \n",
       "2025-01-01 15:00:00         579.3         165.3  \n",
       "2025-01-01 16:00:00         658.1         179.0  \n",
       "2025-01-01 17:00:00         760.3         177.6  \n",
       "2025-01-01 18:00:00         771.4         165.7  \n",
       "2025-01-01 19:00:00         706.3         178.9  \n",
       "2025-01-01 20:00:00         633.9         175.3  \n",
       "2025-01-01 21:00:00         624.1         161.0  \n",
       "2025-01-01 22:00:00         648.7         152.7  \n",
       "2025-01-01 23:00:00         677.2         149.6  \n",
       "2025-02-01 00:00:00         560.6         155.6  \n",
       "2025-02-01 01:00:00         567.6         156.8  \n",
       "2025-02-01 02:00:00         554.2         156.7  \n",
       "2025-02-01 03:00:00         531.8         159.1  \n",
       "2025-02-01 04:00:00         544.8         162.3  \n",
       "2025-02-01 05:00:00         560.9         165.3  "
      ]
     },
     "execution_count": 7,
     "metadata": {},
     "output_type": "execute_result"
    }
   ],
   "source": [
    "# inspect emissions data\n",
    "emissions_data.df.head(30)"
   ]
  },
  {
   "cell_type": "code",
   "execution_count": 8,
   "id": "550dd7a8",
   "metadata": {},
   "outputs": [
    {
     "name": "stdout",
     "output_type": "stream",
     "text": [
      "eq_id='hp01' eq_type='heat_pump' eq_subtype='air_to_water' eq_manufacturer=None model='GenericAWHP' fuel='electricity' capacity_W=None performance=Performance(cop_curve=COPCurve(t_out_C=[-10.0, 0.0, 10.0, 20.0, 30.0], cop=[2.0, 2.5, 3.2, 3.8, 4.2]), cap_curve=CapCurve(t_out_C=[-10.0, 0.0, 10.0, 20.0, 30.0], capacity_W=[100000.0, 120000.0, 140000.0, 160000.0, 180000.0]), plr_curve=None, efficiency=None, constraints=None) emissions=None\n",
      "eq_scen_id='decarb_01' eq_scen_name='Decarbonized HP Only' hr_wwhp='hr01' awhp_h='hp01' awhp_c='hp01' awhp_sizing=4.0 boiler=None chiller='ch01' resistance_heater='res01'\n"
     ]
    }
   ],
   "source": [
    "# Test-load equipment library (not changing the actual sim settings)\n",
    "\n",
    "from src.equipment import load_library\n",
    "\n",
    "library = load_library(\"data/input/equipment_data.json\")\n",
    "\n",
    "hp_a = library.get_equipment(\"hp01\")\n",
    "print(hp_a)\n",
    "\n",
    "scenario_a = library.get_scenario(\"decarb_01\")\n",
    "print(scenario_a)"
   ]
  },
  {
   "cell_type": "code",
   "execution_count": 9,
   "id": "633558b1",
   "metadata": {},
   "outputs": [
    {
     "data": {
      "application/vnd.microsoft.datawrangler.viewer.v0+json": {
       "columns": [
        {
         "name": "timestamp",
         "rawType": "datetime64[ns]",
         "type": "datetime"
        },
        {
         "name": "t_out_C",
         "rawType": "float64",
         "type": "float"
        },
        {
         "name": "heating_W",
         "rawType": "float64",
         "type": "float"
        },
        {
         "name": "cooling_W",
         "rawType": "float64",
         "type": "float"
        },
        {
         "name": "elec_Wh",
         "rawType": "float64",
         "type": "float"
        },
        {
         "name": "gas_Wh",
         "rawType": "float64",
         "type": "float"
        },
        {
         "name": "hhw_W",
         "rawType": "float64",
         "type": "float"
        },
        {
         "name": "chw_W",
         "rawType": "float64",
         "type": "float"
        },
        {
         "name": "hr_hhw_W",
         "rawType": "float64",
         "type": "float"
        },
        {
         "name": "hr_chw_W",
         "rawType": "float64",
         "type": "float"
        },
        {
         "name": "hr_cop_h",
         "rawType": "float64",
         "type": "float"
        },
        {
         "name": "elec_hr_Wh",
         "rawType": "float64",
         "type": "float"
        },
        {
         "name": "awhp_num_h",
         "rawType": "float64",
         "type": "float"
        },
        {
         "name": "awhp_cap_h_W",
         "rawType": "float64",
         "type": "float"
        },
        {
         "name": "awhp_cop_h",
         "rawType": "float64",
         "type": "float"
        },
        {
         "name": "awhp_hhw_W",
         "rawType": "float64",
         "type": "float"
        },
        {
         "name": "elec_awhp_h_Wh",
         "rawType": "float64",
         "type": "float"
        },
        {
         "name": "boiler_eff",
         "rawType": "float64",
         "type": "float"
        },
        {
         "name": "boiler_hhw_W",
         "rawType": "float64",
         "type": "float"
        },
        {
         "name": "gas_boiler_Wh",
         "rawType": "float64",
         "type": "float"
        },
        {
         "name": "res_hhw_W",
         "rawType": "float64",
         "type": "float"
        },
        {
         "name": "elec_res_Wh",
         "rawType": "float64",
         "type": "float"
        },
        {
         "name": "awhp_num_c",
         "rawType": "float64",
         "type": "float"
        },
        {
         "name": "awhp_cap_c_W",
         "rawType": "float64",
         "type": "float"
        },
        {
         "name": "awhp_cop_c",
         "rawType": "float64",
         "type": "float"
        },
        {
         "name": "awhp_chw_W",
         "rawType": "float64",
         "type": "float"
        },
        {
         "name": "elec_awhp_c_Wh",
         "rawType": "float64",
         "type": "float"
        },
        {
         "name": "chiller_cop",
         "rawType": "float64",
         "type": "float"
        },
        {
         "name": "chiller_chw_W",
         "rawType": "float64",
         "type": "float"
        },
        {
         "name": "elec_chiller_Wh",
         "rawType": "float64",
         "type": "float"
        },
        {
         "name": "scenario_id",
         "rawType": "object",
         "type": "string"
        },
        {
         "name": "max_cap_h_hr_W",
         "rawType": "float64",
         "type": "float"
        },
        {
         "name": "min_cap_h_hr_W",
         "rawType": "float64",
         "type": "float"
        },
        {
         "name": "simult_h_hr_W",
         "rawType": "float64",
         "type": "float"
        }
       ],
       "ref": "c7b1f71b-6b16-4c20-885e-4d4f593b1be8",
       "rows": [
        [
         "2001-01-01 01:00:00",
         "-4.4",
         "609230.13",
         "127902.41",
         "101719.46",
         "579104.8",
         "609230.13",
         "127902.41",
         null,
         null,
         null,
         null,
         "1.0",
         "111200.0",
         "2.28",
         "111200.0",
         "48771.93",
         "0.86",
         "498030.13",
         "579104.8",
         null,
         null,
         "1.0",
         "111200.0",
         "2.28",
         "111200.0",
         "48771.93",
         "4.0",
         "16702.41",
         "4175.6",
         "baseline_01",
         null,
         null,
         null
        ],
        [
         "2001-01-01 02:00:00",
         "-4.4",
         "606900.34",
         "174577.65",
         "113388.27",
         "576395.75",
         "606900.34",
         "174577.65",
         null,
         null,
         null,
         null,
         "1.0",
         "111200.0",
         "2.28",
         "111200.0",
         "48771.93",
         "0.86",
         "495700.34",
         "576395.75",
         null,
         null,
         "1.0",
         "111200.0",
         "2.28",
         "111200.0",
         "48771.93",
         "4.0",
         "63377.65",
         "15844.41",
         "baseline_01",
         null,
         null,
         null
        ],
        [
         "2001-01-01 03:00:00",
         "-4.11",
         "604168.53",
         "186763.68",
         "116177.45",
         "572540.93",
         "604168.53",
         "186763.68",
         null,
         null,
         null,
         null,
         "1.0",
         "111783.33",
         "2.29",
         "111783.33",
         "48716.18",
         "0.86",
         "492385.2",
         "572540.93",
         null,
         null,
         "1.0",
         "111783.33",
         "2.29",
         "111783.33",
         "48716.18",
         "4.0",
         "74980.35",
         "18745.09",
         "baseline_01",
         null,
         null,
         null
        ],
        [
         "2001-01-01 04:00:00",
         "-3.55",
         "600461.65",
         "199730.65",
         "118930.48",
         "566932.15",
         "600461.65",
         "199730.65",
         null,
         null,
         null,
         null,
         "1.0",
         "112900.0",
         "2.32",
         "112900.0",
         "48611.41",
         "0.86",
         "487561.65",
         "566932.15",
         null,
         null,
         "1.0",
         "112900.0",
         "2.32",
         "112900.0",
         "48611.41",
         "4.0",
         "86830.65",
         "21707.66",
         "baseline_01",
         null,
         null,
         null
        ],
        [
         "2001-01-01 05:00:00",
         "-3.3",
         "604703.0",
         "205553.3",
         "120168.95",
         "571282.55",
         "604703.0",
         "205553.3",
         null,
         null,
         null,
         null,
         "1.0",
         "113400.0",
         "2.34",
         "113400.0",
         "48565.31",
         "0.86",
         "491303.0",
         "571282.55",
         null,
         null,
         "1.0",
         "113400.0",
         "2.34",
         "113400.0",
         "48565.31",
         "4.0",
         "92153.3",
         "23038.33",
         "baseline_01",
         null,
         null,
         null
        ],
        [
         "2001-01-01 06:00:00",
         "-3.65",
         "607617.81",
         "200142.3",
         "119120.55",
         "575485.83",
         "607617.81",
         "200142.3",
         null,
         null,
         null,
         null,
         "1.0",
         "112700.0",
         "2.32",
         "112700.0",
         "48629.99",
         "0.86",
         "494917.81",
         "575485.83",
         null,
         null,
         "1.0",
         "112700.0",
         "2.32",
         "112700.0",
         "48629.99",
         "4.0",
         "87442.3",
         "21860.57",
         "baseline_01",
         null,
         null,
         null
        ],
        [
         "2001-01-01 07:00:00",
         "-4.19",
         "611215.73",
         "191604.12",
         "117460.94",
         "580929.14",
         "611215.73",
         "191604.12",
         null,
         null,
         null,
         null,
         "1.0",
         "111616.67",
         "2.29",
         "111616.67",
         "48732.04",
         "0.86",
         "499599.06",
         "580929.14",
         null,
         null,
         "1.0",
         "111616.67",
         "2.29",
         "111616.67",
         "48732.04",
         "4.0",
         "79987.46",
         "19996.86",
         "baseline_01",
         null,
         null,
         null
        ],
        [
         "2001-01-01 08:00:00",
         "-3.76",
         "607994.13",
         "113827.74",
         "97636.52",
         "576175.34",
         "607994.13",
         "113827.74",
         null,
         null,
         null,
         null,
         "1.0",
         "112483.33",
         "2.31",
         "112483.33",
         "48650.21",
         "0.86",
         "495510.79",
         "576175.34",
         null,
         null,
         "1.0",
         "112483.33",
         "2.31",
         "112483.33",
         "48650.21",
         "4.0",
         "1344.41",
         "336.1",
         "baseline_01",
         null,
         null,
         null
        ],
        [
         "2001-01-01 09:00:00",
         "-3.01",
         "546663.14",
         "109587.78",
         "95153.51",
         "503116.06",
         "546663.14",
         "109587.78",
         null,
         null,
         null,
         null,
         "1.0",
         "113983.33",
         "2.35",
         "113983.33",
         "48512.15",
         "0.86",
         "432679.81",
         "503116.06",
         null,
         null,
         "1.0",
         "113983.33",
         "2.35",
         "109587.78",
         "46641.37",
         "4.0",
         "0.0",
         "0.0",
         "baseline_01",
         null,
         null,
         null
        ],
        [
         "2001-01-01 10:00:00",
         "-2.45",
         "518821.39",
         "125826.58",
         "99506.04",
         "469443.47",
         "518821.39",
         "125826.58",
         null,
         null,
         null,
         null,
         "1.0",
         "115100.0",
         "2.38",
         "115100.0",
         "48412.2",
         "0.86",
         "403721.39",
         "469443.47",
         null,
         null,
         "1.0",
         "115100.0",
         "2.38",
         "115100.0",
         "48412.2",
         "4.0",
         "10726.58",
         "2681.65",
         "baseline_01",
         null,
         null,
         null
        ],
        [
         "2001-01-01 11:00:00",
         "-1.56",
         "494195.62",
         "153496.5",
         "105668.0",
         "438735.21",
         "494195.62",
         "153496.5",
         null,
         null,
         null,
         null,
         "1.0",
         "116883.33",
         "2.42",
         "116883.33",
         "48257.35",
         "0.86",
         "377312.28",
         "438735.21",
         null,
         null,
         "1.0",
         "116883.33",
         "2.42",
         "116883.33",
         "48257.35",
         "4.0",
         "36613.16",
         "9153.29",
         "baseline_01",
         null,
         null,
         null
        ],
        [
         "2001-01-01 12:00:00",
         "-1.45",
         "487443.57",
         "162364.69",
         "107794.03",
         "430632.06",
         "487443.57",
         "162364.69",
         null,
         null,
         null,
         null,
         "1.0",
         "117100.0",
         "2.43",
         "117100.0",
         "48238.93",
         "0.86",
         "370343.57",
         "430632.06",
         null,
         null,
         "1.0",
         "117100.0",
         "2.43",
         "117100.0",
         "48238.93",
         "4.0",
         "45264.69",
         "11316.17",
         "baseline_01",
         null,
         null,
         null
        ],
        [
         "2001-01-01 13:00:00",
         "-1.99",
         "483818.45",
         "153128.01",
         "105941.61",
         "427676.49",
         "483818.45",
         "153128.01",
         null,
         null,
         null,
         null,
         "1.0",
         "116016.67",
         "2.4",
         "116016.67",
         "48331.89",
         "0.86",
         "367801.79",
         "427676.49",
         null,
         null,
         "1.0",
         "116016.67",
         "2.4",
         "116016.67",
         "48331.89",
         "4.0",
         "37111.34",
         "9277.84",
         "baseline_01",
         null,
         null,
         null
        ],
        [
         "2001-01-01 14:00:00",
         "-2.84",
         "500469.35",
         "135335.25",
         "102218.77",
         "449014.75",
         "500469.35",
         "135335.25",
         null,
         null,
         null,
         null,
         "1.0",
         "114316.67",
         "2.36",
         "114316.67",
         "48482.06",
         "0.86",
         "386152.69",
         "449014.75",
         null,
         null,
         "1.0",
         "114316.67",
         "2.36",
         "114316.67",
         "48482.06",
         "4.0",
         "21018.58",
         "5254.65",
         "baseline_01",
         null,
         null,
         null
        ],
        [
         "2001-01-01 15:00:00",
         "-3.01",
         "496728.78",
         "130178.54",
         "101073.1",
         "445052.85",
         "496728.78",
         "130178.54",
         null,
         null,
         null,
         null,
         "1.0",
         "113983.33",
         "2.35",
         "113983.33",
         "48512.15",
         "0.86",
         "382745.45",
         "445052.85",
         null,
         null,
         "1.0",
         "113983.33",
         "2.35",
         "113983.33",
         "48512.15",
         "4.0",
         "16195.2",
         "4048.8",
         "baseline_01",
         null,
         null,
         null
        ],
        [
         "2001-01-01 16:00:00",
         "-2.8",
         "498164.56",
         "135665.91",
         "102265.63",
         "446237.87",
         "498164.56",
         "135665.91",
         null,
         null,
         null,
         null,
         "1.0",
         "114400.0",
         "2.36",
         "114400.0",
         "48474.58",
         "0.86",
         "383764.56",
         "446237.87",
         null,
         null,
         "1.0",
         "114400.0",
         "2.36",
         "114400.0",
         "48474.58",
         "4.0",
         "21265.91",
         "5316.48",
         "baseline_01",
         null,
         null,
         null
        ],
        [
         "2001-01-01 17:00:00",
         "-4.08",
         "561067.93",
         "96564.16",
         "90772.05",
         "522365.81",
         "561067.93",
         "96564.16",
         null,
         null,
         null,
         null,
         "1.0",
         "111833.33",
         "2.3",
         "111833.33",
         "48711.43",
         "0.86",
         "449234.6",
         "522365.81",
         null,
         null,
         "1.0",
         "111833.33",
         "2.3",
         "96564.16",
         "42060.62",
         "4.0",
         "0.0",
         "0.0",
         "baseline_01",
         null,
         null,
         null
        ],
        [
         "2001-01-01 18:00:00",
         "-5.35",
         "597933.37",
         "72222.7",
         "81309.16",
         "568178.34",
         "597933.37",
         "72222.7",
         null,
         null,
         null,
         null,
         "1.0",
         "109300.0",
         "2.23",
         "109300.0",
         "48958.57",
         "0.86",
         "488633.37",
         "568178.34",
         null,
         null,
         "1.0",
         "109300.0",
         "2.23",
         "72222.7",
         "32350.59",
         "4.0",
         "0.0",
         "0.0",
         "baseline_01",
         null,
         null,
         null
        ],
        [
         "2001-01-01 19:00:00",
         "-5.89",
         "611523.3",
         "62852.74",
         "77567.84",
         "585240.27",
         "611523.3",
         "62852.74",
         null,
         null,
         null,
         null,
         "1.0",
         "108216.67",
         "2.21",
         "108216.67",
         "49068.58",
         "0.86",
         "503306.63",
         "585240.27",
         null,
         null,
         "1.0",
         "108216.67",
         "2.21",
         "62852.74",
         "28499.26",
         "4.0",
         "0.0",
         "0.0",
         "baseline_01",
         null,
         null,
         null
        ],
        [
         "2001-01-01 20:00:00",
         "-6.45",
         "628074.3",
         "53927.94",
         "73950.83",
         "605784.07",
         "628074.3",
         "53927.94",
         null,
         null,
         null,
         null,
         "1.0",
         "107100.0",
         "2.18",
         "107100.0",
         "49184.85",
         "0.86",
         "520974.3",
         "605784.07",
         null,
         null,
         "1.0",
         "107100.0",
         "2.18",
         "53927.94",
         "24765.99",
         "4.0",
         "0.0",
         "0.0",
         "baseline_01",
         null,
         null,
         null
        ],
        [
         "2001-01-01 21:00:00",
         "-7.63",
         "651466.86",
         "35797.96",
         "66340.5",
         "635736.66",
         "651466.86",
         "35797.96",
         null,
         null,
         null,
         null,
         "1.0",
         "104733.33",
         "2.12",
         "104733.33",
         "49441.38",
         "0.86",
         "546733.53",
         "635736.66",
         null,
         null,
         "1.0",
         "104733.33",
         "2.12",
         "35797.96",
         "16899.11",
         "4.0",
         "0.0",
         "0.0",
         "baseline_01",
         null,
         null,
         null
        ],
        [
         "2001-01-01 22:00:00",
         "-8.94",
         "662557.67",
         "15267.33",
         "57179.14",
         "651675.59",
         "662557.67",
         "15267.33",
         null,
         null,
         null,
         null,
         "1.0",
         "102116.67",
         "2.05",
         "102116.67",
         "49742.24",
         "0.86",
         "560441.0",
         "651675.59",
         null,
         null,
         "1.0",
         "102116.67",
         "2.05",
         "15267.33",
         "7436.9",
         "4.0",
         "0.0",
         "0.0",
         "baseline_01",
         null,
         null,
         null
        ],
        [
         "2001-01-01 23:00:00",
         "-9.75",
         "680094.52",
         "4254.93",
         "52052.14",
         "673947.12",
         "680094.52",
         "4254.93",
         null,
         null,
         null,
         null,
         "1.0",
         "100500.0",
         "2.01",
         "100500.0",
         "49937.89",
         "0.86",
         "579594.52",
         "673947.12",
         null,
         null,
         "1.0",
         "100500.0",
         "2.01",
         "4254.93",
         "2114.25",
         "4.0",
         "0.0",
         "0.0",
         "baseline_01",
         null,
         null,
         null
        ],
        [
         "2001-01-02 00:00:00",
         "-10.35",
         "701267.36",
         "980.45",
         "50490.23",
         "699148.1",
         "701267.36",
         "980.45",
         null,
         null,
         null,
         null,
         "1.0",
         "100000.0",
         "2.0",
         "100000.0",
         "50000.0",
         "0.86",
         "601267.36",
         "699148.1",
         null,
         null,
         "1.0",
         "100000.0",
         "2.0",
         "980.45",
         "490.23",
         "4.0",
         "0.0",
         "0.0",
         "baseline_01",
         null,
         null,
         null
        ],
        [
         "2001-01-02 01:00:00",
         "-10.89",
         "703857.5",
         "29439.75",
         "64719.88",
         "702159.88",
         "703857.5",
         "29439.75",
         null,
         null,
         null,
         null,
         "1.0",
         "100000.0",
         "2.0",
         "100000.0",
         "50000.0",
         "0.86",
         "603857.5",
         "702159.88",
         null,
         null,
         "1.0",
         "100000.0",
         "2.0",
         "29439.75",
         "14719.88",
         "4.0",
         "0.0",
         "0.0",
         "baseline_01",
         null,
         null,
         null
        ],
        [
         "2001-01-02 02:00:00",
         "-11.45",
         "710937.94",
         "61415.11",
         "80707.55",
         "710392.96",
         "710937.94",
         "61415.11",
         null,
         null,
         null,
         null,
         "1.0",
         "100000.0",
         "2.0",
         "100000.0",
         "50000.0",
         "0.86",
         "610937.94",
         "710392.96",
         null,
         null,
         "1.0",
         "100000.0",
         "2.0",
         "61415.11",
         "30707.55",
         "4.0",
         "0.0",
         "0.0",
         "baseline_01",
         null,
         null,
         null
        ],
        [
         "2001-01-02 03:00:00",
         "-11.7",
         "706407.54",
         "77967.38",
         "88983.69",
         "705125.05",
         "706407.54",
         "77967.38",
         null,
         null,
         null,
         null,
         "1.0",
         "100000.0",
         "2.0",
         "100000.0",
         "50000.0",
         "0.86",
         "606407.54",
         "705125.05",
         null,
         null,
         "1.0",
         "100000.0",
         "2.0",
         "77967.38",
         "38983.69",
         "4.0",
         "0.0",
         "0.0",
         "baseline_01",
         null,
         null,
         null
        ],
        [
         "2001-01-02 04:00:00",
         "-11.7",
         "704279.2",
         "85794.54",
         "92897.27",
         "702650.23",
         "704279.2",
         "85794.54",
         null,
         null,
         null,
         null,
         "1.0",
         "100000.0",
         "2.0",
         "100000.0",
         "50000.0",
         "0.86",
         "604279.2",
         "702650.23",
         null,
         null,
         "1.0",
         "100000.0",
         "2.0",
         "85794.54",
         "42897.27",
         "4.0",
         "0.0",
         "0.0",
         "baseline_01",
         null,
         null,
         null
        ],
        [
         "2001-01-02 05:00:00",
         "-11.99",
         "715288.84",
         "89293.77",
         "94646.89",
         "715452.13",
         "715288.84",
         "89293.77",
         null,
         null,
         null,
         null,
         "1.0",
         "100000.0",
         "2.0",
         "100000.0",
         "50000.0",
         "0.86",
         "615288.84",
         "715452.13",
         null,
         null,
         "1.0",
         "100000.0",
         "2.0",
         "89293.77",
         "44646.89",
         "4.0",
         "0.0",
         "0.0",
         "baseline_01",
         null,
         null,
         null
        ],
        [
         "2001-01-02 06:00:00",
         "-11.91",
         "718766.28",
         "90837.27",
         "95418.63",
         "719495.67",
         "718766.28",
         "90837.27",
         null,
         null,
         null,
         null,
         "1.0",
         "100000.0",
         "2.0",
         "100000.0",
         "50000.0",
         "0.86",
         "618766.28",
         "719495.67",
         null,
         null,
         "1.0",
         "100000.0",
         "2.0",
         "90837.27",
         "45418.63",
         "4.0",
         "0.0",
         "0.0",
         "baseline_01",
         null,
         null,
         null
        ]
       ],
       "shape": {
        "columns": 33,
        "rows": 30
       }
      },
      "text/html": [
       "<div>\n",
       "<style scoped>\n",
       "    .dataframe tbody tr th:only-of-type {\n",
       "        vertical-align: middle;\n",
       "    }\n",
       "\n",
       "    .dataframe tbody tr th {\n",
       "        vertical-align: top;\n",
       "    }\n",
       "\n",
       "    .dataframe thead th {\n",
       "        text-align: right;\n",
       "    }\n",
       "</style>\n",
       "<table border=\"1\" class=\"dataframe\">\n",
       "  <thead>\n",
       "    <tr style=\"text-align: right;\">\n",
       "      <th></th>\n",
       "      <th>t_out_C</th>\n",
       "      <th>heating_W</th>\n",
       "      <th>cooling_W</th>\n",
       "      <th>elec_Wh</th>\n",
       "      <th>gas_Wh</th>\n",
       "      <th>hhw_W</th>\n",
       "      <th>chw_W</th>\n",
       "      <th>hr_hhw_W</th>\n",
       "      <th>hr_chw_W</th>\n",
       "      <th>hr_cop_h</th>\n",
       "      <th>...</th>\n",
       "      <th>awhp_cop_c</th>\n",
       "      <th>awhp_chw_W</th>\n",
       "      <th>elec_awhp_c_Wh</th>\n",
       "      <th>chiller_cop</th>\n",
       "      <th>chiller_chw_W</th>\n",
       "      <th>elec_chiller_Wh</th>\n",
       "      <th>scenario_id</th>\n",
       "      <th>max_cap_h_hr_W</th>\n",
       "      <th>min_cap_h_hr_W</th>\n",
       "      <th>simult_h_hr_W</th>\n",
       "    </tr>\n",
       "    <tr>\n",
       "      <th>timestamp</th>\n",
       "      <th></th>\n",
       "      <th></th>\n",
       "      <th></th>\n",
       "      <th></th>\n",
       "      <th></th>\n",
       "      <th></th>\n",
       "      <th></th>\n",
       "      <th></th>\n",
       "      <th></th>\n",
       "      <th></th>\n",
       "      <th></th>\n",
       "      <th></th>\n",
       "      <th></th>\n",
       "      <th></th>\n",
       "      <th></th>\n",
       "      <th></th>\n",
       "      <th></th>\n",
       "      <th></th>\n",
       "      <th></th>\n",
       "      <th></th>\n",
       "      <th></th>\n",
       "    </tr>\n",
       "  </thead>\n",
       "  <tbody>\n",
       "    <tr>\n",
       "      <th>2001-01-01 01:00:00</th>\n",
       "      <td>-4.40</td>\n",
       "      <td>609230.13</td>\n",
       "      <td>127902.41</td>\n",
       "      <td>101719.46</td>\n",
       "      <td>579104.80</td>\n",
       "      <td>609230.13</td>\n",
       "      <td>127902.41</td>\n",
       "      <td>NaN</td>\n",
       "      <td>NaN</td>\n",
       "      <td>NaN</td>\n",
       "      <td>...</td>\n",
       "      <td>2.28</td>\n",
       "      <td>111200.00</td>\n",
       "      <td>48771.93</td>\n",
       "      <td>4.0</td>\n",
       "      <td>16702.41</td>\n",
       "      <td>4175.60</td>\n",
       "      <td>baseline_01</td>\n",
       "      <td>NaN</td>\n",
       "      <td>NaN</td>\n",
       "      <td>NaN</td>\n",
       "    </tr>\n",
       "    <tr>\n",
       "      <th>2001-01-01 02:00:00</th>\n",
       "      <td>-4.40</td>\n",
       "      <td>606900.34</td>\n",
       "      <td>174577.65</td>\n",
       "      <td>113388.27</td>\n",
       "      <td>576395.75</td>\n",
       "      <td>606900.34</td>\n",
       "      <td>174577.65</td>\n",
       "      <td>NaN</td>\n",
       "      <td>NaN</td>\n",
       "      <td>NaN</td>\n",
       "      <td>...</td>\n",
       "      <td>2.28</td>\n",
       "      <td>111200.00</td>\n",
       "      <td>48771.93</td>\n",
       "      <td>4.0</td>\n",
       "      <td>63377.65</td>\n",
       "      <td>15844.41</td>\n",
       "      <td>baseline_01</td>\n",
       "      <td>NaN</td>\n",
       "      <td>NaN</td>\n",
       "      <td>NaN</td>\n",
       "    </tr>\n",
       "    <tr>\n",
       "      <th>2001-01-01 03:00:00</th>\n",
       "      <td>-4.11</td>\n",
       "      <td>604168.53</td>\n",
       "      <td>186763.68</td>\n",
       "      <td>116177.45</td>\n",
       "      <td>572540.93</td>\n",
       "      <td>604168.53</td>\n",
       "      <td>186763.68</td>\n",
       "      <td>NaN</td>\n",
       "      <td>NaN</td>\n",
       "      <td>NaN</td>\n",
       "      <td>...</td>\n",
       "      <td>2.29</td>\n",
       "      <td>111783.33</td>\n",
       "      <td>48716.18</td>\n",
       "      <td>4.0</td>\n",
       "      <td>74980.35</td>\n",
       "      <td>18745.09</td>\n",
       "      <td>baseline_01</td>\n",
       "      <td>NaN</td>\n",
       "      <td>NaN</td>\n",
       "      <td>NaN</td>\n",
       "    </tr>\n",
       "    <tr>\n",
       "      <th>2001-01-01 04:00:00</th>\n",
       "      <td>-3.55</td>\n",
       "      <td>600461.65</td>\n",
       "      <td>199730.65</td>\n",
       "      <td>118930.48</td>\n",
       "      <td>566932.15</td>\n",
       "      <td>600461.65</td>\n",
       "      <td>199730.65</td>\n",
       "      <td>NaN</td>\n",
       "      <td>NaN</td>\n",
       "      <td>NaN</td>\n",
       "      <td>...</td>\n",
       "      <td>2.32</td>\n",
       "      <td>112900.00</td>\n",
       "      <td>48611.41</td>\n",
       "      <td>4.0</td>\n",
       "      <td>86830.65</td>\n",
       "      <td>21707.66</td>\n",
       "      <td>baseline_01</td>\n",
       "      <td>NaN</td>\n",
       "      <td>NaN</td>\n",
       "      <td>NaN</td>\n",
       "    </tr>\n",
       "    <tr>\n",
       "      <th>2001-01-01 05:00:00</th>\n",
       "      <td>-3.30</td>\n",
       "      <td>604703.00</td>\n",
       "      <td>205553.30</td>\n",
       "      <td>120168.95</td>\n",
       "      <td>571282.55</td>\n",
       "      <td>604703.00</td>\n",
       "      <td>205553.30</td>\n",
       "      <td>NaN</td>\n",
       "      <td>NaN</td>\n",
       "      <td>NaN</td>\n",
       "      <td>...</td>\n",
       "      <td>2.34</td>\n",
       "      <td>113400.00</td>\n",
       "      <td>48565.31</td>\n",
       "      <td>4.0</td>\n",
       "      <td>92153.30</td>\n",
       "      <td>23038.33</td>\n",
       "      <td>baseline_01</td>\n",
       "      <td>NaN</td>\n",
       "      <td>NaN</td>\n",
       "      <td>NaN</td>\n",
       "    </tr>\n",
       "    <tr>\n",
       "      <th>2001-01-01 06:00:00</th>\n",
       "      <td>-3.65</td>\n",
       "      <td>607617.81</td>\n",
       "      <td>200142.30</td>\n",
       "      <td>119120.55</td>\n",
       "      <td>575485.83</td>\n",
       "      <td>607617.81</td>\n",
       "      <td>200142.30</td>\n",
       "      <td>NaN</td>\n",
       "      <td>NaN</td>\n",
       "      <td>NaN</td>\n",
       "      <td>...</td>\n",
       "      <td>2.32</td>\n",
       "      <td>112700.00</td>\n",
       "      <td>48629.99</td>\n",
       "      <td>4.0</td>\n",
       "      <td>87442.30</td>\n",
       "      <td>21860.57</td>\n",
       "      <td>baseline_01</td>\n",
       "      <td>NaN</td>\n",
       "      <td>NaN</td>\n",
       "      <td>NaN</td>\n",
       "    </tr>\n",
       "    <tr>\n",
       "      <th>2001-01-01 07:00:00</th>\n",
       "      <td>-4.19</td>\n",
       "      <td>611215.73</td>\n",
       "      <td>191604.12</td>\n",
       "      <td>117460.94</td>\n",
       "      <td>580929.14</td>\n",
       "      <td>611215.73</td>\n",
       "      <td>191604.12</td>\n",
       "      <td>NaN</td>\n",
       "      <td>NaN</td>\n",
       "      <td>NaN</td>\n",
       "      <td>...</td>\n",
       "      <td>2.29</td>\n",
       "      <td>111616.67</td>\n",
       "      <td>48732.04</td>\n",
       "      <td>4.0</td>\n",
       "      <td>79987.46</td>\n",
       "      <td>19996.86</td>\n",
       "      <td>baseline_01</td>\n",
       "      <td>NaN</td>\n",
       "      <td>NaN</td>\n",
       "      <td>NaN</td>\n",
       "    </tr>\n",
       "    <tr>\n",
       "      <th>2001-01-01 08:00:00</th>\n",
       "      <td>-3.76</td>\n",
       "      <td>607994.13</td>\n",
       "      <td>113827.74</td>\n",
       "      <td>97636.52</td>\n",
       "      <td>576175.34</td>\n",
       "      <td>607994.13</td>\n",
       "      <td>113827.74</td>\n",
       "      <td>NaN</td>\n",
       "      <td>NaN</td>\n",
       "      <td>NaN</td>\n",
       "      <td>...</td>\n",
       "      <td>2.31</td>\n",
       "      <td>112483.33</td>\n",
       "      <td>48650.21</td>\n",
       "      <td>4.0</td>\n",
       "      <td>1344.41</td>\n",
       "      <td>336.10</td>\n",
       "      <td>baseline_01</td>\n",
       "      <td>NaN</td>\n",
       "      <td>NaN</td>\n",
       "      <td>NaN</td>\n",
       "    </tr>\n",
       "    <tr>\n",
       "      <th>2001-01-01 09:00:00</th>\n",
       "      <td>-3.01</td>\n",
       "      <td>546663.14</td>\n",
       "      <td>109587.78</td>\n",
       "      <td>95153.51</td>\n",
       "      <td>503116.06</td>\n",
       "      <td>546663.14</td>\n",
       "      <td>109587.78</td>\n",
       "      <td>NaN</td>\n",
       "      <td>NaN</td>\n",
       "      <td>NaN</td>\n",
       "      <td>...</td>\n",
       "      <td>2.35</td>\n",
       "      <td>109587.78</td>\n",
       "      <td>46641.37</td>\n",
       "      <td>4.0</td>\n",
       "      <td>0.00</td>\n",
       "      <td>0.00</td>\n",
       "      <td>baseline_01</td>\n",
       "      <td>NaN</td>\n",
       "      <td>NaN</td>\n",
       "      <td>NaN</td>\n",
       "    </tr>\n",
       "    <tr>\n",
       "      <th>2001-01-01 10:00:00</th>\n",
       "      <td>-2.45</td>\n",
       "      <td>518821.39</td>\n",
       "      <td>125826.58</td>\n",
       "      <td>99506.04</td>\n",
       "      <td>469443.47</td>\n",
       "      <td>518821.39</td>\n",
       "      <td>125826.58</td>\n",
       "      <td>NaN</td>\n",
       "      <td>NaN</td>\n",
       "      <td>NaN</td>\n",
       "      <td>...</td>\n",
       "      <td>2.38</td>\n",
       "      <td>115100.00</td>\n",
       "      <td>48412.20</td>\n",
       "      <td>4.0</td>\n",
       "      <td>10726.58</td>\n",
       "      <td>2681.65</td>\n",
       "      <td>baseline_01</td>\n",
       "      <td>NaN</td>\n",
       "      <td>NaN</td>\n",
       "      <td>NaN</td>\n",
       "    </tr>\n",
       "    <tr>\n",
       "      <th>2001-01-01 11:00:00</th>\n",
       "      <td>-1.56</td>\n",
       "      <td>494195.62</td>\n",
       "      <td>153496.50</td>\n",
       "      <td>105668.00</td>\n",
       "      <td>438735.21</td>\n",
       "      <td>494195.62</td>\n",
       "      <td>153496.50</td>\n",
       "      <td>NaN</td>\n",
       "      <td>NaN</td>\n",
       "      <td>NaN</td>\n",
       "      <td>...</td>\n",
       "      <td>2.42</td>\n",
       "      <td>116883.33</td>\n",
       "      <td>48257.35</td>\n",
       "      <td>4.0</td>\n",
       "      <td>36613.16</td>\n",
       "      <td>9153.29</td>\n",
       "      <td>baseline_01</td>\n",
       "      <td>NaN</td>\n",
       "      <td>NaN</td>\n",
       "      <td>NaN</td>\n",
       "    </tr>\n",
       "    <tr>\n",
       "      <th>2001-01-01 12:00:00</th>\n",
       "      <td>-1.45</td>\n",
       "      <td>487443.57</td>\n",
       "      <td>162364.69</td>\n",
       "      <td>107794.03</td>\n",
       "      <td>430632.06</td>\n",
       "      <td>487443.57</td>\n",
       "      <td>162364.69</td>\n",
       "      <td>NaN</td>\n",
       "      <td>NaN</td>\n",
       "      <td>NaN</td>\n",
       "      <td>...</td>\n",
       "      <td>2.43</td>\n",
       "      <td>117100.00</td>\n",
       "      <td>48238.93</td>\n",
       "      <td>4.0</td>\n",
       "      <td>45264.69</td>\n",
       "      <td>11316.17</td>\n",
       "      <td>baseline_01</td>\n",
       "      <td>NaN</td>\n",
       "      <td>NaN</td>\n",
       "      <td>NaN</td>\n",
       "    </tr>\n",
       "    <tr>\n",
       "      <th>2001-01-01 13:00:00</th>\n",
       "      <td>-1.99</td>\n",
       "      <td>483818.45</td>\n",
       "      <td>153128.01</td>\n",
       "      <td>105941.61</td>\n",
       "      <td>427676.49</td>\n",
       "      <td>483818.45</td>\n",
       "      <td>153128.01</td>\n",
       "      <td>NaN</td>\n",
       "      <td>NaN</td>\n",
       "      <td>NaN</td>\n",
       "      <td>...</td>\n",
       "      <td>2.40</td>\n",
       "      <td>116016.67</td>\n",
       "      <td>48331.89</td>\n",
       "      <td>4.0</td>\n",
       "      <td>37111.34</td>\n",
       "      <td>9277.84</td>\n",
       "      <td>baseline_01</td>\n",
       "      <td>NaN</td>\n",
       "      <td>NaN</td>\n",
       "      <td>NaN</td>\n",
       "    </tr>\n",
       "    <tr>\n",
       "      <th>2001-01-01 14:00:00</th>\n",
       "      <td>-2.84</td>\n",
       "      <td>500469.35</td>\n",
       "      <td>135335.25</td>\n",
       "      <td>102218.77</td>\n",
       "      <td>449014.75</td>\n",
       "      <td>500469.35</td>\n",
       "      <td>135335.25</td>\n",
       "      <td>NaN</td>\n",
       "      <td>NaN</td>\n",
       "      <td>NaN</td>\n",
       "      <td>...</td>\n",
       "      <td>2.36</td>\n",
       "      <td>114316.67</td>\n",
       "      <td>48482.06</td>\n",
       "      <td>4.0</td>\n",
       "      <td>21018.58</td>\n",
       "      <td>5254.65</td>\n",
       "      <td>baseline_01</td>\n",
       "      <td>NaN</td>\n",
       "      <td>NaN</td>\n",
       "      <td>NaN</td>\n",
       "    </tr>\n",
       "    <tr>\n",
       "      <th>2001-01-01 15:00:00</th>\n",
       "      <td>-3.01</td>\n",
       "      <td>496728.78</td>\n",
       "      <td>130178.54</td>\n",
       "      <td>101073.10</td>\n",
       "      <td>445052.85</td>\n",
       "      <td>496728.78</td>\n",
       "      <td>130178.54</td>\n",
       "      <td>NaN</td>\n",
       "      <td>NaN</td>\n",
       "      <td>NaN</td>\n",
       "      <td>...</td>\n",
       "      <td>2.35</td>\n",
       "      <td>113983.33</td>\n",
       "      <td>48512.15</td>\n",
       "      <td>4.0</td>\n",
       "      <td>16195.20</td>\n",
       "      <td>4048.80</td>\n",
       "      <td>baseline_01</td>\n",
       "      <td>NaN</td>\n",
       "      <td>NaN</td>\n",
       "      <td>NaN</td>\n",
       "    </tr>\n",
       "    <tr>\n",
       "      <th>2001-01-01 16:00:00</th>\n",
       "      <td>-2.80</td>\n",
       "      <td>498164.56</td>\n",
       "      <td>135665.91</td>\n",
       "      <td>102265.63</td>\n",
       "      <td>446237.87</td>\n",
       "      <td>498164.56</td>\n",
       "      <td>135665.91</td>\n",
       "      <td>NaN</td>\n",
       "      <td>NaN</td>\n",
       "      <td>NaN</td>\n",
       "      <td>...</td>\n",
       "      <td>2.36</td>\n",
       "      <td>114400.00</td>\n",
       "      <td>48474.58</td>\n",
       "      <td>4.0</td>\n",
       "      <td>21265.91</td>\n",
       "      <td>5316.48</td>\n",
       "      <td>baseline_01</td>\n",
       "      <td>NaN</td>\n",
       "      <td>NaN</td>\n",
       "      <td>NaN</td>\n",
       "    </tr>\n",
       "    <tr>\n",
       "      <th>2001-01-01 17:00:00</th>\n",
       "      <td>-4.08</td>\n",
       "      <td>561067.93</td>\n",
       "      <td>96564.16</td>\n",
       "      <td>90772.05</td>\n",
       "      <td>522365.81</td>\n",
       "      <td>561067.93</td>\n",
       "      <td>96564.16</td>\n",
       "      <td>NaN</td>\n",
       "      <td>NaN</td>\n",
       "      <td>NaN</td>\n",
       "      <td>...</td>\n",
       "      <td>2.30</td>\n",
       "      <td>96564.16</td>\n",
       "      <td>42060.62</td>\n",
       "      <td>4.0</td>\n",
       "      <td>0.00</td>\n",
       "      <td>0.00</td>\n",
       "      <td>baseline_01</td>\n",
       "      <td>NaN</td>\n",
       "      <td>NaN</td>\n",
       "      <td>NaN</td>\n",
       "    </tr>\n",
       "    <tr>\n",
       "      <th>2001-01-01 18:00:00</th>\n",
       "      <td>-5.35</td>\n",
       "      <td>597933.37</td>\n",
       "      <td>72222.70</td>\n",
       "      <td>81309.16</td>\n",
       "      <td>568178.34</td>\n",
       "      <td>597933.37</td>\n",
       "      <td>72222.70</td>\n",
       "      <td>NaN</td>\n",
       "      <td>NaN</td>\n",
       "      <td>NaN</td>\n",
       "      <td>...</td>\n",
       "      <td>2.23</td>\n",
       "      <td>72222.70</td>\n",
       "      <td>32350.59</td>\n",
       "      <td>4.0</td>\n",
       "      <td>0.00</td>\n",
       "      <td>0.00</td>\n",
       "      <td>baseline_01</td>\n",
       "      <td>NaN</td>\n",
       "      <td>NaN</td>\n",
       "      <td>NaN</td>\n",
       "    </tr>\n",
       "    <tr>\n",
       "      <th>2001-01-01 19:00:00</th>\n",
       "      <td>-5.89</td>\n",
       "      <td>611523.30</td>\n",
       "      <td>62852.74</td>\n",
       "      <td>77567.84</td>\n",
       "      <td>585240.27</td>\n",
       "      <td>611523.30</td>\n",
       "      <td>62852.74</td>\n",
       "      <td>NaN</td>\n",
       "      <td>NaN</td>\n",
       "      <td>NaN</td>\n",
       "      <td>...</td>\n",
       "      <td>2.21</td>\n",
       "      <td>62852.74</td>\n",
       "      <td>28499.26</td>\n",
       "      <td>4.0</td>\n",
       "      <td>0.00</td>\n",
       "      <td>0.00</td>\n",
       "      <td>baseline_01</td>\n",
       "      <td>NaN</td>\n",
       "      <td>NaN</td>\n",
       "      <td>NaN</td>\n",
       "    </tr>\n",
       "    <tr>\n",
       "      <th>2001-01-01 20:00:00</th>\n",
       "      <td>-6.45</td>\n",
       "      <td>628074.30</td>\n",
       "      <td>53927.94</td>\n",
       "      <td>73950.83</td>\n",
       "      <td>605784.07</td>\n",
       "      <td>628074.30</td>\n",
       "      <td>53927.94</td>\n",
       "      <td>NaN</td>\n",
       "      <td>NaN</td>\n",
       "      <td>NaN</td>\n",
       "      <td>...</td>\n",
       "      <td>2.18</td>\n",
       "      <td>53927.94</td>\n",
       "      <td>24765.99</td>\n",
       "      <td>4.0</td>\n",
       "      <td>0.00</td>\n",
       "      <td>0.00</td>\n",
       "      <td>baseline_01</td>\n",
       "      <td>NaN</td>\n",
       "      <td>NaN</td>\n",
       "      <td>NaN</td>\n",
       "    </tr>\n",
       "    <tr>\n",
       "      <th>2001-01-01 21:00:00</th>\n",
       "      <td>-7.63</td>\n",
       "      <td>651466.86</td>\n",
       "      <td>35797.96</td>\n",
       "      <td>66340.50</td>\n",
       "      <td>635736.66</td>\n",
       "      <td>651466.86</td>\n",
       "      <td>35797.96</td>\n",
       "      <td>NaN</td>\n",
       "      <td>NaN</td>\n",
       "      <td>NaN</td>\n",
       "      <td>...</td>\n",
       "      <td>2.12</td>\n",
       "      <td>35797.96</td>\n",
       "      <td>16899.11</td>\n",
       "      <td>4.0</td>\n",
       "      <td>0.00</td>\n",
       "      <td>0.00</td>\n",
       "      <td>baseline_01</td>\n",
       "      <td>NaN</td>\n",
       "      <td>NaN</td>\n",
       "      <td>NaN</td>\n",
       "    </tr>\n",
       "    <tr>\n",
       "      <th>2001-01-01 22:00:00</th>\n",
       "      <td>-8.94</td>\n",
       "      <td>662557.67</td>\n",
       "      <td>15267.33</td>\n",
       "      <td>57179.14</td>\n",
       "      <td>651675.59</td>\n",
       "      <td>662557.67</td>\n",
       "      <td>15267.33</td>\n",
       "      <td>NaN</td>\n",
       "      <td>NaN</td>\n",
       "      <td>NaN</td>\n",
       "      <td>...</td>\n",
       "      <td>2.05</td>\n",
       "      <td>15267.33</td>\n",
       "      <td>7436.90</td>\n",
       "      <td>4.0</td>\n",
       "      <td>0.00</td>\n",
       "      <td>0.00</td>\n",
       "      <td>baseline_01</td>\n",
       "      <td>NaN</td>\n",
       "      <td>NaN</td>\n",
       "      <td>NaN</td>\n",
       "    </tr>\n",
       "    <tr>\n",
       "      <th>2001-01-01 23:00:00</th>\n",
       "      <td>-9.75</td>\n",
       "      <td>680094.52</td>\n",
       "      <td>4254.93</td>\n",
       "      <td>52052.14</td>\n",
       "      <td>673947.12</td>\n",
       "      <td>680094.52</td>\n",
       "      <td>4254.93</td>\n",
       "      <td>NaN</td>\n",
       "      <td>NaN</td>\n",
       "      <td>NaN</td>\n",
       "      <td>...</td>\n",
       "      <td>2.01</td>\n",
       "      <td>4254.93</td>\n",
       "      <td>2114.25</td>\n",
       "      <td>4.0</td>\n",
       "      <td>0.00</td>\n",
       "      <td>0.00</td>\n",
       "      <td>baseline_01</td>\n",
       "      <td>NaN</td>\n",
       "      <td>NaN</td>\n",
       "      <td>NaN</td>\n",
       "    </tr>\n",
       "    <tr>\n",
       "      <th>2001-01-02 00:00:00</th>\n",
       "      <td>-10.35</td>\n",
       "      <td>701267.36</td>\n",
       "      <td>980.45</td>\n",
       "      <td>50490.23</td>\n",
       "      <td>699148.10</td>\n",
       "      <td>701267.36</td>\n",
       "      <td>980.45</td>\n",
       "      <td>NaN</td>\n",
       "      <td>NaN</td>\n",
       "      <td>NaN</td>\n",
       "      <td>...</td>\n",
       "      <td>2.00</td>\n",
       "      <td>980.45</td>\n",
       "      <td>490.23</td>\n",
       "      <td>4.0</td>\n",
       "      <td>0.00</td>\n",
       "      <td>0.00</td>\n",
       "      <td>baseline_01</td>\n",
       "      <td>NaN</td>\n",
       "      <td>NaN</td>\n",
       "      <td>NaN</td>\n",
       "    </tr>\n",
       "    <tr>\n",
       "      <th>2001-01-02 01:00:00</th>\n",
       "      <td>-10.89</td>\n",
       "      <td>703857.50</td>\n",
       "      <td>29439.75</td>\n",
       "      <td>64719.88</td>\n",
       "      <td>702159.88</td>\n",
       "      <td>703857.50</td>\n",
       "      <td>29439.75</td>\n",
       "      <td>NaN</td>\n",
       "      <td>NaN</td>\n",
       "      <td>NaN</td>\n",
       "      <td>...</td>\n",
       "      <td>2.00</td>\n",
       "      <td>29439.75</td>\n",
       "      <td>14719.88</td>\n",
       "      <td>4.0</td>\n",
       "      <td>0.00</td>\n",
       "      <td>0.00</td>\n",
       "      <td>baseline_01</td>\n",
       "      <td>NaN</td>\n",
       "      <td>NaN</td>\n",
       "      <td>NaN</td>\n",
       "    </tr>\n",
       "    <tr>\n",
       "      <th>2001-01-02 02:00:00</th>\n",
       "      <td>-11.45</td>\n",
       "      <td>710937.94</td>\n",
       "      <td>61415.11</td>\n",
       "      <td>80707.55</td>\n",
       "      <td>710392.96</td>\n",
       "      <td>710937.94</td>\n",
       "      <td>61415.11</td>\n",
       "      <td>NaN</td>\n",
       "      <td>NaN</td>\n",
       "      <td>NaN</td>\n",
       "      <td>...</td>\n",
       "      <td>2.00</td>\n",
       "      <td>61415.11</td>\n",
       "      <td>30707.55</td>\n",
       "      <td>4.0</td>\n",
       "      <td>0.00</td>\n",
       "      <td>0.00</td>\n",
       "      <td>baseline_01</td>\n",
       "      <td>NaN</td>\n",
       "      <td>NaN</td>\n",
       "      <td>NaN</td>\n",
       "    </tr>\n",
       "    <tr>\n",
       "      <th>2001-01-02 03:00:00</th>\n",
       "      <td>-11.70</td>\n",
       "      <td>706407.54</td>\n",
       "      <td>77967.38</td>\n",
       "      <td>88983.69</td>\n",
       "      <td>705125.05</td>\n",
       "      <td>706407.54</td>\n",
       "      <td>77967.38</td>\n",
       "      <td>NaN</td>\n",
       "      <td>NaN</td>\n",
       "      <td>NaN</td>\n",
       "      <td>...</td>\n",
       "      <td>2.00</td>\n",
       "      <td>77967.38</td>\n",
       "      <td>38983.69</td>\n",
       "      <td>4.0</td>\n",
       "      <td>0.00</td>\n",
       "      <td>0.00</td>\n",
       "      <td>baseline_01</td>\n",
       "      <td>NaN</td>\n",
       "      <td>NaN</td>\n",
       "      <td>NaN</td>\n",
       "    </tr>\n",
       "    <tr>\n",
       "      <th>2001-01-02 04:00:00</th>\n",
       "      <td>-11.70</td>\n",
       "      <td>704279.20</td>\n",
       "      <td>85794.54</td>\n",
       "      <td>92897.27</td>\n",
       "      <td>702650.23</td>\n",
       "      <td>704279.20</td>\n",
       "      <td>85794.54</td>\n",
       "      <td>NaN</td>\n",
       "      <td>NaN</td>\n",
       "      <td>NaN</td>\n",
       "      <td>...</td>\n",
       "      <td>2.00</td>\n",
       "      <td>85794.54</td>\n",
       "      <td>42897.27</td>\n",
       "      <td>4.0</td>\n",
       "      <td>0.00</td>\n",
       "      <td>0.00</td>\n",
       "      <td>baseline_01</td>\n",
       "      <td>NaN</td>\n",
       "      <td>NaN</td>\n",
       "      <td>NaN</td>\n",
       "    </tr>\n",
       "    <tr>\n",
       "      <th>2001-01-02 05:00:00</th>\n",
       "      <td>-11.99</td>\n",
       "      <td>715288.84</td>\n",
       "      <td>89293.77</td>\n",
       "      <td>94646.89</td>\n",
       "      <td>715452.13</td>\n",
       "      <td>715288.84</td>\n",
       "      <td>89293.77</td>\n",
       "      <td>NaN</td>\n",
       "      <td>NaN</td>\n",
       "      <td>NaN</td>\n",
       "      <td>...</td>\n",
       "      <td>2.00</td>\n",
       "      <td>89293.77</td>\n",
       "      <td>44646.89</td>\n",
       "      <td>4.0</td>\n",
       "      <td>0.00</td>\n",
       "      <td>0.00</td>\n",
       "      <td>baseline_01</td>\n",
       "      <td>NaN</td>\n",
       "      <td>NaN</td>\n",
       "      <td>NaN</td>\n",
       "    </tr>\n",
       "    <tr>\n",
       "      <th>2001-01-02 06:00:00</th>\n",
       "      <td>-11.91</td>\n",
       "      <td>718766.28</td>\n",
       "      <td>90837.27</td>\n",
       "      <td>95418.63</td>\n",
       "      <td>719495.67</td>\n",
       "      <td>718766.28</td>\n",
       "      <td>90837.27</td>\n",
       "      <td>NaN</td>\n",
       "      <td>NaN</td>\n",
       "      <td>NaN</td>\n",
       "      <td>...</td>\n",
       "      <td>2.00</td>\n",
       "      <td>90837.27</td>\n",
       "      <td>45418.63</td>\n",
       "      <td>4.0</td>\n",
       "      <td>0.00</td>\n",
       "      <td>0.00</td>\n",
       "      <td>baseline_01</td>\n",
       "      <td>NaN</td>\n",
       "      <td>NaN</td>\n",
       "      <td>NaN</td>\n",
       "    </tr>\n",
       "  </tbody>\n",
       "</table>\n",
       "<p>30 rows × 33 columns</p>\n",
       "</div>"
      ],
      "text/plain": [
       "                     t_out_C  heating_W  cooling_W    elec_Wh     gas_Wh  \\\n",
       "timestamp                                                                  \n",
       "2001-01-01 01:00:00    -4.40  609230.13  127902.41  101719.46  579104.80   \n",
       "2001-01-01 02:00:00    -4.40  606900.34  174577.65  113388.27  576395.75   \n",
       "2001-01-01 03:00:00    -4.11  604168.53  186763.68  116177.45  572540.93   \n",
       "2001-01-01 04:00:00    -3.55  600461.65  199730.65  118930.48  566932.15   \n",
       "2001-01-01 05:00:00    -3.30  604703.00  205553.30  120168.95  571282.55   \n",
       "2001-01-01 06:00:00    -3.65  607617.81  200142.30  119120.55  575485.83   \n",
       "2001-01-01 07:00:00    -4.19  611215.73  191604.12  117460.94  580929.14   \n",
       "2001-01-01 08:00:00    -3.76  607994.13  113827.74   97636.52  576175.34   \n",
       "2001-01-01 09:00:00    -3.01  546663.14  109587.78   95153.51  503116.06   \n",
       "2001-01-01 10:00:00    -2.45  518821.39  125826.58   99506.04  469443.47   \n",
       "2001-01-01 11:00:00    -1.56  494195.62  153496.50  105668.00  438735.21   \n",
       "2001-01-01 12:00:00    -1.45  487443.57  162364.69  107794.03  430632.06   \n",
       "2001-01-01 13:00:00    -1.99  483818.45  153128.01  105941.61  427676.49   \n",
       "2001-01-01 14:00:00    -2.84  500469.35  135335.25  102218.77  449014.75   \n",
       "2001-01-01 15:00:00    -3.01  496728.78  130178.54  101073.10  445052.85   \n",
       "2001-01-01 16:00:00    -2.80  498164.56  135665.91  102265.63  446237.87   \n",
       "2001-01-01 17:00:00    -4.08  561067.93   96564.16   90772.05  522365.81   \n",
       "2001-01-01 18:00:00    -5.35  597933.37   72222.70   81309.16  568178.34   \n",
       "2001-01-01 19:00:00    -5.89  611523.30   62852.74   77567.84  585240.27   \n",
       "2001-01-01 20:00:00    -6.45  628074.30   53927.94   73950.83  605784.07   \n",
       "2001-01-01 21:00:00    -7.63  651466.86   35797.96   66340.50  635736.66   \n",
       "2001-01-01 22:00:00    -8.94  662557.67   15267.33   57179.14  651675.59   \n",
       "2001-01-01 23:00:00    -9.75  680094.52    4254.93   52052.14  673947.12   \n",
       "2001-01-02 00:00:00   -10.35  701267.36     980.45   50490.23  699148.10   \n",
       "2001-01-02 01:00:00   -10.89  703857.50   29439.75   64719.88  702159.88   \n",
       "2001-01-02 02:00:00   -11.45  710937.94   61415.11   80707.55  710392.96   \n",
       "2001-01-02 03:00:00   -11.70  706407.54   77967.38   88983.69  705125.05   \n",
       "2001-01-02 04:00:00   -11.70  704279.20   85794.54   92897.27  702650.23   \n",
       "2001-01-02 05:00:00   -11.99  715288.84   89293.77   94646.89  715452.13   \n",
       "2001-01-02 06:00:00   -11.91  718766.28   90837.27   95418.63  719495.67   \n",
       "\n",
       "                         hhw_W      chw_W  hr_hhw_W  hr_chw_W  hr_cop_h  ...  \\\n",
       "timestamp                                                                ...   \n",
       "2001-01-01 01:00:00  609230.13  127902.41       NaN       NaN       NaN  ...   \n",
       "2001-01-01 02:00:00  606900.34  174577.65       NaN       NaN       NaN  ...   \n",
       "2001-01-01 03:00:00  604168.53  186763.68       NaN       NaN       NaN  ...   \n",
       "2001-01-01 04:00:00  600461.65  199730.65       NaN       NaN       NaN  ...   \n",
       "2001-01-01 05:00:00  604703.00  205553.30       NaN       NaN       NaN  ...   \n",
       "2001-01-01 06:00:00  607617.81  200142.30       NaN       NaN       NaN  ...   \n",
       "2001-01-01 07:00:00  611215.73  191604.12       NaN       NaN       NaN  ...   \n",
       "2001-01-01 08:00:00  607994.13  113827.74       NaN       NaN       NaN  ...   \n",
       "2001-01-01 09:00:00  546663.14  109587.78       NaN       NaN       NaN  ...   \n",
       "2001-01-01 10:00:00  518821.39  125826.58       NaN       NaN       NaN  ...   \n",
       "2001-01-01 11:00:00  494195.62  153496.50       NaN       NaN       NaN  ...   \n",
       "2001-01-01 12:00:00  487443.57  162364.69       NaN       NaN       NaN  ...   \n",
       "2001-01-01 13:00:00  483818.45  153128.01       NaN       NaN       NaN  ...   \n",
       "2001-01-01 14:00:00  500469.35  135335.25       NaN       NaN       NaN  ...   \n",
       "2001-01-01 15:00:00  496728.78  130178.54       NaN       NaN       NaN  ...   \n",
       "2001-01-01 16:00:00  498164.56  135665.91       NaN       NaN       NaN  ...   \n",
       "2001-01-01 17:00:00  561067.93   96564.16       NaN       NaN       NaN  ...   \n",
       "2001-01-01 18:00:00  597933.37   72222.70       NaN       NaN       NaN  ...   \n",
       "2001-01-01 19:00:00  611523.30   62852.74       NaN       NaN       NaN  ...   \n",
       "2001-01-01 20:00:00  628074.30   53927.94       NaN       NaN       NaN  ...   \n",
       "2001-01-01 21:00:00  651466.86   35797.96       NaN       NaN       NaN  ...   \n",
       "2001-01-01 22:00:00  662557.67   15267.33       NaN       NaN       NaN  ...   \n",
       "2001-01-01 23:00:00  680094.52    4254.93       NaN       NaN       NaN  ...   \n",
       "2001-01-02 00:00:00  701267.36     980.45       NaN       NaN       NaN  ...   \n",
       "2001-01-02 01:00:00  703857.50   29439.75       NaN       NaN       NaN  ...   \n",
       "2001-01-02 02:00:00  710937.94   61415.11       NaN       NaN       NaN  ...   \n",
       "2001-01-02 03:00:00  706407.54   77967.38       NaN       NaN       NaN  ...   \n",
       "2001-01-02 04:00:00  704279.20   85794.54       NaN       NaN       NaN  ...   \n",
       "2001-01-02 05:00:00  715288.84   89293.77       NaN       NaN       NaN  ...   \n",
       "2001-01-02 06:00:00  718766.28   90837.27       NaN       NaN       NaN  ...   \n",
       "\n",
       "                     awhp_cop_c  awhp_chw_W  elec_awhp_c_Wh  chiller_cop  \\\n",
       "timestamp                                                                  \n",
       "2001-01-01 01:00:00        2.28   111200.00        48771.93          4.0   \n",
       "2001-01-01 02:00:00        2.28   111200.00        48771.93          4.0   \n",
       "2001-01-01 03:00:00        2.29   111783.33        48716.18          4.0   \n",
       "2001-01-01 04:00:00        2.32   112900.00        48611.41          4.0   \n",
       "2001-01-01 05:00:00        2.34   113400.00        48565.31          4.0   \n",
       "2001-01-01 06:00:00        2.32   112700.00        48629.99          4.0   \n",
       "2001-01-01 07:00:00        2.29   111616.67        48732.04          4.0   \n",
       "2001-01-01 08:00:00        2.31   112483.33        48650.21          4.0   \n",
       "2001-01-01 09:00:00        2.35   109587.78        46641.37          4.0   \n",
       "2001-01-01 10:00:00        2.38   115100.00        48412.20          4.0   \n",
       "2001-01-01 11:00:00        2.42   116883.33        48257.35          4.0   \n",
       "2001-01-01 12:00:00        2.43   117100.00        48238.93          4.0   \n",
       "2001-01-01 13:00:00        2.40   116016.67        48331.89          4.0   \n",
       "2001-01-01 14:00:00        2.36   114316.67        48482.06          4.0   \n",
       "2001-01-01 15:00:00        2.35   113983.33        48512.15          4.0   \n",
       "2001-01-01 16:00:00        2.36   114400.00        48474.58          4.0   \n",
       "2001-01-01 17:00:00        2.30    96564.16        42060.62          4.0   \n",
       "2001-01-01 18:00:00        2.23    72222.70        32350.59          4.0   \n",
       "2001-01-01 19:00:00        2.21    62852.74        28499.26          4.0   \n",
       "2001-01-01 20:00:00        2.18    53927.94        24765.99          4.0   \n",
       "2001-01-01 21:00:00        2.12    35797.96        16899.11          4.0   \n",
       "2001-01-01 22:00:00        2.05    15267.33         7436.90          4.0   \n",
       "2001-01-01 23:00:00        2.01     4254.93         2114.25          4.0   \n",
       "2001-01-02 00:00:00        2.00      980.45          490.23          4.0   \n",
       "2001-01-02 01:00:00        2.00    29439.75        14719.88          4.0   \n",
       "2001-01-02 02:00:00        2.00    61415.11        30707.55          4.0   \n",
       "2001-01-02 03:00:00        2.00    77967.38        38983.69          4.0   \n",
       "2001-01-02 04:00:00        2.00    85794.54        42897.27          4.0   \n",
       "2001-01-02 05:00:00        2.00    89293.77        44646.89          4.0   \n",
       "2001-01-02 06:00:00        2.00    90837.27        45418.63          4.0   \n",
       "\n",
       "                     chiller_chw_W  elec_chiller_Wh  scenario_id  \\\n",
       "timestamp                                                          \n",
       "2001-01-01 01:00:00       16702.41          4175.60  baseline_01   \n",
       "2001-01-01 02:00:00       63377.65         15844.41  baseline_01   \n",
       "2001-01-01 03:00:00       74980.35         18745.09  baseline_01   \n",
       "2001-01-01 04:00:00       86830.65         21707.66  baseline_01   \n",
       "2001-01-01 05:00:00       92153.30         23038.33  baseline_01   \n",
       "2001-01-01 06:00:00       87442.30         21860.57  baseline_01   \n",
       "2001-01-01 07:00:00       79987.46         19996.86  baseline_01   \n",
       "2001-01-01 08:00:00        1344.41           336.10  baseline_01   \n",
       "2001-01-01 09:00:00           0.00             0.00  baseline_01   \n",
       "2001-01-01 10:00:00       10726.58          2681.65  baseline_01   \n",
       "2001-01-01 11:00:00       36613.16          9153.29  baseline_01   \n",
       "2001-01-01 12:00:00       45264.69         11316.17  baseline_01   \n",
       "2001-01-01 13:00:00       37111.34          9277.84  baseline_01   \n",
       "2001-01-01 14:00:00       21018.58          5254.65  baseline_01   \n",
       "2001-01-01 15:00:00       16195.20          4048.80  baseline_01   \n",
       "2001-01-01 16:00:00       21265.91          5316.48  baseline_01   \n",
       "2001-01-01 17:00:00           0.00             0.00  baseline_01   \n",
       "2001-01-01 18:00:00           0.00             0.00  baseline_01   \n",
       "2001-01-01 19:00:00           0.00             0.00  baseline_01   \n",
       "2001-01-01 20:00:00           0.00             0.00  baseline_01   \n",
       "2001-01-01 21:00:00           0.00             0.00  baseline_01   \n",
       "2001-01-01 22:00:00           0.00             0.00  baseline_01   \n",
       "2001-01-01 23:00:00           0.00             0.00  baseline_01   \n",
       "2001-01-02 00:00:00           0.00             0.00  baseline_01   \n",
       "2001-01-02 01:00:00           0.00             0.00  baseline_01   \n",
       "2001-01-02 02:00:00           0.00             0.00  baseline_01   \n",
       "2001-01-02 03:00:00           0.00             0.00  baseline_01   \n",
       "2001-01-02 04:00:00           0.00             0.00  baseline_01   \n",
       "2001-01-02 05:00:00           0.00             0.00  baseline_01   \n",
       "2001-01-02 06:00:00           0.00             0.00  baseline_01   \n",
       "\n",
       "                     max_cap_h_hr_W  min_cap_h_hr_W  simult_h_hr_W  \n",
       "timestamp                                                           \n",
       "2001-01-01 01:00:00             NaN             NaN            NaN  \n",
       "2001-01-01 02:00:00             NaN             NaN            NaN  \n",
       "2001-01-01 03:00:00             NaN             NaN            NaN  \n",
       "2001-01-01 04:00:00             NaN             NaN            NaN  \n",
       "2001-01-01 05:00:00             NaN             NaN            NaN  \n",
       "2001-01-01 06:00:00             NaN             NaN            NaN  \n",
       "2001-01-01 07:00:00             NaN             NaN            NaN  \n",
       "2001-01-01 08:00:00             NaN             NaN            NaN  \n",
       "2001-01-01 09:00:00             NaN             NaN            NaN  \n",
       "2001-01-01 10:00:00             NaN             NaN            NaN  \n",
       "2001-01-01 11:00:00             NaN             NaN            NaN  \n",
       "2001-01-01 12:00:00             NaN             NaN            NaN  \n",
       "2001-01-01 13:00:00             NaN             NaN            NaN  \n",
       "2001-01-01 14:00:00             NaN             NaN            NaN  \n",
       "2001-01-01 15:00:00             NaN             NaN            NaN  \n",
       "2001-01-01 16:00:00             NaN             NaN            NaN  \n",
       "2001-01-01 17:00:00             NaN             NaN            NaN  \n",
       "2001-01-01 18:00:00             NaN             NaN            NaN  \n",
       "2001-01-01 19:00:00             NaN             NaN            NaN  \n",
       "2001-01-01 20:00:00             NaN             NaN            NaN  \n",
       "2001-01-01 21:00:00             NaN             NaN            NaN  \n",
       "2001-01-01 22:00:00             NaN             NaN            NaN  \n",
       "2001-01-01 23:00:00             NaN             NaN            NaN  \n",
       "2001-01-02 00:00:00             NaN             NaN            NaN  \n",
       "2001-01-02 01:00:00             NaN             NaN            NaN  \n",
       "2001-01-02 02:00:00             NaN             NaN            NaN  \n",
       "2001-01-02 03:00:00             NaN             NaN            NaN  \n",
       "2001-01-02 04:00:00             NaN             NaN            NaN  \n",
       "2001-01-02 05:00:00             NaN             NaN            NaN  \n",
       "2001-01-02 06:00:00             NaN             NaN            NaN  \n",
       "\n",
       "[30 rows x 33 columns]"
      ]
     },
     "execution_count": 9,
     "metadata": {},
     "output_type": "execute_result"
    }
   ],
   "source": [
    "from src.energy import loads_to_site_energy\n",
    "\n",
    "site_energy = loads_to_site_energy(load_data, library, settings.equipment_scenarios, detail=True)\n",
    "\n",
    "site_energy.head(30)\n"
   ]
  },
  {
   "cell_type": "code",
   "execution_count": 10,
   "id": "d781e1f9",
   "metadata": {},
   "outputs": [
    {
     "data": {
      "application/vnd.microsoft.datawrangler.viewer.v0+json": {
       "columns": [
        {
         "name": "timestamp",
         "rawType": "datetime64[ns]",
         "type": "datetime"
        },
        {
         "name": "t_out_C",
         "rawType": "float64",
         "type": "float"
        },
        {
         "name": "heating_W",
         "rawType": "float64",
         "type": "float"
        },
        {
         "name": "cooling_W",
         "rawType": "float64",
         "type": "float"
        },
        {
         "name": "elec_Wh",
         "rawType": "float64",
         "type": "float"
        },
        {
         "name": "gas_Wh",
         "rawType": "float64",
         "type": "float"
        },
        {
         "name": "hhw_W",
         "rawType": "float64",
         "type": "float"
        },
        {
         "name": "chw_W",
         "rawType": "float64",
         "type": "float"
        },
        {
         "name": "hr_hhw_W",
         "rawType": "float64",
         "type": "float"
        },
        {
         "name": "hr_chw_W",
         "rawType": "float64",
         "type": "float"
        },
        {
         "name": "hr_cop_h",
         "rawType": "float64",
         "type": "float"
        },
        {
         "name": "elec_hr_Wh",
         "rawType": "float64",
         "type": "float"
        },
        {
         "name": "awhp_num_h",
         "rawType": "float64",
         "type": "float"
        },
        {
         "name": "awhp_cap_h_W",
         "rawType": "float64",
         "type": "float"
        },
        {
         "name": "awhp_cop_h",
         "rawType": "float64",
         "type": "float"
        },
        {
         "name": "awhp_hhw_W",
         "rawType": "float64",
         "type": "float"
        },
        {
         "name": "elec_awhp_h_Wh",
         "rawType": "float64",
         "type": "float"
        },
        {
         "name": "boiler_eff",
         "rawType": "float64",
         "type": "float"
        },
        {
         "name": "boiler_hhw_W",
         "rawType": "float64",
         "type": "float"
        },
        {
         "name": "gas_boiler_Wh",
         "rawType": "float64",
         "type": "float"
        },
        {
         "name": "res_hhw_W",
         "rawType": "float64",
         "type": "float"
        },
        {
         "name": "elec_res_Wh",
         "rawType": "float64",
         "type": "float"
        },
        {
         "name": "awhp_num_c",
         "rawType": "float64",
         "type": "float"
        },
        {
         "name": "awhp_cap_c_W",
         "rawType": "float64",
         "type": "float"
        },
        {
         "name": "awhp_cop_c",
         "rawType": "float64",
         "type": "float"
        },
        {
         "name": "awhp_chw_W",
         "rawType": "float64",
         "type": "float"
        },
        {
         "name": "elec_awhp_c_Wh",
         "rawType": "float64",
         "type": "float"
        },
        {
         "name": "chiller_cop",
         "rawType": "float64",
         "type": "float"
        },
        {
         "name": "chiller_chw_W",
         "rawType": "float64",
         "type": "float"
        },
        {
         "name": "elec_chiller_Wh",
         "rawType": "float64",
         "type": "float"
        },
        {
         "name": "scenario_id",
         "rawType": "object",
         "type": "string"
        },
        {
         "name": "max_cap_h_hr_W",
         "rawType": "float64",
         "type": "float"
        },
        {
         "name": "min_cap_h_hr_W",
         "rawType": "float64",
         "type": "float"
        },
        {
         "name": "simult_h_hr_W",
         "rawType": "float64",
         "type": "float"
        },
        {
         "name": "elec_emissions_rate",
         "rawType": "float64",
         "type": "float"
        },
        {
         "name": "emission_year",
         "rawType": "int64",
         "type": "integer"
        },
        {
         "name": "elec_emissions",
         "rawType": "float64",
         "type": "float"
        },
        {
         "name": "gas_emissions",
         "rawType": "float64",
         "type": "float"
        },
        {
         "name": "total_refrig_emissions",
         "rawType": "float64",
         "type": "float"
        },
        {
         "name": "year",
         "rawType": "int64",
         "type": "integer"
        }
       ],
       "ref": "ebbf6e14-cbc2-4af7-8e44-9d572f21e89d",
       "rows": [
        [
         "2025-01-01 01:00:00",
         "-4.4",
         "609230.13",
         "127902.41",
         "101719.46",
         "579104.8",
         "609230.13",
         "127902.41",
         null,
         null,
         null,
         null,
         "1.0",
         "111200.0",
         "2.28",
         "111200.0",
         "48771.93",
         "0.86",
         "498030.13",
         "579104.8",
         null,
         null,
         "1.0",
         "111200.0",
         "2.28",
         "111200.0",
         "48771.93",
         "4.0",
         "16702.41",
         "4175.6",
         "baseline_01",
         null,
         null,
         null,
         "374.15",
         "2025",
         "38.058335959",
         "104.23886400000002",
         "0.0",
         "2025"
        ],
        [
         "2025-01-01 02:00:00",
         "-4.4",
         "606900.34",
         "174577.65",
         "113388.27",
         "576395.75",
         "606900.34",
         "174577.65",
         null,
         null,
         null,
         null,
         "1.0",
         "111200.0",
         "2.28",
         "111200.0",
         "48771.93",
         "0.86",
         "495700.34",
         "576395.75",
         null,
         null,
         "1.0",
         "111200.0",
         "2.28",
         "111200.0",
         "48771.93",
         "4.0",
         "63377.65",
         "15844.41",
         "baseline_01",
         null,
         null,
         null,
         "372.55",
         "2025",
         "42.2427999885",
         "103.751235",
         "0.0",
         "2025"
        ],
        [
         "2025-01-01 03:00:00",
         "-4.11",
         "604168.53",
         "186763.68",
         "116177.45",
         "572540.93",
         "604168.53",
         "186763.68",
         null,
         null,
         null,
         null,
         "1.0",
         "111783.33",
         "2.29",
         "111783.33",
         "48716.18",
         "0.86",
         "492385.2",
         "572540.93",
         null,
         null,
         "1.0",
         "111783.33",
         "2.29",
         "111783.33",
         "48716.18",
         "4.0",
         "74980.35",
         "18745.09",
         "baseline_01",
         null,
         null,
         null,
         "356.75",
         "2025",
         "41.4463052875",
         "103.0573674",
         "0.0",
         "2025"
        ],
        [
         "2025-01-01 04:00:00",
         "-3.55",
         "600461.65",
         "199730.65",
         "118930.48",
         "566932.15",
         "600461.65",
         "199730.65",
         null,
         null,
         null,
         null,
         "1.0",
         "112900.0",
         "2.32",
         "112900.0",
         "48611.41",
         "0.86",
         "487561.65",
         "566932.15",
         null,
         null,
         "1.0",
         "112900.0",
         "2.32",
         "112900.0",
         "48611.41",
         "4.0",
         "86830.65",
         "21707.66",
         "baseline_01",
         null,
         null,
         null,
         "350.35",
         "2025",
         "41.667293668",
         "102.047787",
         "0.0",
         "2025"
        ],
        [
         "2025-01-01 05:00:00",
         "-3.3",
         "604703.0",
         "205553.3",
         "120168.95",
         "571282.55",
         "604703.0",
         "205553.3",
         null,
         null,
         null,
         null,
         "1.0",
         "113400.0",
         "2.34",
         "113400.0",
         "48565.31",
         "0.86",
         "491303.0",
         "571282.55",
         null,
         null,
         "1.0",
         "113400.0",
         "2.34",
         "113400.0",
         "48565.31",
         "4.0",
         "92153.3",
         "23038.33",
         "baseline_01",
         null,
         null,
         null,
         "375.3",
         "2025",
         "45.099406935000005",
         "102.83085900000002",
         "0.0",
         "2025"
        ],
        [
         "2025-01-01 06:00:00",
         "-3.65",
         "607617.81",
         "200142.3",
         "119120.55",
         "575485.83",
         "607617.81",
         "200142.3",
         null,
         null,
         null,
         null,
         "1.0",
         "112700.0",
         "2.32",
         "112700.0",
         "48629.99",
         "0.86",
         "494917.81",
         "575485.83",
         null,
         null,
         "1.0",
         "112700.0",
         "2.32",
         "112700.0",
         "48629.99",
         "4.0",
         "87442.3",
         "21860.57",
         "baseline_01",
         null,
         null,
         null,
         "449.6",
         "2025",
         "53.55659928",
         "103.5874494",
         "0.0",
         "2025"
        ],
        [
         "2025-01-01 07:00:00",
         "-4.19",
         "611215.73",
         "191604.12",
         "117460.94",
         "580929.14",
         "611215.73",
         "191604.12",
         null,
         null,
         null,
         null,
         "1.0",
         "111616.67",
         "2.29",
         "111616.67",
         "48732.04",
         "0.86",
         "499599.06",
         "580929.14",
         null,
         null,
         "1.0",
         "111616.67",
         "2.29",
         "111616.67",
         "48732.04",
         "4.0",
         "79987.46",
         "19996.86",
         "baseline_01",
         null,
         null,
         null,
         "456.2",
         "2025",
         "53.585680828",
         "104.5672452",
         "0.0",
         "2025"
        ],
        [
         "2025-01-01 08:00:00",
         "-3.76",
         "607994.13",
         "113827.74",
         "97636.52",
         "576175.34",
         "607994.13",
         "113827.74",
         null,
         null,
         null,
         null,
         "1.0",
         "112483.33",
         "2.31",
         "112483.33",
         "48650.21",
         "0.86",
         "495510.79",
         "576175.34",
         null,
         null,
         "1.0",
         "112483.33",
         "2.31",
         "112483.33",
         "48650.21",
         "4.0",
         "1344.41",
         "336.1",
         "baseline_01",
         null,
         null,
         null,
         "441.55",
         "2025",
         "43.111405406",
         "103.71156119999999",
         "0.0",
         "2025"
        ],
        [
         "2025-01-01 09:00:00",
         "-3.01",
         "546663.14",
         "109587.78",
         "95153.51",
         "503116.06",
         "546663.14",
         "109587.78",
         null,
         null,
         null,
         null,
         "1.0",
         "113983.33",
         "2.35",
         "113983.33",
         "48512.15",
         "0.86",
         "432679.81",
         "503116.06",
         null,
         null,
         "1.0",
         "113983.33",
         "2.35",
         "109587.78",
         "46641.37",
         "4.0",
         "0.0",
         "0.0",
         "baseline_01",
         null,
         null,
         null,
         "404.05",
         "2025",
         "38.446775715499996",
         "90.5608908",
         "0.0",
         "2025"
        ],
        [
         "2025-01-01 10:00:00",
         "-2.45",
         "518821.39",
         "125826.58",
         "99506.04",
         "469443.47",
         "518821.39",
         "125826.58",
         null,
         null,
         null,
         null,
         "1.0",
         "115100.0",
         "2.38",
         "115100.0",
         "48412.2",
         "0.86",
         "403721.39",
         "469443.47",
         null,
         null,
         "1.0",
         "115100.0",
         "2.38",
         "115100.0",
         "48412.2",
         "4.0",
         "10726.58",
         "2681.65",
         "baseline_01",
         null,
         null,
         null,
         "417.45",
         "2025",
         "41.538796397999995",
         "84.4998246",
         "0.0",
         "2025"
        ],
        [
         "2025-01-01 11:00:00",
         "-1.56",
         "494195.62",
         "153496.5",
         "105668.0",
         "438735.21",
         "494195.62",
         "153496.5",
         null,
         null,
         null,
         null,
         "1.0",
         "116883.33",
         "2.42",
         "116883.33",
         "48257.35",
         "0.86",
         "377312.28",
         "438735.21",
         null,
         null,
         "1.0",
         "116883.33",
         "2.42",
         "116883.33",
         "48257.35",
         "4.0",
         "36613.16",
         "9153.29",
         "baseline_01",
         null,
         null,
         null,
         "429.35",
         "2025",
         "45.3685558",
         "78.97233779999999",
         "0.0",
         "2025"
        ],
        [
         "2025-01-01 12:00:00",
         "-1.45",
         "487443.57",
         "162364.69",
         "107794.03",
         "430632.06",
         "487443.57",
         "162364.69",
         null,
         null,
         null,
         null,
         "1.0",
         "117100.0",
         "2.43",
         "117100.0",
         "48238.93",
         "0.86",
         "370343.57",
         "430632.06",
         null,
         null,
         "1.0",
         "117100.0",
         "2.43",
         "117100.0",
         "48238.93",
         "4.0",
         "45264.69",
         "11316.17",
         "baseline_01",
         null,
         null,
         null,
         "386.7",
         "2025",
         "41.683951401",
         "77.5137708",
         "0.0",
         "2025"
        ],
        [
         "2025-01-01 13:00:00",
         "-1.99",
         "483818.45",
         "153128.01",
         "105941.61",
         "427676.49",
         "483818.45",
         "153128.01",
         null,
         null,
         null,
         null,
         "1.0",
         "116016.67",
         "2.4",
         "116016.67",
         "48331.89",
         "0.86",
         "367801.79",
         "427676.49",
         null,
         null,
         "1.0",
         "116016.67",
         "2.4",
         "116016.67",
         "48331.89",
         "4.0",
         "37111.34",
         "9277.84",
         "baseline_01",
         null,
         null,
         null,
         "397.15",
         "2025",
         "42.0747104115",
         "76.9817682",
         "0.0",
         "2025"
        ],
        [
         "2025-01-01 14:00:00",
         "-2.84",
         "500469.35",
         "135335.25",
         "102218.77",
         "449014.75",
         "500469.35",
         "135335.25",
         null,
         null,
         null,
         null,
         "1.0",
         "114316.67",
         "2.36",
         "114316.67",
         "48482.06",
         "0.86",
         "386152.69",
         "449014.75",
         null,
         null,
         "1.0",
         "114316.67",
         "2.36",
         "114316.67",
         "48482.06",
         "4.0",
         "21018.58",
         "5254.65",
         "baseline_01",
         null,
         null,
         null,
         "386.3",
         "2025",
         "39.487110851000004",
         "80.822655",
         "0.0",
         "2025"
        ],
        [
         "2025-01-01 15:00:00",
         "-3.01",
         "496728.78",
         "130178.54",
         "101073.1",
         "445052.85",
         "496728.78",
         "130178.54",
         null,
         null,
         null,
         null,
         "1.0",
         "113983.33",
         "2.35",
         "113983.33",
         "48512.15",
         "0.86",
         "382745.45",
         "445052.85",
         null,
         null,
         "1.0",
         "113983.33",
         "2.35",
         "113983.33",
         "48512.15",
         "4.0",
         "16195.2",
         "4048.8",
         "baseline_01",
         null,
         null,
         null,
         "393.4",
         "2025",
         "39.76215754",
         "80.109513",
         "0.0",
         "2025"
        ],
        [
         "2025-01-01 16:00:00",
         "-2.8",
         "498164.56",
         "135665.91",
         "102265.63",
         "446237.87",
         "498164.56",
         "135665.91",
         null,
         null,
         null,
         null,
         "1.0",
         "114400.0",
         "2.36",
         "114400.0",
         "48474.58",
         "0.86",
         "383764.56",
         "446237.87",
         null,
         null,
         "1.0",
         "114400.0",
         "2.36",
         "114400.0",
         "48474.58",
         "4.0",
         "21265.91",
         "5316.48",
         "baseline_01",
         null,
         null,
         null,
         "439.4",
         "2025",
         "44.935517821999994",
         "80.3228166",
         "0.0",
         "2025"
        ],
        [
         "2025-01-01 17:00:00",
         "-4.08",
         "561067.93",
         "96564.16",
         "90772.05",
         "522365.81",
         "561067.93",
         "96564.16",
         null,
         null,
         null,
         null,
         "1.0",
         "111833.33",
         "2.3",
         "111833.33",
         "48711.43",
         "0.86",
         "449234.6",
         "522365.81",
         null,
         null,
         "1.0",
         "111833.33",
         "2.3",
         "96564.16",
         "42060.62",
         "4.0",
         "0.0",
         "0.0",
         "baseline_01",
         null,
         null,
         null,
         "495.0",
         "2025",
         "44.93216475",
         "94.0258458",
         "0.0",
         "2025"
        ],
        [
         "2025-01-01 18:00:00",
         "-5.35",
         "597933.37",
         "72222.7",
         "81309.16",
         "568178.34",
         "597933.37",
         "72222.7",
         null,
         null,
         null,
         null,
         "1.0",
         "109300.0",
         "2.23",
         "109300.0",
         "48958.57",
         "0.86",
         "488633.37",
         "568178.34",
         null,
         null,
         "1.0",
         "109300.0",
         "2.23",
         "72222.7",
         "32350.59",
         "4.0",
         "0.0",
         "0.0",
         "baseline_01",
         null,
         null,
         null,
         "500.54999999999995",
         "2025",
         "40.699300038",
         "102.2721012",
         "0.0",
         "2025"
        ],
        [
         "2025-01-01 19:00:00",
         "-5.89",
         "611523.3",
         "62852.74",
         "77567.84",
         "585240.27",
         "611523.3",
         "62852.74",
         null,
         null,
         null,
         null,
         "1.0",
         "108216.67",
         "2.21",
         "108216.67",
         "49068.58",
         "0.86",
         "503306.63",
         "585240.27",
         null,
         null,
         "1.0",
         "108216.67",
         "2.21",
         "62852.74",
         "28499.26",
         "4.0",
         "0.0",
         "0.0",
         "baseline_01",
         null,
         null,
         null,
         "465.25",
         "2025",
         "36.088437559999996",
         "105.34324860000001",
         "0.0",
         "2025"
        ],
        [
         "2025-01-01 20:00:00",
         "-6.45",
         "628074.3",
         "53927.94",
         "73950.83",
         "605784.07",
         "628074.3",
         "53927.94",
         null,
         null,
         null,
         null,
         "1.0",
         "107100.0",
         "2.18",
         "107100.0",
         "49184.85",
         "0.86",
         "520974.3",
         "605784.07",
         null,
         null,
         "1.0",
         "107100.0",
         "2.18",
         "53927.94",
         "24765.99",
         "4.0",
         "0.0",
         "0.0",
         "baseline_01",
         null,
         null,
         null,
         "423.6",
         "2025",
         "31.325571588000003",
         "109.0411326",
         "0.0",
         "2025"
        ],
        [
         "2025-01-01 21:00:00",
         "-7.63",
         "651466.86",
         "35797.96",
         "66340.5",
         "635736.66",
         "651466.86",
         "35797.96",
         null,
         null,
         null,
         null,
         "1.0",
         "104733.33",
         "2.12",
         "104733.33",
         "49441.38",
         "0.86",
         "546733.53",
         "635736.66",
         null,
         null,
         "1.0",
         "104733.33",
         "2.12",
         "35797.96",
         "16899.11",
         "4.0",
         "0.0",
         "0.0",
         "baseline_01",
         null,
         null,
         null,
         "414.1",
         "2025",
         "27.47160105",
         "114.43259880000001",
         "0.0",
         "2025"
        ],
        [
         "2025-01-01 22:00:00",
         "-8.94",
         "662557.67",
         "15267.33",
         "57179.14",
         "651675.59",
         "662557.67",
         "15267.33",
         null,
         null,
         null,
         null,
         "1.0",
         "102116.67",
         "2.05",
         "102116.67",
         "49742.24",
         "0.86",
         "560441.0",
         "651675.59",
         null,
         null,
         "1.0",
         "102116.67",
         "2.05",
         "15267.33",
         "7436.9",
         "4.0",
         "0.0",
         "0.0",
         "baseline_01",
         null,
         null,
         null,
         "429.55",
         "2025",
         "24.561299587",
         "117.3016062",
         "0.0",
         "2025"
        ],
        [
         "2025-01-01 23:00:00",
         "-9.75",
         "680094.52",
         "4254.93",
         "52052.14",
         "673947.12",
         "680094.52",
         "4254.93",
         null,
         null,
         null,
         null,
         "1.0",
         "100500.0",
         "2.01",
         "100500.0",
         "49937.89",
         "0.86",
         "579594.52",
         "673947.12",
         null,
         null,
         "1.0",
         "100500.0",
         "2.01",
         "4254.93",
         "2114.25",
         "4.0",
         "0.0",
         "0.0",
         "baseline_01",
         null,
         null,
         null,
         "434.15000000000003",
         "2025",
         "22.598436581",
         "121.31048159999999",
         "0.0",
         "2025"
        ],
        [
         "2025-01-02 00:00:00",
         "-10.35",
         "701267.36",
         "980.45",
         "50490.23",
         "699148.1",
         "701267.36",
         "980.45",
         null,
         null,
         null,
         null,
         "1.0",
         "100000.0",
         "2.0",
         "100000.0",
         "50000.0",
         "0.86",
         "601267.36",
         "699148.1",
         null,
         null,
         "1.0",
         "100000.0",
         "2.0",
         "980.45",
         "490.23",
         "4.0",
         "0.0",
         "0.0",
         "baseline_01",
         null,
         null,
         null,
         "381.65",
         "2025",
         "19.2695962795",
         "125.846658",
         "0.0",
         "2025"
        ],
        [
         "2025-01-02 01:00:00",
         "-10.89",
         "703857.5",
         "29439.75",
         "64719.88",
         "702159.88",
         "703857.5",
         "29439.75",
         null,
         null,
         null,
         null,
         "1.0",
         "100000.0",
         "2.0",
         "100000.0",
         "50000.0",
         "0.86",
         "603857.5",
         "702159.88",
         null,
         null,
         "1.0",
         "100000.0",
         "2.0",
         "29439.75",
         "14719.88",
         "4.0",
         "0.0",
         "0.0",
         "baseline_01",
         null,
         null,
         null,
         "374.15",
         "2025",
         "24.214943102",
         "126.3887784",
         "0.0",
         "2025"
        ],
        [
         "2025-01-02 02:00:00",
         "-11.45",
         "710937.94",
         "61415.11",
         "80707.55",
         "710392.96",
         "710937.94",
         "61415.11",
         null,
         null,
         null,
         null,
         "1.0",
         "100000.0",
         "2.0",
         "100000.0",
         "50000.0",
         "0.86",
         "610937.94",
         "710392.96",
         null,
         null,
         "1.0",
         "100000.0",
         "2.0",
         "61415.11",
         "30707.55",
         "4.0",
         "0.0",
         "0.0",
         "baseline_01",
         null,
         null,
         null,
         "372.55",
         "2025",
         "30.067597752500003",
         "127.8707328",
         "0.0",
         "2025"
        ],
        [
         "2025-01-02 03:00:00",
         "-11.7",
         "706407.54",
         "77967.38",
         "88983.69",
         "705125.05",
         "706407.54",
         "77967.38",
         null,
         null,
         null,
         null,
         "1.0",
         "100000.0",
         "2.0",
         "100000.0",
         "50000.0",
         "0.86",
         "606407.54",
         "705125.05",
         null,
         null,
         "1.0",
         "100000.0",
         "2.0",
         "77967.38",
         "38983.69",
         "4.0",
         "0.0",
         "0.0",
         "baseline_01",
         null,
         null,
         null,
         "356.75",
         "2025",
         "31.7449314075",
         "126.92250900000002",
         "0.0",
         "2025"
        ],
        [
         "2025-01-02 04:00:00",
         "-11.7",
         "704279.2",
         "85794.54",
         "92897.27",
         "702650.23",
         "704279.2",
         "85794.54",
         null,
         null,
         null,
         null,
         "1.0",
         "100000.0",
         "2.0",
         "100000.0",
         "50000.0",
         "0.86",
         "604279.2",
         "702650.23",
         null,
         null,
         "1.0",
         "100000.0",
         "2.0",
         "85794.54",
         "42897.27",
         "4.0",
         "0.0",
         "0.0",
         "baseline_01",
         null,
         null,
         null,
         "350.35",
         "2025",
         "32.5465585445",
         "126.47704139999999",
         "0.0",
         "2025"
        ],
        [
         "2025-01-02 05:00:00",
         "-11.99",
         "715288.84",
         "89293.77",
         "94646.89",
         "715452.13",
         "715288.84",
         "89293.77",
         null,
         null,
         null,
         null,
         "1.0",
         "100000.0",
         "2.0",
         "100000.0",
         "50000.0",
         "0.86",
         "615288.84",
         "715452.13",
         null,
         null,
         "1.0",
         "100000.0",
         "2.0",
         "89293.77",
         "44646.89",
         "4.0",
         "0.0",
         "0.0",
         "baseline_01",
         null,
         null,
         null,
         "375.3",
         "2025",
         "35.520977817",
         "128.7813834",
         "0.0",
         "2025"
        ],
        [
         "2025-01-02 06:00:00",
         "-11.91",
         "718766.28",
         "90837.27",
         "95418.63",
         "719495.67",
         "718766.28",
         "90837.27",
         null,
         null,
         null,
         null,
         "1.0",
         "100000.0",
         "2.0",
         "100000.0",
         "50000.0",
         "0.86",
         "618766.28",
         "719495.67",
         null,
         null,
         "1.0",
         "100000.0",
         "2.0",
         "90837.27",
         "45418.63",
         "4.0",
         "0.0",
         "0.0",
         "baseline_01",
         null,
         null,
         null,
         "449.6",
         "2025",
         "42.900216048000004",
         "129.50922060000002",
         "0.0",
         "2025"
        ]
       ],
       "shape": {
        "columns": 39,
        "rows": 30
       }
      },
      "text/html": [
       "<div>\n",
       "<style scoped>\n",
       "    .dataframe tbody tr th:only-of-type {\n",
       "        vertical-align: middle;\n",
       "    }\n",
       "\n",
       "    .dataframe tbody tr th {\n",
       "        vertical-align: top;\n",
       "    }\n",
       "\n",
       "    .dataframe thead th {\n",
       "        text-align: right;\n",
       "    }\n",
       "</style>\n",
       "<table border=\"1\" class=\"dataframe\">\n",
       "  <thead>\n",
       "    <tr style=\"text-align: right;\">\n",
       "      <th></th>\n",
       "      <th>t_out_C</th>\n",
       "      <th>heating_W</th>\n",
       "      <th>cooling_W</th>\n",
       "      <th>elec_Wh</th>\n",
       "      <th>gas_Wh</th>\n",
       "      <th>hhw_W</th>\n",
       "      <th>chw_W</th>\n",
       "      <th>hr_hhw_W</th>\n",
       "      <th>hr_chw_W</th>\n",
       "      <th>hr_cop_h</th>\n",
       "      <th>...</th>\n",
       "      <th>scenario_id</th>\n",
       "      <th>max_cap_h_hr_W</th>\n",
       "      <th>min_cap_h_hr_W</th>\n",
       "      <th>simult_h_hr_W</th>\n",
       "      <th>elec_emissions_rate</th>\n",
       "      <th>emission_year</th>\n",
       "      <th>elec_emissions</th>\n",
       "      <th>gas_emissions</th>\n",
       "      <th>total_refrig_emissions</th>\n",
       "      <th>year</th>\n",
       "    </tr>\n",
       "    <tr>\n",
       "      <th>timestamp</th>\n",
       "      <th></th>\n",
       "      <th></th>\n",
       "      <th></th>\n",
       "      <th></th>\n",
       "      <th></th>\n",
       "      <th></th>\n",
       "      <th></th>\n",
       "      <th></th>\n",
       "      <th></th>\n",
       "      <th></th>\n",
       "      <th></th>\n",
       "      <th></th>\n",
       "      <th></th>\n",
       "      <th></th>\n",
       "      <th></th>\n",
       "      <th></th>\n",
       "      <th></th>\n",
       "      <th></th>\n",
       "      <th></th>\n",
       "      <th></th>\n",
       "      <th></th>\n",
       "    </tr>\n",
       "  </thead>\n",
       "  <tbody>\n",
       "    <tr>\n",
       "      <th>2025-01-01 01:00:00</th>\n",
       "      <td>-4.40</td>\n",
       "      <td>609230.13</td>\n",
       "      <td>127902.41</td>\n",
       "      <td>101719.46</td>\n",
       "      <td>579104.80</td>\n",
       "      <td>609230.13</td>\n",
       "      <td>127902.41</td>\n",
       "      <td>NaN</td>\n",
       "      <td>NaN</td>\n",
       "      <td>NaN</td>\n",
       "      <td>...</td>\n",
       "      <td>baseline_01</td>\n",
       "      <td>NaN</td>\n",
       "      <td>NaN</td>\n",
       "      <td>NaN</td>\n",
       "      <td>374.15</td>\n",
       "      <td>2025</td>\n",
       "      <td>38.058336</td>\n",
       "      <td>104.238864</td>\n",
       "      <td>0.0</td>\n",
       "      <td>2025</td>\n",
       "    </tr>\n",
       "    <tr>\n",
       "      <th>2025-01-01 02:00:00</th>\n",
       "      <td>-4.40</td>\n",
       "      <td>606900.34</td>\n",
       "      <td>174577.65</td>\n",
       "      <td>113388.27</td>\n",
       "      <td>576395.75</td>\n",
       "      <td>606900.34</td>\n",
       "      <td>174577.65</td>\n",
       "      <td>NaN</td>\n",
       "      <td>NaN</td>\n",
       "      <td>NaN</td>\n",
       "      <td>...</td>\n",
       "      <td>baseline_01</td>\n",
       "      <td>NaN</td>\n",
       "      <td>NaN</td>\n",
       "      <td>NaN</td>\n",
       "      <td>372.55</td>\n",
       "      <td>2025</td>\n",
       "      <td>42.242800</td>\n",
       "      <td>103.751235</td>\n",
       "      <td>0.0</td>\n",
       "      <td>2025</td>\n",
       "    </tr>\n",
       "    <tr>\n",
       "      <th>2025-01-01 03:00:00</th>\n",
       "      <td>-4.11</td>\n",
       "      <td>604168.53</td>\n",
       "      <td>186763.68</td>\n",
       "      <td>116177.45</td>\n",
       "      <td>572540.93</td>\n",
       "      <td>604168.53</td>\n",
       "      <td>186763.68</td>\n",
       "      <td>NaN</td>\n",
       "      <td>NaN</td>\n",
       "      <td>NaN</td>\n",
       "      <td>...</td>\n",
       "      <td>baseline_01</td>\n",
       "      <td>NaN</td>\n",
       "      <td>NaN</td>\n",
       "      <td>NaN</td>\n",
       "      <td>356.75</td>\n",
       "      <td>2025</td>\n",
       "      <td>41.446305</td>\n",
       "      <td>103.057367</td>\n",
       "      <td>0.0</td>\n",
       "      <td>2025</td>\n",
       "    </tr>\n",
       "    <tr>\n",
       "      <th>2025-01-01 04:00:00</th>\n",
       "      <td>-3.55</td>\n",
       "      <td>600461.65</td>\n",
       "      <td>199730.65</td>\n",
       "      <td>118930.48</td>\n",
       "      <td>566932.15</td>\n",
       "      <td>600461.65</td>\n",
       "      <td>199730.65</td>\n",
       "      <td>NaN</td>\n",
       "      <td>NaN</td>\n",
       "      <td>NaN</td>\n",
       "      <td>...</td>\n",
       "      <td>baseline_01</td>\n",
       "      <td>NaN</td>\n",
       "      <td>NaN</td>\n",
       "      <td>NaN</td>\n",
       "      <td>350.35</td>\n",
       "      <td>2025</td>\n",
       "      <td>41.667294</td>\n",
       "      <td>102.047787</td>\n",
       "      <td>0.0</td>\n",
       "      <td>2025</td>\n",
       "    </tr>\n",
       "    <tr>\n",
       "      <th>2025-01-01 05:00:00</th>\n",
       "      <td>-3.30</td>\n",
       "      <td>604703.00</td>\n",
       "      <td>205553.30</td>\n",
       "      <td>120168.95</td>\n",
       "      <td>571282.55</td>\n",
       "      <td>604703.00</td>\n",
       "      <td>205553.30</td>\n",
       "      <td>NaN</td>\n",
       "      <td>NaN</td>\n",
       "      <td>NaN</td>\n",
       "      <td>...</td>\n",
       "      <td>baseline_01</td>\n",
       "      <td>NaN</td>\n",
       "      <td>NaN</td>\n",
       "      <td>NaN</td>\n",
       "      <td>375.30</td>\n",
       "      <td>2025</td>\n",
       "      <td>45.099407</td>\n",
       "      <td>102.830859</td>\n",
       "      <td>0.0</td>\n",
       "      <td>2025</td>\n",
       "    </tr>\n",
       "    <tr>\n",
       "      <th>2025-01-01 06:00:00</th>\n",
       "      <td>-3.65</td>\n",
       "      <td>607617.81</td>\n",
       "      <td>200142.30</td>\n",
       "      <td>119120.55</td>\n",
       "      <td>575485.83</td>\n",
       "      <td>607617.81</td>\n",
       "      <td>200142.30</td>\n",
       "      <td>NaN</td>\n",
       "      <td>NaN</td>\n",
       "      <td>NaN</td>\n",
       "      <td>...</td>\n",
       "      <td>baseline_01</td>\n",
       "      <td>NaN</td>\n",
       "      <td>NaN</td>\n",
       "      <td>NaN</td>\n",
       "      <td>449.60</td>\n",
       "      <td>2025</td>\n",
       "      <td>53.556599</td>\n",
       "      <td>103.587449</td>\n",
       "      <td>0.0</td>\n",
       "      <td>2025</td>\n",
       "    </tr>\n",
       "    <tr>\n",
       "      <th>2025-01-01 07:00:00</th>\n",
       "      <td>-4.19</td>\n",
       "      <td>611215.73</td>\n",
       "      <td>191604.12</td>\n",
       "      <td>117460.94</td>\n",
       "      <td>580929.14</td>\n",
       "      <td>611215.73</td>\n",
       "      <td>191604.12</td>\n",
       "      <td>NaN</td>\n",
       "      <td>NaN</td>\n",
       "      <td>NaN</td>\n",
       "      <td>...</td>\n",
       "      <td>baseline_01</td>\n",
       "      <td>NaN</td>\n",
       "      <td>NaN</td>\n",
       "      <td>NaN</td>\n",
       "      <td>456.20</td>\n",
       "      <td>2025</td>\n",
       "      <td>53.585681</td>\n",
       "      <td>104.567245</td>\n",
       "      <td>0.0</td>\n",
       "      <td>2025</td>\n",
       "    </tr>\n",
       "    <tr>\n",
       "      <th>2025-01-01 08:00:00</th>\n",
       "      <td>-3.76</td>\n",
       "      <td>607994.13</td>\n",
       "      <td>113827.74</td>\n",
       "      <td>97636.52</td>\n",
       "      <td>576175.34</td>\n",
       "      <td>607994.13</td>\n",
       "      <td>113827.74</td>\n",
       "      <td>NaN</td>\n",
       "      <td>NaN</td>\n",
       "      <td>NaN</td>\n",
       "      <td>...</td>\n",
       "      <td>baseline_01</td>\n",
       "      <td>NaN</td>\n",
       "      <td>NaN</td>\n",
       "      <td>NaN</td>\n",
       "      <td>441.55</td>\n",
       "      <td>2025</td>\n",
       "      <td>43.111405</td>\n",
       "      <td>103.711561</td>\n",
       "      <td>0.0</td>\n",
       "      <td>2025</td>\n",
       "    </tr>\n",
       "    <tr>\n",
       "      <th>2025-01-01 09:00:00</th>\n",
       "      <td>-3.01</td>\n",
       "      <td>546663.14</td>\n",
       "      <td>109587.78</td>\n",
       "      <td>95153.51</td>\n",
       "      <td>503116.06</td>\n",
       "      <td>546663.14</td>\n",
       "      <td>109587.78</td>\n",
       "      <td>NaN</td>\n",
       "      <td>NaN</td>\n",
       "      <td>NaN</td>\n",
       "      <td>...</td>\n",
       "      <td>baseline_01</td>\n",
       "      <td>NaN</td>\n",
       "      <td>NaN</td>\n",
       "      <td>NaN</td>\n",
       "      <td>404.05</td>\n",
       "      <td>2025</td>\n",
       "      <td>38.446776</td>\n",
       "      <td>90.560891</td>\n",
       "      <td>0.0</td>\n",
       "      <td>2025</td>\n",
       "    </tr>\n",
       "    <tr>\n",
       "      <th>2025-01-01 10:00:00</th>\n",
       "      <td>-2.45</td>\n",
       "      <td>518821.39</td>\n",
       "      <td>125826.58</td>\n",
       "      <td>99506.04</td>\n",
       "      <td>469443.47</td>\n",
       "      <td>518821.39</td>\n",
       "      <td>125826.58</td>\n",
       "      <td>NaN</td>\n",
       "      <td>NaN</td>\n",
       "      <td>NaN</td>\n",
       "      <td>...</td>\n",
       "      <td>baseline_01</td>\n",
       "      <td>NaN</td>\n",
       "      <td>NaN</td>\n",
       "      <td>NaN</td>\n",
       "      <td>417.45</td>\n",
       "      <td>2025</td>\n",
       "      <td>41.538796</td>\n",
       "      <td>84.499825</td>\n",
       "      <td>0.0</td>\n",
       "      <td>2025</td>\n",
       "    </tr>\n",
       "    <tr>\n",
       "      <th>2025-01-01 11:00:00</th>\n",
       "      <td>-1.56</td>\n",
       "      <td>494195.62</td>\n",
       "      <td>153496.50</td>\n",
       "      <td>105668.00</td>\n",
       "      <td>438735.21</td>\n",
       "      <td>494195.62</td>\n",
       "      <td>153496.50</td>\n",
       "      <td>NaN</td>\n",
       "      <td>NaN</td>\n",
       "      <td>NaN</td>\n",
       "      <td>...</td>\n",
       "      <td>baseline_01</td>\n",
       "      <td>NaN</td>\n",
       "      <td>NaN</td>\n",
       "      <td>NaN</td>\n",
       "      <td>429.35</td>\n",
       "      <td>2025</td>\n",
       "      <td>45.368556</td>\n",
       "      <td>78.972338</td>\n",
       "      <td>0.0</td>\n",
       "      <td>2025</td>\n",
       "    </tr>\n",
       "    <tr>\n",
       "      <th>2025-01-01 12:00:00</th>\n",
       "      <td>-1.45</td>\n",
       "      <td>487443.57</td>\n",
       "      <td>162364.69</td>\n",
       "      <td>107794.03</td>\n",
       "      <td>430632.06</td>\n",
       "      <td>487443.57</td>\n",
       "      <td>162364.69</td>\n",
       "      <td>NaN</td>\n",
       "      <td>NaN</td>\n",
       "      <td>NaN</td>\n",
       "      <td>...</td>\n",
       "      <td>baseline_01</td>\n",
       "      <td>NaN</td>\n",
       "      <td>NaN</td>\n",
       "      <td>NaN</td>\n",
       "      <td>386.70</td>\n",
       "      <td>2025</td>\n",
       "      <td>41.683951</td>\n",
       "      <td>77.513771</td>\n",
       "      <td>0.0</td>\n",
       "      <td>2025</td>\n",
       "    </tr>\n",
       "    <tr>\n",
       "      <th>2025-01-01 13:00:00</th>\n",
       "      <td>-1.99</td>\n",
       "      <td>483818.45</td>\n",
       "      <td>153128.01</td>\n",
       "      <td>105941.61</td>\n",
       "      <td>427676.49</td>\n",
       "      <td>483818.45</td>\n",
       "      <td>153128.01</td>\n",
       "      <td>NaN</td>\n",
       "      <td>NaN</td>\n",
       "      <td>NaN</td>\n",
       "      <td>...</td>\n",
       "      <td>baseline_01</td>\n",
       "      <td>NaN</td>\n",
       "      <td>NaN</td>\n",
       "      <td>NaN</td>\n",
       "      <td>397.15</td>\n",
       "      <td>2025</td>\n",
       "      <td>42.074710</td>\n",
       "      <td>76.981768</td>\n",
       "      <td>0.0</td>\n",
       "      <td>2025</td>\n",
       "    </tr>\n",
       "    <tr>\n",
       "      <th>2025-01-01 14:00:00</th>\n",
       "      <td>-2.84</td>\n",
       "      <td>500469.35</td>\n",
       "      <td>135335.25</td>\n",
       "      <td>102218.77</td>\n",
       "      <td>449014.75</td>\n",
       "      <td>500469.35</td>\n",
       "      <td>135335.25</td>\n",
       "      <td>NaN</td>\n",
       "      <td>NaN</td>\n",
       "      <td>NaN</td>\n",
       "      <td>...</td>\n",
       "      <td>baseline_01</td>\n",
       "      <td>NaN</td>\n",
       "      <td>NaN</td>\n",
       "      <td>NaN</td>\n",
       "      <td>386.30</td>\n",
       "      <td>2025</td>\n",
       "      <td>39.487111</td>\n",
       "      <td>80.822655</td>\n",
       "      <td>0.0</td>\n",
       "      <td>2025</td>\n",
       "    </tr>\n",
       "    <tr>\n",
       "      <th>2025-01-01 15:00:00</th>\n",
       "      <td>-3.01</td>\n",
       "      <td>496728.78</td>\n",
       "      <td>130178.54</td>\n",
       "      <td>101073.10</td>\n",
       "      <td>445052.85</td>\n",
       "      <td>496728.78</td>\n",
       "      <td>130178.54</td>\n",
       "      <td>NaN</td>\n",
       "      <td>NaN</td>\n",
       "      <td>NaN</td>\n",
       "      <td>...</td>\n",
       "      <td>baseline_01</td>\n",
       "      <td>NaN</td>\n",
       "      <td>NaN</td>\n",
       "      <td>NaN</td>\n",
       "      <td>393.40</td>\n",
       "      <td>2025</td>\n",
       "      <td>39.762158</td>\n",
       "      <td>80.109513</td>\n",
       "      <td>0.0</td>\n",
       "      <td>2025</td>\n",
       "    </tr>\n",
       "    <tr>\n",
       "      <th>2025-01-01 16:00:00</th>\n",
       "      <td>-2.80</td>\n",
       "      <td>498164.56</td>\n",
       "      <td>135665.91</td>\n",
       "      <td>102265.63</td>\n",
       "      <td>446237.87</td>\n",
       "      <td>498164.56</td>\n",
       "      <td>135665.91</td>\n",
       "      <td>NaN</td>\n",
       "      <td>NaN</td>\n",
       "      <td>NaN</td>\n",
       "      <td>...</td>\n",
       "      <td>baseline_01</td>\n",
       "      <td>NaN</td>\n",
       "      <td>NaN</td>\n",
       "      <td>NaN</td>\n",
       "      <td>439.40</td>\n",
       "      <td>2025</td>\n",
       "      <td>44.935518</td>\n",
       "      <td>80.322817</td>\n",
       "      <td>0.0</td>\n",
       "      <td>2025</td>\n",
       "    </tr>\n",
       "    <tr>\n",
       "      <th>2025-01-01 17:00:00</th>\n",
       "      <td>-4.08</td>\n",
       "      <td>561067.93</td>\n",
       "      <td>96564.16</td>\n",
       "      <td>90772.05</td>\n",
       "      <td>522365.81</td>\n",
       "      <td>561067.93</td>\n",
       "      <td>96564.16</td>\n",
       "      <td>NaN</td>\n",
       "      <td>NaN</td>\n",
       "      <td>NaN</td>\n",
       "      <td>...</td>\n",
       "      <td>baseline_01</td>\n",
       "      <td>NaN</td>\n",
       "      <td>NaN</td>\n",
       "      <td>NaN</td>\n",
       "      <td>495.00</td>\n",
       "      <td>2025</td>\n",
       "      <td>44.932165</td>\n",
       "      <td>94.025846</td>\n",
       "      <td>0.0</td>\n",
       "      <td>2025</td>\n",
       "    </tr>\n",
       "    <tr>\n",
       "      <th>2025-01-01 18:00:00</th>\n",
       "      <td>-5.35</td>\n",
       "      <td>597933.37</td>\n",
       "      <td>72222.70</td>\n",
       "      <td>81309.16</td>\n",
       "      <td>568178.34</td>\n",
       "      <td>597933.37</td>\n",
       "      <td>72222.70</td>\n",
       "      <td>NaN</td>\n",
       "      <td>NaN</td>\n",
       "      <td>NaN</td>\n",
       "      <td>...</td>\n",
       "      <td>baseline_01</td>\n",
       "      <td>NaN</td>\n",
       "      <td>NaN</td>\n",
       "      <td>NaN</td>\n",
       "      <td>500.55</td>\n",
       "      <td>2025</td>\n",
       "      <td>40.699300</td>\n",
       "      <td>102.272101</td>\n",
       "      <td>0.0</td>\n",
       "      <td>2025</td>\n",
       "    </tr>\n",
       "    <tr>\n",
       "      <th>2025-01-01 19:00:00</th>\n",
       "      <td>-5.89</td>\n",
       "      <td>611523.30</td>\n",
       "      <td>62852.74</td>\n",
       "      <td>77567.84</td>\n",
       "      <td>585240.27</td>\n",
       "      <td>611523.30</td>\n",
       "      <td>62852.74</td>\n",
       "      <td>NaN</td>\n",
       "      <td>NaN</td>\n",
       "      <td>NaN</td>\n",
       "      <td>...</td>\n",
       "      <td>baseline_01</td>\n",
       "      <td>NaN</td>\n",
       "      <td>NaN</td>\n",
       "      <td>NaN</td>\n",
       "      <td>465.25</td>\n",
       "      <td>2025</td>\n",
       "      <td>36.088438</td>\n",
       "      <td>105.343249</td>\n",
       "      <td>0.0</td>\n",
       "      <td>2025</td>\n",
       "    </tr>\n",
       "    <tr>\n",
       "      <th>2025-01-01 20:00:00</th>\n",
       "      <td>-6.45</td>\n",
       "      <td>628074.30</td>\n",
       "      <td>53927.94</td>\n",
       "      <td>73950.83</td>\n",
       "      <td>605784.07</td>\n",
       "      <td>628074.30</td>\n",
       "      <td>53927.94</td>\n",
       "      <td>NaN</td>\n",
       "      <td>NaN</td>\n",
       "      <td>NaN</td>\n",
       "      <td>...</td>\n",
       "      <td>baseline_01</td>\n",
       "      <td>NaN</td>\n",
       "      <td>NaN</td>\n",
       "      <td>NaN</td>\n",
       "      <td>423.60</td>\n",
       "      <td>2025</td>\n",
       "      <td>31.325572</td>\n",
       "      <td>109.041133</td>\n",
       "      <td>0.0</td>\n",
       "      <td>2025</td>\n",
       "    </tr>\n",
       "    <tr>\n",
       "      <th>2025-01-01 21:00:00</th>\n",
       "      <td>-7.63</td>\n",
       "      <td>651466.86</td>\n",
       "      <td>35797.96</td>\n",
       "      <td>66340.50</td>\n",
       "      <td>635736.66</td>\n",
       "      <td>651466.86</td>\n",
       "      <td>35797.96</td>\n",
       "      <td>NaN</td>\n",
       "      <td>NaN</td>\n",
       "      <td>NaN</td>\n",
       "      <td>...</td>\n",
       "      <td>baseline_01</td>\n",
       "      <td>NaN</td>\n",
       "      <td>NaN</td>\n",
       "      <td>NaN</td>\n",
       "      <td>414.10</td>\n",
       "      <td>2025</td>\n",
       "      <td>27.471601</td>\n",
       "      <td>114.432599</td>\n",
       "      <td>0.0</td>\n",
       "      <td>2025</td>\n",
       "    </tr>\n",
       "    <tr>\n",
       "      <th>2025-01-01 22:00:00</th>\n",
       "      <td>-8.94</td>\n",
       "      <td>662557.67</td>\n",
       "      <td>15267.33</td>\n",
       "      <td>57179.14</td>\n",
       "      <td>651675.59</td>\n",
       "      <td>662557.67</td>\n",
       "      <td>15267.33</td>\n",
       "      <td>NaN</td>\n",
       "      <td>NaN</td>\n",
       "      <td>NaN</td>\n",
       "      <td>...</td>\n",
       "      <td>baseline_01</td>\n",
       "      <td>NaN</td>\n",
       "      <td>NaN</td>\n",
       "      <td>NaN</td>\n",
       "      <td>429.55</td>\n",
       "      <td>2025</td>\n",
       "      <td>24.561300</td>\n",
       "      <td>117.301606</td>\n",
       "      <td>0.0</td>\n",
       "      <td>2025</td>\n",
       "    </tr>\n",
       "    <tr>\n",
       "      <th>2025-01-01 23:00:00</th>\n",
       "      <td>-9.75</td>\n",
       "      <td>680094.52</td>\n",
       "      <td>4254.93</td>\n",
       "      <td>52052.14</td>\n",
       "      <td>673947.12</td>\n",
       "      <td>680094.52</td>\n",
       "      <td>4254.93</td>\n",
       "      <td>NaN</td>\n",
       "      <td>NaN</td>\n",
       "      <td>NaN</td>\n",
       "      <td>...</td>\n",
       "      <td>baseline_01</td>\n",
       "      <td>NaN</td>\n",
       "      <td>NaN</td>\n",
       "      <td>NaN</td>\n",
       "      <td>434.15</td>\n",
       "      <td>2025</td>\n",
       "      <td>22.598437</td>\n",
       "      <td>121.310482</td>\n",
       "      <td>0.0</td>\n",
       "      <td>2025</td>\n",
       "    </tr>\n",
       "    <tr>\n",
       "      <th>2025-01-02 00:00:00</th>\n",
       "      <td>-10.35</td>\n",
       "      <td>701267.36</td>\n",
       "      <td>980.45</td>\n",
       "      <td>50490.23</td>\n",
       "      <td>699148.10</td>\n",
       "      <td>701267.36</td>\n",
       "      <td>980.45</td>\n",
       "      <td>NaN</td>\n",
       "      <td>NaN</td>\n",
       "      <td>NaN</td>\n",
       "      <td>...</td>\n",
       "      <td>baseline_01</td>\n",
       "      <td>NaN</td>\n",
       "      <td>NaN</td>\n",
       "      <td>NaN</td>\n",
       "      <td>381.65</td>\n",
       "      <td>2025</td>\n",
       "      <td>19.269596</td>\n",
       "      <td>125.846658</td>\n",
       "      <td>0.0</td>\n",
       "      <td>2025</td>\n",
       "    </tr>\n",
       "    <tr>\n",
       "      <th>2025-01-02 01:00:00</th>\n",
       "      <td>-10.89</td>\n",
       "      <td>703857.50</td>\n",
       "      <td>29439.75</td>\n",
       "      <td>64719.88</td>\n",
       "      <td>702159.88</td>\n",
       "      <td>703857.50</td>\n",
       "      <td>29439.75</td>\n",
       "      <td>NaN</td>\n",
       "      <td>NaN</td>\n",
       "      <td>NaN</td>\n",
       "      <td>...</td>\n",
       "      <td>baseline_01</td>\n",
       "      <td>NaN</td>\n",
       "      <td>NaN</td>\n",
       "      <td>NaN</td>\n",
       "      <td>374.15</td>\n",
       "      <td>2025</td>\n",
       "      <td>24.214943</td>\n",
       "      <td>126.388778</td>\n",
       "      <td>0.0</td>\n",
       "      <td>2025</td>\n",
       "    </tr>\n",
       "    <tr>\n",
       "      <th>2025-01-02 02:00:00</th>\n",
       "      <td>-11.45</td>\n",
       "      <td>710937.94</td>\n",
       "      <td>61415.11</td>\n",
       "      <td>80707.55</td>\n",
       "      <td>710392.96</td>\n",
       "      <td>710937.94</td>\n",
       "      <td>61415.11</td>\n",
       "      <td>NaN</td>\n",
       "      <td>NaN</td>\n",
       "      <td>NaN</td>\n",
       "      <td>...</td>\n",
       "      <td>baseline_01</td>\n",
       "      <td>NaN</td>\n",
       "      <td>NaN</td>\n",
       "      <td>NaN</td>\n",
       "      <td>372.55</td>\n",
       "      <td>2025</td>\n",
       "      <td>30.067598</td>\n",
       "      <td>127.870733</td>\n",
       "      <td>0.0</td>\n",
       "      <td>2025</td>\n",
       "    </tr>\n",
       "    <tr>\n",
       "      <th>2025-01-02 03:00:00</th>\n",
       "      <td>-11.70</td>\n",
       "      <td>706407.54</td>\n",
       "      <td>77967.38</td>\n",
       "      <td>88983.69</td>\n",
       "      <td>705125.05</td>\n",
       "      <td>706407.54</td>\n",
       "      <td>77967.38</td>\n",
       "      <td>NaN</td>\n",
       "      <td>NaN</td>\n",
       "      <td>NaN</td>\n",
       "      <td>...</td>\n",
       "      <td>baseline_01</td>\n",
       "      <td>NaN</td>\n",
       "      <td>NaN</td>\n",
       "      <td>NaN</td>\n",
       "      <td>356.75</td>\n",
       "      <td>2025</td>\n",
       "      <td>31.744931</td>\n",
       "      <td>126.922509</td>\n",
       "      <td>0.0</td>\n",
       "      <td>2025</td>\n",
       "    </tr>\n",
       "    <tr>\n",
       "      <th>2025-01-02 04:00:00</th>\n",
       "      <td>-11.70</td>\n",
       "      <td>704279.20</td>\n",
       "      <td>85794.54</td>\n",
       "      <td>92897.27</td>\n",
       "      <td>702650.23</td>\n",
       "      <td>704279.20</td>\n",
       "      <td>85794.54</td>\n",
       "      <td>NaN</td>\n",
       "      <td>NaN</td>\n",
       "      <td>NaN</td>\n",
       "      <td>...</td>\n",
       "      <td>baseline_01</td>\n",
       "      <td>NaN</td>\n",
       "      <td>NaN</td>\n",
       "      <td>NaN</td>\n",
       "      <td>350.35</td>\n",
       "      <td>2025</td>\n",
       "      <td>32.546559</td>\n",
       "      <td>126.477041</td>\n",
       "      <td>0.0</td>\n",
       "      <td>2025</td>\n",
       "    </tr>\n",
       "    <tr>\n",
       "      <th>2025-01-02 05:00:00</th>\n",
       "      <td>-11.99</td>\n",
       "      <td>715288.84</td>\n",
       "      <td>89293.77</td>\n",
       "      <td>94646.89</td>\n",
       "      <td>715452.13</td>\n",
       "      <td>715288.84</td>\n",
       "      <td>89293.77</td>\n",
       "      <td>NaN</td>\n",
       "      <td>NaN</td>\n",
       "      <td>NaN</td>\n",
       "      <td>...</td>\n",
       "      <td>baseline_01</td>\n",
       "      <td>NaN</td>\n",
       "      <td>NaN</td>\n",
       "      <td>NaN</td>\n",
       "      <td>375.30</td>\n",
       "      <td>2025</td>\n",
       "      <td>35.520978</td>\n",
       "      <td>128.781383</td>\n",
       "      <td>0.0</td>\n",
       "      <td>2025</td>\n",
       "    </tr>\n",
       "    <tr>\n",
       "      <th>2025-01-02 06:00:00</th>\n",
       "      <td>-11.91</td>\n",
       "      <td>718766.28</td>\n",
       "      <td>90837.27</td>\n",
       "      <td>95418.63</td>\n",
       "      <td>719495.67</td>\n",
       "      <td>718766.28</td>\n",
       "      <td>90837.27</td>\n",
       "      <td>NaN</td>\n",
       "      <td>NaN</td>\n",
       "      <td>NaN</td>\n",
       "      <td>...</td>\n",
       "      <td>baseline_01</td>\n",
       "      <td>NaN</td>\n",
       "      <td>NaN</td>\n",
       "      <td>NaN</td>\n",
       "      <td>449.60</td>\n",
       "      <td>2025</td>\n",
       "      <td>42.900216</td>\n",
       "      <td>129.509221</td>\n",
       "      <td>0.0</td>\n",
       "      <td>2025</td>\n",
       "    </tr>\n",
       "  </tbody>\n",
       "</table>\n",
       "<p>30 rows × 39 columns</p>\n",
       "</div>"
      ],
      "text/plain": [
       "                     t_out_C  heating_W  cooling_W    elec_Wh     gas_Wh  \\\n",
       "timestamp                                                                  \n",
       "2025-01-01 01:00:00    -4.40  609230.13  127902.41  101719.46  579104.80   \n",
       "2025-01-01 02:00:00    -4.40  606900.34  174577.65  113388.27  576395.75   \n",
       "2025-01-01 03:00:00    -4.11  604168.53  186763.68  116177.45  572540.93   \n",
       "2025-01-01 04:00:00    -3.55  600461.65  199730.65  118930.48  566932.15   \n",
       "2025-01-01 05:00:00    -3.30  604703.00  205553.30  120168.95  571282.55   \n",
       "2025-01-01 06:00:00    -3.65  607617.81  200142.30  119120.55  575485.83   \n",
       "2025-01-01 07:00:00    -4.19  611215.73  191604.12  117460.94  580929.14   \n",
       "2025-01-01 08:00:00    -3.76  607994.13  113827.74   97636.52  576175.34   \n",
       "2025-01-01 09:00:00    -3.01  546663.14  109587.78   95153.51  503116.06   \n",
       "2025-01-01 10:00:00    -2.45  518821.39  125826.58   99506.04  469443.47   \n",
       "2025-01-01 11:00:00    -1.56  494195.62  153496.50  105668.00  438735.21   \n",
       "2025-01-01 12:00:00    -1.45  487443.57  162364.69  107794.03  430632.06   \n",
       "2025-01-01 13:00:00    -1.99  483818.45  153128.01  105941.61  427676.49   \n",
       "2025-01-01 14:00:00    -2.84  500469.35  135335.25  102218.77  449014.75   \n",
       "2025-01-01 15:00:00    -3.01  496728.78  130178.54  101073.10  445052.85   \n",
       "2025-01-01 16:00:00    -2.80  498164.56  135665.91  102265.63  446237.87   \n",
       "2025-01-01 17:00:00    -4.08  561067.93   96564.16   90772.05  522365.81   \n",
       "2025-01-01 18:00:00    -5.35  597933.37   72222.70   81309.16  568178.34   \n",
       "2025-01-01 19:00:00    -5.89  611523.30   62852.74   77567.84  585240.27   \n",
       "2025-01-01 20:00:00    -6.45  628074.30   53927.94   73950.83  605784.07   \n",
       "2025-01-01 21:00:00    -7.63  651466.86   35797.96   66340.50  635736.66   \n",
       "2025-01-01 22:00:00    -8.94  662557.67   15267.33   57179.14  651675.59   \n",
       "2025-01-01 23:00:00    -9.75  680094.52    4254.93   52052.14  673947.12   \n",
       "2025-01-02 00:00:00   -10.35  701267.36     980.45   50490.23  699148.10   \n",
       "2025-01-02 01:00:00   -10.89  703857.50   29439.75   64719.88  702159.88   \n",
       "2025-01-02 02:00:00   -11.45  710937.94   61415.11   80707.55  710392.96   \n",
       "2025-01-02 03:00:00   -11.70  706407.54   77967.38   88983.69  705125.05   \n",
       "2025-01-02 04:00:00   -11.70  704279.20   85794.54   92897.27  702650.23   \n",
       "2025-01-02 05:00:00   -11.99  715288.84   89293.77   94646.89  715452.13   \n",
       "2025-01-02 06:00:00   -11.91  718766.28   90837.27   95418.63  719495.67   \n",
       "\n",
       "                         hhw_W      chw_W  hr_hhw_W  hr_chw_W  hr_cop_h  ...  \\\n",
       "timestamp                                                                ...   \n",
       "2025-01-01 01:00:00  609230.13  127902.41       NaN       NaN       NaN  ...   \n",
       "2025-01-01 02:00:00  606900.34  174577.65       NaN       NaN       NaN  ...   \n",
       "2025-01-01 03:00:00  604168.53  186763.68       NaN       NaN       NaN  ...   \n",
       "2025-01-01 04:00:00  600461.65  199730.65       NaN       NaN       NaN  ...   \n",
       "2025-01-01 05:00:00  604703.00  205553.30       NaN       NaN       NaN  ...   \n",
       "2025-01-01 06:00:00  607617.81  200142.30       NaN       NaN       NaN  ...   \n",
       "2025-01-01 07:00:00  611215.73  191604.12       NaN       NaN       NaN  ...   \n",
       "2025-01-01 08:00:00  607994.13  113827.74       NaN       NaN       NaN  ...   \n",
       "2025-01-01 09:00:00  546663.14  109587.78       NaN       NaN       NaN  ...   \n",
       "2025-01-01 10:00:00  518821.39  125826.58       NaN       NaN       NaN  ...   \n",
       "2025-01-01 11:00:00  494195.62  153496.50       NaN       NaN       NaN  ...   \n",
       "2025-01-01 12:00:00  487443.57  162364.69       NaN       NaN       NaN  ...   \n",
       "2025-01-01 13:00:00  483818.45  153128.01       NaN       NaN       NaN  ...   \n",
       "2025-01-01 14:00:00  500469.35  135335.25       NaN       NaN       NaN  ...   \n",
       "2025-01-01 15:00:00  496728.78  130178.54       NaN       NaN       NaN  ...   \n",
       "2025-01-01 16:00:00  498164.56  135665.91       NaN       NaN       NaN  ...   \n",
       "2025-01-01 17:00:00  561067.93   96564.16       NaN       NaN       NaN  ...   \n",
       "2025-01-01 18:00:00  597933.37   72222.70       NaN       NaN       NaN  ...   \n",
       "2025-01-01 19:00:00  611523.30   62852.74       NaN       NaN       NaN  ...   \n",
       "2025-01-01 20:00:00  628074.30   53927.94       NaN       NaN       NaN  ...   \n",
       "2025-01-01 21:00:00  651466.86   35797.96       NaN       NaN       NaN  ...   \n",
       "2025-01-01 22:00:00  662557.67   15267.33       NaN       NaN       NaN  ...   \n",
       "2025-01-01 23:00:00  680094.52    4254.93       NaN       NaN       NaN  ...   \n",
       "2025-01-02 00:00:00  701267.36     980.45       NaN       NaN       NaN  ...   \n",
       "2025-01-02 01:00:00  703857.50   29439.75       NaN       NaN       NaN  ...   \n",
       "2025-01-02 02:00:00  710937.94   61415.11       NaN       NaN       NaN  ...   \n",
       "2025-01-02 03:00:00  706407.54   77967.38       NaN       NaN       NaN  ...   \n",
       "2025-01-02 04:00:00  704279.20   85794.54       NaN       NaN       NaN  ...   \n",
       "2025-01-02 05:00:00  715288.84   89293.77       NaN       NaN       NaN  ...   \n",
       "2025-01-02 06:00:00  718766.28   90837.27       NaN       NaN       NaN  ...   \n",
       "\n",
       "                     scenario_id  max_cap_h_hr_W  min_cap_h_hr_W  \\\n",
       "timestamp                                                          \n",
       "2025-01-01 01:00:00  baseline_01             NaN             NaN   \n",
       "2025-01-01 02:00:00  baseline_01             NaN             NaN   \n",
       "2025-01-01 03:00:00  baseline_01             NaN             NaN   \n",
       "2025-01-01 04:00:00  baseline_01             NaN             NaN   \n",
       "2025-01-01 05:00:00  baseline_01             NaN             NaN   \n",
       "2025-01-01 06:00:00  baseline_01             NaN             NaN   \n",
       "2025-01-01 07:00:00  baseline_01             NaN             NaN   \n",
       "2025-01-01 08:00:00  baseline_01             NaN             NaN   \n",
       "2025-01-01 09:00:00  baseline_01             NaN             NaN   \n",
       "2025-01-01 10:00:00  baseline_01             NaN             NaN   \n",
       "2025-01-01 11:00:00  baseline_01             NaN             NaN   \n",
       "2025-01-01 12:00:00  baseline_01             NaN             NaN   \n",
       "2025-01-01 13:00:00  baseline_01             NaN             NaN   \n",
       "2025-01-01 14:00:00  baseline_01             NaN             NaN   \n",
       "2025-01-01 15:00:00  baseline_01             NaN             NaN   \n",
       "2025-01-01 16:00:00  baseline_01             NaN             NaN   \n",
       "2025-01-01 17:00:00  baseline_01             NaN             NaN   \n",
       "2025-01-01 18:00:00  baseline_01             NaN             NaN   \n",
       "2025-01-01 19:00:00  baseline_01             NaN             NaN   \n",
       "2025-01-01 20:00:00  baseline_01             NaN             NaN   \n",
       "2025-01-01 21:00:00  baseline_01             NaN             NaN   \n",
       "2025-01-01 22:00:00  baseline_01             NaN             NaN   \n",
       "2025-01-01 23:00:00  baseline_01             NaN             NaN   \n",
       "2025-01-02 00:00:00  baseline_01             NaN             NaN   \n",
       "2025-01-02 01:00:00  baseline_01             NaN             NaN   \n",
       "2025-01-02 02:00:00  baseline_01             NaN             NaN   \n",
       "2025-01-02 03:00:00  baseline_01             NaN             NaN   \n",
       "2025-01-02 04:00:00  baseline_01             NaN             NaN   \n",
       "2025-01-02 05:00:00  baseline_01             NaN             NaN   \n",
       "2025-01-02 06:00:00  baseline_01             NaN             NaN   \n",
       "\n",
       "                     simult_h_hr_W  elec_emissions_rate  emission_year  \\\n",
       "timestamp                                                                \n",
       "2025-01-01 01:00:00            NaN               374.15           2025   \n",
       "2025-01-01 02:00:00            NaN               372.55           2025   \n",
       "2025-01-01 03:00:00            NaN               356.75           2025   \n",
       "2025-01-01 04:00:00            NaN               350.35           2025   \n",
       "2025-01-01 05:00:00            NaN               375.30           2025   \n",
       "2025-01-01 06:00:00            NaN               449.60           2025   \n",
       "2025-01-01 07:00:00            NaN               456.20           2025   \n",
       "2025-01-01 08:00:00            NaN               441.55           2025   \n",
       "2025-01-01 09:00:00            NaN               404.05           2025   \n",
       "2025-01-01 10:00:00            NaN               417.45           2025   \n",
       "2025-01-01 11:00:00            NaN               429.35           2025   \n",
       "2025-01-01 12:00:00            NaN               386.70           2025   \n",
       "2025-01-01 13:00:00            NaN               397.15           2025   \n",
       "2025-01-01 14:00:00            NaN               386.30           2025   \n",
       "2025-01-01 15:00:00            NaN               393.40           2025   \n",
       "2025-01-01 16:00:00            NaN               439.40           2025   \n",
       "2025-01-01 17:00:00            NaN               495.00           2025   \n",
       "2025-01-01 18:00:00            NaN               500.55           2025   \n",
       "2025-01-01 19:00:00            NaN               465.25           2025   \n",
       "2025-01-01 20:00:00            NaN               423.60           2025   \n",
       "2025-01-01 21:00:00            NaN               414.10           2025   \n",
       "2025-01-01 22:00:00            NaN               429.55           2025   \n",
       "2025-01-01 23:00:00            NaN               434.15           2025   \n",
       "2025-01-02 00:00:00            NaN               381.65           2025   \n",
       "2025-01-02 01:00:00            NaN               374.15           2025   \n",
       "2025-01-02 02:00:00            NaN               372.55           2025   \n",
       "2025-01-02 03:00:00            NaN               356.75           2025   \n",
       "2025-01-02 04:00:00            NaN               350.35           2025   \n",
       "2025-01-02 05:00:00            NaN               375.30           2025   \n",
       "2025-01-02 06:00:00            NaN               449.60           2025   \n",
       "\n",
       "                     elec_emissions  gas_emissions  total_refrig_emissions  \\\n",
       "timestamp                                                                    \n",
       "2025-01-01 01:00:00       38.058336     104.238864                     0.0   \n",
       "2025-01-01 02:00:00       42.242800     103.751235                     0.0   \n",
       "2025-01-01 03:00:00       41.446305     103.057367                     0.0   \n",
       "2025-01-01 04:00:00       41.667294     102.047787                     0.0   \n",
       "2025-01-01 05:00:00       45.099407     102.830859                     0.0   \n",
       "2025-01-01 06:00:00       53.556599     103.587449                     0.0   \n",
       "2025-01-01 07:00:00       53.585681     104.567245                     0.0   \n",
       "2025-01-01 08:00:00       43.111405     103.711561                     0.0   \n",
       "2025-01-01 09:00:00       38.446776      90.560891                     0.0   \n",
       "2025-01-01 10:00:00       41.538796      84.499825                     0.0   \n",
       "2025-01-01 11:00:00       45.368556      78.972338                     0.0   \n",
       "2025-01-01 12:00:00       41.683951      77.513771                     0.0   \n",
       "2025-01-01 13:00:00       42.074710      76.981768                     0.0   \n",
       "2025-01-01 14:00:00       39.487111      80.822655                     0.0   \n",
       "2025-01-01 15:00:00       39.762158      80.109513                     0.0   \n",
       "2025-01-01 16:00:00       44.935518      80.322817                     0.0   \n",
       "2025-01-01 17:00:00       44.932165      94.025846                     0.0   \n",
       "2025-01-01 18:00:00       40.699300     102.272101                     0.0   \n",
       "2025-01-01 19:00:00       36.088438     105.343249                     0.0   \n",
       "2025-01-01 20:00:00       31.325572     109.041133                     0.0   \n",
       "2025-01-01 21:00:00       27.471601     114.432599                     0.0   \n",
       "2025-01-01 22:00:00       24.561300     117.301606                     0.0   \n",
       "2025-01-01 23:00:00       22.598437     121.310482                     0.0   \n",
       "2025-01-02 00:00:00       19.269596     125.846658                     0.0   \n",
       "2025-01-02 01:00:00       24.214943     126.388778                     0.0   \n",
       "2025-01-02 02:00:00       30.067598     127.870733                     0.0   \n",
       "2025-01-02 03:00:00       31.744931     126.922509                     0.0   \n",
       "2025-01-02 04:00:00       32.546559     126.477041                     0.0   \n",
       "2025-01-02 05:00:00       35.520978     128.781383                     0.0   \n",
       "2025-01-02 06:00:00       42.900216     129.509221                     0.0   \n",
       "\n",
       "                     year  \n",
       "timestamp                  \n",
       "2025-01-01 01:00:00  2025  \n",
       "2025-01-01 02:00:00  2025  \n",
       "2025-01-01 03:00:00  2025  \n",
       "2025-01-01 04:00:00  2025  \n",
       "2025-01-01 05:00:00  2025  \n",
       "2025-01-01 06:00:00  2025  \n",
       "2025-01-01 07:00:00  2025  \n",
       "2025-01-01 08:00:00  2025  \n",
       "2025-01-01 09:00:00  2025  \n",
       "2025-01-01 10:00:00  2025  \n",
       "2025-01-01 11:00:00  2025  \n",
       "2025-01-01 12:00:00  2025  \n",
       "2025-01-01 13:00:00  2025  \n",
       "2025-01-01 14:00:00  2025  \n",
       "2025-01-01 15:00:00  2025  \n",
       "2025-01-01 16:00:00  2025  \n",
       "2025-01-01 17:00:00  2025  \n",
       "2025-01-01 18:00:00  2025  \n",
       "2025-01-01 19:00:00  2025  \n",
       "2025-01-01 20:00:00  2025  \n",
       "2025-01-01 21:00:00  2025  \n",
       "2025-01-01 22:00:00  2025  \n",
       "2025-01-01 23:00:00  2025  \n",
       "2025-01-02 00:00:00  2025  \n",
       "2025-01-02 01:00:00  2025  \n",
       "2025-01-02 02:00:00  2025  \n",
       "2025-01-02 03:00:00  2025  \n",
       "2025-01-02 04:00:00  2025  \n",
       "2025-01-02 05:00:00  2025  \n",
       "2025-01-02 06:00:00  2025  \n",
       "\n",
       "[30 rows x 39 columns]"
      ]
     },
     "execution_count": 10,
     "metadata": {},
     "output_type": "execute_result"
    }
   ],
   "source": [
    "from src.energy import site_to_source\n",
    "\n",
    "source_energy = site_to_source(site_energy, settings=settings.emissions, emissions=emissions_data)\n",
    "\n",
    "source_energy.head(30)\n"
   ]
  },
  {
   "cell_type": "code",
   "execution_count": 11,
   "id": "6aa161ec",
   "metadata": {},
   "outputs": [
    {
     "data": {
      "application/vnd.plotly.v1+json": {
       "config": {
        "plotlyServerURL": "https://plot.ly"
       },
       "data": [
        {
         "hovertemplate": "Type=Total<br>Electricity Use (kWh)=%{text}<br>Component=%{y}<extra></extra>",
         "legendgroup": "Total",
         "marker": {
          "color": "crimson",
          "pattern": {
           "shape": ""
          }
         },
         "name": "Total",
         "orientation": "h",
         "showlegend": true,
         "text": {
          "bdata": "vyZrIcR6d0E=",
          "dtype": "f8"
         },
         "textposition": "outside",
         "texttemplate": "%{text:.2s}",
         "type": "bar",
         "x": {
          "bdata": "vyZrIcR6d0E=",
          "dtype": "f8"
         },
         "xaxis": "x",
         "y": [
          "elec_Wh"
         ],
         "yaxis": "y"
        },
        {
         "hovertemplate": "Type=Component<br>Electricity Use (kWh)=%{text}<br>Component=%{y}<extra></extra>",
         "legendgroup": "Component",
         "marker": {
          "color": "steelblue",
          "pattern": {
           "shape": ""
          }
         },
         "name": "Component",
         "orientation": "h",
         "showlegend": true,
         "text": {
          "bdata": "JV0zw+wuakE6BmQ9cIVhQbnaitXAYFRBIZOMHFUUSEFcOBDCdDM6QcRkqkBzqyRB",
          "dtype": "f8"
         },
         "textposition": "outside",
         "texttemplate": "%{text:.2s}",
         "type": "bar",
         "x": {
          "bdata": "JV0zw+wuakE6BmQ9cIVhQbnaitXAYFRBIZOMHFUUSEFcOBDCdDM6QcRkqkBzqyRB",
          "dtype": "f8"
         },
         "xaxis": "x",
         "y": [
          "elec_chiller_Wh",
          "gas_boiler_Wh",
          "elec_res_Wh",
          "elec_awhp_c_Wh",
          "elec_awhp_h_Wh",
          "elec_hr_Wh"
         ],
         "yaxis": "y"
        }
       ],
       "layout": {
        "barmode": "relative",
        "legend": {
         "title": {
          "text": "Type"
         },
         "tracegroupgap": 0
        },
        "template": {
         "data": {
          "bar": [
           {
            "error_x": {
             "color": "rgb(51,51,51)"
            },
            "error_y": {
             "color": "rgb(51,51,51)"
            },
            "marker": {
             "line": {
              "color": "rgb(237,237,237)",
              "width": 0.5
             },
             "pattern": {
              "fillmode": "overlay",
              "size": 10,
              "solidity": 0.2
             }
            },
            "type": "bar"
           }
          ],
          "barpolar": [
           {
            "marker": {
             "line": {
              "color": "rgb(237,237,237)",
              "width": 0.5
             },
             "pattern": {
              "fillmode": "overlay",
              "size": 10,
              "solidity": 0.2
             }
            },
            "type": "barpolar"
           }
          ],
          "carpet": [
           {
            "aaxis": {
             "endlinecolor": "rgb(51,51,51)",
             "gridcolor": "white",
             "linecolor": "white",
             "minorgridcolor": "white",
             "startlinecolor": "rgb(51,51,51)"
            },
            "baxis": {
             "endlinecolor": "rgb(51,51,51)",
             "gridcolor": "white",
             "linecolor": "white",
             "minorgridcolor": "white",
             "startlinecolor": "rgb(51,51,51)"
            },
            "type": "carpet"
           }
          ],
          "choropleth": [
           {
            "colorbar": {
             "outlinewidth": 0,
             "tickcolor": "rgb(237,237,237)",
             "ticklen": 6,
             "ticks": "inside"
            },
            "type": "choropleth"
           }
          ],
          "contour": [
           {
            "colorbar": {
             "outlinewidth": 0,
             "tickcolor": "rgb(237,237,237)",
             "ticklen": 6,
             "ticks": "inside"
            },
            "colorscale": [
             [
              0,
              "rgb(20,44,66)"
             ],
             [
              1,
              "rgb(90,179,244)"
             ]
            ],
            "type": "contour"
           }
          ],
          "contourcarpet": [
           {
            "colorbar": {
             "outlinewidth": 0,
             "tickcolor": "rgb(237,237,237)",
             "ticklen": 6,
             "ticks": "inside"
            },
            "type": "contourcarpet"
           }
          ],
          "heatmap": [
           {
            "colorbar": {
             "outlinewidth": 0,
             "tickcolor": "rgb(237,237,237)",
             "ticklen": 6,
             "ticks": "inside"
            },
            "colorscale": [
             [
              0,
              "rgb(20,44,66)"
             ],
             [
              1,
              "rgb(90,179,244)"
             ]
            ],
            "type": "heatmap"
           }
          ],
          "histogram": [
           {
            "marker": {
             "pattern": {
              "fillmode": "overlay",
              "size": 10,
              "solidity": 0.2
             }
            },
            "type": "histogram"
           }
          ],
          "histogram2d": [
           {
            "colorbar": {
             "outlinewidth": 0,
             "tickcolor": "rgb(237,237,237)",
             "ticklen": 6,
             "ticks": "inside"
            },
            "colorscale": [
             [
              0,
              "rgb(20,44,66)"
             ],
             [
              1,
              "rgb(90,179,244)"
             ]
            ],
            "type": "histogram2d"
           }
          ],
          "histogram2dcontour": [
           {
            "colorbar": {
             "outlinewidth": 0,
             "tickcolor": "rgb(237,237,237)",
             "ticklen": 6,
             "ticks": "inside"
            },
            "colorscale": [
             [
              0,
              "rgb(20,44,66)"
             ],
             [
              1,
              "rgb(90,179,244)"
             ]
            ],
            "type": "histogram2dcontour"
           }
          ],
          "mesh3d": [
           {
            "colorbar": {
             "outlinewidth": 0,
             "tickcolor": "rgb(237,237,237)",
             "ticklen": 6,
             "ticks": "inside"
            },
            "type": "mesh3d"
           }
          ],
          "parcoords": [
           {
            "line": {
             "colorbar": {
              "outlinewidth": 0,
              "tickcolor": "rgb(237,237,237)",
              "ticklen": 6,
              "ticks": "inside"
             }
            },
            "type": "parcoords"
           }
          ],
          "pie": [
           {
            "automargin": true,
            "type": "pie"
           }
          ],
          "scatter": [
           {
            "fillpattern": {
             "fillmode": "overlay",
             "size": 10,
             "solidity": 0.2
            },
            "type": "scatter"
           }
          ],
          "scatter3d": [
           {
            "line": {
             "colorbar": {
              "outlinewidth": 0,
              "tickcolor": "rgb(237,237,237)",
              "ticklen": 6,
              "ticks": "inside"
             }
            },
            "marker": {
             "colorbar": {
              "outlinewidth": 0,
              "tickcolor": "rgb(237,237,237)",
              "ticklen": 6,
              "ticks": "inside"
             }
            },
            "type": "scatter3d"
           }
          ],
          "scattercarpet": [
           {
            "marker": {
             "colorbar": {
              "outlinewidth": 0,
              "tickcolor": "rgb(237,237,237)",
              "ticklen": 6,
              "ticks": "inside"
             }
            },
            "type": "scattercarpet"
           }
          ],
          "scattergeo": [
           {
            "marker": {
             "colorbar": {
              "outlinewidth": 0,
              "tickcolor": "rgb(237,237,237)",
              "ticklen": 6,
              "ticks": "inside"
             }
            },
            "type": "scattergeo"
           }
          ],
          "scattergl": [
           {
            "marker": {
             "colorbar": {
              "outlinewidth": 0,
              "tickcolor": "rgb(237,237,237)",
              "ticklen": 6,
              "ticks": "inside"
             }
            },
            "type": "scattergl"
           }
          ],
          "scattermap": [
           {
            "marker": {
             "colorbar": {
              "outlinewidth": 0,
              "tickcolor": "rgb(237,237,237)",
              "ticklen": 6,
              "ticks": "inside"
             }
            },
            "type": "scattermap"
           }
          ],
          "scattermapbox": [
           {
            "marker": {
             "colorbar": {
              "outlinewidth": 0,
              "tickcolor": "rgb(237,237,237)",
              "ticklen": 6,
              "ticks": "inside"
             }
            },
            "type": "scattermapbox"
           }
          ],
          "scatterpolar": [
           {
            "marker": {
             "colorbar": {
              "outlinewidth": 0,
              "tickcolor": "rgb(237,237,237)",
              "ticklen": 6,
              "ticks": "inside"
             }
            },
            "type": "scatterpolar"
           }
          ],
          "scatterpolargl": [
           {
            "marker": {
             "colorbar": {
              "outlinewidth": 0,
              "tickcolor": "rgb(237,237,237)",
              "ticklen": 6,
              "ticks": "inside"
             }
            },
            "type": "scatterpolargl"
           }
          ],
          "scatterternary": [
           {
            "marker": {
             "colorbar": {
              "outlinewidth": 0,
              "tickcolor": "rgb(237,237,237)",
              "ticklen": 6,
              "ticks": "inside"
             }
            },
            "type": "scatterternary"
           }
          ],
          "surface": [
           {
            "colorbar": {
             "outlinewidth": 0,
             "tickcolor": "rgb(237,237,237)",
             "ticklen": 6,
             "ticks": "inside"
            },
            "colorscale": [
             [
              0,
              "rgb(20,44,66)"
             ],
             [
              1,
              "rgb(90,179,244)"
             ]
            ],
            "type": "surface"
           }
          ],
          "table": [
           {
            "cells": {
             "fill": {
              "color": "rgb(237,237,237)"
             },
             "line": {
              "color": "white"
             }
            },
            "header": {
             "fill": {
              "color": "rgb(217,217,217)"
             },
             "line": {
              "color": "white"
             }
            },
            "type": "table"
           }
          ]
         },
         "layout": {
          "annotationdefaults": {
           "arrowhead": 0,
           "arrowwidth": 1
          },
          "autotypenumbers": "strict",
          "coloraxis": {
           "colorbar": {
            "outlinewidth": 0,
            "tickcolor": "rgb(237,237,237)",
            "ticklen": 6,
            "ticks": "inside"
           }
          },
          "colorscale": {
           "sequential": [
            [
             0,
             "rgb(20,44,66)"
            ],
            [
             1,
             "rgb(90,179,244)"
            ]
           ],
           "sequentialminus": [
            [
             0,
             "rgb(20,44,66)"
            ],
            [
             1,
             "rgb(90,179,244)"
            ]
           ]
          },
          "colorway": [
           "#277da1",
           "#577590",
           "#4d908e",
           "#43aa8b",
           "#90be6d",
           "#f9c74f",
           "#f9844a",
           "#f8961e",
           "#f3722c",
           "#f94144",
           "#a8dce2",
           "#b3bfc9",
           "#a8cfc9",
           "#a8dfd2",
           "#d2e8c0",
           "#fde7a6",
           "#f9cfbd",
           "#fbd3a7",
           "#f9b39c",
           "#f9a3a5"
          ],
          "font": {
           "color": "black",
           "family": "Helvetica, sans-serif",
           "size": 14
          },
          "geo": {
           "bgcolor": "white",
           "lakecolor": "white",
           "landcolor": "rgb(237,237,237)",
           "showlakes": true,
           "showland": true,
           "subunitcolor": "white"
          },
          "hoverlabel": {
           "align": "left"
          },
          "hovermode": "closest",
          "paper_bgcolor": "rgba(0,0,0,0)",
          "plot_bgcolor": "rgba(0,0,0,0)",
          "polar": {
           "angularaxis": {
            "gridcolor": "white",
            "linecolor": "white",
            "showgrid": true,
            "tickcolor": "rgb(51,51,51)",
            "ticks": "outside"
           },
           "bgcolor": "rgb(237,237,237)",
           "radialaxis": {
            "gridcolor": "white",
            "linecolor": "white",
            "showgrid": true,
            "tickcolor": "rgb(51,51,51)",
            "ticks": "outside"
           }
          },
          "scene": {
           "xaxis": {
            "backgroundcolor": "rgb(237,237,237)",
            "gridcolor": "white",
            "gridwidth": 2,
            "linecolor": "white",
            "showbackground": true,
            "showgrid": true,
            "tickcolor": "rgb(51,51,51)",
            "ticks": "outside",
            "zerolinecolor": "white"
           },
           "yaxis": {
            "backgroundcolor": "rgb(237,237,237)",
            "gridcolor": "white",
            "gridwidth": 2,
            "linecolor": "white",
            "showbackground": true,
            "showgrid": true,
            "tickcolor": "rgb(51,51,51)",
            "ticks": "outside",
            "zerolinecolor": "white"
           },
           "zaxis": {
            "backgroundcolor": "rgb(237,237,237)",
            "gridcolor": "white",
            "gridwidth": 2,
            "linecolor": "white",
            "showbackground": true,
            "showgrid": true,
            "tickcolor": "rgb(51,51,51)",
            "ticks": "outside",
            "zerolinecolor": "white"
           }
          },
          "shapedefaults": {
           "fillcolor": "black",
           "line": {
            "width": 0
           },
           "opacity": 0.3
          },
          "ternary": {
           "aaxis": {
            "gridcolor": "white",
            "linecolor": "white",
            "showgrid": true,
            "tickcolor": "rgb(51,51,51)",
            "ticks": "outside"
           },
           "baxis": {
            "gridcolor": "white",
            "linecolor": "white",
            "showgrid": true,
            "tickcolor": "rgb(51,51,51)",
            "ticks": "outside"
           },
           "bgcolor": "rgb(237,237,237)",
           "caxis": {
            "gridcolor": "white",
            "linecolor": "white",
            "showgrid": true,
            "tickcolor": "rgb(51,51,51)",
            "ticks": "outside"
           }
          },
          "xaxis": {
           "automargin": true,
           "gridcolor": "white",
           "linecolor": "white",
           "showgrid": true,
           "tickcolor": "rgb(51,51,51)",
           "ticks": "outside",
           "title": {
            "standoff": 15
           },
           "zerolinecolor": "white"
          },
          "yaxis": {
           "automargin": true,
           "gridcolor": "white",
           "linecolor": "white",
           "showgrid": true,
           "tickcolor": "rgb(51,51,51)",
           "ticks": "outside",
           "title": {
            "standoff": 15
           },
           "zerolinecolor": "white"
          }
         }
        },
        "title": {
         "text": "Annual Electricity Use by Component (kWh)"
        },
        "xaxis": {
         "anchor": "y",
         "domain": [
          0,
          1
         ],
         "title": {
          "text": "Electricity Use (kWh)"
         }
        },
        "yaxis": {
         "anchor": "x",
         "categoryorder": "total ascending",
         "domain": [
          0,
          1
         ],
         "title": {
          "text": "Component"
         }
        }
       }
      }
     },
     "metadata": {},
     "output_type": "display_data"
    }
   ],
   "source": [
    "#! Update for mutliple scenarios and years\n",
    "\n",
    "from src.visuals import plot_energy_breakdown\n",
    "\n",
    "df = source_energy.copy()\n",
    "\n",
    "plot_energy_breakdown(df)\n"
   ]
  },
  {
   "cell_type": "code",
   "execution_count": 12,
   "id": "312be981",
   "metadata": {},
   "outputs": [
    {
     "data": {
      "application/vnd.plotly.v1+json": {
       "config": {
        "plotlyServerURL": "https://plot.ly"
       },
       "data": [
        {
         "hovertemplate": "Scenario: baseline_01<br>Type: Gas<br>Category: Heating<br>kWh: 1635017<extra></extra>",
         "marker": {
          "color": "red",
          "opacity": 0.7
         },
         "showlegend": false,
         "type": "bar",
         "width": 0.2,
         "x": [
          "Gas"
         ],
         "xaxis": "x",
         "y": [
          1635017.37459
         ],
         "yaxis": "y"
        },
        {
         "hovertemplate": "Scenario: baseline_01<br>Type: Electricity<br>Category: Heating<br>kWh: 384011<extra></extra>",
         "marker": {
          "color": "red",
          "opacity": 0.7
         },
         "showlegend": false,
         "type": "bar",
         "width": 0.2,
         "x": [
          "Electricity"
         ],
         "xaxis": "x",
         "y": [
          384011.37015
         ],
         "yaxis": "y"
        },
        {
         "hovertemplate": "Scenario: baseline_01<br>Type: Electricity<br>Category: Cooling<br>kWh: 1822970<extra></extra>",
         "marker": {
          "color": "blue",
          "opacity": 0.7
         },
         "showlegend": false,
         "type": "bar",
         "width": 0.2,
         "x": [
          "Electricity"
         ],
         "xaxis": "x",
         "y": [
          1822969.9519200001
         ],
         "yaxis": "y"
        },
        {
         "hovertemplate": "Scenario: baseline_01<br>Type: Gas<br>Value: 294303.1 kgCO₂<extra></extra>",
         "marker": {
          "color": "yellow",
          "opacity": 0.7
         },
         "showlegend": false,
         "type": "bar",
         "width": 0.2,
         "x": [
          "Gas"
         ],
         "xaxis": "x2",
         "y": [
          294303.12742619996
         ],
         "yaxis": "y2"
        },
        {
         "hovertemplate": "Scenario: baseline_01<br>Type: Electricity<br>Value: 957880.0 kgCO₂<extra></extra>",
         "marker": {
          "color": "black",
          "opacity": 0.7
         },
         "showlegend": false,
         "type": "bar",
         "width": 0.2,
         "x": [
          "Electricity"
         ],
         "xaxis": "x2",
         "y": [
          957880.037914495
         ],
         "yaxis": "y2"
        },
        {
         "hovertemplate": "Scenario: baseline_01<br>Type: Refrigerant<br>Value: 0.0 kgCO₂<extra></extra>",
         "marker": {
          "color": "green",
          "opacity": 0.7
         },
         "showlegend": false,
         "type": "bar",
         "width": 0.2,
         "x": [
          "Refrigerant"
         ],
         "xaxis": "x2",
         "y": [
          0
         ],
         "yaxis": "y2"
        },
        {
         "hovertemplate": "Scenario: decarb_01<br>Type: Gas<br>Category: Heating<br>kWh: 0<extra></extra>",
         "marker": {
          "color": "red",
          "opacity": 0.5666666666666667
         },
         "showlegend": false,
         "type": "bar",
         "width": 0.2,
         "x": [
          "Gas"
         ],
         "xaxis": "x",
         "y": [
          0
         ],
         "yaxis": "y"
        },
        {
         "hovertemplate": "Scenario: decarb_01<br>Type: Electricity<br>Category: Heating<br>kWh: 821909<extra></extra>",
         "marker": {
          "color": "red",
          "opacity": 0.5666666666666667
         },
         "showlegend": false,
         "type": "bar",
         "width": 0.2,
         "x": [
          "Electricity"
         ],
         "xaxis": "x",
         "y": [
          821909.06442
         ],
         "yaxis": "y"
        },
        {
         "hovertemplate": "Scenario: decarb_01<br>Type: Electricity<br>Category: Cooling<br>kWh: 1676739<extra></extra>",
         "marker": {
          "color": "blue",
          "opacity": 0.5666666666666667
         },
         "showlegend": false,
         "type": "bar",
         "width": 0.2,
         "x": [
          "Electricity"
         ],
         "xaxis": "x",
         "y": [
          1676738.85977
         ],
         "yaxis": "y"
        },
        {
         "hovertemplate": "Scenario: decarb_01<br>Type: Gas<br>Value: 0.0 kgCO₂<extra></extra>",
         "marker": {
          "color": "yellow",
          "opacity": 0.5666666666666667
         },
         "showlegend": false,
         "type": "bar",
         "width": 0.2,
         "x": [
          "Gas"
         ],
         "xaxis": "x2",
         "y": [
          0
         ],
         "yaxis": "y2"
        },
        {
         "hovertemplate": "Scenario: decarb_01<br>Type: Electricity<br>Value: 1063876.7 kgCO₂<extra></extra>",
         "marker": {
          "color": "black",
          "opacity": 0.5666666666666667
         },
         "showlegend": false,
         "type": "bar",
         "width": 0.2,
         "x": [
          "Electricity"
         ],
         "xaxis": "x2",
         "y": [
          1063876.6618421646
         ],
         "yaxis": "y2"
        },
        {
         "hovertemplate": "Scenario: decarb_01<br>Type: Refrigerant<br>Value: 0.0 kgCO₂<extra></extra>",
         "marker": {
          "color": "green",
          "opacity": 0.5666666666666667
         },
         "showlegend": false,
         "type": "bar",
         "width": 0.2,
         "x": [
          "Refrigerant"
         ],
         "xaxis": "x2",
         "y": [
          0
         ],
         "yaxis": "y2"
        },
        {
         "hovertemplate": "Scenario: typ_01<br>Type: Gas<br>Category: Heating<br>kWh: 2958072<extra></extra>",
         "marker": {
          "color": "red",
          "opacity": 0.4333333333333333
         },
         "showlegend": false,
         "type": "bar",
         "width": 0.2,
         "x": [
          "Gas"
         ],
         "xaxis": "x",
         "y": [
          2958071.5846400005
         ],
         "yaxis": "y"
        },
        {
         "hovertemplate": "Scenario: typ_01<br>Type: Electricity<br>Category: Heating<br>kWh: 0<extra></extra>",
         "marker": {
          "color": "red",
          "opacity": 0.4333333333333333
         },
         "showlegend": false,
         "type": "bar",
         "width": 0.2,
         "x": [
          "Electricity"
         ],
         "xaxis": "x",
         "y": [
          0
         ],
         "yaxis": "y"
        },
        {
         "hovertemplate": "Scenario: typ_01<br>Type: Electricity<br>Category: Cooling<br>kWh: 2471078<extra></extra>",
         "marker": {
          "color": "blue",
          "opacity": 0.4333333333333333
         },
         "showlegend": false,
         "type": "bar",
         "width": 0.2,
         "x": [
          "Electricity"
         ],
         "xaxis": "x",
         "y": [
          2471077.67492
         ],
         "yaxis": "y"
        },
        {
         "hovertemplate": "Scenario: typ_01<br>Type: Gas<br>Value: 532452.9 kgCO₂<extra></extra>",
         "marker": {
          "color": "yellow",
          "opacity": 0.4333333333333333
         },
         "showlegend": false,
         "type": "bar",
         "width": 0.2,
         "x": [
          "Gas"
         ],
         "xaxis": "x2",
         "y": [
          532452.8852351999
         ],
         "yaxis": "y2"
        },
        {
         "hovertemplate": "Scenario: typ_01<br>Type: Electricity<br>Value: 1091962.4 kgCO₂<extra></extra>",
         "marker": {
          "color": "black",
          "opacity": 0.4333333333333333
         },
         "showlegend": false,
         "type": "bar",
         "width": 0.2,
         "x": [
          "Electricity"
         ],
         "xaxis": "x2",
         "y": [
          1091962.415035044
         ],
         "yaxis": "y2"
        },
        {
         "hovertemplate": "Scenario: typ_01<br>Type: Refrigerant<br>Value: 0.0 kgCO₂<extra></extra>",
         "marker": {
          "color": "green",
          "opacity": 0.4333333333333333
         },
         "showlegend": false,
         "type": "bar",
         "width": 0.2,
         "x": [
          "Refrigerant"
         ],
         "xaxis": "x2",
         "y": [
          0
         ],
         "yaxis": "y2"
        },
        {
         "hovertemplate": "Scenario: typ_02<br>Type: Gas<br>Category: Heating<br>kWh: 0<extra></extra>",
         "marker": {
          "color": "red",
          "opacity": 0.3
         },
         "showlegend": false,
         "type": "bar",
         "width": 0.2,
         "x": [
          "Gas"
         ],
         "xaxis": "x",
         "y": [
          0
         ],
         "yaxis": "y"
        },
        {
         "hovertemplate": "Scenario: typ_02<br>Type: Electricity<br>Category: Heating<br>kWh: 2662264<extra></extra>",
         "marker": {
          "color": "red",
          "opacity": 0.3
         },
         "showlegend": false,
         "type": "bar",
         "width": 0.2,
         "x": [
          "Electricity"
         ],
         "xaxis": "x",
         "y": [
          2662264.4259099998
         ],
         "yaxis": "y"
        },
        {
         "hovertemplate": "Scenario: typ_02<br>Type: Electricity<br>Category: Cooling<br>kWh: 2471078<extra></extra>",
         "marker": {
          "color": "blue",
          "opacity": 0.3
         },
         "showlegend": false,
         "type": "bar",
         "width": 0.2,
         "x": [
          "Electricity"
         ],
         "xaxis": "x",
         "y": [
          2471077.67492
         ],
         "yaxis": "y"
        },
        {
         "hovertemplate": "Scenario: typ_02<br>Type: Gas<br>Value: 0.0 kgCO₂<extra></extra>",
         "marker": {
          "color": "yellow",
          "opacity": 0.3
         },
         "showlegend": false,
         "type": "bar",
         "width": 0.2,
         "x": [
          "Gas"
         ],
         "xaxis": "x2",
         "y": [
          0
         ],
         "yaxis": "y2"
        },
        {
         "hovertemplate": "Scenario: typ_02<br>Type: Electricity<br>Value: 2157153.1 kgCO₂<extra></extra>",
         "marker": {
          "color": "black",
          "opacity": 0.3
         },
         "showlegend": false,
         "type": "bar",
         "width": 0.2,
         "x": [
          "Electricity"
         ],
         "xaxis": "x2",
         "y": [
          2157153.0632967283
         ],
         "yaxis": "y2"
        },
        {
         "hovertemplate": "Scenario: typ_02<br>Type: Refrigerant<br>Value: 0.0 kgCO₂<extra></extra>",
         "marker": {
          "color": "green",
          "opacity": 0.3
         },
         "showlegend": false,
         "type": "bar",
         "width": 0.2,
         "x": [
          "Refrigerant"
         ],
         "xaxis": "x2",
         "y": [
          0
         ],
         "yaxis": "y2"
        }
       ],
       "layout": {
        "barmode": "group",
        "template": {
         "data": {
          "bar": [
           {
            "error_x": {
             "color": "rgb(51,51,51)"
            },
            "error_y": {
             "color": "rgb(51,51,51)"
            },
            "marker": {
             "line": {
              "color": "rgb(237,237,237)",
              "width": 0.5
             },
             "pattern": {
              "fillmode": "overlay",
              "size": 10,
              "solidity": 0.2
             }
            },
            "type": "bar"
           }
          ],
          "barpolar": [
           {
            "marker": {
             "line": {
              "color": "rgb(237,237,237)",
              "width": 0.5
             },
             "pattern": {
              "fillmode": "overlay",
              "size": 10,
              "solidity": 0.2
             }
            },
            "type": "barpolar"
           }
          ],
          "carpet": [
           {
            "aaxis": {
             "endlinecolor": "rgb(51,51,51)",
             "gridcolor": "white",
             "linecolor": "white",
             "minorgridcolor": "white",
             "startlinecolor": "rgb(51,51,51)"
            },
            "baxis": {
             "endlinecolor": "rgb(51,51,51)",
             "gridcolor": "white",
             "linecolor": "white",
             "minorgridcolor": "white",
             "startlinecolor": "rgb(51,51,51)"
            },
            "type": "carpet"
           }
          ],
          "choropleth": [
           {
            "colorbar": {
             "outlinewidth": 0,
             "tickcolor": "rgb(237,237,237)",
             "ticklen": 6,
             "ticks": "inside"
            },
            "type": "choropleth"
           }
          ],
          "contour": [
           {
            "colorbar": {
             "outlinewidth": 0,
             "tickcolor": "rgb(237,237,237)",
             "ticklen": 6,
             "ticks": "inside"
            },
            "colorscale": [
             [
              0,
              "rgb(20,44,66)"
             ],
             [
              1,
              "rgb(90,179,244)"
             ]
            ],
            "type": "contour"
           }
          ],
          "contourcarpet": [
           {
            "colorbar": {
             "outlinewidth": 0,
             "tickcolor": "rgb(237,237,237)",
             "ticklen": 6,
             "ticks": "inside"
            },
            "type": "contourcarpet"
           }
          ],
          "heatmap": [
           {
            "colorbar": {
             "outlinewidth": 0,
             "tickcolor": "rgb(237,237,237)",
             "ticklen": 6,
             "ticks": "inside"
            },
            "colorscale": [
             [
              0,
              "rgb(20,44,66)"
             ],
             [
              1,
              "rgb(90,179,244)"
             ]
            ],
            "type": "heatmap"
           }
          ],
          "histogram": [
           {
            "marker": {
             "pattern": {
              "fillmode": "overlay",
              "size": 10,
              "solidity": 0.2
             }
            },
            "type": "histogram"
           }
          ],
          "histogram2d": [
           {
            "colorbar": {
             "outlinewidth": 0,
             "tickcolor": "rgb(237,237,237)",
             "ticklen": 6,
             "ticks": "inside"
            },
            "colorscale": [
             [
              0,
              "rgb(20,44,66)"
             ],
             [
              1,
              "rgb(90,179,244)"
             ]
            ],
            "type": "histogram2d"
           }
          ],
          "histogram2dcontour": [
           {
            "colorbar": {
             "outlinewidth": 0,
             "tickcolor": "rgb(237,237,237)",
             "ticklen": 6,
             "ticks": "inside"
            },
            "colorscale": [
             [
              0,
              "rgb(20,44,66)"
             ],
             [
              1,
              "rgb(90,179,244)"
             ]
            ],
            "type": "histogram2dcontour"
           }
          ],
          "mesh3d": [
           {
            "colorbar": {
             "outlinewidth": 0,
             "tickcolor": "rgb(237,237,237)",
             "ticklen": 6,
             "ticks": "inside"
            },
            "type": "mesh3d"
           }
          ],
          "parcoords": [
           {
            "line": {
             "colorbar": {
              "outlinewidth": 0,
              "tickcolor": "rgb(237,237,237)",
              "ticklen": 6,
              "ticks": "inside"
             }
            },
            "type": "parcoords"
           }
          ],
          "pie": [
           {
            "automargin": true,
            "type": "pie"
           }
          ],
          "scatter": [
           {
            "fillpattern": {
             "fillmode": "overlay",
             "size": 10,
             "solidity": 0.2
            },
            "type": "scatter"
           }
          ],
          "scatter3d": [
           {
            "line": {
             "colorbar": {
              "outlinewidth": 0,
              "tickcolor": "rgb(237,237,237)",
              "ticklen": 6,
              "ticks": "inside"
             }
            },
            "marker": {
             "colorbar": {
              "outlinewidth": 0,
              "tickcolor": "rgb(237,237,237)",
              "ticklen": 6,
              "ticks": "inside"
             }
            },
            "type": "scatter3d"
           }
          ],
          "scattercarpet": [
           {
            "marker": {
             "colorbar": {
              "outlinewidth": 0,
              "tickcolor": "rgb(237,237,237)",
              "ticklen": 6,
              "ticks": "inside"
             }
            },
            "type": "scattercarpet"
           }
          ],
          "scattergeo": [
           {
            "marker": {
             "colorbar": {
              "outlinewidth": 0,
              "tickcolor": "rgb(237,237,237)",
              "ticklen": 6,
              "ticks": "inside"
             }
            },
            "type": "scattergeo"
           }
          ],
          "scattergl": [
           {
            "marker": {
             "colorbar": {
              "outlinewidth": 0,
              "tickcolor": "rgb(237,237,237)",
              "ticklen": 6,
              "ticks": "inside"
             }
            },
            "type": "scattergl"
           }
          ],
          "scattermap": [
           {
            "marker": {
             "colorbar": {
              "outlinewidth": 0,
              "tickcolor": "rgb(237,237,237)",
              "ticklen": 6,
              "ticks": "inside"
             }
            },
            "type": "scattermap"
           }
          ],
          "scattermapbox": [
           {
            "marker": {
             "colorbar": {
              "outlinewidth": 0,
              "tickcolor": "rgb(237,237,237)",
              "ticklen": 6,
              "ticks": "inside"
             }
            },
            "type": "scattermapbox"
           }
          ],
          "scatterpolar": [
           {
            "marker": {
             "colorbar": {
              "outlinewidth": 0,
              "tickcolor": "rgb(237,237,237)",
              "ticklen": 6,
              "ticks": "inside"
             }
            },
            "type": "scatterpolar"
           }
          ],
          "scatterpolargl": [
           {
            "marker": {
             "colorbar": {
              "outlinewidth": 0,
              "tickcolor": "rgb(237,237,237)",
              "ticklen": 6,
              "ticks": "inside"
             }
            },
            "type": "scatterpolargl"
           }
          ],
          "scatterternary": [
           {
            "marker": {
             "colorbar": {
              "outlinewidth": 0,
              "tickcolor": "rgb(237,237,237)",
              "ticklen": 6,
              "ticks": "inside"
             }
            },
            "type": "scatterternary"
           }
          ],
          "surface": [
           {
            "colorbar": {
             "outlinewidth": 0,
             "tickcolor": "rgb(237,237,237)",
             "ticklen": 6,
             "ticks": "inside"
            },
            "colorscale": [
             [
              0,
              "rgb(20,44,66)"
             ],
             [
              1,
              "rgb(90,179,244)"
             ]
            ],
            "type": "surface"
           }
          ],
          "table": [
           {
            "cells": {
             "fill": {
              "color": "rgb(237,237,237)"
             },
             "line": {
              "color": "white"
             }
            },
            "header": {
             "fill": {
              "color": "rgb(217,217,217)"
             },
             "line": {
              "color": "white"
             }
            },
            "type": "table"
           }
          ]
         },
         "layout": {
          "annotationdefaults": {
           "arrowhead": 0,
           "arrowwidth": 1
          },
          "autotypenumbers": "strict",
          "coloraxis": {
           "colorbar": {
            "outlinewidth": 0,
            "tickcolor": "rgb(237,237,237)",
            "ticklen": 6,
            "ticks": "inside"
           }
          },
          "colorscale": {
           "sequential": [
            [
             0,
             "rgb(20,44,66)"
            ],
            [
             1,
             "rgb(90,179,244)"
            ]
           ],
           "sequentialminus": [
            [
             0,
             "rgb(20,44,66)"
            ],
            [
             1,
             "rgb(90,179,244)"
            ]
           ]
          },
          "colorway": [
           "#277da1",
           "#577590",
           "#4d908e",
           "#43aa8b",
           "#90be6d",
           "#f9c74f",
           "#f9844a",
           "#f8961e",
           "#f3722c",
           "#f94144",
           "#a8dce2",
           "#b3bfc9",
           "#a8cfc9",
           "#a8dfd2",
           "#d2e8c0",
           "#fde7a6",
           "#f9cfbd",
           "#fbd3a7",
           "#f9b39c",
           "#f9a3a5"
          ],
          "font": {
           "color": "black",
           "family": "Helvetica, sans-serif",
           "size": 14
          },
          "geo": {
           "bgcolor": "white",
           "lakecolor": "white",
           "landcolor": "rgb(237,237,237)",
           "showlakes": true,
           "showland": true,
           "subunitcolor": "white"
          },
          "hoverlabel": {
           "align": "left"
          },
          "hovermode": "closest",
          "paper_bgcolor": "rgba(0,0,0,0)",
          "plot_bgcolor": "rgba(0,0,0,0)",
          "polar": {
           "angularaxis": {
            "gridcolor": "white",
            "linecolor": "white",
            "showgrid": true,
            "tickcolor": "rgb(51,51,51)",
            "ticks": "outside"
           },
           "bgcolor": "rgb(237,237,237)",
           "radialaxis": {
            "gridcolor": "white",
            "linecolor": "white",
            "showgrid": true,
            "tickcolor": "rgb(51,51,51)",
            "ticks": "outside"
           }
          },
          "scene": {
           "xaxis": {
            "backgroundcolor": "rgb(237,237,237)",
            "gridcolor": "white",
            "gridwidth": 2,
            "linecolor": "white",
            "showbackground": true,
            "showgrid": true,
            "tickcolor": "rgb(51,51,51)",
            "ticks": "outside",
            "zerolinecolor": "white"
           },
           "yaxis": {
            "backgroundcolor": "rgb(237,237,237)",
            "gridcolor": "white",
            "gridwidth": 2,
            "linecolor": "white",
            "showbackground": true,
            "showgrid": true,
            "tickcolor": "rgb(51,51,51)",
            "ticks": "outside",
            "zerolinecolor": "white"
           },
           "zaxis": {
            "backgroundcolor": "rgb(237,237,237)",
            "gridcolor": "white",
            "gridwidth": 2,
            "linecolor": "white",
            "showbackground": true,
            "showgrid": true,
            "tickcolor": "rgb(51,51,51)",
            "ticks": "outside",
            "zerolinecolor": "white"
           }
          },
          "shapedefaults": {
           "fillcolor": "black",
           "line": {
            "width": 0
           },
           "opacity": 0.3
          },
          "ternary": {
           "aaxis": {
            "gridcolor": "white",
            "linecolor": "white",
            "showgrid": true,
            "tickcolor": "rgb(51,51,51)",
            "ticks": "outside"
           },
           "baxis": {
            "gridcolor": "white",
            "linecolor": "white",
            "showgrid": true,
            "tickcolor": "rgb(51,51,51)",
            "ticks": "outside"
           },
           "bgcolor": "rgb(237,237,237)",
           "caxis": {
            "gridcolor": "white",
            "linecolor": "white",
            "showgrid": true,
            "tickcolor": "rgb(51,51,51)",
            "ticks": "outside"
           }
          },
          "xaxis": {
           "automargin": true,
           "gridcolor": "white",
           "linecolor": "white",
           "showgrid": true,
           "tickcolor": "rgb(51,51,51)",
           "ticks": "outside",
           "title": {
            "standoff": 15
           },
           "zerolinecolor": "white"
          },
          "yaxis": {
           "automargin": true,
           "gridcolor": "white",
           "linecolor": "white",
           "showgrid": true,
           "tickcolor": "rgb(51,51,51)",
           "ticks": "outside",
           "title": {
            "standoff": 15
           },
           "zerolinecolor": "white"
          }
         }
        },
        "title": {
         "text": "Annual Energy & Emissions by Scenario, 2025"
        },
        "xaxis": {
         "anchor": "y",
         "domain": [
          0,
          0.3
         ]
        },
        "xaxis2": {
         "anchor": "y2",
         "domain": [
          0.5,
          1
         ]
        },
        "yaxis": {
         "anchor": "x",
         "domain": [
          0,
          1
         ],
         "title": {
          "text": "kWh"
         }
        },
        "yaxis2": {
         "anchor": "x2",
         "domain": [
          0,
          1
         ],
         "title": {
          "text": "Emissions [kgCO₂]"
         }
        }
       }
      }
     },
     "metadata": {},
     "output_type": "display_data"
    }
   ],
   "source": [
    "\n",
    "from src.visuals import plot_energy_and_emissions\n",
    "\n",
    "df = source_energy.copy()\n",
    "\n",
    "year = 2025\n",
    "\n",
    "plot_energy_and_emissions(df, year)\n"
   ]
  },
  {
   "cell_type": "code",
   "execution_count": 13,
   "id": "21b5d9bd",
   "metadata": {},
   "outputs": [
    {
     "data": {
      "application/vnd.plotly.v1+json": {
       "config": {
        "plotlyServerURL": "https://plot.ly"
       },
       "data": [
        {
         "colorbar": {
          "title": {
           "text": "Electricity Emissions (kg CO₂)"
          }
         },
         "colorscale": [
          [
           0,
           "rgb(255,255,217)"
          ],
          [
           0.125,
           "rgb(237,248,177)"
          ],
          [
           0.25,
           "rgb(199,233,180)"
          ],
          [
           0.375,
           "rgb(127,205,187)"
          ],
          [
           0.5,
           "rgb(65,182,196)"
          ],
          [
           0.625,
           "rgb(29,145,192)"
          ],
          [
           0.75,
           "rgb(34,94,168)"
          ],
          [
           0.875,
           "rgb(37,52,148)"
          ],
          [
           1,
           "rgb(8,29,88)"
          ]
         ],
         "hovertemplate": "Day of Year: %{x}<br>Hour: %{y}<br>Emissions: %{z:.2f} kg CO₂<extra></extra>",
         "type": "heatmap",
         "x": {
          "bdata": "AQAAAAIAAAADAAAABAAAAAUAAAAGAAAABwAAAAgAAAAJAAAACgAAAAsAAAAMAAAADQAAAA4AAAAPAAAAEAAAABEAAAASAAAAEwAAABQAAAAVAAAAFgAAABcAAAAYAAAAGQAAABoAAAAbAAAAHAAAAB0AAAAeAAAAHwAAACAAAAAhAAAAIgAAACMAAAAkAAAAJQAAACYAAAAnAAAAKAAAACkAAAAqAAAAKwAAACwAAAAtAAAALgAAAC8AAAAwAAAAMQAAADIAAAAzAAAANAAAADUAAAA2AAAANwAAADgAAAA5AAAAOgAAADsAAAA9AAAAPgAAAD8AAABAAAAAQQAAAEIAAABDAAAARAAAAEUAAABGAAAARwAAAEgAAABJAAAASgAAAEsAAABMAAAATQAAAE4AAABPAAAAUAAAAFEAAABSAAAAUwAAAFQAAABVAAAAVgAAAFcAAABYAAAAWQAAAFoAAABbAAAAXAAAAF0AAABeAAAAXwAAAGAAAABhAAAAYgAAAGMAAABkAAAAZQAAAGYAAABnAAAAaAAAAGkAAABqAAAAawAAAGwAAABtAAAAbgAAAG8AAABwAAAAcQAAAHIAAABzAAAAdAAAAHUAAAB2AAAAdwAAAHgAAAB5AAAAegAAAHsAAAB8AAAAfQAAAH4AAAB/AAAAgAAAAIEAAACCAAAAgwAAAIQAAACFAAAAhgAAAIcAAACIAAAAiQAAAIoAAACLAAAAjAAAAI0AAACOAAAAjwAAAJAAAACRAAAAkgAAAJMAAACUAAAAlQAAAJYAAACXAAAAmAAAAJkAAACaAAAAmwAAAJwAAACdAAAAngAAAJ8AAACgAAAAoQAAAKIAAACjAAAApAAAAKUAAACmAAAApwAAAKgAAACpAAAAqgAAAKsAAACsAAAArQAAAK4AAACvAAAAsAAAALEAAACyAAAAswAAALQAAAC1AAAAtgAAALcAAAC4AAAAuQAAALoAAAC7AAAAvAAAAL0AAAC+AAAAvwAAAMAAAADBAAAAwgAAAMMAAADEAAAAxQAAAMYAAADHAAAAyAAAAMkAAADKAAAAywAAAMwAAADNAAAAzgAAAM8AAADQAAAA0QAAANIAAADTAAAA1AAAANUAAADWAAAA1wAAANgAAADZAAAA2gAAANsAAADcAAAA3QAAAN4AAADfAAAA4AAAAOEAAADiAAAA4wAAAOQAAADlAAAA5gAAAOcAAADoAAAA6QAAAOoAAADrAAAA7AAAAO0AAADuAAAA7wAAAPAAAADxAAAA8gAAAPMAAAD0AAAA9QAAAPYAAAD3AAAA+AAAAPkAAAD6AAAA+wAAAPwAAAD9AAAA/gAAAP8AAAAAAQAAAQEAAAIBAAADAQAABAEAAAUBAAAGAQAABwEAAAgBAAAJAQAACgEAAAsBAAAMAQAADQEAAA4BAAAPAQAAEAEAABEBAAASAQAAEwEAABQBAAAVAQAAFgEAABcBAAAYAQAAGQEAABoBAAAbAQAAHAEAAB0BAAAeAQAAHwEAACABAAAhAQAAIgEAACMBAAAkAQAAJQEAACYBAAAnAQAAKAEAACkBAAAqAQAAKwEAACwBAAAtAQAALgEAAC8BAAAwAQAAMQEAADIBAAAzAQAANAEAADUBAAA2AQAANwEAADgBAAA5AQAAOgEAADsBAAA8AQAAPQEAAD4BAAA/AQAAQAEAAEEBAABCAQAAQwEAAEQBAABFAQAARgEAAEcBAABIAQAASQEAAEoBAABLAQAATAEAAE0BAABOAQAATwEAAFABAABRAQAAUgEAAFMBAABUAQAAVQEAAFYBAABXAQAAWAEAAFkBAABaAQAAWwEAAFwBAABdAQAAXgEAAF8BAABgAQAAYQEAAGIBAABjAQAAZAEAAGUBAABmAQAAZwEAAGgBAABpAQAAagEAAGsBAABsAQAAbQEAAG4BAAA=",
          "dtype": "i4"
         },
         "y": {
          "bdata": "AAAAAAEAAAACAAAAAwAAAAQAAAAFAAAABgAAAAcAAAAIAAAACQAAAAoAAAALAAAADAAAAA0AAAAOAAAADwAAABAAAAARAAAAEgAAABMAAAAUAAAAFQAAABYAAAAXAAAA",
          "dtype": "i4"
         },
         "z": {
          "bdata": "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",
          "dtype": "f8",
          "shape": "24, 365"
         },
         "zsmooth": "best"
        }
       ],
       "layout": {
        "template": {
         "data": {
          "bar": [
           {
            "error_x": {
             "color": "rgb(51,51,51)"
            },
            "error_y": {
             "color": "rgb(51,51,51)"
            },
            "marker": {
             "line": {
              "color": "rgb(237,237,237)",
              "width": 0.5
             },
             "pattern": {
              "fillmode": "overlay",
              "size": 10,
              "solidity": 0.2
             }
            },
            "type": "bar"
           }
          ],
          "barpolar": [
           {
            "marker": {
             "line": {
              "color": "rgb(237,237,237)",
              "width": 0.5
             },
             "pattern": {
              "fillmode": "overlay",
              "size": 10,
              "solidity": 0.2
             }
            },
            "type": "barpolar"
           }
          ],
          "carpet": [
           {
            "aaxis": {
             "endlinecolor": "rgb(51,51,51)",
             "gridcolor": "white",
             "linecolor": "white",
             "minorgridcolor": "white",
             "startlinecolor": "rgb(51,51,51)"
            },
            "baxis": {
             "endlinecolor": "rgb(51,51,51)",
             "gridcolor": "white",
             "linecolor": "white",
             "minorgridcolor": "white",
             "startlinecolor": "rgb(51,51,51)"
            },
            "type": "carpet"
           }
          ],
          "choropleth": [
           {
            "colorbar": {
             "outlinewidth": 0,
             "tickcolor": "rgb(237,237,237)",
             "ticklen": 6,
             "ticks": "inside"
            },
            "type": "choropleth"
           }
          ],
          "contour": [
           {
            "colorbar": {
             "outlinewidth": 0,
             "tickcolor": "rgb(237,237,237)",
             "ticklen": 6,
             "ticks": "inside"
            },
            "colorscale": [
             [
              0,
              "rgb(20,44,66)"
             ],
             [
              1,
              "rgb(90,179,244)"
             ]
            ],
            "type": "contour"
           }
          ],
          "contourcarpet": [
           {
            "colorbar": {
             "outlinewidth": 0,
             "tickcolor": "rgb(237,237,237)",
             "ticklen": 6,
             "ticks": "inside"
            },
            "type": "contourcarpet"
           }
          ],
          "heatmap": [
           {
            "colorbar": {
             "outlinewidth": 0,
             "tickcolor": "rgb(237,237,237)",
             "ticklen": 6,
             "ticks": "inside"
            },
            "colorscale": [
             [
              0,
              "rgb(20,44,66)"
             ],
             [
              1,
              "rgb(90,179,244)"
             ]
            ],
            "type": "heatmap"
           }
          ],
          "histogram": [
           {
            "marker": {
             "pattern": {
              "fillmode": "overlay",
              "size": 10,
              "solidity": 0.2
             }
            },
            "type": "histogram"
           }
          ],
          "histogram2d": [
           {
            "colorbar": {
             "outlinewidth": 0,
             "tickcolor": "rgb(237,237,237)",
             "ticklen": 6,
             "ticks": "inside"
            },
            "colorscale": [
             [
              0,
              "rgb(20,44,66)"
             ],
             [
              1,
              "rgb(90,179,244)"
             ]
            ],
            "type": "histogram2d"
           }
          ],
          "histogram2dcontour": [
           {
            "colorbar": {
             "outlinewidth": 0,
             "tickcolor": "rgb(237,237,237)",
             "ticklen": 6,
             "ticks": "inside"
            },
            "colorscale": [
             [
              0,
              "rgb(20,44,66)"
             ],
             [
              1,
              "rgb(90,179,244)"
             ]
            ],
            "type": "histogram2dcontour"
           }
          ],
          "mesh3d": [
           {
            "colorbar": {
             "outlinewidth": 0,
             "tickcolor": "rgb(237,237,237)",
             "ticklen": 6,
             "ticks": "inside"
            },
            "type": "mesh3d"
           }
          ],
          "parcoords": [
           {
            "line": {
             "colorbar": {
              "outlinewidth": 0,
              "tickcolor": "rgb(237,237,237)",
              "ticklen": 6,
              "ticks": "inside"
             }
            },
            "type": "parcoords"
           }
          ],
          "pie": [
           {
            "automargin": true,
            "type": "pie"
           }
          ],
          "scatter": [
           {
            "fillpattern": {
             "fillmode": "overlay",
             "size": 10,
             "solidity": 0.2
            },
            "type": "scatter"
           }
          ],
          "scatter3d": [
           {
            "line": {
             "colorbar": {
              "outlinewidth": 0,
              "tickcolor": "rgb(237,237,237)",
              "ticklen": 6,
              "ticks": "inside"
             }
            },
            "marker": {
             "colorbar": {
              "outlinewidth": 0,
              "tickcolor": "rgb(237,237,237)",
              "ticklen": 6,
              "ticks": "inside"
             }
            },
            "type": "scatter3d"
           }
          ],
          "scattercarpet": [
           {
            "marker": {
             "colorbar": {
              "outlinewidth": 0,
              "tickcolor": "rgb(237,237,237)",
              "ticklen": 6,
              "ticks": "inside"
             }
            },
            "type": "scattercarpet"
           }
          ],
          "scattergeo": [
           {
            "marker": {
             "colorbar": {
              "outlinewidth": 0,
              "tickcolor": "rgb(237,237,237)",
              "ticklen": 6,
              "ticks": "inside"
             }
            },
            "type": "scattergeo"
           }
          ],
          "scattergl": [
           {
            "marker": {
             "colorbar": {
              "outlinewidth": 0,
              "tickcolor": "rgb(237,237,237)",
              "ticklen": 6,
              "ticks": "inside"
             }
            },
            "type": "scattergl"
           }
          ],
          "scattermap": [
           {
            "marker": {
             "colorbar": {
              "outlinewidth": 0,
              "tickcolor": "rgb(237,237,237)",
              "ticklen": 6,
              "ticks": "inside"
             }
            },
            "type": "scattermap"
           }
          ],
          "scattermapbox": [
           {
            "marker": {
             "colorbar": {
              "outlinewidth": 0,
              "tickcolor": "rgb(237,237,237)",
              "ticklen": 6,
              "ticks": "inside"
             }
            },
            "type": "scattermapbox"
           }
          ],
          "scatterpolar": [
           {
            "marker": {
             "colorbar": {
              "outlinewidth": 0,
              "tickcolor": "rgb(237,237,237)",
              "ticklen": 6,
              "ticks": "inside"
             }
            },
            "type": "scatterpolar"
           }
          ],
          "scatterpolargl": [
           {
            "marker": {
             "colorbar": {
              "outlinewidth": 0,
              "tickcolor": "rgb(237,237,237)",
              "ticklen": 6,
              "ticks": "inside"
             }
            },
            "type": "scatterpolargl"
           }
          ],
          "scatterternary": [
           {
            "marker": {
             "colorbar": {
              "outlinewidth": 0,
              "tickcolor": "rgb(237,237,237)",
              "ticklen": 6,
              "ticks": "inside"
             }
            },
            "type": "scatterternary"
           }
          ],
          "surface": [
           {
            "colorbar": {
             "outlinewidth": 0,
             "tickcolor": "rgb(237,237,237)",
             "ticklen": 6,
             "ticks": "inside"
            },
            "colorscale": [
             [
              0,
              "rgb(20,44,66)"
             ],
             [
              1,
              "rgb(90,179,244)"
             ]
            ],
            "type": "surface"
           }
          ],
          "table": [
           {
            "cells": {
             "fill": {
              "color": "rgb(237,237,237)"
             },
             "line": {
              "color": "white"
             }
            },
            "header": {
             "fill": {
              "color": "rgb(217,217,217)"
             },
             "line": {
              "color": "white"
             }
            },
            "type": "table"
           }
          ]
         },
         "layout": {
          "annotationdefaults": {
           "arrowhead": 0,
           "arrowwidth": 1
          },
          "autotypenumbers": "strict",
          "coloraxis": {
           "colorbar": {
            "outlinewidth": 0,
            "tickcolor": "rgb(237,237,237)",
            "ticklen": 6,
            "ticks": "inside"
           }
          },
          "colorscale": {
           "sequential": [
            [
             0,
             "rgb(20,44,66)"
            ],
            [
             1,
             "rgb(90,179,244)"
            ]
           ],
           "sequentialminus": [
            [
             0,
             "rgb(20,44,66)"
            ],
            [
             1,
             "rgb(90,179,244)"
            ]
           ]
          },
          "colorway": [
           "#277da1",
           "#577590",
           "#4d908e",
           "#43aa8b",
           "#90be6d",
           "#f9c74f",
           "#f9844a",
           "#f8961e",
           "#f3722c",
           "#f94144",
           "#a8dce2",
           "#b3bfc9",
           "#a8cfc9",
           "#a8dfd2",
           "#d2e8c0",
           "#fde7a6",
           "#f9cfbd",
           "#fbd3a7",
           "#f9b39c",
           "#f9a3a5"
          ],
          "font": {
           "color": "black",
           "family": "Helvetica, sans-serif",
           "size": 14
          },
          "geo": {
           "bgcolor": "white",
           "lakecolor": "white",
           "landcolor": "rgb(237,237,237)",
           "showlakes": true,
           "showland": true,
           "subunitcolor": "white"
          },
          "hoverlabel": {
           "align": "left"
          },
          "hovermode": "closest",
          "paper_bgcolor": "rgba(0,0,0,0)",
          "plot_bgcolor": "rgba(0,0,0,0)",
          "polar": {
           "angularaxis": {
            "gridcolor": "white",
            "linecolor": "white",
            "showgrid": true,
            "tickcolor": "rgb(51,51,51)",
            "ticks": "outside"
           },
           "bgcolor": "rgb(237,237,237)",
           "radialaxis": {
            "gridcolor": "white",
            "linecolor": "white",
            "showgrid": true,
            "tickcolor": "rgb(51,51,51)",
            "ticks": "outside"
           }
          },
          "scene": {
           "xaxis": {
            "backgroundcolor": "rgb(237,237,237)",
            "gridcolor": "white",
            "gridwidth": 2,
            "linecolor": "white",
            "showbackground": true,
            "showgrid": true,
            "tickcolor": "rgb(51,51,51)",
            "ticks": "outside",
            "zerolinecolor": "white"
           },
           "yaxis": {
            "backgroundcolor": "rgb(237,237,237)",
            "gridcolor": "white",
            "gridwidth": 2,
            "linecolor": "white",
            "showbackground": true,
            "showgrid": true,
            "tickcolor": "rgb(51,51,51)",
            "ticks": "outside",
            "zerolinecolor": "white"
           },
           "zaxis": {
            "backgroundcolor": "rgb(237,237,237)",
            "gridcolor": "white",
            "gridwidth": 2,
            "linecolor": "white",
            "showbackground": true,
            "showgrid": true,
            "tickcolor": "rgb(51,51,51)",
            "ticks": "outside",
            "zerolinecolor": "white"
           }
          },
          "shapedefaults": {
           "fillcolor": "black",
           "line": {
            "width": 0
           },
           "opacity": 0.3
          },
          "ternary": {
           "aaxis": {
            "gridcolor": "white",
            "linecolor": "white",
            "showgrid": true,
            "tickcolor": "rgb(51,51,51)",
            "ticks": "outside"
           },
           "baxis": {
            "gridcolor": "white",
            "linecolor": "white",
            "showgrid": true,
            "tickcolor": "rgb(51,51,51)",
            "ticks": "outside"
           },
           "bgcolor": "rgb(237,237,237)",
           "caxis": {
            "gridcolor": "white",
            "linecolor": "white",
            "showgrid": true,
            "tickcolor": "rgb(51,51,51)",
            "ticks": "outside"
           }
          },
          "xaxis": {
           "automargin": true,
           "gridcolor": "white",
           "linecolor": "white",
           "showgrid": true,
           "tickcolor": "rgb(51,51,51)",
           "ticks": "outside",
           "title": {
            "standoff": 15
           },
           "zerolinecolor": "white"
          },
          "yaxis": {
           "automargin": true,
           "gridcolor": "white",
           "linecolor": "white",
           "showgrid": true,
           "tickcolor": "rgb(51,51,51)",
           "ticks": "outside",
           "title": {
            "standoff": 15
           },
           "zerolinecolor": "white"
          }
         }
        },
        "title": {
         "text": "Electricity Emissions Heatmap (Hour of Day vs. Day of Year)"
        },
        "xaxis": {
         "title": {
          "text": "Day of Year"
         }
        },
        "yaxis": {
         "title": {
          "text": "Hour of Day"
         }
        }
       }
      }
     },
     "metadata": {},
     "output_type": "display_data"
    }
   ],
   "source": [
    "#! Update for mutliple scenarios\n",
    "\n",
    "from src.visuals import plot_emissions_heatmap\n",
    "\n",
    "df = source_energy.copy()\n",
    "\n",
    "year = 2040\n",
    "\n",
    "plot_emissions_heatmap(df, year)\n"
   ]
  },
  {
   "cell_type": "code",
   "execution_count": 14,
   "id": "d3ce94da",
   "metadata": {},
   "outputs": [
    {
     "data": {
      "application/vnd.plotly.v1+json": {
       "config": {
        "plotlyServerURL": "https://plot.ly"
       },
       "data": [
        {
         "fillpattern": {
          "shape": ""
         },
         "hovertemplate": "Meter=elec_chiller_Wh<br>timestamp=%{x}<br>Usage=%{y}<extra></extra>",
         "legendgroup": "elec_chiller_Wh",
         "line": {
          "color": "#277da1"
         },
         "marker": {
          "symbol": "circle"
         },
         "mode": "lines",
         "name": "elec_chiller_Wh",
         "orientation": "v",
         "showlegend": true,
         "stackgroup": "one",
         "type": "scatter",
         "x": [
          "2025-01-01T00:00:00.000000000",
          "2025-01-02T00:00:00.000000000",
          "2025-01-03T00:00:00.000000000",
          "2025-01-04T00:00:00.000000000",
          "2025-01-05T00:00:00.000000000",
          "2025-01-06T00:00:00.000000000",
          "2025-01-07T00:00:00.000000000",
          "2025-01-08T00:00:00.000000000",
          "2025-01-09T00:00:00.000000000",
          "2025-01-10T00:00:00.000000000",
          "2025-01-11T00:00:00.000000000",
          "2025-01-12T00:00:00.000000000",
          "2025-01-13T00:00:00.000000000",
          "2025-01-14T00:00:00.000000000",
          "2025-01-15T00:00:00.000000000",
          "2025-01-16T00:00:00.000000000",
          "2025-01-17T00:00:00.000000000",
          "2025-01-18T00:00:00.000000000",
          "2025-01-19T00:00:00.000000000",
          "2025-01-20T00:00:00.000000000",
          "2025-01-21T00:00:00.000000000",
          "2025-01-22T00:00:00.000000000",
          "2025-01-23T00:00:00.000000000",
          "2025-01-24T00:00:00.000000000",
          "2025-01-25T00:00:00.000000000",
          "2025-01-26T00:00:00.000000000",
          "2025-01-27T00:00:00.000000000",
          "2025-01-28T00:00:00.000000000",
          "2025-01-29T00:00:00.000000000",
          "2025-01-30T00:00:00.000000000",
          "2025-01-31T00:00:00.000000000",
          "2025-02-01T00:00:00.000000000",
          "2025-02-02T00:00:00.000000000",
          "2025-02-03T00:00:00.000000000",
          "2025-02-04T00:00:00.000000000",
          "2025-02-05T00:00:00.000000000",
          "2025-02-06T00:00:00.000000000",
          "2025-02-07T00:00:00.000000000",
          "2025-02-08T00:00:00.000000000",
          "2025-02-09T00:00:00.000000000",
          "2025-02-10T00:00:00.000000000",
          "2025-02-11T00:00:00.000000000",
          "2025-02-12T00:00:00.000000000",
          "2025-02-13T00:00:00.000000000",
          "2025-02-14T00:00:00.000000000",
          "2025-02-15T00:00:00.000000000",
          "2025-02-16T00:00:00.000000000",
          "2025-02-17T00:00:00.000000000",
          "2025-02-18T00:00:00.000000000",
          "2025-02-19T00:00:00.000000000",
          "2025-02-20T00:00:00.000000000",
          "2025-02-21T00:00:00.000000000",
          "2025-02-22T00:00:00.000000000",
          "2025-02-23T00:00:00.000000000",
          "2025-02-24T00:00:00.000000000",
          "2025-02-25T00:00:00.000000000",
          "2025-02-26T00:00:00.000000000",
          "2025-02-27T00:00:00.000000000",
          "2025-02-28T00:00:00.000000000",
          "2025-03-01T00:00:00.000000000",
          "2025-03-02T00:00:00.000000000",
          "2025-03-03T00:00:00.000000000",
          "2025-03-04T00:00:00.000000000",
          "2025-03-05T00:00:00.000000000",
          "2025-03-06T00:00:00.000000000",
          "2025-03-07T00:00:00.000000000",
          "2025-03-08T00:00:00.000000000",
          "2025-03-09T00:00:00.000000000",
          "2025-03-10T00:00:00.000000000",
          "2025-03-11T00:00:00.000000000",
          "2025-03-12T00:00:00.000000000",
          "2025-03-13T00:00:00.000000000",
          "2025-03-14T00:00:00.000000000",
          "2025-03-15T00:00:00.000000000",
          "2025-03-16T00:00:00.000000000",
          "2025-03-17T00:00:00.000000000",
          "2025-03-18T00:00:00.000000000",
          "2025-03-19T00:00:00.000000000",
          "2025-03-20T00:00:00.000000000",
          "2025-03-21T00:00:00.000000000",
          "2025-03-22T00:00:00.000000000",
          "2025-03-23T00:00:00.000000000",
          "2025-03-24T00:00:00.000000000",
          "2025-03-25T00:00:00.000000000",
          "2025-03-26T00:00:00.000000000",
          "2025-03-27T00:00:00.000000000",
          "2025-03-28T00:00:00.000000000",
          "2025-03-29T00:00:00.000000000",
          "2025-03-30T00:00:00.000000000",
          "2025-03-31T00:00:00.000000000",
          "2025-04-01T00:00:00.000000000",
          "2025-04-02T00:00:00.000000000",
          "2025-04-03T00:00:00.000000000",
          "2025-04-04T00:00:00.000000000",
          "2025-04-05T00:00:00.000000000",
          "2025-04-06T00:00:00.000000000",
          "2025-04-07T00:00:00.000000000",
          "2025-04-08T00:00:00.000000000",
          "2025-04-09T00:00:00.000000000",
          "2025-04-10T00:00:00.000000000",
          "2025-04-11T00:00:00.000000000",
          "2025-04-12T00:00:00.000000000",
          "2025-04-13T00:00:00.000000000",
          "2025-04-14T00:00:00.000000000",
          "2025-04-15T00:00:00.000000000",
          "2025-04-16T00:00:00.000000000",
          "2025-04-17T00:00:00.000000000",
          "2025-04-18T00:00:00.000000000",
          "2025-04-19T00:00:00.000000000",
          "2025-04-20T00:00:00.000000000",
          "2025-04-21T00:00:00.000000000",
          "2025-04-22T00:00:00.000000000",
          "2025-04-23T00:00:00.000000000",
          "2025-04-24T00:00:00.000000000",
          "2025-04-25T00:00:00.000000000",
          "2025-04-26T00:00:00.000000000",
          "2025-04-27T00:00:00.000000000",
          "2025-04-28T00:00:00.000000000",
          "2025-04-29T00:00:00.000000000",
          "2025-04-30T00:00:00.000000000",
          "2025-05-01T00:00:00.000000000",
          "2025-05-02T00:00:00.000000000",
          "2025-05-03T00:00:00.000000000",
          "2025-05-04T00:00:00.000000000",
          "2025-05-05T00:00:00.000000000",
          "2025-05-06T00:00:00.000000000",
          "2025-05-07T00:00:00.000000000",
          "2025-05-08T00:00:00.000000000",
          "2025-05-09T00:00:00.000000000",
          "2025-05-10T00:00:00.000000000",
          "2025-05-11T00:00:00.000000000",
          "2025-05-12T00:00:00.000000000",
          "2025-05-13T00:00:00.000000000",
          "2025-05-14T00:00:00.000000000",
          "2025-05-15T00:00:00.000000000",
          "2025-05-16T00:00:00.000000000",
          "2025-05-17T00:00:00.000000000",
          "2025-05-18T00:00:00.000000000",
          "2025-05-19T00:00:00.000000000",
          "2025-05-20T00:00:00.000000000",
          "2025-05-21T00:00:00.000000000",
          "2025-05-22T00:00:00.000000000",
          "2025-05-23T00:00:00.000000000",
          "2025-05-24T00:00:00.000000000",
          "2025-05-25T00:00:00.000000000",
          "2025-05-26T00:00:00.000000000",
          "2025-05-27T00:00:00.000000000",
          "2025-05-28T00:00:00.000000000",
          "2025-05-29T00:00:00.000000000",
          "2025-05-30T00:00:00.000000000",
          "2025-05-31T00:00:00.000000000",
          "2025-06-01T00:00:00.000000000",
          "2025-06-02T00:00:00.000000000",
          "2025-06-03T00:00:00.000000000",
          "2025-06-04T00:00:00.000000000",
          "2025-06-05T00:00:00.000000000",
          "2025-06-06T00:00:00.000000000",
          "2025-06-07T00:00:00.000000000",
          "2025-06-08T00:00:00.000000000",
          "2025-06-09T00:00:00.000000000",
          "2025-06-10T00:00:00.000000000",
          "2025-06-11T00:00:00.000000000",
          "2025-06-12T00:00:00.000000000",
          "2025-06-13T00:00:00.000000000",
          "2025-06-14T00:00:00.000000000",
          "2025-06-15T00:00:00.000000000",
          "2025-06-16T00:00:00.000000000",
          "2025-06-17T00:00:00.000000000",
          "2025-06-18T00:00:00.000000000",
          "2025-06-19T00:00:00.000000000",
          "2025-06-20T00:00:00.000000000",
          "2025-06-21T00:00:00.000000000",
          "2025-06-22T00:00:00.000000000",
          "2025-06-23T00:00:00.000000000",
          "2025-06-24T00:00:00.000000000",
          "2025-06-25T00:00:00.000000000",
          "2025-06-26T00:00:00.000000000",
          "2025-06-27T00:00:00.000000000",
          "2025-06-28T00:00:00.000000000",
          "2025-06-29T00:00:00.000000000",
          "2025-06-30T00:00:00.000000000",
          "2025-07-01T00:00:00.000000000",
          "2025-07-02T00:00:00.000000000",
          "2025-07-03T00:00:00.000000000",
          "2025-07-04T00:00:00.000000000",
          "2025-07-05T00:00:00.000000000",
          "2025-07-06T00:00:00.000000000",
          "2025-07-07T00:00:00.000000000",
          "2025-07-08T00:00:00.000000000",
          "2025-07-09T00:00:00.000000000",
          "2025-07-10T00:00:00.000000000",
          "2025-07-11T00:00:00.000000000",
          "2025-07-12T00:00:00.000000000",
          "2025-07-13T00:00:00.000000000",
          "2025-07-14T00:00:00.000000000",
          "2025-07-15T00:00:00.000000000",
          "2025-07-16T00:00:00.000000000",
          "2025-07-17T00:00:00.000000000",
          "2025-07-18T00:00:00.000000000",
          "2025-07-19T00:00:00.000000000",
          "2025-07-20T00:00:00.000000000",
          "2025-07-21T00:00:00.000000000",
          "2025-07-22T00:00:00.000000000",
          "2025-07-23T00:00:00.000000000",
          "2025-07-24T00:00:00.000000000",
          "2025-07-25T00:00:00.000000000",
          "2025-07-26T00:00:00.000000000",
          "2025-07-27T00:00:00.000000000",
          "2025-07-28T00:00:00.000000000",
          "2025-07-29T00:00:00.000000000",
          "2025-07-30T00:00:00.000000000",
          "2025-07-31T00:00:00.000000000",
          "2025-08-01T00:00:00.000000000",
          "2025-08-02T00:00:00.000000000",
          "2025-08-03T00:00:00.000000000",
          "2025-08-04T00:00:00.000000000",
          "2025-08-05T00:00:00.000000000",
          "2025-08-06T00:00:00.000000000",
          "2025-08-07T00:00:00.000000000",
          "2025-08-08T00:00:00.000000000",
          "2025-08-09T00:00:00.000000000",
          "2025-08-10T00:00:00.000000000",
          "2025-08-11T00:00:00.000000000",
          "2025-08-12T00:00:00.000000000",
          "2025-08-13T00:00:00.000000000",
          "2025-08-14T00:00:00.000000000",
          "2025-08-15T00:00:00.000000000",
          "2025-08-16T00:00:00.000000000",
          "2025-08-17T00:00:00.000000000",
          "2025-08-18T00:00:00.000000000",
          "2025-08-19T00:00:00.000000000",
          "2025-08-20T00:00:00.000000000",
          "2025-08-21T00:00:00.000000000",
          "2025-08-22T00:00:00.000000000",
          "2025-08-23T00:00:00.000000000",
          "2025-08-24T00:00:00.000000000",
          "2025-08-25T00:00:00.000000000",
          "2025-08-26T00:00:00.000000000",
          "2025-08-27T00:00:00.000000000",
          "2025-08-28T00:00:00.000000000",
          "2025-08-29T00:00:00.000000000",
          "2025-08-30T00:00:00.000000000",
          "2025-08-31T00:00:00.000000000",
          "2025-09-01T00:00:00.000000000",
          "2025-09-02T00:00:00.000000000",
          "2025-09-03T00:00:00.000000000",
          "2025-09-04T00:00:00.000000000",
          "2025-09-05T00:00:00.000000000",
          "2025-09-06T00:00:00.000000000",
          "2025-09-07T00:00:00.000000000",
          "2025-09-08T00:00:00.000000000",
          "2025-09-09T00:00:00.000000000",
          "2025-09-10T00:00:00.000000000",
          "2025-09-11T00:00:00.000000000",
          "2025-09-12T00:00:00.000000000",
          "2025-09-13T00:00:00.000000000",
          "2025-09-14T00:00:00.000000000",
          "2025-09-15T00:00:00.000000000",
          "2025-09-16T00:00:00.000000000",
          "2025-09-17T00:00:00.000000000",
          "2025-09-18T00:00:00.000000000",
          "2025-09-19T00:00:00.000000000",
          "2025-09-20T00:00:00.000000000",
          "2025-09-21T00:00:00.000000000",
          "2025-09-22T00:00:00.000000000",
          "2025-09-23T00:00:00.000000000",
          "2025-09-24T00:00:00.000000000",
          "2025-09-25T00:00:00.000000000",
          "2025-09-26T00:00:00.000000000",
          "2025-09-27T00:00:00.000000000",
          "2025-09-28T00:00:00.000000000",
          "2025-09-29T00:00:00.000000000",
          "2025-09-30T00:00:00.000000000",
          "2025-10-01T00:00:00.000000000",
          "2025-10-02T00:00:00.000000000",
          "2025-10-03T00:00:00.000000000",
          "2025-10-04T00:00:00.000000000",
          "2025-10-05T00:00:00.000000000",
          "2025-10-06T00:00:00.000000000",
          "2025-10-07T00:00:00.000000000",
          "2025-10-08T00:00:00.000000000",
          "2025-10-09T00:00:00.000000000",
          "2025-10-10T00:00:00.000000000",
          "2025-10-11T00:00:00.000000000",
          "2025-10-12T00:00:00.000000000",
          "2025-10-13T00:00:00.000000000",
          "2025-10-14T00:00:00.000000000",
          "2025-10-15T00:00:00.000000000",
          "2025-10-16T00:00:00.000000000",
          "2025-10-17T00:00:00.000000000",
          "2025-10-18T00:00:00.000000000",
          "2025-10-19T00:00:00.000000000",
          "2025-10-20T00:00:00.000000000",
          "2025-10-21T00:00:00.000000000",
          "2025-10-22T00:00:00.000000000",
          "2025-10-23T00:00:00.000000000",
          "2025-10-24T00:00:00.000000000",
          "2025-10-25T00:00:00.000000000",
          "2025-10-26T00:00:00.000000000",
          "2025-10-27T00:00:00.000000000",
          "2025-10-28T00:00:00.000000000",
          "2025-10-29T00:00:00.000000000",
          "2025-10-30T00:00:00.000000000",
          "2025-10-31T00:00:00.000000000",
          "2025-11-01T00:00:00.000000000",
          "2025-11-02T00:00:00.000000000",
          "2025-11-03T00:00:00.000000000",
          "2025-11-04T00:00:00.000000000",
          "2025-11-05T00:00:00.000000000",
          "2025-11-06T00:00:00.000000000",
          "2025-11-07T00:00:00.000000000",
          "2025-11-08T00:00:00.000000000",
          "2025-11-09T00:00:00.000000000",
          "2025-11-10T00:00:00.000000000",
          "2025-11-11T00:00:00.000000000",
          "2025-11-12T00:00:00.000000000",
          "2025-11-13T00:00:00.000000000",
          "2025-11-14T00:00:00.000000000",
          "2025-11-15T00:00:00.000000000",
          "2025-11-16T00:00:00.000000000",
          "2025-11-17T00:00:00.000000000",
          "2025-11-18T00:00:00.000000000",
          "2025-11-19T00:00:00.000000000",
          "2025-11-20T00:00:00.000000000",
          "2025-11-21T00:00:00.000000000",
          "2025-11-22T00:00:00.000000000",
          "2025-11-23T00:00:00.000000000",
          "2025-11-24T00:00:00.000000000",
          "2025-11-25T00:00:00.000000000",
          "2025-11-26T00:00:00.000000000",
          "2025-11-27T00:00:00.000000000",
          "2025-11-28T00:00:00.000000000",
          "2025-11-29T00:00:00.000000000",
          "2025-11-30T00:00:00.000000000",
          "2025-12-01T00:00:00.000000000",
          "2025-12-02T00:00:00.000000000",
          "2025-12-03T00:00:00.000000000",
          "2025-12-04T00:00:00.000000000",
          "2025-12-05T00:00:00.000000000",
          "2025-12-06T00:00:00.000000000",
          "2025-12-07T00:00:00.000000000",
          "2025-12-08T00:00:00.000000000",
          "2025-12-09T00:00:00.000000000",
          "2025-12-10T00:00:00.000000000",
          "2025-12-11T00:00:00.000000000",
          "2025-12-12T00:00:00.000000000",
          "2025-12-13T00:00:00.000000000",
          "2025-12-14T00:00:00.000000000",
          "2025-12-15T00:00:00.000000000",
          "2025-12-16T00:00:00.000000000",
          "2025-12-17T00:00:00.000000000",
          "2025-12-18T00:00:00.000000000",
          "2025-12-19T00:00:00.000000000",
          "2025-12-20T00:00:00.000000000",
          "2025-12-21T00:00:00.000000000",
          "2025-12-22T00:00:00.000000000",
          "2025-12-23T00:00:00.000000000",
          "2025-12-24T00:00:00.000000000",
          "2025-12-25T00:00:00.000000000",
          "2025-12-26T00:00:00.000000000",
          "2025-12-27T00:00:00.000000000",
          "2025-12-28T00:00:00.000000000",
          "2025-12-29T00:00:00.000000000",
          "2025-12-30T00:00:00.000000000",
          "2025-12-31T00:00:00.000000000"
         ],
         "xaxis": "x",
         "y": {
          "bdata": "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",
          "dtype": "f8"
         },
         "yaxis": "y"
        },
        {
         "fillpattern": {
          "shape": ""
         },
         "hovertemplate": "Meter=gas_boiler_Wh<br>timestamp=%{x}<br>Usage=%{y}<extra></extra>",
         "legendgroup": "gas_boiler_Wh",
         "line": {
          "color": "#577590"
         },
         "marker": {
          "symbol": "circle"
         },
         "mode": "lines",
         "name": "gas_boiler_Wh",
         "orientation": "v",
         "showlegend": true,
         "stackgroup": "one",
         "type": "scatter",
         "x": [
          "2025-01-01T00:00:00.000000000",
          "2025-01-02T00:00:00.000000000",
          "2025-01-03T00:00:00.000000000",
          "2025-01-04T00:00:00.000000000",
          "2025-01-05T00:00:00.000000000",
          "2025-01-06T00:00:00.000000000",
          "2025-01-07T00:00:00.000000000",
          "2025-01-08T00:00:00.000000000",
          "2025-01-09T00:00:00.000000000",
          "2025-01-10T00:00:00.000000000",
          "2025-01-11T00:00:00.000000000",
          "2025-01-12T00:00:00.000000000",
          "2025-01-13T00:00:00.000000000",
          "2025-01-14T00:00:00.000000000",
          "2025-01-15T00:00:00.000000000",
          "2025-01-16T00:00:00.000000000",
          "2025-01-17T00:00:00.000000000",
          "2025-01-18T00:00:00.000000000",
          "2025-01-19T00:00:00.000000000",
          "2025-01-20T00:00:00.000000000",
          "2025-01-21T00:00:00.000000000",
          "2025-01-22T00:00:00.000000000",
          "2025-01-23T00:00:00.000000000",
          "2025-01-24T00:00:00.000000000",
          "2025-01-25T00:00:00.000000000",
          "2025-01-26T00:00:00.000000000",
          "2025-01-27T00:00:00.000000000",
          "2025-01-28T00:00:00.000000000",
          "2025-01-29T00:00:00.000000000",
          "2025-01-30T00:00:00.000000000",
          "2025-01-31T00:00:00.000000000",
          "2025-02-01T00:00:00.000000000",
          "2025-02-02T00:00:00.000000000",
          "2025-02-03T00:00:00.000000000",
          "2025-02-04T00:00:00.000000000",
          "2025-02-05T00:00:00.000000000",
          "2025-02-06T00:00:00.000000000",
          "2025-02-07T00:00:00.000000000",
          "2025-02-08T00:00:00.000000000",
          "2025-02-09T00:00:00.000000000",
          "2025-02-10T00:00:00.000000000",
          "2025-02-11T00:00:00.000000000",
          "2025-02-12T00:00:00.000000000",
          "2025-02-13T00:00:00.000000000",
          "2025-02-14T00:00:00.000000000",
          "2025-02-15T00:00:00.000000000",
          "2025-02-16T00:00:00.000000000",
          "2025-02-17T00:00:00.000000000",
          "2025-02-18T00:00:00.000000000",
          "2025-02-19T00:00:00.000000000",
          "2025-02-20T00:00:00.000000000",
          "2025-02-21T00:00:00.000000000",
          "2025-02-22T00:00:00.000000000",
          "2025-02-23T00:00:00.000000000",
          "2025-02-24T00:00:00.000000000",
          "2025-02-25T00:00:00.000000000",
          "2025-02-26T00:00:00.000000000",
          "2025-02-27T00:00:00.000000000",
          "2025-02-28T00:00:00.000000000",
          "2025-03-01T00:00:00.000000000",
          "2025-03-02T00:00:00.000000000",
          "2025-03-03T00:00:00.000000000",
          "2025-03-04T00:00:00.000000000",
          "2025-03-05T00:00:00.000000000",
          "2025-03-06T00:00:00.000000000",
          "2025-03-07T00:00:00.000000000",
          "2025-03-08T00:00:00.000000000",
          "2025-03-09T00:00:00.000000000",
          "2025-03-10T00:00:00.000000000",
          "2025-03-11T00:00:00.000000000",
          "2025-03-12T00:00:00.000000000",
          "2025-03-13T00:00:00.000000000",
          "2025-03-14T00:00:00.000000000",
          "2025-03-15T00:00:00.000000000",
          "2025-03-16T00:00:00.000000000",
          "2025-03-17T00:00:00.000000000",
          "2025-03-18T00:00:00.000000000",
          "2025-03-19T00:00:00.000000000",
          "2025-03-20T00:00:00.000000000",
          "2025-03-21T00:00:00.000000000",
          "2025-03-22T00:00:00.000000000",
          "2025-03-23T00:00:00.000000000",
          "2025-03-24T00:00:00.000000000",
          "2025-03-25T00:00:00.000000000",
          "2025-03-26T00:00:00.000000000",
          "2025-03-27T00:00:00.000000000",
          "2025-03-28T00:00:00.000000000",
          "2025-03-29T00:00:00.000000000",
          "2025-03-30T00:00:00.000000000",
          "2025-03-31T00:00:00.000000000",
          "2025-04-01T00:00:00.000000000",
          "2025-04-02T00:00:00.000000000",
          "2025-04-03T00:00:00.000000000",
          "2025-04-04T00:00:00.000000000",
          "2025-04-05T00:00:00.000000000",
          "2025-04-06T00:00:00.000000000",
          "2025-04-07T00:00:00.000000000",
          "2025-04-08T00:00:00.000000000",
          "2025-04-09T00:00:00.000000000",
          "2025-04-10T00:00:00.000000000",
          "2025-04-11T00:00:00.000000000",
          "2025-04-12T00:00:00.000000000",
          "2025-04-13T00:00:00.000000000",
          "2025-04-14T00:00:00.000000000",
          "2025-04-15T00:00:00.000000000",
          "2025-04-16T00:00:00.000000000",
          "2025-04-17T00:00:00.000000000",
          "2025-04-18T00:00:00.000000000",
          "2025-04-19T00:00:00.000000000",
          "2025-04-20T00:00:00.000000000",
          "2025-04-21T00:00:00.000000000",
          "2025-04-22T00:00:00.000000000",
          "2025-04-23T00:00:00.000000000",
          "2025-04-24T00:00:00.000000000",
          "2025-04-25T00:00:00.000000000",
          "2025-04-26T00:00:00.000000000",
          "2025-04-27T00:00:00.000000000",
          "2025-04-28T00:00:00.000000000",
          "2025-04-29T00:00:00.000000000",
          "2025-04-30T00:00:00.000000000",
          "2025-05-01T00:00:00.000000000",
          "2025-05-02T00:00:00.000000000",
          "2025-05-03T00:00:00.000000000",
          "2025-05-04T00:00:00.000000000",
          "2025-05-05T00:00:00.000000000",
          "2025-05-06T00:00:00.000000000",
          "2025-05-07T00:00:00.000000000",
          "2025-05-08T00:00:00.000000000",
          "2025-05-09T00:00:00.000000000",
          "2025-05-10T00:00:00.000000000",
          "2025-05-11T00:00:00.000000000",
          "2025-05-12T00:00:00.000000000",
          "2025-05-13T00:00:00.000000000",
          "2025-05-14T00:00:00.000000000",
          "2025-05-15T00:00:00.000000000",
          "2025-05-16T00:00:00.000000000",
          "2025-05-17T00:00:00.000000000",
          "2025-05-18T00:00:00.000000000",
          "2025-05-19T00:00:00.000000000",
          "2025-05-20T00:00:00.000000000",
          "2025-05-21T00:00:00.000000000",
          "2025-05-22T00:00:00.000000000",
          "2025-05-23T00:00:00.000000000",
          "2025-05-24T00:00:00.000000000",
          "2025-05-25T00:00:00.000000000",
          "2025-05-26T00:00:00.000000000",
          "2025-05-27T00:00:00.000000000",
          "2025-05-28T00:00:00.000000000",
          "2025-05-29T00:00:00.000000000",
          "2025-05-30T00:00:00.000000000",
          "2025-05-31T00:00:00.000000000",
          "2025-06-01T00:00:00.000000000",
          "2025-06-02T00:00:00.000000000",
          "2025-06-03T00:00:00.000000000",
          "2025-06-04T00:00:00.000000000",
          "2025-06-05T00:00:00.000000000",
          "2025-06-06T00:00:00.000000000",
          "2025-06-07T00:00:00.000000000",
          "2025-06-08T00:00:00.000000000",
          "2025-06-09T00:00:00.000000000",
          "2025-06-10T00:00:00.000000000",
          "2025-06-11T00:00:00.000000000",
          "2025-06-12T00:00:00.000000000",
          "2025-06-13T00:00:00.000000000",
          "2025-06-14T00:00:00.000000000",
          "2025-06-15T00:00:00.000000000",
          "2025-06-16T00:00:00.000000000",
          "2025-06-17T00:00:00.000000000",
          "2025-06-18T00:00:00.000000000",
          "2025-06-19T00:00:00.000000000",
          "2025-06-20T00:00:00.000000000",
          "2025-06-21T00:00:00.000000000",
          "2025-06-22T00:00:00.000000000",
          "2025-06-23T00:00:00.000000000",
          "2025-06-24T00:00:00.000000000",
          "2025-06-25T00:00:00.000000000",
          "2025-06-26T00:00:00.000000000",
          "2025-06-27T00:00:00.000000000",
          "2025-06-28T00:00:00.000000000",
          "2025-06-29T00:00:00.000000000",
          "2025-06-30T00:00:00.000000000",
          "2025-07-01T00:00:00.000000000",
          "2025-07-02T00:00:00.000000000",
          "2025-07-03T00:00:00.000000000",
          "2025-07-04T00:00:00.000000000",
          "2025-07-05T00:00:00.000000000",
          "2025-07-06T00:00:00.000000000",
          "2025-07-07T00:00:00.000000000",
          "2025-07-08T00:00:00.000000000",
          "2025-07-09T00:00:00.000000000",
          "2025-07-10T00:00:00.000000000",
          "2025-07-11T00:00:00.000000000",
          "2025-07-12T00:00:00.000000000",
          "2025-07-13T00:00:00.000000000",
          "2025-07-14T00:00:00.000000000",
          "2025-07-15T00:00:00.000000000",
          "2025-07-16T00:00:00.000000000",
          "2025-07-17T00:00:00.000000000",
          "2025-07-18T00:00:00.000000000",
          "2025-07-19T00:00:00.000000000",
          "2025-07-20T00:00:00.000000000",
          "2025-07-21T00:00:00.000000000",
          "2025-07-22T00:00:00.000000000",
          "2025-07-23T00:00:00.000000000",
          "2025-07-24T00:00:00.000000000",
          "2025-07-25T00:00:00.000000000",
          "2025-07-26T00:00:00.000000000",
          "2025-07-27T00:00:00.000000000",
          "2025-07-28T00:00:00.000000000",
          "2025-07-29T00:00:00.000000000",
          "2025-07-30T00:00:00.000000000",
          "2025-07-31T00:00:00.000000000",
          "2025-08-01T00:00:00.000000000",
          "2025-08-02T00:00:00.000000000",
          "2025-08-03T00:00:00.000000000",
          "2025-08-04T00:00:00.000000000",
          "2025-08-05T00:00:00.000000000",
          "2025-08-06T00:00:00.000000000",
          "2025-08-07T00:00:00.000000000",
          "2025-08-08T00:00:00.000000000",
          "2025-08-09T00:00:00.000000000",
          "2025-08-10T00:00:00.000000000",
          "2025-08-11T00:00:00.000000000",
          "2025-08-12T00:00:00.000000000",
          "2025-08-13T00:00:00.000000000",
          "2025-08-14T00:00:00.000000000",
          "2025-08-15T00:00:00.000000000",
          "2025-08-16T00:00:00.000000000",
          "2025-08-17T00:00:00.000000000",
          "2025-08-18T00:00:00.000000000",
          "2025-08-19T00:00:00.000000000",
          "2025-08-20T00:00:00.000000000",
          "2025-08-21T00:00:00.000000000",
          "2025-08-22T00:00:00.000000000",
          "2025-08-23T00:00:00.000000000",
          "2025-08-24T00:00:00.000000000",
          "2025-08-25T00:00:00.000000000",
          "2025-08-26T00:00:00.000000000",
          "2025-08-27T00:00:00.000000000",
          "2025-08-28T00:00:00.000000000",
          "2025-08-29T00:00:00.000000000",
          "2025-08-30T00:00:00.000000000",
          "2025-08-31T00:00:00.000000000",
          "2025-09-01T00:00:00.000000000",
          "2025-09-02T00:00:00.000000000",
          "2025-09-03T00:00:00.000000000",
          "2025-09-04T00:00:00.000000000",
          "2025-09-05T00:00:00.000000000",
          "2025-09-06T00:00:00.000000000",
          "2025-09-07T00:00:00.000000000",
          "2025-09-08T00:00:00.000000000",
          "2025-09-09T00:00:00.000000000",
          "2025-09-10T00:00:00.000000000",
          "2025-09-11T00:00:00.000000000",
          "2025-09-12T00:00:00.000000000",
          "2025-09-13T00:00:00.000000000",
          "2025-09-14T00:00:00.000000000",
          "2025-09-15T00:00:00.000000000",
          "2025-09-16T00:00:00.000000000",
          "2025-09-17T00:00:00.000000000",
          "2025-09-18T00:00:00.000000000",
          "2025-09-19T00:00:00.000000000",
          "2025-09-20T00:00:00.000000000",
          "2025-09-21T00:00:00.000000000",
          "2025-09-22T00:00:00.000000000",
          "2025-09-23T00:00:00.000000000",
          "2025-09-24T00:00:00.000000000",
          "2025-09-25T00:00:00.000000000",
          "2025-09-26T00:00:00.000000000",
          "2025-09-27T00:00:00.000000000",
          "2025-09-28T00:00:00.000000000",
          "2025-09-29T00:00:00.000000000",
          "2025-09-30T00:00:00.000000000",
          "2025-10-01T00:00:00.000000000",
          "2025-10-02T00:00:00.000000000",
          "2025-10-03T00:00:00.000000000",
          "2025-10-04T00:00:00.000000000",
          "2025-10-05T00:00:00.000000000",
          "2025-10-06T00:00:00.000000000",
          "2025-10-07T00:00:00.000000000",
          "2025-10-08T00:00:00.000000000",
          "2025-10-09T00:00:00.000000000",
          "2025-10-10T00:00:00.000000000",
          "2025-10-11T00:00:00.000000000",
          "2025-10-12T00:00:00.000000000",
          "2025-10-13T00:00:00.000000000",
          "2025-10-14T00:00:00.000000000",
          "2025-10-15T00:00:00.000000000",
          "2025-10-16T00:00:00.000000000",
          "2025-10-17T00:00:00.000000000",
          "2025-10-18T00:00:00.000000000",
          "2025-10-19T00:00:00.000000000",
          "2025-10-20T00:00:00.000000000",
          "2025-10-21T00:00:00.000000000",
          "2025-10-22T00:00:00.000000000",
          "2025-10-23T00:00:00.000000000",
          "2025-10-24T00:00:00.000000000",
          "2025-10-25T00:00:00.000000000",
          "2025-10-26T00:00:00.000000000",
          "2025-10-27T00:00:00.000000000",
          "2025-10-28T00:00:00.000000000",
          "2025-10-29T00:00:00.000000000",
          "2025-10-30T00:00:00.000000000",
          "2025-10-31T00:00:00.000000000",
          "2025-11-01T00:00:00.000000000",
          "2025-11-02T00:00:00.000000000",
          "2025-11-03T00:00:00.000000000",
          "2025-11-04T00:00:00.000000000",
          "2025-11-05T00:00:00.000000000",
          "2025-11-06T00:00:00.000000000",
          "2025-11-07T00:00:00.000000000",
          "2025-11-08T00:00:00.000000000",
          "2025-11-09T00:00:00.000000000",
          "2025-11-10T00:00:00.000000000",
          "2025-11-11T00:00:00.000000000",
          "2025-11-12T00:00:00.000000000",
          "2025-11-13T00:00:00.000000000",
          "2025-11-14T00:00:00.000000000",
          "2025-11-15T00:00:00.000000000",
          "2025-11-16T00:00:00.000000000",
          "2025-11-17T00:00:00.000000000",
          "2025-11-18T00:00:00.000000000",
          "2025-11-19T00:00:00.000000000",
          "2025-11-20T00:00:00.000000000",
          "2025-11-21T00:00:00.000000000",
          "2025-11-22T00:00:00.000000000",
          "2025-11-23T00:00:00.000000000",
          "2025-11-24T00:00:00.000000000",
          "2025-11-25T00:00:00.000000000",
          "2025-11-26T00:00:00.000000000",
          "2025-11-27T00:00:00.000000000",
          "2025-11-28T00:00:00.000000000",
          "2025-11-29T00:00:00.000000000",
          "2025-11-30T00:00:00.000000000",
          "2025-12-01T00:00:00.000000000",
          "2025-12-02T00:00:00.000000000",
          "2025-12-03T00:00:00.000000000",
          "2025-12-04T00:00:00.000000000",
          "2025-12-05T00:00:00.000000000",
          "2025-12-06T00:00:00.000000000",
          "2025-12-07T00:00:00.000000000",
          "2025-12-08T00:00:00.000000000",
          "2025-12-09T00:00:00.000000000",
          "2025-12-10T00:00:00.000000000",
          "2025-12-11T00:00:00.000000000",
          "2025-12-12T00:00:00.000000000",
          "2025-12-13T00:00:00.000000000",
          "2025-12-14T00:00:00.000000000",
          "2025-12-15T00:00:00.000000000",
          "2025-12-16T00:00:00.000000000",
          "2025-12-17T00:00:00.000000000",
          "2025-12-18T00:00:00.000000000",
          "2025-12-19T00:00:00.000000000",
          "2025-12-20T00:00:00.000000000",
          "2025-12-21T00:00:00.000000000",
          "2025-12-22T00:00:00.000000000",
          "2025-12-23T00:00:00.000000000",
          "2025-12-24T00:00:00.000000000",
          "2025-12-25T00:00:00.000000000",
          "2025-12-26T00:00:00.000000000",
          "2025-12-27T00:00:00.000000000",
          "2025-12-28T00:00:00.000000000",
          "2025-12-29T00:00:00.000000000",
          "2025-12-30T00:00:00.000000000",
          "2025-12-31T00:00:00.000000000"
         ],
         "xaxis": "x",
         "y": {
          "bdata": "eLmI76T+zUAs1JrmBWjMQJfFxOazGMVA1T4dj1kNxkAvo1hu7dnGQE1PWOJRmchAuHU3T23rx0C5/If013zHQL01sFUKiMRABWnGor1/xUB5HtydGb/GQIrqrYHpasNAIZOMnHmfxEB1sP7PVbTMQOXVOQZwmslAiUFg5ejjxUAE/1vJmtHBQJJc/kMG7cFAXyS05ZiAwUACK4cWUYXCQB4Wak2bSsVAJsed0hEtw0CxbVFmUxrCQDIDlfGHfcFA51dzgJRHw0CKAn0iQ3PDQBkEVg5V88NAMiB7vTdcxUBRoE/kHXjDQO3T8ZgxgcRAHNMTluQWxkCAK9mxNezCQGRYxRt9usFAGXPXEr6fxkBN+KV+dqXIQFitTPi92shAa9laX5TXzEDSpBR0JzLJQG5MT1ja78ZAgGWlSSFEx0CVQ4ts3/jFQOC+DpwnucVASNxj6YuVx0AYsrrV297HQFtfJLTFUcVA+5EiMgxtxUCgMv591gjDQCaloNtHEMNA8FAU6CurxEAbDeAtAN7EQFAZ/z47msFAF4IclNSCwkAaqIx/OzDCQNF0djI4DcJAgpAsYD4Zw0DAPjp1YTHGQN3Sakig1cVA7Z48LAhIxUBkHvmD7SPEQO4ljdGSe8BAC+9yEV+rv0C7YduiBEC/QGLWi6EQvMJAGEM50S7uwUBdFhOb6/DAQEX11sDqH8BAcm2oGM8JwkBXW7G/VE3CQEcDeAs8T8NAQPZ694/5wkDP91PjDafBQByUMNM6M8JA220XmttbwkBgWWlSWia/QFtCPuiFGMNAjBU1mN4NxkBd3EYDJL7FQPQVpBkTKcNA0ETY8HzewUB7ZkmAOpDAQC6thsStvsJAYU87/L08wkBiFW9kzofBQJ0Rpb2JeMNAgc8PI4hDwEAebRyxpv+9QNy6m6cqY71AFLNeDF1hv0CTHRuBpBnBQKzijcyrzsJAADrMlyuZxEDFrBdDiYDBQHf4a7KiEsBA3V7SGO03v0BKtU/Ho66+QGjQ0D+RObxA26fjMTtMu0CFX+rnvTG9QE/pYP2nPLtAvqQxWjc5ukBIisiw8tG7QPWEJR5YEb1AuarsuzoqwECjQJ/Iw4fBQCNnYU/zXcNAymyQSVYavkBuwOeHGWG9QMAma9RzgsBA9l0R/B/zv0Bhw9MrnWbAQF97ZkkYyMNAj8L1KLgKxEB/pIgMC/G+QEs8oGwKk75A8l61MllbvEAvhnKiVfG6QCyf5XkgGrtAKZZbWr2fvECAt0CCxujAQE60q5AaOL9AWipvR6ACvUDqspjYJL+7QMVyS6tpEL1AaMu5FI9XvkBy+Q/pd26+QFvOpbi2WMBAp5at9TWKvkBCW86lQNS9QCqMLQRpVLtAEcKjjdNOuUAGZK9397e5QP5g4Lm3urtAK8HicH4lvkAijnVxq/O7QDic+dW85rpA1ouhnMCCukBDVrd6dvu5QPRPcLGq6rpA1xLyQd+rvUD8qfHSTQ++QEi/fR2ovLlAN8MN+Px7uUBUxr/P+Pe6QMVVZd8lw7xAqyaIuldMu0BwsaIGO2G7QLO1vkjwg7xAwa27efoyvECx+bg2bHi4QDIDlfFv4LZADOpb5kz1tkDYDdsW/YG3QLDJGvVAArpAIo51cWunvEAJ3Lqbp+i4QHiXi/hG97hAWWlSCoppukBMVG8NVB25QJWfVPvcTbhAHXdKBzthukBrYKsEq/i7QBv1EI3WR7pAQwQcQm0zukBV2XdFmGW5QHtmSYCKVrhA9ODurAXktUBf7/54j5W5QCbChqefjrtAb2Qe+fMDuEBh/Z/D3AGzQJBrQ8XAq7VAhuY6jWxauEAH8BZIyJC2QMhBCTMV1rdA4q/JGlViuUD+YOC5H2y2QJsb0xPecbZAICQLmBjqtkBbmfBL5fS3QIqryr5jELlAdR+A1EaMukCi7gOQ+hS7QL7e/fH2jbdAH7qgvlUEt0CreCPzYLu5QH9N1qhnULdAGQRWDnVNskAwEtpyXuq1QIE+kSdJ5bZAZ7gBny8XskBGsdzSevq0QCGTjJw1CrZAuJIdG/EYtkAWGLK6Dc6zQHTv4ZLTvbdAniRdM5nqukBkdavnlOu2QOSDns3KH7ZAdlQ1QTxpt0AteNFX+LK1QO/+eK+6ALBA63O1FWt4tEDVBFH3GVm3QOpb5nSBwbdAOgZkr89At0DP91Pj3UO0QMkCJnCjjrZASWjLuWT3tkD4cMlxj4e4QOvFUE5sn7pARZ4kXeswtkB/3lSkmv22QFVNEHUn47RA6bevA3dAr0AoDwu1xsWtQIHPDyOchLFAhlrTvHsBt0A4FakwnmW4QO/mqQ4xnrhALVvri9wZuECA8QwairK3QCUGgZXT3bZAWFaalJIxt0AW9rTDP3S3QI4ev7fB6LVABHP0+OXYtEAYWwhyKH+1QLmNBvC2XbBAMZkqGH1HsEAOZ341j7u2QPs/h/k69LlABoGVQwMwuEBVpMLYKte1QK71RUIrI7VAT6+UZbDRtkDgvg6cQ2W2QFx381RvAbhAaHke3E2qu0BFR3L5P8G3QPPlBdgPYLdAb2Qe+UOWt0B/arx045O2QPQVpBn7g7ZA9fi9TefKt0CAgosVZeW6QA74/DDizbtAB7ZKsDADuECwrDQp1UO3QOw00lJ5tbZAIEHxY8QStkCeQUP/1Jq5QL+aAwTjIr1Ar/AuFzGpuEBuowG8XQm5QFMiiV6GKLlAoPgx5pZQuEDqc7UVw+m2QKhSswe6+7lA5Ii1+CzZvUCMhLac0w68QJ4kXTM5W7pA0T/BxXoEukB81cqEB0O6QATFjzGXDrpAPGu3Xfjhu0Alr84xVCrAQChJ10y+rrxAjErqBKw7vEDFyf0ODc68QPViKCdqM7tADJOpglkHuUCsOUAwV1+7QNxoAG/BQr5AXDgQkgU5vkCWz/I8EKS7QHnpJjF4iblAZeQs7GneuECe76fGQ/64QK9Cyk+yg7xAQGoTJ79PwEBcIEHx57PBQA2OkldnCL9AMdP2r1yOvEB9lufB1da6QHv3x3slF7pAQUgWMBGxu0COO6WDvbe+QAwCK4deu7pAsvShC2pnu0DO/GoOsKK8QI1/n3FBqr1AxuHMr9aQvUCqfToe0+K9QNxLGqPlWr9AdonqrfnKu0AIVWr2eBy8QJ8fRgifZrpAp658lg9uuUAe/pqssbW7QBhbCHIsgsBAGmmpvP0FwkB+AFKbKN6/QCjyJOlCc7xAbm5MTyh6v0DLZ3kePOO+QOuLhLZUsb1AaJYEqOEBv0CP/MHAx5vAQFPL1vrWIMBAF9S3zHHlv0Cq1OyBtr6/QKoOuRmuML9A+BkXDqyQvkDvOEVH2mLAQAB0mC/L6MFAt2J/2V3wwEDQ8jy40y/BQDyInSm8iMBAsyRATSmrwUDqkJvhmqjBQNuizAa50sFASUvl7ewlxEDyk2qfHgzDQEVHcvlz78JAvVetTGhxw0AZkL3eoZvHQNEF9S1bkMVACFqBIbPnxUDHLlG9hW/HQLd6TnqjxsJARvC/legXwUAai6azM0XBQNRDNLprb8FAAB3myzciwkD2KFyPLhrEQAnE6/pZosVAI74TszpzwkBMVG8NaIXBQONTAIznFsJALexph6sjxECFtpxLLRLEQJet9UX2ZsNAl631RXKdxUCE2JlCC8DDQE91yM3Ab8RAbagY558fxEAZ4lgXe13DQOoENBGSCsNAGCE82nj/xEBNvtnm0vPEQOCcEaVJr8FAt9EA3oKvwUAXvOgrMHvBQJeQD3oyTcFAL2mM1llmwkBZUYNpBLLFQCUeUDa14cZA54wo7ZGbw0BD/wQXu4zEQO53KAoM68FAu9Vz0rskw0D0iTxJ1ifDQM7CnnbIdMVA0A8jhMOrx0A0hc5rcOfGQA==",
          "dtype": "f8"
         },
         "yaxis": "y"
        }
       ],
       "layout": {
        "annotations": [
         {
          "font": {
           "color": "gray",
           "size": 16
          },
          "showarrow": false,
          "text": "Stacked Meter Usage, aggregated over time.",
          "x": 0,
          "xanchor": "left",
          "xref": "paper",
          "y": -0.4,
          "yanchor": "bottom",
          "yref": "paper"
         }
        ],
        "legend": {
         "title": {
          "text": "Meter"
         },
         "tracegroupgap": 0
        },
        "margin": {
         "b": 120,
         "pad": 10,
         "t": 60
        },
        "template": {
         "data": {
          "bar": [
           {
            "error_x": {
             "color": "rgb(51,51,51)"
            },
            "error_y": {
             "color": "rgb(51,51,51)"
            },
            "marker": {
             "line": {
              "color": "rgb(237,237,237)",
              "width": 0.5
             },
             "pattern": {
              "fillmode": "overlay",
              "size": 10,
              "solidity": 0.2
             }
            },
            "type": "bar"
           }
          ],
          "barpolar": [
           {
            "marker": {
             "line": {
              "color": "rgb(237,237,237)",
              "width": 0.5
             },
             "pattern": {
              "fillmode": "overlay",
              "size": 10,
              "solidity": 0.2
             }
            },
            "type": "barpolar"
           }
          ],
          "carpet": [
           {
            "aaxis": {
             "endlinecolor": "rgb(51,51,51)",
             "gridcolor": "white",
             "linecolor": "white",
             "minorgridcolor": "white",
             "startlinecolor": "rgb(51,51,51)"
            },
            "baxis": {
             "endlinecolor": "rgb(51,51,51)",
             "gridcolor": "white",
             "linecolor": "white",
             "minorgridcolor": "white",
             "startlinecolor": "rgb(51,51,51)"
            },
            "type": "carpet"
           }
          ],
          "choropleth": [
           {
            "colorbar": {
             "outlinewidth": 0,
             "tickcolor": "rgb(237,237,237)",
             "ticklen": 6,
             "ticks": "inside"
            },
            "type": "choropleth"
           }
          ],
          "contour": [
           {
            "colorbar": {
             "outlinewidth": 0,
             "tickcolor": "rgb(237,237,237)",
             "ticklen": 6,
             "ticks": "inside"
            },
            "colorscale": [
             [
              0,
              "rgb(20,44,66)"
             ],
             [
              1,
              "rgb(90,179,244)"
             ]
            ],
            "type": "contour"
           }
          ],
          "contourcarpet": [
           {
            "colorbar": {
             "outlinewidth": 0,
             "tickcolor": "rgb(237,237,237)",
             "ticklen": 6,
             "ticks": "inside"
            },
            "type": "contourcarpet"
           }
          ],
          "heatmap": [
           {
            "colorbar": {
             "outlinewidth": 0,
             "tickcolor": "rgb(237,237,237)",
             "ticklen": 6,
             "ticks": "inside"
            },
            "colorscale": [
             [
              0,
              "rgb(20,44,66)"
             ],
             [
              1,
              "rgb(90,179,244)"
             ]
            ],
            "type": "heatmap"
           }
          ],
          "histogram": [
           {
            "marker": {
             "pattern": {
              "fillmode": "overlay",
              "size": 10,
              "solidity": 0.2
             }
            },
            "type": "histogram"
           }
          ],
          "histogram2d": [
           {
            "colorbar": {
             "outlinewidth": 0,
             "tickcolor": "rgb(237,237,237)",
             "ticklen": 6,
             "ticks": "inside"
            },
            "colorscale": [
             [
              0,
              "rgb(20,44,66)"
             ],
             [
              1,
              "rgb(90,179,244)"
             ]
            ],
            "type": "histogram2d"
           }
          ],
          "histogram2dcontour": [
           {
            "colorbar": {
             "outlinewidth": 0,
             "tickcolor": "rgb(237,237,237)",
             "ticklen": 6,
             "ticks": "inside"
            },
            "colorscale": [
             [
              0,
              "rgb(20,44,66)"
             ],
             [
              1,
              "rgb(90,179,244)"
             ]
            ],
            "type": "histogram2dcontour"
           }
          ],
          "mesh3d": [
           {
            "colorbar": {
             "outlinewidth": 0,
             "tickcolor": "rgb(237,237,237)",
             "ticklen": 6,
             "ticks": "inside"
            },
            "type": "mesh3d"
           }
          ],
          "parcoords": [
           {
            "line": {
             "colorbar": {
              "outlinewidth": 0,
              "tickcolor": "rgb(237,237,237)",
              "ticklen": 6,
              "ticks": "inside"
             }
            },
            "type": "parcoords"
           }
          ],
          "pie": [
           {
            "automargin": true,
            "type": "pie"
           }
          ],
          "scatter": [
           {
            "fillpattern": {
             "fillmode": "overlay",
             "size": 10,
             "solidity": 0.2
            },
            "type": "scatter"
           }
          ],
          "scatter3d": [
           {
            "line": {
             "colorbar": {
              "outlinewidth": 0,
              "tickcolor": "rgb(237,237,237)",
              "ticklen": 6,
              "ticks": "inside"
             }
            },
            "marker": {
             "colorbar": {
              "outlinewidth": 0,
              "tickcolor": "rgb(237,237,237)",
              "ticklen": 6,
              "ticks": "inside"
             }
            },
            "type": "scatter3d"
           }
          ],
          "scattercarpet": [
           {
            "marker": {
             "colorbar": {
              "outlinewidth": 0,
              "tickcolor": "rgb(237,237,237)",
              "ticklen": 6,
              "ticks": "inside"
             }
            },
            "type": "scattercarpet"
           }
          ],
          "scattergeo": [
           {
            "marker": {
             "colorbar": {
              "outlinewidth": 0,
              "tickcolor": "rgb(237,237,237)",
              "ticklen": 6,
              "ticks": "inside"
             }
            },
            "type": "scattergeo"
           }
          ],
          "scattergl": [
           {
            "marker": {
             "colorbar": {
              "outlinewidth": 0,
              "tickcolor": "rgb(237,237,237)",
              "ticklen": 6,
              "ticks": "inside"
             }
            },
            "type": "scattergl"
           }
          ],
          "scattermap": [
           {
            "marker": {
             "colorbar": {
              "outlinewidth": 0,
              "tickcolor": "rgb(237,237,237)",
              "ticklen": 6,
              "ticks": "inside"
             }
            },
            "type": "scattermap"
           }
          ],
          "scattermapbox": [
           {
            "marker": {
             "colorbar": {
              "outlinewidth": 0,
              "tickcolor": "rgb(237,237,237)",
              "ticklen": 6,
              "ticks": "inside"
             }
            },
            "type": "scattermapbox"
           }
          ],
          "scatterpolar": [
           {
            "marker": {
             "colorbar": {
              "outlinewidth": 0,
              "tickcolor": "rgb(237,237,237)",
              "ticklen": 6,
              "ticks": "inside"
             }
            },
            "type": "scatterpolar"
           }
          ],
          "scatterpolargl": [
           {
            "marker": {
             "colorbar": {
              "outlinewidth": 0,
              "tickcolor": "rgb(237,237,237)",
              "ticklen": 6,
              "ticks": "inside"
             }
            },
            "type": "scatterpolargl"
           }
          ],
          "scatterternary": [
           {
            "marker": {
             "colorbar": {
              "outlinewidth": 0,
              "tickcolor": "rgb(237,237,237)",
              "ticklen": 6,
              "ticks": "inside"
             }
            },
            "type": "scatterternary"
           }
          ],
          "surface": [
           {
            "colorbar": {
             "outlinewidth": 0,
             "tickcolor": "rgb(237,237,237)",
             "ticklen": 6,
             "ticks": "inside"
            },
            "colorscale": [
             [
              0,
              "rgb(20,44,66)"
             ],
             [
              1,
              "rgb(90,179,244)"
             ]
            ],
            "type": "surface"
           }
          ],
          "table": [
           {
            "cells": {
             "fill": {
              "color": "rgb(237,237,237)"
             },
             "line": {
              "color": "white"
             }
            },
            "header": {
             "fill": {
              "color": "rgb(217,217,217)"
             },
             "line": {
              "color": "white"
             }
            },
            "type": "table"
           }
          ]
         },
         "layout": {
          "annotationdefaults": {
           "arrowhead": 0,
           "arrowwidth": 1
          },
          "autotypenumbers": "strict",
          "coloraxis": {
           "colorbar": {
            "outlinewidth": 0,
            "tickcolor": "rgb(237,237,237)",
            "ticklen": 6,
            "ticks": "inside"
           }
          },
          "colorscale": {
           "sequential": [
            [
             0,
             "rgb(20,44,66)"
            ],
            [
             1,
             "rgb(90,179,244)"
            ]
           ],
           "sequentialminus": [
            [
             0,
             "rgb(20,44,66)"
            ],
            [
             1,
             "rgb(90,179,244)"
            ]
           ]
          },
          "colorway": [
           "#277da1",
           "#577590",
           "#4d908e",
           "#43aa8b",
           "#90be6d",
           "#f9c74f",
           "#f9844a",
           "#f8961e",
           "#f3722c",
           "#f94144",
           "#a8dce2",
           "#b3bfc9",
           "#a8cfc9",
           "#a8dfd2",
           "#d2e8c0",
           "#fde7a6",
           "#f9cfbd",
           "#fbd3a7",
           "#f9b39c",
           "#f9a3a5"
          ],
          "font": {
           "color": "black",
           "family": "Helvetica, sans-serif",
           "size": 14
          },
          "geo": {
           "bgcolor": "white",
           "lakecolor": "white",
           "landcolor": "rgb(237,237,237)",
           "showlakes": true,
           "showland": true,
           "subunitcolor": "white"
          },
          "hoverlabel": {
           "align": "left"
          },
          "hovermode": "closest",
          "paper_bgcolor": "rgba(0,0,0,0)",
          "plot_bgcolor": "rgba(0,0,0,0)",
          "polar": {
           "angularaxis": {
            "gridcolor": "white",
            "linecolor": "white",
            "showgrid": true,
            "tickcolor": "rgb(51,51,51)",
            "ticks": "outside"
           },
           "bgcolor": "rgb(237,237,237)",
           "radialaxis": {
            "gridcolor": "white",
            "linecolor": "white",
            "showgrid": true,
            "tickcolor": "rgb(51,51,51)",
            "ticks": "outside"
           }
          },
          "scene": {
           "xaxis": {
            "backgroundcolor": "rgb(237,237,237)",
            "gridcolor": "white",
            "gridwidth": 2,
            "linecolor": "white",
            "showbackground": true,
            "showgrid": true,
            "tickcolor": "rgb(51,51,51)",
            "ticks": "outside",
            "zerolinecolor": "white"
           },
           "yaxis": {
            "backgroundcolor": "rgb(237,237,237)",
            "gridcolor": "white",
            "gridwidth": 2,
            "linecolor": "white",
            "showbackground": true,
            "showgrid": true,
            "tickcolor": "rgb(51,51,51)",
            "ticks": "outside",
            "zerolinecolor": "white"
           },
           "zaxis": {
            "backgroundcolor": "rgb(237,237,237)",
            "gridcolor": "white",
            "gridwidth": 2,
            "linecolor": "white",
            "showbackground": true,
            "showgrid": true,
            "tickcolor": "rgb(51,51,51)",
            "ticks": "outside",
            "zerolinecolor": "white"
           }
          },
          "shapedefaults": {
           "fillcolor": "black",
           "line": {
            "width": 0
           },
           "opacity": 0.3
          },
          "ternary": {
           "aaxis": {
            "gridcolor": "white",
            "linecolor": "white",
            "showgrid": true,
            "tickcolor": "rgb(51,51,51)",
            "ticks": "outside"
           },
           "baxis": {
            "gridcolor": "white",
            "linecolor": "white",
            "showgrid": true,
            "tickcolor": "rgb(51,51,51)",
            "ticks": "outside"
           },
           "bgcolor": "rgb(237,237,237)",
           "caxis": {
            "gridcolor": "white",
            "linecolor": "white",
            "showgrid": true,
            "tickcolor": "rgb(51,51,51)",
            "ticks": "outside"
           }
          },
          "xaxis": {
           "automargin": true,
           "gridcolor": "white",
           "linecolor": "white",
           "showgrid": true,
           "tickcolor": "rgb(51,51,51)",
           "ticks": "outside",
           "title": {
            "standoff": 15
           },
           "zerolinecolor": "white"
          },
          "yaxis": {
           "automargin": true,
           "gridcolor": "white",
           "linecolor": "white",
           "showgrid": true,
           "tickcolor": "rgb(51,51,51)",
           "ticks": "outside",
           "title": {
            "standoff": 15
           },
           "zerolinecolor": "white"
          }
         }
        },
        "xaxis": {
         "anchor": "y",
         "domain": [
          0,
          1
         ],
         "title": {
          "text": "Time"
         }
        },
        "yaxis": {
         "anchor": "x",
         "domain": [
          0,
          1
         ],
         "title": {
          "text": "Energy [kWh]"
         }
        }
       }
      }
     },
     "metadata": {},
     "output_type": "display_data"
    }
   ],
   "source": [
    "from src.visuals import plot_meter_timeseries\n",
    "\n",
    "df = source_energy.copy()\n",
    "\n",
    "metadata_cols = ['scenario_id']\n",
    "elec_cols = ['elec_hr_Wh',\"elec_awhp_h_Wh\",\"elec_chiller_Wh\", 'elec_awhp_c_Wh', 'elec_res_Wh']\n",
    "gas_cols = ['gas_boiler_Wh']\n",
    "\n",
    "df = df[metadata_cols + elec_cols + gas_cols]\n",
    "\n",
    "year = 2025\n",
    "scenario_id = \"typ_01\"\n",
    "\n",
    "plot_meter_timeseries(df, year=year, scenario_id=scenario_id, stacked=True, include_gas=True)"
   ]
  },
  {
   "cell_type": "code",
   "execution_count": null,
   "id": "5d173c3e",
   "metadata": {},
   "outputs": [
    {
     "data": {
      "application/vnd.plotly.v1+json": {
       "config": {
        "plotlyServerURL": "https://plot.ly"
       },
       "data": [
        {
         "hovertemplate": "emission_type=elec_emissions<br>year=2025<br>scenario_id=%{x}<br>emissions=%{y}<extra></extra>",
         "legendgroup": "elec_emissions",
         "marker": {
          "color": "#277da1",
          "pattern": {
           "shape": ""
          }
         },
         "name": "elec_emissions",
         "orientation": "v",
         "showlegend": true,
         "textposition": "auto",
         "type": "bar",
         "x": [
          "baseline_01",
          "decarb_01",
          "typ_01",
          "typ_02"
         ],
         "xaxis": "x",
         "y": {
          "bdata": "b66dvogcQEES1xPi8eRBQSy29xbhXUJBnHZUsj0kUkE=",
          "dtype": "f8"
         },
         "yaxis": "y"
        },
        {
         "hovertemplate": "emission_type=elec_emissions<br>year=2040<br>scenario_id=%{x}<br>emissions=%{y}<extra></extra>",
         "legendgroup": "elec_emissions",
         "marker": {
          "color": "#277da1",
          "pattern": {
           "shape": ""
          }
         },
         "name": "elec_emissions",
         "orientation": "v",
         "showlegend": false,
         "textposition": "auto",
         "type": "bar",
         "x": [
          "baseline_01",
          "decarb_01",
          "typ_01",
          "typ_02"
         ],
         "xaxis": "x2",
         "y": {
          "bdata": "GF1mDNIjKkEC1ykqCwUtQbcwH1UP1S1BdB74orFmPUE=",
          "dtype": "f8"
         },
         "yaxis": "y2"
        },
        {
         "hovertemplate": "emission_type=gas_emissions<br>year=2025<br>scenario_id=%{x}<br>emissions=%{y}<extra></extra>",
         "legendgroup": "gas_emissions",
         "marker": {
          "color": "#577590",
          "pattern": {
           "shape": ""
          }
         },
         "name": "gas_emissions",
         "orientation": "v",
         "showlegend": true,
         "textposition": "auto",
         "type": "bar",
         "x": [
          "baseline_01",
          "decarb_01",
          "typ_01",
          "typ_02"
         ],
         "xaxis": "x",
         "y": {
          "bdata": "amMfH/XMI0EAAAAAAAAAAF4RpEdg6TFBAAAAAAAAAAA=",
          "dtype": "f8"
         },
         "yaxis": "y"
        },
        {
         "hovertemplate": "emission_type=gas_emissions<br>year=2040<br>scenario_id=%{x}<br>emissions=%{y}<extra></extra>",
         "legendgroup": "gas_emissions",
         "marker": {
          "color": "#577590",
          "pattern": {
           "shape": ""
          }
         },
         "name": "gas_emissions",
         "orientation": "v",
         "showlegend": false,
         "textposition": "auto",
         "type": "bar",
         "x": [
          "baseline_01",
          "decarb_01",
          "typ_01",
          "typ_02"
         ],
         "xaxis": "x2",
         "y": {
          "bdata": "amMfH/XMI0EAAAAAAAAAAF4RpEdg6TFBAAAAAAAAAAA=",
          "dtype": "f8"
         },
         "yaxis": "y2"
        },
        {
         "hovertemplate": "emission_type=total_refrig_emissions<br>year=2025<br>scenario_id=%{x}<br>emissions=%{y}<extra></extra>",
         "legendgroup": "total_refrig_emissions",
         "marker": {
          "color": "#4d908e",
          "pattern": {
           "shape": ""
          }
         },
         "name": "total_refrig_emissions",
         "orientation": "v",
         "showlegend": true,
         "textposition": "auto",
         "type": "bar",
         "x": [
          "baseline_01",
          "decarb_01",
          "typ_01",
          "typ_02"
         ],
         "xaxis": "x",
         "y": {
          "bdata": "AAAAAAAAAAAAAAAAAAAAAAAAAAAAAAAAAAAAAAAAAAA=",
          "dtype": "f8"
         },
         "yaxis": "y"
        },
        {
         "hovertemplate": "emission_type=total_refrig_emissions<br>year=2040<br>scenario_id=%{x}<br>emissions=%{y}<extra></extra>",
         "legendgroup": "total_refrig_emissions",
         "marker": {
          "color": "#4d908e",
          "pattern": {
           "shape": ""
          }
         },
         "name": "total_refrig_emissions",
         "orientation": "v",
         "showlegend": false,
         "textposition": "auto",
         "type": "bar",
         "x": [
          "baseline_01",
          "decarb_01",
          "typ_01",
          "typ_02"
         ],
         "xaxis": "x2",
         "y": {
          "bdata": "AAAAAAAAAAAAAAAAAAAAAAAAAAAAAAAAAAAAAAAAAAA=",
          "dtype": "f8"
         },
         "yaxis": "y2"
        }
       ],
       "layout": {
        "annotations": [
         {
          "font": {
           "color": "gray",
           "size": 16
          },
          "showarrow": false,
          "text": "Total Emissions by Equipment and Scenarios.",
          "x": 0,
          "xanchor": "left",
          "xref": "paper",
          "y": -0.4,
          "yanchor": "bottom",
          "yref": "paper"
         },
         {
          "font": {
           "color": "gray",
           "size": 16
          },
          "showarrow": false,
          "text": "Total Emissions by Equipment and Scenarios.",
          "x": 0,
          "xanchor": "left",
          "xref": "paper",
          "y": -0.4,
          "yanchor": "bottom",
          "yref": "paper"
         }
        ],
        "barmode": "stack",
        "legend": {
         "title": {
          "text": "emission_type"
         },
         "tracegroupgap": 0
        },
        "margin": {
         "b": 120,
         "pad": 10,
         "t": 60
        },
        "template": {
         "data": {
          "bar": [
           {
            "error_x": {
             "color": "rgb(51,51,51)"
            },
            "error_y": {
             "color": "rgb(51,51,51)"
            },
            "marker": {
             "line": {
              "color": "rgb(237,237,237)",
              "width": 0.5
             },
             "pattern": {
              "fillmode": "overlay",
              "size": 10,
              "solidity": 0.2
             }
            },
            "type": "bar"
           }
          ],
          "barpolar": [
           {
            "marker": {
             "line": {
              "color": "rgb(237,237,237)",
              "width": 0.5
             },
             "pattern": {
              "fillmode": "overlay",
              "size": 10,
              "solidity": 0.2
             }
            },
            "type": "barpolar"
           }
          ],
          "carpet": [
           {
            "aaxis": {
             "endlinecolor": "rgb(51,51,51)",
             "gridcolor": "white",
             "linecolor": "white",
             "minorgridcolor": "white",
             "startlinecolor": "rgb(51,51,51)"
            },
            "baxis": {
             "endlinecolor": "rgb(51,51,51)",
             "gridcolor": "white",
             "linecolor": "white",
             "minorgridcolor": "white",
             "startlinecolor": "rgb(51,51,51)"
            },
            "type": "carpet"
           }
          ],
          "choropleth": [
           {
            "colorbar": {
             "outlinewidth": 0,
             "tickcolor": "rgb(237,237,237)",
             "ticklen": 6,
             "ticks": "inside"
            },
            "type": "choropleth"
           }
          ],
          "contour": [
           {
            "colorbar": {
             "outlinewidth": 0,
             "tickcolor": "rgb(237,237,237)",
             "ticklen": 6,
             "ticks": "inside"
            },
            "colorscale": [
             [
              0,
              "rgb(20,44,66)"
             ],
             [
              1,
              "rgb(90,179,244)"
             ]
            ],
            "type": "contour"
           }
          ],
          "contourcarpet": [
           {
            "colorbar": {
             "outlinewidth": 0,
             "tickcolor": "rgb(237,237,237)",
             "ticklen": 6,
             "ticks": "inside"
            },
            "type": "contourcarpet"
           }
          ],
          "heatmap": [
           {
            "colorbar": {
             "outlinewidth": 0,
             "tickcolor": "rgb(237,237,237)",
             "ticklen": 6,
             "ticks": "inside"
            },
            "colorscale": [
             [
              0,
              "rgb(20,44,66)"
             ],
             [
              1,
              "rgb(90,179,244)"
             ]
            ],
            "type": "heatmap"
           }
          ],
          "histogram": [
           {
            "marker": {
             "pattern": {
              "fillmode": "overlay",
              "size": 10,
              "solidity": 0.2
             }
            },
            "type": "histogram"
           }
          ],
          "histogram2d": [
           {
            "colorbar": {
             "outlinewidth": 0,
             "tickcolor": "rgb(237,237,237)",
             "ticklen": 6,
             "ticks": "inside"
            },
            "colorscale": [
             [
              0,
              "rgb(20,44,66)"
             ],
             [
              1,
              "rgb(90,179,244)"
             ]
            ],
            "type": "histogram2d"
           }
          ],
          "histogram2dcontour": [
           {
            "colorbar": {
             "outlinewidth": 0,
             "tickcolor": "rgb(237,237,237)",
             "ticklen": 6,
             "ticks": "inside"
            },
            "colorscale": [
             [
              0,
              "rgb(20,44,66)"
             ],
             [
              1,
              "rgb(90,179,244)"
             ]
            ],
            "type": "histogram2dcontour"
           }
          ],
          "mesh3d": [
           {
            "colorbar": {
             "outlinewidth": 0,
             "tickcolor": "rgb(237,237,237)",
             "ticklen": 6,
             "ticks": "inside"
            },
            "type": "mesh3d"
           }
          ],
          "parcoords": [
           {
            "line": {
             "colorbar": {
              "outlinewidth": 0,
              "tickcolor": "rgb(237,237,237)",
              "ticklen": 6,
              "ticks": "inside"
             }
            },
            "type": "parcoords"
           }
          ],
          "pie": [
           {
            "automargin": true,
            "type": "pie"
           }
          ],
          "scatter": [
           {
            "fillpattern": {
             "fillmode": "overlay",
             "size": 10,
             "solidity": 0.2
            },
            "type": "scatter"
           }
          ],
          "scatter3d": [
           {
            "line": {
             "colorbar": {
              "outlinewidth": 0,
              "tickcolor": "rgb(237,237,237)",
              "ticklen": 6,
              "ticks": "inside"
             }
            },
            "marker": {
             "colorbar": {
              "outlinewidth": 0,
              "tickcolor": "rgb(237,237,237)",
              "ticklen": 6,
              "ticks": "inside"
             }
            },
            "type": "scatter3d"
           }
          ],
          "scattercarpet": [
           {
            "marker": {
             "colorbar": {
              "outlinewidth": 0,
              "tickcolor": "rgb(237,237,237)",
              "ticklen": 6,
              "ticks": "inside"
             }
            },
            "type": "scattercarpet"
           }
          ],
          "scattergeo": [
           {
            "marker": {
             "colorbar": {
              "outlinewidth": 0,
              "tickcolor": "rgb(237,237,237)",
              "ticklen": 6,
              "ticks": "inside"
             }
            },
            "type": "scattergeo"
           }
          ],
          "scattergl": [
           {
            "marker": {
             "colorbar": {
              "outlinewidth": 0,
              "tickcolor": "rgb(237,237,237)",
              "ticklen": 6,
              "ticks": "inside"
             }
            },
            "type": "scattergl"
           }
          ],
          "scattermap": [
           {
            "marker": {
             "colorbar": {
              "outlinewidth": 0,
              "tickcolor": "rgb(237,237,237)",
              "ticklen": 6,
              "ticks": "inside"
             }
            },
            "type": "scattermap"
           }
          ],
          "scattermapbox": [
           {
            "marker": {
             "colorbar": {
              "outlinewidth": 0,
              "tickcolor": "rgb(237,237,237)",
              "ticklen": 6,
              "ticks": "inside"
             }
            },
            "type": "scattermapbox"
           }
          ],
          "scatterpolar": [
           {
            "marker": {
             "colorbar": {
              "outlinewidth": 0,
              "tickcolor": "rgb(237,237,237)",
              "ticklen": 6,
              "ticks": "inside"
             }
            },
            "type": "scatterpolar"
           }
          ],
          "scatterpolargl": [
           {
            "marker": {
             "colorbar": {
              "outlinewidth": 0,
              "tickcolor": "rgb(237,237,237)",
              "ticklen": 6,
              "ticks": "inside"
             }
            },
            "type": "scatterpolargl"
           }
          ],
          "scatterternary": [
           {
            "marker": {
             "colorbar": {
              "outlinewidth": 0,
              "tickcolor": "rgb(237,237,237)",
              "ticklen": 6,
              "ticks": "inside"
             }
            },
            "type": "scatterternary"
           }
          ],
          "surface": [
           {
            "colorbar": {
             "outlinewidth": 0,
             "tickcolor": "rgb(237,237,237)",
             "ticklen": 6,
             "ticks": "inside"
            },
            "colorscale": [
             [
              0,
              "rgb(20,44,66)"
             ],
             [
              1,
              "rgb(90,179,244)"
             ]
            ],
            "type": "surface"
           }
          ],
          "table": [
           {
            "cells": {
             "fill": {
              "color": "rgb(237,237,237)"
             },
             "line": {
              "color": "white"
             }
            },
            "header": {
             "fill": {
              "color": "rgb(217,217,217)"
             },
             "line": {
              "color": "white"
             }
            },
            "type": "table"
           }
          ]
         },
         "layout": {
          "annotationdefaults": {
           "arrowhead": 0,
           "arrowwidth": 1
          },
          "autotypenumbers": "strict",
          "coloraxis": {
           "colorbar": {
            "outlinewidth": 0,
            "tickcolor": "rgb(237,237,237)",
            "ticklen": 6,
            "ticks": "inside"
           }
          },
          "colorscale": {
           "sequential": [
            [
             0,
             "rgb(20,44,66)"
            ],
            [
             1,
             "rgb(90,179,244)"
            ]
           ],
           "sequentialminus": [
            [
             0,
             "rgb(20,44,66)"
            ],
            [
             1,
             "rgb(90,179,244)"
            ]
           ]
          },
          "colorway": [
           "#277da1",
           "#577590",
           "#4d908e",
           "#43aa8b",
           "#90be6d",
           "#f9c74f",
           "#f9844a",
           "#f8961e",
           "#f3722c",
           "#f94144",
           "#a8dce2",
           "#b3bfc9",
           "#a8cfc9",
           "#a8dfd2",
           "#d2e8c0",
           "#fde7a6",
           "#f9cfbd",
           "#fbd3a7",
           "#f9b39c",
           "#f9a3a5"
          ],
          "font": {
           "color": "black",
           "family": "Helvetica, sans-serif",
           "size": 14
          },
          "geo": {
           "bgcolor": "white",
           "lakecolor": "white",
           "landcolor": "rgb(237,237,237)",
           "showlakes": true,
           "showland": true,
           "subunitcolor": "white"
          },
          "hoverlabel": {
           "align": "left"
          },
          "hovermode": "closest",
          "paper_bgcolor": "rgba(0,0,0,0)",
          "plot_bgcolor": "rgba(0,0,0,0)",
          "polar": {
           "angularaxis": {
            "gridcolor": "white",
            "linecolor": "white",
            "showgrid": true,
            "tickcolor": "rgb(51,51,51)",
            "ticks": "outside"
           },
           "bgcolor": "rgb(237,237,237)",
           "radialaxis": {
            "gridcolor": "white",
            "linecolor": "white",
            "showgrid": true,
            "tickcolor": "rgb(51,51,51)",
            "ticks": "outside"
           }
          },
          "scene": {
           "xaxis": {
            "backgroundcolor": "rgb(237,237,237)",
            "gridcolor": "white",
            "gridwidth": 2,
            "linecolor": "white",
            "showbackground": true,
            "showgrid": true,
            "tickcolor": "rgb(51,51,51)",
            "ticks": "outside",
            "zerolinecolor": "white"
           },
           "yaxis": {
            "backgroundcolor": "rgb(237,237,237)",
            "gridcolor": "white",
            "gridwidth": 2,
            "linecolor": "white",
            "showbackground": true,
            "showgrid": true,
            "tickcolor": "rgb(51,51,51)",
            "ticks": "outside",
            "zerolinecolor": "white"
           },
           "zaxis": {
            "backgroundcolor": "rgb(237,237,237)",
            "gridcolor": "white",
            "gridwidth": 2,
            "linecolor": "white",
            "showbackground": true,
            "showgrid": true,
            "tickcolor": "rgb(51,51,51)",
            "ticks": "outside",
            "zerolinecolor": "white"
           }
          },
          "shapedefaults": {
           "fillcolor": "black",
           "line": {
            "width": 0
           },
           "opacity": 0.3
          },
          "ternary": {
           "aaxis": {
            "gridcolor": "white",
            "linecolor": "white",
            "showgrid": true,
            "tickcolor": "rgb(51,51,51)",
            "ticks": "outside"
           },
           "baxis": {
            "gridcolor": "white",
            "linecolor": "white",
            "showgrid": true,
            "tickcolor": "rgb(51,51,51)",
            "ticks": "outside"
           },
           "bgcolor": "rgb(237,237,237)",
           "caxis": {
            "gridcolor": "white",
            "linecolor": "white",
            "showgrid": true,
            "tickcolor": "rgb(51,51,51)",
            "ticks": "outside"
           }
          },
          "xaxis": {
           "automargin": true,
           "gridcolor": "white",
           "linecolor": "white",
           "showgrid": true,
           "tickcolor": "rgb(51,51,51)",
           "ticks": "outside",
           "title": {
            "standoff": 15
           },
           "zerolinecolor": "white"
          },
          "yaxis": {
           "automargin": true,
           "gridcolor": "white",
           "linecolor": "white",
           "showgrid": true,
           "tickcolor": "rgb(51,51,51)",
           "ticks": "outside",
           "title": {
            "standoff": 15
           },
           "zerolinecolor": "white"
          }
         }
        },
        "xaxis": {
         "anchor": "y",
         "domain": [
          0,
          0.49
         ],
         "title": {
          "text": "scenario_id"
         }
        },
        "xaxis2": {
         "anchor": "y2",
         "domain": [
          0.51,
          1
         ],
         "matches": "x",
         "title": {
          "text": "scenario_id"
         }
        },
        "yaxis": {
         "anchor": "x",
         "domain": [
          0,
          1
         ],
         "title": {
          "text": "Emissions [lbCO2]"
         }
        },
        "yaxis2": {
         "anchor": "x2",
         "domain": [
          0,
          1
         ],
         "matches": "y",
         "showticklabels": false
        }
       }
      }
     },
     "metadata": {},
     "output_type": "display_data"
    }
   ],
   "source": [
    "from src.visuals import plot_total_emissions_bar\n",
    "\n",
    "df = source_energy.copy()\n",
    "\n",
    "plot_total_emissions_bar(df, unit_mode=\"IP\")"
   ]
  }
 ],
 "metadata": {
  "kernelspec": {
   "display_name": "venv",
   "language": "python",
   "name": "python3"
  },
  "language_info": {
   "codemirror_mode": {
    "name": "ipython",
    "version": 3
   },
   "file_extension": ".py",
   "mimetype": "text/x-python",
   "name": "python",
   "nbconvert_exporter": "python",
   "pygments_lexer": "ipython3",
   "version": "3.13.5"
  }
 },
 "nbformat": 4,
 "nbformat_minor": 5
}
